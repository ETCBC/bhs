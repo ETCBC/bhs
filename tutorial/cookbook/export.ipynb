{
 "cells": [
  {
   "cell_type": "code",
   "execution_count": 4,
   "id": "aad674cb-5dbc-4959-b5a8-a2aba6f5fe8c",
   "metadata": {},
   "outputs": [],
   "source": [
    "from tf.app import use\n",
    "A = use(\"etcbc/bhsa\", hoist=globals())\n",
    "\n",
    "jussive1='''\n",
    "clause\n",
    "    word lex=>L= language=Hebrew\n",
    "    < word language=Hebrew sp=verb vt=impf ps=p1|p2|p3 vbe#H=\n",
    "'''\n",
    "results  = A.search(jussive1)\n",
    "\n",
    "A.export(results)"
   ]
  },
  {
   "cell_type": "code",
   "execution_count": null,
   "id": "562542c5-951c-4160-b3d1-7976e8d8d120",
   "metadata": {},
   "outputs": [],
   "source": []
  }
 ],
 "metadata": {
  "kernelspec": {
   "display_name": "Python 3 (ipykernel)",
   "language": "python",
   "name": "python3"
  },
  "language_info": {
   "codemirror_mode": {
    "name": "ipython",
    "version": 3
   },
   "file_extension": ".py",
   "mimetype": "text/x-python",
   "name": "python",
   "nbconvert_exporter": "python",
   "pygments_lexer": "ipython3",
   "version": "3.10.4"
  }
 },
 "nbformat": 4,
 "nbformat_minor": 5
}
