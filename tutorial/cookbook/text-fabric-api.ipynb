{
 "cells": [
  {
   "cell_type": "markdown",
   "id": "aeed06fd-788f-468c-bace-9efaeb929c62",
   "metadata": {},
   "source": [
    "# Reflection on Unlocking Texts\n",
    "\n",
    "The [position paper](https://osf.io/u6vb4) by Neil Jefferies at al. (Bodleian Library Oxford)\n",
    "is searching for an Interoperable Text Format.\n",
    "\n",
    "So am I, and Text-Fabric is my practical answer for a number of use cases\n",
    "(by no means all possible use cases).\n",
    "\n",
    "[Text-Fabric](https://github.com/annotation/text-fabric)\n",
    "exists for 6 years under its name, plus another 3 years as its precursor\n",
    "[LAF-Fabric](https://laf-fabric.readthedocs.io/en/latest/texts/welcome.html).\n",
    "I have applied it to a number of\n",
    "[corpora](https://annotation.github.io/text-fabric/tf/about/corpora.html)\n",
    "and it has proved to be useful in research workflows."
   ]
  },
  {
   "cell_type": "markdown",
   "id": "2ccc01b2-5e49-474b-bcaf-6fe3d4d0dc30",
   "metadata": {},
   "source": [
    "In this notebook I want to demonstrate some of the ideas and concepts that were hinted at during\n",
    "a workshop on 2023-01-26 in Oxford."
   ]
  },
  {
   "cell_type": "markdown",
   "id": "8214df36-50b1-4ad1-bef5-c46e0e75f9ba",
   "metadata": {},
   "source": [
    "# Addressing and displaying text fragments\n",
    "\n",
    "From the position paper:\n",
    "\n",
    "> Fragment Addressing\n",
    "This bottom-up approach starts by considering the range of text file formats under consideration for this proof-of-concept phase.\n",
    "> Complex formats, which can include embedded binary objects,\n",
    "requiring specialised software to display or otherwise interact with.\n",
    "\n",
    "But why should we interact with texts in the source formats in which they come to us?\n",
    "Most likely they have already been converted many times over from the time they were digitally born \n",
    "till the moment they arrive at the screen of your laptop.\n",
    "\n",
    "We can add another conversion so that we facilitate the operations on text that we are interested in.\n",
    "\n",
    "And yes, the position paper states, a bit later:\n",
    "\n",
    "> However, at this stage, it appears that it would be advantageous\n",
    "to also have a higher level scheme that operates in a more “human-friendly”way, with word (or token) granularity and some sense of semantic structure at a level similar to Markdown or a light-TEI schema."
   ]
  },
  {
   "cell_type": "markdown",
   "id": "1e64b744-681a-4726-9464-a8ff5153c7dc",
   "metadata": {},
   "source": [
    "This is a nice starting point, except that instead of \"Markdown or a light-TEI scheme\" I would opt \n",
    "for an abstract data model: the graph with nodes and edges.\n",
    "\n",
    "Because we can then operate on the very abstract structure of text and dress that up with annotations as needed.\n",
    "\n",
    "What does a text graph look like? A graph is a set of nodes plus a set of edges between nodes.\n",
    "But text has a bit more structure than that: it has the notion of sequence and embedding.\n",
    "\n",
    "In Text-Fabric the nodes are everything you can address: first of all the textual positions (*slots*)\n",
    "but also subsets of slots, which may represent pages, lines, sentences, lexemes, or whatever,\n",
    "up to the modeller.\n",
    "\n",
    "The abstract model does not contain the text itself. The text is a set of annotations (features) to\n",
    "the slots."
   ]
  },
  {
   "cell_type": "markdown",
   "id": "0beda2e8-0209-43a0-a11b-70ed43b085b9",
   "metadata": {
    "tags": []
   },
   "source": [
    "## The BHSA\n",
    "\n",
    "Enough talk, let's see this in practice.\n",
    "The Biblia Hebraica Stuttgartensia (BHS) is available as a Text-Fabric dataset,\n",
    "the [BHS Amstelodamensis](https://github.com/ETCBC/bhsa).\n",
    "\n",
    "What I'm about to show you in a moment, you can do yourself by installing python, and then\n",
    "jupyter lab and text-fabric (`pip install text-fabric`).\n",
    "\n",
    "Fire up a notebook, and mimic what you see here. Everything is open source,\n",
    "and all data that is needed will be downloaded to your computer when needed.\n",
    "\n",
    "We start by importing text-fabric, `tf` in short."
   ]
  },
  {
   "cell_type": "code",
   "execution_count": 1,
   "id": "1c933a52-c36d-47f8-95e4-90a348d34b45",
   "metadata": {},
   "outputs": [],
   "source": [
    "from tf.app import use"
   ]
  },
  {
   "cell_type": "markdown",
   "id": "6f35a46f-e709-441a-a404-6c4e7730ec6f",
   "metadata": {},
   "source": [
    "Then we can `use` our corpus. We retrieve the corpus by its location on GitHub,\n",
    "under the `ETCBC` organisation, in the repo `bhsa`."
   ]
  },
  {
   "cell_type": "code",
   "execution_count": 2,
   "id": "9c045d11-3ae9-4a7f-91df-81368d3eb6df",
   "metadata": {},
   "outputs": [
    {
     "data": {
      "text/markdown": [
       "**Locating corpus resources ...**"
      ],
      "text/plain": [
       "<IPython.core.display.Markdown object>"
      ]
     },
     "metadata": {},
     "output_type": "display_data"
    },
    {
     "data": {
      "text/html": [
       "<b title=\"local release\">app:</b> <span title=\"rv1.8=#eb1eef532de43783a548afed016937f55572bac6 offline under /Users/me/text-fabric-data/github\">~/text-fabric-data/github/ETCBC/bhsa/app</span>"
      ],
      "text/plain": [
       "<IPython.core.display.HTML object>"
      ]
     },
     "metadata": {},
     "output_type": "display_data"
    },
    {
     "data": {
      "text/html": [
       "<b title=\"local release\">data:</b> <span title=\"rv1.8=#eb1eef532de43783a548afed016937f55572bac6 offline under /Users/me/text-fabric-data/github\">~/text-fabric-data/github/ETCBC/bhsa/tf/2021</span>"
      ],
      "text/plain": [
       "<IPython.core.display.HTML object>"
      ]
     },
     "metadata": {},
     "output_type": "display_data"
    },
    {
     "data": {
      "text/html": [
       "<b title=\"local release\">data:</b> <span title=\"rv2.1=#aba4367b49750089e4e4122415a77cac43bd97bc offline under /Users/me/text-fabric-data/github\">~/text-fabric-data/github/etcbc/phono/tf/2021</span>"
      ],
      "text/plain": [
       "<IPython.core.display.HTML object>"
      ]
     },
     "metadata": {},
     "output_type": "display_data"
    },
    {
     "data": {
      "text/html": [
       "<b title=\"local release\">data:</b> <span title=\"rv2.1=#f45f6cc3c4f933dba6e649f49cdb14a40dcf333f offline under /Users/me/text-fabric-data/github\">~/text-fabric-data/github/ETCBC/parallels/tf/2021</span>"
      ],
      "text/plain": [
       "<IPython.core.display.HTML object>"
      ]
     },
     "metadata": {},
     "output_type": "display_data"
    },
    {
     "data": {
      "text/html": [
       "\n",
       "            <b>Text-Fabric:</b> <a target=\"_blank\" href=\"https://annotation.github.io/text-fabric/tf/cheatsheet.html\" title=\"text-fabric-api\">Text-Fabric API 11.1.2</a>, <a target=\"_blank\" href=\"https://github.com/ETCBC/bhsa/blob/master/app\" title=\"ETCBC/bhsa app\">ETCBC/bhsa/app  v3</a>, <a target=\"_blank\" href=\"https://annotation.github.io/text-fabric/tf/about/searchusage.html\" title=\"Search Templates Introduction and Reference\">Search Reference</a><br>\n",
       "            <b>Data:</b> <a target=\"_blank\" href=\"https://ETCBC.github.io/bhsa/\" title=\"provenance of BHSA = Biblia Hebraica Stuttgartensia Amstelodamensis\">BHSA</a>, <a target=\"_blank\" href=\"https://annotation.github.io/text-fabric/tf/writing/hebrew.html\" title=\"How TF features represent text\">Character table</a>, <a target=\"_blank\" href=\"https://ETCBC.github.io/bhsa/features/0_home\" title=\"BHSA feature documentation\">Feature docs</a><br>\n",
       "            <details class=\"nodeinfo\"><summary><b>Node types</b></summary>\n",
       "<table class=\"nodeinfo\">\n",
       "    <tr>\n",
       "        <th>Name</th>\n",
       "        <th># of nodes</th>\n",
       "        <th># slots/node</th>\n",
       "        <th>% coverage</th>\n",
       "    <tr>\n",
       "\n",
       "<tr>\n",
       "    <th>book</th>\n",
       "    <td>39</td>\n",
       "    <td>10938.21</td>\n",
       "    <td><b>100</b></td>\n",
       "</tr>\n",
       "\n",
       "<tr>\n",
       "    <th>chapter</th>\n",
       "    <td>929</td>\n",
       "    <td>459.19</td>\n",
       "    <td><b>100</b></td>\n",
       "</tr>\n",
       "\n",
       "<tr>\n",
       "    <th>lex</th>\n",
       "    <td>9230</td>\n",
       "    <td>46.22</td>\n",
       "    <td><b>100</b></td>\n",
       "</tr>\n",
       "\n",
       "<tr>\n",
       "    <th>verse</th>\n",
       "    <td>23213</td>\n",
       "    <td>18.38</td>\n",
       "    <td><b>100</b></td>\n",
       "</tr>\n",
       "\n",
       "<tr>\n",
       "    <th>half_verse</th>\n",
       "    <td>45179</td>\n",
       "    <td>9.44</td>\n",
       "    <td><b>100</b></td>\n",
       "</tr>\n",
       "\n",
       "<tr>\n",
       "    <th>sentence</th>\n",
       "    <td>63717</td>\n",
       "    <td>6.70</td>\n",
       "    <td><b>100</b></td>\n",
       "</tr>\n",
       "\n",
       "<tr>\n",
       "    <th>sentence_atom</th>\n",
       "    <td>64514</td>\n",
       "    <td>6.61</td>\n",
       "    <td><b>100</b></td>\n",
       "</tr>\n",
       "\n",
       "<tr>\n",
       "    <th>clause</th>\n",
       "    <td>88131</td>\n",
       "    <td>4.84</td>\n",
       "    <td><b>100</b></td>\n",
       "</tr>\n",
       "\n",
       "<tr>\n",
       "    <th>clause_atom</th>\n",
       "    <td>90704</td>\n",
       "    <td>4.70</td>\n",
       "    <td><b>100</b></td>\n",
       "</tr>\n",
       "\n",
       "<tr>\n",
       "    <th>phrase</th>\n",
       "    <td>253203</td>\n",
       "    <td>1.68</td>\n",
       "    <td><b>100</b></td>\n",
       "</tr>\n",
       "\n",
       "<tr>\n",
       "    <th>phrase_atom</th>\n",
       "    <td>267532</td>\n",
       "    <td>1.59</td>\n",
       "    <td><b>100</b></td>\n",
       "</tr>\n",
       "\n",
       "<tr>\n",
       "    <th>subphrase</th>\n",
       "    <td>113850</td>\n",
       "    <td>1.42</td>\n",
       "    <td>38</td>\n",
       "</tr>\n",
       "\n",
       "<tr>\n",
       "    <th><i>word</i></th>\n",
       "    <td>426590</td>\n",
       "    <td>1.00</td>\n",
       "    <td><b>100</b></td>\n",
       "</tr>\n",
       "</table></details>\n",
       "            <b>Sets:</b> no custom sets<br>\n",
       "            <b>Features:</b><br>\n",
       "<details><summary><b>Parallel Passages</b></summary>\n",
       "    <div class=\"fcorpus\">\n",
       "\n",
       "<div class=\"frow\">\n",
       "    <div class=\"fnamecat edge\">\n",
       "<a target=\"_blank\" href=\"https://nbviewer.jupyter.org/github/ETCBC/parallels/blob/master/programs/parallels.ipynb\" title=\"~/text-fabric-data/github/ETCBC/parallels/tf/2021/crossref.tf\">crossref</a>\n",
       "</div>\n",
       "<div class=\"fmono\">int</div>\n",
       "\n",
       "<span> 🆗 links between similar passages</span>\n",
       "\n",
       "</div>\n",
       "\n",
       "    </div>\n",
       "</details>\n",
       "\n",
       "<details><summary><b>BHSA = Biblia Hebraica Stuttgartensia Amstelodamensis</b></summary>\n",
       "    <div class=\"fcorpus\">\n",
       "\n",
       "<div class=\"frow\">\n",
       "    <div class=\"fnamecat \">\n",
       "<a target=\"_blank\" href=\"https://ETCBC.github.io/bhsa/features/book\" title=\"~/text-fabric-data/github/ETCBC/bhsa/tf/2021/book.tf\">book</a>\n",
       "</div>\n",
       "<div class=\"fmono\">str</div>\n",
       "\n",
       "<span> ✅ book name in Latin (Genesis; Numeri; Reges1; ...)</span>\n",
       "\n",
       "</div>\n",
       "\n",
       "<div class=\"frow\">\n",
       "    <div class=\"fnamecat \">\n",
       "<a target=\"_blank\" href=\"https://ETCBC.github.io/bhsa/features/book@ll\" title=\"~/text-fabric-data/github/ETCBC/bhsa/tf/2021/book@am.tf\">book@ll</a>\n",
       "</div>\n",
       "<div class=\"fmono\">str</div>\n",
       "\n",
       "<span> ✅ book name in amharic (ኣማርኛ)</span>\n",
       "\n",
       "</div>\n",
       "\n",
       "<div class=\"frow\">\n",
       "    <div class=\"fnamecat \">\n",
       "<a target=\"_blank\" href=\"https://ETCBC.github.io/bhsa/features/chapter\" title=\"~/text-fabric-data/github/ETCBC/bhsa/tf/2021/chapter.tf\">chapter</a>\n",
       "</div>\n",
       "<div class=\"fmono\">int</div>\n",
       "\n",
       "<span> ✅ chapter number (1; 2; 3; ...)</span>\n",
       "\n",
       "</div>\n",
       "\n",
       "<div class=\"frow\">\n",
       "    <div class=\"fnamecat \">\n",
       "<a target=\"_blank\" href=\"https://ETCBC.github.io/bhsa/features/code\" title=\"~/text-fabric-data/github/ETCBC/bhsa/tf/2021/code.tf\">code</a>\n",
       "</div>\n",
       "<div class=\"fmono\">int</div>\n",
       "\n",
       "<span> ✅ identifier of a clause atom relationship (0; 74; 367; ...)</span>\n",
       "\n",
       "</div>\n",
       "\n",
       "<div class=\"frow\">\n",
       "    <div class=\"fnamecat \">\n",
       "<a target=\"_blank\" href=\"https://ETCBC.github.io/bhsa/features/det\" title=\"~/text-fabric-data/github/ETCBC/bhsa/tf/2021/det.tf\">det</a>\n",
       "</div>\n",
       "<div class=\"fmono\">str</div>\n",
       "\n",
       "<span> ✅ determinedness of phrase(atom) (det; und; NA.)</span>\n",
       "\n",
       "</div>\n",
       "\n",
       "<div class=\"frow\">\n",
       "    <div class=\"fnamecat \">\n",
       "<a target=\"_blank\" href=\"https://ETCBC.github.io/bhsa/features/domain\" title=\"~/text-fabric-data/github/ETCBC/bhsa/tf/2021/domain.tf\">domain</a>\n",
       "</div>\n",
       "<div class=\"fmono\">str</div>\n",
       "\n",
       "<span> ✅ text type of clause (? (Unknown); N (narrative); D (discursive); Q (Quotation).)</span>\n",
       "\n",
       "</div>\n",
       "\n",
       "<div class=\"frow\">\n",
       "    <div class=\"fnamecat \">\n",
       "<a target=\"_blank\" href=\"https://ETCBC.github.io/bhsa/features/freq_lex\" title=\"~/text-fabric-data/github/ETCBC/bhsa/tf/2021/freq_lex.tf\">freq_lex</a>\n",
       "</div>\n",
       "<div class=\"fmono\">int</div>\n",
       "\n",
       "<span> ✅ frequency of lexemes</span>\n",
       "\n",
       "</div>\n",
       "\n",
       "<div class=\"frow\">\n",
       "    <div class=\"fnamecat \">\n",
       "<a target=\"_blank\" href=\"https://ETCBC.github.io/bhsa/features/function\" title=\"~/text-fabric-data/github/ETCBC/bhsa/tf/2021/function.tf\">function</a>\n",
       "</div>\n",
       "<div class=\"fmono\">str</div>\n",
       "\n",
       "<span> ✅ syntactic function of phrase (Cmpl; Objc; Pred; ...)</span>\n",
       "\n",
       "</div>\n",
       "\n",
       "<div class=\"frow\">\n",
       "    <div class=\"fnamecat \">\n",
       "<a target=\"_blank\" href=\"https://ETCBC.github.io/bhsa/features/g_cons\" title=\"~/text-fabric-data/github/ETCBC/bhsa/tf/2021/g_cons.tf\">g_cons</a>\n",
       "</div>\n",
       "<div class=\"fmono\">str</div>\n",
       "\n",
       "<span> ✅ word consonantal-transliterated (B R>CJT BR> >LHJM ...)</span>\n",
       "\n",
       "</div>\n",
       "\n",
       "<div class=\"frow\">\n",
       "    <div class=\"fnamecat \">\n",
       "<a target=\"_blank\" href=\"https://ETCBC.github.io/bhsa/features/g_cons_utf8\" title=\"~/text-fabric-data/github/ETCBC/bhsa/tf/2021/g_cons_utf8.tf\">g_cons_utf8</a>\n",
       "</div>\n",
       "<div class=\"fmono\">str</div>\n",
       "\n",
       "<span> ✅ word consonantal-Hebrew (ב ראשׁית ברא אלהים)</span>\n",
       "\n",
       "</div>\n",
       "\n",
       "<div class=\"frow\">\n",
       "    <div class=\"fnamecat \">\n",
       "<a target=\"_blank\" href=\"https://ETCBC.github.io/bhsa/features/g_lex\" title=\"~/text-fabric-data/github/ETCBC/bhsa/tf/2021/g_lex.tf\">g_lex</a>\n",
       "</div>\n",
       "<div class=\"fmono\">str</div>\n",
       "\n",
       "<span> ✅ lexeme pointed-transliterated (B.:- R;>CIJT B.@R@> >:ELOH ...)</span>\n",
       "\n",
       "</div>\n",
       "\n",
       "<div class=\"frow\">\n",
       "    <div class=\"fnamecat \">\n",
       "<a target=\"_blank\" href=\"https://ETCBC.github.io/bhsa/features/g_lex_utf8\" title=\"~/text-fabric-data/github/ETCBC/bhsa/tf/2021/g_lex_utf8.tf\">g_lex_utf8</a>\n",
       "</div>\n",
       "<div class=\"fmono\">str</div>\n",
       "\n",
       "<span> ✅ lexeme pointed-Hebrew (בְּ רֵאשִׁית בָּרָא אֱלֹה)</span>\n",
       "\n",
       "</div>\n",
       "\n",
       "<div class=\"frow\">\n",
       "    <div class=\"fnamecat \">\n",
       "<a target=\"_blank\" href=\"https://ETCBC.github.io/bhsa/features/g_word\" title=\"~/text-fabric-data/github/ETCBC/bhsa/tf/2021/g_word.tf\">g_word</a>\n",
       "</div>\n",
       "<div class=\"fmono\">str</div>\n",
       "\n",
       "<span> ✅ word pointed-transliterated (B.:- R;>CI73JT B.@R@74> >:ELOHI92JM)</span>\n",
       "\n",
       "</div>\n",
       "\n",
       "<div class=\"frow\">\n",
       "    <div class=\"fnamecat \">\n",
       "<a target=\"_blank\" href=\"https://ETCBC.github.io/bhsa/features/g_word_utf8\" title=\"~/text-fabric-data/github/ETCBC/bhsa/tf/2021/g_word_utf8.tf\">g_word_utf8</a>\n",
       "</div>\n",
       "<div class=\"fmono\">str</div>\n",
       "\n",
       "<span> ✅ word pointed-Hebrew (בְּ רֵאשִׁ֖ית בָּרָ֣א אֱלֹהִ֑ים)</span>\n",
       "\n",
       "</div>\n",
       "\n",
       "<div class=\"frow\">\n",
       "    <div class=\"fnamecat \">\n",
       "<a target=\"_blank\" href=\"https://ETCBC.github.io/bhsa/features/gloss\" title=\"~/text-fabric-data/github/ETCBC/bhsa/tf/2021/gloss.tf\">gloss</a>\n",
       "</div>\n",
       "<div class=\"fmono\">str</div>\n",
       "\n",
       "<span> 🆗 english translation of lexeme (beginning create god(s))</span>\n",
       "\n",
       "</div>\n",
       "\n",
       "<div class=\"frow\">\n",
       "    <div class=\"fnamecat \">\n",
       "<a target=\"_blank\" href=\"https://ETCBC.github.io/bhsa/features/gn\" title=\"~/text-fabric-data/github/ETCBC/bhsa/tf/2021/gn.tf\">gn</a>\n",
       "</div>\n",
       "<div class=\"fmono\">str</div>\n",
       "\n",
       "<span> ✅ grammatical gender (m; f; NA; unknown.)</span>\n",
       "\n",
       "</div>\n",
       "\n",
       "<div class=\"frow\">\n",
       "    <div class=\"fnamecat \">\n",
       "<a target=\"_blank\" href=\"https://ETCBC.github.io/bhsa/features/label\" title=\"~/text-fabric-data/github/ETCBC/bhsa/tf/2021/label.tf\">label</a>\n",
       "</div>\n",
       "<div class=\"fmono\">str</div>\n",
       "\n",
       "<span> ✅ (half-)verse label (half verses: A; B; C; verses:  GEN 01,02)</span>\n",
       "\n",
       "</div>\n",
       "\n",
       "<div class=\"frow\">\n",
       "    <div class=\"fnamecat \">\n",
       "<a target=\"_blank\" href=\"https://ETCBC.github.io/bhsa/features/language\" title=\"~/text-fabric-data/github/ETCBC/bhsa/tf/2021/language.tf\">language</a>\n",
       "</div>\n",
       "<div class=\"fmono\">str</div>\n",
       "\n",
       "<span> ✅ of word or lexeme (Hebrew; Aramaic.)</span>\n",
       "\n",
       "</div>\n",
       "\n",
       "<div class=\"frow\">\n",
       "    <div class=\"fnamecat \">\n",
       "<a target=\"_blank\" href=\"https://ETCBC.github.io/bhsa/features/lex\" title=\"~/text-fabric-data/github/ETCBC/bhsa/tf/2021/lex.tf\">lex</a>\n",
       "</div>\n",
       "<div class=\"fmono\">str</div>\n",
       "\n",
       "<span> ✅ lexeme consonantal-transliterated (B R>CJT/ BR>[ >LHJM/)</span>\n",
       "\n",
       "</div>\n",
       "\n",
       "<div class=\"frow\">\n",
       "    <div class=\"fnamecat \">\n",
       "<a target=\"_blank\" href=\"https://ETCBC.github.io/bhsa/features/lex_utf8\" title=\"~/text-fabric-data/github/ETCBC/bhsa/tf/2021/lex_utf8.tf\">lex_utf8</a>\n",
       "</div>\n",
       "<div class=\"fmono\">str</div>\n",
       "\n",
       "<span> ✅ lexeme consonantal-Hebrew (ב ראשׁית֜ ברא אלהים֜)</span>\n",
       "\n",
       "</div>\n",
       "\n",
       "<div class=\"frow\">\n",
       "    <div class=\"fnamecat \">\n",
       "<a target=\"_blank\" href=\"https://ETCBC.github.io/bhsa/features/ls\" title=\"~/text-fabric-data/github/ETCBC/bhsa/tf/2021/ls.tf\">ls</a>\n",
       "</div>\n",
       "<div class=\"fmono\">str</div>\n",
       "\n",
       "<span> ✅ lexical set, subclassification of part-of-speech (card; ques; mult)</span>\n",
       "\n",
       "</div>\n",
       "\n",
       "<div class=\"frow\">\n",
       "    <div class=\"fnamecat \">\n",
       "<a target=\"_blank\" href=\"https://ETCBC.github.io/bhsa/features/nametype\" title=\"~/text-fabric-data/github/ETCBC/bhsa/tf/2021/nametype.tf\">nametype</a>\n",
       "</div>\n",
       "<div class=\"fmono\">str</div>\n",
       "\n",
       "<span> ⚠️ named entity type (pers; mens; gens; topo; ppde.)</span>\n",
       "\n",
       "</div>\n",
       "\n",
       "<div class=\"frow\">\n",
       "    <div class=\"fnamecat \">\n",
       "<a target=\"_blank\" href=\"https://ETCBC.github.io/bhsa/features/nme\" title=\"~/text-fabric-data/github/ETCBC/bhsa/tf/2021/nme.tf\">nme</a>\n",
       "</div>\n",
       "<div class=\"fmono\">str</div>\n",
       "\n",
       "<span> ✅ nominal ending consonantal-transliterated (absent; n/a; JM, ...)</span>\n",
       "\n",
       "</div>\n",
       "\n",
       "<div class=\"frow\">\n",
       "    <div class=\"fnamecat \">\n",
       "<a target=\"_blank\" href=\"https://ETCBC.github.io/bhsa/features/nu\" title=\"~/text-fabric-data/github/ETCBC/bhsa/tf/2021/nu.tf\">nu</a>\n",
       "</div>\n",
       "<div class=\"fmono\">str</div>\n",
       "\n",
       "<span> ✅ grammatical number (sg; du; pl; NA; unknown.)</span>\n",
       "\n",
       "</div>\n",
       "\n",
       "<div class=\"frow\">\n",
       "    <div class=\"fnamecat \">\n",
       "<a target=\"_blank\" href=\"https://ETCBC.github.io/bhsa/features/number\" title=\"~/text-fabric-data/github/ETCBC/bhsa/tf/2021/number.tf\">number</a>\n",
       "</div>\n",
       "<div class=\"fmono\">int</div>\n",
       "\n",
       "<span> ✅ sequence number of an object within its context</span>\n",
       "\n",
       "</div>\n",
       "\n",
       "<div class=\"frow\">\n",
       "    <div class=\"fnamecat \">\n",
       "<a target=\"_blank\" href=\"https://ETCBC.github.io/bhsa/features/otype\" title=\"~/text-fabric-data/github/ETCBC/bhsa/tf/2021/otype.tf\">otype</a>\n",
       "</div>\n",
       "<div class=\"fmono\">str</div>\n",
       "\n",
       "<span> </span>\n",
       "\n",
       "</div>\n",
       "\n",
       "<div class=\"frow\">\n",
       "    <div class=\"fnamecat \">\n",
       "<a target=\"_blank\" href=\"https://ETCBC.github.io/bhsa/features/pargr\" title=\"~/text-fabric-data/github/ETCBC/bhsa/tf/2021/pargr.tf\">pargr</a>\n",
       "</div>\n",
       "<div class=\"fmono\">str</div>\n",
       "\n",
       "<span> 🆗 hierarchical paragraph number (1; 1.2; 1.2.3.4; ...)</span>\n",
       "\n",
       "</div>\n",
       "\n",
       "<div class=\"frow\">\n",
       "    <div class=\"fnamecat \">\n",
       "<a target=\"_blank\" href=\"https://ETCBC.github.io/bhsa/features/pdp\" title=\"~/text-fabric-data/github/ETCBC/bhsa/tf/2021/pdp.tf\">pdp</a>\n",
       "</div>\n",
       "<div class=\"fmono\">str</div>\n",
       "\n",
       "<span> ✅ phrase dependent part-of-speech (art; verb; subs; nmpr, ...)</span>\n",
       "\n",
       "</div>\n",
       "\n",
       "<div class=\"frow\">\n",
       "    <div class=\"fnamecat \">\n",
       "<a target=\"_blank\" href=\"https://ETCBC.github.io/bhsa/features/pfm\" title=\"~/text-fabric-data/github/ETCBC/bhsa/tf/2021/pfm.tf\">pfm</a>\n",
       "</div>\n",
       "<div class=\"fmono\">str</div>\n",
       "\n",
       "<span> ✅ preformative consonantal-transliterated (absent; n/a; J, ...)</span>\n",
       "\n",
       "</div>\n",
       "\n",
       "<div class=\"frow\">\n",
       "    <div class=\"fnamecat \">\n",
       "<a target=\"_blank\" href=\"https://ETCBC.github.io/bhsa/features/prs\" title=\"~/text-fabric-data/github/ETCBC/bhsa/tf/2021/prs.tf\">prs</a>\n",
       "</div>\n",
       "<div class=\"fmono\">str</div>\n",
       "\n",
       "<span> ✅ pronominal suffix consonantal-transliterated (absent; n/a; W; ...)</span>\n",
       "\n",
       "</div>\n",
       "\n",
       "<div class=\"frow\">\n",
       "    <div class=\"fnamecat \">\n",
       "<a target=\"_blank\" href=\"https://ETCBC.github.io/bhsa/features/prs_gn\" title=\"~/text-fabric-data/github/ETCBC/bhsa/tf/2021/prs_gn.tf\">prs_gn</a>\n",
       "</div>\n",
       "<div class=\"fmono\">str</div>\n",
       "\n",
       "<span> ✅ pronominal suffix gender (m; f; NA; unknown.)</span>\n",
       "\n",
       "</div>\n",
       "\n",
       "<div class=\"frow\">\n",
       "    <div class=\"fnamecat \">\n",
       "<a target=\"_blank\" href=\"https://ETCBC.github.io/bhsa/features/prs_nu\" title=\"~/text-fabric-data/github/ETCBC/bhsa/tf/2021/prs_nu.tf\">prs_nu</a>\n",
       "</div>\n",
       "<div class=\"fmono\">str</div>\n",
       "\n",
       "<span> ✅ pronominal suffix number (sg; du; pl; NA; unknown.)</span>\n",
       "\n",
       "</div>\n",
       "\n",
       "<div class=\"frow\">\n",
       "    <div class=\"fnamecat \">\n",
       "<a target=\"_blank\" href=\"https://ETCBC.github.io/bhsa/features/prs_ps\" title=\"~/text-fabric-data/github/ETCBC/bhsa/tf/2021/prs_ps.tf\">prs_ps</a>\n",
       "</div>\n",
       "<div class=\"fmono\">str</div>\n",
       "\n",
       "<span> ✅ pronominal suffix person (p1; p2; p3; NA; unknown.)</span>\n",
       "\n",
       "</div>\n",
       "\n",
       "<div class=\"frow\">\n",
       "    <div class=\"fnamecat \">\n",
       "<a target=\"_blank\" href=\"https://ETCBC.github.io/bhsa/features/ps\" title=\"~/text-fabric-data/github/ETCBC/bhsa/tf/2021/ps.tf\">ps</a>\n",
       "</div>\n",
       "<div class=\"fmono\">str</div>\n",
       "\n",
       "<span> ✅ grammatical person (p1; p2; p3; NA; unknown.)</span>\n",
       "\n",
       "</div>\n",
       "\n",
       "<div class=\"frow\">\n",
       "    <div class=\"fnamecat \">\n",
       "<a target=\"_blank\" href=\"https://ETCBC.github.io/bhsa/features/qere\" title=\"~/text-fabric-data/github/ETCBC/bhsa/tf/2021/qere.tf\">qere</a>\n",
       "</div>\n",
       "<div class=\"fmono\">str</div>\n",
       "\n",
       "<span> ✅ word pointed-transliterated masoretic reading correction</span>\n",
       "\n",
       "</div>\n",
       "\n",
       "<div class=\"frow\">\n",
       "    <div class=\"fnamecat \">\n",
       "<a target=\"_blank\" href=\"https://ETCBC.github.io/bhsa/features/qere_trailer\" title=\"~/text-fabric-data/github/ETCBC/bhsa/tf/2021/qere_trailer.tf\">qere_trailer</a>\n",
       "</div>\n",
       "<div class=\"fmono\">str</div>\n",
       "\n",
       "<span> ✅ interword material -pointed-transliterated (Masoretic correction)</span>\n",
       "\n",
       "</div>\n",
       "\n",
       "<div class=\"frow\">\n",
       "    <div class=\"fnamecat \">\n",
       "<a target=\"_blank\" href=\"https://ETCBC.github.io/bhsa/features/qere_trailer_utf8\" title=\"~/text-fabric-data/github/ETCBC/bhsa/tf/2021/qere_trailer_utf8.tf\">qere_trailer_utf8</a>\n",
       "</div>\n",
       "<div class=\"fmono\">str</div>\n",
       "\n",
       "<span> ✅ interword material -pointed-transliterated (Masoretic correction)</span>\n",
       "\n",
       "</div>\n",
       "\n",
       "<div class=\"frow\">\n",
       "    <div class=\"fnamecat \">\n",
       "<a target=\"_blank\" href=\"https://ETCBC.github.io/bhsa/features/qere_utf8\" title=\"~/text-fabric-data/github/ETCBC/bhsa/tf/2021/qere_utf8.tf\">qere_utf8</a>\n",
       "</div>\n",
       "<div class=\"fmono\">str</div>\n",
       "\n",
       "<span> ✅ word pointed-Hebrew masoretic reading correction</span>\n",
       "\n",
       "</div>\n",
       "\n",
       "<div class=\"frow\">\n",
       "    <div class=\"fnamecat \">\n",
       "<a target=\"_blank\" href=\"https://ETCBC.github.io/bhsa/features/rank_lex\" title=\"~/text-fabric-data/github/ETCBC/bhsa/tf/2021/rank_lex.tf\">rank_lex</a>\n",
       "</div>\n",
       "<div class=\"fmono\">int</div>\n",
       "\n",
       "<span> ✅ ranking of lexemes based on freqnuecy</span>\n",
       "\n",
       "</div>\n",
       "\n",
       "<div class=\"frow\">\n",
       "    <div class=\"fnamecat \">\n",
       "<a target=\"_blank\" href=\"https://ETCBC.github.io/bhsa/features/rela\" title=\"~/text-fabric-data/github/ETCBC/bhsa/tf/2021/rela.tf\">rela</a>\n",
       "</div>\n",
       "<div class=\"fmono\">str</div>\n",
       "\n",
       "<span> ✅ linguistic relation between clause/(sub)phrase(atom) (ADJ; MOD; ATR; ...)</span>\n",
       "\n",
       "</div>\n",
       "\n",
       "<div class=\"frow\">\n",
       "    <div class=\"fnamecat \">\n",
       "<a target=\"_blank\" href=\"https://ETCBC.github.io/bhsa/features/sp\" title=\"~/text-fabric-data/github/ETCBC/bhsa/tf/2021/sp.tf\">sp</a>\n",
       "</div>\n",
       "<div class=\"fmono\">str</div>\n",
       "\n",
       "<span> ✅ part-of-speech (art; verb; subs; nmpr, ...)</span>\n",
       "\n",
       "</div>\n",
       "\n",
       "<div class=\"frow\">\n",
       "    <div class=\"fnamecat \">\n",
       "<a target=\"_blank\" href=\"https://ETCBC.github.io/bhsa/features/st\" title=\"~/text-fabric-data/github/ETCBC/bhsa/tf/2021/st.tf\">st</a>\n",
       "</div>\n",
       "<div class=\"fmono\">str</div>\n",
       "\n",
       "<span> ✅ state of a noun (a (absolute); c (construct); e (emphatic).)</span>\n",
       "\n",
       "</div>\n",
       "\n",
       "<div class=\"frow\">\n",
       "    <div class=\"fnamecat \">\n",
       "<a target=\"_blank\" href=\"https://ETCBC.github.io/bhsa/features/tab\" title=\"~/text-fabric-data/github/ETCBC/bhsa/tf/2021/tab.tf\">tab</a>\n",
       "</div>\n",
       "<div class=\"fmono\">int</div>\n",
       "\n",
       "<span> ✅ clause atom: its level in the linguistic embedding</span>\n",
       "\n",
       "</div>\n",
       "\n",
       "<div class=\"frow\">\n",
       "    <div class=\"fnamecat \">\n",
       "<a target=\"_blank\" href=\"https://ETCBC.github.io/bhsa/features/trailer\" title=\"~/text-fabric-data/github/ETCBC/bhsa/tf/2021/trailer.tf\">trailer</a>\n",
       "</div>\n",
       "<div class=\"fmono\">str</div>\n",
       "\n",
       "<span> ✅ interword material pointed-transliterated (& 00 05 00_P ...)</span>\n",
       "\n",
       "</div>\n",
       "\n",
       "<div class=\"frow\">\n",
       "    <div class=\"fnamecat \">\n",
       "<a target=\"_blank\" href=\"https://ETCBC.github.io/bhsa/features/trailer_utf8\" title=\"~/text-fabric-data/github/ETCBC/bhsa/tf/2021/trailer_utf8.tf\">trailer_utf8</a>\n",
       "</div>\n",
       "<div class=\"fmono\">str</div>\n",
       "\n",
       "<span> ✅ interword material pointed-Hebrew (־ ׃)</span>\n",
       "\n",
       "</div>\n",
       "\n",
       "<div class=\"frow\">\n",
       "    <div class=\"fnamecat \">\n",
       "<a target=\"_blank\" href=\"https://ETCBC.github.io/bhsa/features/txt\" title=\"~/text-fabric-data/github/ETCBC/bhsa/tf/2021/txt.tf\">txt</a>\n",
       "</div>\n",
       "<div class=\"fmono\">str</div>\n",
       "\n",
       "<span> ✅ text type of clause and surrounding (repetion of ? N D Q as in feature domain)</span>\n",
       "\n",
       "</div>\n",
       "\n",
       "<div class=\"frow\">\n",
       "    <div class=\"fnamecat \">\n",
       "<a target=\"_blank\" href=\"https://ETCBC.github.io/bhsa/features/typ\" title=\"~/text-fabric-data/github/ETCBC/bhsa/tf/2021/typ.tf\">typ</a>\n",
       "</div>\n",
       "<div class=\"fmono\">str</div>\n",
       "\n",
       "<span> ✅ clause/phrase(atom) type (VP; NP; Ellp; Ptcp; WayX)</span>\n",
       "\n",
       "</div>\n",
       "\n",
       "<div class=\"frow\">\n",
       "    <div class=\"fnamecat \">\n",
       "<a target=\"_blank\" href=\"https://ETCBC.github.io/bhsa/features/uvf\" title=\"~/text-fabric-data/github/ETCBC/bhsa/tf/2021/uvf.tf\">uvf</a>\n",
       "</div>\n",
       "<div class=\"fmono\">str</div>\n",
       "\n",
       "<span> ✅ univalent final consonant consonantal-transliterated (absent; N; J; ...)</span>\n",
       "\n",
       "</div>\n",
       "\n",
       "<div class=\"frow\">\n",
       "    <div class=\"fnamecat \">\n",
       "<a target=\"_blank\" href=\"https://ETCBC.github.io/bhsa/features/vbe\" title=\"~/text-fabric-data/github/ETCBC/bhsa/tf/2021/vbe.tf\">vbe</a>\n",
       "</div>\n",
       "<div class=\"fmono\">str</div>\n",
       "\n",
       "<span> ✅ verbal ending consonantal-transliterated (n/a; W; ...)</span>\n",
       "\n",
       "</div>\n",
       "\n",
       "<div class=\"frow\">\n",
       "    <div class=\"fnamecat \">\n",
       "<a target=\"_blank\" href=\"https://ETCBC.github.io/bhsa/features/vbs\" title=\"~/text-fabric-data/github/ETCBC/bhsa/tf/2021/vbs.tf\">vbs</a>\n",
       "</div>\n",
       "<div class=\"fmono\">str</div>\n",
       "\n",
       "<span> ✅ root formation consonantal-transliterated (absent; n/a; H; ...)</span>\n",
       "\n",
       "</div>\n",
       "\n",
       "<div class=\"frow\">\n",
       "    <div class=\"fnamecat \">\n",
       "<a target=\"_blank\" href=\"https://ETCBC.github.io/bhsa/features/verse\" title=\"~/text-fabric-data/github/ETCBC/bhsa/tf/2021/verse.tf\">verse</a>\n",
       "</div>\n",
       "<div class=\"fmono\">int</div>\n",
       "\n",
       "<span> ✅ verse number</span>\n",
       "\n",
       "</div>\n",
       "\n",
       "<div class=\"frow\">\n",
       "    <div class=\"fnamecat \">\n",
       "<a target=\"_blank\" href=\"https://ETCBC.github.io/bhsa/features/voc_lex\" title=\"~/text-fabric-data/github/ETCBC/bhsa/tf/2021/voc_lex.tf\">voc_lex</a>\n",
       "</div>\n",
       "<div class=\"fmono\">str</div>\n",
       "\n",
       "<span> ✅ vocalized lexeme pointed-transliterated (B.: R;>CIJT BR> >:ELOHIJM)</span>\n",
       "\n",
       "</div>\n",
       "\n",
       "<div class=\"frow\">\n",
       "    <div class=\"fnamecat \">\n",
       "<a target=\"_blank\" href=\"https://ETCBC.github.io/bhsa/features/voc_lex_utf8\" title=\"~/text-fabric-data/github/ETCBC/bhsa/tf/2021/voc_lex_utf8.tf\">voc_lex_utf8</a>\n",
       "</div>\n",
       "<div class=\"fmono\">str</div>\n",
       "\n",
       "<span> ✅ vocalized lexeme pointed-Hebrew (בְּ רֵאשִׁית ברא אֱלֹהִים)</span>\n",
       "\n",
       "</div>\n",
       "\n",
       "<div class=\"frow\">\n",
       "    <div class=\"fnamecat \">\n",
       "<a target=\"_blank\" href=\"https://ETCBC.github.io/bhsa/features/vs\" title=\"~/text-fabric-data/github/ETCBC/bhsa/tf/2021/vs.tf\">vs</a>\n",
       "</div>\n",
       "<div class=\"fmono\">str</div>\n",
       "\n",
       "<span> ✅ verbal stem (qal; piel; hif; apel; pael)</span>\n",
       "\n",
       "</div>\n",
       "\n",
       "<div class=\"frow\">\n",
       "    <div class=\"fnamecat \">\n",
       "<a target=\"_blank\" href=\"https://ETCBC.github.io/bhsa/features/vt\" title=\"~/text-fabric-data/github/ETCBC/bhsa/tf/2021/vt.tf\">vt</a>\n",
       "</div>\n",
       "<div class=\"fmono\">str</div>\n",
       "\n",
       "<span> ✅ verbal tense (perf; impv; wayq; infc)</span>\n",
       "\n",
       "</div>\n",
       "\n",
       "<div class=\"frow\">\n",
       "    <div class=\"fnamecat edge\">\n",
       "<a target=\"_blank\" href=\"https://ETCBC.github.io/bhsa/features/mother\" title=\"~/text-fabric-data/github/ETCBC/bhsa/tf/2021/mother.tf\">mother</a>\n",
       "</div>\n",
       "<div class=\"fmono\">none</div>\n",
       "\n",
       "<span> ✅ linguistic dependency between textual objects</span>\n",
       "\n",
       "</div>\n",
       "\n",
       "<div class=\"frow\">\n",
       "    <div class=\"fnamecat edge\">\n",
       "<a target=\"_blank\" href=\"https://ETCBC.github.io/bhsa/features/oslots\" title=\"~/text-fabric-data/github/ETCBC/bhsa/tf/2021/oslots.tf\">oslots</a>\n",
       "</div>\n",
       "<div class=\"fmono\">none</div>\n",
       "\n",
       "<span> </span>\n",
       "\n",
       "</div>\n",
       "\n",
       "    </div>\n",
       "</details>\n",
       "\n",
       "<details><summary><b>Phonetic Transcriptions</b></summary>\n",
       "    <div class=\"fcorpus\">\n",
       "\n",
       "<div class=\"frow\">\n",
       "    <div class=\"fnamecat \">\n",
       "<a target=\"_blank\" href=\"https://nbviewer.jupyter.org/github/etcbc/phono/blob/master/programs/phono.ipynb\" title=\"~/text-fabric-data/github/etcbc/phono/tf/2021/phono.tf\">phono</a>\n",
       "</div>\n",
       "<div class=\"fmono\">str</div>\n",
       "\n",
       "<span> 🆗 phonological transcription (bᵊ rēšˌîṯ bārˈā ʔᵉlōhˈîm)</span>\n",
       "\n",
       "</div>\n",
       "\n",
       "<div class=\"frow\">\n",
       "    <div class=\"fnamecat \">\n",
       "<a target=\"_blank\" href=\"https://nbviewer.jupyter.org/github/etcbc/phono/blob/master/programs/phono.ipynb\" title=\"~/text-fabric-data/github/etcbc/phono/tf/2021/phono_trailer.tf\">phono_trailer</a>\n",
       "</div>\n",
       "<div class=\"fmono\">str</div>\n",
       "\n",
       "<span> 🆗 interword material in phonological transcription</span>\n",
       "\n",
       "</div>\n",
       "\n",
       "    </div>\n",
       "</details>\n",
       "\n"
      ],
      "text/plain": [
       "<IPython.core.display.HTML object>"
      ]
     },
     "metadata": {},
     "output_type": "display_data"
    },
    {
     "data": {
      "text/html": [
       "<style>tr.tf.ltr, td.tf.ltr, th.tf.ltr { text-align: left ! important;}\n",
       "tr.tf.rtl, td.tf.rtl, th.tf.rtl { text-align: right ! important;}\n",
       "@font-face {\n",
       "  font-family: \"Gentium Plus\";\n",
       "  src: local('Gentium Plus'), local('GentiumPlus'),\n",
       "    url('/server/static/fonts/GentiumPlus-R.woff') format('woff'),\n",
       "    url('https://github.com/annotation/text-fabric/blob/master/tf/server/static/fonts/GentiumPlus-R.woff?raw=true') format('woff');\n",
       "}\n",
       "\n",
       "@font-face {\n",
       "  font-family: \"Ezra SIL\";\n",
       "  src: local('Ezra SIL'), local('EzraSIL'),\n",
       "    url('/server/static/fonts/SILEOT.woff') format('woff'),\n",
       "    url('https://github.com/annotation/text-fabric/blob/master/tf/server/static/fonts/SILEOT.woff?raw=true') format('woff');\n",
       "}\n",
       "\n",
       "@font-face {\n",
       "  font-family: \"SBL Hebrew\";\n",
       "  src: local('SBL Hebrew'), local('SBLHebrew'),\n",
       "    url('/server/static/fonts/SBL_Hbrw.woff') format('woff'),\n",
       "    url('https://github.com/annotation/text-fabric/blob/master/tf/server/static/fonts/SBL_Hbrw.woff?raw=true') format('woff');\n",
       "}\n",
       "\n",
       "@font-face {\n",
       "  font-family: \"Estrangelo Edessa\";\n",
       "  src: local('Estrangelo Edessa'), local('EstrangeloEdessa');\n",
       "    url('/server/static/fonts/SyrCOMEdessa.woff') format('woff'),\n",
       "    url('https://github.com/annotation/text-fabric/blob/master/tf/server/static/fonts/SyrCOMEdessa.woff?raw=true') format('woff');\n",
       "}\n",
       "\n",
       "@font-face {\n",
       "  font-family: AmiriQuran;\n",
       "  font-style: normal;\n",
       "  font-weight: 400;\n",
       "  src: local('Amiri Quran'), local('AmiriQuran'),\n",
       "    url('/server/static/fonts/AmiriQuran.woff') format('woff'),\n",
       "    url('https://github.com/annotation/text-fabric/blob/master/tf/server/static/fonts/AmiriQuran.woff?raw=true') format('woff');\n",
       "}\n",
       "\n",
       "@font-face {\n",
       "  font-family: AmiriQuranColored;\n",
       "  font-style: normal;\n",
       "  font-weight: 400;\n",
       "  src: local('Amiri Quran Colored'), local('AmiriQuranColored'),\n",
       "    url('/server/static/fonts/AmiriQuranColored.woff') format('woff'),\n",
       "    url('https://github.com/annotation/text-fabric/blob/master/tf/server/static/fonts/AmiriQuranColored.woff?raw=true') format('woff');\n",
       "}\n",
       "\n",
       "@font-face {\n",
       "  font-family: \"Santakku\";\n",
       "  src: local('Santakku'),\n",
       "    url('/server/static/fonts/Santakku.woff') format('woff'),\n",
       "    url('https://github.com/annotation/text-fabric/blob/master/tf/server/static/fonts/Santakku.woff?raw=true') format('woff');\n",
       "}\n",
       "\n",
       "@font-face {\n",
       "  font-family: \"SantakkuM\";\n",
       "  src: local('SantakkuM'),\n",
       "    url('/server/static/fonts/SantakkuM.woff') format('woff'),\n",
       "    url('https://github.com/annotation/text-fabric/blob/master/tf/server/static/fonts/SantakkuM.woff?raw=true') format('woff');\n",
       "}\n",
       "/* bypassing some classical notebook settings */\n",
       "div#notebook {\n",
       "  line-height: unset;\n",
       "}\n",
       "/* neutral text */\n",
       ".txtn,.txtn a:visited,.txtn a:link {\n",
       "    font-family: sans-serif;\n",
       "    font-size: medium;\n",
       "    direction: ltr;\n",
       "    unicode-bidi: embed;\n",
       "    text-decoration: none;\n",
       "    color: var(--text-color);\n",
       "}\n",
       "/* transcription text */\n",
       ".txtt,.txtt a:visited,.txtt a:link {\n",
       "    font-family: monospace;\n",
       "    font-size: medium;\n",
       "    direction: ltr;\n",
       "    unicode-bidi: embed;\n",
       "    text-decoration: none;\n",
       "    color: var(--text-color);\n",
       "}\n",
       "/* source text */\n",
       ".txto,.txto a:visited,.txto a:link {\n",
       "    font-family: serif;\n",
       "    font-size: medium;\n",
       "    direction: ltr;\n",
       "    unicode-bidi: embed;\n",
       "    text-decoration: none;\n",
       "    color: var(--text-color);\n",
       "}\n",
       "/* phonetic text */\n",
       ".txtp,.txtp a:visited,.txtp a:link {\n",
       "    font-family: Gentium, sans-serif;\n",
       "    font-size: medium;\n",
       "    direction: ltr;\n",
       "    unicode-bidi: embed;\n",
       "    text-decoration: none;\n",
       "    color: var(--text-color);\n",
       "}\n",
       "/* original script text */\n",
       ".txtu,.txtu a:visited,.txtu a:link {\n",
       "    font-family: Gentium, sans-serif;\n",
       "    font-size: medium;\n",
       "    text-decoration: none;\n",
       "    color: var(--text-color);\n",
       "}\n",
       "/* hebrew */\n",
       ".txtu.hbo,.lex.hbo {\n",
       "    font-family: \"Ezra SIL\", \"SBL Hebrew\", sans-serif;\n",
       "    font-size: large;\n",
       "    direction: rtl ! important;\n",
       "    unicode-bidi: embed;\n",
       "}\n",
       "/* syriac */\n",
       ".txtu.syc,.lex.syc {\n",
       "    font-family: \"Estrangelo Edessa\", sans-serif;\n",
       "    font-size: medium;\n",
       "    direction: rtl ! important;\n",
       "    unicode-bidi: embed;\n",
       "}\n",
       "/* neo aramaic */\n",
       ".txtu.cld,.lex.cld {\n",
       "    font-family: \"CharisSIL-R\", sans-serif;\n",
       "    font-size: medium;\n",
       "    direction: ltr ! important;\n",
       "    unicode-bidi: embed;\n",
       "}\n",
       "/* standard arabic */\n",
       ".txtu.ara,.lex.ara {\n",
       "    font-family: \"AmiriQuran\", sans-serif;\n",
       "    font-size: large;\n",
       "    direction: rtl ! important;\n",
       "    unicode-bidi: embed;\n",
       "}\n",
       "/* cuneiform */\n",
       ".txtu.akk,.lex.akk {\n",
       "    font-family: Santakku, sans-serif;\n",
       "    font-size: large;\n",
       "    direction: ltr ! important;\n",
       "    unicode-bidi: embed;\n",
       "}\n",
       "/* greek */\n",
       ".txtu.grc,.lex.grc a:link {\n",
       "    font-family: Gentium, sans-serif;\n",
       "    font-size: medium;\n",
       "    direction: ltr ! important;\n",
       "    unicode-bidi: embed;\n",
       "}\n",
       "a:hover {\n",
       "    text-decoration: underline | important;\n",
       "    color: #0000ff | important;\n",
       "}\n",
       ".ltr {\n",
       "    direction: ltr ! important;\n",
       "    unicode-bidi: embed;\n",
       "}\n",
       ".rtl {\n",
       "    direction: rtl ! important;\n",
       "    unicode-bidi: embed;\n",
       "}\n",
       ".ubd {\n",
       "    unicode-bidi: embed;\n",
       "}\n",
       ".col {\n",
       "   display: inline-block;\n",
       "}\n",
       ".features {\n",
       "    font-family: monospace;\n",
       "    font-size: medium;\n",
       "    font-weight: bold;\n",
       "    color: var(--features);\n",
       "    display: flex;\n",
       "    flex-flow: column nowrap;\n",
       "    justify-content: flex-start;\n",
       "    align-items: flex-start;\n",
       "    align-content: flex-start;\n",
       "    padding: 2px;\n",
       "    margin: 2px;\n",
       "    direction: ltr;\n",
       "    unicode-bidi: embed;\n",
       "    border: var(--meta-width) solid var(--meta-color);\n",
       "    border-radius: var(--meta-width);\n",
       "}\n",
       ".features div,.features span {\n",
       "    padding: 0;\n",
       "    margin: -2px 0;\n",
       "}\n",
       ".features .f {\n",
       "    font-family: sans-serif;\n",
       "    font-size: small;\n",
       "    font-weight: normal;\n",
       "    color: #5555bb;\n",
       "}\n",
       ".features .xft {\n",
       "  color: #000000;\n",
       "  background-color: #eeeeee;\n",
       "  font-size: medium;\n",
       "  margin: 2px 0px;\n",
       "}\n",
       ".features .xft .f {\n",
       "  color: #000000;\n",
       "  background-color: #eeeeee;\n",
       "  font-size: small;\n",
       "  font-weight: normal;\n",
       "}\n",
       ".tfsechead {\n",
       "    font-family: sans-serif;\n",
       "    font-size: small;\n",
       "    font-weight: bold;\n",
       "    color: var(--tfsechead);\n",
       "    unicode-bidi: embed;\n",
       "    text-align: start;\n",
       "}\n",
       ".structure {\n",
       "    font-family: sans-serif;\n",
       "    font-size: small;\n",
       "    font-weight: bold;\n",
       "    color: var(--structure);\n",
       "    unicode-bidi: embed;\n",
       "    text-align: start;\n",
       "}\n",
       ".comments {\n",
       "    display: flex;\n",
       "    justify-content: flex-start;\n",
       "    align-items: flex-start;\n",
       "    align-content: flex-start;\n",
       "    flex-flow: column nowrap;\n",
       "}\n",
       ".nd, a:link.nd {\n",
       "    font-family: sans-serif;\n",
       "    font-size: small;\n",
       "    color: var(--node);\n",
       "    vertical-align: super;\n",
       "    direction: ltr ! important;\n",
       "    unicode-bidi: embed;\n",
       "}\n",
       ".lex {\n",
       "  color: var(--lex-color);;\n",
       "}\n",
       ".children,.children.ltr {\n",
       "    display: flex;\n",
       "    border: 0;\n",
       "    background-color: #ffffff;\n",
       "    justify-content: flex-start;\n",
       "    align-items: flex-start;\n",
       "    align-content: flex-start;\n",
       "}\n",
       ".children.stretch {\n",
       "    align-items: stretch;\n",
       "}\n",
       ".children.hor {\n",
       "    flex-flow: row nowrap;\n",
       "}\n",
       ".children.hor.wrap {\n",
       "    flex-flow: row wrap;\n",
       "}\n",
       ".children.ver {\n",
       "    flex-flow: column nowrap;\n",
       "}\n",
       ".children.ver.wrap {\n",
       "    flex-flow: column wrap;\n",
       "}\n",
       ".contnr {\n",
       "    width: fit-content;\n",
       "    display: flex;\n",
       "    justify-content: flex-start;\n",
       "    align-items: flex-start;\n",
       "    align-content: flex-start;\n",
       "    flex-flow: column nowrap;\n",
       "    background: #ffffff none repeat scroll 0 0;\n",
       "    padding:  10px 2px 2px 2px;\n",
       "    margin: 16px 2px 2px 2px;\n",
       "    border-style: solid;\n",
       "    font-size: small;\n",
       "}\n",
       ".contnr.trm {\n",
       "    background-attachment: local;\n",
       "}\n",
       ".contnr.cnul {\n",
       "    padding:  0;\n",
       "    margin: 0;\n",
       "    border-style: solid;\n",
       "    font-size: xx-small;\n",
       "}\n",
       ".contnr.cnul,.lbl.cnul {\n",
       "    border-color: var(--border-color-nul);\n",
       "    border-width: var(--border-width-nul);\n",
       "    border-radius: var(--border-width-nul);\n",
       "}\n",
       ".contnr.c0,.lbl.c0 {\n",
       "    border-color: var(--border-color0);\n",
       "    border-width: var(--border-width0);\n",
       "    border-radius: var(--border-width0);\n",
       "}\n",
       ".contnr.c1,.lbl.c1 {\n",
       "    border-color: var(--border-color1);\n",
       "    border-width: var(--border-width1);\n",
       "    border-radius: var(--border-width1);\n",
       "}\n",
       ".contnr.c2,.lbl.c2 {\n",
       "    border-color: var(--border-color2);\n",
       "    border-width: var(--border-width2);\n",
       "    border-radius: var(--border-width2);\n",
       "}\n",
       ".contnr.c3,.lbl.c3 {\n",
       "    border-color: var(--border-color3);\n",
       "    border-width: var(--border-width3);\n",
       "    border-radius: var(--border-width3);\n",
       "}\n",
       ".contnr.c4,.lbl.c4 {\n",
       "    border-color: var(--border-color4);\n",
       "    border-width: var(--border-width4);\n",
       "    border-radius: var(--border-width4);\n",
       "}\n",
       "span.plain {\n",
       "    /*display: inline-block;*/\n",
       "    display: inline-flex;\n",
       "    flex-flow: row wrap;\n",
       "    white-space: pre-wrap;\n",
       "}\n",
       ".plain {\n",
       "    background-color: #ffffff;\n",
       "}\n",
       ".plain.l,.contnr.l,.contnr.l>.lbl {\n",
       "    border-left-style: dotted\n",
       "}\n",
       ".plain.r,.contnr.r,.contnr.r>.lbl {\n",
       "    border-right-style: dotted\n",
       "}\n",
       ".plain.lno,.contnr.lno,.contnr.lno>.lbl {\n",
       "    border-left-style: none\n",
       "}\n",
       ".plain.rno,.contnr.rno,.contnr.rno>.lbl {\n",
       "    border-right-style: none\n",
       "}\n",
       ".plain.l {\n",
       "    padding-left: 4px;\n",
       "    margin-left: 2px;\n",
       "    border-width: var(--border-width-plain);\n",
       "}\n",
       ".plain.r {\n",
       "    padding-right: 4px;\n",
       "    margin-right: 2px;\n",
       "    border-width: var(--border-width-plain);\n",
       "}\n",
       ".lbl {\n",
       "    font-family: monospace;\n",
       "    margin-top: -24px;\n",
       "    margin-left: 20px;\n",
       "    background: #ffffff none repeat scroll 0 0;\n",
       "    padding: 0 6px;\n",
       "    border-style: solid;\n",
       "    display: block;\n",
       "    color: var(--label)\n",
       "}\n",
       ".lbl.trm {\n",
       "    background-attachment: local;\n",
       "    margin-top: 2px;\n",
       "    margin-left: 2px;\n",
       "    padding: 2px 2px;\n",
       "    border-style: none;\n",
       "}\n",
       ".lbl.cnul {\n",
       "    font-size: xx-small;\n",
       "}\n",
       ".lbl.c0 {\n",
       "    font-size: small;\n",
       "}\n",
       ".lbl.c1 {\n",
       "    font-size: small;\n",
       "}\n",
       ".lbl.c2 {\n",
       "    font-size: medium;\n",
       "}\n",
       ".lbl.c3 {\n",
       "    font-size: medium;\n",
       "}\n",
       ".lbl.c4 {\n",
       "    font-size: large;\n",
       "}\n",
       ".occs, a:link.occs {\n",
       "    font-size: small;\n",
       "}\n",
       "\n",
       "/* PROVENANCE */\n",
       "\n",
       "div.prov {\n",
       "\tmargin: 40px;\n",
       "\tpadding: 20px;\n",
       "\tborder: 2px solid var(--fog-rim);\n",
       "}\n",
       "div.pline {\n",
       "\tdisplay: flex;\n",
       "\tflex-flow: row nowrap;\n",
       "\tjustify-content: stretch;\n",
       "\talign-items: baseline;\n",
       "}\n",
       "div.p2line {\n",
       "\tmargin-left: 2em;\n",
       "\tdisplay: flex;\n",
       "\tflex-flow: row nowrap;\n",
       "\tjustify-content: stretch;\n",
       "\talign-items: baseline;\n",
       "}\n",
       "div.psline {\n",
       "\tdisplay: flex;\n",
       "\tflex-flow: row nowrap;\n",
       "\tjustify-content: stretch;\n",
       "\talign-items: baseline;\n",
       "\tbackground-color: var(--gold-mist-back);\n",
       "}\n",
       "div.pname {\n",
       "\tflex: 0 0 5rem;\n",
       "\tfont-weight: bold;\n",
       "}\n",
       "div.pval {\n",
       "    flex: 1 1 auto;\n",
       "}\n",
       "\n",
       "/* KEYBOARD */\n",
       ".ccoff {\n",
       "  background-color: inherit;\n",
       "}\n",
       ".ccon {\n",
       "  background-color: yellow ! important;\n",
       "}\n",
       ".ccon,.ccoff {\n",
       "  padding: 0.2rem;\n",
       "  margin: 0.2rem;\n",
       "  border: 0.1rem solid var(--letter-box-border);\n",
       "  border-radius: 0.1rem;\n",
       "}\n",
       ".ccline {\n",
       "  font-size: xx-large ! important;\n",
       "  font-weight: bold;\n",
       "  line-height: 2em ! important;\n",
       "}\n",
       "/* TF header */\n",
       "\n",
       "summary {\n",
       "  /* needed to override the normalize.less\n",
       "   * in the classical jupyter notebook\n",
       "   */\n",
       "  display: list-item ! important;\n",
       "}\n",
       "\n",
       ".fcorpus {\n",
       "  display: flex;\n",
       "  flex-flow: column nowrap;\n",
       "  justify-content: flex-start;\n",
       "  align-items: flex-start;\n",
       "  align-content: flex-start;\n",
       "}\n",
       ".frow {\n",
       "  display: flex;\n",
       "  flex-flow: row nowrap;\n",
       "  justify-content: flex-start;\n",
       "  align-items: flex-start;\n",
       "  align-content: flex-start;\n",
       "}\n",
       ".fmeta {\n",
       "  display: flex;\n",
       "  flex-flow: column nowrap;\n",
       "  justify-content: flex-start;\n",
       "  align-items: flex-start;\n",
       "  align-content: flex-start;\n",
       "}\n",
       ".fmetarow {\n",
       "  display: flex;\n",
       "  flex-flow: row nowrap;\n",
       "  justify-content: flex-start;\n",
       "  align-items: flex-start;\n",
       "  align-content: flex-start;\n",
       "}\n",
       ".fmetakey {\n",
       "  min-width: 8em;\n",
       "  font-family: monospace;\n",
       "}\n",
       ".fnamecat {\n",
       "  min-width: 8em;\n",
       "}\n",
       ".fnamecat.edge {\n",
       "  font-weight: bold;\n",
       "  font-style: italic;\n",
       "}\n",
       ".fmono {\n",
       "    font-family: monospace;\n",
       "}\n",
       "\n",
       ":root {\n",
       "\t--node:               hsla(120, 100%,  20%, 1.0  );\n",
       "\t--label:              hsla(  0, 100%,  20%, 1.0  );\n",
       "\t--tfsechead:          hsla(  0, 100%,  25%, 1.0  );\n",
       "\t--structure:          hsla(120, 100%,  25%, 1.0  );\n",
       "\t--features:           hsla(  0,   0%,  30%, 1.0  );\n",
       "  --text-color:         hsla( 60,  80%,  10%, 1.0  );\n",
       "  --lex-color:          hsla(220,  90%,  60%, 1.0  );\n",
       "  --meta-color:         hsla(  0,   0%,  90%, 0.7  );\n",
       "  --meta-width:         3px;\n",
       "  --border-color-nul:   hsla(  0,   0%,  90%, 0.5  );\n",
       "  --border-color0:      hsla(  0,   0%,  90%, 0.9  );\n",
       "  --border-color1:      hsla(  0,   0%,  80%, 0.9  );\n",
       "  --border-color2:      hsla(  0,   0%,  70%, 0.9  );\n",
       "  --border-color3:      hsla(  0,   0%,  80%, 0.8  );\n",
       "  --border-color4:      hsla(  0,   0%,  60%, 0.9  );\n",
       "\t--letter-box-border:  hsla(  0,   0%,  80%, 0.5  );\n",
       "  --border-width-nul:   2px;\n",
       "  --border-width0:      2px;\n",
       "  --border-width1:      3px;\n",
       "  --border-width2:      4px;\n",
       "  --border-width3:      6px;\n",
       "  --border-width4:      5px;\n",
       "  --border-width-plain: 2px;\n",
       "}\n",
       ".hl {\n",
       "  background-color: var(--hl-strong);\n",
       "}\n",
       "span.hl {\n",
       "\tbackground-color: var(--hl-strong);\n",
       "\tborder-width: 0;\n",
       "\tborder-radius: 2px;\n",
       "\tborder-style: solid;\n",
       "}\n",
       "div.contnr.hl,div.lbl.hl {\n",
       "  background-color: var(--hl-strong);\n",
       "}\n",
       "div.contnr.hl {\n",
       "  border-color: var(--hl-rim) ! important;\n",
       "\tborder-width: 4px ! important;\n",
       "}\n",
       "\n",
       "span.hlbx {\n",
       "\tborder-color: var(--hl-rim);\n",
       "\tborder-width: 4px ! important;\n",
       "\tborder-style: solid;\n",
       "\tborder-radius: 6px;\n",
       "  padding: 4px;\n",
       "  margin: 4px;\n",
       "}\n",
       "\n",
       ":root {\n",
       "\t--hl-strong:        hsla( 60, 100%,  70%, 0.9  );\n",
       "\t--hl-rim:           hsla( 55,  80%,  50%, 1.0  );\n",
       "}\n",
       "</style>"
      ],
      "text/plain": [
       "<IPython.core.display.HTML object>"
      ]
     },
     "metadata": {},
     "output_type": "display_data"
    },
    {
     "data": {
      "text/html": [
       "\n",
       "<script>\n",
       "globalThis.copyChar = (el, c) => {\n",
       "    for (const el of document.getElementsByClassName('ccon')) {\n",
       "        el.className = 'ccoff'\n",
       "    }\n",
       "    el.className = 'ccon'\n",
       "    navigator.clipboard.writeText(String.fromCharCode(c))\n",
       "}\n",
       "</script>\n"
      ],
      "text/plain": [
       "<IPython.core.display.HTML object>"
      ]
     },
     "metadata": {},
     "output_type": "display_data"
    },
    {
     "data": {
      "text/html": [
       "<div><b>Text-Fabric API:</b> names <a target=\"_blank\" href=\"https://annotation.github.io/text-fabric/tf/cheatsheet.html\" title=\"doc\">N F E L T S C TF</a> directly usable</div><hr>"
      ],
      "text/plain": [
       "<IPython.core.display.HTML object>"
      ]
     },
     "metadata": {},
     "output_type": "display_data"
    }
   ],
   "source": [
    "A = use(\"ETCBC/bhsa\", hoist=globals())"
   ]
  },
  {
   "cell_type": "markdown",
   "id": "b1b9a7db-cdc7-47b2-997c-abd1c4603774",
   "metadata": {},
   "source": [
    "*by all means, open those triangles above ...*"
   ]
  },
  {
   "cell_type": "markdown",
   "id": "670cfa90-7aa0-4b5f-9e15-592f4da1615e",
   "metadata": {},
   "source": [
    "## The Text-Fabric API\n",
    "\n",
    "The variable `A` gives access to everything in our corpus.\n",
    "\n",
    "The corpus consists of nodes, the nodes are natural numbers.\n",
    "\n",
    "Let's see some nodes."
   ]
  },
  {
   "cell_type": "markdown",
   "id": "173d94e0-72c7-40cd-96b2-f63ae878733b",
   "metadata": {},
   "source": [
    "Here are the [docs](https://annotation.github.io/text-fabric/tf/about/datamodel.html)\n",
    "on the data model. Note that *text* and *fabric* have the same semantic root."
   ]
  },
  {
   "cell_type": "code",
   "execution_count": 52,
   "id": "1cc64d86-d82b-4e78-84d3-952eb7088274",
   "metadata": {},
   "outputs": [],
   "source": [
    "n1 = 100000\n",
    "n2 = 500000"
   ]
  },
  {
   "cell_type": "markdown",
   "id": "4880a698-53d1-451d-87ba-938c46d86391",
   "metadata": {},
   "source": [
    "## Display\n",
    "\n",
    "We are going to display them:"
   ]
  },
  {
   "cell_type": "code",
   "execution_count": 53,
   "id": "2089cc91-c93f-4b50-bc66-c93bd6828362",
   "metadata": {},
   "outputs": [
    {
     "data": {
      "text/html": [
       "<div class=\"rtl\"><span class=\"tfsechead rtl\"><span class=\"ltr\"><a target=\"_blank\" href=\"https://shebanq.ancient-data.org/hebrew/text?book=Deuteronomium&amp;chapter=11&amp;verse=19&amp;version=2021&amp;mr=m&amp;qw=q&amp;tp=txt_p&amp;tr=hb&amp;wget=v&amp;qget=v&amp;nget=vt\" title=\"Show this on SHEBANQ\" sec=\"Deuteronomy 11:19\">Deuteronomy 11:19</a></span></span>  <span class=\"txtu hbo\">בָּ֑ם </span></div>"
      ],
      "text/plain": [
       "<IPython.core.display.HTML object>"
      ]
     },
     "metadata": {},
     "output_type": "display_data"
    }
   ],
   "source": [
    "A.plain(n1)"
   ]
  },
  {
   "cell_type": "markdown",
   "id": "04a89666-131f-4955-b7d7-00b9481ec018",
   "metadata": {},
   "source": [
    "Apparently, 100000 is a node that represents a word, a word that occurs in book Deuteronomy, chapter 11, verse 19."
   ]
  },
  {
   "cell_type": "code",
   "execution_count": 54,
   "id": "c9b89ea9-35a2-4e0d-af00-48f4d7376b13",
   "metadata": {},
   "outputs": [
    {
     "data": {
      "text/html": [
       "<div class=\"rtl\"><span class=\"tfsechead rtl\"><span class=\"ltr\"><a target=\"_blank\" href=\"https://shebanq.ancient-data.org/hebrew/text?book=Iob&amp;chapter=36&amp;verse=27&amp;version=2021&amp;mr=m&amp;qw=q&amp;tp=txt_p&amp;tr=hb&amp;wget=v&amp;qget=v&amp;nget=vt\" title=\"Show this on SHEBANQ\" sec=\"Job 36:27\">Job 36:27</a></span></span>  <span class=\" rtl\"> </span><span class=\" rtl\"> </span><span class=\"txtu hbo\">יָזֹ֖קּוּ </span><span class=\" rtl\"> </span><span class=\"txtu hbo\">מָטָ֣ר </span><span class=\" rtl\"> </span><span class=\"txtu hbo\">לְ</span><span class=\"txtu hbo\">אֵדֹֽו׃ </span></div>"
      ],
      "text/plain": [
       "<IPython.core.display.HTML object>"
      ]
     },
     "metadata": {},
     "output_type": "display_data"
    }
   ],
   "source": [
    "A.plain(n2)"
   ]
  },
  {
   "cell_type": "markdown",
   "id": "3d1f6489-d761-4f73-9aa8-d3b233ebf941",
   "metadata": {},
   "source": [
    "This is more than a word, but what exactly is it?\n",
    "\n",
    "### Richer display\n",
    "\n",
    "We can show it with more details:"
   ]
  },
  {
   "cell_type": "code",
   "execution_count": 6,
   "id": "cd04ca0f-36b7-40a9-a0f9-8fcba0b1562c",
   "metadata": {},
   "outputs": [
    {
     "data": {
      "text/html": [
       "<div class=\"tfsechead rtl\"><span class=\"ltr\"><a target=\"_blank\" href=\"https://shebanq.ancient-data.org/hebrew/text?book=Iob&amp;chapter=36&amp;verse=27&amp;version=2021&amp;mr=m&amp;qw=q&amp;tp=txt_p&amp;tr=hb&amp;wget=v&amp;qget=v&amp;nget=vt\" title=\"Show this on SHEBANQ\" sec=\"Job 36:27\">Job 36:27</a></span></div><div class=\"rtl children\"><div class=\"contnr c2  rtl  \" ><div class=\"lbl c2  \" ><span class=\"nd\">clause </span> <span class=\"\"><span title=\"typ\">ZYq0</span> <span title=\"rela\">Coor</span></span></div><div class=\"children hor wrap rtl\"><div class=\"contnr c1  rtl  \" ><div class=\"lbl c1  \" ><span class=\"nd\">phrase </span> <span class=\"\"><span title=\"typ\">VP</span> <span title=\"function\">Pred</span></span></div><div class=\"children hor wrap rtl\"><div class=\"contnr c0 trm rtl  \" ><div class=\"lbl c0 trm \" ><a class=\" txtu hbo\" target=\"_blank\" href=\"https://shebanq.ancient-data.org/hebrew/word?version=2021&amp;id=1ZQQv\" title=\"Show this on SHEBANQ\"><span class=\"txtu hbo\">יָזֹ֖קּוּ </span></a></div></div></div></div><div class=\"contnr c1  rtl  \" ><div class=\"lbl c1  \" ><span class=\"nd\">phrase </span> <span class=\"\"><span title=\"typ\">NP</span> <span title=\"function\">Objc</span></span></div><div class=\"children hor wrap rtl\"><div class=\"contnr c0 trm rtl  \" ><div class=\"lbl c0 trm \" ><a class=\" txtu hbo\" target=\"_blank\" href=\"https://shebanq.ancient-data.org/hebrew/word?version=2021&amp;id=1MVRn\" title=\"Show this on SHEBANQ\"><span class=\"txtu hbo\">מָטָ֣ר </span></a></div></div></div></div><div class=\"contnr c1  rtl  \" ><div class=\"lbl c1  \" ><span class=\"nd\">phrase </span> <span class=\"\"><span title=\"typ\">PP</span> <span title=\"function\">Adju</span></span></div><div class=\"children hor wrap rtl\"><div class=\"contnr c0 trm rtl  \" ><div class=\"lbl c0 trm \" ><a class=\" txtu hbo\" target=\"_blank\" href=\"https://shebanq.ancient-data.org/hebrew/word?version=2021&amp;id=1L\" title=\"Show this on SHEBANQ\"><span class=\"txtu hbo\">לְ</span></a></div></div><div class=\"contnr c0 trm rtl  \" ><div class=\"lbl c0 trm \" ><a class=\" txtu hbo\" target=\"_blank\" href=\"https://shebanq.ancient-data.org/hebrew/word?version=2021&amp;id=1ADn\" title=\"Show this on SHEBANQ\"><span class=\"txtu hbo\">אֵדֹֽו׃ </span></a></div></div></div></div></div></div></div>"
      ],
      "text/plain": [
       "<IPython.core.display.HTML object>"
      ]
     },
     "metadata": {},
     "output_type": "display_data"
    }
   ],
   "source": [
    "A.pretty(n2)"
   ]
  },
  {
   "cell_type": "markdown",
   "id": "e8df47bf-5998-490a-bb26-ddc32728fc90",
   "metadata": {},
   "source": [
    "Ah, it is a *clause*, and it is composed of several *phrases*, and they all have certain properties.\n",
    "\n",
    "### Tweaking the display: text formats\n",
    "\n",
    "In case you are not familiar with the Hebrew script, the dataset contains a feature `phono` that contains the phonological representation of the text.\n",
    "\n",
    "The corpus has a text format that uses this feature to display the text, instead of the feature `g_word_utf8` that is used by the default format.\n",
    "\n",
    "Let's go phonological:"
   ]
  },
  {
   "cell_type": "code",
   "execution_count": 7,
   "id": "8fa1e306-247f-4446-846f-c8ef07fbe34d",
   "metadata": {},
   "outputs": [
    {
     "data": {
      "text/html": [
       "<div class=\"tfsechead ltr\"><span class=\"ltr\"><a target=\"_blank\" href=\"https://shebanq.ancient-data.org/hebrew/text?book=Iob&amp;chapter=36&amp;verse=27&amp;version=2021&amp;mr=m&amp;qw=q&amp;tp=txt_p&amp;tr=hb&amp;wget=v&amp;qget=v&amp;nget=vt\" title=\"Show this on SHEBANQ\" sec=\"Job 36:27\">Job 36:27</a></span></div><div class=\"ltr children\"><div class=\"contnr c2  ltr  \" ><div class=\"lbl c2  \" ><span class=\"nd\">clause </span> <span class=\"\"><span title=\"typ\">ZYq0</span> <span title=\"rela\">Coor</span></span></div><div class=\"children hor wrap ltr\"><div class=\"contnr c1  ltr  \" ><div class=\"lbl c1  \" ><span class=\"nd\">phrase </span> <span class=\"\"><span title=\"typ\">VP</span> <span title=\"function\">Pred</span></span></div><div class=\"children hor wrap ltr\"><div class=\"contnr c0 trm ltr  \" ><div class=\"lbl c0 trm \" ><a class=\" txtu hbo\" target=\"_blank\" href=\"https://shebanq.ancient-data.org/hebrew/word?version=2021&amp;id=1ZQQv\" title=\"Show this on SHEBANQ\"><span class=\"txtp\">yāzˌōqqû </span></a></div></div></div></div><div class=\"contnr c1  ltr  \" ><div class=\"lbl c1  \" ><span class=\"nd\">phrase </span> <span class=\"\"><span title=\"typ\">NP</span> <span title=\"function\">Objc</span></span></div><div class=\"children hor wrap ltr\"><div class=\"contnr c0 trm ltr  \" ><div class=\"lbl c0 trm \" ><a class=\" txtu hbo\" target=\"_blank\" href=\"https://shebanq.ancient-data.org/hebrew/word?version=2021&amp;id=1MVRn\" title=\"Show this on SHEBANQ\"><span class=\"txtp\">māṭˈār </span></a></div></div></div></div><div class=\"contnr c1  ltr  \" ><div class=\"lbl c1  \" ><span class=\"nd\">phrase </span> <span class=\"\"><span title=\"typ\">PP</span> <span title=\"function\">Adju</span></span></div><div class=\"children hor wrap ltr\"><div class=\"contnr c0 trm ltr  \" ><div class=\"lbl c0 trm \" ><a class=\" txtu hbo\" target=\"_blank\" href=\"https://shebanq.ancient-data.org/hebrew/word?version=2021&amp;id=1L\" title=\"Show this on SHEBANQ\"><span class=\"txtp\">lᵊ</span></a></div></div><div class=\"contnr c0 trm ltr  \" ><div class=\"lbl c0 trm \" ><a class=\" txtu hbo\" target=\"_blank\" href=\"https://shebanq.ancient-data.org/hebrew/word?version=2021&amp;id=1ADn\" title=\"Show this on SHEBANQ\"><span class=\"txtp\">ʔēḏˈô . </span></a></div></div></div></div></div></div></div>"
      ],
      "text/plain": [
       "<IPython.core.display.HTML object>"
      ]
     },
     "metadata": {},
     "output_type": "display_data"
    }
   ],
   "source": [
    "A.pretty(n2, fmt=\"text-phono-full\")"
   ]
  },
  {
   "cell_type": "markdown",
   "id": "f0a36e1a-512b-4476-adec-74f733fca340",
   "metadata": {},
   "source": [
    "Here it pays off that it is not the text that is annotated, but that the text itself is a feature of\n",
    "the textual positions, the slots.\n",
    "\n",
    "Let's show the nodes:"
   ]
  },
  {
   "cell_type": "code",
   "execution_count": 9,
   "id": "7574994f-d779-462a-a9b9-b84ab1f51899",
   "metadata": {},
   "outputs": [
    {
     "data": {
      "text/html": [
       "<div class=\"tfsechead rtl\"><span class=\"ltr\"><a target=\"_blank\" href=\"https://shebanq.ancient-data.org/hebrew/text?book=Iob&amp;chapter=36&amp;verse=27&amp;version=2021&amp;mr=m&amp;qw=q&amp;tp=txt_p&amp;tr=hb&amp;wget=v&amp;qget=v&amp;nget=vt\" title=\"Show this on SHEBANQ\" sec=\"Job 36:27\">Job 36:27</a></span></div><div class=\"rtl children\"><div class=\"contnr c2  rtl  \" ><div class=\"lbl c2  \" ><span class=\"nd\">clause:500000 </span> <span class=\"\"><span title=\"typ\">ZYq0</span> <span title=\"rela\">Coor</span></span></div><div class=\"children hor wrap rtl\"><div class=\"contnr c1  rtl  \" ><div class=\"lbl c1  \" ><span class=\"nd\">phrase:860096 </span> <span class=\"\"><span title=\"typ\">VP</span> <span title=\"function\">Pred</span></span></div><div class=\"children hor wrap rtl\"><div class=\"contnr c0 trm rtl  \" ><div class=\"lbl c0 trm \" ><span class=\"nd\">345148 </span> <a class=\" txtu hbo\" target=\"_blank\" href=\"https://shebanq.ancient-data.org/hebrew/word?version=2021&amp;id=1ZQQv\" title=\"Show this on SHEBANQ\"><span class=\"txtu hbo\">יזקו </span></a></div></div></div></div><div class=\"contnr c1  rtl  \" ><div class=\"lbl c1  \" ><span class=\"nd\">phrase:860097 </span> <span class=\"\"><span title=\"typ\">NP</span> <span title=\"function\">Objc</span></span></div><div class=\"children hor wrap rtl\"><div class=\"contnr c0 trm rtl  \" ><div class=\"lbl c0 trm \" ><span class=\"nd\">345149 </span> <a class=\" txtu hbo\" target=\"_blank\" href=\"https://shebanq.ancient-data.org/hebrew/word?version=2021&amp;id=1MVRn\" title=\"Show this on SHEBANQ\"><span class=\"txtu hbo\">מטר </span></a></div></div></div></div><div class=\"contnr c1  rtl  \" ><div class=\"lbl c1  \" ><span class=\"nd\">phrase:860098 </span> <span class=\"\"><span title=\"typ\">PP</span> <span title=\"function\">Adju</span></span></div><div class=\"children hor wrap rtl\"><div class=\"contnr c0 trm rtl  \" ><div class=\"lbl c0 trm \" ><span class=\"nd\">345150 </span> <a class=\" txtu hbo\" target=\"_blank\" href=\"https://shebanq.ancient-data.org/hebrew/word?version=2021&amp;id=1L\" title=\"Show this on SHEBANQ\"><span class=\"txtu hbo\">ל</span></a></div></div><div class=\"contnr c0 trm rtl  \" ><div class=\"lbl c0 trm \" ><span class=\"nd\">345151 </span> <a class=\" txtu hbo\" target=\"_blank\" href=\"https://shebanq.ancient-data.org/hebrew/word?version=2021&amp;id=1ADn\" title=\"Show this on SHEBANQ\"><span class=\"txtu hbo\">אדו׃ </span></a></div></div></div></div></div></div></div>"
      ],
      "text/plain": [
       "<IPython.core.display.HTML object>"
      ]
     },
     "metadata": {},
     "output_type": "display_data"
    }
   ],
   "source": [
    "A.pretty(n2, fmt=\"text-orig-plain\", withNodes=True)"
   ]
  },
  {
   "cell_type": "markdown",
   "id": "5e045573-e1fe-4011-867a-de6144e985ae",
   "metadata": {},
   "source": [
    "By the way, now I changed to yet another text format, leaving out the diacritics (vowels and accents).\n",
    "\n",
    "If you wonder which formats there are to choose from, we just ask:"
   ]
  },
  {
   "cell_type": "code",
   "execution_count": 10,
   "id": "553757cf-2345-4365-82f2-ed5d6cdf1beb",
   "metadata": {},
   "outputs": [
    {
     "data": {
      "text/plain": [
       "{'lex-default': 'word',\n",
       " 'lex-orig-full': 'word',\n",
       " 'lex-orig-plain': 'word',\n",
       " 'lex-trans-full': 'word',\n",
       " 'lex-trans-plain': 'word',\n",
       " 'text-orig-full': 'word',\n",
       " 'text-orig-full-ketiv': 'word',\n",
       " 'text-orig-plain': 'word',\n",
       " 'text-phono-full': 'word',\n",
       " 'text-trans-full': 'word',\n",
       " 'text-trans-full-ketiv': 'word',\n",
       " 'text-trans-plain': 'word'}"
      ]
     },
     "execution_count": 10,
     "metadata": {},
     "output_type": "execute_result"
    }
   ],
   "source": [
    "T.formats"
   ]
  },
  {
   "cell_type": "markdown",
   "id": "be20ceab-cbf4-42fb-8a34-a4289f3fd099",
   "metadata": {},
   "source": [
    "These are formats defined by the corpus modeller, not formats that come with Text-Fabric.\n",
    "\n",
    "Text-Fabric itself is very agnostic about corpora."
   ]
  },
  {
   "cell_type": "markdown",
   "id": "c55d7948-0c8e-4a9f-bf2c-8166099e42ba",
   "metadata": {},
   "source": [
    "As a check, let's drill down to phrases and words, and now we switch back to phono:"
   ]
  },
  {
   "cell_type": "code",
   "execution_count": 11,
   "id": "41ec87c7-8e67-4ef2-b9d8-f2e9249aceae",
   "metadata": {},
   "outputs": [
    {
     "data": {
      "text/html": [
       "<div class=\"tfsechead ltr\"><span class=\"ltr\"><a target=\"_blank\" href=\"https://shebanq.ancient-data.org/hebrew/text?book=Iob&amp;chapter=36&amp;verse=27&amp;version=2021&amp;mr=m&amp;qw=q&amp;tp=txt_p&amp;tr=hb&amp;wget=v&amp;qget=v&amp;nget=vt\" title=\"Show this on SHEBANQ\" sec=\"Job 36:27\">Job 36:27</a></span></div><div class=\"ltr children\"><div class=\"contnr c1  ltr  \" ><div class=\"lbl c1  \" ><span class=\"nd\">phrase:860096 </span> <span class=\"\"><span title=\"typ\">VP</span> <span title=\"function\">Pred</span></span></div><div class=\"children hor wrap ltr\"><div class=\"contnr c0 trm ltr  \" ><div class=\"lbl c0 trm \" ><span class=\"nd\">345148 </span> <a class=\" txtu hbo\" target=\"_blank\" href=\"https://shebanq.ancient-data.org/hebrew/word?version=2021&amp;id=1ZQQv\" title=\"Show this on SHEBANQ\"><span class=\"txtp\">yāzˌōqqû </span></a></div></div></div></div></div>"
      ],
      "text/plain": [
       "<IPython.core.display.HTML object>"
      ]
     },
     "metadata": {},
     "output_type": "display_data"
    }
   ],
   "source": [
    "A.pretty(860096, fmt=\"text-phono-full\", withNodes=True)"
   ]
  },
  {
   "cell_type": "markdown",
   "id": "337735d5-abd5-486a-aed7-c089cf0c902f",
   "metadata": {},
   "source": [
    "## Navigating nodes\n",
    "\n",
    "It does get cumbersome to type in those numbers manually.\n",
    "In normal workflows, you never see them.\n",
    "\n",
    "The Text-Fabric API has methods to start at some node, and then find related nodes, and show features of those nodes:"
   ]
  },
  {
   "cell_type": "code",
   "execution_count": 12,
   "id": "c055eb5e-0bb3-4ba2-be51-1d14157fab9b",
   "metadata": {},
   "outputs": [
    {
     "data": {
      "text/plain": [
       "(860096, 860097, 860098)"
      ]
     },
     "execution_count": 12,
     "metadata": {},
     "output_type": "execute_result"
    }
   ],
   "source": [
    "L.d(n2, otype=\"phrase\")"
   ]
  },
  {
   "cell_type": "markdown",
   "id": "6f0ab04e-92f0-49ef-bc9e-52f1b4cfe33a",
   "metadata": {},
   "source": [
    "The `L` operator goes from nodes to enclosing or embedded nodes or to preceding or following nodes.\n",
    "\n",
    "We went `d`own, from `n2` to all nodes of type `phrase` whose slots are contained in the slots of\n",
    "`n2`."
   ]
  },
  {
   "cell_type": "code",
   "execution_count": 14,
   "id": "65116543-39b9-4c07-9409-eb1fec1901d4",
   "metadata": {},
   "outputs": [
    {
     "data": {
      "text/html": [
       "<div class=\"tfsechead ltr\"><span class=\"ltr\"><a target=\"_blank\" href=\"https://shebanq.ancient-data.org/hebrew/text?book=Iob&amp;chapter=36&amp;verse=27&amp;version=2021&amp;mr=m&amp;qw=q&amp;tp=txt_p&amp;tr=hb&amp;wget=v&amp;qget=v&amp;nget=vt\" title=\"Show this on SHEBANQ\" sec=\"Job 36:27\">Job 36:27</a></span></div><div class=\"ltr children\"><div class=\"contnr c1  ltr  \" ><div class=\"lbl c1  \" ><span class=\"nd\">phrase:860096 </span> <span class=\"\"><span title=\"typ\">VP</span> <span title=\"function\">Pred</span></span></div><div class=\"children hor wrap ltr\"><div class=\"contnr c0 trm ltr  \" ><div class=\"lbl c0 trm \" ><span class=\"nd\">345148 </span> <a class=\" txtu hbo\" target=\"_blank\" href=\"https://shebanq.ancient-data.org/hebrew/word?version=2021&amp;id=1ZQQv\" title=\"Show this on SHEBANQ\"><span class=\"txtp\">yāzˌōqqû </span></a></div></div></div></div></div>"
      ],
      "text/plain": [
       "<IPython.core.display.HTML object>"
      ]
     },
     "metadata": {},
     "output_type": "display_data"
    },
    {
     "data": {
      "text/html": [
       "<div class=\"tfsechead ltr\"><span class=\"ltr\"><a target=\"_blank\" href=\"https://shebanq.ancient-data.org/hebrew/text?book=Iob&amp;chapter=36&amp;verse=27&amp;version=2021&amp;mr=m&amp;qw=q&amp;tp=txt_p&amp;tr=hb&amp;wget=v&amp;qget=v&amp;nget=vt\" title=\"Show this on SHEBANQ\" sec=\"Job 36:27\">Job 36:27</a></span></div><div class=\"ltr children\"><div class=\"contnr c1  ltr  \" ><div class=\"lbl c1  \" ><span class=\"nd\">phrase:860097 </span> <span class=\"\"><span title=\"typ\">NP</span> <span title=\"function\">Objc</span></span></div><div class=\"children hor wrap ltr\"><div class=\"contnr c0 trm ltr  \" ><div class=\"lbl c0 trm \" ><span class=\"nd\">345149 </span> <a class=\" txtu hbo\" target=\"_blank\" href=\"https://shebanq.ancient-data.org/hebrew/word?version=2021&amp;id=1MVRn\" title=\"Show this on SHEBANQ\"><span class=\"txtp\">māṭˈār </span></a></div></div></div></div></div>"
      ],
      "text/plain": [
       "<IPython.core.display.HTML object>"
      ]
     },
     "metadata": {},
     "output_type": "display_data"
    },
    {
     "data": {
      "text/html": [
       "<div class=\"tfsechead ltr\"><span class=\"ltr\"><a target=\"_blank\" href=\"https://shebanq.ancient-data.org/hebrew/text?book=Iob&amp;chapter=36&amp;verse=27&amp;version=2021&amp;mr=m&amp;qw=q&amp;tp=txt_p&amp;tr=hb&amp;wget=v&amp;qget=v&amp;nget=vt\" title=\"Show this on SHEBANQ\" sec=\"Job 36:27\">Job 36:27</a></span></div><div class=\"ltr children\"><div class=\"contnr c1  ltr  \" ><div class=\"lbl c1  \" ><span class=\"nd\">phrase:860098 </span> <span class=\"\"><span title=\"typ\">PP</span> <span title=\"function\">Adju</span></span></div><div class=\"children hor wrap ltr\"><div class=\"contnr c0 trm ltr  \" ><div class=\"lbl c0 trm \" ><span class=\"nd\">345150 </span> <a class=\" txtu hbo\" target=\"_blank\" href=\"https://shebanq.ancient-data.org/hebrew/word?version=2021&amp;id=1L\" title=\"Show this on SHEBANQ\"><span class=\"txtp\">lᵊ</span></a></div></div><div class=\"contnr c0 trm ltr  \" ><div class=\"lbl c0 trm \" ><span class=\"nd\">345151 </span> <a class=\" txtu hbo\" target=\"_blank\" href=\"https://shebanq.ancient-data.org/hebrew/word?version=2021&amp;id=1ADn\" title=\"Show this on SHEBANQ\"><span class=\"txtp\">ʔēḏˈô . </span></a></div></div></div></div></div>"
      ],
      "text/plain": [
       "<IPython.core.display.HTML object>"
      ]
     },
     "metadata": {},
     "output_type": "display_data"
    }
   ],
   "source": [
    "for p in L.d(n2, otype=\"phrase\"):\n",
    "    A.pretty(p, fmt=\"text-phono-full\", withNodes=True)"
   ]
  },
  {
   "cell_type": "markdown",
   "id": "d3d32cf0-4b2b-4077-8d7a-1a316da69a0f",
   "metadata": {},
   "source": [
    "## Locality-API\n",
    "\n",
    "You noted that the graph has the information to provide the context for each word.\n",
    "\n",
    "The API has functions to get from a context specification to a node:"
   ]
  },
  {
   "cell_type": "code",
   "execution_count": 18,
   "id": "aee30a39-5a82-4949-bd5a-0f5ba055c480",
   "metadata": {},
   "outputs": [
    {
     "data": {
      "text/plain": [
       "1432286"
      ]
     },
     "execution_count": 18,
     "metadata": {},
     "output_type": "execute_result"
    }
   ],
   "source": [
    "A.nodeFromSectionStr(\"Job 10:5\")"
   ]
  },
  {
   "cell_type": "markdown",
   "id": "6f0bcc15-b279-4dce-94a7-5a22cbf146af",
   "metadata": {},
   "source": [
    "Fine, but what is it?"
   ]
  },
  {
   "cell_type": "code",
   "execution_count": 17,
   "id": "533fe91d-80f6-4c23-8006-00b2c585518b",
   "metadata": {},
   "outputs": [
    {
     "data": {
      "text/html": [
       "<div class=\"tfsechead ltr\"><span class=\"ltr\"><a target=\"_blank\" href=\"https://shebanq.ancient-data.org/hebrew/text?book=Iob&amp;chapter=10&amp;verse=5&amp;version=2021&amp;mr=m&amp;qw=q&amp;tp=txt_p&amp;tr=hb&amp;wget=v&amp;qget=v&amp;nget=vt\" title=\"Show this on SHEBANQ\" sec=\"Job 10:5\">Job 10:5</a></span></div><div class=\"ltr children\"><div class=\"contnr c3  ltr  \" ><div class=\"lbl c3  \" ><span class=\"nd\">verse:1432286 </span></div><div class=\"children hor wrap ltr\"><div class=\"contnr c2  ltr  \" ><div class=\"lbl c2  \" ><span class=\"nd\">sentence:1223710 </span> <span class=\"\"><span title=\"number\">10</span></span></div><div class=\"children hor wrap ltr\"><div class=\"contnr c2  ltr  \" ><div class=\"lbl c2  \" ><span class=\"nd\">clause:498202 </span> <span class=\"\"><span title=\"typ\">NmCl</span> <span title=\"rela\">NA</span></span></div><div class=\"children hor wrap ltr\"><div class=\"contnr c1  ltr  \" ><div class=\"lbl c1  \" ><span class=\"nd\">phrase:855025 </span> <span class=\"\"><span title=\"typ\">InrP</span> <span title=\"function\">Ques</span></span></div><div class=\"children hor wrap ltr\"><div class=\"contnr c0 trm ltr  \" ><div class=\"lbl c0 trm \" ><span class=\"nd\">338629 </span> <a class=\" txtu hbo\" target=\"_blank\" href=\"https://shebanq.ancient-data.org/hebrew/word?version=2021&amp;id=1Hi\" title=\"Show this on SHEBANQ\"><span class=\"txtp\">hᵃ</span></a></div></div></div></div><div class=\"contnr c1  ltr  \" ><div class=\"lbl c1  \" ><span class=\"nd\">phrase:855026 </span> <span class=\"\"><span title=\"typ\">PP</span> <span title=\"function\">PreC</span></span></div><div class=\"children hor wrap ltr\"><div class=\"contnr c0 trm ltr  \" ><div class=\"lbl c0 trm \" ><span class=\"nd\">338630 </span> <a class=\" txtu hbo\" target=\"_blank\" href=\"https://shebanq.ancient-data.org/hebrew/word?version=2021&amp;id=1K\" title=\"Show this on SHEBANQ\"><span class=\"txtp\">ḵi</span></a></div></div><div class=\"contnr c0 trm ltr  \" ><div class=\"lbl c0 trm \" ><span class=\"nd\">338631 </span> <a class=\" txtu hbo\" target=\"_blank\" href=\"https://shebanq.ancient-data.org/hebrew/word?version=2021&amp;id=1JWMn\" title=\"Show this on SHEBANQ\"><span class=\"txtp\">ymˈê </span></a></div></div><div class=\"contnr c0 trm ltr  \" ><div class=\"lbl c0 trm \" ><span class=\"nd\">338632 </span> <a class=\" txtu hbo\" target=\"_blank\" href=\"https://shebanq.ancient-data.org/hebrew/word?version=2021&amp;id=1ANWCn\" title=\"Show this on SHEBANQ\"><span class=\"txtp\">ʔᵉnˈôš </span></a></div></div></div></div><div class=\"contnr c1  ltr  \" ><div class=\"lbl c1  \" ><span class=\"nd\">phrase:855027 </span> <span class=\"\"><span title=\"typ\">NP</span> <span title=\"function\">Subj</span></span></div><div class=\"children hor wrap ltr\"><div class=\"contnr c0 trm ltr  \" ><div class=\"lbl c0 trm \" ><span class=\"nd\">338633 </span> <a class=\" txtu hbo\" target=\"_blank\" href=\"https://shebanq.ancient-data.org/hebrew/word?version=2021&amp;id=1JWMn\" title=\"Show this on SHEBANQ\"><span class=\"txtp\">yāmˈeʸḵā </span></a></div></div></div></div></div></div></div></div><div class=\"contnr c2  ltr  \" ><div class=\"lbl c2  \" ><span class=\"nd\">sentence:1223711 </span> <span class=\"\"><span title=\"number\">11</span></span></div><div class=\"children hor wrap ltr\"><div class=\"contnr c2  ltr  \" ><div class=\"lbl c2  \" ><span class=\"nd\">clause:498203 </span> <span class=\"\"><span title=\"typ\">NmCl</span> <span title=\"rela\">NA</span></span></div><div class=\"children hor wrap ltr\"><div class=\"contnr c1  ltr  \" ><div class=\"lbl c1  \" ><span class=\"nd\">phrase:855028 </span> <span class=\"\"><span title=\"typ\">CP</span> <span title=\"function\">Conj</span></span></div><div class=\"children hor wrap ltr\"><div class=\"contnr c0 trm ltr  \" ><div class=\"lbl c0 trm \" ><span class=\"nd\">338634 </span> <a class=\" txtu hbo\" target=\"_blank\" href=\"https://shebanq.ancient-data.org/hebrew/word?version=2021&amp;id=1AM\" title=\"Show this on SHEBANQ\"><span class=\"txtp\">ʔim-</span></a></div></div></div></div><div class=\"contnr c1  ltr  \" ><div class=\"lbl c1  \" ><span class=\"nd\">phrase:855029 </span> <span class=\"\"><span title=\"typ\">NP</span> <span title=\"function\">Subj</span></span></div><div class=\"children hor wrap ltr\"><div class=\"contnr c0 trm ltr  \" ><div class=\"lbl c0 trm \" ><span class=\"nd\">338635 </span> <a class=\" txtu hbo\" target=\"_blank\" href=\"https://shebanq.ancient-data.org/hebrew/word?version=2021&amp;id=1CNHn\" title=\"Show this on SHEBANQ\"><span class=\"txtp\">ˈšnôṯˈeʸḵā </span></a></div></div></div></div><div class=\"contnr c1  ltr  \" ><div class=\"lbl c1  \" ><span class=\"nd\">phrase:855030 </span> <span class=\"\"><span title=\"typ\">PP</span> <span title=\"function\">PreC</span></span></div><div class=\"children hor wrap ltr\"><div class=\"contnr c0 trm ltr  \" ><div class=\"lbl c0 trm \" ><span class=\"nd\">338636 </span> <a class=\" txtu hbo\" target=\"_blank\" href=\"https://shebanq.ancient-data.org/hebrew/word?version=2021&amp;id=1K\" title=\"Show this on SHEBANQ\"><span class=\"txtp\">kˈi</span></a></div></div><div class=\"contnr c0 trm ltr  \" ><div class=\"lbl c0 trm \" ><span class=\"nd\">338637 </span> <a class=\" txtu hbo\" target=\"_blank\" href=\"https://shebanq.ancient-data.org/hebrew/word?version=2021&amp;id=1JWMn\" title=\"Show this on SHEBANQ\"><span class=\"txtp\">ymˌê </span></a></div></div><div class=\"contnr c0 trm ltr  \" ><div class=\"lbl c0 trm \" ><span class=\"nd\">338638 </span> <a class=\" txtu hbo\" target=\"_blank\" href=\"https://shebanq.ancient-data.org/hebrew/word?version=2021&amp;id=1GBRn\" title=\"Show this on SHEBANQ\"><span class=\"txtp\">ḡˈāver . </span></a></div></div></div></div></div></div></div></div></div></div></div>"
      ],
      "text/plain": [
       "<IPython.core.display.HTML object>"
      ]
     },
     "metadata": {},
     "output_type": "display_data"
    }
   ],
   "source": [
    "A.pretty(A.nodeFromSectionStr(\"Job 10:5\"), fmt=\"text-phono-full\", withNodes=True)"
   ]
  },
  {
   "cell_type": "markdown",
   "id": "604f6c2b-b2a1-4edb-842f-d00ae7b37d6c",
   "metadata": {},
   "source": [
    "## Regulate the amount of information\n",
    "\n",
    "If we find the display a bit much, we can reduce it.\n",
    "In this case, every *sentence* has exactly one *clause* which coincides with it.\n",
    "\n",
    "But first we go the other way, because there is more to the data than met the eye so far:"
   ]
  },
  {
   "cell_type": "code",
   "execution_count": 21,
   "id": "45fc9602-8e97-4c5a-8375-b9000eb03e96",
   "metadata": {},
   "outputs": [
    {
     "data": {
      "text/html": [
       "<div class=\"tfsechead ltr\"><span class=\"ltr\"><a target=\"_blank\" href=\"https://shebanq.ancient-data.org/hebrew/text?book=Iob&amp;chapter=10&amp;verse=5&amp;version=2021&amp;mr=m&amp;qw=q&amp;tp=txt_p&amp;tr=hb&amp;wget=v&amp;qget=v&amp;nget=vt\" title=\"Show this on SHEBANQ\" sec=\"Job 10:5\">Job 10:5</a></span></div><div class=\"ltr children\"><div class=\"contnr c3  ltr  \" ><div class=\"lbl c3  \" ><span class=\"nd\">verse:1432286 </span></div><div class=\"children hor wrap ltr\"><div class=\"contnr c3  ltr  \" ><div class=\"lbl c3  \" ><span class=\"nd\">half_verse:641599 </span> <span class=\"\"><span title=\"label\">A</span></span></div><div class=\"children hor wrap ltr\"><div class=\"contnr c2  ltr  \" ><div class=\"lbl c2  \" ><span class=\"nd\">sentence:1223710 </span> <span class=\"\"><span title=\"number\">10</span></span></div><div class=\"children hor wrap ltr\"><div class=\"contnr c1  ltr  \" ><div class=\"lbl c1  \" ><span class=\"nd\">sentence_atom:1288038 </span> <span class=\"\"><span title=\"number\">562</span></span></div><div class=\"children hor wrap ltr\"><div class=\"contnr c2  ltr  \" ><div class=\"lbl c2  \" ><span class=\"nd\">clause:498202 </span> <span class=\"\"><span title=\"typ\">NmCl</span> <span title=\"rela\">NA</span></span></div><div class=\"children hor wrap ltr\"><div class=\"contnr c1  ltr  \" ><div class=\"lbl c1  \" ><span class=\"nd\">clause_atom:588320 </span> <span class=\"\"><span title=\"code\">100</span></span></div><div class=\"children hor wrap ltr\"><div class=\"contnr c1  ltr  \" ><div class=\"lbl c1  \" ><span class=\"nd\">phrase:855025 </span> <span class=\"\"><span title=\"typ\">InrP</span> <span title=\"function\">Ques</span></span></div><div class=\"children hor wrap ltr\"><div class=\"contnr c1  ltr  \" ><div class=\"lbl c1  \" ><span class=\"nd\">phrase_atom:1118878 </span> <span class=\"\"><span title=\"typ\">InrP</span> <span title=\"rela\">NA</span></span></div><div class=\"children hor wrap ltr\"><div class=\"contnr c0 trm ltr  \" ><div class=\"lbl c0 trm \" ><span class=\"nd\">338629 </span> <a class=\" txtu hbo\" target=\"_blank\" href=\"https://shebanq.ancient-data.org/hebrew/word?version=2021&amp;id=1Hi\" title=\"Show this on SHEBANQ\"><span class=\"txtp\">hᵃ</span></a></div></div></div></div></div></div><div class=\"contnr c1  ltr  \" ><div class=\"lbl c1  \" ><span class=\"nd\">phrase:855026 </span> <span class=\"\"><span title=\"typ\">PP</span> <span title=\"function\">PreC</span></span></div><div class=\"children hor wrap ltr\"><div class=\"contnr c1  ltr  \" ><div class=\"lbl c1  \" ><span class=\"nd\">phrase_atom:1118879 </span> <span class=\"\"><span title=\"typ\">PP</span> <span title=\"rela\">NA</span></span></div><div class=\"children hor wrap ltr\"><div class=\"contnr c0 trm ltr  \" ><div class=\"lbl c0 trm \" ><span class=\"nd\">338630 </span> <a class=\" txtu hbo\" target=\"_blank\" href=\"https://shebanq.ancient-data.org/hebrew/word?version=2021&amp;id=1K\" title=\"Show this on SHEBANQ\"><span class=\"txtp\">ḵi</span></a></div></div><div class=\"contnr c1  ltr  \" ><div class=\"lbl c1  \" ><span class=\"nd\">subphrase:1387935 </span> <span class=\"\"><span title=\"number\"></span></span></div><div class=\"children hor wrap ltr\"><div class=\"contnr c0 trm ltr  \" ><div class=\"lbl c0 trm \" ><span class=\"nd\">338631 </span> <a class=\" txtu hbo\" target=\"_blank\" href=\"https://shebanq.ancient-data.org/hebrew/word?version=2021&amp;id=1JWMn\" title=\"Show this on SHEBANQ\"><span class=\"txtp\">ymˈê </span></a></div></div></div></div><div class=\"contnr c1  ltr  \" ><div class=\"lbl c1  \" ><span class=\"nd\">subphrase:1387936 </span> <span class=\"\"><span title=\"number\"></span></span></div><div class=\"children hor wrap ltr\"><div class=\"contnr c0 trm ltr  \" ><div class=\"lbl c0 trm \" ><span class=\"nd\">338632 </span> <a class=\" txtu hbo\" target=\"_blank\" href=\"https://shebanq.ancient-data.org/hebrew/word?version=2021&amp;id=1ANWCn\" title=\"Show this on SHEBANQ\"><span class=\"txtp\">ʔᵉnˈôš </span></a></div></div></div></div></div></div></div></div><div class=\"contnr c1  ltr  \" ><div class=\"lbl c1  \" ><span class=\"nd\">phrase:855027 </span> <span class=\"\"><span title=\"typ\">NP</span> <span title=\"function\">Subj</span></span></div><div class=\"children hor wrap ltr\"><div class=\"contnr c1  ltr  \" ><div class=\"lbl c1  \" ><span class=\"nd\">phrase_atom:1118880 </span> <span class=\"\"><span title=\"typ\">NP</span> <span title=\"rela\">NA</span></span></div><div class=\"children hor wrap ltr\"><div class=\"contnr c0 trm ltr  \" ><div class=\"lbl c0 trm \" ><span class=\"nd\">338633 </span> <a class=\" txtu hbo\" target=\"_blank\" href=\"https://shebanq.ancient-data.org/hebrew/word?version=2021&amp;id=1JWMn\" title=\"Show this on SHEBANQ\"><span class=\"txtp\">yāmˈeʸḵā </span></a></div></div></div></div></div></div></div></div></div></div></div></div></div></div></div></div><div class=\"contnr c3  ltr  \" ><div class=\"lbl c3  \" ><span class=\"nd\">half_verse:641600 </span> <span class=\"\"><span title=\"label\">B</span></span></div><div class=\"children hor wrap ltr\"><div class=\"contnr c2  ltr  \" ><div class=\"lbl c2  \" ><span class=\"nd\">sentence:1223711 </span> <span class=\"\"><span title=\"number\">11</span></span></div><div class=\"children hor wrap ltr\"><div class=\"contnr c1  ltr  \" ><div class=\"lbl c1  \" ><span class=\"nd\">sentence_atom:1288039 </span> <span class=\"\"><span title=\"number\">563</span></span></div><div class=\"children hor wrap ltr\"><div class=\"contnr c2  ltr  \" ><div class=\"lbl c2  \" ><span class=\"nd\">clause:498203 </span> <span class=\"\"><span title=\"typ\">NmCl</span> <span title=\"rela\">NA</span></span></div><div class=\"children hor wrap ltr\"><div class=\"contnr c1  ltr  \" ><div class=\"lbl c1  \" ><span class=\"nd\">clause_atom:588321 </span> <span class=\"\"><span title=\"code\">600</span></span></div><div class=\"children hor wrap ltr\"><div class=\"contnr c1  ltr  \" ><div class=\"lbl c1  \" ><span class=\"nd\">phrase:855028 </span> <span class=\"\"><span title=\"typ\">CP</span> <span title=\"function\">Conj</span></span></div><div class=\"children hor wrap ltr\"><div class=\"contnr c1  ltr  \" ><div class=\"lbl c1  \" ><span class=\"nd\">phrase_atom:1118881 </span> <span class=\"\"><span title=\"typ\">CP</span> <span title=\"rela\">NA</span></span></div><div class=\"children hor wrap ltr\"><div class=\"contnr c0 trm ltr  \" ><div class=\"lbl c0 trm \" ><span class=\"nd\">338634 </span> <a class=\" txtu hbo\" target=\"_blank\" href=\"https://shebanq.ancient-data.org/hebrew/word?version=2021&amp;id=1AM\" title=\"Show this on SHEBANQ\"><span class=\"txtp\">ʔim-</span></a></div></div></div></div></div></div><div class=\"contnr c1  ltr  \" ><div class=\"lbl c1  \" ><span class=\"nd\">phrase:855029 </span> <span class=\"\"><span title=\"typ\">NP</span> <span title=\"function\">Subj</span></span></div><div class=\"children hor wrap ltr\"><div class=\"contnr c1  ltr  \" ><div class=\"lbl c1  \" ><span class=\"nd\">phrase_atom:1118882 </span> <span class=\"\"><span title=\"typ\">NP</span> <span title=\"rela\">NA</span></span></div><div class=\"children hor wrap ltr\"><div class=\"contnr c0 trm ltr  \" ><div class=\"lbl c0 trm \" ><span class=\"nd\">338635 </span> <a class=\" txtu hbo\" target=\"_blank\" href=\"https://shebanq.ancient-data.org/hebrew/word?version=2021&amp;id=1CNHn\" title=\"Show this on SHEBANQ\"><span class=\"txtp\">ˈšnôṯˈeʸḵā </span></a></div></div></div></div></div></div><div class=\"contnr c1  ltr  \" ><div class=\"lbl c1  \" ><span class=\"nd\">phrase:855030 </span> <span class=\"\"><span title=\"typ\">PP</span> <span title=\"function\">PreC</span></span></div><div class=\"children hor wrap ltr\"><div class=\"contnr c1  ltr  \" ><div class=\"lbl c1  \" ><span class=\"nd\">phrase_atom:1118883 </span> <span class=\"\"><span title=\"typ\">PP</span> <span title=\"rela\">NA</span></span></div><div class=\"children hor wrap ltr\"><div class=\"contnr c0 trm ltr  \" ><div class=\"lbl c0 trm \" ><span class=\"nd\">338636 </span> <a class=\" txtu hbo\" target=\"_blank\" href=\"https://shebanq.ancient-data.org/hebrew/word?version=2021&amp;id=1K\" title=\"Show this on SHEBANQ\"><span class=\"txtp\">kˈi</span></a></div></div><div class=\"contnr c1  ltr  \" ><div class=\"lbl c1  \" ><span class=\"nd\">subphrase:1387937 </span> <span class=\"\"><span title=\"number\"></span></span></div><div class=\"children hor wrap ltr\"><div class=\"contnr c0 trm ltr  \" ><div class=\"lbl c0 trm \" ><span class=\"nd\">338637 </span> <a class=\" txtu hbo\" target=\"_blank\" href=\"https://shebanq.ancient-data.org/hebrew/word?version=2021&amp;id=1JWMn\" title=\"Show this on SHEBANQ\"><span class=\"txtp\">ymˌê </span></a></div></div></div></div><div class=\"contnr c1  ltr  \" ><div class=\"lbl c1  \" ><span class=\"nd\">subphrase:1387938 </span> <span class=\"\"><span title=\"number\"></span></span></div><div class=\"children hor wrap ltr\"><div class=\"contnr c0 trm ltr  \" ><div class=\"lbl c0 trm \" ><span class=\"nd\">338638 </span> <a class=\" txtu hbo\" target=\"_blank\" href=\"https://shebanq.ancient-data.org/hebrew/word?version=2021&amp;id=1GBRn\" title=\"Show this on SHEBANQ\"><span class=\"txtp\">ḡˈāver . </span></a></div></div></div></div></div></div></div></div></div></div></div></div></div></div></div></div></div></div></div></div></div>"
      ],
      "text/plain": [
       "<IPython.core.display.HTML object>"
      ]
     },
     "metadata": {},
     "output_type": "display_data"
    }
   ],
   "source": [
    "j = A.nodeFromSectionStr(\"Job 10:5\")\n",
    "\n",
    "A.pretty(j, fmt=\"text-phono-full\", withNodes=True, hideTypes=False)"
   ]
  },
  {
   "cell_type": "markdown",
   "id": "839cc574-4d5c-4752-8945-e7521b37fb64",
   "metadata": {},
   "source": [
    "Now we reduce:"
   ]
  },
  {
   "cell_type": "code",
   "execution_count": 22,
   "id": "0c601392-bd1d-471e-964c-dc9690ca8922",
   "metadata": {},
   "outputs": [
    {
     "data": {
      "text/html": [
       "<div class=\"tfsechead ltr\"><span class=\"ltr\"><a target=\"_blank\" href=\"https://shebanq.ancient-data.org/hebrew/text?book=Iob&amp;chapter=10&amp;verse=5&amp;version=2021&amp;mr=m&amp;qw=q&amp;tp=txt_p&amp;tr=hb&amp;wget=v&amp;qget=v&amp;nget=vt\" title=\"Show this on SHEBANQ\" sec=\"Job 10:5\">Job 10:5</a></span></div><div class=\"ltr children\"><div class=\"contnr c3  ltr  \" ><div class=\"lbl c3  \" ><span class=\"nd\">verse:1432286 </span></div><div class=\"children hor wrap ltr\"><div class=\"contnr c2  ltr  \" ><div class=\"lbl c2  \" ><span class=\"nd\">clause:498202 </span> <span class=\"\"><span title=\"typ\">NmCl</span> <span title=\"rela\">NA</span></span></div><div class=\"children hor wrap ltr\"><div class=\"contnr c1  ltr  \" ><div class=\"lbl c1  \" ><span class=\"nd\">phrase:855025 </span> <span class=\"\"><span title=\"typ\">InrP</span> <span title=\"function\">Ques</span></span></div><div class=\"children hor wrap ltr\"><div class=\"contnr c0 trm ltr  \" ><div class=\"lbl c0 trm \" ><span class=\"nd\">338629 </span> <a class=\" txtu hbo\" target=\"_blank\" href=\"https://shebanq.ancient-data.org/hebrew/word?version=2021&amp;id=1Hi\" title=\"Show this on SHEBANQ\"><span class=\"txtp\">hᵃ</span></a></div></div></div></div><div class=\"contnr c1  ltr  \" ><div class=\"lbl c1  \" ><span class=\"nd\">phrase:855026 </span> <span class=\"\"><span title=\"typ\">PP</span> <span title=\"function\">PreC</span></span></div><div class=\"children hor wrap ltr\"><div class=\"contnr c0 trm ltr  \" ><div class=\"lbl c0 trm \" ><span class=\"nd\">338630 </span> <a class=\" txtu hbo\" target=\"_blank\" href=\"https://shebanq.ancient-data.org/hebrew/word?version=2021&amp;id=1K\" title=\"Show this on SHEBANQ\"><span class=\"txtp\">ḵi</span></a></div></div><div class=\"contnr c0 trm ltr  \" ><div class=\"lbl c0 trm \" ><span class=\"nd\">338631 </span> <a class=\" txtu hbo\" target=\"_blank\" href=\"https://shebanq.ancient-data.org/hebrew/word?version=2021&amp;id=1JWMn\" title=\"Show this on SHEBANQ\"><span class=\"txtp\">ymˈê </span></a></div></div><div class=\"contnr c0 trm ltr  \" ><div class=\"lbl c0 trm \" ><span class=\"nd\">338632 </span> <a class=\" txtu hbo\" target=\"_blank\" href=\"https://shebanq.ancient-data.org/hebrew/word?version=2021&amp;id=1ANWCn\" title=\"Show this on SHEBANQ\"><span class=\"txtp\">ʔᵉnˈôš </span></a></div></div></div></div><div class=\"contnr c1  ltr  \" ><div class=\"lbl c1  \" ><span class=\"nd\">phrase:855027 </span> <span class=\"\"><span title=\"typ\">NP</span> <span title=\"function\">Subj</span></span></div><div class=\"children hor wrap ltr\"><div class=\"contnr c0 trm ltr  \" ><div class=\"lbl c0 trm \" ><span class=\"nd\">338633 </span> <a class=\" txtu hbo\" target=\"_blank\" href=\"https://shebanq.ancient-data.org/hebrew/word?version=2021&amp;id=1JWMn\" title=\"Show this on SHEBANQ\"><span class=\"txtp\">yāmˈeʸḵā </span></a></div></div></div></div></div></div><div class=\"contnr c2  ltr  \" ><div class=\"lbl c2  \" ><span class=\"nd\">clause:498203 </span> <span class=\"\"><span title=\"typ\">NmCl</span> <span title=\"rela\">NA</span></span></div><div class=\"children hor wrap ltr\"><div class=\"contnr c1  ltr  \" ><div class=\"lbl c1  \" ><span class=\"nd\">phrase:855028 </span> <span class=\"\"><span title=\"typ\">CP</span> <span title=\"function\">Conj</span></span></div><div class=\"children hor wrap ltr\"><div class=\"contnr c0 trm ltr  \" ><div class=\"lbl c0 trm \" ><span class=\"nd\">338634 </span> <a class=\" txtu hbo\" target=\"_blank\" href=\"https://shebanq.ancient-data.org/hebrew/word?version=2021&amp;id=1AM\" title=\"Show this on SHEBANQ\"><span class=\"txtp\">ʔim-</span></a></div></div></div></div><div class=\"contnr c1  ltr  \" ><div class=\"lbl c1  \" ><span class=\"nd\">phrase:855029 </span> <span class=\"\"><span title=\"typ\">NP</span> <span title=\"function\">Subj</span></span></div><div class=\"children hor wrap ltr\"><div class=\"contnr c0 trm ltr  \" ><div class=\"lbl c0 trm \" ><span class=\"nd\">338635 </span> <a class=\" txtu hbo\" target=\"_blank\" href=\"https://shebanq.ancient-data.org/hebrew/word?version=2021&amp;id=1CNHn\" title=\"Show this on SHEBANQ\"><span class=\"txtp\">ˈšnôṯˈeʸḵā </span></a></div></div></div></div><div class=\"contnr c1  ltr  \" ><div class=\"lbl c1  \" ><span class=\"nd\">phrase:855030 </span> <span class=\"\"><span title=\"typ\">PP</span> <span title=\"function\">PreC</span></span></div><div class=\"children hor wrap ltr\"><div class=\"contnr c0 trm ltr  \" ><div class=\"lbl c0 trm \" ><span class=\"nd\">338636 </span> <a class=\" txtu hbo\" target=\"_blank\" href=\"https://shebanq.ancient-data.org/hebrew/word?version=2021&amp;id=1K\" title=\"Show this on SHEBANQ\"><span class=\"txtp\">kˈi</span></a></div></div><div class=\"contnr c0 trm ltr  \" ><div class=\"lbl c0 trm \" ><span class=\"nd\">338637 </span> <a class=\" txtu hbo\" target=\"_blank\" href=\"https://shebanq.ancient-data.org/hebrew/word?version=2021&amp;id=1JWMn\" title=\"Show this on SHEBANQ\"><span class=\"txtp\">ymˌê </span></a></div></div><div class=\"contnr c0 trm ltr  \" ><div class=\"lbl c0 trm \" ><span class=\"nd\">338638 </span> <a class=\" txtu hbo\" target=\"_blank\" href=\"https://shebanq.ancient-data.org/hebrew/word?version=2021&amp;id=1GBRn\" title=\"Show this on SHEBANQ\"><span class=\"txtp\">ḡˈāver . </span></a></div></div></div></div></div></div></div></div></div>"
      ],
      "text/plain": [
       "<IPython.core.display.HTML object>"
      ]
     },
     "metadata": {},
     "output_type": "display_data"
    }
   ],
   "source": [
    "hiddenTypes = {\n",
    "    \"half_verse\",\n",
    "    \"sentence\",\n",
    "    \"sentence_atom\",\n",
    "    \"clause_atom\",\n",
    "    \"phrase_atom\",\n",
    "    \"subphrase\",\n",
    "}\n",
    "A.pretty(j, fmt=\"text-phono-full\", withNodes=True, hideTypes=True, hiddenTypes=hiddenTypes)"
   ]
  },
  {
   "cell_type": "markdown",
   "id": "4ad7c8aa-3d62-4914-818f-fa89e832365a",
   "metadata": {},
   "source": [
    "We can also decide not to drill down further than the *phrase* level."
   ]
  },
  {
   "cell_type": "code",
   "execution_count": 55,
   "id": "6b509b63-c3a4-421b-9759-6b28eb4eb7b0",
   "metadata": {},
   "outputs": [
    {
     "data": {
      "text/html": [
       "<div class=\"tfsechead ltr\"><span class=\"ltr\"><a target=\"_blank\" href=\"https://shebanq.ancient-data.org/hebrew/text?book=Iob&amp;chapter=10&amp;verse=5&amp;version=2021&amp;mr=m&amp;qw=q&amp;tp=txt_p&amp;tr=hb&amp;wget=v&amp;qget=v&amp;nget=vt\" title=\"Show this on SHEBANQ\" sec=\"Job 10:5\">Job 10:5</a></span></div><div class=\"ltr children\"><div class=\"contnr c3  ltr  \" ><div class=\"lbl c3  \" ><span class=\"nd\">verse:1432286 </span></div><div class='features'><span class=\"chapter xft\" ><span class=\"f\">chapter=</span>10</span><span class=\"verse xft\" ><span class=\"f\">verse=</span>5</span></div><div class=\"children hor wrap ltr\"><div class=\"contnr c2  ltr  \" ><div class=\"lbl c2  \" ><span class=\"nd\">clause:498202 </span> <span class=\"\"><span title=\"typ\">NmCl</span> <span title=\"rela\">NA</span></span></div><div class=\"children hor wrap ltr\"><div class=\"contnr c1 trm ltr  \" ><div class=\"lbl c1 trm \" ><span class=\"nd\">phrase:855025 </span> <span class=\"\"><span class=\"plain ltr  \" ><span class=\" ltr\"> </span><span class=\"txtp\">hᵃ</span></span></span></div></div><div class=\"contnr c1 trm ltr  \" ><div class=\"lbl c1 trm \" ><span class=\"nd\">phrase:855026 </span> <span class=\"\"><span class=\"plain ltr  \" ><span class=\" ltr\"> </span><span class=\"txtp\">ḵi</span><span class=\"txtp\">ymˈê </span><span class=\"txtp\">ʔᵉnˈôš </span></span></span></div></div><div class=\"contnr c1 trm ltr  \" ><div class=\"lbl c1 trm \" ><span class=\"nd\">phrase:855027 </span> <span class=\"\"><span class=\"plain ltr  \" ><span class=\" ltr\"> </span><span class=\"txtp\">yāmˈeʸḵā </span></span></span></div></div></div></div><div class=\"contnr c2  ltr  \" ><div class=\"lbl c2  \" ><span class=\"nd\">clause:498203 </span> <span class=\"\"><span title=\"typ\">NmCl</span> <span title=\"rela\">NA</span></span></div><div class=\"children hor wrap ltr\"><div class=\"contnr c1 trm ltr  \" ><div class=\"lbl c1 trm \" ><span class=\"nd\">phrase:855028 </span> <span class=\"\"><span class=\"plain ltr  \" ><span class=\" ltr\"> </span><span class=\"txtp\">ʔim-</span></span></span></div></div><div class=\"contnr c1 trm ltr  \" ><div class=\"lbl c1 trm \" ><span class=\"nd\">phrase:855029 </span> <span class=\"\"><span class=\"plain ltr  \" ><span class=\" ltr\"> </span><span class=\"txtp\">ˈšnôṯˈeʸḵā </span></span></span></div></div><div class=\"contnr c1 trm ltr  \" ><div class=\"lbl c1 trm \" ><span class=\"nd\">phrase:855030 </span> <span class=\"\"><span class=\"plain ltr  \" ><span class=\" ltr\"> </span><span class=\"txtp\">kˈi</span><span class=\"txtp\">ymˌê </span><span class=\"txtp\">ḡˈāver . </span></span></span></div></div></div></div></div></div></div>"
      ],
      "text/plain": [
       "<IPython.core.display.HTML object>"
      ]
     },
     "metadata": {},
     "output_type": "display_data"
    }
   ],
   "source": [
    "A.pretty(\n",
    "    j,\n",
    "    fmt=\"text-phono-full\",\n",
    "    withNodes=True,\n",
    "    hideTypes=True,\n",
    "    hiddenTypes=hiddenTypes,\n",
    "    baseTypes={\"phrase\"},\n",
    ")"
   ]
  },
  {
   "cell_type": "markdown",
   "id": "405d0d10-e7cb-4172-9f8a-c43e563d0b69",
   "metadata": {},
   "source": [
    "## Querying and highlighting\n",
    "\n",
    "Displaying text fragments is important when you need to show query results.\n",
    "\n",
    "Here is how the display mechanism works with the query mechanism.\n",
    "\n",
    "Let's look for the prepositions in Job 10:5"
   ]
  },
  {
   "cell_type": "code",
   "execution_count": 56,
   "id": "0929fe0b-c1a4-45d6-85cb-fadaa0957f5d",
   "metadata": {},
   "outputs": [],
   "source": [
    "query = \"\"\"\n",
    "book book@en=Job\n",
    "  chapter chapter=10\n",
    "    verse verse=5\n",
    "      word sp=prep\n",
    "\"\"\""
   ]
  },
  {
   "cell_type": "code",
   "execution_count": 57,
   "id": "473d80af-279c-42fd-b8fc-4f5b9ff38f02",
   "metadata": {},
   "outputs": [
    {
     "name": "stdout",
     "output_type": "stream",
     "text": [
      "  0.23s 2 results\n"
     ]
    }
   ],
   "source": [
    "results = A.search(query)"
   ]
  },
  {
   "cell_type": "code",
   "execution_count": 58,
   "id": "1a50e947-07dc-4223-8c1a-b67099138f5b",
   "metadata": {},
   "outputs": [
    {
     "data": {
      "text/html": [
       "<p><b>verse</b> <i>1</i>"
      ],
      "text/plain": [
       "<IPython.core.display.HTML object>"
      ]
     },
     "metadata": {},
     "output_type": "display_data"
    },
    {
     "data": {
      "text/html": [
       "<div class=\"tfsechead rtl\"><span class=\"ltr\"><a target=\"_blank\" href=\"https://shebanq.ancient-data.org/hebrew/text?book=Iob&amp;chapter=10&amp;verse=5&amp;version=2021&amp;mr=m&amp;qw=q&amp;tp=txt_p&amp;tr=hb&amp;wget=v&amp;qget=v&amp;nget=vt\" title=\"Show this on SHEBANQ\" sec=\"Job 10:5\">Job 10:5</a></span></div><div class=\"rtl children\"><div class=\"contnr c3  rtl  \" ><div class=\"lbl c3  \" ><span class=\"nd\">verse </span></div><div class='features'><span class=\"chapter xft\" ><span class=\"f\">chapter=</span>10</span><span class=\"verse xft\" ><span class=\"f\">verse=</span>5</span></div><div class=\"children hor wrap rtl\"><div class=\"contnr c2  rtl  \" ><div class=\"lbl c2  \" ><span class=\"nd\">sentence </span> <span class=\"\"><span title=\"number\">10</span></span></div><div class=\"children hor wrap rtl\"><div class=\"contnr c2  rtl  \" ><div class=\"lbl c2  \" ><span class=\"nd\">clause </span> <span class=\"\"><span title=\"typ\">NmCl</span> <span title=\"rela\">NA</span></span></div><div class=\"children hor wrap rtl\"><div class=\"contnr c1  rtl  \" ><div class=\"lbl c1  \" ><span class=\"nd\">phrase </span> <span class=\"\"><span title=\"typ\">InrP</span> <span title=\"function\">Ques</span></span></div><div class=\"children hor wrap rtl\"><div class=\"contnr c0 trm rtl  \" ><div class=\"lbl c0 trm \" ><a class=\" txtu hbo\" target=\"_blank\" href=\"https://shebanq.ancient-data.org/hebrew/word?version=2021&amp;id=1Hi\" title=\"Show this on SHEBANQ\"><span class=\"txtu hbo\">הֲ</span></a></div><div class='features'><span class=\"sp xft\" ><span class=\"f\">sp=</span>inrg</span></div></div></div></div><div class=\"contnr c1  rtl  \" ><div class=\"lbl c1  \" ><span class=\"nd\">phrase </span> <span class=\"\"><span title=\"typ\">PP</span> <span title=\"function\">PreC</span></span></div><div class=\"children hor wrap rtl\"><div class=\"contnr c0 trm rtl  hl\" ><div class=\"lbl c0 trm hl\" ><a class=\" txtu hbo\" target=\"_blank\" href=\"https://shebanq.ancient-data.org/hebrew/word?version=2021&amp;id=1K\" title=\"Show this on SHEBANQ\"><span class=\"txtu hbo\">כִ</span></a></div><div class='features'><span class=\"sp xft\" ><span class=\"f\">sp=</span>prep</span></div></div><div class=\"contnr c0 trm rtl  \" ><div class=\"lbl c0 trm \" ><a class=\" txtu hbo\" target=\"_blank\" href=\"https://shebanq.ancient-data.org/hebrew/word?version=2021&amp;id=1JWMn\" title=\"Show this on SHEBANQ\"><span class=\"txtu hbo\">ימֵ֣י </span></a></div><div class='features'><span class=\"sp xft\" ><span class=\"f\">sp=</span>subs</span></div></div><div class=\"contnr c0 trm rtl  \" ><div class=\"lbl c0 trm \" ><a class=\" txtu hbo\" target=\"_blank\" href=\"https://shebanq.ancient-data.org/hebrew/word?version=2021&amp;id=1ANWCn\" title=\"Show this on SHEBANQ\"><span class=\"txtu hbo\">אֱנֹ֣ושׁ </span></a></div><div class='features'><span class=\"sp xft\" ><span class=\"f\">sp=</span>subs</span></div></div></div></div><div class=\"contnr c1  rtl  \" ><div class=\"lbl c1  \" ><span class=\"nd\">phrase </span> <span class=\"\"><span title=\"typ\">NP</span> <span title=\"function\">Subj</span></span></div><div class=\"children hor wrap rtl\"><div class=\"contnr c0 trm rtl  \" ><div class=\"lbl c0 trm \" ><a class=\" txtu hbo\" target=\"_blank\" href=\"https://shebanq.ancient-data.org/hebrew/word?version=2021&amp;id=1JWMn\" title=\"Show this on SHEBANQ\"><span class=\"txtu hbo\">יָמֶ֑יךָ </span></a></div><div class='features'><span class=\"sp xft\" ><span class=\"f\">sp=</span>subs</span></div></div></div></div></div></div></div></div><div class=\"contnr c2  rtl  \" ><div class=\"lbl c2  \" ><span class=\"nd\">sentence </span> <span class=\"\"><span title=\"number\">11</span></span></div><div class=\"children hor wrap rtl\"><div class=\"contnr c2  rtl  \" ><div class=\"lbl c2  \" ><span class=\"nd\">clause </span> <span class=\"\"><span title=\"typ\">NmCl</span> <span title=\"rela\">NA</span></span></div><div class=\"children hor wrap rtl\"><div class=\"contnr c1  rtl  \" ><div class=\"lbl c1  \" ><span class=\"nd\">phrase </span> <span class=\"\"><span title=\"typ\">CP</span> <span title=\"function\">Conj</span></span></div><div class=\"children hor wrap rtl\"><div class=\"contnr c0 trm rtl  \" ><div class=\"lbl c0 trm \" ><a class=\" txtu hbo\" target=\"_blank\" href=\"https://shebanq.ancient-data.org/hebrew/word?version=2021&amp;id=1AM\" title=\"Show this on SHEBANQ\"><span class=\"txtu hbo\">אִם־</span></a></div><div class='features'><span class=\"sp xft\" ><span class=\"f\">sp=</span>conj</span></div></div></div></div><div class=\"contnr c1  rtl  \" ><div class=\"lbl c1  \" ><span class=\"nd\">phrase </span> <span class=\"\"><span title=\"typ\">NP</span> <span title=\"function\">Subj</span></span></div><div class=\"children hor wrap rtl\"><div class=\"contnr c0 trm rtl  \" ><div class=\"lbl c0 trm \" ><a class=\" txtu hbo\" target=\"_blank\" href=\"https://shebanq.ancient-data.org/hebrew/word?version=2021&amp;id=1CNHn\" title=\"Show this on SHEBANQ\"><span class=\"txtu hbo\">שְׁ֝נֹותֶ֗יךָ </span></a></div><div class='features'><span class=\"sp xft\" ><span class=\"f\">sp=</span>subs</span></div></div></div></div><div class=\"contnr c1  rtl  \" ><div class=\"lbl c1  \" ><span class=\"nd\">phrase </span> <span class=\"\"><span title=\"typ\">PP</span> <span title=\"function\">PreC</span></span></div><div class=\"children hor wrap rtl\"><div class=\"contnr c0 trm rtl  hl\" ><div class=\"lbl c0 trm hl\" ><a class=\" txtu hbo\" target=\"_blank\" href=\"https://shebanq.ancient-data.org/hebrew/word?version=2021&amp;id=1K\" title=\"Show this on SHEBANQ\"><span class=\"txtu hbo\">כִּ֣</span></a></div><div class='features'><span class=\"sp xft\" ><span class=\"f\">sp=</span>prep</span></div></div><div class=\"contnr c0 trm rtl  \" ><div class=\"lbl c0 trm \" ><a class=\" txtu hbo\" target=\"_blank\" href=\"https://shebanq.ancient-data.org/hebrew/word?version=2021&amp;id=1JWMn\" title=\"Show this on SHEBANQ\"><span class=\"txtu hbo\">ימֵי </span></a></div><div class='features'><span class=\"sp xft\" ><span class=\"f\">sp=</span>subs</span></div></div><div class=\"contnr c0 trm rtl  \" ><div class=\"lbl c0 trm \" ><a class=\" txtu hbo\" target=\"_blank\" href=\"https://shebanq.ancient-data.org/hebrew/word?version=2021&amp;id=1GBRn\" title=\"Show this on SHEBANQ\"><span class=\"txtu hbo\">גָֽבֶר׃ </span></a></div><div class='features'><span class=\"sp xft\" ><span class=\"f\">sp=</span>subs</span></div></div></div></div></div></div></div></div></div></div></div>"
      ],
      "text/plain": [
       "<IPython.core.display.HTML object>"
      ]
     },
     "metadata": {},
     "output_type": "display_data"
    }
   ],
   "source": [
    "A.show(results, condensed=True)"
   ]
  },
  {
   "cell_type": "markdown",
   "id": "4c86fc4e-c7e6-46e5-a730-e5a4f4dac42e",
   "metadata": {},
   "source": [
    "The results are highlighted, and the word features that were mentioned in the query (`sp`) are shown for each word."
   ]
  },
  {
   "cell_type": "markdown",
   "id": "1e7ada13-3e44-4c14-89e5-0d364bd5bbfe",
   "metadata": {},
   "source": [
    "When it comes to displaying annotations on a text, the situation is much the same:\n",
    "\n",
    "annotations have targets, we want to highlight the targets in the text.\n",
    "Annotations have bodies, and we want to display the bodies as extra information on top of the text.\n",
    "\n",
    "Having a system of nodes and edges helps to display text fragments in agile ways.\n",
    "\n",
    "See also [display design](https://annotation.github.io/text-fabric/tf/about/displaydesign.html)."
   ]
  },
  {
   "cell_type": "markdown",
   "id": "d6ff2dbc-3100-41e5-8e5d-590f61cd8022",
   "metadata": {},
   "source": [
    "## Further\n",
    "\n",
    "This is just scratching the surface.\n",
    "\n",
    "Once you have your nodes, edges and features in place, the ground is fertile to build\n",
    "additional workflows, and to do data science. Or build apps."
   ]
  },
  {
   "cell_type": "markdown",
   "id": "7fdf02f1-0f8a-4df9-8ff6-a3d0e80d9d7c",
   "metadata": {},
   "source": [
    "The next important step is to produce and share and invoke new annotation data.\n",
    "\n",
    "As an example, the following notebook shows how we can load the correspondence of Descartes\n",
    "with additional data that relates similar sentences in that corpus:\n",
    "\n",
    "[CLARIAH/descartes-tf](https://nbviewer.org/github/CLARIAH/descartes-tf/blob/main/tutorial/similar.ipynb)."
   ]
  },
  {
   "cell_type": "code",
   "execution_count": null,
   "id": "fc934c8c-f85a-4c59-b346-2d9917273e29",
   "metadata": {},
   "outputs": [],
   "source": []
  }
 ],
 "metadata": {
  "kernelspec": {
   "display_name": "Python 3 (ipykernel)",
   "language": "python",
   "name": "python3"
  },
  "language_info": {
   "codemirror_mode": {
    "name": "ipython",
    "version": 3
   },
   "file_extension": ".py",
   "mimetype": "text/x-python",
   "name": "python",
   "nbconvert_exporter": "python",
   "pygments_lexer": "ipython3",
   "version": "3.11.1"
  }
 },
 "nbformat": 4,
 "nbformat_minor": 5
}
