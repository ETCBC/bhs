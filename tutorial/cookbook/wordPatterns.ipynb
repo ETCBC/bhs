{
 "cells": [
  {
   "cell_type": "markdown",
   "id": "bfef297f-d6cf-4267-8811-a117fa12f440",
   "metadata": {},
   "source": [
    "# Word patterns\n",
    "\n",
    "## \"Big words\"\n",
    "\n",
    "We want to count the words in the BHSA, but not the words as members of the `word` type, but the words in as far as they\n",
    "are written together."
   ]
  },
  {
   "cell_type": "code",
   "execution_count": 1,
   "id": "0da2a944-3350-4200-b691-d25880ec8aae",
   "metadata": {
    "tags": []
   },
   "outputs": [],
   "source": [
    "from tf.app import use"
   ]
  },
  {
   "cell_type": "code",
   "execution_count": 2,
   "id": "870fc2d8-7d12-4bba-8e7f-c67fe34474b4",
   "metadata": {
    "tags": []
   },
   "outputs": [
    {
     "data": {
      "text/markdown": [
       "**Locating corpus resources ...**"
      ],
      "text/plain": [
       "<IPython.core.display.Markdown object>"
      ]
     },
     "metadata": {},
     "output_type": "display_data"
    },
    {
     "data": {
      "text/html": [
       "<b title=\"local release\">app:</b> <span title=\"rv1.8=#gd905e3fb6e80d0fa537600337614adc2af157309 offline under /Users/me/text-fabric-data/github\">~/text-fabric-data/github/ETCBC/bhsa/app</span>"
      ],
      "text/plain": [
       "<IPython.core.display.HTML object>"
      ]
     },
     "metadata": {},
     "output_type": "display_data"
    },
    {
     "data": {
      "text/html": [
       "<b title=\"local release\">data:</b> <span title=\"rv1.8=#gd905e3fb6e80d0fa537600337614adc2af157309 offline under /Users/me/text-fabric-data/github\">~/text-fabric-data/github/ETCBC/bhsa/tf/2021</span>"
      ],
      "text/plain": [
       "<IPython.core.display.HTML object>"
      ]
     },
     "metadata": {},
     "output_type": "display_data"
    },
    {
     "data": {
      "text/html": [
       "<b title=\"local release\">data:</b> <span title=\"rv2.1=#gaba4367b49750089e4e4122415a77cac43bd97bc offline under /Users/me/text-fabric-data/github\">~/text-fabric-data/github/ETCBC/phono/tf/2021</span>"
      ],
      "text/plain": [
       "<IPython.core.display.HTML object>"
      ]
     },
     "metadata": {},
     "output_type": "display_data"
    },
    {
     "data": {
      "text/html": [
       "<b title=\"local release\">data:</b> <span title=\"rv2.1=#gf45f6cc3c4f933dba6e649f49cdb14a40dcf333f offline under /Users/me/text-fabric-data/github\">~/text-fabric-data/github/ETCBC/parallels/tf/2021</span>"
      ],
      "text/plain": [
       "<IPython.core.display.HTML object>"
      ]
     },
     "metadata": {},
     "output_type": "display_data"
    },
    {
     "data": {
      "text/html": [
       "\n",
       "            <b>Text-Fabric:</b> <a target=\"_blank\" href=\"https://annotation.github.io/text-fabric/tf/cheatsheet.html\" title=\"text-fabric-api\">Text-Fabric API 11.4.14</a>, <a target=\"_blank\" href=\"https://github.com/ETCBC/bhsa/blob/master/app\" title=\"ETCBC/bhsa app\">ETCBC/bhsa/app  v3</a>, <a target=\"_blank\" href=\"https://annotation.github.io/text-fabric/tf/about/searchusage.html\" title=\"Search Templates Introduction and Reference\">Search Reference</a><br>\n",
       "            <b>Data:</b> <a target=\"_blank\" href=\"https://ETCBC.github.io/bhsa/\" title=\"provenance of BHSA = Biblia Hebraica Stuttgartensia Amstelodamensis\">ETCBC - bhsa 2021</a>, <a target=\"_blank\" href=\"https://annotation.github.io/text-fabric/tf/writing/hebrew.html\" title=\"How TF features represent text\">Character table</a>, <a target=\"_blank\" href=\"https://ETCBC.github.io/bhsa/features/0_home\" title=\"ETCBC - bhsa feature documentation\">Feature docs</a><br>\n",
       "            <details class=\"nodeinfo\"><summary><b>Node types</b></summary>\n",
       "<table class=\"nodeinfo\">\n",
       "    <tr>\n",
       "        <th>Name</th>\n",
       "        <th># of nodes</th>\n",
       "        <th># slots/node</th>\n",
       "        <th>% coverage</th>\n",
       "    </tr>\n",
       "\n",
       "<tr>\n",
       "    <th>book</th>\n",
       "    <td>39</td>\n",
       "    <td>10938.21</td>\n",
       "    <td><b>100</b></td>\n",
       "</tr>\n",
       "\n",
       "<tr>\n",
       "    <th>chapter</th>\n",
       "    <td>929</td>\n",
       "    <td>459.19</td>\n",
       "    <td><b>100</b></td>\n",
       "</tr>\n",
       "\n",
       "<tr>\n",
       "    <th>lex</th>\n",
       "    <td>9230</td>\n",
       "    <td>46.22</td>\n",
       "    <td><b>100</b></td>\n",
       "</tr>\n",
       "\n",
       "<tr>\n",
       "    <th>verse</th>\n",
       "    <td>23213</td>\n",
       "    <td>18.38</td>\n",
       "    <td><b>100</b></td>\n",
       "</tr>\n",
       "\n",
       "<tr>\n",
       "    <th>half_verse</th>\n",
       "    <td>45179</td>\n",
       "    <td>9.44</td>\n",
       "    <td><b>100</b></td>\n",
       "</tr>\n",
       "\n",
       "<tr>\n",
       "    <th>sentence</th>\n",
       "    <td>63717</td>\n",
       "    <td>6.70</td>\n",
       "    <td><b>100</b></td>\n",
       "</tr>\n",
       "\n",
       "<tr>\n",
       "    <th>sentence_atom</th>\n",
       "    <td>64514</td>\n",
       "    <td>6.61</td>\n",
       "    <td><b>100</b></td>\n",
       "</tr>\n",
       "\n",
       "<tr>\n",
       "    <th>clause</th>\n",
       "    <td>88131</td>\n",
       "    <td>4.84</td>\n",
       "    <td><b>100</b></td>\n",
       "</tr>\n",
       "\n",
       "<tr>\n",
       "    <th>clause_atom</th>\n",
       "    <td>90704</td>\n",
       "    <td>4.70</td>\n",
       "    <td><b>100</b></td>\n",
       "</tr>\n",
       "\n",
       "<tr>\n",
       "    <th>phrase</th>\n",
       "    <td>253203</td>\n",
       "    <td>1.68</td>\n",
       "    <td><b>100</b></td>\n",
       "</tr>\n",
       "\n",
       "<tr>\n",
       "    <th>phrase_atom</th>\n",
       "    <td>267532</td>\n",
       "    <td>1.59</td>\n",
       "    <td><b>100</b></td>\n",
       "</tr>\n",
       "\n",
       "<tr>\n",
       "    <th>subphrase</th>\n",
       "    <td>113850</td>\n",
       "    <td>1.42</td>\n",
       "    <td>38</td>\n",
       "</tr>\n",
       "\n",
       "<tr>\n",
       "    <th><i>word</i></th>\n",
       "    <td>426590</td>\n",
       "    <td>1.00</td>\n",
       "    <td><b>100</b></td>\n",
       "</tr>\n",
       "</table></details>\n",
       "            <b>Sets:</b> no custom sets<br>\n",
       "            <b>Features:</b><br>\n",
       "<details><summary><b>Parallel Passages</b></summary>\n",
       "    <div class=\"fcorpus\">\n",
       "\n",
       "<div class=\"frow\">\n",
       "    <div class=\"fnamecat edge\">\n",
       "<a target=\"_blank\" href=\"https://nbviewer.jupyter.org/github/ETCBC/parallels/blob/master/programs/parallels.ipynb\" title=\"~/text-fabric-data/github/ETCBC/parallels/tf/2021/crossref.tf\">crossref</a>\n",
       "</div>\n",
       "<div class=\"fmono\">int</div>\n",
       "\n",
       "<span> 🆗 links between similar passages</span>\n",
       "\n",
       "</div>\n",
       "\n",
       "    </div>\n",
       "</details>\n",
       "\n",
       "<details><summary><b>BHSA = Biblia Hebraica Stuttgartensia Amstelodamensis</b></summary>\n",
       "    <div class=\"fcorpus\">\n",
       "\n",
       "<div class=\"frow\">\n",
       "    <div class=\"fnamecat \">\n",
       "<a target=\"_blank\" href=\"https://ETCBC.github.io/bhsa/features/book\" title=\"~/text-fabric-data/github/ETCBC/bhsa/tf/2021/book.tf\">book</a>\n",
       "</div>\n",
       "<div class=\"fmono\">str</div>\n",
       "\n",
       "<span> ✅ book name in Latin (Genesis; Numeri; Reges1; ...)</span>\n",
       "\n",
       "</div>\n",
       "\n",
       "<div class=\"frow\">\n",
       "    <div class=\"fnamecat \">\n",
       "<a target=\"_blank\" href=\"https://ETCBC.github.io/bhsa/features/book@ll\" title=\"~/text-fabric-data/github/ETCBC/bhsa/tf/2021/book@am.tf\">book@ll</a>\n",
       "</div>\n",
       "<div class=\"fmono\">str</div>\n",
       "\n",
       "<span> ✅ book name in amharic (ኣማርኛ)</span>\n",
       "\n",
       "</div>\n",
       "\n",
       "<div class=\"frow\">\n",
       "    <div class=\"fnamecat \">\n",
       "<a target=\"_blank\" href=\"https://ETCBC.github.io/bhsa/features/chapter\" title=\"~/text-fabric-data/github/ETCBC/bhsa/tf/2021/chapter.tf\">chapter</a>\n",
       "</div>\n",
       "<div class=\"fmono\">int</div>\n",
       "\n",
       "<span> ✅ chapter number (1; 2; 3; ...)</span>\n",
       "\n",
       "</div>\n",
       "\n",
       "<div class=\"frow\">\n",
       "    <div class=\"fnamecat \">\n",
       "<a target=\"_blank\" href=\"https://ETCBC.github.io/bhsa/features/code\" title=\"~/text-fabric-data/github/ETCBC/bhsa/tf/2021/code.tf\">code</a>\n",
       "</div>\n",
       "<div class=\"fmono\">int</div>\n",
       "\n",
       "<span> ✅ identifier of a clause atom relationship (0; 74; 367; ...)</span>\n",
       "\n",
       "</div>\n",
       "\n",
       "<div class=\"frow\">\n",
       "    <div class=\"fnamecat \">\n",
       "<a target=\"_blank\" href=\"https://ETCBC.github.io/bhsa/features/det\" title=\"~/text-fabric-data/github/ETCBC/bhsa/tf/2021/det.tf\">det</a>\n",
       "</div>\n",
       "<div class=\"fmono\">str</div>\n",
       "\n",
       "<span> ✅ determinedness of phrase(atom) (det; und; NA.)</span>\n",
       "\n",
       "</div>\n",
       "\n",
       "<div class=\"frow\">\n",
       "    <div class=\"fnamecat \">\n",
       "<a target=\"_blank\" href=\"https://ETCBC.github.io/bhsa/features/domain\" title=\"~/text-fabric-data/github/ETCBC/bhsa/tf/2021/domain.tf\">domain</a>\n",
       "</div>\n",
       "<div class=\"fmono\">str</div>\n",
       "\n",
       "<span> ✅ text type of clause (? (Unknown); N (narrative); D (discursive); Q (Quotation).)</span>\n",
       "\n",
       "</div>\n",
       "\n",
       "<div class=\"frow\">\n",
       "    <div class=\"fnamecat \">\n",
       "<a target=\"_blank\" href=\"https://ETCBC.github.io/bhsa/features/freq_lex\" title=\"~/text-fabric-data/github/ETCBC/bhsa/tf/2021/freq_lex.tf\">freq_lex</a>\n",
       "</div>\n",
       "<div class=\"fmono\">int</div>\n",
       "\n",
       "<span> ✅ frequency of lexemes</span>\n",
       "\n",
       "</div>\n",
       "\n",
       "<div class=\"frow\">\n",
       "    <div class=\"fnamecat \">\n",
       "<a target=\"_blank\" href=\"https://ETCBC.github.io/bhsa/features/function\" title=\"~/text-fabric-data/github/ETCBC/bhsa/tf/2021/function.tf\">function</a>\n",
       "</div>\n",
       "<div class=\"fmono\">str</div>\n",
       "\n",
       "<span> ✅ syntactic function of phrase (Cmpl; Objc; Pred; ...)</span>\n",
       "\n",
       "</div>\n",
       "\n",
       "<div class=\"frow\">\n",
       "    <div class=\"fnamecat \">\n",
       "<a target=\"_blank\" href=\"https://ETCBC.github.io/bhsa/features/g_cons\" title=\"~/text-fabric-data/github/ETCBC/bhsa/tf/2021/g_cons.tf\">g_cons</a>\n",
       "</div>\n",
       "<div class=\"fmono\">str</div>\n",
       "\n",
       "<span> ✅ word consonantal-transliterated (B R>CJT BR> >LHJM ...)</span>\n",
       "\n",
       "</div>\n",
       "\n",
       "<div class=\"frow\">\n",
       "    <div class=\"fnamecat \">\n",
       "<a target=\"_blank\" href=\"https://ETCBC.github.io/bhsa/features/g_cons_utf8\" title=\"~/text-fabric-data/github/ETCBC/bhsa/tf/2021/g_cons_utf8.tf\">g_cons_utf8</a>\n",
       "</div>\n",
       "<div class=\"fmono\">str</div>\n",
       "\n",
       "<span> ✅ word consonantal-Hebrew (ב ראשׁית ברא אלהים)</span>\n",
       "\n",
       "</div>\n",
       "\n",
       "<div class=\"frow\">\n",
       "    <div class=\"fnamecat \">\n",
       "<a target=\"_blank\" href=\"https://ETCBC.github.io/bhsa/features/g_lex\" title=\"~/text-fabric-data/github/ETCBC/bhsa/tf/2021/g_lex.tf\">g_lex</a>\n",
       "</div>\n",
       "<div class=\"fmono\">str</div>\n",
       "\n",
       "<span> ✅ lexeme pointed-transliterated (B.:- R;>CIJT B.@R@> >:ELOH ...)</span>\n",
       "\n",
       "</div>\n",
       "\n",
       "<div class=\"frow\">\n",
       "    <div class=\"fnamecat \">\n",
       "<a target=\"_blank\" href=\"https://ETCBC.github.io/bhsa/features/g_lex_utf8\" title=\"~/text-fabric-data/github/ETCBC/bhsa/tf/2021/g_lex_utf8.tf\">g_lex_utf8</a>\n",
       "</div>\n",
       "<div class=\"fmono\">str</div>\n",
       "\n",
       "<span> ✅ lexeme pointed-Hebrew (בְּ רֵאשִׁית בָּרָא אֱלֹה)</span>\n",
       "\n",
       "</div>\n",
       "\n",
       "<div class=\"frow\">\n",
       "    <div class=\"fnamecat \">\n",
       "<a target=\"_blank\" href=\"https://ETCBC.github.io/bhsa/features/g_word\" title=\"~/text-fabric-data/github/ETCBC/bhsa/tf/2021/g_word.tf\">g_word</a>\n",
       "</div>\n",
       "<div class=\"fmono\">str</div>\n",
       "\n",
       "<span> ✅ word pointed-transliterated (B.:- R;>CI73JT B.@R@74> >:ELOHI92JM)</span>\n",
       "\n",
       "</div>\n",
       "\n",
       "<div class=\"frow\">\n",
       "    <div class=\"fnamecat \">\n",
       "<a target=\"_blank\" href=\"https://ETCBC.github.io/bhsa/features/g_word_utf8\" title=\"~/text-fabric-data/github/ETCBC/bhsa/tf/2021/g_word_utf8.tf\">g_word_utf8</a>\n",
       "</div>\n",
       "<div class=\"fmono\">str</div>\n",
       "\n",
       "<span> ✅ word pointed-Hebrew (בְּ רֵאשִׁ֖ית בָּרָ֣א אֱלֹהִ֑ים)</span>\n",
       "\n",
       "</div>\n",
       "\n",
       "<div class=\"frow\">\n",
       "    <div class=\"fnamecat \">\n",
       "<a target=\"_blank\" href=\"https://ETCBC.github.io/bhsa/features/gloss\" title=\"~/text-fabric-data/github/ETCBC/bhsa/tf/2021/gloss.tf\">gloss</a>\n",
       "</div>\n",
       "<div class=\"fmono\">str</div>\n",
       "\n",
       "<span> 🆗 english translation of lexeme (beginning create god(s))</span>\n",
       "\n",
       "</div>\n",
       "\n",
       "<div class=\"frow\">\n",
       "    <div class=\"fnamecat \">\n",
       "<a target=\"_blank\" href=\"https://ETCBC.github.io/bhsa/features/gn\" title=\"~/text-fabric-data/github/ETCBC/bhsa/tf/2021/gn.tf\">gn</a>\n",
       "</div>\n",
       "<div class=\"fmono\">str</div>\n",
       "\n",
       "<span> ✅ grammatical gender (m; f; NA; unknown.)</span>\n",
       "\n",
       "</div>\n",
       "\n",
       "<div class=\"frow\">\n",
       "    <div class=\"fnamecat \">\n",
       "<a target=\"_blank\" href=\"https://ETCBC.github.io/bhsa/features/label\" title=\"~/text-fabric-data/github/ETCBC/bhsa/tf/2021/label.tf\">label</a>\n",
       "</div>\n",
       "<div class=\"fmono\">str</div>\n",
       "\n",
       "<span> ✅ (half-)verse label (half verses: A; B; C; verses:  GEN 01,02)</span>\n",
       "\n",
       "</div>\n",
       "\n",
       "<div class=\"frow\">\n",
       "    <div class=\"fnamecat \">\n",
       "<a target=\"_blank\" href=\"https://ETCBC.github.io/bhsa/features/language\" title=\"~/text-fabric-data/github/ETCBC/bhsa/tf/2021/language.tf\">language</a>\n",
       "</div>\n",
       "<div class=\"fmono\">str</div>\n",
       "\n",
       "<span> ✅ of word or lexeme (Hebrew; Aramaic.)</span>\n",
       "\n",
       "</div>\n",
       "\n",
       "<div class=\"frow\">\n",
       "    <div class=\"fnamecat \">\n",
       "<a target=\"_blank\" href=\"https://ETCBC.github.io/bhsa/features/lex\" title=\"~/text-fabric-data/github/ETCBC/bhsa/tf/2021/lex.tf\">lex</a>\n",
       "</div>\n",
       "<div class=\"fmono\">str</div>\n",
       "\n",
       "<span> ✅ lexeme consonantal-transliterated (B R>CJT/ BR>[ >LHJM/)</span>\n",
       "\n",
       "</div>\n",
       "\n",
       "<div class=\"frow\">\n",
       "    <div class=\"fnamecat \">\n",
       "<a target=\"_blank\" href=\"https://ETCBC.github.io/bhsa/features/lex_utf8\" title=\"~/text-fabric-data/github/ETCBC/bhsa/tf/2021/lex_utf8.tf\">lex_utf8</a>\n",
       "</div>\n",
       "<div class=\"fmono\">str</div>\n",
       "\n",
       "<span> ✅ lexeme consonantal-Hebrew (ב ראשׁית֜ ברא אלהים֜)</span>\n",
       "\n",
       "</div>\n",
       "\n",
       "<div class=\"frow\">\n",
       "    <div class=\"fnamecat \">\n",
       "<a target=\"_blank\" href=\"https://ETCBC.github.io/bhsa/features/ls\" title=\"~/text-fabric-data/github/ETCBC/bhsa/tf/2021/ls.tf\">ls</a>\n",
       "</div>\n",
       "<div class=\"fmono\">str</div>\n",
       "\n",
       "<span> ✅ lexical set, subclassification of part-of-speech (card; ques; mult)</span>\n",
       "\n",
       "</div>\n",
       "\n",
       "<div class=\"frow\">\n",
       "    <div class=\"fnamecat \">\n",
       "<a target=\"_blank\" href=\"https://ETCBC.github.io/bhsa/features/nametype\" title=\"~/text-fabric-data/github/ETCBC/bhsa/tf/2021/nametype.tf\">nametype</a>\n",
       "</div>\n",
       "<div class=\"fmono\">str</div>\n",
       "\n",
       "<span> ⚠️ named entity type (pers; mens; gens; topo; ppde.)</span>\n",
       "\n",
       "</div>\n",
       "\n",
       "<div class=\"frow\">\n",
       "    <div class=\"fnamecat \">\n",
       "<a target=\"_blank\" href=\"https://ETCBC.github.io/bhsa/features/nme\" title=\"~/text-fabric-data/github/ETCBC/bhsa/tf/2021/nme.tf\">nme</a>\n",
       "</div>\n",
       "<div class=\"fmono\">str</div>\n",
       "\n",
       "<span> ✅ nominal ending consonantal-transliterated (absent; n/a; JM, ...)</span>\n",
       "\n",
       "</div>\n",
       "\n",
       "<div class=\"frow\">\n",
       "    <div class=\"fnamecat \">\n",
       "<a target=\"_blank\" href=\"https://ETCBC.github.io/bhsa/features/nu\" title=\"~/text-fabric-data/github/ETCBC/bhsa/tf/2021/nu.tf\">nu</a>\n",
       "</div>\n",
       "<div class=\"fmono\">str</div>\n",
       "\n",
       "<span> ✅ grammatical number (sg; du; pl; NA; unknown.)</span>\n",
       "\n",
       "</div>\n",
       "\n",
       "<div class=\"frow\">\n",
       "    <div class=\"fnamecat \">\n",
       "<a target=\"_blank\" href=\"https://ETCBC.github.io/bhsa/features/number\" title=\"~/text-fabric-data/github/ETCBC/bhsa/tf/2021/number.tf\">number</a>\n",
       "</div>\n",
       "<div class=\"fmono\">int</div>\n",
       "\n",
       "<span> ✅ sequence number of an object within its context</span>\n",
       "\n",
       "</div>\n",
       "\n",
       "<div class=\"frow\">\n",
       "    <div class=\"fnamecat \">\n",
       "<a target=\"_blank\" href=\"https://ETCBC.github.io/bhsa/features/otype\" title=\"~/text-fabric-data/github/ETCBC/bhsa/tf/2021/otype.tf\">otype</a>\n",
       "</div>\n",
       "<div class=\"fmono\">str</div>\n",
       "\n",
       "<span> </span>\n",
       "\n",
       "</div>\n",
       "\n",
       "<div class=\"frow\">\n",
       "    <div class=\"fnamecat \">\n",
       "<a target=\"_blank\" href=\"https://ETCBC.github.io/bhsa/features/pargr\" title=\"~/text-fabric-data/github/ETCBC/bhsa/tf/2021/pargr.tf\">pargr</a>\n",
       "</div>\n",
       "<div class=\"fmono\">str</div>\n",
       "\n",
       "<span> 🆗 hierarchical paragraph number (1; 1.2; 1.2.3.4; ...)</span>\n",
       "\n",
       "</div>\n",
       "\n",
       "<div class=\"frow\">\n",
       "    <div class=\"fnamecat \">\n",
       "<a target=\"_blank\" href=\"https://ETCBC.github.io/bhsa/features/pdp\" title=\"~/text-fabric-data/github/ETCBC/bhsa/tf/2021/pdp.tf\">pdp</a>\n",
       "</div>\n",
       "<div class=\"fmono\">str</div>\n",
       "\n",
       "<span> ✅ phrase dependent part-of-speech (art; verb; subs; nmpr, ...)</span>\n",
       "\n",
       "</div>\n",
       "\n",
       "<div class=\"frow\">\n",
       "    <div class=\"fnamecat \">\n",
       "<a target=\"_blank\" href=\"https://ETCBC.github.io/bhsa/features/pfm\" title=\"~/text-fabric-data/github/ETCBC/bhsa/tf/2021/pfm.tf\">pfm</a>\n",
       "</div>\n",
       "<div class=\"fmono\">str</div>\n",
       "\n",
       "<span> ✅ preformative consonantal-transliterated (absent; n/a; J, ...)</span>\n",
       "\n",
       "</div>\n",
       "\n",
       "<div class=\"frow\">\n",
       "    <div class=\"fnamecat \">\n",
       "<a target=\"_blank\" href=\"https://ETCBC.github.io/bhsa/features/prs\" title=\"~/text-fabric-data/github/ETCBC/bhsa/tf/2021/prs.tf\">prs</a>\n",
       "</div>\n",
       "<div class=\"fmono\">str</div>\n",
       "\n",
       "<span> ✅ pronominal suffix consonantal-transliterated (absent; n/a; W; ...)</span>\n",
       "\n",
       "</div>\n",
       "\n",
       "<div class=\"frow\">\n",
       "    <div class=\"fnamecat \">\n",
       "<a target=\"_blank\" href=\"https://ETCBC.github.io/bhsa/features/prs_gn\" title=\"~/text-fabric-data/github/ETCBC/bhsa/tf/2021/prs_gn.tf\">prs_gn</a>\n",
       "</div>\n",
       "<div class=\"fmono\">str</div>\n",
       "\n",
       "<span> ✅ pronominal suffix gender (m; f; NA; unknown.)</span>\n",
       "\n",
       "</div>\n",
       "\n",
       "<div class=\"frow\">\n",
       "    <div class=\"fnamecat \">\n",
       "<a target=\"_blank\" href=\"https://ETCBC.github.io/bhsa/features/prs_nu\" title=\"~/text-fabric-data/github/ETCBC/bhsa/tf/2021/prs_nu.tf\">prs_nu</a>\n",
       "</div>\n",
       "<div class=\"fmono\">str</div>\n",
       "\n",
       "<span> ✅ pronominal suffix number (sg; du; pl; NA; unknown.)</span>\n",
       "\n",
       "</div>\n",
       "\n",
       "<div class=\"frow\">\n",
       "    <div class=\"fnamecat \">\n",
       "<a target=\"_blank\" href=\"https://ETCBC.github.io/bhsa/features/prs_ps\" title=\"~/text-fabric-data/github/ETCBC/bhsa/tf/2021/prs_ps.tf\">prs_ps</a>\n",
       "</div>\n",
       "<div class=\"fmono\">str</div>\n",
       "\n",
       "<span> ✅ pronominal suffix person (p1; p2; p3; NA; unknown.)</span>\n",
       "\n",
       "</div>\n",
       "\n",
       "<div class=\"frow\">\n",
       "    <div class=\"fnamecat \">\n",
       "<a target=\"_blank\" href=\"https://ETCBC.github.io/bhsa/features/ps\" title=\"~/text-fabric-data/github/ETCBC/bhsa/tf/2021/ps.tf\">ps</a>\n",
       "</div>\n",
       "<div class=\"fmono\">str</div>\n",
       "\n",
       "<span> ✅ grammatical person (p1; p2; p3; NA; unknown.)</span>\n",
       "\n",
       "</div>\n",
       "\n",
       "<div class=\"frow\">\n",
       "    <div class=\"fnamecat \">\n",
       "<a target=\"_blank\" href=\"https://ETCBC.github.io/bhsa/features/qere\" title=\"~/text-fabric-data/github/ETCBC/bhsa/tf/2021/qere.tf\">qere</a>\n",
       "</div>\n",
       "<div class=\"fmono\">str</div>\n",
       "\n",
       "<span> ✅ word pointed-transliterated masoretic reading correction</span>\n",
       "\n",
       "</div>\n",
       "\n",
       "<div class=\"frow\">\n",
       "    <div class=\"fnamecat \">\n",
       "<a target=\"_blank\" href=\"https://ETCBC.github.io/bhsa/features/qere_trailer\" title=\"~/text-fabric-data/github/ETCBC/bhsa/tf/2021/qere_trailer.tf\">qere_trailer</a>\n",
       "</div>\n",
       "<div class=\"fmono\">str</div>\n",
       "\n",
       "<span> ✅ interword material -pointed-transliterated (Masoretic correction)</span>\n",
       "\n",
       "</div>\n",
       "\n",
       "<div class=\"frow\">\n",
       "    <div class=\"fnamecat \">\n",
       "<a target=\"_blank\" href=\"https://ETCBC.github.io/bhsa/features/qere_trailer_utf8\" title=\"~/text-fabric-data/github/ETCBC/bhsa/tf/2021/qere_trailer_utf8.tf\">qere_trailer_utf8</a>\n",
       "</div>\n",
       "<div class=\"fmono\">str</div>\n",
       "\n",
       "<span> ✅ interword material -pointed-transliterated (Masoretic correction)</span>\n",
       "\n",
       "</div>\n",
       "\n",
       "<div class=\"frow\">\n",
       "    <div class=\"fnamecat \">\n",
       "<a target=\"_blank\" href=\"https://ETCBC.github.io/bhsa/features/qere_utf8\" title=\"~/text-fabric-data/github/ETCBC/bhsa/tf/2021/qere_utf8.tf\">qere_utf8</a>\n",
       "</div>\n",
       "<div class=\"fmono\">str</div>\n",
       "\n",
       "<span> ✅ word pointed-Hebrew masoretic reading correction</span>\n",
       "\n",
       "</div>\n",
       "\n",
       "<div class=\"frow\">\n",
       "    <div class=\"fnamecat \">\n",
       "<a target=\"_blank\" href=\"https://ETCBC.github.io/bhsa/features/rank_lex\" title=\"~/text-fabric-data/github/ETCBC/bhsa/tf/2021/rank_lex.tf\">rank_lex</a>\n",
       "</div>\n",
       "<div class=\"fmono\">int</div>\n",
       "\n",
       "<span> ✅ ranking of lexemes based on freqnuecy</span>\n",
       "\n",
       "</div>\n",
       "\n",
       "<div class=\"frow\">\n",
       "    <div class=\"fnamecat \">\n",
       "<a target=\"_blank\" href=\"https://ETCBC.github.io/bhsa/features/rela\" title=\"~/text-fabric-data/github/ETCBC/bhsa/tf/2021/rela.tf\">rela</a>\n",
       "</div>\n",
       "<div class=\"fmono\">str</div>\n",
       "\n",
       "<span> ✅ linguistic relation between clause/(sub)phrase(atom) (ADJ; MOD; ATR; ...)</span>\n",
       "\n",
       "</div>\n",
       "\n",
       "<div class=\"frow\">\n",
       "    <div class=\"fnamecat \">\n",
       "<a target=\"_blank\" href=\"https://ETCBC.github.io/bhsa/features/sp\" title=\"~/text-fabric-data/github/ETCBC/bhsa/tf/2021/sp.tf\">sp</a>\n",
       "</div>\n",
       "<div class=\"fmono\">str</div>\n",
       "\n",
       "<span> ✅ part-of-speech (art; verb; subs; nmpr, ...)</span>\n",
       "\n",
       "</div>\n",
       "\n",
       "<div class=\"frow\">\n",
       "    <div class=\"fnamecat \">\n",
       "<a target=\"_blank\" href=\"https://ETCBC.github.io/bhsa/features/st\" title=\"~/text-fabric-data/github/ETCBC/bhsa/tf/2021/st.tf\">st</a>\n",
       "</div>\n",
       "<div class=\"fmono\">str</div>\n",
       "\n",
       "<span> ✅ state of a noun (a (absolute); c (construct); e (emphatic).)</span>\n",
       "\n",
       "</div>\n",
       "\n",
       "<div class=\"frow\">\n",
       "    <div class=\"fnamecat \">\n",
       "<a target=\"_blank\" href=\"https://ETCBC.github.io/bhsa/features/tab\" title=\"~/text-fabric-data/github/ETCBC/bhsa/tf/2021/tab.tf\">tab</a>\n",
       "</div>\n",
       "<div class=\"fmono\">int</div>\n",
       "\n",
       "<span> ✅ clause atom: its level in the linguistic embedding</span>\n",
       "\n",
       "</div>\n",
       "\n",
       "<div class=\"frow\">\n",
       "    <div class=\"fnamecat \">\n",
       "<a target=\"_blank\" href=\"https://ETCBC.github.io/bhsa/features/trailer\" title=\"~/text-fabric-data/github/ETCBC/bhsa/tf/2021/trailer.tf\">trailer</a>\n",
       "</div>\n",
       "<div class=\"fmono\">str</div>\n",
       "\n",
       "<span> ✅ interword material pointed-transliterated (& 00 05 00_P ...)</span>\n",
       "\n",
       "</div>\n",
       "\n",
       "<div class=\"frow\">\n",
       "    <div class=\"fnamecat \">\n",
       "<a target=\"_blank\" href=\"https://ETCBC.github.io/bhsa/features/trailer_utf8\" title=\"~/text-fabric-data/github/ETCBC/bhsa/tf/2021/trailer_utf8.tf\">trailer_utf8</a>\n",
       "</div>\n",
       "<div class=\"fmono\">str</div>\n",
       "\n",
       "<span> ✅ interword material pointed-Hebrew (־ ׃)</span>\n",
       "\n",
       "</div>\n",
       "\n",
       "<div class=\"frow\">\n",
       "    <div class=\"fnamecat \">\n",
       "<a target=\"_blank\" href=\"https://ETCBC.github.io/bhsa/features/txt\" title=\"~/text-fabric-data/github/ETCBC/bhsa/tf/2021/txt.tf\">txt</a>\n",
       "</div>\n",
       "<div class=\"fmono\">str</div>\n",
       "\n",
       "<span> ✅ text type of clause and surrounding (repetion of ? N D Q as in feature domain)</span>\n",
       "\n",
       "</div>\n",
       "\n",
       "<div class=\"frow\">\n",
       "    <div class=\"fnamecat \">\n",
       "<a target=\"_blank\" href=\"https://ETCBC.github.io/bhsa/features/typ\" title=\"~/text-fabric-data/github/ETCBC/bhsa/tf/2021/typ.tf\">typ</a>\n",
       "</div>\n",
       "<div class=\"fmono\">str</div>\n",
       "\n",
       "<span> ✅ clause/phrase(atom) type (VP; NP; Ellp; Ptcp; WayX)</span>\n",
       "\n",
       "</div>\n",
       "\n",
       "<div class=\"frow\">\n",
       "    <div class=\"fnamecat \">\n",
       "<a target=\"_blank\" href=\"https://ETCBC.github.io/bhsa/features/uvf\" title=\"~/text-fabric-data/github/ETCBC/bhsa/tf/2021/uvf.tf\">uvf</a>\n",
       "</div>\n",
       "<div class=\"fmono\">str</div>\n",
       "\n",
       "<span> ✅ univalent final consonant consonantal-transliterated (absent; N; J; ...)</span>\n",
       "\n",
       "</div>\n",
       "\n",
       "<div class=\"frow\">\n",
       "    <div class=\"fnamecat \">\n",
       "<a target=\"_blank\" href=\"https://ETCBC.github.io/bhsa/features/vbe\" title=\"~/text-fabric-data/github/ETCBC/bhsa/tf/2021/vbe.tf\">vbe</a>\n",
       "</div>\n",
       "<div class=\"fmono\">str</div>\n",
       "\n",
       "<span> ✅ verbal ending consonantal-transliterated (n/a; W; ...)</span>\n",
       "\n",
       "</div>\n",
       "\n",
       "<div class=\"frow\">\n",
       "    <div class=\"fnamecat \">\n",
       "<a target=\"_blank\" href=\"https://ETCBC.github.io/bhsa/features/vbs\" title=\"~/text-fabric-data/github/ETCBC/bhsa/tf/2021/vbs.tf\">vbs</a>\n",
       "</div>\n",
       "<div class=\"fmono\">str</div>\n",
       "\n",
       "<span> ✅ root formation consonantal-transliterated (absent; n/a; H; ...)</span>\n",
       "\n",
       "</div>\n",
       "\n",
       "<div class=\"frow\">\n",
       "    <div class=\"fnamecat \">\n",
       "<a target=\"_blank\" href=\"https://ETCBC.github.io/bhsa/features/verse\" title=\"~/text-fabric-data/github/ETCBC/bhsa/tf/2021/verse.tf\">verse</a>\n",
       "</div>\n",
       "<div class=\"fmono\">int</div>\n",
       "\n",
       "<span> ✅ verse number</span>\n",
       "\n",
       "</div>\n",
       "\n",
       "<div class=\"frow\">\n",
       "    <div class=\"fnamecat \">\n",
       "<a target=\"_blank\" href=\"https://ETCBC.github.io/bhsa/features/voc_lex\" title=\"~/text-fabric-data/github/ETCBC/bhsa/tf/2021/voc_lex.tf\">voc_lex</a>\n",
       "</div>\n",
       "<div class=\"fmono\">str</div>\n",
       "\n",
       "<span> ✅ vocalized lexeme pointed-transliterated (B.: R;>CIJT BR> >:ELOHIJM)</span>\n",
       "\n",
       "</div>\n",
       "\n",
       "<div class=\"frow\">\n",
       "    <div class=\"fnamecat \">\n",
       "<a target=\"_blank\" href=\"https://ETCBC.github.io/bhsa/features/voc_lex_utf8\" title=\"~/text-fabric-data/github/ETCBC/bhsa/tf/2021/voc_lex_utf8.tf\">voc_lex_utf8</a>\n",
       "</div>\n",
       "<div class=\"fmono\">str</div>\n",
       "\n",
       "<span> ✅ vocalized lexeme pointed-Hebrew (בְּ רֵאשִׁית ברא אֱלֹהִים)</span>\n",
       "\n",
       "</div>\n",
       "\n",
       "<div class=\"frow\">\n",
       "    <div class=\"fnamecat \">\n",
       "<a target=\"_blank\" href=\"https://ETCBC.github.io/bhsa/features/vs\" title=\"~/text-fabric-data/github/ETCBC/bhsa/tf/2021/vs.tf\">vs</a>\n",
       "</div>\n",
       "<div class=\"fmono\">str</div>\n",
       "\n",
       "<span> ✅ verbal stem (qal; piel; hif; apel; pael)</span>\n",
       "\n",
       "</div>\n",
       "\n",
       "<div class=\"frow\">\n",
       "    <div class=\"fnamecat \">\n",
       "<a target=\"_blank\" href=\"https://ETCBC.github.io/bhsa/features/vt\" title=\"~/text-fabric-data/github/ETCBC/bhsa/tf/2021/vt.tf\">vt</a>\n",
       "</div>\n",
       "<div class=\"fmono\">str</div>\n",
       "\n",
       "<span> ✅ verbal tense (perf; impv; wayq; infc)</span>\n",
       "\n",
       "</div>\n",
       "\n",
       "<div class=\"frow\">\n",
       "    <div class=\"fnamecat edge\">\n",
       "<a target=\"_blank\" href=\"https://ETCBC.github.io/bhsa/features/mother\" title=\"~/text-fabric-data/github/ETCBC/bhsa/tf/2021/mother.tf\">mother</a>\n",
       "</div>\n",
       "<div class=\"fmono\">none</div>\n",
       "\n",
       "<span> ✅ linguistic dependency between textual objects</span>\n",
       "\n",
       "</div>\n",
       "\n",
       "<div class=\"frow\">\n",
       "    <div class=\"fnamecat edge\">\n",
       "<a target=\"_blank\" href=\"https://ETCBC.github.io/bhsa/features/oslots\" title=\"~/text-fabric-data/github/ETCBC/bhsa/tf/2021/oslots.tf\">oslots</a>\n",
       "</div>\n",
       "<div class=\"fmono\">none</div>\n",
       "\n",
       "<span> </span>\n",
       "\n",
       "</div>\n",
       "\n",
       "    </div>\n",
       "</details>\n",
       "\n",
       "<details><summary><b>Phonetic Transcriptions</b></summary>\n",
       "    <div class=\"fcorpus\">\n",
       "\n",
       "<div class=\"frow\">\n",
       "    <div class=\"fnamecat \">\n",
       "<a target=\"_blank\" href=\"https://nbviewer.jupyter.org/github/etcbc/phono/blob/master/programs/phono.ipynb\" title=\"~/text-fabric-data/github/ETCBC/phono/tf/2021/phono.tf\">phono</a>\n",
       "</div>\n",
       "<div class=\"fmono\">str</div>\n",
       "\n",
       "<span> 🆗 phonological transcription (bᵊ rēšˌîṯ bārˈā ʔᵉlōhˈîm)</span>\n",
       "\n",
       "</div>\n",
       "\n",
       "<div class=\"frow\">\n",
       "    <div class=\"fnamecat \">\n",
       "<a target=\"_blank\" href=\"https://nbviewer.jupyter.org/github/etcbc/phono/blob/master/programs/phono.ipynb\" title=\"~/text-fabric-data/github/ETCBC/phono/tf/2021/phono_trailer.tf\">phono_trailer</a>\n",
       "</div>\n",
       "<div class=\"fmono\">str</div>\n",
       "\n",
       "<span> 🆗 interword material in phonological transcription</span>\n",
       "\n",
       "</div>\n",
       "\n",
       "    </div>\n",
       "</details>\n",
       "\n"
      ],
      "text/plain": [
       "<IPython.core.display.HTML object>"
      ]
     },
     "metadata": {},
     "output_type": "display_data"
    },
    {
     "data": {
      "text/html": [
       "<style>tr.tf.ltr, td.tf.ltr, th.tf.ltr { text-align: left ! important;}\n",
       "tr.tf.rtl, td.tf.rtl, th.tf.rtl { text-align: right ! important;}\n",
       "@font-face {\n",
       "  font-family: \"Gentium Plus\";\n",
       "  src: local('Gentium Plus'), local('GentiumPlus'),\n",
       "    url('/server/static/fonts/GentiumPlus-R.woff') format('woff'),\n",
       "    url('https://github.com/annotation/text-fabric/blob/master/tf/server/static/fonts/GentiumPlus-R.woff?raw=true') format('woff');\n",
       "}\n",
       "\n",
       "@font-face {\n",
       "  font-family: \"Ezra SIL\";\n",
       "  src: local('Ezra SIL'), local('EzraSIL'),\n",
       "    url('/server/static/fonts/SILEOT.woff') format('woff'),\n",
       "    url('https://github.com/annotation/text-fabric/blob/master/tf/server/static/fonts/SILEOT.woff?raw=true') format('woff');\n",
       "}\n",
       "\n",
       "@font-face {\n",
       "  font-family: \"SBL Hebrew\";\n",
       "  src: local('SBL Hebrew'), local('SBLHebrew'),\n",
       "    url('/server/static/fonts/SBL_Hbrw.woff') format('woff'),\n",
       "    url('https://github.com/annotation/text-fabric/blob/master/tf/server/static/fonts/SBL_Hbrw.woff?raw=true') format('woff');\n",
       "}\n",
       "\n",
       "@font-face {\n",
       "  font-family: \"Estrangelo Edessa\";\n",
       "  src: local('Estrangelo Edessa'), local('EstrangeloEdessa');\n",
       "    url('/server/static/fonts/SyrCOMEdessa.woff') format('woff'),\n",
       "    url('https://github.com/annotation/text-fabric/blob/master/tf/server/static/fonts/SyrCOMEdessa.woff?raw=true') format('woff');\n",
       "}\n",
       "\n",
       "@font-face {\n",
       "  font-family: AmiriQuran;\n",
       "  font-style: normal;\n",
       "  font-weight: 400;\n",
       "  src: local('Amiri Quran'), local('AmiriQuran'),\n",
       "    url('/server/static/fonts/AmiriQuran.woff') format('woff'),\n",
       "    url('https://github.com/annotation/text-fabric/blob/master/tf/server/static/fonts/AmiriQuran.woff?raw=true') format('woff');\n",
       "}\n",
       "\n",
       "@font-face {\n",
       "  font-family: AmiriQuranColored;\n",
       "  font-style: normal;\n",
       "  font-weight: 400;\n",
       "  src: local('Amiri Quran Colored'), local('AmiriQuranColored'),\n",
       "    url('/server/static/fonts/AmiriQuranColored.woff') format('woff'),\n",
       "    url('https://github.com/annotation/text-fabric/blob/master/tf/server/static/fonts/AmiriQuranColored.woff?raw=true') format('woff');\n",
       "}\n",
       "\n",
       "@font-face {\n",
       "  font-family: \"Santakku\";\n",
       "  src: local('Santakku'),\n",
       "    url('/server/static/fonts/Santakku.woff') format('woff'),\n",
       "    url('https://github.com/annotation/text-fabric/blob/master/tf/server/static/fonts/Santakku.woff?raw=true') format('woff');\n",
       "}\n",
       "\n",
       "@font-face {\n",
       "  font-family: \"SantakkuM\";\n",
       "  src: local('SantakkuM'),\n",
       "    url('/server/static/fonts/SantakkuM.woff') format('woff'),\n",
       "    url('https://github.com/annotation/text-fabric/blob/master/tf/server/static/fonts/SantakkuM.woff?raw=true') format('woff');\n",
       "}\n",
       "/* bypassing some classical notebook settings */\n",
       "div#notebook {\n",
       "  line-height: unset;\n",
       "}\n",
       "/* neutral text */\n",
       ".txtn,.txtn a:visited,.txtn a:link {\n",
       "    font-family: sans-serif;\n",
       "    font-size: medium;\n",
       "    direction: ltr;\n",
       "    unicode-bidi: embed;\n",
       "    text-decoration: none;\n",
       "    color: var(--text-color);\n",
       "}\n",
       "/* transcription text */\n",
       ".txtt,.txtt a:visited,.txtt a:link {\n",
       "    font-family: monospace;\n",
       "    font-size: medium;\n",
       "    direction: ltr;\n",
       "    unicode-bidi: embed;\n",
       "    text-decoration: none;\n",
       "    color: var(--text-color);\n",
       "}\n",
       "/* source text */\n",
       ".txto,.txto a:visited,.txto a:link {\n",
       "    font-family: serif;\n",
       "    font-size: medium;\n",
       "    direction: ltr;\n",
       "    unicode-bidi: embed;\n",
       "    text-decoration: none;\n",
       "    color: var(--text-color);\n",
       "}\n",
       "/* phonetic text */\n",
       ".txtp,.txtp a:visited,.txtp a:link {\n",
       "    font-family: Gentium, sans-serif;\n",
       "    font-size: medium;\n",
       "    direction: ltr;\n",
       "    unicode-bidi: embed;\n",
       "    text-decoration: none;\n",
       "    color: var(--text-color);\n",
       "}\n",
       "/* original script text */\n",
       ".txtu,.txtu a:visited,.txtu a:link {\n",
       "    font-family: Gentium, sans-serif;\n",
       "    font-size: medium;\n",
       "    text-decoration: none;\n",
       "    color: var(--text-color);\n",
       "}\n",
       "/* hebrew */\n",
       ".txtu.hbo,.lex.hbo {\n",
       "    font-family: \"Ezra SIL\", \"SBL Hebrew\", sans-serif;\n",
       "    font-size: large;\n",
       "    direction: rtl ! important;\n",
       "    unicode-bidi: embed;\n",
       "}\n",
       "/* syriac */\n",
       ".txtu.syc,.lex.syc {\n",
       "    font-family: \"Estrangelo Edessa\", sans-serif;\n",
       "    font-size: medium;\n",
       "    direction: rtl ! important;\n",
       "    unicode-bidi: embed;\n",
       "}\n",
       "/* neo aramaic */\n",
       ".txtu.cld,.lex.cld {\n",
       "    font-family: \"CharisSIL-R\", sans-serif;\n",
       "    font-size: medium;\n",
       "    direction: ltr ! important;\n",
       "    unicode-bidi: embed;\n",
       "}\n",
       "/* standard arabic */\n",
       ".txtu.ara,.lex.ara {\n",
       "    font-family: \"AmiriQuran\", sans-serif;\n",
       "    font-size: large;\n",
       "    direction: rtl ! important;\n",
       "    unicode-bidi: embed;\n",
       "}\n",
       "/* cuneiform */\n",
       ".txtu.akk,.lex.akk {\n",
       "    font-family: Santakku, sans-serif;\n",
       "    font-size: large;\n",
       "    direction: ltr ! important;\n",
       "    unicode-bidi: embed;\n",
       "}\n",
       "/* greek */\n",
       ".txtu.grc,.lex.grc a:link {\n",
       "    font-family: Gentium, sans-serif;\n",
       "    font-size: medium;\n",
       "    direction: ltr ! important;\n",
       "    unicode-bidi: embed;\n",
       "}\n",
       "a:hover {\n",
       "    text-decoration: underline | important;\n",
       "    color: #0000ff | important;\n",
       "}\n",
       ".ltr {\n",
       "    direction: ltr ! important;\n",
       "    unicode-bidi: embed;\n",
       "}\n",
       ".rtl {\n",
       "    direction: rtl ! important;\n",
       "    unicode-bidi: embed;\n",
       "}\n",
       ".ubd {\n",
       "    unicode-bidi: embed;\n",
       "}\n",
       ".col {\n",
       "   display: inline-block;\n",
       "}\n",
       ".features {\n",
       "    font-family: monospace;\n",
       "    font-size: medium;\n",
       "    font-weight: bold;\n",
       "    color: var(--features);\n",
       "    display: flex;\n",
       "    flex-flow: column nowrap;\n",
       "    justify-content: flex-start;\n",
       "    align-items: flex-start;\n",
       "    align-content: flex-start;\n",
       "    padding: 2px;\n",
       "    margin: 2px;\n",
       "    direction: ltr;\n",
       "    unicode-bidi: embed;\n",
       "    border: var(--meta-width) solid var(--meta-color);\n",
       "    border-radius: var(--meta-width);\n",
       "}\n",
       ".features div,.features span {\n",
       "    padding: 0;\n",
       "    margin: -2px 0;\n",
       "}\n",
       ".features .f {\n",
       "    font-family: sans-serif;\n",
       "    font-size: small;\n",
       "    font-weight: normal;\n",
       "    color: #5555bb;\n",
       "}\n",
       ".features .xft {\n",
       "  color: #000000;\n",
       "  background-color: #eeeeee;\n",
       "  font-size: medium;\n",
       "  margin: 2px 0px;\n",
       "}\n",
       ".features .xft .f {\n",
       "  color: #000000;\n",
       "  background-color: #eeeeee;\n",
       "  font-size: small;\n",
       "  font-weight: normal;\n",
       "}\n",
       ".tfsechead {\n",
       "    font-family: sans-serif;\n",
       "    font-size: small;\n",
       "    font-weight: bold;\n",
       "    color: var(--tfsechead);\n",
       "    unicode-bidi: embed;\n",
       "    text-align: start;\n",
       "}\n",
       ".structure {\n",
       "    font-family: sans-serif;\n",
       "    font-size: small;\n",
       "    font-weight: bold;\n",
       "    color: var(--structure);\n",
       "    unicode-bidi: embed;\n",
       "    text-align: start;\n",
       "}\n",
       ".comments {\n",
       "    display: flex;\n",
       "    justify-content: flex-start;\n",
       "    align-items: flex-start;\n",
       "    align-content: flex-start;\n",
       "    flex-flow: column nowrap;\n",
       "}\n",
       ".nd, a:link.nd {\n",
       "    font-family: sans-serif;\n",
       "    font-size: small;\n",
       "    color: var(--node);\n",
       "    vertical-align: super;\n",
       "    direction: ltr ! important;\n",
       "    unicode-bidi: embed;\n",
       "}\n",
       ".lex {\n",
       "  color: var(--lex-color);;\n",
       "}\n",
       ".children,.children.ltr {\n",
       "    display: flex;\n",
       "    border: 0;\n",
       "    background-color: #ffffff;\n",
       "    justify-content: flex-start;\n",
       "    align-items: flex-start;\n",
       "    align-content: flex-start;\n",
       "}\n",
       ".children.stretch {\n",
       "    align-items: stretch;\n",
       "}\n",
       ".children.hor {\n",
       "    flex-flow: row nowrap;\n",
       "}\n",
       ".children.hor.wrap {\n",
       "    flex-flow: row wrap;\n",
       "}\n",
       ".children.ver {\n",
       "    flex-flow: column nowrap;\n",
       "}\n",
       ".children.ver.wrap {\n",
       "    flex-flow: column wrap;\n",
       "}\n",
       ".contnr {\n",
       "    width: fit-content;\n",
       "    display: flex;\n",
       "    justify-content: flex-start;\n",
       "    align-items: flex-start;\n",
       "    align-content: flex-start;\n",
       "    flex-flow: column nowrap;\n",
       "    background: #ffffff none repeat scroll 0 0;\n",
       "    padding:  10px 2px 2px 2px;\n",
       "    margin: 16px 2px 2px 2px;\n",
       "    border-style: solid;\n",
       "    font-size: small;\n",
       "}\n",
       ".contnr.trm {\n",
       "    background-attachment: local;\n",
       "}\n",
       ".contnr.cnul {\n",
       "    padding:  0;\n",
       "    margin: 0;\n",
       "    border-style: solid;\n",
       "    font-size: xx-small;\n",
       "}\n",
       ".contnr.cnul,.lbl.cnul {\n",
       "    border-color: var(--border-color-nul);\n",
       "    border-width: var(--border-width-nul);\n",
       "    border-radius: var(--border-width-nul);\n",
       "}\n",
       ".contnr.c0,.lbl.c0 {\n",
       "    border-color: var(--border-color0);\n",
       "    border-width: var(--border-width0);\n",
       "    border-radius: var(--border-width0);\n",
       "}\n",
       ".contnr.c1,.lbl.c1 {\n",
       "    border-color: var(--border-color1);\n",
       "    border-width: var(--border-width1);\n",
       "    border-radius: var(--border-width1);\n",
       "}\n",
       ".contnr.c2,.lbl.c2 {\n",
       "    border-color: var(--border-color2);\n",
       "    border-width: var(--border-width2);\n",
       "    border-radius: var(--border-width2);\n",
       "}\n",
       ".contnr.c3,.lbl.c3 {\n",
       "    border-color: var(--border-color3);\n",
       "    border-width: var(--border-width3);\n",
       "    border-radius: var(--border-width3);\n",
       "}\n",
       ".contnr.c4,.lbl.c4 {\n",
       "    border-color: var(--border-color4);\n",
       "    border-width: var(--border-width4);\n",
       "    border-radius: var(--border-width4);\n",
       "}\n",
       "span.plain {\n",
       "    /*display: inline-block;*/\n",
       "    display: inline-flex;\n",
       "    flex-flow: row wrap;\n",
       "    white-space: pre-wrap;\n",
       "}\n",
       "span.break {\n",
       "  flex-basis: 100%;\n",
       "  height: 0;\n",
       "}\n",
       ".plain {\n",
       "    background-color: #ffffff;\n",
       "}\n",
       ".plain.l,.contnr.l,.contnr.l>.lbl {\n",
       "    border-left-style: dotted\n",
       "}\n",
       ".plain.r,.contnr.r,.contnr.r>.lbl {\n",
       "    border-right-style: dotted\n",
       "}\n",
       ".plain.lno,.contnr.lno,.contnr.lno>.lbl {\n",
       "    border-left-style: none\n",
       "}\n",
       ".plain.rno,.contnr.rno,.contnr.rno>.lbl {\n",
       "    border-right-style: none\n",
       "}\n",
       ".plain.l {\n",
       "    padding-left: 4px;\n",
       "    margin-left: 2px;\n",
       "    border-width: var(--border-width-plain);\n",
       "}\n",
       ".plain.r {\n",
       "    padding-right: 4px;\n",
       "    margin-right: 2px;\n",
       "    border-width: var(--border-width-plain);\n",
       "}\n",
       ".lbl {\n",
       "    font-family: monospace;\n",
       "    margin-top: -24px;\n",
       "    margin-left: 20px;\n",
       "    background: #ffffff none repeat scroll 0 0;\n",
       "    padding: 0 6px;\n",
       "    border-style: solid;\n",
       "    display: block;\n",
       "    color: var(--label)\n",
       "}\n",
       ".lbl.trm {\n",
       "    background-attachment: local;\n",
       "    margin-top: 2px;\n",
       "    margin-left: 2px;\n",
       "    padding: 2px 2px;\n",
       "    border-style: none;\n",
       "}\n",
       ".lbl.cnul {\n",
       "    font-size: xx-small;\n",
       "}\n",
       ".lbl.c0 {\n",
       "    font-size: small;\n",
       "}\n",
       ".lbl.c1 {\n",
       "    font-size: small;\n",
       "}\n",
       ".lbl.c2 {\n",
       "    font-size: medium;\n",
       "}\n",
       ".lbl.c3 {\n",
       "    font-size: medium;\n",
       "}\n",
       ".lbl.c4 {\n",
       "    font-size: large;\n",
       "}\n",
       ".occs, a:link.occs {\n",
       "    font-size: small;\n",
       "}\n",
       "\n",
       "/* PROVENANCE */\n",
       "\n",
       "div.prov {\n",
       "\tmargin: 40px;\n",
       "\tpadding: 20px;\n",
       "\tborder: 2px solid var(--fog-rim);\n",
       "}\n",
       "div.pline {\n",
       "\tdisplay: flex;\n",
       "\tflex-flow: row nowrap;\n",
       "\tjustify-content: stretch;\n",
       "\talign-items: baseline;\n",
       "}\n",
       "div.p2line {\n",
       "\tmargin-left: 2em;\n",
       "\tdisplay: flex;\n",
       "\tflex-flow: row nowrap;\n",
       "\tjustify-content: stretch;\n",
       "\talign-items: baseline;\n",
       "}\n",
       "div.psline {\n",
       "\tdisplay: flex;\n",
       "\tflex-flow: row nowrap;\n",
       "\tjustify-content: stretch;\n",
       "\talign-items: baseline;\n",
       "\tbackground-color: var(--gold-mist-back);\n",
       "}\n",
       "div.pname {\n",
       "\tflex: 0 0 5rem;\n",
       "\tfont-weight: bold;\n",
       "}\n",
       "div.pval {\n",
       "    flex: 1 1 auto;\n",
       "}\n",
       "\n",
       "/* KEYBOARD */\n",
       ".ccoff {\n",
       "  background-color: inherit;\n",
       "}\n",
       ".ccon {\n",
       "  background-color: yellow ! important;\n",
       "}\n",
       ".ccon,.ccoff {\n",
       "  padding: 0.2rem;\n",
       "  margin: 0.2rem;\n",
       "  border: 0.1rem solid var(--letter-box-border);\n",
       "  border-radius: 0.1rem;\n",
       "}\n",
       ".ccline {\n",
       "  font-size: xx-large ! important;\n",
       "  font-weight: bold;\n",
       "  line-height: 2em ! important;\n",
       "}\n",
       "/* TF header */\n",
       "\n",
       "summary {\n",
       "  /* needed to override the normalize.less\n",
       "   * in the classical jupyter notebook\n",
       "   */\n",
       "  display: list-item ! important;\n",
       "}\n",
       "\n",
       ".fcorpus {\n",
       "  display: flex;\n",
       "  flex-flow: column nowrap;\n",
       "  justify-content: flex-start;\n",
       "  align-items: flex-start;\n",
       "  align-content: flex-start;\n",
       "}\n",
       ".frow {\n",
       "  display: flex;\n",
       "  flex-flow: row nowrap;\n",
       "  justify-content: flex-start;\n",
       "  align-items: flex-start;\n",
       "  align-content: flex-start;\n",
       "}\n",
       ".fmeta {\n",
       "  display: flex;\n",
       "  flex-flow: column nowrap;\n",
       "  justify-content: flex-start;\n",
       "  align-items: flex-start;\n",
       "  align-content: flex-start;\n",
       "}\n",
       ".fmetarow {\n",
       "  display: flex;\n",
       "  flex-flow: row nowrap;\n",
       "  justify-content: flex-start;\n",
       "  align-items: flex-start;\n",
       "  align-content: flex-start;\n",
       "}\n",
       ".fmetakey {\n",
       "  min-width: 8em;\n",
       "  font-family: monospace;\n",
       "}\n",
       ".fnamecat {\n",
       "  min-width: 8em;\n",
       "}\n",
       ".fnamecat.edge {\n",
       "  font-weight: bold;\n",
       "  font-style: italic;\n",
       "}\n",
       ".fmono {\n",
       "    font-family: monospace;\n",
       "}\n",
       "\n",
       ":root {\n",
       "\t--node:               hsla(120, 100%,  20%, 1.0  );\n",
       "\t--label:              hsla(  0, 100%,  20%, 1.0  );\n",
       "\t--tfsechead:          hsla(  0, 100%,  25%, 1.0  );\n",
       "\t--structure:          hsla(120, 100%,  25%, 1.0  );\n",
       "\t--features:           hsla(  0,   0%,  30%, 1.0  );\n",
       "  --text-color:         hsla( 60,  80%,  10%, 1.0  );\n",
       "  --lex-color:          hsla(220,  90%,  60%, 1.0  );\n",
       "  --meta-color:         hsla(  0,   0%,  90%, 0.7  );\n",
       "  --meta-width:         3px;\n",
       "  --border-color-nul:   hsla(  0,   0%,  90%, 0.5  );\n",
       "  --border-color0:      hsla(  0,   0%,  90%, 0.9  );\n",
       "  --border-color1:      hsla(  0,   0%,  80%, 0.9  );\n",
       "  --border-color2:      hsla(  0,   0%,  70%, 0.9  );\n",
       "  --border-color3:      hsla(  0,   0%,  80%, 0.8  );\n",
       "  --border-color4:      hsla(  0,   0%,  60%, 0.9  );\n",
       "\t--letter-box-border:  hsla(  0,   0%,  80%, 0.5  );\n",
       "  --border-width-nul:   2px;\n",
       "  --border-width0:      2px;\n",
       "  --border-width1:      3px;\n",
       "  --border-width2:      4px;\n",
       "  --border-width3:      6px;\n",
       "  --border-width4:      5px;\n",
       "  --border-width-plain: 2px;\n",
       "}\n",
       ".hl {\n",
       "  background-color: var(--hl-strong);\n",
       "}\n",
       "span.hl {\n",
       "\tbackground-color: var(--hl-strong);\n",
       "\tborder-width: 0;\n",
       "\tborder-radius: 2px;\n",
       "\tborder-style: solid;\n",
       "}\n",
       "div.contnr.hl,div.lbl.hl {\n",
       "  background-color: var(--hl-strong);\n",
       "}\n",
       "div.contnr.hl {\n",
       "  border-color: var(--hl-rim) ! important;\n",
       "\tborder-width: 4px ! important;\n",
       "}\n",
       "\n",
       "span.hlbx {\n",
       "\tborder-color: var(--hl-rim);\n",
       "\tborder-width: 4px ! important;\n",
       "\tborder-style: solid;\n",
       "\tborder-radius: 6px;\n",
       "  padding: 4px;\n",
       "  margin: 4px;\n",
       "}\n",
       "\n",
       ":root {\n",
       "\t--hl-strong:        hsla( 60, 100%,  70%, 0.9  );\n",
       "\t--hl-rim:           hsla( 55,  80%,  50%, 1.0  );\n",
       "}\n",
       "</style>"
      ],
      "text/plain": [
       "<IPython.core.display.HTML object>"
      ]
     },
     "metadata": {},
     "output_type": "display_data"
    },
    {
     "data": {
      "text/html": [
       "\n",
       "<script>\n",
       "globalThis.copyChar = (el, c) => {\n",
       "    for (const el of document.getElementsByClassName('ccon')) {\n",
       "        el.className = 'ccoff'\n",
       "    }\n",
       "    el.className = 'ccon'\n",
       "    navigator.clipboard.writeText(String.fromCharCode(c))\n",
       "}\n",
       "</script>\n"
      ],
      "text/plain": [
       "<IPython.core.display.HTML object>"
      ]
     },
     "metadata": {},
     "output_type": "display_data"
    },
    {
     "data": {
      "text/html": [
       "<div><b>Text-Fabric API:</b> names <a target=\"_blank\" href=\"https://annotation.github.io/text-fabric/tf/cheatsheet.html\" title=\"doc\">N F E L T S C TF</a> directly usable</div><hr>"
      ],
      "text/plain": [
       "<IPython.core.display.HTML object>"
      ]
     },
     "metadata": {},
     "output_type": "display_data"
    }
   ],
   "source": [
    "A = use(\"ETCBC/bhsa\", hoist=globals())"
   ]
  },
  {
   "cell_type": "markdown",
   "id": "b8f013d9-2220-480e-90f1-173945577de9",
   "metadata": {},
   "source": [
    "We start by putting all words (in the sense of contiguous stretches of letters without white space)\n",
    "together in one list.\n",
    "\n",
    "In order to do that, we'll use the `trailer` feature on words.\n",
    "\n",
    "Let's first inspect that feature by means of a frequency list."
   ]
  },
  {
   "cell_type": "code",
   "execution_count": 3,
   "id": "8e0a17ec-23c5-4403-a2de-3336a479e499",
   "metadata": {
    "tags": []
   },
   "outputs": [
    {
     "data": {
      "text/plain": [
       "((' ', 236930),\n",
       " ('', 121801),\n",
       " ('&', 42275),\n",
       " ('00 ', 20146),\n",
       " ('05 ', 2266),\n",
       " ('00_S ', 1892),\n",
       " ('00_P ', 1165),\n",
       " ('_S ', 76),\n",
       " (' 05 ', 17),\n",
       " ('_P ', 13),\n",
       " ('00_N ', 7),\n",
       " ('00_N_P ', 1),\n",
       " ('00_N_S ', 1))"
      ]
     },
     "execution_count": 3,
     "metadata": {},
     "output_type": "execute_result"
    }
   ],
   "source": [
    "F.trailer.freqList()"
   ]
  },
  {
   "cell_type": "markdown",
   "id": "40f90cb6-9a88-4b92-9171-d34836ba0169",
   "metadata": {},
   "source": [
    "The `''` value is used when the word is glued to the next word. We take this as a non-word separator.\n",
    "\n",
    "The `'&'` is used to indicate a maqqef. We take this as a word separator.\n",
    "All other values are punctuation marks that imply word separation.\n",
    "\n",
    "So, we make a list of all words where we glue words together if their trailer is the empty string.\n",
    "\n",
    "We accumulate the words in a list `words`.\n",
    "The items in this list are lists of word nodes, the nodes that belong to words that are separated by the\n",
    "empty string.\n",
    "\n",
    "For each word node that we visit, we examine the trailer of the last node of the last entry.\n",
    "If it is the empty string, we append the node to that entry.\n",
    "Otherwise we make a new entry."
   ]
  },
  {
   "cell_type": "code",
   "execution_count": 4,
   "id": "e4122475-bdb1-404f-b930-565148f4326c",
   "metadata": {
    "tags": []
   },
   "outputs": [],
   "source": [
    "words = []\n",
    "\n",
    "for w in F.otype.s(\"word\"):\n",
    "    if len(words) == 0:\n",
    "        words.append([w])\n",
    "        continue\n",
    "        \n",
    "    lastEntry = words[-1]\n",
    "    lastNode = lastEntry[-1]\n",
    "    lastTrailer = F.trailer.v(lastNode)\n",
    "    if lastTrailer == \"\":\n",
    "        lastEntry.append(w)\n",
    "    else:\n",
    "        words.append([w])"
   ]
  },
  {
   "cell_type": "markdown",
   "id": "c3e06f88-8275-4cd2-8f61-1b3049bd8729",
   "metadata": {},
   "source": [
    "Let's see whether we have done this right.\n",
    "\n",
    "We show the first entries of our word list:"
   ]
  },
  {
   "cell_type": "code",
   "execution_count": 5,
   "id": "d0d15503-2734-4880-a3ca-9fef23bb770c",
   "metadata": {
    "tags": []
   },
   "outputs": [
    {
     "name": "stdout",
     "output_type": "stream",
     "text": [
      "[1, 2]\n",
      "[3]\n",
      "[4]\n",
      "[5]\n",
      "[6, 7]\n",
      "[8, 9]\n",
      "[10, 11]\n",
      "[12, 13, 14]\n",
      "[15]\n",
      "[16]\n",
      "[17, 18]\n"
     ]
    }
   ],
   "source": [
    "for entry in words[0:11]:\n",
    "    print(entry)"
   ]
  },
  {
   "cell_type": "markdown",
   "id": "ab54e392-6ee9-4564-aee2-e19c1ec8cd4c",
   "metadata": {},
   "source": [
    "This seems to go well, but let's print out the words themselves:"
   ]
  },
  {
   "cell_type": "code",
   "execution_count": 6,
   "id": "685ec6d4-bbfe-4340-a291-c9d57a6a8768",
   "metadata": {
    "tags": []
   },
   "outputs": [
    {
     "data": {
      "text/html": [
       "<table><tr class=\"tf rtl\"><th class=\"tf rtl\">n</th><th class=\"tf rtl\">p</th><th class=\"tf rtl\">word</th><th class=\"tf rtl\">word</th></tr><tr class=\"tf rtl\"><td class=\"tf rtl\"><span class=\"tfsechead rtl\"><span class=\"ltr\"><a target=\"_blank\" href=\"https://shebanq.ancient-data.org/hebrew/text?book=Genesis&amp;chapter=1&amp;verse=1&amp;version=2021&amp;mr=m&amp;qw=q&amp;tp=txt_p&amp;tr=hb&amp;wget=v&amp;qget=v&amp;nget=vt\" title=\"Show this on SHEBANQ\" sec=\"Genesis 1:1\">Genesis 1:1</a></span></span></td><td class=\"tf rtl\"><span class=\"rtl ubd\"><span class=\"plain rtl  hl\" ><span class=\"txtu hbo\">רֵאשִׁ֖ית </span></span></span></td><td class=\"tf rtl\"><span class=\"rtl ubd\"><span class=\"plain rtl  hl\" ><span class=\"txtu hbo\">בְּ</span></span></span></td></tr></table>"
      ],
      "text/plain": [
       "<IPython.core.display.HTML object>"
      ]
     },
     "metadata": {},
     "output_type": "display_data"
    },
    {
     "data": {
      "text/html": [
       "<table><tr class=\"tf rtl\"><th class=\"tf rtl\">n</th><th class=\"tf rtl\">p</th><th class=\"tf rtl\">word</th></tr><tr class=\"tf rtl\"><td class=\"tf rtl\"><span class=\"tfsechead rtl\"><span class=\"ltr\"><a target=\"_blank\" href=\"https://shebanq.ancient-data.org/hebrew/text?book=Genesis&amp;chapter=1&amp;verse=1&amp;version=2021&amp;mr=m&amp;qw=q&amp;tp=txt_p&amp;tr=hb&amp;wget=v&amp;qget=v&amp;nget=vt\" title=\"Show this on SHEBANQ\" sec=\"Genesis 1:1\">Genesis 1:1</a></span></span></td><td class=\"tf rtl\"><span class=\"rtl ubd\"><span class=\"plain rtl  hl\" ><span class=\"txtu hbo\">בָּרָ֣א </span></span></span></td></tr></table>"
      ],
      "text/plain": [
       "<IPython.core.display.HTML object>"
      ]
     },
     "metadata": {},
     "output_type": "display_data"
    },
    {
     "data": {
      "text/html": [
       "<table><tr class=\"tf rtl\"><th class=\"tf rtl\">n</th><th class=\"tf rtl\">p</th><th class=\"tf rtl\">word</th></tr><tr class=\"tf rtl\"><td class=\"tf rtl\"><span class=\"tfsechead rtl\"><span class=\"ltr\"><a target=\"_blank\" href=\"https://shebanq.ancient-data.org/hebrew/text?book=Genesis&amp;chapter=1&amp;verse=1&amp;version=2021&amp;mr=m&amp;qw=q&amp;tp=txt_p&amp;tr=hb&amp;wget=v&amp;qget=v&amp;nget=vt\" title=\"Show this on SHEBANQ\" sec=\"Genesis 1:1\">Genesis 1:1</a></span></span></td><td class=\"tf rtl\"><span class=\"rtl ubd\"><span class=\"plain rtl  hl\" ><span class=\"txtu hbo\">אֱלֹהִ֑ים </span></span></span></td></tr></table>"
      ],
      "text/plain": [
       "<IPython.core.display.HTML object>"
      ]
     },
     "metadata": {},
     "output_type": "display_data"
    },
    {
     "data": {
      "text/html": [
       "<table><tr class=\"tf rtl\"><th class=\"tf rtl\">n</th><th class=\"tf rtl\">p</th><th class=\"tf rtl\">word</th></tr><tr class=\"tf rtl\"><td class=\"tf rtl\"><span class=\"tfsechead rtl\"><span class=\"ltr\"><a target=\"_blank\" href=\"https://shebanq.ancient-data.org/hebrew/text?book=Genesis&amp;chapter=1&amp;verse=1&amp;version=2021&amp;mr=m&amp;qw=q&amp;tp=txt_p&amp;tr=hb&amp;wget=v&amp;qget=v&amp;nget=vt\" title=\"Show this on SHEBANQ\" sec=\"Genesis 1:1\">Genesis 1:1</a></span></span></td><td class=\"tf rtl\"><span class=\"rtl ubd\"><span class=\"plain rtl  hl\" ><span class=\"txtu hbo\">אֵ֥ת </span></span></span></td></tr></table>"
      ],
      "text/plain": [
       "<IPython.core.display.HTML object>"
      ]
     },
     "metadata": {},
     "output_type": "display_data"
    },
    {
     "data": {
      "text/html": [
       "<table><tr class=\"tf rtl\"><th class=\"tf rtl\">n</th><th class=\"tf rtl\">p</th><th class=\"tf rtl\">word</th><th class=\"tf rtl\">word</th></tr><tr class=\"tf rtl\"><td class=\"tf rtl\"><span class=\"tfsechead rtl\"><span class=\"ltr\"><a target=\"_blank\" href=\"https://shebanq.ancient-data.org/hebrew/text?book=Genesis&amp;chapter=1&amp;verse=1&amp;version=2021&amp;mr=m&amp;qw=q&amp;tp=txt_p&amp;tr=hb&amp;wget=v&amp;qget=v&amp;nget=vt\" title=\"Show this on SHEBANQ\" sec=\"Genesis 1:1\">Genesis 1:1</a></span></span></td><td class=\"tf rtl\"><span class=\"rtl ubd\"><span class=\"plain rtl  hl\" ><span class=\"txtu hbo\">שָּׁמַ֖יִם </span></span></span></td><td class=\"tf rtl\"><span class=\"rtl ubd\"><span class=\"plain rtl  hl\" ><span class=\"txtu hbo\">הַ</span></span></span></td></tr></table>"
      ],
      "text/plain": [
       "<IPython.core.display.HTML object>"
      ]
     },
     "metadata": {},
     "output_type": "display_data"
    },
    {
     "data": {
      "text/html": [
       "<table><tr class=\"tf rtl\"><th class=\"tf rtl\">n</th><th class=\"tf rtl\">p</th><th class=\"tf rtl\">word</th><th class=\"tf rtl\">word</th></tr><tr class=\"tf rtl\"><td class=\"tf rtl\"><span class=\"tfsechead rtl\"><span class=\"ltr\"><a target=\"_blank\" href=\"https://shebanq.ancient-data.org/hebrew/text?book=Genesis&amp;chapter=1&amp;verse=1&amp;version=2021&amp;mr=m&amp;qw=q&amp;tp=txt_p&amp;tr=hb&amp;wget=v&amp;qget=v&amp;nget=vt\" title=\"Show this on SHEBANQ\" sec=\"Genesis 1:1\">Genesis 1:1</a></span></span></td><td class=\"tf rtl\"><span class=\"rtl ubd\"><span class=\"plain rtl  hl\" ><span class=\"txtu hbo\">אֵ֥ת </span></span></span></td><td class=\"tf rtl\"><span class=\"rtl ubd\"><span class=\"plain rtl  hl\" ><span class=\"txtu hbo\">וְ</span></span></span></td></tr></table>"
      ],
      "text/plain": [
       "<IPython.core.display.HTML object>"
      ]
     },
     "metadata": {},
     "output_type": "display_data"
    },
    {
     "data": {
      "text/html": [
       "<table><tr class=\"tf rtl\"><th class=\"tf rtl\">n</th><th class=\"tf rtl\">p</th><th class=\"tf rtl\">word</th><th class=\"tf rtl\">word</th></tr><tr class=\"tf rtl\"><td class=\"tf rtl\"><span class=\"tfsechead rtl\"><span class=\"ltr\"><a target=\"_blank\" href=\"https://shebanq.ancient-data.org/hebrew/text?book=Genesis&amp;chapter=1&amp;verse=1&amp;version=2021&amp;mr=m&amp;qw=q&amp;tp=txt_p&amp;tr=hb&amp;wget=v&amp;qget=v&amp;nget=vt\" title=\"Show this on SHEBANQ\" sec=\"Genesis 1:1\">Genesis 1:1</a></span></span></td><td class=\"tf rtl\"><span class=\"rtl ubd\"><span class=\"plain rtl  hl\" ><span class=\"txtu hbo\">אָֽרֶץ׃ </span></span></span></td><td class=\"tf rtl\"><span class=\"rtl ubd\"><span class=\"plain rtl  hl\" ><span class=\"txtu hbo\">הָ</span></span></span></td></tr></table>"
      ],
      "text/plain": [
       "<IPython.core.display.HTML object>"
      ]
     },
     "metadata": {},
     "output_type": "display_data"
    },
    {
     "data": {
      "text/html": [
       "<table><tr class=\"tf rtl\"><th class=\"tf rtl\">n</th><th class=\"tf rtl\">p</th><th class=\"tf rtl\">word</th><th class=\"tf rtl\">word</th><th class=\"tf rtl\">word</th></tr><tr class=\"tf rtl\"><td class=\"tf rtl\"><span class=\"tfsechead rtl\"><span class=\"ltr\"><a target=\"_blank\" href=\"https://shebanq.ancient-data.org/hebrew/text?book=Genesis&amp;chapter=1&amp;verse=2&amp;version=2021&amp;mr=m&amp;qw=q&amp;tp=txt_p&amp;tr=hb&amp;wget=v&amp;qget=v&amp;nget=vt\" title=\"Show this on SHEBANQ\" sec=\"Genesis 1:2\">Genesis 1:2</a></span></span></td><td class=\"tf rtl\"><span class=\"rtl ubd\"><span class=\"plain rtl  hl\" ><span class=\"txtu hbo\">אָ֗רֶץ </span></span></span></td><td class=\"tf rtl\"><span class=\"rtl ubd\"><span class=\"plain rtl  hl\" ><span class=\"txtu hbo\">הָ</span></span></span></td><td class=\"tf rtl\"><span class=\"rtl ubd\"><span class=\"plain rtl  hl\" ><span class=\"txtu hbo\">וְ</span></span></span></td></tr></table>"
      ],
      "text/plain": [
       "<IPython.core.display.HTML object>"
      ]
     },
     "metadata": {},
     "output_type": "display_data"
    },
    {
     "data": {
      "text/html": [
       "<table><tr class=\"tf rtl\"><th class=\"tf rtl\">n</th><th class=\"tf rtl\">p</th><th class=\"tf rtl\">word</th></tr><tr class=\"tf rtl\"><td class=\"tf rtl\"><span class=\"tfsechead rtl\"><span class=\"ltr\"><a target=\"_blank\" href=\"https://shebanq.ancient-data.org/hebrew/text?book=Genesis&amp;chapter=1&amp;verse=2&amp;version=2021&amp;mr=m&amp;qw=q&amp;tp=txt_p&amp;tr=hb&amp;wget=v&amp;qget=v&amp;nget=vt\" title=\"Show this on SHEBANQ\" sec=\"Genesis 1:2\">Genesis 1:2</a></span></span></td><td class=\"tf rtl\"><span class=\"rtl ubd\"><span class=\"plain rtl  hl\" ><span class=\"txtu hbo\">הָיְתָ֥ה </span></span></span></td></tr></table>"
      ],
      "text/plain": [
       "<IPython.core.display.HTML object>"
      ]
     },
     "metadata": {},
     "output_type": "display_data"
    },
    {
     "data": {
      "text/html": [
       "<table><tr class=\"tf rtl\"><th class=\"tf rtl\">n</th><th class=\"tf rtl\">p</th><th class=\"tf rtl\">word</th></tr><tr class=\"tf rtl\"><td class=\"tf rtl\"><span class=\"tfsechead rtl\"><span class=\"ltr\"><a target=\"_blank\" href=\"https://shebanq.ancient-data.org/hebrew/text?book=Genesis&amp;chapter=1&amp;verse=2&amp;version=2021&amp;mr=m&amp;qw=q&amp;tp=txt_p&amp;tr=hb&amp;wget=v&amp;qget=v&amp;nget=vt\" title=\"Show this on SHEBANQ\" sec=\"Genesis 1:2\">Genesis 1:2</a></span></span></td><td class=\"tf rtl\"><span class=\"rtl ubd\"><span class=\"plain rtl  hl\" ><span class=\"txtu hbo\">תֹ֨הוּ֙ </span></span></span></td></tr></table>"
      ],
      "text/plain": [
       "<IPython.core.display.HTML object>"
      ]
     },
     "metadata": {},
     "output_type": "display_data"
    },
    {
     "data": {
      "text/html": [
       "<table><tr class=\"tf rtl\"><th class=\"tf rtl\">n</th><th class=\"tf rtl\">p</th><th class=\"tf rtl\">word</th><th class=\"tf rtl\">word</th></tr><tr class=\"tf rtl\"><td class=\"tf rtl\"><span class=\"tfsechead rtl\"><span class=\"ltr\"><a target=\"_blank\" href=\"https://shebanq.ancient-data.org/hebrew/text?book=Genesis&amp;chapter=1&amp;verse=2&amp;version=2021&amp;mr=m&amp;qw=q&amp;tp=txt_p&amp;tr=hb&amp;wget=v&amp;qget=v&amp;nget=vt\" title=\"Show this on SHEBANQ\" sec=\"Genesis 1:2\">Genesis 1:2</a></span></span></td><td class=\"tf rtl\"><span class=\"rtl ubd\"><span class=\"plain rtl  hl\" ><span class=\"txtu hbo\">בֹ֔הוּ </span></span></span></td><td class=\"tf rtl\"><span class=\"rtl ubd\"><span class=\"plain rtl  hl\" ><span class=\"txtu hbo\">וָ</span></span></span></td></tr></table>"
      ],
      "text/plain": [
       "<IPython.core.display.HTML object>"
      ]
     },
     "metadata": {},
     "output_type": "display_data"
    }
   ],
   "source": [
    "for entry in words[0:11]:\n",
    "    A.plainTuple(entry[::-1])"
   ]
  },
  {
   "cell_type": "markdown",
   "id": "70db922f-7baf-4673-a60a-25260f2a5cff",
   "metadata": {},
   "source": [
    "Yes, the entries correspond to the words in the new sense.\n",
    "\n",
    "So, how many do we have?"
   ]
  },
  {
   "cell_type": "code",
   "execution_count": 7,
   "id": "1a42e874-3c23-487c-bf89-189713ef9438",
   "metadata": {
    "tags": []
   },
   "outputs": [
    {
     "data": {
      "text/plain": [
       "304789"
      ]
     },
     "execution_count": 7,
     "metadata": {},
     "output_type": "execute_result"
    }
   ],
   "source": [
    "len(words)"
   ]
  },
  {
   "cell_type": "markdown",
   "id": "f8b554a9-f4cf-4658-bad5-9ec84233423d",
   "metadata": {},
   "source": [
    "## Final consonants\n",
    "\n",
    "What is the frequency of final consonants w.r.t. their non final counterparts?"
   ]
  },
  {
   "cell_type": "code",
   "execution_count": 8,
   "id": "2582880a-bb03-463a-a3d6-98228b750617",
   "metadata": {
    "tags": []
   },
   "outputs": [],
   "source": [
    "import re\n",
    "import collections"
   ]
  },
  {
   "cell_type": "markdown",
   "id": "0d9dfcca-e893-447d-bd64-151ac81b4192",
   "metadata": {},
   "source": [
    "First a little investment in naming the consonants and linking the final ones to the non-final ones."
   ]
  },
  {
   "cell_type": "code",
   "execution_count": 9,
   "id": "1066f8c0-0e40-402c-af97-9c465e52f6a7",
   "metadata": {
    "tags": []
   },
   "outputs": [
    {
     "name": "stdout",
     "output_type": "stream",
     "text": [
      "kafF = ך\n",
      "kaf = כ\n",
      "memF = ם\n",
      "mem = מ\n",
      "nunF = ן\n",
      "nun = נ\n",
      "peF = ף\n",
      "pe = פ\n",
      "tsadiF = ץ\n",
      "tsadi = צ\n"
     ]
    }
   ],
   "source": [
    "# keys: final consonants\n",
    "# values: corresponding non-final consonants\n",
    "\n",
    "theFive = dict(\n",
    "    kafF=\"\\u05da\",\n",
    "    kaf=\"\\u05db\",\n",
    "    memF=\"\\u05dd\",\n",
    "    mem=\"\\u05de\",\n",
    "    nunF=\"\\u05df\",\n",
    "    nun=\"\\u05e0\",\n",
    "    peF=\"\\u05e3\",\n",
    "    pe=\"\\u05e4\",\n",
    "    tsadiF=\"\\u05e5\",\n",
    "    tsadi=\"\\u05e6\",\n",
    ")\n",
    "\n",
    "for (name, ch) in theFive.items():\n",
    "    print(f\"{name} = {ch}\")"
   ]
  },
  {
   "cell_type": "markdown",
   "id": "76134a38-7966-4b0a-8841-a5cd4d8ac222",
   "metadata": {},
   "source": [
    "Here comes the linking."
   ]
  },
  {
   "cell_type": "code",
   "execution_count": 10,
   "id": "a664f584-c450-4193-9908-013ba353ff84",
   "metadata": {
    "tags": []
   },
   "outputs": [
    {
     "name": "stdout",
     "output_type": "stream",
     "text": [
      "final ך corresponds to כ\n",
      "final ם corresponds to מ\n",
      "final ן corresponds to נ\n",
      "final ף corresponds to פ\n",
      "final ץ corresponds to צ\n"
     ]
    }
   ],
   "source": [
    "finalConsonants = {}\n",
    "\n",
    "for name in theFive:\n",
    "    if name.endswith(\"F\"):\n",
    "        finalConsonants[theFive[name]] = theFive[name[0:-1]]\n",
    "        \n",
    "for (cF, c) in finalConsonants.items():\n",
    "    print(f\"final {cF} corresponds to {c}\")"
   ]
  },
  {
   "cell_type": "markdown",
   "id": "26ad1121-4138-464e-97b0-0e9d78277f8f",
   "metadata": {},
   "source": [
    "Now we construct a regular expression that matches all of these consonants."
   ]
  },
  {
   "cell_type": "code",
   "execution_count": 11,
   "id": "c54c0a6f-9337-4211-a2ce-4f1d46c126b6",
   "metadata": {
    "tags": []
   },
   "outputs": [
    {
     "data": {
      "text/plain": [
       "re.compile(r'([ךםןףץכמנפצ])', re.UNICODE)"
      ]
     },
     "execution_count": 11,
     "metadata": {},
     "output_type": "execute_result"
    }
   ],
   "source": [
    "finals = \"\".join(finalConsonants.keys())\n",
    "nonFinals = \"\".join(finalConsonants.values())\n",
    "theFiveRe = re.compile(fr\"([{finals}{nonFinals}])\")\n",
    "theFiveRe"
   ]
  },
  {
   "cell_type": "markdown",
   "id": "9e607b42-9ce5-42e3-a58e-317798bb60e0",
   "metadata": {},
   "source": [
    "We are going to match each of the 400,000+ words to this pattern, and collect all matches of it."
   ]
  },
  {
   "cell_type": "code",
   "execution_count": 12,
   "id": "77c5fbfc-961b-4496-add0-fb3956698417",
   "metadata": {
    "tags": []
   },
   "outputs": [],
   "source": [
    "freqs = collections.Counter()\n",
    "\n",
    "for w in F.otype.s(\"word\"):\n",
    "    text  = F.g_word_utf8.v(w)\n",
    "    \n",
    "    chars = theFiveRe.findall(text)\n",
    "    for ch in chars:\n",
    "        freqs[ch] += 1"
   ]
  },
  {
   "cell_type": "markdown",
   "id": "c8d13d00-a255-4eff-a765-8fe94cffac2f",
   "metadata": {
    "tags": []
   },
   "source": [
    "We compute the proportion in percents of consonants against their counterparts,\n",
    "we also give totals.\n",
    "\n",
    "We present the result as a markdown table."
   ]
  },
  {
   "cell_type": "code",
   "execution_count": 13,
   "id": "096b3515-ab92-4488-b366-21644da8227d",
   "metadata": {
    "tags": []
   },
   "outputs": [],
   "source": [
    "from tf.advanced.helpers import dm"
   ]
  },
  {
   "cell_type": "code",
   "execution_count": 14,
   "id": "54f6775a-bdac-4c62-bfa4-152b7958c824",
   "metadata": {
    "tags": []
   },
   "outputs": [
    {
     "data": {
      "text/markdown": [
       "\n",
       "consonant | #total | #final | #nonfinal | %final\n",
       "--- | --- | --- | --- | ---\n",
       "כ and ך | 47469 | 14002 | 33467 | 29\n",
       "מ and ם | 98929 | 41291 | 57638 | 42\n",
       "נ and ן | 55093 | 15245 | 39848 | 28\n",
       "פ and ף | 18284 | 2554 | 15730 | 14\n",
       "צ and ץ | 14977 | 3288 | 11689 | 22\n"
      ],
      "text/plain": [
       "<IPython.core.display.Markdown object>"
      ]
     },
     "metadata": {},
     "output_type": "display_data"
    }
   ],
   "source": [
    "text = \"\"\"\n",
    "consonant | #total | #final | #nonfinal | %final\n",
    "--- | --- | --- | --- | ---\n",
    "\"\"\"\n",
    "\n",
    "for (consF, cons) in sorted(finalConsonants.items()):\n",
    "    final = freqs[consF]\n",
    "    nonFinal = freqs[cons]\n",
    "    total = final + nonFinal\n",
    "    percent = int(round(final * 100 / total))\n",
    "    text += f\"{cons} and {consF} | {total} | {final} | {nonFinal} | {percent}\\n\"\n",
    "    \n",
    "dm(text)"
   ]
  },
  {
   "cell_type": "markdown",
   "id": "e31c71e6-7615-43a6-a8c8-0895525f3ce4",
   "metadata": {},
   "source": [
    "# Remaining questions\n",
    "\n",
    "## Have we seen all the consonants?\n",
    "\n",
    "The text of the BHSA is mainly store in the feature\n",
    "[`g_word_utf8`](https://etcbc.github.io/bhsa/features/g_word_utf8/),\n",
    "but there are other features as well that store material:\n",
    "\n",
    "* qere material that deviates from the ketiv is in\n",
    "  [`qere_utf8`](https://etcbc.github.io/bhsa/features/qere_utf8/)\n",
    "  \n",
    "* [`trailer_utf8`](https://etcbc.github.io/bhsa/features/trailer_utf8/) stores inter-word material, but can contain\n",
    "  consonants. Again, if there is a deviating qere, the inter-word material is in \n",
    "  [`qere_trailer_utf8`](https://etcbc.github.io/bhsa/features/qere_trailer_utf8/).\n",
    "  \n",
    "These factors may cause discrepancies in different ways of counting consonants.\n"
   ]
  },
  {
   "cell_type": "markdown",
   "id": "d8358434-967d-493b-ab7f-5b18999d6a13",
   "metadata": {},
   "source": [
    "# Exploration\n",
    "\n",
    "Which consonants occur in `trailer_utf8` and `qere_trailer_utf8`?"
   ]
  },
  {
   "cell_type": "code",
   "execution_count": 15,
   "id": "93b0074f-7fc3-4f75-b6b6-93c13e4703c3",
   "metadata": {
    "tags": []
   },
   "outputs": [
    {
     "name": "stdout",
     "output_type": "stream",
     "text": [
      "121801x ''\n",
      "236930x ' '\n",
      "    17x ' ׀ '\n",
      "    76x ' ס '\n",
      "    13x ' פ '\n",
      "\tnon-final consonant  פ\n",
      " 42275x '־'\n",
      "  2266x '׀ '\n",
      " 20146x '׃ '\n",
      "     7x '׃ ׆ '\n",
      "     1x '׃ נ ס '\n",
      "\tnon-final consonant  נ\n",
      "     1x '׃ נ פ '\n",
      "\tnon-final consonant  נ\n",
      "\tnon-final consonant  פ\n",
      "  1892x '׃ ס '\n",
      "  1165x '׃ פ '\n",
      "\tnon-final consonant  פ\n"
     ]
    }
   ],
   "source": [
    "nonFinalConsonants = set(finalConsonants.values())\n",
    "\n",
    "for (chars, n) in sorted(F.trailer_utf8.freqList()):\n",
    "    print(f\"{n:>6}x {repr(chars)}\")\n",
    "    for c in chars:\n",
    "        if c in finalConsonants:\n",
    "            extra = \"final consonant\"\n",
    "        elif c in nonFinalConsonants:\n",
    "            extra = \"non-final consonant\"\n",
    "        else:\n",
    "            extra = \"\"\n",
    "        if extra:\n",
    "            print(f\"\\t{extra:<20} {c}\")"
   ]
  },
  {
   "cell_type": "markdown",
   "id": "347d5438-b519-449e-bd07-744514e022dc",
   "metadata": {},
   "source": [
    "OK, there are consonants, and they include some consonants we are interested in,\n",
    "the pe and the nun, both non-final.\n",
    "\n",
    "But they they are really the petuhah and the nun-hafukha and they do not function as consonants.\n",
    "See [writing](https://annotation.github.io/text-fabric/tf/writing/hebrew.html)."
   ]
  },
  {
   "cell_type": "markdown",
   "id": "5c9b0e6d-b08d-48b3-8a3f-cf93bfef6fd5",
   "metadata": {},
   "source": [
    "# Ketiv/qere sensitive counting\n",
    "\n",
    "So let's add a layer of sophistication, and redo the counting in several ways:\n",
    "\n",
    "* Q+ the qere text, with interword material\n",
    "* Q- the qere text, without interword material\n",
    "* K+ the ketiv text, with interword material\n",
    "* K- the ketiv text, without interword material"
   ]
  },
  {
   "cell_type": "code",
   "execution_count": 16,
   "id": "d5badbfc-bad9-4040-a6d8-db7a196da32d",
   "metadata": {
    "tags": []
   },
   "outputs": [],
   "source": [
    "freqs = collections.defaultdict(lambda: collections.Counter())\n",
    "\n",
    "for w in F.otype.s(\"word\"):\n",
    "    ketiv = F.g_word_utf8.v(w)\n",
    "    qere = F.qere_utf8.v(w) or ketiv\n",
    "    trailerk = F.trailer_utf8.v(w)\n",
    "    trailerq = F.qere_trailer_utf8.v(w) or trailerk\n",
    "    \n",
    "    texts = {}\n",
    "    texts[\"Km\"]  = ketiv\n",
    "    texts[\"Qm\"]  = qere\n",
    "    texts[\"Kp\"] = f\"{ketiv}{trailerk}\"\n",
    "    texts[\"Qp\"] = f\"{qere}{trailerq}\"\n",
    "    \n",
    "    for (kind, text) in texts.items():\n",
    "        chars = theFiveRe.findall(text)\n",
    "        for ch in chars:\n",
    "            freqs[kind][ch] += 1"
   ]
  },
  {
   "cell_type": "markdown",
   "id": "981d7298-16d7-4a67-bb91-592488af2089",
   "metadata": {},
   "source": [
    "Now we have to display the results:"
   ]
  },
  {
   "cell_type": "code",
   "execution_count": 17,
   "id": "cfd2b601-f1a5-4f09-96d4-2def65dc1470",
   "metadata": {
    "tags": []
   },
   "outputs": [
    {
     "data": {
      "text/markdown": [
       "\n",
       "consonant | kind | #totalQp | #final | #nonfinal | %final\n",
       "--- | --- | --- | --- | ---| ---\n",
       "כ and ך | Qp | 47482 | 14001 | 33481 | 29\n",
       "כ and ך | Qm | 47482 | 14001 | 33481 | 29\n",
       "כ and ך | Kp | 47469 | 14002 | 33467 | 29\n",
       "כ and ך | Km | 47469 | 14002 | 33467 | 29\n",
       "מ and ם | Qp | 98940 | 41291 | 57649 | 42\n",
       "מ and ם | Qm | 98940 | 41291 | 57649 | 42\n",
       "מ and ם | Kp | 98929 | 41291 | 57638 | 42\n",
       "מ and ם | Km | 98929 | 41291 | 57638 | 42\n",
       "נ and ן | Qp | 55093 | 15240 | 39853 | 28\n",
       "נ and ן | Qm | 55091 | 15240 | 39851 | 28\n",
       "נ and ן | Kp | 55095 | 15245 | 39850 | 28\n",
       "נ and ן | Km | 55093 | 15245 | 39848 | 28\n",
       "פ and ף | Qp | 19457 | 2555 | 16902 | 13\n",
       "פ and ף | Qm | 18278 | 2555 | 15723 | 14\n",
       "פ and ף | Kp | 19463 | 2554 | 16909 | 13\n",
       "פ and ף | Km | 18284 | 2554 | 15730 | 14\n",
       "צ and ץ | Qp | 14977 | 3288 | 11689 | 22\n",
       "צ and ץ | Qm | 14977 | 3288 | 11689 | 22\n",
       "צ and ץ | Kp | 14977 | 3288 | 11689 | 22\n",
       "צ and ץ | Km | 14977 | 3288 | 11689 | 22\n"
      ],
      "text/plain": [
       "<IPython.core.display.Markdown object>"
      ]
     },
     "metadata": {},
     "output_type": "display_data"
    }
   ],
   "source": [
    "text = \"\"\"\n",
    "consonant | kind | #totalQp | #final | #nonfinal | %final\n",
    "--- | --- | --- | --- | ---| ---\n",
    "\"\"\"\n",
    "\n",
    "for (consF, cons) in sorted(finalConsonants.items()):\n",
    "    for kind in (\"Qp\", \"Qm\", \"Kp\", \"Km\"):\n",
    "        theseFreqs = freqs[kind]\n",
    "        \n",
    "        final = theseFreqs[consF]\n",
    "        nonFinal = theseFreqs[cons]\n",
    "        total = final + nonFinal\n",
    "        percent = int(round(final * 100 / total))\n",
    "        text += f\"{cons} and {consF} | {kind} | {total} | {final} | {nonFinal} | {percent}\\n\"\n",
    "    \n",
    "dm(text)"
   ]
  },
  {
   "cell_type": "markdown",
   "id": "31907fa9-839a-45f9-acc0-8a7ffb54517a",
   "metadata": {},
   "source": [
    "## Are there words with multiple final consonants?\n",
    "\n",
    "An earlier version of this notebook counted at most 1 final consonant per word and that gave\n",
    "slight discrepancies with the result above. Let's first reconstruct that way of counting and list the results.\n",
    "\n",
    "We only do the `Qm` variety: we follow the ketiv, and do not look at trailing material."
   ]
  },
  {
   "cell_type": "code",
   "execution_count": 18,
   "id": "d5d4247a-8267-44ba-8e24-3dfd48143311",
   "metadata": {
    "tags": []
   },
   "outputs": [],
   "source": [
    "freqs = collections.defaultdict(lambda: collections.Counter())\n",
    "finalsRe = re.compile(fr\"([{finals}])\")\n",
    "\n",
    "for w in F.otype.s(\"word\"):\n",
    "    ketiv = F.g_word_utf8.v(w)\n",
    "    \n",
    "    # new method\n",
    "    chars = theFiveRe.findall(ketiv)\n",
    "    for ch in chars:\n",
    "        freqs[\"new\"][ch] += 1\n",
    "        \n",
    "    # old method for finding final consonants\n",
    "    match = finalsRe.search(ketiv)\n",
    "    if match:\n",
    "        consF = match.group(1)\n",
    "        freqs[\"old\"][consF] += 1\n",
    "    "
   ]
  },
  {
   "cell_type": "code",
   "execution_count": 19,
   "id": "aca969ad-2f5e-4919-838c-416a2b4eec77",
   "metadata": {
    "tags": []
   },
   "outputs": [
    {
     "data": {
      "text/markdown": [
       "\n",
       "consonant | kind | #totalQp | #final | #nonfinal | %final\n",
       "--- | --- | --- | --- | ---| ---\n",
       "כ and ך | new | 47469 | 14002 | 33467 | 29\n",
       "ך | old |  | 13998 (-4) |  | \n",
       "מ and ם | new | 98929 | 41291 | 57638 | 42\n",
       "ם | old |  | 41274 (-17) |  | \n",
       "נ and ן | new | 55093 | 15245 | 39848 | 28\n",
       "ן | old |  | 15236 (-9) |  | \n",
       "פ and ף | new | 18284 | 2554 | 15730 | 14\n",
       "ף | old |  | 2554 (0) |  | \n",
       "צ and ץ | new | 14977 | 3288 | 11689 | 22\n",
       "ץ | old |  | 3286 (-2) |  | \n"
      ],
      "text/plain": [
       "<IPython.core.display.Markdown object>"
      ]
     },
     "metadata": {},
     "output_type": "display_data"
    }
   ],
   "source": [
    "text = \"\"\"\n",
    "consonant | kind | #totalQp | #final | #nonfinal | %final\n",
    "--- | --- | --- | --- | ---| ---\n",
    "\"\"\"\n",
    "\n",
    "for (consF, cons) in sorted(finalConsonants.items()):\n",
    "    for kind in (\"new\", \"old\"):\n",
    "        theseFreqs = freqs[kind]\n",
    "        \n",
    "        final = theseFreqs[consF]\n",
    "        if kind == \"new\":\n",
    "            finalNew = final\n",
    "            finalRep = final\n",
    "            nonFinal = theseFreqs[cons]\n",
    "            total = final + nonFinal\n",
    "            percent = int(round(final * 100 / total))\n",
    "            rep = f\"{cons} and {consF}\"\n",
    "        else:\n",
    "            diff = final - finalNew\n",
    "            sign = \"+\" if diff > 0 else \"-\" if diff < 0 else \"\"\n",
    "            diff = -diff if diff < 0 else diff\n",
    "            finalRep = f\"{final} ({sign}{diff})\"\n",
    "            nonFinal = \"\"\n",
    "            total = \"\"\n",
    "            percent = \"\"\n",
    "            rep = consF\n",
    "        text += f\"{rep} | {kind} | {total} | {finalRep} | {nonFinal} | {percent}\\n\"\n",
    "    \n",
    "dm(text)"
   ]
  },
  {
   "cell_type": "markdown",
   "id": "884ff861-456c-4642-ae02-499f4ccc1b28",
   "metadata": {},
   "source": [
    "So, yes indeed, there must be words with multiple final consonants.\n",
    "\n",
    "Let's find and show them!"
   ]
  },
  {
   "cell_type": "code",
   "execution_count": 20,
   "id": "61e4f16f-85e3-431d-8900-67a3676142b5",
   "metadata": {
    "tags": []
   },
   "outputs": [
    {
     "data": {
      "text/plain": [
       "defaultdict(list,\n",
       "            {('ן', 'ץ'): [90929, 90933],\n",
       "             ('ן', 'ן'): [120322,\n",
       "              121905,\n",
       "              145492,\n",
       "              384040,\n",
       "              389715,\n",
       "              393118,\n",
       "              393275],\n",
       "             ('ן', 'ם'): [121552,\n",
       "              121924,\n",
       "              123233,\n",
       "              123677,\n",
       "              124944,\n",
       "              128871,\n",
       "              128880,\n",
       "              128927,\n",
       "              128934,\n",
       "              238858,\n",
       "              238891,\n",
       "              244151,\n",
       "              244276,\n",
       "              252286,\n",
       "              289899,\n",
       "              420374,\n",
       "              423988],\n",
       "             ('ך', 'ן'): [208444, 225386],\n",
       "             ('ן', 'ך'): [210146, 346890],\n",
       "             ('ך', 'ך'): [262783],\n",
       "             ('ם', 'ך'): [306728]})"
      ]
     },
     "execution_count": 20,
     "metadata": {},
     "output_type": "execute_result"
    }
   ],
   "source": [
    "multiFinal = collections.defaultdict(list)\n",
    "\n",
    "for w in F.otype.s(\"word\"):\n",
    "    ketiv = F.g_word_utf8.v(w)\n",
    "    chars = finalsRe.findall(ketiv)\n",
    "    if len(chars) > 1:\n",
    "        multiFinal[tuple(chars)].append(w)\n",
    "\n",
    "multiFinal"
   ]
  },
  {
   "cell_type": "markdown",
   "id": "97c1134c-58c3-481d-b325-dea24dc6877f",
   "metadata": {},
   "source": [
    "Tantalizing. Let's show it in a prettier way:"
   ]
  },
  {
   "cell_type": "code",
   "execution_count": 21,
   "id": "28cdddf3-7e7c-4bee-998f-9dff1d504958",
   "metadata": {
    "tags": []
   },
   "outputs": [
    {
     "data": {
      "text/markdown": [
       "### <span class='txtu hbo'>ך ך</span>\n",
       "\n"
      ],
      "text/plain": [
       "<IPython.core.display.Markdown object>"
      ]
     },
     "metadata": {},
     "output_type": "display_data"
    },
    {
     "data": {
      "text/markdown": [
       "In 1 word:\n",
       "\n"
      ],
      "text/plain": [
       "<IPython.core.display.Markdown object>"
      ]
     },
     "metadata": {},
     "output_type": "display_data"
    },
    {
     "data": {
      "text/html": [
       "<div class=\"tfsechead rtl\"><span class=\"ltr\"><a target=\"_blank\" href=\"https://shebanq.ancient-data.org/hebrew/text?book=Jeremia&amp;chapter=51&amp;verse=3&amp;version=2021&amp;mr=m&amp;qw=q&amp;tp=txt_p&amp;tr=hb&amp;wget=v&amp;qget=v&amp;nget=vt\" title=\"Show this on SHEBANQ\" sec=\"Jeremiah 51:3\">Jeremiah 51:3</a></span></div><div class=\"rtl children\"><div class=\"contnr c0 trm rtl  \" ><div class=\"lbl c0 trm \" ><span class=\"nd\">262783 </span> <a class=\" txtu hbo\" target=\"_blank\" href=\"https://shebanq.ancient-data.org/hebrew/word?version=2021&amp;id=1DRKv\" title=\"Show this on SHEBANQ\"><span class=\"txtu hbo\">יִדְרֹ֤ךְ ידרך </span></a></div></div></div>"
      ],
      "text/plain": [
       "<IPython.core.display.HTML object>"
      ]
     },
     "metadata": {},
     "output_type": "display_data"
    },
    {
     "data": {
      "text/markdown": [
       "### <span class='txtu hbo'>ך ן</span>\n",
       "\n"
      ],
      "text/plain": [
       "<IPython.core.display.Markdown object>"
      ]
     },
     "metadata": {},
     "output_type": "display_data"
    },
    {
     "data": {
      "text/markdown": [
       "In 2 words:\n",
       "\n"
      ],
      "text/plain": [
       "<IPython.core.display.Markdown object>"
      ]
     },
     "metadata": {},
     "output_type": "display_data"
    },
    {
     "data": {
      "text/html": [
       "<div class=\"tfsechead rtl\"><span class=\"ltr\"><a target=\"_blank\" href=\"https://shebanq.ancient-data.org/hebrew/text?book=Reges_II&amp;chapter=20&amp;verse=12&amp;version=2021&amp;mr=m&amp;qw=q&amp;tp=txt_p&amp;tr=hb&amp;wget=v&amp;qget=v&amp;nget=vt\" title=\"Show this on SHEBANQ\" sec=\"2_Kings 20:12\">2_Kings 20:12</a></span></div><div class=\"rtl children\"><div class=\"contnr c0 trm rtl  \" ><div class=\"lbl c0 trm \" ><span class=\"nd\">208444 </span> <a class=\" txtu hbo\" target=\"_blank\" href=\"https://shebanq.ancient-data.org/hebrew/word?version=2021&amp;id=1BRADK_BLADNn\" title=\"Show this on SHEBANQ\"><span class=\"txtu hbo\">בְּרֹאדַ֣ךְ ֠בַּלְאֲדָן </span></a></div></div></div>"
      ],
      "text/plain": [
       "<IPython.core.display.HTML object>"
      ]
     },
     "metadata": {},
     "output_type": "display_data"
    },
    {
     "data": {
      "text/html": [
       "<div class=\"tfsechead rtl\"><span class=\"ltr\"><a target=\"_blank\" href=\"https://shebanq.ancient-data.org/hebrew/text?book=Jesaia&amp;chapter=39&amp;verse=1&amp;version=2021&amp;mr=m&amp;qw=q&amp;tp=txt_p&amp;tr=hb&amp;wget=v&amp;qget=v&amp;nget=vt\" title=\"Show this on SHEBANQ\" sec=\"Isaiah 39:1\">Isaiah 39:1</a></span></div><div class=\"rtl children\"><div class=\"contnr c0 trm rtl  \" ><div class=\"lbl c0 trm \" ><span class=\"nd\">225386 </span> <a class=\" txtu hbo\" target=\"_blank\" href=\"https://shebanq.ancient-data.org/hebrew/word?version=2021&amp;id=1MRDK_BLADNn\" title=\"Show this on SHEBANQ\"><span class=\"txtu hbo\">מְרֹדַ֣ךְ ֠בַּלְאֲדָן </span></a></div></div></div>"
      ],
      "text/plain": [
       "<IPython.core.display.HTML object>"
      ]
     },
     "metadata": {},
     "output_type": "display_data"
    },
    {
     "data": {
      "text/markdown": [
       "### <span class='txtu hbo'>ם ך</span>\n",
       "\n"
      ],
      "text/plain": [
       "<IPython.core.display.Markdown object>"
      ]
     },
     "metadata": {},
     "output_type": "display_data"
    },
    {
     "data": {
      "text/markdown": [
       "In 1 word:\n",
       "\n"
      ],
      "text/plain": [
       "<IPython.core.display.Markdown object>"
      ]
     },
     "metadata": {},
     "output_type": "display_data"
    },
    {
     "data": {
      "text/html": [
       "<div class=\"tfsechead rtl\"><span class=\"ltr\"><a target=\"_blank\" href=\"https://shebanq.ancient-data.org/hebrew/text?book=Sacharia&amp;chapter=7&amp;verse=2&amp;version=2021&amp;mr=m&amp;qw=q&amp;tp=txt_p&amp;tr=hb&amp;wget=v&amp;qget=v&amp;nget=vt\" title=\"Show this on SHEBANQ\" sec=\"Zechariah 7:2\">Zechariah 7:2</a></span></div><div class=\"rtl children\"><div class=\"contnr c0 trm rtl  \" ><div class=\"lbl c0 trm \" ><span class=\"nd\">306728 </span> <a class=\" txtu hbo\" target=\"_blank\" href=\"https://shebanq.ancient-data.org/hebrew/word?version=2021&amp;id=1RGM_MLKn\" title=\"Show this on SHEBANQ\"><span class=\"txtu hbo\">רֶ֥גֶם מֶ֖לֶךְ </span></a></div></div></div>"
      ],
      "text/plain": [
       "<IPython.core.display.HTML object>"
      ]
     },
     "metadata": {},
     "output_type": "display_data"
    },
    {
     "data": {
      "text/markdown": [
       "### <span class='txtu hbo'>ן ך</span>\n",
       "\n"
      ],
      "text/plain": [
       "<IPython.core.display.Markdown object>"
      ]
     },
     "metadata": {},
     "output_type": "display_data"
    },
    {
     "data": {
      "text/markdown": [
       "In 2 words:\n",
       "\n"
      ],
      "text/plain": [
       "<IPython.core.display.Markdown object>"
      ]
     },
     "metadata": {},
     "output_type": "display_data"
    },
    {
     "data": {
      "text/html": [
       "<div class=\"tfsechead rtl\"><span class=\"ltr\"><a target=\"_blank\" href=\"https://shebanq.ancient-data.org/hebrew/text?book=Reges_II&amp;chapter=23&amp;verse=11&amp;version=2021&amp;mr=m&amp;qw=q&amp;tp=txt_p&amp;tr=hb&amp;wget=v&amp;qget=v&amp;nget=vt\" title=\"Show this on SHEBANQ\" sec=\"2_Kings 23:11\">2_Kings 23:11</a></span></div><div class=\"rtl children\"><div class=\"contnr c0 trm rtl  \" ><div class=\"lbl c0 trm \" ><span class=\"nd\">210146 </span> <a class=\" txtu hbo\" target=\"_blank\" href=\"https://shebanq.ancient-data.org/hebrew/word?version=2021&amp;id=1NTN_MLKn\" title=\"Show this on SHEBANQ\"><span class=\"txtu hbo\">נְתַן־מֶ֣לֶךְ </span></a></div></div></div>"
      ],
      "text/plain": [
       "<IPython.core.display.HTML object>"
      ]
     },
     "metadata": {},
     "output_type": "display_data"
    },
    {
     "data": {
      "text/html": [
       "<div class=\"tfsechead rtl\"><span class=\"ltr\"><a target=\"_blank\" href=\"https://shebanq.ancient-data.org/hebrew/text?book=Iob&amp;chapter=42&amp;verse=14&amp;version=2021&amp;mr=m&amp;qw=q&amp;tp=txt_p&amp;tr=hb&amp;wget=v&amp;qget=v&amp;nget=vt\" title=\"Show this on SHEBANQ\" sec=\"Job 42:14\">Job 42:14</a></span></div><div class=\"rtl children\"><div class=\"contnr c0 trm rtl  \" ><div class=\"lbl c0 trm \" ><span class=\"nd\">346890 </span> <a class=\" txtu hbo\" target=\"_blank\" href=\"https://shebanq.ancient-data.org/hebrew/word?version=2021&amp;id=1QRN_HPWKn\" title=\"Show this on SHEBANQ\"><span class=\"txtu hbo\">קֶ֥רֶן הַפּֽוּךְ׃ </span></a></div></div></div>"
      ],
      "text/plain": [
       "<IPython.core.display.HTML object>"
      ]
     },
     "metadata": {},
     "output_type": "display_data"
    },
    {
     "data": {
      "text/markdown": [
       "### <span class='txtu hbo'>ן ם</span>\n",
       "\n"
      ],
      "text/plain": [
       "<IPython.core.display.Markdown object>"
      ]
     },
     "metadata": {},
     "output_type": "display_data"
    },
    {
     "data": {
      "text/markdown": [
       "In 17 words:\n",
       "\n"
      ],
      "text/plain": [
       "<IPython.core.display.Markdown object>"
      ]
     },
     "metadata": {},
     "output_type": "display_data"
    },
    {
     "data": {
      "text/html": [
       "<div class=\"tfsechead rtl\"><span class=\"ltr\"><a target=\"_blank\" href=\"https://shebanq.ancient-data.org/hebrew/text?book=Josua&amp;chapter=15&amp;verse=8&amp;version=2021&amp;mr=m&amp;qw=q&amp;tp=txt_p&amp;tr=hb&amp;wget=v&amp;qget=v&amp;nget=vt\" title=\"Show this on SHEBANQ\" sec=\"Joshua 15:8\">Joshua 15:8</a></span></div><div class=\"rtl children\"><div class=\"contnr c0 trm rtl  \" ><div class=\"lbl c0 trm \" ><span class=\"nd\">121552 </span> <a class=\" txtu hbo\" target=\"_blank\" href=\"https://shebanq.ancient-data.org/hebrew/word?version=2021&amp;id=1BN_HNMn\" title=\"Show this on SHEBANQ\"><span class=\"txtu hbo\">בֶן־הִנֹּ֗ם </span></a></div></div></div>"
      ],
      "text/plain": [
       "<IPython.core.display.HTML object>"
      ]
     },
     "metadata": {},
     "output_type": "display_data"
    },
    {
     "data": {
      "text/html": [
       "<div class=\"tfsechead rtl\"><span class=\"ltr\"><a target=\"_blank\" href=\"https://shebanq.ancient-data.org/hebrew/text?book=Josua&amp;chapter=15&amp;verse=34&amp;version=2021&amp;mr=m&amp;qw=q&amp;tp=txt_p&amp;tr=hb&amp;wget=v&amp;qget=v&amp;nget=vt\" title=\"Show this on SHEBANQ\" sec=\"Joshua 15:34\">Joshua 15:34</a></span></div><div class=\"rtl children\"><div class=\"contnr c0 trm rtl  \" ><div class=\"lbl c0 trm \" ><span class=\"nd\">121924 </span> <a class=\" txtu hbo\" target=\"_blank\" href=\"https://shebanq.ancient-data.org/hebrew/word?version=2021&amp;id=1OJN_GNJMn\" title=\"Show this on SHEBANQ\"><span class=\"txtu hbo\">עֵ֣ין גַּנִּ֔ים </span></a></div></div></div>"
      ],
      "text/plain": [
       "<IPython.core.display.HTML object>"
      ]
     },
     "metadata": {},
     "output_type": "display_data"
    },
    {
     "data": {
      "text/html": [
       "<div class=\"tfsechead rtl\"><span class=\"ltr\"><a target=\"_blank\" href=\"https://shebanq.ancient-data.org/hebrew/text?book=Josua&amp;chapter=18&amp;verse=16&amp;version=2021&amp;mr=m&amp;qw=q&amp;tp=txt_p&amp;tr=hb&amp;wget=v&amp;qget=v&amp;nget=vt\" title=\"Show this on SHEBANQ\" sec=\"Joshua 18:16\">Joshua 18:16</a></span></div><div class=\"rtl children\"><div class=\"contnr c0 trm rtl  \" ><div class=\"lbl c0 trm \" ><span class=\"nd\">123233 </span> <a class=\" txtu hbo\" target=\"_blank\" href=\"https://shebanq.ancient-data.org/hebrew/word?version=2021&amp;id=1BN_HNMn\" title=\"Show this on SHEBANQ\"><span class=\"txtu hbo\">בֶן־הִנֹּ֔ם </span></a></div></div></div>"
      ],
      "text/plain": [
       "<IPython.core.display.HTML object>"
      ]
     },
     "metadata": {},
     "output_type": "display_data"
    },
    {
     "data": {
      "text/html": [
       "<div class=\"tfsechead rtl\"><span class=\"ltr\"><a target=\"_blank\" href=\"https://shebanq.ancient-data.org/hebrew/text?book=Josua&amp;chapter=19&amp;verse=21&amp;version=2021&amp;mr=m&amp;qw=q&amp;tp=txt_p&amp;tr=hb&amp;wget=v&amp;qget=v&amp;nget=vt\" title=\"Show this on SHEBANQ\" sec=\"Joshua 19:21\">Joshua 19:21</a></span></div><div class=\"rtl children\"><div class=\"contnr c0 trm rtl  \" ><div class=\"lbl c0 trm \" ><span class=\"nd\">123677 </span> <a class=\" txtu hbo\" target=\"_blank\" href=\"https://shebanq.ancient-data.org/hebrew/word?version=2021&amp;id=1OJN_GNJMn\" title=\"Show this on SHEBANQ\"><span class=\"txtu hbo\">עֵין־גַּנִּ֛ים </span></a></div></div></div>"
      ],
      "text/plain": [
       "<IPython.core.display.HTML object>"
      ]
     },
     "metadata": {},
     "output_type": "display_data"
    },
    {
     "data": {
      "text/html": [
       "<div class=\"tfsechead rtl\"><span class=\"ltr\"><a target=\"_blank\" href=\"https://shebanq.ancient-data.org/hebrew/text?book=Josua&amp;chapter=21&amp;verse=29&amp;version=2021&amp;mr=m&amp;qw=q&amp;tp=txt_p&amp;tr=hb&amp;wget=v&amp;qget=v&amp;nget=vt\" title=\"Show this on SHEBANQ\" sec=\"Joshua 21:29\">Joshua 21:29</a></span></div><div class=\"rtl children\"><div class=\"contnr c0 trm rtl  \" ><div class=\"lbl c0 trm \" ><span class=\"nd\">124944 </span> <a class=\" txtu hbo\" target=\"_blank\" href=\"https://shebanq.ancient-data.org/hebrew/word?version=2021&amp;id=1OJN_GNJMn\" title=\"Show this on SHEBANQ\"><span class=\"txtu hbo\">עֵ֥ין גַּנִּ֖ים </span></a></div></div></div>"
      ],
      "text/plain": [
       "<IPython.core.display.HTML object>"
      ]
     },
     "metadata": {},
     "output_type": "display_data"
    },
    {
     "data": {
      "text/html": [
       "<div class=\"tfsechead rtl\"><span class=\"ltr\"><a target=\"_blank\" href=\"https://shebanq.ancient-data.org/hebrew/text?book=Judices&amp;chapter=3&amp;verse=8&amp;version=2021&amp;mr=m&amp;qw=q&amp;tp=txt_p&amp;tr=hb&amp;wget=v&amp;qget=v&amp;nget=vt\" title=\"Show this on SHEBANQ\" sec=\"Judges 3:8\">Judges 3:8</a></span></div><div class=\"rtl children\"><div class=\"contnr c0 trm rtl  \" ><div class=\"lbl c0 trm \" ><span class=\"nd\">128871 </span> <a class=\" txtu hbo\" target=\"_blank\" href=\"https://shebanq.ancient-data.org/hebrew/word?version=2021&amp;id=1KWCN_RCOTJMn\" title=\"Show this on SHEBANQ\"><span class=\"txtu hbo\">כּוּשַׁ֣ן רִשְׁעָתַ֔יִם </span></a></div></div></div>"
      ],
      "text/plain": [
       "<IPython.core.display.HTML object>"
      ]
     },
     "metadata": {},
     "output_type": "display_data"
    },
    {
     "data": {
      "text/html": [
       "<div class=\"tfsechead rtl\"><span class=\"ltr\"><a target=\"_blank\" href=\"https://shebanq.ancient-data.org/hebrew/text?book=Judices&amp;chapter=3&amp;verse=8&amp;version=2021&amp;mr=m&amp;qw=q&amp;tp=txt_p&amp;tr=hb&amp;wget=v&amp;qget=v&amp;nget=vt\" title=\"Show this on SHEBANQ\" sec=\"Judges 3:8\">Judges 3:8</a></span></div><div class=\"rtl children\"><div class=\"contnr c0 trm rtl  \" ><div class=\"lbl c0 trm \" ><span class=\"nd\">128880 </span> <a class=\" txtu hbo\" target=\"_blank\" href=\"https://shebanq.ancient-data.org/hebrew/word?version=2021&amp;id=1KWCN_RCOTJMn\" title=\"Show this on SHEBANQ\"><span class=\"txtu hbo\">כּוּשַׁ֥ן רִשְׁעָתַ֖יִם </span></a></div></div></div>"
      ],
      "text/plain": [
       "<IPython.core.display.HTML object>"
      ]
     },
     "metadata": {},
     "output_type": "display_data"
    },
    {
     "data": {
      "text/html": [
       "<div class=\"tfsechead rtl\"><span class=\"ltr\"><a target=\"_blank\" href=\"https://shebanq.ancient-data.org/hebrew/text?book=Judices&amp;chapter=3&amp;verse=10&amp;version=2021&amp;mr=m&amp;qw=q&amp;tp=txt_p&amp;tr=hb&amp;wget=v&amp;qget=v&amp;nget=vt\" title=\"Show this on SHEBANQ\" sec=\"Judges 3:10\">Judges 3:10</a></span></div><div class=\"rtl children\"><div class=\"contnr c0 trm rtl  \" ><div class=\"lbl c0 trm \" ><span class=\"nd\">128927 </span> <a class=\" txtu hbo\" target=\"_blank\" href=\"https://shebanq.ancient-data.org/hebrew/word?version=2021&amp;id=1KWCN_RCOTJMn\" title=\"Show this on SHEBANQ\"><span class=\"txtu hbo\">כּוּשַׁ֥ן רִשְׁעָתַ֖יִם </span></a></div></div></div>"
      ],
      "text/plain": [
       "<IPython.core.display.HTML object>"
      ]
     },
     "metadata": {},
     "output_type": "display_data"
    },
    {
     "data": {
      "text/html": [
       "<div class=\"tfsechead rtl\"><span class=\"ltr\"><a target=\"_blank\" href=\"https://shebanq.ancient-data.org/hebrew/text?book=Judices&amp;chapter=3&amp;verse=10&amp;version=2021&amp;mr=m&amp;qw=q&amp;tp=txt_p&amp;tr=hb&amp;wget=v&amp;qget=v&amp;nget=vt\" title=\"Show this on SHEBANQ\" sec=\"Judges 3:10\">Judges 3:10</a></span></div><div class=\"rtl children\"><div class=\"contnr c0 trm rtl  \" ><div class=\"lbl c0 trm \" ><span class=\"nd\">128934 </span> <a class=\" txtu hbo\" target=\"_blank\" href=\"https://shebanq.ancient-data.org/hebrew/word?version=2021&amp;id=1KWCN_RCOTJMn\" title=\"Show this on SHEBANQ\"><span class=\"txtu hbo\">כּוּשַׁ֥ן רִשְׁעָתָֽיִם׃ </span></a></div></div></div>"
      ],
      "text/plain": [
       "<IPython.core.display.HTML object>"
      ]
     },
     "metadata": {},
     "output_type": "display_data"
    },
    {
     "data": {
      "text/html": [
       "<div class=\"tfsechead rtl\"><span class=\"ltr\"><a target=\"_blank\" href=\"https://shebanq.ancient-data.org/hebrew/text?book=Jeremia&amp;chapter=7&amp;verse=31&amp;version=2021&amp;mr=m&amp;qw=q&amp;tp=txt_p&amp;tr=hb&amp;wget=v&amp;qget=v&amp;nget=vt\" title=\"Show this on SHEBANQ\" sec=\"Jeremiah 7:31\">Jeremiah 7:31</a></span></div><div class=\"rtl children\"><div class=\"contnr c0 trm rtl  \" ><div class=\"lbl c0 trm \" ><span class=\"nd\">238858 </span> <a class=\" txtu hbo\" target=\"_blank\" href=\"https://shebanq.ancient-data.org/hebrew/word?version=2021&amp;id=1BN_HNMn\" title=\"Show this on SHEBANQ\"><span class=\"txtu hbo\">בֶן־הִנֹּ֔ם </span></a></div></div></div>"
      ],
      "text/plain": [
       "<IPython.core.display.HTML object>"
      ]
     },
     "metadata": {},
     "output_type": "display_data"
    },
    {
     "data": {
      "text/html": [
       "<div class=\"tfsechead rtl\"><span class=\"ltr\"><a target=\"_blank\" href=\"https://shebanq.ancient-data.org/hebrew/text?book=Jeremia&amp;chapter=7&amp;verse=32&amp;version=2021&amp;mr=m&amp;qw=q&amp;tp=txt_p&amp;tr=hb&amp;wget=v&amp;qget=v&amp;nget=vt\" title=\"Show this on SHEBANQ\" sec=\"Jeremiah 7:32\">Jeremiah 7:32</a></span></div><div class=\"rtl children\"><div class=\"contnr c0 trm rtl  \" ><div class=\"lbl c0 trm \" ><span class=\"nd\">238891 </span> <a class=\" txtu hbo\" target=\"_blank\" href=\"https://shebanq.ancient-data.org/hebrew/word?version=2021&amp;id=1BN_HNMn\" title=\"Show this on SHEBANQ\"><span class=\"txtu hbo\">בֶן־הִנֹּ֔ם </span></a></div></div></div>"
      ],
      "text/plain": [
       "<IPython.core.display.HTML object>"
      ]
     },
     "metadata": {},
     "output_type": "display_data"
    },
    {
     "data": {
      "text/html": [
       "<div class=\"tfsechead rtl\"><span class=\"ltr\"><a target=\"_blank\" href=\"https://shebanq.ancient-data.org/hebrew/text?book=Jeremia&amp;chapter=19&amp;verse=2&amp;version=2021&amp;mr=m&amp;qw=q&amp;tp=txt_p&amp;tr=hb&amp;wget=v&amp;qget=v&amp;nget=vt\" title=\"Show this on SHEBANQ\" sec=\"Jeremiah 19:2\">Jeremiah 19:2</a></span></div><div class=\"rtl children\"><div class=\"contnr c0 trm rtl  \" ><div class=\"lbl c0 trm \" ><span class=\"nd\">244151 </span> <a class=\" txtu hbo\" target=\"_blank\" href=\"https://shebanq.ancient-data.org/hebrew/word?version=2021&amp;id=1BN_HNMn\" title=\"Show this on SHEBANQ\"><span class=\"txtu hbo\">בֶן־הִנֹּ֔ם </span></a></div></div></div>"
      ],
      "text/plain": [
       "<IPython.core.display.HTML object>"
      ]
     },
     "metadata": {},
     "output_type": "display_data"
    },
    {
     "data": {
      "text/html": [
       "<div class=\"tfsechead rtl\"><span class=\"ltr\"><a target=\"_blank\" href=\"https://shebanq.ancient-data.org/hebrew/text?book=Jeremia&amp;chapter=19&amp;verse=6&amp;version=2021&amp;mr=m&amp;qw=q&amp;tp=txt_p&amp;tr=hb&amp;wget=v&amp;qget=v&amp;nget=vt\" title=\"Show this on SHEBANQ\" sec=\"Jeremiah 19:6\">Jeremiah 19:6</a></span></div><div class=\"rtl children\"><div class=\"contnr c0 trm rtl  \" ><div class=\"lbl c0 trm \" ><span class=\"nd\">244276 </span> <a class=\" txtu hbo\" target=\"_blank\" href=\"https://shebanq.ancient-data.org/hebrew/word?version=2021&amp;id=1BN_HNMn\" title=\"Show this on SHEBANQ\"><span class=\"txtu hbo\">בֶן־הִנֹּ֑ם </span></a></div></div></div>"
      ],
      "text/plain": [
       "<IPython.core.display.HTML object>"
      ]
     },
     "metadata": {},
     "output_type": "display_data"
    },
    {
     "data": {
      "text/html": [
       "<div class=\"tfsechead rtl\"><span class=\"ltr\"><a target=\"_blank\" href=\"https://shebanq.ancient-data.org/hebrew/text?book=Jeremia&amp;chapter=32&amp;verse=35&amp;version=2021&amp;mr=m&amp;qw=q&amp;tp=txt_p&amp;tr=hb&amp;wget=v&amp;qget=v&amp;nget=vt\" title=\"Show this on SHEBANQ\" sec=\"Jeremiah 32:35\">Jeremiah 32:35</a></span></div><div class=\"rtl children\"><div class=\"contnr c0 trm rtl  \" ><div class=\"lbl c0 trm \" ><span class=\"nd\">252286 </span> <a class=\" txtu hbo\" target=\"_blank\" href=\"https://shebanq.ancient-data.org/hebrew/word?version=2021&amp;id=1BN_HNMn\" title=\"Show this on SHEBANQ\"><span class=\"txtu hbo\">בֶן־הִנֹּ֗ם </span></a></div></div></div>"
      ],
      "text/plain": [
       "<IPython.core.display.HTML object>"
      ]
     },
     "metadata": {},
     "output_type": "display_data"
    },
    {
     "data": {
      "text/html": [
       "<div class=\"tfsechead rtl\"><span class=\"ltr\"><a target=\"_blank\" href=\"https://shebanq.ancient-data.org/hebrew/text?book=Ezechiel&amp;chapter=47&amp;verse=10&amp;version=2021&amp;mr=m&amp;qw=q&amp;tp=txt_p&amp;tr=hb&amp;wget=v&amp;qget=v&amp;nget=vt\" title=\"Show this on SHEBANQ\" sec=\"Ezekiel 47:10\">Ezekiel 47:10</a></span></div><div class=\"rtl children\"><div class=\"contnr c0 trm rtl  \" ><div class=\"lbl c0 trm \" ><span class=\"nd\">289899 </span> <a class=\" txtu hbo\" target=\"_blank\" href=\"https://shebanq.ancient-data.org/hebrew/word?version=2021&amp;id=1OJN_OGLJMn\" title=\"Show this on SHEBANQ\"><span class=\"txtu hbo\">עֵ֣ין עֶגְלַ֔יִם </span></a></div></div></div>"
      ],
      "text/plain": [
       "<IPython.core.display.HTML object>"
      ]
     },
     "metadata": {},
     "output_type": "display_data"
    },
    {
     "data": {
      "text/html": [
       "<div class=\"tfsechead rtl\"><span class=\"ltr\"><a target=\"_blank\" href=\"https://shebanq.ancient-data.org/hebrew/text?book=Chronica_II&amp;chapter=28&amp;verse=3&amp;version=2021&amp;mr=m&amp;qw=q&amp;tp=txt_p&amp;tr=hb&amp;wget=v&amp;qget=v&amp;nget=vt\" title=\"Show this on SHEBANQ\" sec=\"2_Chronicles 28:3\">2_Chronicles 28:3</a></span></div><div class=\"rtl children\"><div class=\"contnr c0 trm rtl  \" ><div class=\"lbl c0 trm \" ><span class=\"nd\">420374 </span> <a class=\" txtu hbo\" target=\"_blank\" href=\"https://shebanq.ancient-data.org/hebrew/word?version=2021&amp;id=1BN_HNMn\" title=\"Show this on SHEBANQ\"><span class=\"txtu hbo\">בֶן־הִנֹּ֑ם </span></a></div></div></div>"
      ],
      "text/plain": [
       "<IPython.core.display.HTML object>"
      ]
     },
     "metadata": {},
     "output_type": "display_data"
    },
    {
     "data": {
      "text/html": [
       "<div class=\"tfsechead rtl\"><span class=\"ltr\"><a target=\"_blank\" href=\"https://shebanq.ancient-data.org/hebrew/text?book=Chronica_II&amp;chapter=33&amp;verse=6&amp;version=2021&amp;mr=m&amp;qw=q&amp;tp=txt_p&amp;tr=hb&amp;wget=v&amp;qget=v&amp;nget=vt\" title=\"Show this on SHEBANQ\" sec=\"2_Chronicles 33:6\">2_Chronicles 33:6</a></span></div><div class=\"rtl children\"><div class=\"contnr c0 trm rtl  \" ><div class=\"lbl c0 trm \" ><span class=\"nd\">423988 </span> <a class=\" txtu hbo\" target=\"_blank\" href=\"https://shebanq.ancient-data.org/hebrew/word?version=2021&amp;id=1BN_HNMn\" title=\"Show this on SHEBANQ\"><span class=\"txtu hbo\">בֶן־הִנֹּ֔ם </span></a></div></div></div>"
      ],
      "text/plain": [
       "<IPython.core.display.HTML object>"
      ]
     },
     "metadata": {},
     "output_type": "display_data"
    },
    {
     "data": {
      "text/markdown": [
       "### <span class='txtu hbo'>ן ן</span>\n",
       "\n"
      ],
      "text/plain": [
       "<IPython.core.display.Markdown object>"
      ]
     },
     "metadata": {},
     "output_type": "display_data"
    },
    {
     "data": {
      "text/markdown": [
       "In 7 words:\n",
       "\n"
      ],
      "text/plain": [
       "<IPython.core.display.Markdown object>"
      ]
     },
     "metadata": {},
     "output_type": "display_data"
    },
    {
     "data": {
      "text/html": [
       "<div class=\"tfsechead rtl\"><span class=\"ltr\"><a target=\"_blank\" href=\"https://shebanq.ancient-data.org/hebrew/text?book=Josua&amp;chapter=12&amp;verse=20&amp;version=2021&amp;mr=m&amp;qw=q&amp;tp=txt_p&amp;tr=hb&amp;wget=v&amp;qget=v&amp;nget=vt\" title=\"Show this on SHEBANQ\" sec=\"Joshua 12:20\">Joshua 12:20</a></span></div><div class=\"rtl children\"><div class=\"contnr c0 trm rtl  \" ><div class=\"lbl c0 trm \" ><span class=\"nd\">120322 </span> <a class=\" txtu hbo\" target=\"_blank\" href=\"https://shebanq.ancient-data.org/hebrew/word?version=2021&amp;id=1CMRWN_MRAWNn\" title=\"Show this on SHEBANQ\"><span class=\"txtu hbo\">שִׁמְרֹ֤ון מְראֹון֙ </span></a></div></div></div>"
      ],
      "text/plain": [
       "<IPython.core.display.HTML object>"
      ]
     },
     "metadata": {},
     "output_type": "display_data"
    },
    {
     "data": {
      "text/html": [
       "<div class=\"tfsechead rtl\"><span class=\"ltr\"><a target=\"_blank\" href=\"https://shebanq.ancient-data.org/hebrew/text?book=Josua&amp;chapter=15&amp;verse=32&amp;version=2021&amp;mr=m&amp;qw=q&amp;tp=txt_p&amp;tr=hb&amp;wget=v&amp;qget=v&amp;nget=vt\" title=\"Show this on SHEBANQ\" sec=\"Joshua 15:32\">Joshua 15:32</a></span></div><div class=\"rtl children\"><div class=\"contnr c0 trm rtl  \" ><div class=\"lbl c0 trm \" ><span class=\"nd\">121905 </span> <a class=\" txtu hbo\" target=\"_blank\" href=\"https://shebanq.ancient-data.org/hebrew/word?version=2021&amp;id=1OJN_RMWNn\" title=\"Show this on SHEBANQ\"><span class=\"txtu hbo\">עַ֣יִן וְרִמֹּ֑ון </span></a></div></div></div>"
      ],
      "text/plain": [
       "<IPython.core.display.HTML object>"
      ]
     },
     "metadata": {},
     "output_type": "display_data"
    },
    {
     "data": {
      "text/html": [
       "<div class=\"tfsechead rtl\"><span class=\"ltr\"><a target=\"_blank\" href=\"https://shebanq.ancient-data.org/hebrew/text?book=Samuel_I&amp;chapter=9&amp;verse=1&amp;version=2021&amp;mr=m&amp;qw=q&amp;tp=txt_p&amp;tr=hb&amp;wget=v&amp;qget=v&amp;nget=vt\" title=\"Show this on SHEBANQ\" sec=\"1_Samuel 9:1\">1_Samuel 9:1</a></span></div><div class=\"rtl children\"><div class=\"contnr c0 trm rtl  \" ><div class=\"lbl c0 trm \" ><span class=\"nd\">145492 </span> <a class=\" txtu hbo\" target=\"_blank\" href=\"https://shebanq.ancient-data.org/hebrew/word?version=2021&amp;id=1BNJMNn\" title=\"Show this on SHEBANQ\"><span class=\"txtu hbo\">בן־ימין </span></a></div></div></div>"
      ],
      "text/plain": [
       "<IPython.core.display.HTML object>"
      ]
     },
     "metadata": {},
     "output_type": "display_data"
    },
    {
     "data": {
      "text/html": [
       "<div class=\"tfsechead rtl\"><span class=\"ltr\"><a target=\"_blank\" href=\"https://shebanq.ancient-data.org/hebrew/text?book=Nehemia&amp;chapter=2&amp;verse=13&amp;version=2021&amp;mr=m&amp;qw=q&amp;tp=txt_p&amp;tr=hb&amp;wget=v&amp;qget=v&amp;nget=vt\" title=\"Show this on SHEBANQ\" sec=\"Nehemiah 2:13\">Nehemiah 2:13</a></span></div><div class=\"rtl children\"><div class=\"contnr c0 trm rtl  \" ><div class=\"lbl c0 trm \" ><span class=\"nd\">384040 </span> <a class=\" txtu hbo\" target=\"_blank\" href=\"https://shebanq.ancient-data.org/hebrew/word?version=2021&amp;id=1OJN_HTNJNn\" title=\"Show this on SHEBANQ\"><span class=\"txtu hbo\">עֵ֣ין הַתַּנִּ֔ין </span></a></div></div></div>"
      ],
      "text/plain": [
       "<IPython.core.display.HTML object>"
      ]
     },
     "metadata": {},
     "output_type": "display_data"
    },
    {
     "data": {
      "text/html": [
       "<div class=\"tfsechead rtl\"><span class=\"ltr\"><a target=\"_blank\" href=\"https://shebanq.ancient-data.org/hebrew/text?book=Nehemia&amp;chapter=11&amp;verse=29&amp;version=2021&amp;mr=m&amp;qw=q&amp;tp=txt_p&amp;tr=hb&amp;wget=v&amp;qget=v&amp;nget=vt\" title=\"Show this on SHEBANQ\" sec=\"Nehemiah 11:29\">Nehemiah 11:29</a></span></div><div class=\"rtl children\"><div class=\"contnr c0 trm rtl  \" ><div class=\"lbl c0 trm \" ><span class=\"nd\">389715 </span> <a class=\" txtu hbo\" target=\"_blank\" href=\"https://shebanq.ancient-data.org/hebrew/word?version=2021&amp;id=1OJN_RMWNn\" title=\"Show this on SHEBANQ\"><span class=\"txtu hbo\">עֵ֥ין רִמֹּ֛ון </span></a></div></div></div>"
      ],
      "text/plain": [
       "<IPython.core.display.HTML object>"
      ]
     },
     "metadata": {},
     "output_type": "display_data"
    },
    {
     "data": {
      "text/html": [
       "<div class=\"tfsechead rtl\"><span class=\"ltr\"><a target=\"_blank\" href=\"https://shebanq.ancient-data.org/hebrew/text?book=Chronica_I&amp;chapter=4&amp;verse=20&amp;version=2021&amp;mr=m&amp;qw=q&amp;tp=txt_p&amp;tr=hb&amp;wget=v&amp;qget=v&amp;nget=vt\" title=\"Show this on SHEBANQ\" sec=\"1_Chronicles 4:20\">1_Chronicles 4:20</a></span></div><div class=\"rtl children\"><div class=\"contnr c0 trm rtl  \" ><div class=\"lbl c0 trm \" ><span class=\"nd\">393118 </span> <a class=\" txtu hbo\" target=\"_blank\" href=\"https://shebanq.ancient-data.org/hebrew/word?version=2021&amp;id=1BN_XNNn\" title=\"Show this on SHEBANQ\"><span class=\"txtu hbo\">בֶּן־חָנָ֖ן </span></a></div></div></div>"
      ],
      "text/plain": [
       "<IPython.core.display.HTML object>"
      ]
     },
     "metadata": {},
     "output_type": "display_data"
    },
    {
     "data": {
      "text/html": [
       "<div class=\"tfsechead rtl\"><span class=\"ltr\"><a target=\"_blank\" href=\"https://shebanq.ancient-data.org/hebrew/text?book=Chronica_I&amp;chapter=4&amp;verse=32&amp;version=2021&amp;mr=m&amp;qw=q&amp;tp=txt_p&amp;tr=hb&amp;wget=v&amp;qget=v&amp;nget=vt\" title=\"Show this on SHEBANQ\" sec=\"1_Chronicles 4:32\">1_Chronicles 4:32</a></span></div><div class=\"rtl children\"><div class=\"contnr c0 trm rtl  \" ><div class=\"lbl c0 trm \" ><span class=\"nd\">393275 </span> <a class=\" txtu hbo\" target=\"_blank\" href=\"https://shebanq.ancient-data.org/hebrew/word?version=2021&amp;id=1OJN_RMWNn\" title=\"Show this on SHEBANQ\"><span class=\"txtu hbo\">עַ֔יִן רִמֹּ֥ון </span></a></div></div></div>"
      ],
      "text/plain": [
       "<IPython.core.display.HTML object>"
      ]
     },
     "metadata": {},
     "output_type": "display_data"
    },
    {
     "data": {
      "text/markdown": [
       "### <span class='txtu hbo'>ן ץ</span>\n",
       "\n"
      ],
      "text/plain": [
       "<IPython.core.display.Markdown object>"
      ]
     },
     "metadata": {},
     "output_type": "display_data"
    },
    {
     "data": {
      "text/markdown": [
       "In 2 words:\n",
       "\n"
      ],
      "text/plain": [
       "<IPython.core.display.Markdown object>"
      ]
     },
     "metadata": {},
     "output_type": "display_data"
    },
    {
     "data": {
      "text/html": [
       "<div class=\"tfsechead rtl\"><span class=\"ltr\"><a target=\"_blank\" href=\"https://shebanq.ancient-data.org/hebrew/text?book=Numeri&amp;chapter=33&amp;verse=19&amp;version=2021&amp;mr=m&amp;qw=q&amp;tp=txt_p&amp;tr=hb&amp;wget=v&amp;qget=v&amp;nget=vt\" title=\"Show this on SHEBANQ\" sec=\"Numbers 33:19\">Numbers 33:19</a></span></div><div class=\"rtl children\"><div class=\"contnr c0 trm rtl  \" ><div class=\"lbl c0 trm \" ><span class=\"nd\">90929 </span> <a class=\" txtu hbo\" target=\"_blank\" href=\"https://shebanq.ancient-data.org/hebrew/word?version=2021&amp;id=1RMWN_PRYn\" title=\"Show this on SHEBANQ\"><span class=\"txtu hbo\">רִמֹּ֥ן פָּֽרֶץ׃ </span></a></div></div></div>"
      ],
      "text/plain": [
       "<IPython.core.display.HTML object>"
      ]
     },
     "metadata": {},
     "output_type": "display_data"
    },
    {
     "data": {
      "text/html": [
       "<div class=\"tfsechead rtl\"><span class=\"ltr\"><a target=\"_blank\" href=\"https://shebanq.ancient-data.org/hebrew/text?book=Numeri&amp;chapter=33&amp;verse=20&amp;version=2021&amp;mr=m&amp;qw=q&amp;tp=txt_p&amp;tr=hb&amp;wget=v&amp;qget=v&amp;nget=vt\" title=\"Show this on SHEBANQ\" sec=\"Numbers 33:20\">Numbers 33:20</a></span></div><div class=\"rtl children\"><div class=\"contnr c0 trm rtl  \" ><div class=\"lbl c0 trm \" ><span class=\"nd\">90933 </span> <a class=\" txtu hbo\" target=\"_blank\" href=\"https://shebanq.ancient-data.org/hebrew/word?version=2021&amp;id=1RMWN_PRYn\" title=\"Show this on SHEBANQ\"><span class=\"txtu hbo\">רִמֹּ֣ן פָּ֑רֶץ </span></a></div></div></div>"
      ],
      "text/plain": [
       "<IPython.core.display.HTML object>"
      ]
     },
     "metadata": {},
     "output_type": "display_data"
    }
   ],
   "source": [
    "for (chars, words) in sorted(multiFinal.items()):\n",
    "    nWords = len(words)\n",
    "    plural = \"\" if nWords == 1 else \"s\"\n",
    "    dm(f\"### <span class='txtu hbo'>{' '.join(chars)}</span>\\n\\n\")\n",
    "    dm(f\"In {nWords} word{plural}:\\n\\n\")\n",
    "    for w in words:\n",
    "        A.pretty(w, withNodes=True, fmt=\"text-orig-full-ketiv\")"
   ]
  },
  {
   "cell_type": "markdown",
   "id": "b6d9a2ca-2027-4efb-b2b0-9c3e51608f73",
   "metadata": {},
   "source": [
    "Mystery solved! There are things that are single words in the BHSA and yet have spaces or maqqefs in them."
   ]
  },
  {
   "cell_type": "markdown",
   "id": "f05b9553-a0f5-49d0-b913-53a59cb7a312",
   "metadata": {},
   "source": [
    "# \"Big words\" revisited\n",
    "\n",
    "Let's redo the count of the *big words* where we will split single words that have a maqqef or space in them.\n",
    "\n",
    "We also collect the words with a space or maqqef in them."
   ]
  },
  {
   "cell_type": "code",
   "execution_count": 26,
   "id": "4b42f714-46b0-4f54-8489-427f810d9960",
   "metadata": {
    "tags": []
   },
   "outputs": [],
   "source": [
    "words = []\n",
    "wordsSpace = set()\n",
    "wordsMaqqef = set()\n",
    "\n",
    "MAQ = \"\\u05be\"\n",
    "\n",
    "wordSplitRe = re.compile(rf\" |{MAQ}\")\n",
    "\n",
    "for w in F.otype.s(\"word\"):\n",
    "    ketiv = F.g_word_utf8.v(w)\n",
    "    chunks = wordSplitRe.split(ketiv)\n",
    "    if MAQ in ketiv:\n",
    "        wordsMaqqef.add(w)\n",
    "    if \" \" in ketiv:\n",
    "        wordsSpace.add(w)\n",
    "    \n",
    "    start = 0\n",
    "    if len(words) == 0:\n",
    "        for chunk in chunks:\n",
    "            words.append([(w, start, chunk)])\n",
    "            start += len(chunk) + 1\n",
    "        continue\n",
    "\n",
    "    lastEntry = words[-1]\n",
    "    lastNode = lastEntry[-1][0]\n",
    "    lastTrailer = F.trailer.v(lastNode)\n",
    "\n",
    "    chunk = chunks[0]\n",
    "    start = 0\n",
    "    if lastTrailer == \"\":\n",
    "        lastEntry.append((w, start, chunk))\n",
    "    else:\n",
    "        words.append([(w, start, chunk)])\n",
    "\n",
    "    start += len(chunk)\n",
    "    for chunk in chunks[1:]:\n",
    "        words.append([(w, start, chunk)])\n",
    "        start += len(chunk) + 1"
   ]
  },
  {
   "cell_type": "markdown",
   "id": "8faae980-6c35-428c-a6cd-88a7f5c068a1",
   "metadata": {},
   "source": [
    "Let's see whether we have done this right.\n",
    "\n",
    "We show the first entries of our word list:"
   ]
  },
  {
   "cell_type": "code",
   "execution_count": 27,
   "id": "70c7b64c-6a6e-4fb7-82c3-3adb294370f0",
   "metadata": {
    "tags": []
   },
   "outputs": [
    {
     "name": "stdout",
     "output_type": "stream",
     "text": [
      "[(1, 0, 'בְּ'), (2, 0, 'רֵאשִׁ֖ית')]\n",
      "[(3, 0, 'בָּרָ֣א')]\n",
      "[(4, 0, 'אֱלֹהִ֑ים')]\n",
      "[(5, 0, 'אֵ֥ת')]\n",
      "[(6, 0, 'הַ'), (7, 0, 'שָּׁמַ֖יִם')]\n",
      "[(8, 0, 'וְ'), (9, 0, 'אֵ֥ת')]\n",
      "[(10, 0, 'הָ'), (11, 0, 'אָֽרֶץ')]\n",
      "[(12, 0, 'וְ'), (13, 0, 'הָ'), (14, 0, 'אָ֗רֶץ')]\n",
      "[(15, 0, 'הָיְתָ֥ה')]\n",
      "[(16, 0, 'תֹ֨הוּ֙')]\n",
      "[(17, 0, 'וָ'), (18, 0, 'בֹ֔הוּ')]\n"
     ]
    }
   ],
   "source": [
    "for entry in words[0:11]:\n",
    "    print(entry)"
   ]
  },
  {
   "cell_type": "markdown",
   "id": "aebb1568-ef1c-46d3-8a06-c62d1ce8a6e9",
   "metadata": {},
   "source": [
    "This seems to go well, but let's see a case where the word has a maqqef or a space."
   ]
  },
  {
   "cell_type": "code",
   "execution_count": null,
   "id": "e248990a-fc24-4824-bf76-30ef3210c7a0",
   "metadata": {
    "tags": []
   },
   "outputs": [],
   "source": [
    "sorted(wordsSpace | wordsMaqqef)"
   ]
  },
  {
   "cell_type": "code",
   "execution_count": 47,
   "id": "a382effc-3569-4c9e-9917-7441578b903c",
   "metadata": {},
   "outputs": [
    {
     "name": "stdout",
     "output_type": "stream",
     "text": [
      "[(2033, 0, 'תּ֣וּבַל')]\n",
      "[(2033, 8, 'קַ֔יִן')]\n",
      "[(2042, 0, 'תּֽוּבַל')]\n",
      "[(2042, 8, 'קַ֖יִן')]\n",
      "[(4687, 0, 'רְחֹבֹ֥ת')]\n",
      "[(4687, 8, 'עִ֖יר')]\n",
      "[(5641, 0, 'לְ'), (5642, 0, 'בֵֽית')]\n",
      "[(5642, 5, 'אֵ֖ל')]\n",
      "[(5646, 0, 'בֵּֽית')]\n",
      "[(5646, 6, 'אֵ֤ל')]\n",
      "[(5905, 0, 'בֵּֽית')]\n",
      "[(5905, 6, 'אֵ֑ל')]\n",
      "[(5917, 0, 'בֵּֽית')]\n",
      "[(5917, 6, 'אֵ֖ל')]\n",
      "[(6290, 0, 'בְּ'), (6291, 0, 'עַשְׁתְּרֹ֣ת')]\n",
      "[(6291, 12, 'קַרְנַ֔יִם')]\n",
      "[(6313, 0, 'אֵ֣יל')]\n",
      "[(6313, 5, 'פָּארָ֔ן')]\n",
      "[(6323, 0, 'עֵ֤ין')]\n",
      "[(6323, 5, 'מִשְׁפָּט֙')]\n"
     ]
    }
   ],
   "source": [
    "totalMaqqef = 0\n",
    "totalSpace = 0\n",
    "\n",
    "for entry in words:\n",
    "    withMaqqef = False\n",
    "    withSpace = False\n",
    "    for chunk in entry:\n",
    "        node = chunk[0]\n",
    "        if node in wordsMaqqef:\n",
    "            withMaqqef = True\n",
    "        if node in wordsSpace:\n",
    "            withSpace = True\n",
    "    if withMaqqef and totalMaqqef < 10:\n",
    "        totalMaqqef += 1\n",
    "        print(entry)\n",
    "    if withSpace and totalSpace < 10:\n",
    "        totalSpace += 1\n",
    "        print(entry)\n",
    "    if totalSpace >= 10 and totalMaqqef >= 10:\n",
    "        break"
   ]
  },
  {
   "cell_type": "markdown",
   "id": "9d19e2f6-ad51-45d8-afc1-84209a33b7ff",
   "metadata": {
    "tags": []
   },
   "source": [
    "Observe the words 5641 and 5642:"
   ]
  },
  {
   "cell_type": "code",
   "execution_count": 49,
   "id": "32fbdabb-9b91-48f2-9450-45d90d4c9fe0",
   "metadata": {
    "tags": []
   },
   "outputs": [
    {
     "data": {
      "text/html": [
       "<div class=\"tfsechead rtl\"><span class=\"ltr\"><a target=\"_blank\" href=\"https://shebanq.ancient-data.org/hebrew/text?book=Genesis&amp;chapter=12&amp;verse=8&amp;version=2021&amp;mr=m&amp;qw=q&amp;tp=txt_p&amp;tr=hb&amp;wget=v&amp;qget=v&amp;nget=vt\" title=\"Show this on SHEBANQ\" sec=\"Genesis 12:8\">Genesis 12:8</a></span></div><div class=\"rtl children\"><div class=\"contnr c0 trm rtl  \" ><div class=\"lbl c0 trm \" ><a class=\" txtu hbo\" target=\"_blank\" href=\"https://shebanq.ancient-data.org/hebrew/word?version=2021&amp;id=1L\" title=\"Show this on SHEBANQ\"><span class=\"txtu hbo\">לְ</span></a></div></div></div>"
      ],
      "text/plain": [
       "<IPython.core.display.HTML object>"
      ]
     },
     "metadata": {},
     "output_type": "display_data"
    },
    {
     "data": {
      "text/html": [
       "<div class=\"tfsechead rtl\"><span class=\"ltr\"><a target=\"_blank\" href=\"https://shebanq.ancient-data.org/hebrew/text?book=Genesis&amp;chapter=12&amp;verse=8&amp;version=2021&amp;mr=m&amp;qw=q&amp;tp=txt_p&amp;tr=hb&amp;wget=v&amp;qget=v&amp;nget=vt\" title=\"Show this on SHEBANQ\" sec=\"Genesis 12:8\">Genesis 12:8</a></span></div><div class=\"rtl children\"><div class=\"contnr c0 trm rtl  \" ><div class=\"lbl c0 trm \" ><a class=\" txtu hbo\" target=\"_blank\" href=\"https://shebanq.ancient-data.org/hebrew/word?version=2021&amp;id=1BJT_ALn\" title=\"Show this on SHEBANQ\"><span class=\"txtu hbo\">בֵֽית־אֵ֖ל </span></a></div></div></div>"
      ],
      "text/plain": [
       "<IPython.core.display.HTML object>"
      ]
     },
     "metadata": {},
     "output_type": "display_data"
    }
   ],
   "source": [
    "A.pretty(5641)\n",
    "A.pretty(5642)"
   ]
  },
  {
   "cell_type": "markdown",
   "id": "d7daf334-e51f-4e4e-9c0d-dfb6db2cc8aa",
   "metadata": {},
   "source": [
    "The BHSA splits them as\n",
    "\n",
    "* `(L)`\n",
    "* `(BT-AL)`\n",
    "\n",
    "But the common-sense split will be\n",
    "\n",
    "* `(LBT)`\n",
    "* `(AL)`"
   ]
  },
  {
   "cell_type": "markdown",
   "id": "af59f2d3-c5e9-4d4c-9900-8db03d7253c2",
   "metadata": {},
   "source": [
    "Anyway, how many do we have in total now?"
   ]
  },
  {
   "cell_type": "code",
   "execution_count": 50,
   "id": "5c98f418-4ca9-4470-bb08-1398081fbe30",
   "metadata": {
    "tags": []
   },
   "outputs": [
    {
     "data": {
      "text/plain": [
       "305506"
      ]
     },
     "execution_count": 50,
     "metadata": {},
     "output_type": "execute_result"
    }
   ],
   "source": [
    "len(words)"
   ]
  },
  {
   "cell_type": "code",
   "execution_count": null,
   "id": "17774d4c-7f16-4276-ad3c-8b7e861901f2",
   "metadata": {},
   "outputs": [],
   "source": []
  }
 ],
 "metadata": {
  "kernelspec": {
   "display_name": "Python 3 (ipykernel)",
   "language": "python",
   "name": "python3"
  },
  "language_info": {
   "codemirror_mode": {
    "name": "ipython",
    "version": 3
   },
   "file_extension": ".py",
   "mimetype": "text/x-python",
   "name": "python",
   "nbconvert_exporter": "python",
   "pygments_lexer": "ipython3",
   "version": "3.11.1"
  }
 },
 "nbformat": 4,
 "nbformat_minor": 5
}
