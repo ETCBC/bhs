{
 "cells": [
  {
   "cell_type": "markdown",
   "metadata": {},
   "source": [
    "<img align=\"right\" src=\"images/tf-small.png\" width=\"128\"/>\n",
    "<img align=\"right\" src=\"images/etcbc.png\"/>\n",
    "<img align=\"right\" src=\"images/dans-small.png\"/>\n",
    "\n",
    "You might want to consider the [start](search.ipynb) of this tutorial.\n",
    "\n",
    "Short introductions to other TF datasets:\n",
    "\n",
    "* [Dead Sea Scrolls](https://nbviewer.jupyter.org/github/annotation/tutorials/blob/master/lorentz2020/dss.ipynb),\n",
    "* [Old Babylonian Letters](https://nbviewer.jupyter.org/github/annotation/tutorials/blob/master/lorentz2020/oldbabylonian.ipynb),\n",
    "or the\n",
    "* [Quran](https://nbviewer.jupyter.org/github/annotation/tutorials/blob/master/lorentz2020/quran.ipynb)\n"
   ]
  },
  {
   "cell_type": "markdown",
   "metadata": {},
   "source": [
    "# Search Introduction\n",
    "\n",
    "*Search* in Text-Fabric is a template based way of looking for structural patterns in your dataset.\n",
    "\n",
    "It is inspired by the idea of\n",
    "[topographic query](http://books.google.nl/books?id=9ggOBRz1dO4C),\n",
    "as worked out in\n",
    "[MQL](https://github.com/ETCBC/shebanq/wiki/Documents/MQL-Query-Guide.pdf)\n",
    "which has been implemented in\n",
    "[Emdros](http://emdros.org).\n",
    "See also [pitfalls of MQL](https://etcbc.github.io/bhsa/mql#pitfalls-of-mql)\n",
    "\n",
    "Within Text-Fabric we have the unique possibility to combine the ease of formulating search templates for\n",
    "complicated syntactical patterns with the power of programmatically processing the results.\n",
    "\n",
    "This notebook will show you how to get up and running.\n",
    "\n",
    "See the notebook\n",
    "[search From MQL](searchFromMQL.ipynb)\n",
    "for examples how MQL queries can be expressed in Text-Fabric search.\n",
    "\n",
    "## Alternative for hand-coding\n",
    "\n",
    "Search is a powerful feature for a wide range of purposes.\n",
    "\n",
    "Quite a bit of the implementation work has been dedicated to optimize performance.\n",
    "Yet I do not pretend to have found optimal strategies for all\n",
    "possible search templates.\n",
    "Some search tasks may turn out to be somewhat costly or even very costly.\n",
    "\n",
    "That being said, I think search might turn out helpful in many cases,\n",
    "especially by reducing the amount of hand-coding needed to work with special subsets of your data.\n",
    "\n",
    "## Easy command\n",
    "\n",
    "Search is as simple as saying (just an example)\n",
    "\n",
    "```python\n",
    "results = A.search(template)\n",
    "A.show(results)\n",
    "```\n",
    "\n",
    "See all ins and outs in the\n",
    "[search template docs](https://annotation.github.io/text-fabric/tf/about/searchusage.html)."
   ]
  },
  {
   "cell_type": "code",
   "execution_count": 1,
   "metadata": {},
   "outputs": [],
   "source": [
    "%load_ext autoreload\n",
    "%autoreload 2"
   ]
  },
  {
   "cell_type": "markdown",
   "metadata": {},
   "source": [
    "# Incantation\n",
    "\n",
    "The ins and outs of installing Text-Fabric, getting the corpus, and initializing a notebook are\n",
    "explained in the [start tutorial](start.ipynb)."
   ]
  },
  {
   "cell_type": "code",
   "execution_count": 2,
   "metadata": {
    "ExecuteTime": {
     "end_time": "2018-05-24T10:06:39.818664Z",
     "start_time": "2018-05-24T10:06:39.796588Z"
    }
   },
   "outputs": [],
   "source": [
    "from tf.app import use"
   ]
  },
  {
   "cell_type": "code",
   "execution_count": 3,
   "metadata": {
    "ExecuteTime": {
     "end_time": "2018-05-24T10:06:51.615044Z",
     "start_time": "2018-05-24T10:06:50.161456Z"
    }
   },
   "outputs": [
    {
     "data": {
      "text/markdown": [
       "**Locating corpus resources ...**"
      ],
      "text/plain": [
       "<IPython.core.display.Markdown object>"
      ]
     },
     "metadata": {},
     "output_type": "display_data"
    },
    {
     "data": {
      "text/html": [
       "<b title=\"local release\">app:</b> <span title=\"rv1.8.1=#gb112c161cfd21eae403d51a2733740d8743460e7 offline under /Users/me/text-fabric-data/github\">~/text-fabric-data/github/ETCBC/bhsa/app</span>"
      ],
      "text/plain": [
       "<IPython.core.display.HTML object>"
      ]
     },
     "metadata": {},
     "output_type": "display_data"
    },
    {
     "data": {
      "text/html": [
       "<b title=\"local release\">data:</b> <span title=\"rv1.8.1=#gb112c161cfd21eae403d51a2733740d8743460e7 offline under /Users/me/text-fabric-data/github\">~/text-fabric-data/github/ETCBC/bhsa/tf/2021</span>"
      ],
      "text/plain": [
       "<IPython.core.display.HTML object>"
      ]
     },
     "metadata": {},
     "output_type": "display_data"
    },
    {
     "data": {
      "text/html": [
       "<b title=\"local release\">data:</b> <span title=\"rv2.1=#gaba4367b49750089e4e4122415a77cac43bd97bc offline under /Users/me/text-fabric-data/github\">~/text-fabric-data/github/ETCBC/phono/tf/2021</span>"
      ],
      "text/plain": [
       "<IPython.core.display.HTML object>"
      ]
     },
     "metadata": {},
     "output_type": "display_data"
    },
    {
     "data": {
      "text/html": [
       "<b title=\"local release\">data:</b> <span title=\"rv2.1=#gf45f6cc3c4f933dba6e649f49cdb14a40dcf333f offline under /Users/me/text-fabric-data/github\">~/text-fabric-data/github/ETCBC/parallels/tf/2021</span>"
      ],
      "text/plain": [
       "<IPython.core.display.HTML object>"
      ]
     },
     "metadata": {},
     "output_type": "display_data"
    },
    {
     "data": {
      "text/html": [
       "\n",
       "            <b>TF:</b> <a target=\"_blank\" href=\"https://annotation.github.io/text-fabric/tf/cheatsheet.html\" title=\"text-fabric api\">TF API 12.2.1</a>, <a target=\"_blank\" href=\"https://github.com/ETCBC/bhsa/blob/master/app\" title=\"ETCBC/bhsa app\">ETCBC/bhsa/app  v3</a>, <a target=\"_blank\" href=\"https://annotation.github.io/text-fabric/tf/about/searchusage.html\" title=\"Search Templates Introduction and Reference\">Search Reference</a><br>\n",
       "            <b>Data:</b> <a target=\"_blank\" href=\"https://ETCBC.github.io/bhsa/\" title=\"provenance of BHSA = Biblia Hebraica Stuttgartensia Amstelodamensis\">ETCBC - bhsa 2021</a>, <a target=\"_blank\" href=\"https://annotation.github.io/text-fabric/tf/writing/hebrew.html\" title=\"How TF features represent text\">Character table</a>, <a target=\"_blank\" href=\"https://ETCBC.github.io/bhsa/features/0_home\" title=\"ETCBC - bhsa feature documentation\">Feature docs</a><br>\n",
       "            <details class=\"nodeinfo\"><summary><b>Node types</b></summary>\n",
       "<table class=\"nodeinfo\">\n",
       "    <tr>\n",
       "        <th>Name</th>\n",
       "        <th># of nodes</th>\n",
       "        <th># slots / node</th>\n",
       "        <th>% coverage</th>\n",
       "    </tr>\n",
       "\n",
       "<tr>\n",
       "    <th>book</th>\n",
       "    <td>39</td>\n",
       "    <td>10938.21</td>\n",
       "    <td><b>100</b></td>\n",
       "</tr>\n",
       "\n",
       "<tr>\n",
       "    <th>chapter</th>\n",
       "    <td>929</td>\n",
       "    <td>459.19</td>\n",
       "    <td><b>100</b></td>\n",
       "</tr>\n",
       "\n",
       "<tr>\n",
       "    <th>lex</th>\n",
       "    <td>9230</td>\n",
       "    <td>46.22</td>\n",
       "    <td><b>100</b></td>\n",
       "</tr>\n",
       "\n",
       "<tr>\n",
       "    <th>verse</th>\n",
       "    <td>23213</td>\n",
       "    <td>18.38</td>\n",
       "    <td><b>100</b></td>\n",
       "</tr>\n",
       "\n",
       "<tr>\n",
       "    <th>half_verse</th>\n",
       "    <td>45179</td>\n",
       "    <td>9.44</td>\n",
       "    <td><b>100</b></td>\n",
       "</tr>\n",
       "\n",
       "<tr>\n",
       "    <th>sentence</th>\n",
       "    <td>63717</td>\n",
       "    <td>6.70</td>\n",
       "    <td><b>100</b></td>\n",
       "</tr>\n",
       "\n",
       "<tr>\n",
       "    <th>sentence_atom</th>\n",
       "    <td>64514</td>\n",
       "    <td>6.61</td>\n",
       "    <td><b>100</b></td>\n",
       "</tr>\n",
       "\n",
       "<tr>\n",
       "    <th>clause</th>\n",
       "    <td>88131</td>\n",
       "    <td>4.84</td>\n",
       "    <td><b>100</b></td>\n",
       "</tr>\n",
       "\n",
       "<tr>\n",
       "    <th>clause_atom</th>\n",
       "    <td>90704</td>\n",
       "    <td>4.70</td>\n",
       "    <td><b>100</b></td>\n",
       "</tr>\n",
       "\n",
       "<tr>\n",
       "    <th>phrase</th>\n",
       "    <td>253203</td>\n",
       "    <td>1.68</td>\n",
       "    <td><b>100</b></td>\n",
       "</tr>\n",
       "\n",
       "<tr>\n",
       "    <th>phrase_atom</th>\n",
       "    <td>267532</td>\n",
       "    <td>1.59</td>\n",
       "    <td><b>100</b></td>\n",
       "</tr>\n",
       "\n",
       "<tr>\n",
       "    <th>subphrase</th>\n",
       "    <td>113850</td>\n",
       "    <td>1.42</td>\n",
       "    <td>38</td>\n",
       "</tr>\n",
       "\n",
       "<tr>\n",
       "    <th><i>word</i></th>\n",
       "    <td>426590</td>\n",
       "    <td>1.00</td>\n",
       "    <td><b>100</b></td>\n",
       "</tr>\n",
       "</table></details>\n",
       "            <b>Sets:</b> no custom sets<br>\n",
       "            <b>Features:</b><br>\n",
       "<details><summary><b>Parallel Passages</b></summary>\n",
       "    <div class=\"fcorpus\">\n",
       "\n",
       "<div class=\"frow\">\n",
       "    <div class=\"fnamecat edge\">\n",
       "<a target=\"_blank\" href=\"https://nbviewer.jupyter.org/github/ETCBC/parallels/blob/master/programs/parallels.ipynb\" title=\"~/text-fabric-data/github/ETCBC/parallels/tf/2021/crossref.tf\">crossref</a>\n",
       "</div>\n",
       "<div class=\"fmono\">int</div>\n",
       "\n",
       "<span> 🆗 links between similar passages</span>\n",
       "\n",
       "</div>\n",
       "\n",
       "    </div>\n",
       "</details>\n",
       "\n",
       "<details><summary><b>BHSA = Biblia Hebraica Stuttgartensia Amstelodamensis</b></summary>\n",
       "    <div class=\"fcorpus\">\n",
       "\n",
       "<div class=\"frow\">\n",
       "    <div class=\"fnamecat \">\n",
       "<a target=\"_blank\" href=\"https://ETCBC.github.io/bhsa/features/book\" title=\"~/text-fabric-data/github/ETCBC/bhsa/tf/2021/book.tf\">book</a>\n",
       "</div>\n",
       "<div class=\"fmono\">str</div>\n",
       "\n",
       "<span> ✅ book name in Latin (Genesis; Numeri; Reges1; ...)</span>\n",
       "\n",
       "</div>\n",
       "\n",
       "<div class=\"frow\">\n",
       "    <div class=\"fnamecat \">\n",
       "<a target=\"_blank\" href=\"https://ETCBC.github.io/bhsa/features/book@ll\" title=\"~/text-fabric-data/github/ETCBC/bhsa/tf/2021/book@am.tf\">book@ll</a>\n",
       "</div>\n",
       "<div class=\"fmono\">str</div>\n",
       "\n",
       "<span> ✅ book name in amharic (ኣማርኛ)</span>\n",
       "\n",
       "</div>\n",
       "\n",
       "<div class=\"frow\">\n",
       "    <div class=\"fnamecat \">\n",
       "<a target=\"_blank\" href=\"https://ETCBC.github.io/bhsa/features/chapter\" title=\"~/text-fabric-data/github/ETCBC/bhsa/tf/2021/chapter.tf\">chapter</a>\n",
       "</div>\n",
       "<div class=\"fmono\">int</div>\n",
       "\n",
       "<span> ✅ chapter number (1; 2; 3; ...)</span>\n",
       "\n",
       "</div>\n",
       "\n",
       "<div class=\"frow\">\n",
       "    <div class=\"fnamecat \">\n",
       "<a target=\"_blank\" href=\"https://ETCBC.github.io/bhsa/features/code\" title=\"~/text-fabric-data/github/ETCBC/bhsa/tf/2021/code.tf\">code</a>\n",
       "</div>\n",
       "<div class=\"fmono\">int</div>\n",
       "\n",
       "<span> ✅ identifier of a clause atom relationship (0; 74; 367; ...)</span>\n",
       "\n",
       "</div>\n",
       "\n",
       "<div class=\"frow\">\n",
       "    <div class=\"fnamecat \">\n",
       "<a target=\"_blank\" href=\"https://ETCBC.github.io/bhsa/features/det\" title=\"~/text-fabric-data/github/ETCBC/bhsa/tf/2021/det.tf\">det</a>\n",
       "</div>\n",
       "<div class=\"fmono\">str</div>\n",
       "\n",
       "<span> ✅ determinedness of phrase(atom) (det; und; NA.)</span>\n",
       "\n",
       "</div>\n",
       "\n",
       "<div class=\"frow\">\n",
       "    <div class=\"fnamecat \">\n",
       "<a target=\"_blank\" href=\"https://ETCBC.github.io/bhsa/features/domain\" title=\"~/text-fabric-data/github/ETCBC/bhsa/tf/2021/domain.tf\">domain</a>\n",
       "</div>\n",
       "<div class=\"fmono\">str</div>\n",
       "\n",
       "<span> ✅ text type of clause (? (Unknown); N (narrative); D (discursive); Q (Quotation).)</span>\n",
       "\n",
       "</div>\n",
       "\n",
       "<div class=\"frow\">\n",
       "    <div class=\"fnamecat \">\n",
       "<a target=\"_blank\" href=\"https://ETCBC.github.io/bhsa/features/freq_lex\" title=\"~/text-fabric-data/github/ETCBC/bhsa/tf/2021/freq_lex.tf\">freq_lex</a>\n",
       "</div>\n",
       "<div class=\"fmono\">int</div>\n",
       "\n",
       "<span> ✅ frequency of lexemes</span>\n",
       "\n",
       "</div>\n",
       "\n",
       "<div class=\"frow\">\n",
       "    <div class=\"fnamecat \">\n",
       "<a target=\"_blank\" href=\"https://ETCBC.github.io/bhsa/features/function\" title=\"~/text-fabric-data/github/ETCBC/bhsa/tf/2021/function.tf\">function</a>\n",
       "</div>\n",
       "<div class=\"fmono\">str</div>\n",
       "\n",
       "<span> ✅ syntactic function of phrase (Cmpl; Objc; Pred; ...)</span>\n",
       "\n",
       "</div>\n",
       "\n",
       "<div class=\"frow\">\n",
       "    <div class=\"fnamecat \">\n",
       "<a target=\"_blank\" href=\"https://ETCBC.github.io/bhsa/features/g_cons\" title=\"~/text-fabric-data/github/ETCBC/bhsa/tf/2021/g_cons.tf\">g_cons</a>\n",
       "</div>\n",
       "<div class=\"fmono\">str</div>\n",
       "\n",
       "<span> ✅ word consonantal-transliterated (B R>CJT BR> >LHJM ...)</span>\n",
       "\n",
       "</div>\n",
       "\n",
       "<div class=\"frow\">\n",
       "    <div class=\"fnamecat \">\n",
       "<a target=\"_blank\" href=\"https://ETCBC.github.io/bhsa/features/g_cons_utf8\" title=\"~/text-fabric-data/github/ETCBC/bhsa/tf/2021/g_cons_utf8.tf\">g_cons_utf8</a>\n",
       "</div>\n",
       "<div class=\"fmono\">str</div>\n",
       "\n",
       "<span> ✅ word consonantal-Hebrew (ב ראשׁית ברא אלהים)</span>\n",
       "\n",
       "</div>\n",
       "\n",
       "<div class=\"frow\">\n",
       "    <div class=\"fnamecat \">\n",
       "<a target=\"_blank\" href=\"https://ETCBC.github.io/bhsa/features/g_lex\" title=\"~/text-fabric-data/github/ETCBC/bhsa/tf/2021/g_lex.tf\">g_lex</a>\n",
       "</div>\n",
       "<div class=\"fmono\">str</div>\n",
       "\n",
       "<span> ✅ lexeme pointed-transliterated (B.:- R;>CIJT B.@R@> >:ELOH ...)</span>\n",
       "\n",
       "</div>\n",
       "\n",
       "<div class=\"frow\">\n",
       "    <div class=\"fnamecat \">\n",
       "<a target=\"_blank\" href=\"https://ETCBC.github.io/bhsa/features/g_lex_utf8\" title=\"~/text-fabric-data/github/ETCBC/bhsa/tf/2021/g_lex_utf8.tf\">g_lex_utf8</a>\n",
       "</div>\n",
       "<div class=\"fmono\">str</div>\n",
       "\n",
       "<span> ✅ lexeme pointed-Hebrew (בְּ רֵאשִׁית בָּרָא אֱלֹה)</span>\n",
       "\n",
       "</div>\n",
       "\n",
       "<div class=\"frow\">\n",
       "    <div class=\"fnamecat \">\n",
       "<a target=\"_blank\" href=\"https://ETCBC.github.io/bhsa/features/g_word\" title=\"~/text-fabric-data/github/ETCBC/bhsa/tf/2021/g_word.tf\">g_word</a>\n",
       "</div>\n",
       "<div class=\"fmono\">str</div>\n",
       "\n",
       "<span> ✅ word pointed-transliterated (B.:- R;>CI73JT B.@R@74> >:ELOHI92JM)</span>\n",
       "\n",
       "</div>\n",
       "\n",
       "<div class=\"frow\">\n",
       "    <div class=\"fnamecat \">\n",
       "<a target=\"_blank\" href=\"https://ETCBC.github.io/bhsa/features/g_word_utf8\" title=\"~/text-fabric-data/github/ETCBC/bhsa/tf/2021/g_word_utf8.tf\">g_word_utf8</a>\n",
       "</div>\n",
       "<div class=\"fmono\">str</div>\n",
       "\n",
       "<span> ✅ word pointed-Hebrew (בְּ רֵאשִׁ֖ית בָּרָ֣א אֱלֹהִ֑ים)</span>\n",
       "\n",
       "</div>\n",
       "\n",
       "<div class=\"frow\">\n",
       "    <div class=\"fnamecat \">\n",
       "<a target=\"_blank\" href=\"https://ETCBC.github.io/bhsa/features/gloss\" title=\"~/text-fabric-data/github/ETCBC/bhsa/tf/2021/gloss.tf\">gloss</a>\n",
       "</div>\n",
       "<div class=\"fmono\">str</div>\n",
       "\n",
       "<span> 🆗 english translation of lexeme (beginning create god(s))</span>\n",
       "\n",
       "</div>\n",
       "\n",
       "<div class=\"frow\">\n",
       "    <div class=\"fnamecat \">\n",
       "<a target=\"_blank\" href=\"https://ETCBC.github.io/bhsa/features/gn\" title=\"~/text-fabric-data/github/ETCBC/bhsa/tf/2021/gn.tf\">gn</a>\n",
       "</div>\n",
       "<div class=\"fmono\">str</div>\n",
       "\n",
       "<span> ✅ grammatical gender (m; f; NA; unknown.)</span>\n",
       "\n",
       "</div>\n",
       "\n",
       "<div class=\"frow\">\n",
       "    <div class=\"fnamecat \">\n",
       "<a target=\"_blank\" href=\"https://ETCBC.github.io/bhsa/features/label\" title=\"~/text-fabric-data/github/ETCBC/bhsa/tf/2021/label.tf\">label</a>\n",
       "</div>\n",
       "<div class=\"fmono\">str</div>\n",
       "\n",
       "<span> ✅ (half-)verse label (half verses: A; B; C; verses:  GEN 01,02)</span>\n",
       "\n",
       "</div>\n",
       "\n",
       "<div class=\"frow\">\n",
       "    <div class=\"fnamecat \">\n",
       "<a target=\"_blank\" href=\"https://ETCBC.github.io/bhsa/features/language\" title=\"~/text-fabric-data/github/ETCBC/bhsa/tf/2021/language.tf\">language</a>\n",
       "</div>\n",
       "<div class=\"fmono\">str</div>\n",
       "\n",
       "<span> ✅ of word or lexeme (Hebrew; Aramaic.)</span>\n",
       "\n",
       "</div>\n",
       "\n",
       "<div class=\"frow\">\n",
       "    <div class=\"fnamecat \">\n",
       "<a target=\"_blank\" href=\"https://ETCBC.github.io/bhsa/features/lex\" title=\"~/text-fabric-data/github/ETCBC/bhsa/tf/2021/lex.tf\">lex</a>\n",
       "</div>\n",
       "<div class=\"fmono\">str</div>\n",
       "\n",
       "<span> ✅ lexeme consonantal-transliterated (B R>CJT/ BR>[ >LHJM/)</span>\n",
       "\n",
       "</div>\n",
       "\n",
       "<div class=\"frow\">\n",
       "    <div class=\"fnamecat \">\n",
       "<a target=\"_blank\" href=\"https://ETCBC.github.io/bhsa/features/lex_utf8\" title=\"~/text-fabric-data/github/ETCBC/bhsa/tf/2021/lex_utf8.tf\">lex_utf8</a>\n",
       "</div>\n",
       "<div class=\"fmono\">str</div>\n",
       "\n",
       "<span> ✅ lexeme consonantal-Hebrew (ב ראשׁית֜ ברא אלהים֜)</span>\n",
       "\n",
       "</div>\n",
       "\n",
       "<div class=\"frow\">\n",
       "    <div class=\"fnamecat \">\n",
       "<a target=\"_blank\" href=\"https://ETCBC.github.io/bhsa/features/ls\" title=\"~/text-fabric-data/github/ETCBC/bhsa/tf/2021/ls.tf\">ls</a>\n",
       "</div>\n",
       "<div class=\"fmono\">str</div>\n",
       "\n",
       "<span> ✅ lexical set, subclassification of part-of-speech (card; ques; mult)</span>\n",
       "\n",
       "</div>\n",
       "\n",
       "<div class=\"frow\">\n",
       "    <div class=\"fnamecat \">\n",
       "<a target=\"_blank\" href=\"https://ETCBC.github.io/bhsa/features/nametype\" title=\"~/text-fabric-data/github/ETCBC/bhsa/tf/2021/nametype.tf\">nametype</a>\n",
       "</div>\n",
       "<div class=\"fmono\">str</div>\n",
       "\n",
       "<span> ⚠️ named entity type (pers; mens; gens; topo; ppde.)</span>\n",
       "\n",
       "</div>\n",
       "\n",
       "<div class=\"frow\">\n",
       "    <div class=\"fnamecat \">\n",
       "<a target=\"_blank\" href=\"https://ETCBC.github.io/bhsa/features/nme\" title=\"~/text-fabric-data/github/ETCBC/bhsa/tf/2021/nme.tf\">nme</a>\n",
       "</div>\n",
       "<div class=\"fmono\">str</div>\n",
       "\n",
       "<span> ✅ nominal ending consonantal-transliterated (absent; n/a; JM, ...)</span>\n",
       "\n",
       "</div>\n",
       "\n",
       "<div class=\"frow\">\n",
       "    <div class=\"fnamecat \">\n",
       "<a target=\"_blank\" href=\"https://ETCBC.github.io/bhsa/features/nu\" title=\"~/text-fabric-data/github/ETCBC/bhsa/tf/2021/nu.tf\">nu</a>\n",
       "</div>\n",
       "<div class=\"fmono\">str</div>\n",
       "\n",
       "<span> ✅ grammatical number (sg; du; pl; NA; unknown.)</span>\n",
       "\n",
       "</div>\n",
       "\n",
       "<div class=\"frow\">\n",
       "    <div class=\"fnamecat \">\n",
       "<a target=\"_blank\" href=\"https://ETCBC.github.io/bhsa/features/number\" title=\"~/text-fabric-data/github/ETCBC/bhsa/tf/2021/number.tf\">number</a>\n",
       "</div>\n",
       "<div class=\"fmono\">int</div>\n",
       "\n",
       "<span> ✅ sequence number of an object within its context</span>\n",
       "\n",
       "</div>\n",
       "\n",
       "<div class=\"frow\">\n",
       "    <div class=\"fnamecat \">\n",
       "<a target=\"_blank\" href=\"https://ETCBC.github.io/bhsa/features/otype\" title=\"~/text-fabric-data/github/ETCBC/bhsa/tf/2021/otype.tf\">otype</a>\n",
       "</div>\n",
       "<div class=\"fmono\">str</div>\n",
       "\n",
       "<span> </span>\n",
       "\n",
       "</div>\n",
       "\n",
       "<div class=\"frow\">\n",
       "    <div class=\"fnamecat \">\n",
       "<a target=\"_blank\" href=\"https://ETCBC.github.io/bhsa/features/pargr\" title=\"~/text-fabric-data/github/ETCBC/bhsa/tf/2021/pargr.tf\">pargr</a>\n",
       "</div>\n",
       "<div class=\"fmono\">str</div>\n",
       "\n",
       "<span> 🆗 hierarchical paragraph number (1; 1.2; 1.2.3.4; ...)</span>\n",
       "\n",
       "</div>\n",
       "\n",
       "<div class=\"frow\">\n",
       "    <div class=\"fnamecat \">\n",
       "<a target=\"_blank\" href=\"https://ETCBC.github.io/bhsa/features/pdp\" title=\"~/text-fabric-data/github/ETCBC/bhsa/tf/2021/pdp.tf\">pdp</a>\n",
       "</div>\n",
       "<div class=\"fmono\">str</div>\n",
       "\n",
       "<span> ✅ phrase dependent part-of-speech (art; verb; subs; nmpr, ...)</span>\n",
       "\n",
       "</div>\n",
       "\n",
       "<div class=\"frow\">\n",
       "    <div class=\"fnamecat \">\n",
       "<a target=\"_blank\" href=\"https://ETCBC.github.io/bhsa/features/pfm\" title=\"~/text-fabric-data/github/ETCBC/bhsa/tf/2021/pfm.tf\">pfm</a>\n",
       "</div>\n",
       "<div class=\"fmono\">str</div>\n",
       "\n",
       "<span> ✅ preformative consonantal-transliterated (absent; n/a; J, ...)</span>\n",
       "\n",
       "</div>\n",
       "\n",
       "<div class=\"frow\">\n",
       "    <div class=\"fnamecat \">\n",
       "<a target=\"_blank\" href=\"https://ETCBC.github.io/bhsa/features/prs\" title=\"~/text-fabric-data/github/ETCBC/bhsa/tf/2021/prs.tf\">prs</a>\n",
       "</div>\n",
       "<div class=\"fmono\">str</div>\n",
       "\n",
       "<span> ✅ pronominal suffix consonantal-transliterated (absent; n/a; W; ...)</span>\n",
       "\n",
       "</div>\n",
       "\n",
       "<div class=\"frow\">\n",
       "    <div class=\"fnamecat \">\n",
       "<a target=\"_blank\" href=\"https://ETCBC.github.io/bhsa/features/prs_gn\" title=\"~/text-fabric-data/github/ETCBC/bhsa/tf/2021/prs_gn.tf\">prs_gn</a>\n",
       "</div>\n",
       "<div class=\"fmono\">str</div>\n",
       "\n",
       "<span> ✅ pronominal suffix gender (m; f; NA; unknown.)</span>\n",
       "\n",
       "</div>\n",
       "\n",
       "<div class=\"frow\">\n",
       "    <div class=\"fnamecat \">\n",
       "<a target=\"_blank\" href=\"https://ETCBC.github.io/bhsa/features/prs_nu\" title=\"~/text-fabric-data/github/ETCBC/bhsa/tf/2021/prs_nu.tf\">prs_nu</a>\n",
       "</div>\n",
       "<div class=\"fmono\">str</div>\n",
       "\n",
       "<span> ✅ pronominal suffix number (sg; du; pl; NA; unknown.)</span>\n",
       "\n",
       "</div>\n",
       "\n",
       "<div class=\"frow\">\n",
       "    <div class=\"fnamecat \">\n",
       "<a target=\"_blank\" href=\"https://ETCBC.github.io/bhsa/features/prs_ps\" title=\"~/text-fabric-data/github/ETCBC/bhsa/tf/2021/prs_ps.tf\">prs_ps</a>\n",
       "</div>\n",
       "<div class=\"fmono\">str</div>\n",
       "\n",
       "<span> ✅ pronominal suffix person (p1; p2; p3; NA; unknown.)</span>\n",
       "\n",
       "</div>\n",
       "\n",
       "<div class=\"frow\">\n",
       "    <div class=\"fnamecat \">\n",
       "<a target=\"_blank\" href=\"https://ETCBC.github.io/bhsa/features/ps\" title=\"~/text-fabric-data/github/ETCBC/bhsa/tf/2021/ps.tf\">ps</a>\n",
       "</div>\n",
       "<div class=\"fmono\">str</div>\n",
       "\n",
       "<span> ✅ grammatical person (p1; p2; p3; NA; unknown.)</span>\n",
       "\n",
       "</div>\n",
       "\n",
       "<div class=\"frow\">\n",
       "    <div class=\"fnamecat \">\n",
       "<a target=\"_blank\" href=\"https://ETCBC.github.io/bhsa/features/qere\" title=\"~/text-fabric-data/github/ETCBC/bhsa/tf/2021/qere.tf\">qere</a>\n",
       "</div>\n",
       "<div class=\"fmono\">str</div>\n",
       "\n",
       "<span> ✅ word pointed-transliterated masoretic reading correction</span>\n",
       "\n",
       "</div>\n",
       "\n",
       "<div class=\"frow\">\n",
       "    <div class=\"fnamecat \">\n",
       "<a target=\"_blank\" href=\"https://ETCBC.github.io/bhsa/features/qere_trailer\" title=\"~/text-fabric-data/github/ETCBC/bhsa/tf/2021/qere_trailer.tf\">qere_trailer</a>\n",
       "</div>\n",
       "<div class=\"fmono\">str</div>\n",
       "\n",
       "<span> ✅ interword material -pointed-transliterated (Masoretic correction)</span>\n",
       "\n",
       "</div>\n",
       "\n",
       "<div class=\"frow\">\n",
       "    <div class=\"fnamecat \">\n",
       "<a target=\"_blank\" href=\"https://ETCBC.github.io/bhsa/features/qere_trailer_utf8\" title=\"~/text-fabric-data/github/ETCBC/bhsa/tf/2021/qere_trailer_utf8.tf\">qere_trailer_utf8</a>\n",
       "</div>\n",
       "<div class=\"fmono\">str</div>\n",
       "\n",
       "<span> ✅ interword material -pointed-transliterated (Masoretic correction)</span>\n",
       "\n",
       "</div>\n",
       "\n",
       "<div class=\"frow\">\n",
       "    <div class=\"fnamecat \">\n",
       "<a target=\"_blank\" href=\"https://ETCBC.github.io/bhsa/features/qere_utf8\" title=\"~/text-fabric-data/github/ETCBC/bhsa/tf/2021/qere_utf8.tf\">qere_utf8</a>\n",
       "</div>\n",
       "<div class=\"fmono\">str</div>\n",
       "\n",
       "<span> ✅ word pointed-Hebrew masoretic reading correction</span>\n",
       "\n",
       "</div>\n",
       "\n",
       "<div class=\"frow\">\n",
       "    <div class=\"fnamecat \">\n",
       "<a target=\"_blank\" href=\"https://ETCBC.github.io/bhsa/features/rank_lex\" title=\"~/text-fabric-data/github/ETCBC/bhsa/tf/2021/rank_lex.tf\">rank_lex</a>\n",
       "</div>\n",
       "<div class=\"fmono\">int</div>\n",
       "\n",
       "<span> ✅ ranking of lexemes based on freqnuecy</span>\n",
       "\n",
       "</div>\n",
       "\n",
       "<div class=\"frow\">\n",
       "    <div class=\"fnamecat \">\n",
       "<a target=\"_blank\" href=\"https://ETCBC.github.io/bhsa/features/rela\" title=\"~/text-fabric-data/github/ETCBC/bhsa/tf/2021/rela.tf\">rela</a>\n",
       "</div>\n",
       "<div class=\"fmono\">str</div>\n",
       "\n",
       "<span> ✅ linguistic relation between clause/(sub)phrase(atom) (ADJ; MOD; ATR; ...)</span>\n",
       "\n",
       "</div>\n",
       "\n",
       "<div class=\"frow\">\n",
       "    <div class=\"fnamecat \">\n",
       "<a target=\"_blank\" href=\"https://ETCBC.github.io/bhsa/features/sp\" title=\"~/text-fabric-data/github/ETCBC/bhsa/tf/2021/sp.tf\">sp</a>\n",
       "</div>\n",
       "<div class=\"fmono\">str</div>\n",
       "\n",
       "<span> ✅ part-of-speech (art; verb; subs; nmpr, ...)</span>\n",
       "\n",
       "</div>\n",
       "\n",
       "<div class=\"frow\">\n",
       "    <div class=\"fnamecat \">\n",
       "<a target=\"_blank\" href=\"https://ETCBC.github.io/bhsa/features/st\" title=\"~/text-fabric-data/github/ETCBC/bhsa/tf/2021/st.tf\">st</a>\n",
       "</div>\n",
       "<div class=\"fmono\">str</div>\n",
       "\n",
       "<span> ✅ state of a noun (a (absolute); c (construct); e (emphatic).)</span>\n",
       "\n",
       "</div>\n",
       "\n",
       "<div class=\"frow\">\n",
       "    <div class=\"fnamecat \">\n",
       "<a target=\"_blank\" href=\"https://ETCBC.github.io/bhsa/features/tab\" title=\"~/text-fabric-data/github/ETCBC/bhsa/tf/2021/tab.tf\">tab</a>\n",
       "</div>\n",
       "<div class=\"fmono\">int</div>\n",
       "\n",
       "<span> ✅ clause atom: its level in the linguistic embedding</span>\n",
       "\n",
       "</div>\n",
       "\n",
       "<div class=\"frow\">\n",
       "    <div class=\"fnamecat \">\n",
       "<a target=\"_blank\" href=\"https://ETCBC.github.io/bhsa/features/trailer\" title=\"~/text-fabric-data/github/ETCBC/bhsa/tf/2021/trailer.tf\">trailer</a>\n",
       "</div>\n",
       "<div class=\"fmono\">str</div>\n",
       "\n",
       "<span> ✅ interword material pointed-transliterated (& 00 05 00_P ...)</span>\n",
       "\n",
       "</div>\n",
       "\n",
       "<div class=\"frow\">\n",
       "    <div class=\"fnamecat \">\n",
       "<a target=\"_blank\" href=\"https://ETCBC.github.io/bhsa/features/trailer_utf8\" title=\"~/text-fabric-data/github/ETCBC/bhsa/tf/2021/trailer_utf8.tf\">trailer_utf8</a>\n",
       "</div>\n",
       "<div class=\"fmono\">str</div>\n",
       "\n",
       "<span> ✅ interword material pointed-Hebrew (־ ׃)</span>\n",
       "\n",
       "</div>\n",
       "\n",
       "<div class=\"frow\">\n",
       "    <div class=\"fnamecat \">\n",
       "<a target=\"_blank\" href=\"https://ETCBC.github.io/bhsa/features/txt\" title=\"~/text-fabric-data/github/ETCBC/bhsa/tf/2021/txt.tf\">txt</a>\n",
       "</div>\n",
       "<div class=\"fmono\">str</div>\n",
       "\n",
       "<span> ✅ text type of clause and surrounding (repetion of ? N D Q as in feature domain)</span>\n",
       "\n",
       "</div>\n",
       "\n",
       "<div class=\"frow\">\n",
       "    <div class=\"fnamecat \">\n",
       "<a target=\"_blank\" href=\"https://ETCBC.github.io/bhsa/features/typ\" title=\"~/text-fabric-data/github/ETCBC/bhsa/tf/2021/typ.tf\">typ</a>\n",
       "</div>\n",
       "<div class=\"fmono\">str</div>\n",
       "\n",
       "<span> ✅ clause/phrase(atom) type (VP; NP; Ellp; Ptcp; WayX)</span>\n",
       "\n",
       "</div>\n",
       "\n",
       "<div class=\"frow\">\n",
       "    <div class=\"fnamecat \">\n",
       "<a target=\"_blank\" href=\"https://ETCBC.github.io/bhsa/features/uvf\" title=\"~/text-fabric-data/github/ETCBC/bhsa/tf/2021/uvf.tf\">uvf</a>\n",
       "</div>\n",
       "<div class=\"fmono\">str</div>\n",
       "\n",
       "<span> ✅ univalent final consonant consonantal-transliterated (absent; N; J; ...)</span>\n",
       "\n",
       "</div>\n",
       "\n",
       "<div class=\"frow\">\n",
       "    <div class=\"fnamecat \">\n",
       "<a target=\"_blank\" href=\"https://ETCBC.github.io/bhsa/features/vbe\" title=\"~/text-fabric-data/github/ETCBC/bhsa/tf/2021/vbe.tf\">vbe</a>\n",
       "</div>\n",
       "<div class=\"fmono\">str</div>\n",
       "\n",
       "<span> ✅ verbal ending consonantal-transliterated (n/a; W; ...)</span>\n",
       "\n",
       "</div>\n",
       "\n",
       "<div class=\"frow\">\n",
       "    <div class=\"fnamecat \">\n",
       "<a target=\"_blank\" href=\"https://ETCBC.github.io/bhsa/features/vbs\" title=\"~/text-fabric-data/github/ETCBC/bhsa/tf/2021/vbs.tf\">vbs</a>\n",
       "</div>\n",
       "<div class=\"fmono\">str</div>\n",
       "\n",
       "<span> ✅ root formation consonantal-transliterated (absent; n/a; H; ...)</span>\n",
       "\n",
       "</div>\n",
       "\n",
       "<div class=\"frow\">\n",
       "    <div class=\"fnamecat \">\n",
       "<a target=\"_blank\" href=\"https://ETCBC.github.io/bhsa/features/verse\" title=\"~/text-fabric-data/github/ETCBC/bhsa/tf/2021/verse.tf\">verse</a>\n",
       "</div>\n",
       "<div class=\"fmono\">int</div>\n",
       "\n",
       "<span> ✅ verse number</span>\n",
       "\n",
       "</div>\n",
       "\n",
       "<div class=\"frow\">\n",
       "    <div class=\"fnamecat \">\n",
       "<a target=\"_blank\" href=\"https://ETCBC.github.io/bhsa/features/voc_lex\" title=\"~/text-fabric-data/github/ETCBC/bhsa/tf/2021/voc_lex.tf\">voc_lex</a>\n",
       "</div>\n",
       "<div class=\"fmono\">str</div>\n",
       "\n",
       "<span> ✅ vocalized lexeme pointed-transliterated (B.: R;>CIJT BR> >:ELOHIJM)</span>\n",
       "\n",
       "</div>\n",
       "\n",
       "<div class=\"frow\">\n",
       "    <div class=\"fnamecat \">\n",
       "<a target=\"_blank\" href=\"https://ETCBC.github.io/bhsa/features/voc_lex_utf8\" title=\"~/text-fabric-data/github/ETCBC/bhsa/tf/2021/voc_lex_utf8.tf\">voc_lex_utf8</a>\n",
       "</div>\n",
       "<div class=\"fmono\">str</div>\n",
       "\n",
       "<span> ✅ vocalized lexeme pointed-Hebrew (בְּ רֵאשִׁית ברא אֱלֹהִים)</span>\n",
       "\n",
       "</div>\n",
       "\n",
       "<div class=\"frow\">\n",
       "    <div class=\"fnamecat \">\n",
       "<a target=\"_blank\" href=\"https://ETCBC.github.io/bhsa/features/vs\" title=\"~/text-fabric-data/github/ETCBC/bhsa/tf/2021/vs.tf\">vs</a>\n",
       "</div>\n",
       "<div class=\"fmono\">str</div>\n",
       "\n",
       "<span> ✅ verbal stem (qal; piel; hif; apel; pael)</span>\n",
       "\n",
       "</div>\n",
       "\n",
       "<div class=\"frow\">\n",
       "    <div class=\"fnamecat \">\n",
       "<a target=\"_blank\" href=\"https://ETCBC.github.io/bhsa/features/vt\" title=\"~/text-fabric-data/github/ETCBC/bhsa/tf/2021/vt.tf\">vt</a>\n",
       "</div>\n",
       "<div class=\"fmono\">str</div>\n",
       "\n",
       "<span> ✅ verbal tense (perf; impv; wayq; infc)</span>\n",
       "\n",
       "</div>\n",
       "\n",
       "<div class=\"frow\">\n",
       "    <div class=\"fnamecat edge\">\n",
       "<a target=\"_blank\" href=\"https://ETCBC.github.io/bhsa/features/mother\" title=\"~/text-fabric-data/github/ETCBC/bhsa/tf/2021/mother.tf\">mother</a>\n",
       "</div>\n",
       "<div class=\"fmono\">none</div>\n",
       "\n",
       "<span> ✅ linguistic dependency between textual objects</span>\n",
       "\n",
       "</div>\n",
       "\n",
       "<div class=\"frow\">\n",
       "    <div class=\"fnamecat edge\">\n",
       "<a target=\"_blank\" href=\"https://ETCBC.github.io/bhsa/features/oslots\" title=\"~/text-fabric-data/github/ETCBC/bhsa/tf/2021/oslots.tf\">oslots</a>\n",
       "</div>\n",
       "<div class=\"fmono\">none</div>\n",
       "\n",
       "<span> </span>\n",
       "\n",
       "</div>\n",
       "\n",
       "    </div>\n",
       "</details>\n",
       "\n",
       "<details><summary><b>Phonetic Transcriptions</b></summary>\n",
       "    <div class=\"fcorpus\">\n",
       "\n",
       "<div class=\"frow\">\n",
       "    <div class=\"fnamecat \">\n",
       "<a target=\"_blank\" href=\"https://nbviewer.jupyter.org/github/etcbc/phono/blob/master/programs/phono.ipynb\" title=\"~/text-fabric-data/github/ETCBC/phono/tf/2021/phono.tf\">phono</a>\n",
       "</div>\n",
       "<div class=\"fmono\">str</div>\n",
       "\n",
       "<span> 🆗 phonological transcription (bᵊ rēšˌîṯ bārˈā ʔᵉlōhˈîm)</span>\n",
       "\n",
       "</div>\n",
       "\n",
       "<div class=\"frow\">\n",
       "    <div class=\"fnamecat \">\n",
       "<a target=\"_blank\" href=\"https://nbviewer.jupyter.org/github/etcbc/phono/blob/master/programs/phono.ipynb\" title=\"~/text-fabric-data/github/ETCBC/phono/tf/2021/phono_trailer.tf\">phono_trailer</a>\n",
       "</div>\n",
       "<div class=\"fmono\">str</div>\n",
       "\n",
       "<span> 🆗 interword material in phonological transcription</span>\n",
       "\n",
       "</div>\n",
       "\n",
       "    </div>\n",
       "</details>\n",
       "\n",
       "            <b>Settings:</b><br><details ><summary><b>specified</b></summary><ol><li><b>apiVersion</b>: <code>3</code></li><li><b>appName</b>: <code>ETCBC/bhsa</code></li><li><b>appPath</b>: <code>/Users/me/text-fabric-data/github/ETCBC/bhsa/app</code></li><li><b>commit</b>: <code>gb112c161cfd21eae403d51a2733740d8743460e7</code></li><li><b>css</b>: <code>''</code></li><li><details><summary><b>dataDisplay</b>:</summary><ul><li><details><summary><b>exampleSectionHtml</b>:</summary><code>&lt;code&gt;Genesis 1:1&lt;/code&gt; (use &lt;a href=\"https://github.com/{org}/{repo}/blob/master/tf/{version}/book%40en.tf\" target=\"_blank\"&gt;English book names&lt;/a&gt;)</code></details></li><li><details><summary><b>excludedFeatures</b>:</summary><ul><li><code>g_uvf_utf8</code></li><li><code>g_vbs</code></li><li><code>kq_hybrid</code></li><li><code>languageISO</code></li><li><code>g_nme</code></li><li><code>lex0</code></li><li><code>is_root</code></li><li><code>g_vbs_utf8</code></li><li><code>g_uvf</code></li><li><code>dist</code></li><li><code>root</code></li><li><code>suffix_person</code></li><li><code>g_vbe</code></li><li><code>dist_unit</code></li><li><code>suffix_number</code></li><li><code>distributional_parent</code></li><li><code>kq_hybrid_utf8</code></li><li><code>crossrefSET</code></li><li><code>instruction</code></li><li><code>g_prs</code></li><li><code>lexeme_count</code></li><li><code>rank_occ</code></li><li><code>g_pfm_utf8</code></li><li><code>freq_occ</code></li><li><code>crossrefLCS</code></li><li><code>functional_parent</code></li><li><code>g_pfm</code></li><li><code>g_nme_utf8</code></li><li><code>g_vbe_utf8</code></li><li><code>kind</code></li><li><code>g_prs_utf8</code></li><li><code>suffix_gender</code></li><li><code>mother_object_type</code></li></ul></details></li><li><details><summary><b>noneValues</b>:</summary><ul><li><code>absent</code></li><li><code>n/a</code></li><li><code>none</code></li><li><code>unknown</code></li><li><i>no value</i></li><li><code>NA</code></li></ul></details></li></ul></details></li><li><details><summary><b>docs</b>:</summary><ul><li><b>docBase</b>: <code>{docRoot}/{repo}</code></li><li><b>docExt</b>: <code>''</code></li><li><b>docPage</b>: <code>''</code></li><li><b>docRoot</b>: <code>https://{org}.github.io</code></li><li><b>featurePage</b>: <code>0_home</code></li></ul></details></li><li><b>interfaceDefaults</b>: <code>{}</code></li><li><b>isCompatible</b>: <code>True</code></li><li><b>local</b>: <code>local</code></li><li><b>localDir</b>: <code>/Users/me/text-fabric-data/github/ETCBC/bhsa/_temp</code></li><li><details><summary><b>provenanceSpec</b>:</summary><ul><li><b>corpus</b>: <code>BHSA = Biblia Hebraica Stuttgartensia Amstelodamensis</code></li><li><b>doi</b>: <code>10.5281/zenodo.1007624</code></li><li><b>extraData</b>: <code>ner</code></li><li><details><summary><b>moduleSpecs</b>:</summary><ul><li><details><summary>:</summary><ul><li><b>backend</b>: <i>no value</i></li><li><b>corpus</b>: <code>Phonetic Transcriptions</code></li><li><details><summary><b>docUrl</b>:</summary><code>https://nbviewer.jupyter.org/github/etcbc/phono/blob/master/programs/phono.ipynb</code></details></li><li><b>doi</b>: <code>10.5281/zenodo.1007636</code></li><li><b>org</b>: <code>ETCBC</code></li><li><b>relative</b>: <code>/tf</code></li><li><b>repo</b>: <code>phono</code></li></ul></details></li><li><details><summary>:</summary><ul><li><b>backend</b>: <i>no value</i></li><li><b>corpus</b>: <code>Parallel Passages</code></li><li><details><summary><b>docUrl</b>:</summary><code>https://nbviewer.jupyter.org/github/ETCBC/parallels/blob/master/programs/parallels.ipynb</code></details></li><li><b>doi</b>: <code>10.5281/zenodo.1007642</code></li><li><b>org</b>: <code>ETCBC</code></li><li><b>relative</b>: <code>/tf</code></li><li><b>repo</b>: <code>parallels</code></li></ul></details></li></ul></details></li><li><b>org</b>: <code>ETCBC</code></li><li><b>relative</b>: <code>/tf</code></li><li><b>repo</b>: <code>bhsa</code></li><li><b>version</b>: <code>2021</code></li><li><b>webBase</b>: <code>https://shebanq.ancient-data.org/hebrew</code></li><li><b>webHint</b>: <code>Show this on SHEBANQ</code></li><li><b>webLang</b>: <code>la</code></li><li><b>webLexId</b>: <code>True</code></li><li><details><summary><b>webUrl</b>:</summary><code>{webBase}/text?book=&lt;1&gt;&amp;chapter=&lt;2&gt;&amp;verse=&lt;3&gt;&amp;version={version}&amp;mr=m&amp;qw=q&amp;tp=txt_p&amp;tr=hb&amp;wget=v&amp;qget=v&amp;nget=vt</code></details></li><li><b>webUrlLex</b>: <code>{webBase}/word?version={version}&amp;id=&lt;lid&gt;</code></li></ul></details></li><li><b>release</b>: <code>v1.8.1</code></li><li><details><summary><b>typeDisplay</b>:</summary><ul><li><details><summary><b>clause</b>:</summary><ul><li><b>label</b>: <code>{typ} {rela}</code></li><li><b>style</b>: <code>''</code></li></ul></details></li><li><details><summary><b>clause_atom</b>:</summary><ul><li><b>hidden</b>: <code>True</code></li><li><b>label</b>: <code>{code}</code></li><li><b>level</b>: <code>1</code></li><li><b>style</b>: <code>''</code></li></ul></details></li><li><details><summary><b>half_verse</b>:</summary><ul><li><b>hidden</b>: <code>True</code></li><li><b>label</b>: <code>{label}</code></li><li><b>style</b>: <code>''</code></li><li><b>verselike</b>: <code>True</code></li></ul></details></li><li><details><summary><b>lex</b>:</summary><ul><li><b>featuresBare</b>: <code>gloss</code></li><li><b>label</b>: <code>{voc_lex_utf8}</code></li><li><b>lexOcc</b>: <code>word</code></li><li><b>style</b>: <code>orig</code></li><li><b>template</b>: <code>{voc_lex_utf8}</code></li></ul></details></li><li><details><summary><b>phrase</b>:</summary><ul><li><b>label</b>: <code>{typ} {function}</code></li><li><b>style</b>: <code>''</code></li></ul></details></li><li><details><summary><b>phrase_atom</b>:</summary><ul><li><b>hidden</b>: <code>True</code></li><li><b>label</b>: <code>{typ} {rela}</code></li><li><b>level</b>: <code>1</code></li><li><b>style</b>: <code>''</code></li></ul></details></li><li><details><summary><b>sentence</b>:</summary><ul><li><b>label</b>: <code>{number}</code></li><li><b>style</b>: <code>''</code></li></ul></details></li><li><details><summary><b>sentence_atom</b>:</summary><ul><li><b>hidden</b>: <code>True</code></li><li><b>label</b>: <code>{number}</code></li><li><b>level</b>: <code>1</code></li><li><b>style</b>: <code>''</code></li></ul></details></li><li><details><summary><b>subphrase</b>:</summary><ul><li><b>hidden</b>: <code>True</code></li><li><b>label</b>: <code>{number}</code></li><li><b>style</b>: <code>''</code></li></ul></details></li><li><details><summary><b>word</b>:</summary><ul><li><b>features</b>: <code>pdp vs vt</code></li><li><b>featuresBare</b>: <code>lex:gloss</code></li></ul></details></li></ul></details></li><li><b>writing</b>: <code>hbo</code></li></ol></details>\n"
      ],
      "text/plain": [
       "<IPython.core.display.HTML object>"
      ]
     },
     "metadata": {},
     "output_type": "display_data"
    },
    {
     "data": {
      "text/html": [
       "<style>tr.tf.ltr, td.tf.ltr, th.tf.ltr { text-align: left ! important;}\n",
       "tr.tf.rtl, td.tf.rtl, th.tf.rtl { text-align: right ! important;}\n",
       "@font-face {\n",
       "  font-family: \"Gentium Plus\";\n",
       "  src: local('Gentium Plus'), local('GentiumPlus'),\n",
       "    url('/browser/static/fonts/GentiumPlus-R.woff') format('woff'),\n",
       "    url('https://github.com/annotation/text-fabric/blob/master/tf/browser/static/fonts/GentiumPlus-R.woff?raw=true') format('woff');\n",
       "}\n",
       "\n",
       "@font-face {\n",
       "  font-family: \"Ezra SIL\";\n",
       "  src: local('Ezra SIL'), local('EzraSIL'),\n",
       "    url('/browser/static/fonts/SILEOT.woff') format('woff'),\n",
       "    url('https://github.com/annotation/text-fabric/blob/master/tf/browser/static/fonts/SILEOT.woff?raw=true') format('woff');\n",
       "}\n",
       "\n",
       "@font-face {\n",
       "  font-family: \"SBL Hebrew\";\n",
       "  src: local('SBL Hebrew'), local('SBLHebrew'),\n",
       "    url('/browser/static/fonts/SBL_Hbrw.woff') format('woff'),\n",
       "    url('https://github.com/annotation/text-fabric/blob/master/tf/browser/static/fonts/SBL_Hbrw.woff?raw=true') format('woff');\n",
       "}\n",
       "\n",
       "@font-face {\n",
       "  font-family: \"Estrangelo Edessa\";\n",
       "  src: local('Estrangelo Edessa'), local('EstrangeloEdessa');\n",
       "    url('/browser/static/fonts/SyrCOMEdessa.woff') format('woff'),\n",
       "    url('https://github.com/annotation/text-fabric/blob/master/tf/browser/static/fonts/SyrCOMEdessa.woff?raw=true') format('woff');\n",
       "}\n",
       "\n",
       "@font-face {\n",
       "  font-family: AmiriQuran;\n",
       "  font-style: normal;\n",
       "  font-weight: 400;\n",
       "  src: local('Amiri Quran'), local('AmiriQuran'),\n",
       "    url('/browser/static/fonts/AmiriQuran.woff') format('woff'),\n",
       "    url('https://github.com/annotation/text-fabric/blob/master/tf/browser/static/fonts/AmiriQuran.woff?raw=true') format('woff');\n",
       "}\n",
       "\n",
       "@font-face {\n",
       "  font-family: AmiriQuranColored;\n",
       "  font-style: normal;\n",
       "  font-weight: 400;\n",
       "  src: local('Amiri Quran Colored'), local('AmiriQuranColored'),\n",
       "    url('/browser/static/fonts/AmiriQuranColored.woff') format('woff'),\n",
       "    url('https://github.com/annotation/text-fabric/blob/master/tf/browser/static/fonts/AmiriQuranColored.woff?raw=true') format('woff');\n",
       "}\n",
       "\n",
       "@font-face {\n",
       "  font-family: \"Santakku\";\n",
       "  src: local('Santakku'),\n",
       "    url('/browser/static/fonts/Santakku.woff') format('woff'),\n",
       "    url('https://github.com/annotation/text-fabric/blob/master/tf/browser/static/fonts/Santakku.woff?raw=true') format('woff');\n",
       "}\n",
       "\n",
       "@font-face {\n",
       "  font-family: \"SantakkuM\";\n",
       "  src: local('SantakkuM'),\n",
       "    url('/browser/static/fonts/SantakkuM.woff') format('woff'),\n",
       "    url('https://github.com/annotation/text-fabric/blob/master/tf/browser/static/fonts/SantakkuM.woff?raw=true') format('woff');\n",
       "}\n",
       "/* bypassing some classical notebook settings */\n",
       "div#notebook {\n",
       "  line-height: unset;\n",
       "}\n",
       "/* neutral text */\n",
       ".txtn,.txtn a:visited,.txtn a:link {\n",
       "    font-family: sans-serif;\n",
       "    font-size: medium;\n",
       "    direction: ltr;\n",
       "    unicode-bidi: embed;\n",
       "    text-decoration: none;\n",
       "    color: var(--text-color);\n",
       "}\n",
       "/* transcription text */\n",
       ".txtt,.txtt a:visited,.txtt a:link {\n",
       "    font-family: monospace;\n",
       "    font-size: medium;\n",
       "    direction: ltr;\n",
       "    unicode-bidi: embed;\n",
       "    text-decoration: none;\n",
       "    color: var(--text-color);\n",
       "}\n",
       "/* source text */\n",
       ".txto,.txto a:visited,.txto a:link {\n",
       "    font-family: serif;\n",
       "    font-size: medium;\n",
       "    direction: ltr;\n",
       "    unicode-bidi: embed;\n",
       "    text-decoration: none;\n",
       "    color: var(--text-color);\n",
       "}\n",
       "/* phonetic text */\n",
       ".txtp,.txtp a:visited,.txtp a:link {\n",
       "    font-family: Gentium, sans-serif;\n",
       "    font-size: medium;\n",
       "    direction: ltr;\n",
       "    unicode-bidi: embed;\n",
       "    text-decoration: none;\n",
       "    color: var(--text-color);\n",
       "}\n",
       "/* original script text */\n",
       ".txtu,.txtu a:visited,.txtu a:link {\n",
       "    font-family: Gentium, sans-serif;\n",
       "    font-size: medium;\n",
       "    text-decoration: none;\n",
       "    color: var(--text-color);\n",
       "}\n",
       "/* hebrew */\n",
       ".txtu.hbo,.lex.hbo {\n",
       "    font-family: \"Ezra SIL\", \"SBL Hebrew\", sans-serif;\n",
       "    font-size: large;\n",
       "    direction: rtl ! important;\n",
       "    unicode-bidi: embed;\n",
       "}\n",
       "/* syriac */\n",
       ".txtu.syc,.lex.syc {\n",
       "    font-family: \"Estrangelo Edessa\", sans-serif;\n",
       "    font-size: medium;\n",
       "    direction: rtl ! important;\n",
       "    unicode-bidi: embed;\n",
       "}\n",
       "/* neo aramaic */\n",
       ".txtu.cld,.lex.cld {\n",
       "    font-family: \"CharisSIL-R\", sans-serif;\n",
       "    font-size: medium;\n",
       "    direction: ltr ! important;\n",
       "    unicode-bidi: embed;\n",
       "}\n",
       "/* standard arabic */\n",
       ".txtu.ara,.lex.ara {\n",
       "    font-family: \"AmiriQuran\", sans-serif;\n",
       "    font-size: large;\n",
       "    direction: rtl ! important;\n",
       "    unicode-bidi: embed;\n",
       "}\n",
       "/* cuneiform */\n",
       ".txtu.akk,.lex.akk {\n",
       "    font-family: Santakku, sans-serif;\n",
       "    font-size: large;\n",
       "    direction: ltr ! important;\n",
       "    unicode-bidi: embed;\n",
       "}\n",
       "/* greek */\n",
       ".txtu.grc,.lex.grc a:link {\n",
       "    font-family: Gentium, sans-serif;\n",
       "    font-size: medium;\n",
       "    direction: ltr ! important;\n",
       "    unicode-bidi: embed;\n",
       "}\n",
       "a:hover {\n",
       "    text-decoration: underline | important;\n",
       "    color: #0000ff | important;\n",
       "}\n",
       ".ltr {\n",
       "    direction: ltr ! important;\n",
       "    unicode-bidi: embed;\n",
       "}\n",
       ".rtl {\n",
       "    direction: rtl ! important;\n",
       "    unicode-bidi: embed;\n",
       "}\n",
       ".ubd {\n",
       "    unicode-bidi: embed;\n",
       "}\n",
       ".col {\n",
       "   display: inline-block;\n",
       "}\n",
       ".features {\n",
       "    font-family: monospace;\n",
       "    font-size: medium;\n",
       "    font-weight: bold;\n",
       "    color: var(--features);\n",
       "    display: flex;\n",
       "    flex-flow: column nowrap;\n",
       "    justify-content: flex-start;\n",
       "    align-items: flex-start;\n",
       "    align-content: flex-start;\n",
       "    padding: 2px;\n",
       "    margin: 2px;\n",
       "    direction: ltr;\n",
       "    unicode-bidi: embed;\n",
       "    border: var(--meta-width) solid var(--meta-color);\n",
       "    border-radius: var(--meta-width);\n",
       "}\n",
       ".features div,.features span {\n",
       "    padding: 0;\n",
       "    margin: -2px 0;\n",
       "}\n",
       ".features .f {\n",
       "    font-family: sans-serif;\n",
       "    font-size: small;\n",
       "    font-weight: normal;\n",
       "    color: #5555bb;\n",
       "}\n",
       ".features .xft {\n",
       "  color: #000000;\n",
       "  background-color: #eeeeee;\n",
       "  font-size: medium;\n",
       "  margin: 2px 0px;\n",
       "}\n",
       ".features .xft .f {\n",
       "  color: #000000;\n",
       "  background-color: #eeeeee;\n",
       "  font-size: small;\n",
       "  font-weight: normal;\n",
       "}\n",
       ".tfsechead {\n",
       "    font-family: sans-serif;\n",
       "    font-size: small;\n",
       "    font-weight: bold;\n",
       "    color: var(--tfsechead);\n",
       "    unicode-bidi: embed;\n",
       "    text-align: start;\n",
       "}\n",
       ".structure {\n",
       "    font-family: sans-serif;\n",
       "    font-size: small;\n",
       "    font-weight: bold;\n",
       "    color: var(--structure);\n",
       "    unicode-bidi: embed;\n",
       "    text-align: start;\n",
       "}\n",
       ".comments {\n",
       "    display: flex;\n",
       "    justify-content: flex-start;\n",
       "    align-items: flex-start;\n",
       "    align-content: flex-start;\n",
       "    flex-flow: column nowrap;\n",
       "}\n",
       ".nd, a:link.nd {\n",
       "    font-family: sans-serif;\n",
       "    font-size: small;\n",
       "    color: var(--node);\n",
       "    vertical-align: super;\n",
       "    direction: ltr ! important;\n",
       "    unicode-bidi: embed;\n",
       "}\n",
       ".nde, a:link.nde {\n",
       "    font-family: sans-serif;\n",
       "    font-size: small;\n",
       "    color: var(--node);\n",
       "    direction: ltr ! important;\n",
       "    unicode-bidi: embed;\n",
       "}\n",
       ".etf {\n",
       "    font-size: normal;\n",
       "    border-radius: 0.2rem;\n",
       "    border: 1pt solid white;\n",
       "    padding: 0 0.2rem ! important;\n",
       "    margin: 0 0.2rem ! important;\n",
       "}\n",
       ".etfx {\n",
       "    font-size: x-large;\n",
       "}\n",
       ".lex {\n",
       "  color: var(--lex-color);;\n",
       "}\n",
       "#colormapplus, #colormapmin, .ecolormapmin {\n",
       "  font-weight: bold;\n",
       "  border-radius: 0.1rem;\n",
       "  background-color: #eeeeff;\n",
       "  padding: 0 1rem;\n",
       "  margin: 0 1rem;\n",
       "}\n",
       ".clr {\n",
       "  font-style: italic;\n",
       "  font-size: small;\n",
       "}\n",
       ".clmap,.eclmap {\n",
       "  padding: 0;\n",
       "}\n",
       ".children,.children.ltr {\n",
       "    display: flex;\n",
       "    border: 0;\n",
       "    background-color: #ffffff;\n",
       "    justify-content: flex-start;\n",
       "    align-items: flex-start;\n",
       "    align-content: flex-start;\n",
       "}\n",
       ".children.stretch {\n",
       "    align-items: stretch;\n",
       "}\n",
       ".children.hor {\n",
       "    flex-flow: row nowrap;\n",
       "}\n",
       ".children.hor.wrap {\n",
       "    flex-flow: row wrap;\n",
       "}\n",
       ".children.ver {\n",
       "    flex-flow: column nowrap;\n",
       "}\n",
       ".children.ver.wrap {\n",
       "    flex-flow: column wrap;\n",
       "}\n",
       ".contnr {\n",
       "    width: fit-content;\n",
       "    display: flex;\n",
       "    justify-content: flex-start;\n",
       "    align-items: flex-start;\n",
       "    align-content: flex-start;\n",
       "    flex-flow: column nowrap;\n",
       "    background: #ffffff none repeat scroll 0 0;\n",
       "    padding:  10px 2px 2px 2px;\n",
       "    margin: 16px 2px 2px 2px;\n",
       "    border-style: solid;\n",
       "    font-size: small;\n",
       "}\n",
       ".contnr.trm {\n",
       "    background-attachment: local;\n",
       "}\n",
       ".contnr.cnul {\n",
       "    padding:  0;\n",
       "    margin: 0;\n",
       "    border-style: solid;\n",
       "    font-size: xx-small;\n",
       "}\n",
       ".contnr.cnul,.lbl.cnul {\n",
       "    border-color: var(--border-color-nul);\n",
       "    border-width: var(--border-width-nul);\n",
       "    border-radius: var(--border-width-nul);\n",
       "}\n",
       ".contnr.c0,.lbl.c0 {\n",
       "    border-color: var(--border-color0);\n",
       "    border-width: var(--border-width0);\n",
       "    border-radius: var(--border-width0);\n",
       "}\n",
       ".contnr.c1,.lbl.c1 {\n",
       "    border-color: var(--border-color1);\n",
       "    border-width: var(--border-width1);\n",
       "    border-radius: var(--border-width1);\n",
       "}\n",
       ".contnr.c2,.lbl.c2 {\n",
       "    border-color: var(--border-color2);\n",
       "    border-width: var(--border-width2);\n",
       "    border-radius: var(--border-width2);\n",
       "}\n",
       ".contnr.c3,.lbl.c3 {\n",
       "    border-color: var(--border-color3);\n",
       "    border-width: var(--border-width3);\n",
       "    border-radius: var(--border-width3);\n",
       "}\n",
       ".contnr.c4,.lbl.c4 {\n",
       "    border-color: var(--border-color4);\n",
       "    border-width: var(--border-width4);\n",
       "    border-radius: var(--border-width4);\n",
       "}\n",
       "span.plain {\n",
       "    /*display: inline-block;*/\n",
       "    display: inline-flex;\n",
       "    flex-flow: row wrap;\n",
       "    white-space: pre-wrap;\n",
       "}\n",
       "span.break {\n",
       "  flex-basis: 100%;\n",
       "  height: 0;\n",
       "}\n",
       ".plain {\n",
       "    background-color: #ffffff;\n",
       "}\n",
       ".plain.l,.contnr.l,.contnr.l>.lbl {\n",
       "    border-left-style: dotted\n",
       "}\n",
       ".plain.r,.contnr.r,.contnr.r>.lbl {\n",
       "    border-right-style: dotted\n",
       "}\n",
       ".plain.lno,.contnr.lno,.contnr.lno>.lbl {\n",
       "    border-left-style: none\n",
       "}\n",
       ".plain.rno,.contnr.rno,.contnr.rno>.lbl {\n",
       "    border-right-style: none\n",
       "}\n",
       ".plain.l {\n",
       "    padding-left: 4px;\n",
       "    margin-left: 2px;\n",
       "    border-width: var(--border-width-plain);\n",
       "}\n",
       ".plain.r {\n",
       "    padding-right: 4px;\n",
       "    margin-right: 2px;\n",
       "    border-width: var(--border-width-plain);\n",
       "}\n",
       ".lbl {\n",
       "    font-family: monospace;\n",
       "    margin-top: -24px;\n",
       "    margin-left: 20px;\n",
       "    background: #ffffff none repeat scroll 0 0;\n",
       "    padding: 0 6px;\n",
       "    border-style: solid;\n",
       "    display: block;\n",
       "    color: var(--label)\n",
       "}\n",
       ".lbl.trm {\n",
       "    background-attachment: local;\n",
       "    margin-top: 2px;\n",
       "    margin-left: 2px;\n",
       "    padding: 2px 2px;\n",
       "    border-style: none;\n",
       "}\n",
       ".lbl.cnul {\n",
       "    font-size: xx-small;\n",
       "}\n",
       ".lbl.c0 {\n",
       "    font-size: small;\n",
       "}\n",
       ".lbl.c1 {\n",
       "    font-size: small;\n",
       "}\n",
       ".lbl.c2 {\n",
       "    font-size: medium;\n",
       "}\n",
       ".lbl.c3 {\n",
       "    font-size: medium;\n",
       "}\n",
       ".lbl.c4 {\n",
       "    font-size: large;\n",
       "}\n",
       ".occs, a:link.occs {\n",
       "    font-size: small;\n",
       "}\n",
       "\n",
       "/* PROVENANCE */\n",
       "\n",
       "div.prov {\n",
       "\tmargin: 40px;\n",
       "\tpadding: 20px;\n",
       "\tborder: 2px solid var(--fog-rim);\n",
       "}\n",
       "div.pline {\n",
       "\tdisplay: flex;\n",
       "\tflex-flow: row nowrap;\n",
       "\tjustify-content: stretch;\n",
       "\talign-items: baseline;\n",
       "}\n",
       "div.p2line {\n",
       "\tmargin-left: 2em;\n",
       "\tdisplay: flex;\n",
       "\tflex-flow: row nowrap;\n",
       "\tjustify-content: stretch;\n",
       "\talign-items: baseline;\n",
       "}\n",
       "div.psline {\n",
       "\tdisplay: flex;\n",
       "\tflex-flow: row nowrap;\n",
       "\tjustify-content: stretch;\n",
       "\talign-items: baseline;\n",
       "\tbackground-color: var(--gold-mist-back);\n",
       "}\n",
       "div.pname {\n",
       "\tflex: 0 0 5rem;\n",
       "\tfont-weight: bold;\n",
       "}\n",
       "div.pval {\n",
       "    flex: 1 1 auto;\n",
       "}\n",
       "\n",
       "/* KEYBOARD */\n",
       ".ccoff {\n",
       "  background-color: inherit;\n",
       "}\n",
       ".ccon {\n",
       "  background-color: yellow ! important;\n",
       "}\n",
       ".ccon,.ccoff {\n",
       "  padding: 0.2rem;\n",
       "  margin: 0.2rem;\n",
       "  border: 0.1rem solid var(--letter-box-border);\n",
       "  border-radius: 0.1rem;\n",
       "}\n",
       ".ccline {\n",
       "  font-size: xx-large ! important;\n",
       "  font-weight: bold;\n",
       "  line-height: 2em ! important;\n",
       "}\n",
       "/* TF header */\n",
       "\n",
       "summary {\n",
       "  /* needed to override the normalize.less\n",
       "   * in the classical Jupyter Notebook\n",
       "   */\n",
       "  display: list-item ! important;\n",
       "}\n",
       "\n",
       ".fcorpus {\n",
       "  display: flex;\n",
       "  flex-flow: column nowrap;\n",
       "  justify-content: flex-start;\n",
       "  align-items: flex-start;\n",
       "  align-content: flex-start;\n",
       "  overflow: auto;\n",
       "}\n",
       ".frow {\n",
       "  display: flex;\n",
       "  flex-flow: row nowrap;\n",
       "  justify-content: flex-start;\n",
       "  align-items: flex-start;\n",
       "  align-content: flex-start;\n",
       "}\n",
       ".fmeta {\n",
       "  display: flex;\n",
       "  flex-flow: column nowrap;\n",
       "  justify-content: flex-start;\n",
       "  align-items: flex-start;\n",
       "  align-content: flex-start;\n",
       "}\n",
       ".fmetarow {\n",
       "  display: flex;\n",
       "  flex-flow: row nowrap;\n",
       "  justify-content: flex-start;\n",
       "  align-items: flex-start;\n",
       "  align-content: flex-start;\n",
       "}\n",
       ".fmetakey {\n",
       "  min-width: 8em;\n",
       "  font-family: monospace;\n",
       "}\n",
       ".fnamecat {\n",
       "  min-width: 8em;\n",
       "}\n",
       ".fnamecat.edge {\n",
       "  font-weight: bold;\n",
       "  font-style: italic;\n",
       "}\n",
       ".fmono {\n",
       "    font-family: monospace;\n",
       "}\n",
       "\n",
       ":root {\n",
       "\t--node:               hsla(120, 100%,  20%, 1.0  );\n",
       "\t--label:              hsla(  0, 100%,  20%, 1.0  );\n",
       "\t--tfsechead:          hsla(  0, 100%,  25%, 1.0  );\n",
       "\t--structure:          hsla(120, 100%,  25%, 1.0  );\n",
       "\t--features:           hsla(  0,   0%,  30%, 1.0  );\n",
       "  --text-color:         hsla( 60,  80%,  10%, 1.0  );\n",
       "  --lex-color:          hsla(220,  90%,  60%, 1.0  );\n",
       "  --meta-color:         hsla(  0,   0%,  90%, 0.7  );\n",
       "  --meta-width:         3px;\n",
       "  --border-color-nul:   hsla(  0,   0%,  90%, 0.5  );\n",
       "  --border-color0:      hsla(  0,   0%,  90%, 0.9  );\n",
       "  --border-color1:      hsla(  0,   0%,  80%, 0.9  );\n",
       "  --border-color2:      hsla(  0,   0%,  70%, 0.9  );\n",
       "  --border-color3:      hsla(  0,   0%,  80%, 0.8  );\n",
       "  --border-color4:      hsla(  0,   0%,  60%, 0.9  );\n",
       "\t--letter-box-border:  hsla(  0,   0%,  80%, 0.5  );\n",
       "  --border-width-nul:   2px;\n",
       "  --border-width0:      2px;\n",
       "  --border-width1:      3px;\n",
       "  --border-width2:      4px;\n",
       "  --border-width3:      6px;\n",
       "  --border-width4:      5px;\n",
       "  --border-width-plain: 2px;\n",
       "}\n",
       ".hl {\n",
       "  background-color: var(--hl-strong);\n",
       "}\n",
       "span.hl {\n",
       "\tbackground-color: var(--hl-strong);\n",
       "\tborder-width: 0;\n",
       "\tborder-radius: 2px;\n",
       "\tborder-style: solid;\n",
       "}\n",
       "div.contnr.hl,div.lbl.hl {\n",
       "  background-color: var(--hl-strong);\n",
       "}\n",
       "div.contnr.hl {\n",
       "  border-color: var(--hl-rim) ! important;\n",
       "\tborder-width: 4px ! important;\n",
       "}\n",
       "\n",
       "span.hlbx {\n",
       "\tborder-color: var(--hl-rim);\n",
       "\tborder-width: 4px ! important;\n",
       "\tborder-style: solid;\n",
       "\tborder-radius: 6px;\n",
       "  padding: 4px;\n",
       "  margin: 4px;\n",
       "}\n",
       ".ehl {\n",
       "  background-color: var(--ehl-strong);\n",
       "}\n",
       "\n",
       ":root {\n",
       "\t--hl-strong:        hsla( 60, 100%,  70%, 0.9  );\n",
       "\t--hl-rim:           hsla( 55,  80%,  50%, 1.0  );\n",
       "\t--ehl-strong:       hsla(240, 100%,  70%, 0.9  );\n",
       "}\n",
       "</style>"
      ],
      "text/plain": [
       "<IPython.core.display.HTML object>"
      ]
     },
     "metadata": {},
     "output_type": "display_data"
    },
    {
     "data": {
      "text/html": [
       "\n",
       "<script>\n",
       "globalThis.copyChar = (el, c) => {\n",
       "    for (const el of document.getElementsByClassName('ccon')) {\n",
       "        el.className = 'ccoff'\n",
       "    }\n",
       "    el.className = 'ccon'\n",
       "    navigator.clipboard.writeText(String.fromCharCode(c))\n",
       "}\n",
       "</script>\n"
      ],
      "text/plain": [
       "<IPython.core.display.HTML object>"
      ]
     },
     "metadata": {},
     "output_type": "display_data"
    },
    {
     "data": {
      "text/html": [
       "<div><b>TF API:</b> names <a target=\"_blank\" href=\"https://annotation.github.io/text-fabric/tf/cheatsheet.html\" title=\"doc\">N F E L T S C TF Fs Fall Es Eall Cs Call</a> directly usable</div><hr>"
      ],
      "text/plain": [
       "<IPython.core.display.HTML object>"
      ]
     },
     "metadata": {},
     "output_type": "display_data"
    }
   ],
   "source": [
    "A = use('ETCBC/bhsa', hoist=globals())"
   ]
  },
  {
   "cell_type": "markdown",
   "metadata": {},
   "source": [
    "# Basic search command\n",
    "\n",
    "We start with the most simple form of issuing a query.\n",
    "Let's look for the proper nouns in 1 Samuel.\n",
    "We also want to show the clauses in which they occur.\n",
    "\n",
    "All work involved in searching takes place under the hood."
   ]
  },
  {
   "cell_type": "code",
   "execution_count": 4,
   "metadata": {
    "ExecuteTime": {
     "end_time": "2018-05-24T07:46:55.998382Z",
     "start_time": "2018-05-24T07:46:55.137956Z"
    }
   },
   "outputs": [
    {
     "name": "stdout",
     "output_type": "stream",
     "text": [
      "  0.21s 1868 results\n"
     ]
    }
   ],
   "source": [
    "query = \"\"\"\n",
    "book book=Samuel_I\n",
    "  clause\n",
    "    word sp=nmpr\n",
    "\"\"\"\n",
    "results = A.search(query)"
   ]
  },
  {
   "cell_type": "markdown",
   "metadata": {},
   "source": [
    "We have the results. We only need to display them. Here are the first few in a table:"
   ]
  },
  {
   "cell_type": "code",
   "execution_count": 5,
   "metadata": {
    "ExecuteTime": {
     "end_time": "2018-05-24T07:46:55.998382Z",
     "start_time": "2018-05-24T07:46:55.137956Z"
    }
   },
   "outputs": [
    {
     "data": {
      "text/html": [
       "<table><tr class=\"tf rtl\"><th class=\"tf rtl\">n</th><th class=\"tf rtl\">p</th><th class=\"tf rtl\">book</th><th class=\"tf\">clause</th><th class=\"tf\">word</th></tr>\n",
       "<tr class=\"tf rtl\"><td class=\"tf rtl\">1</td><td class=\"tf rtl\"><span class=\"tfsechead rtl\"><span class=\"ltr\"><a target=\"_blank\" href=\"https://shebanq.ancient-data.org/hebrew/text?book=Samuel_I&amp;chapter=1&amp;verse=1&amp;version=2021&amp;mr=m&amp;qw=q&amp;tp=txt_p&amp;tr=hb&amp;wget=v&amp;qget=v&amp;nget=vt\" title=\"Show this on SHEBANQ\" sec=\"1_Samuel 1:1\">1_Samuel 1:1</a></span></span></td><td class=\"tf rtl\"><span class=\"rtl ubd\"><span class=\"txtu hbo rtl\"><span class=\"tfsechead rtl\"><span class=\"ltr\">1_Samuel</span></span></span></span></td><td class=\"tf rtl\"><span class=\"rtl ubd\"><span class=\"plain rtl  hlbx\" ><span class=\"txtu hbo\">וַ</span><span class=\"txtu hbo\">יְהִי֩ </span><span class=\"txtu hbo\">אִ֨ישׁ </span><span class=\"txtu hbo\">אֶחָ֜ד </span><span class=\"txtu hbo\">מִן־</span><span class=\"txtu hbo\">הָ</span><span class=\"txtu hbo\">רָמָתַ֛יִם </span><span class=\"txtu hbo\">צֹופִ֖ים </span><span class=\"txtu hbo\">מֵ</span><span class=\"txtu hbo\">הַ֣ר </span><span class=\"plain rtl  hl\" ><span class=\"txtu hbo\">אֶפְרָ֑יִם </span></span></span></span></td><td class=\"tf rtl\"><span class=\"rtl ubd\"><span class=\"plain rtl  hl\" ><span class=\"txtu hbo\">אֶפְרָ֑יִם </span></span></span></td></tr>\n",
       "<tr class=\"tf rtl\"><td class=\"tf rtl\">2</td><td class=\"tf rtl\"><span class=\"tfsechead rtl\"><span class=\"ltr\"><a target=\"_blank\" href=\"https://shebanq.ancient-data.org/hebrew/text?book=Samuel_I&amp;chapter=1&amp;verse=1&amp;version=2021&amp;mr=m&amp;qw=q&amp;tp=txt_p&amp;tr=hb&amp;wget=v&amp;qget=v&amp;nget=vt\" title=\"Show this on SHEBANQ\" sec=\"1_Samuel 1:1\">1_Samuel 1:1</a></span></span></td><td class=\"tf rtl\"><span class=\"rtl ubd\"><span class=\"txtu hbo rtl\"><span class=\"tfsechead rtl\"><span class=\"ltr\">1_Samuel</span></span></span></span></td><td class=\"tf rtl\"><span class=\"rtl ubd\"><span class=\"plain rtl  hlbx\" ><span class=\"txtu hbo\">וּ</span><span class=\"txtu hbo\">שְׁמֹ֡ו </span><span class=\"plain rtl  hl\" ><span class=\"txtu hbo\">אֶ֠לְקָנָה </span></span><span class=\"txtu hbo\">בֶּן־</span><span class=\"txtu hbo\">יְרֹחָ֧ם </span><span class=\"txtu hbo\">בֶּן־</span><span class=\"txtu hbo\">אֱלִיה֛וּא </span><span class=\"txtu hbo\">בֶּן־</span><span class=\"txtu hbo\">תֹּ֥חוּ </span><span class=\"txtu hbo\">בֶן־</span><span class=\"txtu hbo\">צ֖וּף </span><span class=\"txtu hbo\">אֶפְרָתִֽי׃ </span></span></span></td><td class=\"tf rtl\"><span class=\"rtl ubd\"><span class=\"plain rtl  hl\" ><span class=\"txtu hbo\">אֶ֠לְקָנָה </span></span></span></td></tr>\n",
       "<tr class=\"tf rtl\"><td class=\"tf rtl\">3</td><td class=\"tf rtl\"><span class=\"tfsechead rtl\"><span class=\"ltr\"><a target=\"_blank\" href=\"https://shebanq.ancient-data.org/hebrew/text?book=Samuel_I&amp;chapter=1&amp;verse=1&amp;version=2021&amp;mr=m&amp;qw=q&amp;tp=txt_p&amp;tr=hb&amp;wget=v&amp;qget=v&amp;nget=vt\" title=\"Show this on SHEBANQ\" sec=\"1_Samuel 1:1\">1_Samuel 1:1</a></span></span></td><td class=\"tf rtl\"><span class=\"rtl ubd\"><span class=\"txtu hbo rtl\"><span class=\"tfsechead rtl\"><span class=\"ltr\">1_Samuel</span></span></span></span></td><td class=\"tf rtl\"><span class=\"rtl ubd\"><span class=\"plain rtl  hlbx\" ><span class=\"txtu hbo\">וּ</span><span class=\"txtu hbo\">שְׁמֹ֡ו </span><span class=\"txtu hbo\">אֶ֠לְקָנָה </span><span class=\"txtu hbo\">בֶּן־</span><span class=\"plain rtl  hl\" ><span class=\"txtu hbo\">יְרֹחָ֧ם </span></span><span class=\"txtu hbo\">בֶּן־</span><span class=\"txtu hbo\">אֱלִיה֛וּא </span><span class=\"txtu hbo\">בֶּן־</span><span class=\"txtu hbo\">תֹּ֥חוּ </span><span class=\"txtu hbo\">בֶן־</span><span class=\"txtu hbo\">צ֖וּף </span><span class=\"txtu hbo\">אֶפְרָתִֽי׃ </span></span></span></td><td class=\"tf rtl\"><span class=\"rtl ubd\"><span class=\"plain rtl  hl\" ><span class=\"txtu hbo\">יְרֹחָ֧ם </span></span></span></td></tr></table>"
      ],
      "text/plain": [
       "<IPython.core.display.HTML object>"
      ]
     },
     "metadata": {},
     "output_type": "display_data"
    }
   ],
   "source": [
    "A.table(results, end=3)"
   ]
  },
  {
   "cell_type": "markdown",
   "metadata": {},
   "source": [
    "The hyperlinks in the `p` column point to SHEBANQ, to the verse most relevant to the individual results.\n",
    "\n",
    "The columns with the book is not very informative. We can leave it out.\n",
    "You can leave columns out by passing `skipCols=xxx` where `xxx` is a set of numbers, which may also be passed as\n",
    "a space-separated string of numbers.\n",
    "\n",
    "Note that the book column is the first column (starting after the `p` column, counting starts at 1)."
   ]
  },
  {
   "cell_type": "code",
   "execution_count": 6,
   "metadata": {
    "ExecuteTime": {
     "end_time": "2018-05-24T07:46:55.998382Z",
     "start_time": "2018-05-24T07:46:55.137956Z"
    }
   },
   "outputs": [
    {
     "data": {
      "text/html": [
       "<table><tr class=\"tf rtl\"><th class=\"tf rtl\">n</th><th class=\"tf rtl\">p</th><th class=\"tf rtl\">book</th><th class=\"tf\">clause</th><th class=\"tf\">word</th></tr>\n",
       "<tr class=\"tf rtl\"><td class=\"tf rtl\">1</td><td class=\"tf rtl\"><span class=\"tfsechead rtl\"><span class=\"ltr\"><a target=\"_blank\" href=\"https://shebanq.ancient-data.org/hebrew/text?book=Samuel_I&amp;chapter=1&amp;verse=1&amp;version=2021&amp;mr=m&amp;qw=q&amp;tp=txt_p&amp;tr=hb&amp;wget=v&amp;qget=v&amp;nget=vt\" title=\"Show this on SHEBANQ\" sec=\"1_Samuel 1:1\">1_Samuel 1:1</a></span></span></td><td class=\"tf rtl\"></td><td class=\"tf rtl\"><span class=\"rtl ubd\"><span class=\"plain rtl  hlbx\" ><span class=\"txtu hbo\">וַ</span><span class=\"txtu hbo\">יְהִי֩ </span><span class=\"txtu hbo\">אִ֨ישׁ </span><span class=\"txtu hbo\">אֶחָ֜ד </span><span class=\"txtu hbo\">מִן־</span><span class=\"txtu hbo\">הָ</span><span class=\"txtu hbo\">רָמָתַ֛יִם </span><span class=\"txtu hbo\">צֹופִ֖ים </span><span class=\"txtu hbo\">מֵ</span><span class=\"txtu hbo\">הַ֣ר </span><span class=\"plain rtl  hl\" ><span class=\"txtu hbo\">אֶפְרָ֑יִם </span></span></span></span></td><td class=\"tf rtl\"><span class=\"rtl ubd\"><span class=\"plain rtl  hl\" ><span class=\"txtu hbo\">אֶפְרָ֑יִם </span></span></span></td></tr>\n",
       "<tr class=\"tf rtl\"><td class=\"tf rtl\">2</td><td class=\"tf rtl\"><span class=\"tfsechead rtl\"><span class=\"ltr\"><a target=\"_blank\" href=\"https://shebanq.ancient-data.org/hebrew/text?book=Samuel_I&amp;chapter=1&amp;verse=1&amp;version=2021&amp;mr=m&amp;qw=q&amp;tp=txt_p&amp;tr=hb&amp;wget=v&amp;qget=v&amp;nget=vt\" title=\"Show this on SHEBANQ\" sec=\"1_Samuel 1:1\">1_Samuel 1:1</a></span></span></td><td class=\"tf rtl\"></td><td class=\"tf rtl\"><span class=\"rtl ubd\"><span class=\"plain rtl  hlbx\" ><span class=\"txtu hbo\">וּ</span><span class=\"txtu hbo\">שְׁמֹ֡ו </span><span class=\"plain rtl  hl\" ><span class=\"txtu hbo\">אֶ֠לְקָנָה </span></span><span class=\"txtu hbo\">בֶּן־</span><span class=\"txtu hbo\">יְרֹחָ֧ם </span><span class=\"txtu hbo\">בֶּן־</span><span class=\"txtu hbo\">אֱלִיה֛וּא </span><span class=\"txtu hbo\">בֶּן־</span><span class=\"txtu hbo\">תֹּ֥חוּ </span><span class=\"txtu hbo\">בֶן־</span><span class=\"txtu hbo\">צ֖וּף </span><span class=\"txtu hbo\">אֶפְרָתִֽי׃ </span></span></span></td><td class=\"tf rtl\"><span class=\"rtl ubd\"><span class=\"plain rtl  hl\" ><span class=\"txtu hbo\">אֶ֠לְקָנָה </span></span></span></td></tr>\n",
       "<tr class=\"tf rtl\"><td class=\"tf rtl\">3</td><td class=\"tf rtl\"><span class=\"tfsechead rtl\"><span class=\"ltr\"><a target=\"_blank\" href=\"https://shebanq.ancient-data.org/hebrew/text?book=Samuel_I&amp;chapter=1&amp;verse=1&amp;version=2021&amp;mr=m&amp;qw=q&amp;tp=txt_p&amp;tr=hb&amp;wget=v&amp;qget=v&amp;nget=vt\" title=\"Show this on SHEBANQ\" sec=\"1_Samuel 1:1\">1_Samuel 1:1</a></span></span></td><td class=\"tf rtl\"></td><td class=\"tf rtl\"><span class=\"rtl ubd\"><span class=\"plain rtl  hlbx\" ><span class=\"txtu hbo\">וּ</span><span class=\"txtu hbo\">שְׁמֹ֡ו </span><span class=\"txtu hbo\">אֶ֠לְקָנָה </span><span class=\"txtu hbo\">בֶּן־</span><span class=\"plain rtl  hl\" ><span class=\"txtu hbo\">יְרֹחָ֧ם </span></span><span class=\"txtu hbo\">בֶּן־</span><span class=\"txtu hbo\">אֱלִיה֛וּא </span><span class=\"txtu hbo\">בֶּן־</span><span class=\"txtu hbo\">תֹּ֥חוּ </span><span class=\"txtu hbo\">בֶן־</span><span class=\"txtu hbo\">צ֖וּף </span><span class=\"txtu hbo\">אֶפְרָתִֽי׃ </span></span></span></td><td class=\"tf rtl\"><span class=\"rtl ubd\"><span class=\"plain rtl  hl\" ><span class=\"txtu hbo\">יְרֹחָ֧ם </span></span></span></td></tr>\n",
       "<tr class=\"tf rtl\"><td class=\"tf rtl\">4</td><td class=\"tf rtl\"><span class=\"tfsechead rtl\"><span class=\"ltr\"><a target=\"_blank\" href=\"https://shebanq.ancient-data.org/hebrew/text?book=Samuel_I&amp;chapter=1&amp;verse=1&amp;version=2021&amp;mr=m&amp;qw=q&amp;tp=txt_p&amp;tr=hb&amp;wget=v&amp;qget=v&amp;nget=vt\" title=\"Show this on SHEBANQ\" sec=\"1_Samuel 1:1\">1_Samuel 1:1</a></span></span></td><td class=\"tf rtl\"></td><td class=\"tf rtl\"><span class=\"rtl ubd\"><span class=\"plain rtl  hlbx\" ><span class=\"txtu hbo\">וּ</span><span class=\"txtu hbo\">שְׁמֹ֡ו </span><span class=\"txtu hbo\">אֶ֠לְקָנָה </span><span class=\"txtu hbo\">בֶּן־</span><span class=\"txtu hbo\">יְרֹחָ֧ם </span><span class=\"txtu hbo\">בֶּן־</span><span class=\"plain rtl  hl\" ><span class=\"txtu hbo\">אֱלִיה֛וּא </span></span><span class=\"txtu hbo\">בֶּן־</span><span class=\"txtu hbo\">תֹּ֥חוּ </span><span class=\"txtu hbo\">בֶן־</span><span class=\"txtu hbo\">צ֖וּף </span><span class=\"txtu hbo\">אֶפְרָתִֽי׃ </span></span></span></td><td class=\"tf rtl\"><span class=\"rtl ubd\"><span class=\"plain rtl  hl\" ><span class=\"txtu hbo\">אֱלִיה֛וּא </span></span></span></td></tr>\n",
       "<tr class=\"tf rtl\"><td class=\"tf rtl\">5</td><td class=\"tf rtl\"><span class=\"tfsechead rtl\"><span class=\"ltr\"><a target=\"_blank\" href=\"https://shebanq.ancient-data.org/hebrew/text?book=Samuel_I&amp;chapter=1&amp;verse=1&amp;version=2021&amp;mr=m&amp;qw=q&amp;tp=txt_p&amp;tr=hb&amp;wget=v&amp;qget=v&amp;nget=vt\" title=\"Show this on SHEBANQ\" sec=\"1_Samuel 1:1\">1_Samuel 1:1</a></span></span></td><td class=\"tf rtl\"></td><td class=\"tf rtl\"><span class=\"rtl ubd\"><span class=\"plain rtl  hlbx\" ><span class=\"txtu hbo\">וּ</span><span class=\"txtu hbo\">שְׁמֹ֡ו </span><span class=\"txtu hbo\">אֶ֠לְקָנָה </span><span class=\"txtu hbo\">בֶּן־</span><span class=\"txtu hbo\">יְרֹחָ֧ם </span><span class=\"txtu hbo\">בֶּן־</span><span class=\"txtu hbo\">אֱלִיה֛וּא </span><span class=\"txtu hbo\">בֶּן־</span><span class=\"plain rtl  hl\" ><span class=\"txtu hbo\">תֹּ֥חוּ </span></span><span class=\"txtu hbo\">בֶן־</span><span class=\"txtu hbo\">צ֖וּף </span><span class=\"txtu hbo\">אֶפְרָתִֽי׃ </span></span></span></td><td class=\"tf rtl\"><span class=\"rtl ubd\"><span class=\"plain rtl  hl\" ><span class=\"txtu hbo\">תֹּ֥חוּ </span></span></span></td></tr>\n",
       "<tr class=\"tf rtl\"><td class=\"tf rtl\">6</td><td class=\"tf rtl\"><span class=\"tfsechead rtl\"><span class=\"ltr\"><a target=\"_blank\" href=\"https://shebanq.ancient-data.org/hebrew/text?book=Samuel_I&amp;chapter=1&amp;verse=1&amp;version=2021&amp;mr=m&amp;qw=q&amp;tp=txt_p&amp;tr=hb&amp;wget=v&amp;qget=v&amp;nget=vt\" title=\"Show this on SHEBANQ\" sec=\"1_Samuel 1:1\">1_Samuel 1:1</a></span></span></td><td class=\"tf rtl\"></td><td class=\"tf rtl\"><span class=\"rtl ubd\"><span class=\"plain rtl  hlbx\" ><span class=\"txtu hbo\">וּ</span><span class=\"txtu hbo\">שְׁמֹ֡ו </span><span class=\"txtu hbo\">אֶ֠לְקָנָה </span><span class=\"txtu hbo\">בֶּן־</span><span class=\"txtu hbo\">יְרֹחָ֧ם </span><span class=\"txtu hbo\">בֶּן־</span><span class=\"txtu hbo\">אֱלִיה֛וּא </span><span class=\"txtu hbo\">בֶּן־</span><span class=\"txtu hbo\">תֹּ֥חוּ </span><span class=\"txtu hbo\">בֶן־</span><span class=\"plain rtl  hl\" ><span class=\"txtu hbo\">צ֖וּף </span></span><span class=\"txtu hbo\">אֶפְרָתִֽי׃ </span></span></span></td><td class=\"tf rtl\"><span class=\"rtl ubd\"><span class=\"plain rtl  hl\" ><span class=\"txtu hbo\">צ֖וּף </span></span></span></td></tr>\n",
       "<tr class=\"tf rtl\"><td class=\"tf rtl\">7</td><td class=\"tf rtl\"><span class=\"tfsechead rtl\"><span class=\"ltr\"><a target=\"_blank\" href=\"https://shebanq.ancient-data.org/hebrew/text?book=Samuel_I&amp;chapter=1&amp;verse=2&amp;version=2021&amp;mr=m&amp;qw=q&amp;tp=txt_p&amp;tr=hb&amp;wget=v&amp;qget=v&amp;nget=vt\" title=\"Show this on SHEBANQ\" sec=\"1_Samuel 1:2\">1_Samuel 1:2</a></span></span></td><td class=\"tf rtl\"></td><td class=\"tf rtl\"><span class=\"rtl ubd\"><span class=\"plain rtl  hlbx\" ><span class=\"txtu hbo\">שֵׁ֤ם </span><span class=\"txtu hbo\">אַחַת֙ </span><span class=\"plain rtl  hl\" ><span class=\"txtu hbo\">חַנָּ֔ה </span></span></span></span></td><td class=\"tf rtl\"><span class=\"rtl ubd\"><span class=\"plain rtl  hl\" ><span class=\"txtu hbo\">חַנָּ֔ה </span></span></span></td></tr>\n",
       "<tr class=\"tf rtl\"><td class=\"tf rtl\">8</td><td class=\"tf rtl\"><span class=\"tfsechead rtl\"><span class=\"ltr\"><a target=\"_blank\" href=\"https://shebanq.ancient-data.org/hebrew/text?book=Samuel_I&amp;chapter=1&amp;verse=2&amp;version=2021&amp;mr=m&amp;qw=q&amp;tp=txt_p&amp;tr=hb&amp;wget=v&amp;qget=v&amp;nget=vt\" title=\"Show this on SHEBANQ\" sec=\"1_Samuel 1:2\">1_Samuel 1:2</a></span></span></td><td class=\"tf rtl\"></td><td class=\"tf rtl\"><span class=\"rtl ubd\"><span class=\"plain rtl  hlbx\" ><span class=\"txtu hbo\">וְ</span><span class=\"txtu hbo\">שֵׁ֥ם </span><span class=\"txtu hbo\">הַ</span><span class=\"txtu hbo\">שֵּׁנִ֖ית </span><span class=\"plain rtl  hl\" ><span class=\"txtu hbo\">פְּנִנָּ֑ה </span></span></span></span></td><td class=\"tf rtl\"><span class=\"rtl ubd\"><span class=\"plain rtl  hl\" ><span class=\"txtu hbo\">פְּנִנָּ֑ה </span></span></span></td></tr>\n",
       "<tr class=\"tf rtl\"><td class=\"tf rtl\">9</td><td class=\"tf rtl\"><span class=\"tfsechead rtl\"><span class=\"ltr\"><a target=\"_blank\" href=\"https://shebanq.ancient-data.org/hebrew/text?book=Samuel_I&amp;chapter=1&amp;verse=2&amp;version=2021&amp;mr=m&amp;qw=q&amp;tp=txt_p&amp;tr=hb&amp;wget=v&amp;qget=v&amp;nget=vt\" title=\"Show this on SHEBANQ\" sec=\"1_Samuel 1:2\">1_Samuel 1:2</a></span></span></td><td class=\"tf rtl\"></td><td class=\"tf rtl\"><span class=\"rtl ubd\"><span class=\"plain rtl  hlbx\" ><span class=\"txtu hbo\">לִ</span><span class=\"plain rtl  hl\" ><span class=\"txtu hbo\">פְנִנָּה֙ </span></span><span class=\"txtu hbo\">יְלָדִ֔ים </span></span></span></td><td class=\"tf rtl\"><span class=\"rtl ubd\"><span class=\"plain rtl  hl\" ><span class=\"txtu hbo\">פְנִנָּה֙ </span></span></span></td></tr>\n",
       "<tr class=\"tf rtl\"><td class=\"tf rtl\">10</td><td class=\"tf rtl\"><span class=\"tfsechead rtl\"><span class=\"ltr\"><a target=\"_blank\" href=\"https://shebanq.ancient-data.org/hebrew/text?book=Samuel_I&amp;chapter=1&amp;verse=2&amp;version=2021&amp;mr=m&amp;qw=q&amp;tp=txt_p&amp;tr=hb&amp;wget=v&amp;qget=v&amp;nget=vt\" title=\"Show this on SHEBANQ\" sec=\"1_Samuel 1:2\">1_Samuel 1:2</a></span></span></td><td class=\"tf rtl\"></td><td class=\"tf rtl\"><span class=\"rtl ubd\"><span class=\"plain rtl  hlbx\" ><span class=\"txtu hbo\">וּ</span><span class=\"txtu hbo\">לְ</span><span class=\"plain rtl  hl\" ><span class=\"txtu hbo\">חַנָּ֖ה </span></span><span class=\"txtu hbo\">אֵ֥ין </span><span class=\"txtu hbo\">יְלָדִֽים׃ </span></span></span></td><td class=\"tf rtl\"><span class=\"rtl ubd\"><span class=\"plain rtl  hl\" ><span class=\"txtu hbo\">חַנָּ֖ה </span></span></span></td></tr></table>"
      ],
      "text/plain": [
       "<IPython.core.display.HTML object>"
      ]
     },
     "metadata": {},
     "output_type": "display_data"
    }
   ],
   "source": [
    "A.table(results, end=10, skipCols=\"1\")"
   ]
  },
  {
   "cell_type": "markdown",
   "metadata": {},
   "source": [
    "Here is the first one in a pretty display:"
   ]
  },
  {
   "cell_type": "code",
   "execution_count": 7,
   "metadata": {},
   "outputs": [
    {
     "data": {
      "text/html": [
       "<p><b>result</b> <i>1</i>"
      ],
      "text/plain": [
       "<IPython.core.display.HTML object>"
      ]
     },
     "metadata": {},
     "output_type": "display_data"
    },
    {
     "data": {
      "text/html": [
       "<div class=\"tfsechead rtl\"><span class=\"ltr\"><a target=\"_blank\" href=\"https://shebanq.ancient-data.org/hebrew/text?book=Samuel_I&amp;chapter=1&amp;verse=1&amp;version=2021&amp;mr=m&amp;qw=q&amp;tp=txt_p&amp;tr=hb&amp;wget=v&amp;qget=v&amp;nget=vt\" title=\"Show this on SHEBANQ\" sec=\"1_Samuel\">1_Samuel</a></span></div><div class=\"rtl children\"><div class=\"contnr c4 trm rtl  \" ><div class=\"lbl c4 trm \" ><span class=\"nd\">book </span> <span class=\"txtu hbo\"><span class=\"tfsechead rtl\"><span class=\"ltr\">1_Samuel</span></span></span></div><div class=\"features\"><span class=\"book xft\" ><span class=\"f\">book=</span>Samuel_I</span></div></div></div>"
      ],
      "text/plain": [
       "<IPython.core.display.HTML object>"
      ]
     },
     "metadata": {},
     "output_type": "display_data"
    },
    {
     "data": {
      "text/html": [
       "<div class=\"tfsechead rtl\"><span class=\"ltr\"><a target=\"_blank\" href=\"https://shebanq.ancient-data.org/hebrew/text?book=Samuel_I&amp;chapter=1&amp;verse=1&amp;version=2021&amp;mr=m&amp;qw=q&amp;tp=txt_p&amp;tr=hb&amp;wget=v&amp;qget=v&amp;nget=vt\" title=\"Show this on SHEBANQ\" sec=\"1_Samuel 1:1\">1_Samuel 1:1</a></span></div><div class=\"rtl children\"><div class=\"contnr c3  rtl  \" ><div class=\"lbl c3  \" ><span class=\"nd\">verse </span></div><div class=\"features\"><span class=\"book xft\" ><span class=\"f\">book=</span>Samuel_I</span></div><div class=\"children hor wrap rtl\"><div class=\"contnr c2  rtl  \" ><div class=\"lbl c2  \" ><span class=\"nd\">sentence </span> <span class=\"\"><span title=\"number\">1</span></span></div><div class=\"children hor wrap rtl\"><div class=\"contnr c2  rtl  hl\" ><div class=\"lbl c2  hl\" ><span class=\"nd\">clause </span> <span class=\"\"><span title=\"typ\">WayX</span> <span title=\"rela\">NA</span></span></div><div class=\"children hor wrap rtl\"><div class=\"contnr c1  rtl  \" ><div class=\"lbl c1  \" ><span class=\"nd\">phrase </span> <span class=\"\"><span title=\"typ\">CP</span> <span title=\"function\">Conj</span></span></div><div class=\"children hor wrap rtl\"><div class=\"contnr c0 trm rtl  \" ><div class=\"lbl c0 trm \" ><a class=\" txtu hbo\" target=\"_blank\" href=\"https://shebanq.ancient-data.org/hebrew/word?version=2021&amp;id=1W\" title=\"Show this on SHEBANQ\"><span class=\"txtu hbo\">וַ</span></a></div><div class=\"features\"><span class=\"sp xft\" ><span class=\"f\">sp=</span>conj</span></div></div></div></div><div class=\"contnr c1  rtl  \" ><div class=\"lbl c1  \" ><span class=\"nd\">phrase </span> <span class=\"\"><span title=\"typ\">VP</span> <span title=\"function\">Pred</span></span></div><div class=\"children hor wrap rtl\"><div class=\"contnr c0 trm rtl  \" ><div class=\"lbl c0 trm \" ><a class=\" txtu hbo\" target=\"_blank\" href=\"https://shebanq.ancient-data.org/hebrew/word?version=2021&amp;id=1HJHv\" title=\"Show this on SHEBANQ\"><span class=\"txtu hbo\">יְהִי֩ </span></a></div><div class=\"features\"><span class=\"sp xft\" ><span class=\"f\">sp=</span>verb</span></div></div></div></div><div class=\"contnr c1  rtl  \" ><div class=\"lbl c1  \" ><span class=\"nd\">phrase </span> <span class=\"\"><span title=\"typ\">NP</span> <span title=\"function\">Subj</span></span></div><div class=\"children hor wrap rtl\"><div class=\"contnr c0 trm rtl  \" ><div class=\"lbl c0 trm \" ><a class=\" txtu hbo\" target=\"_blank\" href=\"https://shebanq.ancient-data.org/hebrew/word?version=2021&amp;id=1AJCn\" title=\"Show this on SHEBANQ\"><span class=\"txtu hbo\">אִ֨ישׁ </span></a></div><div class=\"features\"><span class=\"sp xft\" ><span class=\"f\">sp=</span>subs</span></div></div><div class=\"contnr c0 trm rtl  \" ><div class=\"lbl c0 trm \" ><a class=\" txtu hbo\" target=\"_blank\" href=\"https://shebanq.ancient-data.org/hebrew/word?version=2021&amp;id=1AXDn\" title=\"Show this on SHEBANQ\"><span class=\"txtu hbo\">אֶחָ֜ד </span></a></div><div class=\"features\"><span class=\"sp xft\" ><span class=\"f\">sp=</span>subs</span></div></div><div class=\"contnr c0 trm rtl  \" ><div class=\"lbl c0 trm \" ><a class=\" txtu hbo\" target=\"_blank\" href=\"https://shebanq.ancient-data.org/hebrew/word?version=2021&amp;id=1MN\" title=\"Show this on SHEBANQ\"><span class=\"txtu hbo\">מִן־</span></a></div><div class=\"features\"><span class=\"sp xft\" ><span class=\"f\">sp=</span>prep</span></div></div><div class=\"contnr c0 trm rtl  \" ><div class=\"lbl c0 trm \" ><a class=\" txtu hbo\" target=\"_blank\" href=\"https://shebanq.ancient-data.org/hebrew/word?version=2021&amp;id=1H\" title=\"Show this on SHEBANQ\"><span class=\"txtu hbo\">הָ</span></a></div><div class=\"features\"><span class=\"sp xft\" ><span class=\"f\">sp=</span>art</span></div></div><div class=\"contnr c0 trm rtl  \" ><div class=\"lbl c0 trm \" ><a class=\" txtu hbo\" target=\"_blank\" href=\"https://shebanq.ancient-data.org/hebrew/word?version=2021&amp;id=1RMHin\" title=\"Show this on SHEBANQ\"><span class=\"txtu hbo\">רָמָתַ֛יִם </span></a></div><div class=\"features\"><span class=\"sp xft\" ><span class=\"f\">sp=</span>subs</span></div></div><div class=\"contnr c0 trm rtl  \" ><div class=\"lbl c0 trm \" ><a class=\" txtu hbo\" target=\"_blank\" href=\"https://shebanq.ancient-data.org/hebrew/word?version=2021&amp;id=1YPHv\" title=\"Show this on SHEBANQ\"><span class=\"txtu hbo\">צֹופִ֖ים </span></a></div><div class=\"features\"><span class=\"sp xft\" ><span class=\"f\">sp=</span>verb</span></div></div><div class=\"contnr c0 trm rtl  \" ><div class=\"lbl c0 trm \" ><a class=\" txtu hbo\" target=\"_blank\" href=\"https://shebanq.ancient-data.org/hebrew/word?version=2021&amp;id=1MN\" title=\"Show this on SHEBANQ\"><span class=\"txtu hbo\">מֵ</span></a></div><div class=\"features\"><span class=\"sp xft\" ><span class=\"f\">sp=</span>prep</span></div></div><div class=\"contnr c0 trm rtl  \" ><div class=\"lbl c0 trm \" ><a class=\" txtu hbo\" target=\"_blank\" href=\"https://shebanq.ancient-data.org/hebrew/word?version=2021&amp;id=1HRn\" title=\"Show this on SHEBANQ\"><span class=\"txtu hbo\">הַ֣ר </span></a></div><div class=\"features\"><span class=\"sp xft\" ><span class=\"f\">sp=</span>subs</span></div></div><div class=\"contnr c0 trm rtl  hl\" ><div class=\"lbl c0 trm hl\" ><a class=\" txtu hbo\" target=\"_blank\" href=\"https://shebanq.ancient-data.org/hebrew/word?version=2021&amp;id=1APRJMn\" title=\"Show this on SHEBANQ\"><span class=\"txtu hbo\">אֶפְרָ֑יִם </span></a></div><div class=\"features\"><span class=\"sp xft\" ><span class=\"f\">sp=</span>nmpr</span></div></div></div></div></div></div></div></div><div class=\"contnr c2  rtl  \" ><div class=\"lbl c2  \" ><span class=\"nd\">sentence </span> <span class=\"\"><span title=\"number\">2</span></span></div><div class=\"children hor wrap rtl\"><div class=\"contnr c2  rtl  \" ><div class=\"lbl c2  \" ><span class=\"nd\">clause </span> <span class=\"\"><span title=\"typ\">NmCl</span> <span title=\"rela\">NA</span></span></div><div class=\"children hor wrap rtl\"><div class=\"contnr c1  rtl  \" ><div class=\"lbl c1  \" ><span class=\"nd\">phrase </span> <span class=\"\"><span title=\"typ\">CP</span> <span title=\"function\">Conj</span></span></div><div class=\"children hor wrap rtl\"><div class=\"contnr c0 trm rtl  \" ><div class=\"lbl c0 trm \" ><a class=\" txtu hbo\" target=\"_blank\" href=\"https://shebanq.ancient-data.org/hebrew/word?version=2021&amp;id=1W\" title=\"Show this on SHEBANQ\"><span class=\"txtu hbo\">וּ</span></a></div><div class=\"features\"><span class=\"sp xft\" ><span class=\"f\">sp=</span>conj</span></div></div></div></div><div class=\"contnr c1  rtl  \" ><div class=\"lbl c1  \" ><span class=\"nd\">phrase </span> <span class=\"\"><span title=\"typ\">NP</span> <span title=\"function\">Subj</span></span></div><div class=\"children hor wrap rtl\"><div class=\"contnr c0 trm rtl  \" ><div class=\"lbl c0 trm \" ><a class=\" txtu hbo\" target=\"_blank\" href=\"https://shebanq.ancient-data.org/hebrew/word?version=2021&amp;id=1CMn\" title=\"Show this on SHEBANQ\"><span class=\"txtu hbo\">שְׁמֹ֡ו </span></a></div><div class=\"features\"><span class=\"sp xft\" ><span class=\"f\">sp=</span>subs</span></div></div></div></div><div class=\"contnr c1  rtl  \" ><div class=\"lbl c1  \" ><span class=\"nd\">phrase </span> <span class=\"\"><span title=\"typ\">PrNP</span> <span title=\"function\">PreC</span></span></div><div class=\"children hor wrap rtl\"><div class=\"contnr c0 trm rtl  \" ><div class=\"lbl c0 trm \" ><a class=\" txtu hbo\" target=\"_blank\" href=\"https://shebanq.ancient-data.org/hebrew/word?version=2021&amp;id=1ALQNHn\" title=\"Show this on SHEBANQ\"><span class=\"txtu hbo\">אֶ֠לְקָנָה </span></a></div><div class=\"features\"><span class=\"sp xft\" ><span class=\"f\">sp=</span>nmpr</span></div></div><div class=\"contnr c0 trm rtl  \" ><div class=\"lbl c0 trm \" ><a class=\" txtu hbo\" target=\"_blank\" href=\"https://shebanq.ancient-data.org/hebrew/word?version=2021&amp;id=1BNn\" title=\"Show this on SHEBANQ\"><span class=\"txtu hbo\">בֶּן־</span></a></div><div class=\"features\"><span class=\"sp xft\" ><span class=\"f\">sp=</span>subs</span></div></div><div class=\"contnr c0 trm rtl  \" ><div class=\"lbl c0 trm \" ><a class=\" txtu hbo\" target=\"_blank\" href=\"https://shebanq.ancient-data.org/hebrew/word?version=2021&amp;id=1JRXMn\" title=\"Show this on SHEBANQ\"><span class=\"txtu hbo\">יְרֹחָ֧ם </span></a></div><div class=\"features\"><span class=\"sp xft\" ><span class=\"f\">sp=</span>nmpr</span></div></div><div class=\"contnr c0 trm rtl  \" ><div class=\"lbl c0 trm \" ><a class=\" txtu hbo\" target=\"_blank\" href=\"https://shebanq.ancient-data.org/hebrew/word?version=2021&amp;id=1BNn\" title=\"Show this on SHEBANQ\"><span class=\"txtu hbo\">בֶּן־</span></a></div><div class=\"features\"><span class=\"sp xft\" ><span class=\"f\">sp=</span>subs</span></div></div><div class=\"contnr c0 trm rtl  \" ><div class=\"lbl c0 trm \" ><a class=\" txtu hbo\" target=\"_blank\" href=\"https://shebanq.ancient-data.org/hebrew/word?version=2021&amp;id=1ALJHWAn\" title=\"Show this on SHEBANQ\"><span class=\"txtu hbo\">אֱלִיה֛וּא </span></a></div><div class=\"features\"><span class=\"sp xft\" ><span class=\"f\">sp=</span>nmpr</span></div></div><div class=\"contnr c0 trm rtl  \" ><div class=\"lbl c0 trm \" ><a class=\" txtu hbo\" target=\"_blank\" href=\"https://shebanq.ancient-data.org/hebrew/word?version=2021&amp;id=1BNn\" title=\"Show this on SHEBANQ\"><span class=\"txtu hbo\">בֶּן־</span></a></div><div class=\"features\"><span class=\"sp xft\" ><span class=\"f\">sp=</span>subs</span></div></div><div class=\"contnr c0 trm rtl  \" ><div class=\"lbl c0 trm \" ><a class=\" txtu hbo\" target=\"_blank\" href=\"https://shebanq.ancient-data.org/hebrew/word?version=2021&amp;id=1TXWn\" title=\"Show this on SHEBANQ\"><span class=\"txtu hbo\">תֹּ֥חוּ </span></a></div><div class=\"features\"><span class=\"sp xft\" ><span class=\"f\">sp=</span>nmpr</span></div></div><div class=\"contnr c0 trm rtl  \" ><div class=\"lbl c0 trm \" ><a class=\" txtu hbo\" target=\"_blank\" href=\"https://shebanq.ancient-data.org/hebrew/word?version=2021&amp;id=1BNn\" title=\"Show this on SHEBANQ\"><span class=\"txtu hbo\">בֶן־</span></a></div><div class=\"features\"><span class=\"sp xft\" ><span class=\"f\">sp=</span>subs</span></div></div><div class=\"contnr c0 trm rtl  \" ><div class=\"lbl c0 trm \" ><a class=\" txtu hbo\" target=\"_blank\" href=\"https://shebanq.ancient-data.org/hebrew/word?version=2021&amp;id=1YWPin\" title=\"Show this on SHEBANQ\"><span class=\"txtu hbo\">צ֖וּף </span></a></div><div class=\"features\"><span class=\"sp xft\" ><span class=\"f\">sp=</span>nmpr</span></div></div><div class=\"contnr c0 trm rtl  \" ><div class=\"lbl c0 trm \" ><a class=\" txtu hbo\" target=\"_blank\" href=\"https://shebanq.ancient-data.org/hebrew/word?version=2021&amp;id=1APRTJn\" title=\"Show this on SHEBANQ\"><span class=\"txtu hbo\">אֶפְרָתִֽי׃ </span></a></div><div class=\"features\"><span class=\"sp xft\" ><span class=\"f\">sp=</span>adjv</span></div></div></div></div></div></div></div></div></div></div></div>"
      ],
      "text/plain": [
       "<IPython.core.display.HTML object>"
      ]
     },
     "metadata": {},
     "output_type": "display_data"
    }
   ],
   "source": [
    "A.show(results, end=1)"
   ]
  },
  {
   "cell_type": "markdown",
   "metadata": {},
   "source": [
    "We are going to do some more work where we want to skip column 1, so we make that the temporary default:"
   ]
  },
  {
   "cell_type": "code",
   "execution_count": 8,
   "metadata": {},
   "outputs": [],
   "source": [
    "A.displaySetup(skipCols=\"1\")"
   ]
  },
  {
   "cell_type": "markdown",
   "metadata": {},
   "source": [
    "Now we show a few results without the book column:"
   ]
  },
  {
   "cell_type": "code",
   "execution_count": 9,
   "metadata": {},
   "outputs": [
    {
     "data": {
      "text/html": [
       "<p><b>result</b> <i>1</i>"
      ],
      "text/plain": [
       "<IPython.core.display.HTML object>"
      ]
     },
     "metadata": {},
     "output_type": "display_data"
    },
    {
     "data": {
      "text/html": [
       "<div class=\"tfsechead rtl\"><span class=\"ltr\"><a target=\"_blank\" href=\"https://shebanq.ancient-data.org/hebrew/text?book=Samuel_I&amp;chapter=1&amp;verse=1&amp;version=2021&amp;mr=m&amp;qw=q&amp;tp=txt_p&amp;tr=hb&amp;wget=v&amp;qget=v&amp;nget=vt\" title=\"Show this on SHEBANQ\" sec=\"1_Samuel\">1_Samuel</a></span></div><div class=\"rtl children\"><div class=\"contnr c4 trm rtl  \" ><div class=\"lbl c4 trm \" ><span class=\"nd\">book </span> <span class=\"txtu hbo\"><span class=\"tfsechead rtl\"><span class=\"ltr\">1_Samuel</span></span></span></div><div class=\"features\"><span class=\"book xft\" ><span class=\"f\">book=</span>Samuel_I</span></div></div></div>"
      ],
      "text/plain": [
       "<IPython.core.display.HTML object>"
      ]
     },
     "metadata": {},
     "output_type": "display_data"
    },
    {
     "data": {
      "text/html": [
       "<div class=\"tfsechead rtl\"><span class=\"ltr\"><a target=\"_blank\" href=\"https://shebanq.ancient-data.org/hebrew/text?book=Samuel_I&amp;chapter=1&amp;verse=1&amp;version=2021&amp;mr=m&amp;qw=q&amp;tp=txt_p&amp;tr=hb&amp;wget=v&amp;qget=v&amp;nget=vt\" title=\"Show this on SHEBANQ\" sec=\"1_Samuel 1:1\">1_Samuel 1:1</a></span></div><div class=\"rtl children\"><div class=\"contnr c3  rtl  \" ><div class=\"lbl c3  \" ><span class=\"nd\">verse </span></div><div class=\"features\"><span class=\"book xft\" ><span class=\"f\">book=</span>Samuel_I</span></div><div class=\"children hor wrap rtl\"><div class=\"contnr c2  rtl  \" ><div class=\"lbl c2  \" ><span class=\"nd\">sentence </span> <span class=\"\"><span title=\"number\">1</span></span></div><div class=\"children hor wrap rtl\"><div class=\"contnr c2  rtl  hl\" ><div class=\"lbl c2  hl\" ><span class=\"nd\">clause </span> <span class=\"\"><span title=\"typ\">WayX</span> <span title=\"rela\">NA</span></span></div><div class=\"children hor wrap rtl\"><div class=\"contnr c1  rtl  \" ><div class=\"lbl c1  \" ><span class=\"nd\">phrase </span> <span class=\"\"><span title=\"typ\">CP</span> <span title=\"function\">Conj</span></span></div><div class=\"children hor wrap rtl\"><div class=\"contnr c0 trm rtl  \" ><div class=\"lbl c0 trm \" ><a class=\" txtu hbo\" target=\"_blank\" href=\"https://shebanq.ancient-data.org/hebrew/word?version=2021&amp;id=1W\" title=\"Show this on SHEBANQ\"><span class=\"txtu hbo\">וַ</span></a></div><div class=\"features\"><span class=\"sp xft\" ><span class=\"f\">sp=</span>conj</span></div></div></div></div><div class=\"contnr c1  rtl  \" ><div class=\"lbl c1  \" ><span class=\"nd\">phrase </span> <span class=\"\"><span title=\"typ\">VP</span> <span title=\"function\">Pred</span></span></div><div class=\"children hor wrap rtl\"><div class=\"contnr c0 trm rtl  \" ><div class=\"lbl c0 trm \" ><a class=\" txtu hbo\" target=\"_blank\" href=\"https://shebanq.ancient-data.org/hebrew/word?version=2021&amp;id=1HJHv\" title=\"Show this on SHEBANQ\"><span class=\"txtu hbo\">יְהִי֩ </span></a></div><div class=\"features\"><span class=\"sp xft\" ><span class=\"f\">sp=</span>verb</span></div></div></div></div><div class=\"contnr c1  rtl  \" ><div class=\"lbl c1  \" ><span class=\"nd\">phrase </span> <span class=\"\"><span title=\"typ\">NP</span> <span title=\"function\">Subj</span></span></div><div class=\"children hor wrap rtl\"><div class=\"contnr c0 trm rtl  \" ><div class=\"lbl c0 trm \" ><a class=\" txtu hbo\" target=\"_blank\" href=\"https://shebanq.ancient-data.org/hebrew/word?version=2021&amp;id=1AJCn\" title=\"Show this on SHEBANQ\"><span class=\"txtu hbo\">אִ֨ישׁ </span></a></div><div class=\"features\"><span class=\"sp xft\" ><span class=\"f\">sp=</span>subs</span></div></div><div class=\"contnr c0 trm rtl  \" ><div class=\"lbl c0 trm \" ><a class=\" txtu hbo\" target=\"_blank\" href=\"https://shebanq.ancient-data.org/hebrew/word?version=2021&amp;id=1AXDn\" title=\"Show this on SHEBANQ\"><span class=\"txtu hbo\">אֶחָ֜ד </span></a></div><div class=\"features\"><span class=\"sp xft\" ><span class=\"f\">sp=</span>subs</span></div></div><div class=\"contnr c0 trm rtl  \" ><div class=\"lbl c0 trm \" ><a class=\" txtu hbo\" target=\"_blank\" href=\"https://shebanq.ancient-data.org/hebrew/word?version=2021&amp;id=1MN\" title=\"Show this on SHEBANQ\"><span class=\"txtu hbo\">מִן־</span></a></div><div class=\"features\"><span class=\"sp xft\" ><span class=\"f\">sp=</span>prep</span></div></div><div class=\"contnr c0 trm rtl  \" ><div class=\"lbl c0 trm \" ><a class=\" txtu hbo\" target=\"_blank\" href=\"https://shebanq.ancient-data.org/hebrew/word?version=2021&amp;id=1H\" title=\"Show this on SHEBANQ\"><span class=\"txtu hbo\">הָ</span></a></div><div class=\"features\"><span class=\"sp xft\" ><span class=\"f\">sp=</span>art</span></div></div><div class=\"contnr c0 trm rtl  \" ><div class=\"lbl c0 trm \" ><a class=\" txtu hbo\" target=\"_blank\" href=\"https://shebanq.ancient-data.org/hebrew/word?version=2021&amp;id=1RMHin\" title=\"Show this on SHEBANQ\"><span class=\"txtu hbo\">רָמָתַ֛יִם </span></a></div><div class=\"features\"><span class=\"sp xft\" ><span class=\"f\">sp=</span>subs</span></div></div><div class=\"contnr c0 trm rtl  \" ><div class=\"lbl c0 trm \" ><a class=\" txtu hbo\" target=\"_blank\" href=\"https://shebanq.ancient-data.org/hebrew/word?version=2021&amp;id=1YPHv\" title=\"Show this on SHEBANQ\"><span class=\"txtu hbo\">צֹופִ֖ים </span></a></div><div class=\"features\"><span class=\"sp xft\" ><span class=\"f\">sp=</span>verb</span></div></div><div class=\"contnr c0 trm rtl  \" ><div class=\"lbl c0 trm \" ><a class=\" txtu hbo\" target=\"_blank\" href=\"https://shebanq.ancient-data.org/hebrew/word?version=2021&amp;id=1MN\" title=\"Show this on SHEBANQ\"><span class=\"txtu hbo\">מֵ</span></a></div><div class=\"features\"><span class=\"sp xft\" ><span class=\"f\">sp=</span>prep</span></div></div><div class=\"contnr c0 trm rtl  \" ><div class=\"lbl c0 trm \" ><a class=\" txtu hbo\" target=\"_blank\" href=\"https://shebanq.ancient-data.org/hebrew/word?version=2021&amp;id=1HRn\" title=\"Show this on SHEBANQ\"><span class=\"txtu hbo\">הַ֣ר </span></a></div><div class=\"features\"><span class=\"sp xft\" ><span class=\"f\">sp=</span>subs</span></div></div><div class=\"contnr c0 trm rtl  hl\" ><div class=\"lbl c0 trm hl\" ><a class=\" txtu hbo\" target=\"_blank\" href=\"https://shebanq.ancient-data.org/hebrew/word?version=2021&amp;id=1APRJMn\" title=\"Show this on SHEBANQ\"><span class=\"txtu hbo\">אֶפְרָ֑יִם </span></a></div><div class=\"features\"><span class=\"sp xft\" ><span class=\"f\">sp=</span>nmpr</span></div></div></div></div></div></div></div></div><div class=\"contnr c2  rtl  \" ><div class=\"lbl c2  \" ><span class=\"nd\">sentence </span> <span class=\"\"><span title=\"number\">2</span></span></div><div class=\"children hor wrap rtl\"><div class=\"contnr c2  rtl  \" ><div class=\"lbl c2  \" ><span class=\"nd\">clause </span> <span class=\"\"><span title=\"typ\">NmCl</span> <span title=\"rela\">NA</span></span></div><div class=\"children hor wrap rtl\"><div class=\"contnr c1  rtl  \" ><div class=\"lbl c1  \" ><span class=\"nd\">phrase </span> <span class=\"\"><span title=\"typ\">CP</span> <span title=\"function\">Conj</span></span></div><div class=\"children hor wrap rtl\"><div class=\"contnr c0 trm rtl  \" ><div class=\"lbl c0 trm \" ><a class=\" txtu hbo\" target=\"_blank\" href=\"https://shebanq.ancient-data.org/hebrew/word?version=2021&amp;id=1W\" title=\"Show this on SHEBANQ\"><span class=\"txtu hbo\">וּ</span></a></div><div class=\"features\"><span class=\"sp xft\" ><span class=\"f\">sp=</span>conj</span></div></div></div></div><div class=\"contnr c1  rtl  \" ><div class=\"lbl c1  \" ><span class=\"nd\">phrase </span> <span class=\"\"><span title=\"typ\">NP</span> <span title=\"function\">Subj</span></span></div><div class=\"children hor wrap rtl\"><div class=\"contnr c0 trm rtl  \" ><div class=\"lbl c0 trm \" ><a class=\" txtu hbo\" target=\"_blank\" href=\"https://shebanq.ancient-data.org/hebrew/word?version=2021&amp;id=1CMn\" title=\"Show this on SHEBANQ\"><span class=\"txtu hbo\">שְׁמֹ֡ו </span></a></div><div class=\"features\"><span class=\"sp xft\" ><span class=\"f\">sp=</span>subs</span></div></div></div></div><div class=\"contnr c1  rtl  \" ><div class=\"lbl c1  \" ><span class=\"nd\">phrase </span> <span class=\"\"><span title=\"typ\">PrNP</span> <span title=\"function\">PreC</span></span></div><div class=\"children hor wrap rtl\"><div class=\"contnr c0 trm rtl  \" ><div class=\"lbl c0 trm \" ><a class=\" txtu hbo\" target=\"_blank\" href=\"https://shebanq.ancient-data.org/hebrew/word?version=2021&amp;id=1ALQNHn\" title=\"Show this on SHEBANQ\"><span class=\"txtu hbo\">אֶ֠לְקָנָה </span></a></div><div class=\"features\"><span class=\"sp xft\" ><span class=\"f\">sp=</span>nmpr</span></div></div><div class=\"contnr c0 trm rtl  \" ><div class=\"lbl c0 trm \" ><a class=\" txtu hbo\" target=\"_blank\" href=\"https://shebanq.ancient-data.org/hebrew/word?version=2021&amp;id=1BNn\" title=\"Show this on SHEBANQ\"><span class=\"txtu hbo\">בֶּן־</span></a></div><div class=\"features\"><span class=\"sp xft\" ><span class=\"f\">sp=</span>subs</span></div></div><div class=\"contnr c0 trm rtl  \" ><div class=\"lbl c0 trm \" ><a class=\" txtu hbo\" target=\"_blank\" href=\"https://shebanq.ancient-data.org/hebrew/word?version=2021&amp;id=1JRXMn\" title=\"Show this on SHEBANQ\"><span class=\"txtu hbo\">יְרֹחָ֧ם </span></a></div><div class=\"features\"><span class=\"sp xft\" ><span class=\"f\">sp=</span>nmpr</span></div></div><div class=\"contnr c0 trm rtl  \" ><div class=\"lbl c0 trm \" ><a class=\" txtu hbo\" target=\"_blank\" href=\"https://shebanq.ancient-data.org/hebrew/word?version=2021&amp;id=1BNn\" title=\"Show this on SHEBANQ\"><span class=\"txtu hbo\">בֶּן־</span></a></div><div class=\"features\"><span class=\"sp xft\" ><span class=\"f\">sp=</span>subs</span></div></div><div class=\"contnr c0 trm rtl  \" ><div class=\"lbl c0 trm \" ><a class=\" txtu hbo\" target=\"_blank\" href=\"https://shebanq.ancient-data.org/hebrew/word?version=2021&amp;id=1ALJHWAn\" title=\"Show this on SHEBANQ\"><span class=\"txtu hbo\">אֱלִיה֛וּא </span></a></div><div class=\"features\"><span class=\"sp xft\" ><span class=\"f\">sp=</span>nmpr</span></div></div><div class=\"contnr c0 trm rtl  \" ><div class=\"lbl c0 trm \" ><a class=\" txtu hbo\" target=\"_blank\" href=\"https://shebanq.ancient-data.org/hebrew/word?version=2021&amp;id=1BNn\" title=\"Show this on SHEBANQ\"><span class=\"txtu hbo\">בֶּן־</span></a></div><div class=\"features\"><span class=\"sp xft\" ><span class=\"f\">sp=</span>subs</span></div></div><div class=\"contnr c0 trm rtl  \" ><div class=\"lbl c0 trm \" ><a class=\" txtu hbo\" target=\"_blank\" href=\"https://shebanq.ancient-data.org/hebrew/word?version=2021&amp;id=1TXWn\" title=\"Show this on SHEBANQ\"><span class=\"txtu hbo\">תֹּ֥חוּ </span></a></div><div class=\"features\"><span class=\"sp xft\" ><span class=\"f\">sp=</span>nmpr</span></div></div><div class=\"contnr c0 trm rtl  \" ><div class=\"lbl c0 trm \" ><a class=\" txtu hbo\" target=\"_blank\" href=\"https://shebanq.ancient-data.org/hebrew/word?version=2021&amp;id=1BNn\" title=\"Show this on SHEBANQ\"><span class=\"txtu hbo\">בֶן־</span></a></div><div class=\"features\"><span class=\"sp xft\" ><span class=\"f\">sp=</span>subs</span></div></div><div class=\"contnr c0 trm rtl  \" ><div class=\"lbl c0 trm \" ><a class=\" txtu hbo\" target=\"_blank\" href=\"https://shebanq.ancient-data.org/hebrew/word?version=2021&amp;id=1YWPin\" title=\"Show this on SHEBANQ\"><span class=\"txtu hbo\">צ֖וּף </span></a></div><div class=\"features\"><span class=\"sp xft\" ><span class=\"f\">sp=</span>nmpr</span></div></div><div class=\"contnr c0 trm rtl  \" ><div class=\"lbl c0 trm \" ><a class=\" txtu hbo\" target=\"_blank\" href=\"https://shebanq.ancient-data.org/hebrew/word?version=2021&amp;id=1APRTJn\" title=\"Show this on SHEBANQ\"><span class=\"txtu hbo\">אֶפְרָתִֽי׃ </span></a></div><div class=\"features\"><span class=\"sp xft\" ><span class=\"f\">sp=</span>adjv</span></div></div></div></div></div></div></div></div></div></div></div>"
      ],
      "text/plain": [
       "<IPython.core.display.HTML object>"
      ]
     },
     "metadata": {},
     "output_type": "display_data"
    },
    {
     "data": {
      "text/html": [
       "<p><b>result</b> <i>2</i>"
      ],
      "text/plain": [
       "<IPython.core.display.HTML object>"
      ]
     },
     "metadata": {},
     "output_type": "display_data"
    },
    {
     "data": {
      "text/html": [
       "<div class=\"tfsechead rtl\"><span class=\"ltr\"><a target=\"_blank\" href=\"https://shebanq.ancient-data.org/hebrew/text?book=Samuel_I&amp;chapter=1&amp;verse=1&amp;version=2021&amp;mr=m&amp;qw=q&amp;tp=txt_p&amp;tr=hb&amp;wget=v&amp;qget=v&amp;nget=vt\" title=\"Show this on SHEBANQ\" sec=\"1_Samuel\">1_Samuel</a></span></div><div class=\"rtl children\"><div class=\"contnr c4 trm rtl  \" ><div class=\"lbl c4 trm \" ><span class=\"nd\">book </span> <span class=\"txtu hbo\"><span class=\"tfsechead rtl\"><span class=\"ltr\">1_Samuel</span></span></span></div><div class=\"features\"><span class=\"book xft\" ><span class=\"f\">book=</span>Samuel_I</span></div></div></div>"
      ],
      "text/plain": [
       "<IPython.core.display.HTML object>"
      ]
     },
     "metadata": {},
     "output_type": "display_data"
    },
    {
     "data": {
      "text/html": [
       "<div class=\"tfsechead rtl\"><span class=\"ltr\"><a target=\"_blank\" href=\"https://shebanq.ancient-data.org/hebrew/text?book=Samuel_I&amp;chapter=1&amp;verse=1&amp;version=2021&amp;mr=m&amp;qw=q&amp;tp=txt_p&amp;tr=hb&amp;wget=v&amp;qget=v&amp;nget=vt\" title=\"Show this on SHEBANQ\" sec=\"1_Samuel 1:1\">1_Samuel 1:1</a></span></div><div class=\"rtl children\"><div class=\"contnr c3  rtl  \" ><div class=\"lbl c3  \" ><span class=\"nd\">verse </span></div><div class=\"features\"><span class=\"book xft\" ><span class=\"f\">book=</span>Samuel_I</span></div><div class=\"children hor wrap rtl\"><div class=\"contnr c2  rtl  \" ><div class=\"lbl c2  \" ><span class=\"nd\">sentence </span> <span class=\"\"><span title=\"number\">1</span></span></div><div class=\"children hor wrap rtl\"><div class=\"contnr c2  rtl  \" ><div class=\"lbl c2  \" ><span class=\"nd\">clause </span> <span class=\"\"><span title=\"typ\">WayX</span> <span title=\"rela\">NA</span></span></div><div class=\"children hor wrap rtl\"><div class=\"contnr c1  rtl  \" ><div class=\"lbl c1  \" ><span class=\"nd\">phrase </span> <span class=\"\"><span title=\"typ\">CP</span> <span title=\"function\">Conj</span></span></div><div class=\"children hor wrap rtl\"><div class=\"contnr c0 trm rtl  \" ><div class=\"lbl c0 trm \" ><a class=\" txtu hbo\" target=\"_blank\" href=\"https://shebanq.ancient-data.org/hebrew/word?version=2021&amp;id=1W\" title=\"Show this on SHEBANQ\"><span class=\"txtu hbo\">וַ</span></a></div><div class=\"features\"><span class=\"sp xft\" ><span class=\"f\">sp=</span>conj</span></div></div></div></div><div class=\"contnr c1  rtl  \" ><div class=\"lbl c1  \" ><span class=\"nd\">phrase </span> <span class=\"\"><span title=\"typ\">VP</span> <span title=\"function\">Pred</span></span></div><div class=\"children hor wrap rtl\"><div class=\"contnr c0 trm rtl  \" ><div class=\"lbl c0 trm \" ><a class=\" txtu hbo\" target=\"_blank\" href=\"https://shebanq.ancient-data.org/hebrew/word?version=2021&amp;id=1HJHv\" title=\"Show this on SHEBANQ\"><span class=\"txtu hbo\">יְהִי֩ </span></a></div><div class=\"features\"><span class=\"sp xft\" ><span class=\"f\">sp=</span>verb</span></div></div></div></div><div class=\"contnr c1  rtl  \" ><div class=\"lbl c1  \" ><span class=\"nd\">phrase </span> <span class=\"\"><span title=\"typ\">NP</span> <span title=\"function\">Subj</span></span></div><div class=\"children hor wrap rtl\"><div class=\"contnr c0 trm rtl  \" ><div class=\"lbl c0 trm \" ><a class=\" txtu hbo\" target=\"_blank\" href=\"https://shebanq.ancient-data.org/hebrew/word?version=2021&amp;id=1AJCn\" title=\"Show this on SHEBANQ\"><span class=\"txtu hbo\">אִ֨ישׁ </span></a></div><div class=\"features\"><span class=\"sp xft\" ><span class=\"f\">sp=</span>subs</span></div></div><div class=\"contnr c0 trm rtl  \" ><div class=\"lbl c0 trm \" ><a class=\" txtu hbo\" target=\"_blank\" href=\"https://shebanq.ancient-data.org/hebrew/word?version=2021&amp;id=1AXDn\" title=\"Show this on SHEBANQ\"><span class=\"txtu hbo\">אֶחָ֜ד </span></a></div><div class=\"features\"><span class=\"sp xft\" ><span class=\"f\">sp=</span>subs</span></div></div><div class=\"contnr c0 trm rtl  \" ><div class=\"lbl c0 trm \" ><a class=\" txtu hbo\" target=\"_blank\" href=\"https://shebanq.ancient-data.org/hebrew/word?version=2021&amp;id=1MN\" title=\"Show this on SHEBANQ\"><span class=\"txtu hbo\">מִן־</span></a></div><div class=\"features\"><span class=\"sp xft\" ><span class=\"f\">sp=</span>prep</span></div></div><div class=\"contnr c0 trm rtl  \" ><div class=\"lbl c0 trm \" ><a class=\" txtu hbo\" target=\"_blank\" href=\"https://shebanq.ancient-data.org/hebrew/word?version=2021&amp;id=1H\" title=\"Show this on SHEBANQ\"><span class=\"txtu hbo\">הָ</span></a></div><div class=\"features\"><span class=\"sp xft\" ><span class=\"f\">sp=</span>art</span></div></div><div class=\"contnr c0 trm rtl  \" ><div class=\"lbl c0 trm \" ><a class=\" txtu hbo\" target=\"_blank\" href=\"https://shebanq.ancient-data.org/hebrew/word?version=2021&amp;id=1RMHin\" title=\"Show this on SHEBANQ\"><span class=\"txtu hbo\">רָמָתַ֛יִם </span></a></div><div class=\"features\"><span class=\"sp xft\" ><span class=\"f\">sp=</span>subs</span></div></div><div class=\"contnr c0 trm rtl  \" ><div class=\"lbl c0 trm \" ><a class=\" txtu hbo\" target=\"_blank\" href=\"https://shebanq.ancient-data.org/hebrew/word?version=2021&amp;id=1YPHv\" title=\"Show this on SHEBANQ\"><span class=\"txtu hbo\">צֹופִ֖ים </span></a></div><div class=\"features\"><span class=\"sp xft\" ><span class=\"f\">sp=</span>verb</span></div></div><div class=\"contnr c0 trm rtl  \" ><div class=\"lbl c0 trm \" ><a class=\" txtu hbo\" target=\"_blank\" href=\"https://shebanq.ancient-data.org/hebrew/word?version=2021&amp;id=1MN\" title=\"Show this on SHEBANQ\"><span class=\"txtu hbo\">מֵ</span></a></div><div class=\"features\"><span class=\"sp xft\" ><span class=\"f\">sp=</span>prep</span></div></div><div class=\"contnr c0 trm rtl  \" ><div class=\"lbl c0 trm \" ><a class=\" txtu hbo\" target=\"_blank\" href=\"https://shebanq.ancient-data.org/hebrew/word?version=2021&amp;id=1HRn\" title=\"Show this on SHEBANQ\"><span class=\"txtu hbo\">הַ֣ר </span></a></div><div class=\"features\"><span class=\"sp xft\" ><span class=\"f\">sp=</span>subs</span></div></div><div class=\"contnr c0 trm rtl  \" ><div class=\"lbl c0 trm \" ><a class=\" txtu hbo\" target=\"_blank\" href=\"https://shebanq.ancient-data.org/hebrew/word?version=2021&amp;id=1APRJMn\" title=\"Show this on SHEBANQ\"><span class=\"txtu hbo\">אֶפְרָ֑יִם </span></a></div><div class=\"features\"><span class=\"sp xft\" ><span class=\"f\">sp=</span>nmpr</span></div></div></div></div></div></div></div></div><div class=\"contnr c2  rtl  \" ><div class=\"lbl c2  \" ><span class=\"nd\">sentence </span> <span class=\"\"><span title=\"number\">2</span></span></div><div class=\"children hor wrap rtl\"><div class=\"contnr c2  rtl  hl\" ><div class=\"lbl c2  hl\" ><span class=\"nd\">clause </span> <span class=\"\"><span title=\"typ\">NmCl</span> <span title=\"rela\">NA</span></span></div><div class=\"children hor wrap rtl\"><div class=\"contnr c1  rtl  \" ><div class=\"lbl c1  \" ><span class=\"nd\">phrase </span> <span class=\"\"><span title=\"typ\">CP</span> <span title=\"function\">Conj</span></span></div><div class=\"children hor wrap rtl\"><div class=\"contnr c0 trm rtl  \" ><div class=\"lbl c0 trm \" ><a class=\" txtu hbo\" target=\"_blank\" href=\"https://shebanq.ancient-data.org/hebrew/word?version=2021&amp;id=1W\" title=\"Show this on SHEBANQ\"><span class=\"txtu hbo\">וּ</span></a></div><div class=\"features\"><span class=\"sp xft\" ><span class=\"f\">sp=</span>conj</span></div></div></div></div><div class=\"contnr c1  rtl  \" ><div class=\"lbl c1  \" ><span class=\"nd\">phrase </span> <span class=\"\"><span title=\"typ\">NP</span> <span title=\"function\">Subj</span></span></div><div class=\"children hor wrap rtl\"><div class=\"contnr c0 trm rtl  \" ><div class=\"lbl c0 trm \" ><a class=\" txtu hbo\" target=\"_blank\" href=\"https://shebanq.ancient-data.org/hebrew/word?version=2021&amp;id=1CMn\" title=\"Show this on SHEBANQ\"><span class=\"txtu hbo\">שְׁמֹ֡ו </span></a></div><div class=\"features\"><span class=\"sp xft\" ><span class=\"f\">sp=</span>subs</span></div></div></div></div><div class=\"contnr c1  rtl  \" ><div class=\"lbl c1  \" ><span class=\"nd\">phrase </span> <span class=\"\"><span title=\"typ\">PrNP</span> <span title=\"function\">PreC</span></span></div><div class=\"children hor wrap rtl\"><div class=\"contnr c0 trm rtl  hl\" ><div class=\"lbl c0 trm hl\" ><a class=\" txtu hbo\" target=\"_blank\" href=\"https://shebanq.ancient-data.org/hebrew/word?version=2021&amp;id=1ALQNHn\" title=\"Show this on SHEBANQ\"><span class=\"txtu hbo\">אֶ֠לְקָנָה </span></a></div><div class=\"features\"><span class=\"sp xft\" ><span class=\"f\">sp=</span>nmpr</span></div></div><div class=\"contnr c0 trm rtl  \" ><div class=\"lbl c0 trm \" ><a class=\" txtu hbo\" target=\"_blank\" href=\"https://shebanq.ancient-data.org/hebrew/word?version=2021&amp;id=1BNn\" title=\"Show this on SHEBANQ\"><span class=\"txtu hbo\">בֶּן־</span></a></div><div class=\"features\"><span class=\"sp xft\" ><span class=\"f\">sp=</span>subs</span></div></div><div class=\"contnr c0 trm rtl  \" ><div class=\"lbl c0 trm \" ><a class=\" txtu hbo\" target=\"_blank\" href=\"https://shebanq.ancient-data.org/hebrew/word?version=2021&amp;id=1JRXMn\" title=\"Show this on SHEBANQ\"><span class=\"txtu hbo\">יְרֹחָ֧ם </span></a></div><div class=\"features\"><span class=\"sp xft\" ><span class=\"f\">sp=</span>nmpr</span></div></div><div class=\"contnr c0 trm rtl  \" ><div class=\"lbl c0 trm \" ><a class=\" txtu hbo\" target=\"_blank\" href=\"https://shebanq.ancient-data.org/hebrew/word?version=2021&amp;id=1BNn\" title=\"Show this on SHEBANQ\"><span class=\"txtu hbo\">בֶּן־</span></a></div><div class=\"features\"><span class=\"sp xft\" ><span class=\"f\">sp=</span>subs</span></div></div><div class=\"contnr c0 trm rtl  \" ><div class=\"lbl c0 trm \" ><a class=\" txtu hbo\" target=\"_blank\" href=\"https://shebanq.ancient-data.org/hebrew/word?version=2021&amp;id=1ALJHWAn\" title=\"Show this on SHEBANQ\"><span class=\"txtu hbo\">אֱלִיה֛וּא </span></a></div><div class=\"features\"><span class=\"sp xft\" ><span class=\"f\">sp=</span>nmpr</span></div></div><div class=\"contnr c0 trm rtl  \" ><div class=\"lbl c0 trm \" ><a class=\" txtu hbo\" target=\"_blank\" href=\"https://shebanq.ancient-data.org/hebrew/word?version=2021&amp;id=1BNn\" title=\"Show this on SHEBANQ\"><span class=\"txtu hbo\">בֶּן־</span></a></div><div class=\"features\"><span class=\"sp xft\" ><span class=\"f\">sp=</span>subs</span></div></div><div class=\"contnr c0 trm rtl  \" ><div class=\"lbl c0 trm \" ><a class=\" txtu hbo\" target=\"_blank\" href=\"https://shebanq.ancient-data.org/hebrew/word?version=2021&amp;id=1TXWn\" title=\"Show this on SHEBANQ\"><span class=\"txtu hbo\">תֹּ֥חוּ </span></a></div><div class=\"features\"><span class=\"sp xft\" ><span class=\"f\">sp=</span>nmpr</span></div></div><div class=\"contnr c0 trm rtl  \" ><div class=\"lbl c0 trm \" ><a class=\" txtu hbo\" target=\"_blank\" href=\"https://shebanq.ancient-data.org/hebrew/word?version=2021&amp;id=1BNn\" title=\"Show this on SHEBANQ\"><span class=\"txtu hbo\">בֶן־</span></a></div><div class=\"features\"><span class=\"sp xft\" ><span class=\"f\">sp=</span>subs</span></div></div><div class=\"contnr c0 trm rtl  \" ><div class=\"lbl c0 trm \" ><a class=\" txtu hbo\" target=\"_blank\" href=\"https://shebanq.ancient-data.org/hebrew/word?version=2021&amp;id=1YWPin\" title=\"Show this on SHEBANQ\"><span class=\"txtu hbo\">צ֖וּף </span></a></div><div class=\"features\"><span class=\"sp xft\" ><span class=\"f\">sp=</span>nmpr</span></div></div><div class=\"contnr c0 trm rtl  \" ><div class=\"lbl c0 trm \" ><a class=\" txtu hbo\" target=\"_blank\" href=\"https://shebanq.ancient-data.org/hebrew/word?version=2021&amp;id=1APRTJn\" title=\"Show this on SHEBANQ\"><span class=\"txtu hbo\">אֶפְרָתִֽי׃ </span></a></div><div class=\"features\"><span class=\"sp xft\" ><span class=\"f\">sp=</span>adjv</span></div></div></div></div></div></div></div></div></div></div></div>"
      ],
      "text/plain": [
       "<IPython.core.display.HTML object>"
      ]
     },
     "metadata": {},
     "output_type": "display_data"
    }
   ],
   "source": [
    "A.show(results, end=2)"
   ]
  },
  {
   "cell_type": "markdown",
   "metadata": {},
   "source": [
    "or, stopping at the clause level:"
   ]
  },
  {
   "cell_type": "code",
   "execution_count": 10,
   "metadata": {},
   "outputs": [
    {
     "data": {
      "text/html": [
       "<p><b>result</b> <i>1</i>"
      ],
      "text/plain": [
       "<IPython.core.display.HTML object>"
      ]
     },
     "metadata": {},
     "output_type": "display_data"
    },
    {
     "data": {
      "text/html": [
       "<div class=\"tfsechead rtl\"><span class=\"ltr\"><a target=\"_blank\" href=\"https://shebanq.ancient-data.org/hebrew/text?book=Samuel_I&amp;chapter=1&amp;verse=1&amp;version=2021&amp;mr=m&amp;qw=q&amp;tp=txt_p&amp;tr=hb&amp;wget=v&amp;qget=v&amp;nget=vt\" title=\"Show this on SHEBANQ\" sec=\"1_Samuel\">1_Samuel</a></span></div><div class=\"rtl children\"><div class=\"contnr c4 trm rtl  \" ><div class=\"lbl c4 trm \" ><span class=\"nd\">book </span> <span class=\"txtu hbo\"><span class=\"tfsechead rtl\"><span class=\"ltr\">1_Samuel</span></span></span></div><div class=\"features\"><span class=\"book xft\" ><span class=\"f\">book=</span>Samuel_I</span></div></div></div>"
      ],
      "text/plain": [
       "<IPython.core.display.HTML object>"
      ]
     },
     "metadata": {},
     "output_type": "display_data"
    },
    {
     "data": {
      "text/html": [
       "<div class=\"tfsechead rtl\"><span class=\"ltr\"><a target=\"_blank\" href=\"https://shebanq.ancient-data.org/hebrew/text?book=Samuel_I&amp;chapter=1&amp;verse=1&amp;version=2021&amp;mr=m&amp;qw=q&amp;tp=txt_p&amp;tr=hb&amp;wget=v&amp;qget=v&amp;nget=vt\" title=\"Show this on SHEBANQ\" sec=\"1_Samuel 1:1\">1_Samuel 1:1</a></span></div><div class=\"rtl children\"><div class=\"contnr c3  rtl  \" ><div class=\"lbl c3  \" ><span class=\"nd\">verse </span></div><div class=\"features\"><span class=\"book xft\" ><span class=\"f\">book=</span>Samuel_I</span></div><div class=\"children hor wrap rtl\"><div class=\"contnr c2  rtl  \" ><div class=\"lbl c2  \" ><span class=\"nd\">sentence </span> <span class=\"\"><span title=\"number\">1</span></span></div><div class=\"children hor wrap rtl\"><div class=\"contnr c2 trm rtl  hl\" ><div class=\"lbl c2 trm hl\" ><span class=\"nd\">clause </span> <span class=\"\"><span class=\"plain rtl  \" ><span class=\"txtu hbo\">וַ</span><span class=\"txtu hbo\">יְהִי֩ </span><span class=\"txtu hbo\">אִ֨ישׁ </span><span class=\"txtu hbo\">אֶחָ֜ד </span><span class=\"txtu hbo\">מִן־</span><span class=\"txtu hbo\">הָ</span><span class=\"txtu hbo\">רָמָתַ֛יִם </span><span class=\"txtu hbo\">צֹופִ֖ים </span><span class=\"txtu hbo\">מֵ</span><span class=\"txtu hbo\">הַ֣ר </span><span class=\"plain rtl  hl\" ><span class=\"txtu hbo\">אֶפְרָ֑יִם </span></span></span></span></div></div></div></div><div class=\"contnr c2  rtl  \" ><div class=\"lbl c2  \" ><span class=\"nd\">sentence </span> <span class=\"\"><span title=\"number\">2</span></span></div><div class=\"children hor wrap rtl\"><div class=\"contnr c2 trm rtl  \" ><div class=\"lbl c2 trm \" ><span class=\"nd\">clause </span> <span class=\"\"><span class=\"plain rtl  \" ><span class=\"txtu hbo\">וּ</span><span class=\"txtu hbo\">שְׁמֹ֡ו </span><span class=\"txtu hbo\">אֶ֠לְקָנָה </span><span class=\"txtu hbo\">בֶּן־</span><span class=\"txtu hbo\">יְרֹחָ֧ם </span><span class=\"txtu hbo\">בֶּן־</span><span class=\"txtu hbo\">אֱלִיה֛וּא </span><span class=\"txtu hbo\">בֶּן־</span><span class=\"txtu hbo\">תֹּ֥חוּ </span><span class=\"txtu hbo\">בֶן־</span><span class=\"txtu hbo\">צ֖וּף </span><span class=\"txtu hbo\">אֶפְרָתִֽי׃ </span></span></span></div></div></div></div></div></div></div>"
      ],
      "text/plain": [
       "<IPython.core.display.HTML object>"
      ]
     },
     "metadata": {},
     "output_type": "display_data"
    },
    {
     "data": {
      "text/html": [
       "<p><b>result</b> <i>2</i>"
      ],
      "text/plain": [
       "<IPython.core.display.HTML object>"
      ]
     },
     "metadata": {},
     "output_type": "display_data"
    },
    {
     "data": {
      "text/html": [
       "<div class=\"tfsechead rtl\"><span class=\"ltr\"><a target=\"_blank\" href=\"https://shebanq.ancient-data.org/hebrew/text?book=Samuel_I&amp;chapter=1&amp;verse=1&amp;version=2021&amp;mr=m&amp;qw=q&amp;tp=txt_p&amp;tr=hb&amp;wget=v&amp;qget=v&amp;nget=vt\" title=\"Show this on SHEBANQ\" sec=\"1_Samuel\">1_Samuel</a></span></div><div class=\"rtl children\"><div class=\"contnr c4 trm rtl  \" ><div class=\"lbl c4 trm \" ><span class=\"nd\">book </span> <span class=\"txtu hbo\"><span class=\"tfsechead rtl\"><span class=\"ltr\">1_Samuel</span></span></span></div><div class=\"features\"><span class=\"book xft\" ><span class=\"f\">book=</span>Samuel_I</span></div></div></div>"
      ],
      "text/plain": [
       "<IPython.core.display.HTML object>"
      ]
     },
     "metadata": {},
     "output_type": "display_data"
    },
    {
     "data": {
      "text/html": [
       "<div class=\"tfsechead rtl\"><span class=\"ltr\"><a target=\"_blank\" href=\"https://shebanq.ancient-data.org/hebrew/text?book=Samuel_I&amp;chapter=1&amp;verse=1&amp;version=2021&amp;mr=m&amp;qw=q&amp;tp=txt_p&amp;tr=hb&amp;wget=v&amp;qget=v&amp;nget=vt\" title=\"Show this on SHEBANQ\" sec=\"1_Samuel 1:1\">1_Samuel 1:1</a></span></div><div class=\"rtl children\"><div class=\"contnr c3  rtl  \" ><div class=\"lbl c3  \" ><span class=\"nd\">verse </span></div><div class=\"features\"><span class=\"book xft\" ><span class=\"f\">book=</span>Samuel_I</span></div><div class=\"children hor wrap rtl\"><div class=\"contnr c2  rtl  \" ><div class=\"lbl c2  \" ><span class=\"nd\">sentence </span> <span class=\"\"><span title=\"number\">1</span></span></div><div class=\"children hor wrap rtl\"><div class=\"contnr c2 trm rtl  \" ><div class=\"lbl c2 trm \" ><span class=\"nd\">clause </span> <span class=\"\"><span class=\"plain rtl  \" ><span class=\"txtu hbo\">וַ</span><span class=\"txtu hbo\">יְהִי֩ </span><span class=\"txtu hbo\">אִ֨ישׁ </span><span class=\"txtu hbo\">אֶחָ֜ד </span><span class=\"txtu hbo\">מִן־</span><span class=\"txtu hbo\">הָ</span><span class=\"txtu hbo\">רָמָתַ֛יִם </span><span class=\"txtu hbo\">צֹופִ֖ים </span><span class=\"txtu hbo\">מֵ</span><span class=\"txtu hbo\">הַ֣ר </span><span class=\"txtu hbo\">אֶפְרָ֑יִם </span></span></span></div></div></div></div><div class=\"contnr c2  rtl  \" ><div class=\"lbl c2  \" ><span class=\"nd\">sentence </span> <span class=\"\"><span title=\"number\">2</span></span></div><div class=\"children hor wrap rtl\"><div class=\"contnr c2 trm rtl  hl\" ><div class=\"lbl c2 trm hl\" ><span class=\"nd\">clause </span> <span class=\"\"><span class=\"plain rtl  \" ><span class=\"txtu hbo\">וּ</span><span class=\"txtu hbo\">שְׁמֹ֡ו </span><span class=\"plain rtl  hl\" ><span class=\"txtu hbo\">אֶ֠לְקָנָה </span></span><span class=\"txtu hbo\">בֶּן־</span><span class=\"txtu hbo\">יְרֹחָ֧ם </span><span class=\"txtu hbo\">בֶּן־</span><span class=\"txtu hbo\">אֱלִיה֛וּא </span><span class=\"txtu hbo\">בֶּן־</span><span class=\"txtu hbo\">תֹּ֥חוּ </span><span class=\"txtu hbo\">בֶן־</span><span class=\"txtu hbo\">צ֖וּף </span><span class=\"txtu hbo\">אֶפְרָתִֽי׃ </span></span></span></div></div></div></div></div></div></div>"
      ],
      "text/plain": [
       "<IPython.core.display.HTML object>"
      ]
     },
     "metadata": {},
     "output_type": "display_data"
    }
   ],
   "source": [
    "A.show(results, end=2, baseTypes={\"clause\"})"
   ]
  },
  {
   "cell_type": "markdown",
   "metadata": {},
   "source": [
    "We can view result in phonetic representation as well:"
   ]
  },
  {
   "cell_type": "code",
   "execution_count": 11,
   "metadata": {},
   "outputs": [
    {
     "data": {
      "text/html": [
       "<table><tr class=\"tf ltr\"><th class=\"tf ltr\">n</th><th class=\"tf ltr\">p</th><th class=\"tf ltr\">book</th><th class=\"tf\">clause</th><th class=\"tf\">word</th></tr>\n",
       "<tr class=\"tf ltr\"><td class=\"tf ltr\">1</td><td class=\"tf ltr\"><span class=\"tfsechead ltr\"><span class=\"ltr\"><a target=\"_blank\" href=\"https://shebanq.ancient-data.org/hebrew/text?book=Samuel_I&amp;chapter=1&amp;verse=1&amp;version=2021&amp;mr=m&amp;qw=q&amp;tp=txt_p&amp;tr=hb&amp;wget=v&amp;qget=v&amp;nget=vt\" title=\"Show this on SHEBANQ\" sec=\"1_Samuel 1:1\">1_Samuel 1:1</a></span></span></td><td class=\"tf ltr\"></td><td class=\"tf ltr\"><span class=\"ltr ubd\"><span class=\"plain ltr  hlbx\" ><span class=\"txtp\">wa</span><span class=\"txtp\">yᵊhˌî </span><span class=\"txtp\">ʔˌîš </span><span class=\"txtp\">ʔeḥˈāḏ </span><span class=\"txtp\">min-</span><span class=\"txtp\">hā</span><span class=\"txtp\">rāmāṯˈayim </span><span class=\"txtp\">ṣôfˌîm </span><span class=\"txtp\">mē</span><span class=\"txtp\">hˈar </span><span class=\"plain ltr  hl\" ><span class=\"txtp\">ʔefrˈāyim </span></span></span></span></td><td class=\"tf ltr\"><span class=\"ltr ubd\"><span class=\"plain ltr  hl\" ><span class=\"txtp\">ʔefrˈāyim </span></span></span></td></tr>\n",
       "<tr class=\"tf ltr\"><td class=\"tf ltr\">2</td><td class=\"tf ltr\"><span class=\"tfsechead ltr\"><span class=\"ltr\"><a target=\"_blank\" href=\"https://shebanq.ancient-data.org/hebrew/text?book=Samuel_I&amp;chapter=1&amp;verse=1&amp;version=2021&amp;mr=m&amp;qw=q&amp;tp=txt_p&amp;tr=hb&amp;wget=v&amp;qget=v&amp;nget=vt\" title=\"Show this on SHEBANQ\" sec=\"1_Samuel 1:1\">1_Samuel 1:1</a></span></span></td><td class=\"tf ltr\"></td><td class=\"tf ltr\"><span class=\"ltr ubd\"><span class=\"plain ltr  hlbx\" ><span class=\"txtp\">û</span><span class=\"txtp\">šᵊmˈô </span><span class=\"plain ltr  hl\" ><span class=\"txtp\">ʔelqānˌā </span></span><span class=\"txtp\">ben-</span><span class=\"txtp\">yᵊrōḥˈām </span><span class=\"txtp\">ben-</span><span class=\"txtp\">ʔᵉlîhˈû </span><span class=\"txtp\">ben-</span><span class=\"txtp\">tˌōḥû </span><span class=\"txtp\">ven-</span><span class=\"txtp\">ṣˌûf </span><span class=\"txtp\">ʔefrāṯˈî . </span></span></span></td><td class=\"tf ltr\"><span class=\"ltr ubd\"><span class=\"plain ltr  hl\" ><span class=\"txtp\">ʔelqānˌā </span></span></span></td></tr>\n",
       "<tr class=\"tf ltr\"><td class=\"tf ltr\">3</td><td class=\"tf ltr\"><span class=\"tfsechead ltr\"><span class=\"ltr\"><a target=\"_blank\" href=\"https://shebanq.ancient-data.org/hebrew/text?book=Samuel_I&amp;chapter=1&amp;verse=1&amp;version=2021&amp;mr=m&amp;qw=q&amp;tp=txt_p&amp;tr=hb&amp;wget=v&amp;qget=v&amp;nget=vt\" title=\"Show this on SHEBANQ\" sec=\"1_Samuel 1:1\">1_Samuel 1:1</a></span></span></td><td class=\"tf ltr\"></td><td class=\"tf ltr\"><span class=\"ltr ubd\"><span class=\"plain ltr  hlbx\" ><span class=\"txtp\">û</span><span class=\"txtp\">šᵊmˈô </span><span class=\"txtp\">ʔelqānˌā </span><span class=\"txtp\">ben-</span><span class=\"plain ltr  hl\" ><span class=\"txtp\">yᵊrōḥˈām </span></span><span class=\"txtp\">ben-</span><span class=\"txtp\">ʔᵉlîhˈû </span><span class=\"txtp\">ben-</span><span class=\"txtp\">tˌōḥû </span><span class=\"txtp\">ven-</span><span class=\"txtp\">ṣˌûf </span><span class=\"txtp\">ʔefrāṯˈî . </span></span></span></td><td class=\"tf ltr\"><span class=\"ltr ubd\"><span class=\"plain ltr  hl\" ><span class=\"txtp\">yᵊrōḥˈām </span></span></span></td></tr></table>"
      ],
      "text/plain": [
       "<IPython.core.display.HTML object>"
      ]
     },
     "metadata": {},
     "output_type": "display_data"
    }
   ],
   "source": [
    "A.table(results, end=3, fmt=\"text-phono-full\")"
   ]
  },
  {
   "cell_type": "code",
   "execution_count": 12,
   "metadata": {
    "ExecuteTime": {
     "end_time": "2018-05-24T07:47:06.875859Z",
     "start_time": "2018-05-24T07:47:06.757345Z"
    }
   },
   "outputs": [
    {
     "data": {
      "text/html": [
       "<p><b>result</b> <i>1</i>"
      ],
      "text/plain": [
       "<IPython.core.display.HTML object>"
      ]
     },
     "metadata": {},
     "output_type": "display_data"
    },
    {
     "data": {
      "text/html": [
       "<div class=\"tfsechead ltr\"><span class=\"ltr\"><a target=\"_blank\" href=\"https://shebanq.ancient-data.org/hebrew/text?book=Samuel_I&amp;chapter=1&amp;verse=1&amp;version=2021&amp;mr=m&amp;qw=q&amp;tp=txt_p&amp;tr=hb&amp;wget=v&amp;qget=v&amp;nget=vt\" title=\"Show this on SHEBANQ\" sec=\"1_Samuel\">1_Samuel</a></span></div><div class=\"ltr children\"><div class=\"contnr c4 trm ltr  \" ><div class=\"lbl c4 trm \" ><span class=\"nd\">book </span> <span class=\"txtp\"><span class=\"tfsechead ltr\"><span class=\"ltr\">1_Samuel</span></span></span></div><div class=\"features\"><span class=\"book xft\" ><span class=\"f\">book=</span>Samuel_I</span></div></div></div>"
      ],
      "text/plain": [
       "<IPython.core.display.HTML object>"
      ]
     },
     "metadata": {},
     "output_type": "display_data"
    },
    {
     "data": {
      "text/html": [
       "<div class=\"tfsechead ltr\"><span class=\"ltr\"><a target=\"_blank\" href=\"https://shebanq.ancient-data.org/hebrew/text?book=Samuel_I&amp;chapter=1&amp;verse=1&amp;version=2021&amp;mr=m&amp;qw=q&amp;tp=txt_p&amp;tr=hb&amp;wget=v&amp;qget=v&amp;nget=vt\" title=\"Show this on SHEBANQ\" sec=\"1_Samuel 1:1\">1_Samuel 1:1</a></span></div><div class=\"ltr children\"><div class=\"contnr c3  ltr  \" ><div class=\"lbl c3  \" ><span class=\"nd\">verse </span></div><div class=\"features\"><span class=\"book xft\" ><span class=\"f\">book=</span>Samuel_I</span></div><div class=\"children hor wrap ltr\"><div class=\"contnr c2  ltr  \" ><div class=\"lbl c2  \" ><span class=\"nd\">sentence </span> <span class=\"\"><span title=\"number\">1</span></span></div><div class=\"children hor wrap ltr\"><div class=\"contnr c2  ltr  hl\" ><div class=\"lbl c2  hl\" ><span class=\"nd\">clause </span> <span class=\"\"><span title=\"typ\">WayX</span> <span title=\"rela\">NA</span></span></div><div class=\"children hor wrap ltr\"><div class=\"contnr c1  ltr  \" ><div class=\"lbl c1  \" ><span class=\"nd\">phrase </span> <span class=\"\"><span title=\"typ\">CP</span> <span title=\"function\">Conj</span></span></div><div class=\"children hor wrap ltr\"><div class=\"contnr c0 trm ltr  \" ><div class=\"lbl c0 trm \" ><a class=\" txtu hbo\" target=\"_blank\" href=\"https://shebanq.ancient-data.org/hebrew/word?version=2021&amp;id=1W\" title=\"Show this on SHEBANQ\"><span class=\"txtp\">wa</span></a></div><div class=\"features\"><span class=\"sp xft\" ><span class=\"f\">sp=</span>conj</span></div></div></div></div><div class=\"contnr c1  ltr  \" ><div class=\"lbl c1  \" ><span class=\"nd\">phrase </span> <span class=\"\"><span title=\"typ\">VP</span> <span title=\"function\">Pred</span></span></div><div class=\"children hor wrap ltr\"><div class=\"contnr c0 trm ltr  \" ><div class=\"lbl c0 trm \" ><a class=\" txtu hbo\" target=\"_blank\" href=\"https://shebanq.ancient-data.org/hebrew/word?version=2021&amp;id=1HJHv\" title=\"Show this on SHEBANQ\"><span class=\"txtp\">yᵊhˌî </span></a></div><div class=\"features\"><span class=\"sp xft\" ><span class=\"f\">sp=</span>verb</span></div></div></div></div><div class=\"contnr c1  ltr  \" ><div class=\"lbl c1  \" ><span class=\"nd\">phrase </span> <span class=\"\"><span title=\"typ\">NP</span> <span title=\"function\">Subj</span></span></div><div class=\"children hor wrap ltr\"><div class=\"contnr c0 trm ltr  \" ><div class=\"lbl c0 trm \" ><a class=\" txtu hbo\" target=\"_blank\" href=\"https://shebanq.ancient-data.org/hebrew/word?version=2021&amp;id=1AJCn\" title=\"Show this on SHEBANQ\"><span class=\"txtp\">ʔˌîš </span></a></div><div class=\"features\"><span class=\"sp xft\" ><span class=\"f\">sp=</span>subs</span></div></div><div class=\"contnr c0 trm ltr  \" ><div class=\"lbl c0 trm \" ><a class=\" txtu hbo\" target=\"_blank\" href=\"https://shebanq.ancient-data.org/hebrew/word?version=2021&amp;id=1AXDn\" title=\"Show this on SHEBANQ\"><span class=\"txtp\">ʔeḥˈāḏ </span></a></div><div class=\"features\"><span class=\"sp xft\" ><span class=\"f\">sp=</span>subs</span></div></div><div class=\"contnr c0 trm ltr  \" ><div class=\"lbl c0 trm \" ><a class=\" txtu hbo\" target=\"_blank\" href=\"https://shebanq.ancient-data.org/hebrew/word?version=2021&amp;id=1MN\" title=\"Show this on SHEBANQ\"><span class=\"txtp\">min-</span></a></div><div class=\"features\"><span class=\"sp xft\" ><span class=\"f\">sp=</span>prep</span></div></div><div class=\"contnr c0 trm ltr  \" ><div class=\"lbl c0 trm \" ><a class=\" txtu hbo\" target=\"_blank\" href=\"https://shebanq.ancient-data.org/hebrew/word?version=2021&amp;id=1H\" title=\"Show this on SHEBANQ\"><span class=\"txtp\">hā</span></a></div><div class=\"features\"><span class=\"sp xft\" ><span class=\"f\">sp=</span>art</span></div></div><div class=\"contnr c0 trm ltr  \" ><div class=\"lbl c0 trm \" ><a class=\" txtu hbo\" target=\"_blank\" href=\"https://shebanq.ancient-data.org/hebrew/word?version=2021&amp;id=1RMHin\" title=\"Show this on SHEBANQ\"><span class=\"txtp\">rāmāṯˈayim </span></a></div><div class=\"features\"><span class=\"sp xft\" ><span class=\"f\">sp=</span>subs</span></div></div><div class=\"contnr c0 trm ltr  \" ><div class=\"lbl c0 trm \" ><a class=\" txtu hbo\" target=\"_blank\" href=\"https://shebanq.ancient-data.org/hebrew/word?version=2021&amp;id=1YPHv\" title=\"Show this on SHEBANQ\"><span class=\"txtp\">ṣôfˌîm </span></a></div><div class=\"features\"><span class=\"sp xft\" ><span class=\"f\">sp=</span>verb</span></div></div><div class=\"contnr c0 trm ltr  \" ><div class=\"lbl c0 trm \" ><a class=\" txtu hbo\" target=\"_blank\" href=\"https://shebanq.ancient-data.org/hebrew/word?version=2021&amp;id=1MN\" title=\"Show this on SHEBANQ\"><span class=\"txtp\">mē</span></a></div><div class=\"features\"><span class=\"sp xft\" ><span class=\"f\">sp=</span>prep</span></div></div><div class=\"contnr c0 trm ltr  \" ><div class=\"lbl c0 trm \" ><a class=\" txtu hbo\" target=\"_blank\" href=\"https://shebanq.ancient-data.org/hebrew/word?version=2021&amp;id=1HRn\" title=\"Show this on SHEBANQ\"><span class=\"txtp\">hˈar </span></a></div><div class=\"features\"><span class=\"sp xft\" ><span class=\"f\">sp=</span>subs</span></div></div><div class=\"contnr c0 trm ltr  hl\" ><div class=\"lbl c0 trm hl\" ><a class=\" txtu hbo\" target=\"_blank\" href=\"https://shebanq.ancient-data.org/hebrew/word?version=2021&amp;id=1APRJMn\" title=\"Show this on SHEBANQ\"><span class=\"txtp\">ʔefrˈāyim </span></a></div><div class=\"features\"><span class=\"sp xft\" ><span class=\"f\">sp=</span>nmpr</span></div></div></div></div></div></div></div></div><div class=\"contnr c2  ltr  \" ><div class=\"lbl c2  \" ><span class=\"nd\">sentence </span> <span class=\"\"><span title=\"number\">2</span></span></div><div class=\"children hor wrap ltr\"><div class=\"contnr c2  ltr  \" ><div class=\"lbl c2  \" ><span class=\"nd\">clause </span> <span class=\"\"><span title=\"typ\">NmCl</span> <span title=\"rela\">NA</span></span></div><div class=\"children hor wrap ltr\"><div class=\"contnr c1  ltr  \" ><div class=\"lbl c1  \" ><span class=\"nd\">phrase </span> <span class=\"\"><span title=\"typ\">CP</span> <span title=\"function\">Conj</span></span></div><div class=\"children hor wrap ltr\"><div class=\"contnr c0 trm ltr  \" ><div class=\"lbl c0 trm \" ><a class=\" txtu hbo\" target=\"_blank\" href=\"https://shebanq.ancient-data.org/hebrew/word?version=2021&amp;id=1W\" title=\"Show this on SHEBANQ\"><span class=\"txtp\">û</span></a></div><div class=\"features\"><span class=\"sp xft\" ><span class=\"f\">sp=</span>conj</span></div></div></div></div><div class=\"contnr c1  ltr  \" ><div class=\"lbl c1  \" ><span class=\"nd\">phrase </span> <span class=\"\"><span title=\"typ\">NP</span> <span title=\"function\">Subj</span></span></div><div class=\"children hor wrap ltr\"><div class=\"contnr c0 trm ltr  \" ><div class=\"lbl c0 trm \" ><a class=\" txtu hbo\" target=\"_blank\" href=\"https://shebanq.ancient-data.org/hebrew/word?version=2021&amp;id=1CMn\" title=\"Show this on SHEBANQ\"><span class=\"txtp\">šᵊmˈô </span></a></div><div class=\"features\"><span class=\"sp xft\" ><span class=\"f\">sp=</span>subs</span></div></div></div></div><div class=\"contnr c1  ltr  \" ><div class=\"lbl c1  \" ><span class=\"nd\">phrase </span> <span class=\"\"><span title=\"typ\">PrNP</span> <span title=\"function\">PreC</span></span></div><div class=\"children hor wrap ltr\"><div class=\"contnr c0 trm ltr  \" ><div class=\"lbl c0 trm \" ><a class=\" txtu hbo\" target=\"_blank\" href=\"https://shebanq.ancient-data.org/hebrew/word?version=2021&amp;id=1ALQNHn\" title=\"Show this on SHEBANQ\"><span class=\"txtp\">ʔelqānˌā </span></a></div><div class=\"features\"><span class=\"sp xft\" ><span class=\"f\">sp=</span>nmpr</span></div></div><div class=\"contnr c0 trm ltr  \" ><div class=\"lbl c0 trm \" ><a class=\" txtu hbo\" target=\"_blank\" href=\"https://shebanq.ancient-data.org/hebrew/word?version=2021&amp;id=1BNn\" title=\"Show this on SHEBANQ\"><span class=\"txtp\">ben-</span></a></div><div class=\"features\"><span class=\"sp xft\" ><span class=\"f\">sp=</span>subs</span></div></div><div class=\"contnr c0 trm ltr  \" ><div class=\"lbl c0 trm \" ><a class=\" txtu hbo\" target=\"_blank\" href=\"https://shebanq.ancient-data.org/hebrew/word?version=2021&amp;id=1JRXMn\" title=\"Show this on SHEBANQ\"><span class=\"txtp\">yᵊrōḥˈām </span></a></div><div class=\"features\"><span class=\"sp xft\" ><span class=\"f\">sp=</span>nmpr</span></div></div><div class=\"contnr c0 trm ltr  \" ><div class=\"lbl c0 trm \" ><a class=\" txtu hbo\" target=\"_blank\" href=\"https://shebanq.ancient-data.org/hebrew/word?version=2021&amp;id=1BNn\" title=\"Show this on SHEBANQ\"><span class=\"txtp\">ben-</span></a></div><div class=\"features\"><span class=\"sp xft\" ><span class=\"f\">sp=</span>subs</span></div></div><div class=\"contnr c0 trm ltr  \" ><div class=\"lbl c0 trm \" ><a class=\" txtu hbo\" target=\"_blank\" href=\"https://shebanq.ancient-data.org/hebrew/word?version=2021&amp;id=1ALJHWAn\" title=\"Show this on SHEBANQ\"><span class=\"txtp\">ʔᵉlîhˈû </span></a></div><div class=\"features\"><span class=\"sp xft\" ><span class=\"f\">sp=</span>nmpr</span></div></div><div class=\"contnr c0 trm ltr  \" ><div class=\"lbl c0 trm \" ><a class=\" txtu hbo\" target=\"_blank\" href=\"https://shebanq.ancient-data.org/hebrew/word?version=2021&amp;id=1BNn\" title=\"Show this on SHEBANQ\"><span class=\"txtp\">ben-</span></a></div><div class=\"features\"><span class=\"sp xft\" ><span class=\"f\">sp=</span>subs</span></div></div><div class=\"contnr c0 trm ltr  \" ><div class=\"lbl c0 trm \" ><a class=\" txtu hbo\" target=\"_blank\" href=\"https://shebanq.ancient-data.org/hebrew/word?version=2021&amp;id=1TXWn\" title=\"Show this on SHEBANQ\"><span class=\"txtp\">tˌōḥû </span></a></div><div class=\"features\"><span class=\"sp xft\" ><span class=\"f\">sp=</span>nmpr</span></div></div><div class=\"contnr c0 trm ltr  \" ><div class=\"lbl c0 trm \" ><a class=\" txtu hbo\" target=\"_blank\" href=\"https://shebanq.ancient-data.org/hebrew/word?version=2021&amp;id=1BNn\" title=\"Show this on SHEBANQ\"><span class=\"txtp\">ven-</span></a></div><div class=\"features\"><span class=\"sp xft\" ><span class=\"f\">sp=</span>subs</span></div></div><div class=\"contnr c0 trm ltr  \" ><div class=\"lbl c0 trm \" ><a class=\" txtu hbo\" target=\"_blank\" href=\"https://shebanq.ancient-data.org/hebrew/word?version=2021&amp;id=1YWPin\" title=\"Show this on SHEBANQ\"><span class=\"txtp\">ṣˌûf </span></a></div><div class=\"features\"><span class=\"sp xft\" ><span class=\"f\">sp=</span>nmpr</span></div></div><div class=\"contnr c0 trm ltr  \" ><div class=\"lbl c0 trm \" ><a class=\" txtu hbo\" target=\"_blank\" href=\"https://shebanq.ancient-data.org/hebrew/word?version=2021&amp;id=1APRTJn\" title=\"Show this on SHEBANQ\"><span class=\"txtp\">ʔefrāṯˈî . </span></a></div><div class=\"features\"><span class=\"sp xft\" ><span class=\"f\">sp=</span>adjv</span></div></div></div></div></div></div></div></div></div></div></div>"
      ],
      "text/plain": [
       "<IPython.core.display.HTML object>"
      ]
     },
     "metadata": {},
     "output_type": "display_data"
    }
   ],
   "source": [
    "A.show(results, end=1, fmt=\"text-phono-full\")"
   ]
  },
  {
   "cell_type": "markdown",
   "metadata": {},
   "source": [
    "We are done with this query and its results. We reset the `skipCols` parameter."
   ]
  },
  {
   "cell_type": "code",
   "execution_count": 13,
   "metadata": {},
   "outputs": [],
   "source": [
    "A.displayReset(\"skipCols\")"
   ]
  },
  {
   "cell_type": "markdown",
   "metadata": {},
   "source": [
    "# Condense results\n",
    "\n",
    "There are two fundamentally different ways of presenting the results: condensed and uncondensed.\n",
    "\n",
    "In **uncondensed** view, all results are listed individually.\n",
    "You can keep track of which parts belong to which results.\n",
    "The display can become unwieldy.\n",
    "\n",
    "This is the default view, because it is the straightest, most logical, answer to your query.\n",
    "\n",
    "In **condensed** view all nodes of all results are grouped in containers first (e.g. verses), and then presented\n",
    "container by container.\n",
    "You loose the information of what parts belong to what result.\n",
    "\n",
    "Here is an example of the difference."
   ]
  },
  {
   "cell_type": "code",
   "execution_count": 14,
   "metadata": {
    "ExecuteTime": {
     "end_time": "2018-05-24T07:47:14.547656Z",
     "start_time": "2018-05-24T07:47:14.544433Z"
    }
   },
   "outputs": [],
   "source": [
    "query = \"\"\"\n",
    "book book=Genesis\n",
    "  chapter chapter=1\n",
    "    verse verse=1\n",
    "      sentence\n",
    "% order is not important!\n",
    "        word nu=sg\n",
    "        word nu=pl\n",
    "\"\"\""
   ]
  },
  {
   "cell_type": "markdown",
   "metadata": {},
   "source": [
    "Note that you can have comments in a search template. Comment lines start with a `%`."
   ]
  },
  {
   "cell_type": "code",
   "execution_count": 15,
   "metadata": {
    "ExecuteTime": {
     "end_time": "2018-05-24T07:47:18.913432Z",
     "start_time": "2018-05-24T07:47:17.357992Z"
    }
   },
   "outputs": [
    {
     "name": "stdout",
     "output_type": "stream",
     "text": [
      "  0.45s 6 results\n"
     ]
    }
   ],
   "source": [
    "results = A.search(query)"
   ]
  },
  {
   "cell_type": "markdown",
   "metadata": {},
   "source": [
    "The book, chapter, verse columns are completely uninformative, so:"
   ]
  },
  {
   "cell_type": "code",
   "execution_count": 16,
   "metadata": {},
   "outputs": [],
   "source": [
    "A.displaySetup(skipCols=\"1 2 3\")"
   ]
  },
  {
   "cell_type": "code",
   "execution_count": 17,
   "metadata": {
    "ExecuteTime": {
     "end_time": "2018-05-24T07:47:18.913432Z",
     "start_time": "2018-05-24T07:47:17.357992Z"
    }
   },
   "outputs": [
    {
     "data": {
      "text/html": [
       "<table><tr class=\"tf rtl\"><th class=\"tf rtl\">n</th><th class=\"tf rtl\">p</th><th class=\"tf rtl\">book</th><th class=\"tf\">chapter</th><th class=\"tf\">verse</th><th class=\"tf\">sentence</th><th class=\"tf\">word</th><th class=\"tf\">word</th></tr>\n",
       "<tr class=\"tf rtl\"><td class=\"tf rtl\">1</td><td class=\"tf rtl\"><span class=\"tfsechead rtl\"><span class=\"ltr\"><a target=\"_blank\" href=\"https://shebanq.ancient-data.org/hebrew/text?book=Genesis&amp;chapter=1&amp;verse=1&amp;version=2021&amp;mr=m&amp;qw=q&amp;tp=txt_p&amp;tr=hb&amp;wget=v&amp;qget=v&amp;nget=vt\" title=\"Show this on SHEBANQ\" sec=\"Genesis 1:1\">Genesis 1:1</a></span></span></td><td class=\"tf rtl\"></td><td class=\"tf rtl\"></td><td class=\"tf rtl\"></td><td class=\"tf rtl\"><span class=\"rtl ubd\"><span class=\"plain rtl  hlbx\" ><span class=\"txtu hbo\">בְּ</span><span class=\"plain rtl  hl\" ><span class=\"txtu hbo\">רֵאשִׁ֖ית </span></span><span class=\"txtu hbo\">בָּרָ֣א </span><span class=\"plain rtl  hl\" ><span class=\"txtu hbo\">אֱלֹהִ֑ים </span></span><span class=\"txtu hbo\">אֵ֥ת </span><span class=\"txtu hbo\">הַ</span><span class=\"txtu hbo\">שָּׁמַ֖יִם </span><span class=\"txtu hbo\">וְ</span><span class=\"txtu hbo\">אֵ֥ת </span><span class=\"txtu hbo\">הָ</span><span class=\"txtu hbo\">אָֽרֶץ׃ </span></span></span></td><td class=\"tf rtl\"><span class=\"rtl ubd\"><span class=\"plain rtl  hl\" ><span class=\"txtu hbo\">רֵאשִׁ֖ית </span></span></span></td><td class=\"tf rtl\"><span class=\"rtl ubd\"><span class=\"plain rtl  hl\" ><span class=\"txtu hbo\">אֱלֹהִ֑ים </span></span></span></td></tr>\n",
       "<tr class=\"tf rtl\"><td class=\"tf rtl\">2</td><td class=\"tf rtl\"><span class=\"tfsechead rtl\"><span class=\"ltr\"><a target=\"_blank\" href=\"https://shebanq.ancient-data.org/hebrew/text?book=Genesis&amp;chapter=1&amp;verse=1&amp;version=2021&amp;mr=m&amp;qw=q&amp;tp=txt_p&amp;tr=hb&amp;wget=v&amp;qget=v&amp;nget=vt\" title=\"Show this on SHEBANQ\" sec=\"Genesis 1:1\">Genesis 1:1</a></span></span></td><td class=\"tf rtl\"></td><td class=\"tf rtl\"></td><td class=\"tf rtl\"></td><td class=\"tf rtl\"><span class=\"rtl ubd\"><span class=\"plain rtl  hlbx\" ><span class=\"txtu hbo\">בְּ</span><span class=\"plain rtl  hl\" ><span class=\"txtu hbo\">רֵאשִׁ֖ית </span></span><span class=\"txtu hbo\">בָּרָ֣א </span><span class=\"txtu hbo\">אֱלֹהִ֑ים </span><span class=\"txtu hbo\">אֵ֥ת </span><span class=\"txtu hbo\">הַ</span><span class=\"plain rtl  hl\" ><span class=\"txtu hbo\">שָּׁמַ֖יִם </span></span><span class=\"txtu hbo\">וְ</span><span class=\"txtu hbo\">אֵ֥ת </span><span class=\"txtu hbo\">הָ</span><span class=\"txtu hbo\">אָֽרֶץ׃ </span></span></span></td><td class=\"tf rtl\"><span class=\"rtl ubd\"><span class=\"plain rtl  hl\" ><span class=\"txtu hbo\">רֵאשִׁ֖ית </span></span></span></td><td class=\"tf rtl\"><span class=\"rtl ubd\"><span class=\"plain rtl  hl\" ><span class=\"txtu hbo\">שָּׁמַ֖יִם </span></span></span></td></tr>\n",
       "<tr class=\"tf rtl\"><td class=\"tf rtl\">3</td><td class=\"tf rtl\"><span class=\"tfsechead rtl\"><span class=\"ltr\"><a target=\"_blank\" href=\"https://shebanq.ancient-data.org/hebrew/text?book=Genesis&amp;chapter=1&amp;verse=1&amp;version=2021&amp;mr=m&amp;qw=q&amp;tp=txt_p&amp;tr=hb&amp;wget=v&amp;qget=v&amp;nget=vt\" title=\"Show this on SHEBANQ\" sec=\"Genesis 1:1\">Genesis 1:1</a></span></span></td><td class=\"tf rtl\"></td><td class=\"tf rtl\"></td><td class=\"tf rtl\"></td><td class=\"tf rtl\"><span class=\"rtl ubd\"><span class=\"plain rtl  hlbx\" ><span class=\"txtu hbo\">בְּ</span><span class=\"txtu hbo\">רֵאשִׁ֖ית </span><span class=\"plain rtl  hl\" ><span class=\"txtu hbo\">בָּרָ֣א </span></span><span class=\"plain rtl  hl\" ><span class=\"txtu hbo\">אֱלֹהִ֑ים </span></span><span class=\"txtu hbo\">אֵ֥ת </span><span class=\"txtu hbo\">הַ</span><span class=\"txtu hbo\">שָּׁמַ֖יִם </span><span class=\"txtu hbo\">וְ</span><span class=\"txtu hbo\">אֵ֥ת </span><span class=\"txtu hbo\">הָ</span><span class=\"txtu hbo\">אָֽרֶץ׃ </span></span></span></td><td class=\"tf rtl\"><span class=\"rtl ubd\"><span class=\"plain rtl  hl\" ><span class=\"txtu hbo\">בָּרָ֣א </span></span></span></td><td class=\"tf rtl\"><span class=\"rtl ubd\"><span class=\"plain rtl  hl\" ><span class=\"txtu hbo\">אֱלֹהִ֑ים </span></span></span></td></tr>\n",
       "<tr class=\"tf rtl\"><td class=\"tf rtl\">4</td><td class=\"tf rtl\"><span class=\"tfsechead rtl\"><span class=\"ltr\"><a target=\"_blank\" href=\"https://shebanq.ancient-data.org/hebrew/text?book=Genesis&amp;chapter=1&amp;verse=1&amp;version=2021&amp;mr=m&amp;qw=q&amp;tp=txt_p&amp;tr=hb&amp;wget=v&amp;qget=v&amp;nget=vt\" title=\"Show this on SHEBANQ\" sec=\"Genesis 1:1\">Genesis 1:1</a></span></span></td><td class=\"tf rtl\"></td><td class=\"tf rtl\"></td><td class=\"tf rtl\"></td><td class=\"tf rtl\"><span class=\"rtl ubd\"><span class=\"plain rtl  hlbx\" ><span class=\"txtu hbo\">בְּ</span><span class=\"txtu hbo\">רֵאשִׁ֖ית </span><span class=\"plain rtl  hl\" ><span class=\"txtu hbo\">בָּרָ֣א </span></span><span class=\"txtu hbo\">אֱלֹהִ֑ים </span><span class=\"txtu hbo\">אֵ֥ת </span><span class=\"txtu hbo\">הַ</span><span class=\"plain rtl  hl\" ><span class=\"txtu hbo\">שָּׁמַ֖יִם </span></span><span class=\"txtu hbo\">וְ</span><span class=\"txtu hbo\">אֵ֥ת </span><span class=\"txtu hbo\">הָ</span><span class=\"txtu hbo\">אָֽרֶץ׃ </span></span></span></td><td class=\"tf rtl\"><span class=\"rtl ubd\"><span class=\"plain rtl  hl\" ><span class=\"txtu hbo\">בָּרָ֣א </span></span></span></td><td class=\"tf rtl\"><span class=\"rtl ubd\"><span class=\"plain rtl  hl\" ><span class=\"txtu hbo\">שָּׁמַ֖יִם </span></span></span></td></tr>\n",
       "<tr class=\"tf rtl\"><td class=\"tf rtl\">5</td><td class=\"tf rtl\"><span class=\"tfsechead rtl\"><span class=\"ltr\"><a target=\"_blank\" href=\"https://shebanq.ancient-data.org/hebrew/text?book=Genesis&amp;chapter=1&amp;verse=1&amp;version=2021&amp;mr=m&amp;qw=q&amp;tp=txt_p&amp;tr=hb&amp;wget=v&amp;qget=v&amp;nget=vt\" title=\"Show this on SHEBANQ\" sec=\"Genesis 1:1\">Genesis 1:1</a></span></span></td><td class=\"tf rtl\"></td><td class=\"tf rtl\"></td><td class=\"tf rtl\"></td><td class=\"tf rtl\"><span class=\"rtl ubd\"><span class=\"plain rtl  hlbx\" ><span class=\"txtu hbo\">בְּ</span><span class=\"txtu hbo\">רֵאשִׁ֖ית </span><span class=\"txtu hbo\">בָּרָ֣א </span><span class=\"plain rtl  hl\" ><span class=\"txtu hbo\">אֱלֹהִ֑ים </span></span><span class=\"txtu hbo\">אֵ֥ת </span><span class=\"txtu hbo\">הַ</span><span class=\"txtu hbo\">שָּׁמַ֖יִם </span><span class=\"txtu hbo\">וְ</span><span class=\"txtu hbo\">אֵ֥ת </span><span class=\"txtu hbo\">הָ</span><span class=\"plain rtl  hl\" ><span class=\"txtu hbo\">אָֽרֶץ׃ </span></span></span></span></td><td class=\"tf rtl\"><span class=\"rtl ubd\"><span class=\"plain rtl  hl\" ><span class=\"txtu hbo\">אָֽרֶץ׃ </span></span></span></td><td class=\"tf rtl\"><span class=\"rtl ubd\"><span class=\"plain rtl  hl\" ><span class=\"txtu hbo\">אֱלֹהִ֑ים </span></span></span></td></tr>\n",
       "<tr class=\"tf rtl\"><td class=\"tf rtl\">6</td><td class=\"tf rtl\"><span class=\"tfsechead rtl\"><span class=\"ltr\"><a target=\"_blank\" href=\"https://shebanq.ancient-data.org/hebrew/text?book=Genesis&amp;chapter=1&amp;verse=1&amp;version=2021&amp;mr=m&amp;qw=q&amp;tp=txt_p&amp;tr=hb&amp;wget=v&amp;qget=v&amp;nget=vt\" title=\"Show this on SHEBANQ\" sec=\"Genesis 1:1\">Genesis 1:1</a></span></span></td><td class=\"tf rtl\"></td><td class=\"tf rtl\"></td><td class=\"tf rtl\"></td><td class=\"tf rtl\"><span class=\"rtl ubd\"><span class=\"plain rtl  hlbx\" ><span class=\"txtu hbo\">בְּ</span><span class=\"txtu hbo\">רֵאשִׁ֖ית </span><span class=\"txtu hbo\">בָּרָ֣א </span><span class=\"txtu hbo\">אֱלֹהִ֑ים </span><span class=\"txtu hbo\">אֵ֥ת </span><span class=\"txtu hbo\">הַ</span><span class=\"plain rtl  hl\" ><span class=\"txtu hbo\">שָּׁמַ֖יִם </span></span><span class=\"txtu hbo\">וְ</span><span class=\"txtu hbo\">אֵ֥ת </span><span class=\"txtu hbo\">הָ</span><span class=\"plain rtl  hl\" ><span class=\"txtu hbo\">אָֽרֶץ׃ </span></span></span></span></td><td class=\"tf rtl\"><span class=\"rtl ubd\"><span class=\"plain rtl  hl\" ><span class=\"txtu hbo\">אָֽרֶץ׃ </span></span></span></td><td class=\"tf rtl\"><span class=\"rtl ubd\"><span class=\"plain rtl  hl\" ><span class=\"txtu hbo\">שָּׁמַ֖יִם </span></span></span></td></tr></table>"
      ],
      "text/plain": [
       "<IPython.core.display.HTML object>"
      ]
     },
     "metadata": {},
     "output_type": "display_data"
    }
   ],
   "source": [
    "A.table(results, withPassage=True)"
   ]
  },
  {
   "cell_type": "markdown",
   "metadata": {},
   "source": [
    "There are two plural and three singular words in Genesis 1:1.\n",
    "Search templates do not specify order, so all six combinations qualify as results.\n",
    "\n",
    "Let's expand the results display:"
   ]
  },
  {
   "cell_type": "code",
   "execution_count": 18,
   "metadata": {
    "ExecuteTime": {
     "end_time": "2018-05-24T07:47:21.573937Z",
     "start_time": "2018-05-24T07:47:21.561079Z"
    }
   },
   "outputs": [
    {
     "data": {
      "text/html": [
       "<p><b>result</b> <i>1</i>"
      ],
      "text/plain": [
       "<IPython.core.display.HTML object>"
      ]
     },
     "metadata": {},
     "output_type": "display_data"
    },
    {
     "data": {
      "text/html": [
       "<div class=\"tfsechead rtl\"><span class=\"ltr\"><a target=\"_blank\" href=\"https://shebanq.ancient-data.org/hebrew/text?book=Genesis&amp;chapter=1&amp;verse=1&amp;version=2021&amp;mr=m&amp;qw=q&amp;tp=txt_p&amp;tr=hb&amp;wget=v&amp;qget=v&amp;nget=vt\" title=\"Show this on SHEBANQ\" sec=\"Genesis\">Genesis</a></span></div><div class=\"rtl children\"><div class=\"contnr c4 trm rtl  \" ><div class=\"lbl c4 trm \" ><span class=\"nd\">book </span> <span class=\"txtu hbo\"><span class=\"tfsechead rtl\"><span class=\"ltr\">Genesis</span></span></span></div><div class=\"features\"><span class=\"book xft\" ><span class=\"f\">book=</span>Genesis</span></div></div></div>"
      ],
      "text/plain": [
       "<IPython.core.display.HTML object>"
      ]
     },
     "metadata": {},
     "output_type": "display_data"
    },
    {
     "data": {
      "text/html": [
       "<div class=\"tfsechead rtl\"><span class=\"ltr\"><a target=\"_blank\" href=\"https://shebanq.ancient-data.org/hebrew/text?book=Genesis&amp;chapter=1&amp;verse=1&amp;version=2021&amp;mr=m&amp;qw=q&amp;tp=txt_p&amp;tr=hb&amp;wget=v&amp;qget=v&amp;nget=vt\" title=\"Show this on SHEBANQ\" sec=\"Genesis 1\">Genesis 1</a></span></div><div class=\"rtl children\"><div class=\"contnr c4 trm rtl  \" ><div class=\"lbl c4 trm \" ><span class=\"nd\">chapter </span> <span class=\"txtu hbo\"><span class=\"tfsechead rtl\"><span class=\"ltr\">Genesis 1</span></span></span></div><div class=\"features\"><span class=\"book xft\" ><span class=\"f\">book=</span>Genesis</span><span class=\"chapter xft\" ><span class=\"f\">chapter=</span>1</span></div></div></div>"
      ],
      "text/plain": [
       "<IPython.core.display.HTML object>"
      ]
     },
     "metadata": {},
     "output_type": "display_data"
    },
    {
     "data": {
      "text/html": [
       "<div class=\"tfsechead rtl\"><span class=\"ltr\"><a target=\"_blank\" href=\"https://shebanq.ancient-data.org/hebrew/text?book=Genesis&amp;chapter=1&amp;verse=1&amp;version=2021&amp;mr=m&amp;qw=q&amp;tp=txt_p&amp;tr=hb&amp;wget=v&amp;qget=v&amp;nget=vt\" title=\"Show this on SHEBANQ\" sec=\"Genesis 1:1\">Genesis 1:1</a></span></div><div class=\"rtl children\"><div class=\"contnr c3  rtl  \" ><div class=\"lbl c3  \" ><span class=\"nd\">verse </span></div><div class=\"features\"><span class=\"book xft\" ><span class=\"f\">book=</span>Genesis</span><span class=\"chapter xft\" ><span class=\"f\">chapter=</span>1</span><span class=\"verse xft\" ><span class=\"f\">verse=</span>1</span></div><div class=\"children hor wrap rtl\"><div class=\"contnr c2  rtl  hl\" ><div class=\"lbl c2  hl\" ><span class=\"nd\">sentence </span> <span class=\"\"><span title=\"number\">1</span></span></div><div class=\"children hor wrap rtl\"><div class=\"contnr c2  rtl  \" ><div class=\"lbl c2  \" ><span class=\"nd\">clause </span> <span class=\"\"><span title=\"typ\">xQtX</span> <span title=\"rela\">NA</span></span></div><div class=\"children hor wrap rtl\"><div class=\"contnr c1  rtl  \" ><div class=\"lbl c1  \" ><span class=\"nd\">phrase </span> <span class=\"\"><span title=\"typ\">PP</span> <span title=\"function\">Time</span></span></div><div class=\"children hor wrap rtl\"><div class=\"contnr c0 trm rtl  \" ><div class=\"lbl c0 trm \" ><a class=\" txtu hbo\" target=\"_blank\" href=\"https://shebanq.ancient-data.org/hebrew/word?version=2021&amp;id=1B\" title=\"Show this on SHEBANQ\"><span class=\"txtu hbo\">בְּ</span></a></div></div><div class=\"contnr c0 trm rtl  hl\" ><div class=\"lbl c0 trm hl\" ><a class=\" txtu hbo\" target=\"_blank\" href=\"https://shebanq.ancient-data.org/hebrew/word?version=2021&amp;id=1RACJTn\" title=\"Show this on SHEBANQ\"><span class=\"txtu hbo\">רֵאשִׁ֖ית </span></a></div><div class=\"features\"><span class=\"nu xft\" ><span class=\"f\">nu=</span>sg</span></div></div></div></div><div class=\"contnr c1  rtl  \" ><div class=\"lbl c1  \" ><span class=\"nd\">phrase </span> <span class=\"\"><span title=\"typ\">VP</span> <span title=\"function\">Pred</span></span></div><div class=\"children hor wrap rtl\"><div class=\"contnr c0 trm rtl  \" ><div class=\"lbl c0 trm \" ><a class=\" txtu hbo\" target=\"_blank\" href=\"https://shebanq.ancient-data.org/hebrew/word?version=2021&amp;id=1BRAv\" title=\"Show this on SHEBANQ\"><span class=\"txtu hbo\">בָּרָ֣א </span></a></div><div class=\"features\"><span class=\"nu xft\" ><span class=\"f\">nu=</span>sg</span></div></div></div></div><div class=\"contnr c1  rtl  \" ><div class=\"lbl c1  \" ><span class=\"nd\">phrase </span> <span class=\"\"><span title=\"typ\">NP</span> <span title=\"function\">Subj</span></span></div><div class=\"children hor wrap rtl\"><div class=\"contnr c0 trm rtl  hl\" ><div class=\"lbl c0 trm hl\" ><a class=\" txtu hbo\" target=\"_blank\" href=\"https://shebanq.ancient-data.org/hebrew/word?version=2021&amp;id=1ALHJMn\" title=\"Show this on SHEBANQ\"><span class=\"txtu hbo\">אֱלֹהִ֑ים </span></a></div><div class=\"features\"><span class=\"nu xft\" ><span class=\"f\">nu=</span>pl</span></div></div></div></div><div class=\"contnr c1  rtl  \" ><div class=\"lbl c1  \" ><span class=\"nd\">phrase </span> <span class=\"\"><span title=\"typ\">PP</span> <span title=\"function\">Objc</span></span></div><div class=\"children hor wrap rtl\"><div class=\"contnr c0 trm rtl  \" ><div class=\"lbl c0 trm \" ><a class=\" txtu hbo\" target=\"_blank\" href=\"https://shebanq.ancient-data.org/hebrew/word?version=2021&amp;id=1AT\" title=\"Show this on SHEBANQ\"><span class=\"txtu hbo\">אֵ֥ת </span></a></div></div><div class=\"contnr c0 trm rtl  \" ><div class=\"lbl c0 trm \" ><a class=\" txtu hbo\" target=\"_blank\" href=\"https://shebanq.ancient-data.org/hebrew/word?version=2021&amp;id=1H\" title=\"Show this on SHEBANQ\"><span class=\"txtu hbo\">הַ</span></a></div></div><div class=\"contnr c0 trm rtl  \" ><div class=\"lbl c0 trm \" ><a class=\" txtu hbo\" target=\"_blank\" href=\"https://shebanq.ancient-data.org/hebrew/word?version=2021&amp;id=1CMJMn\" title=\"Show this on SHEBANQ\"><span class=\"txtu hbo\">שָּׁמַ֖יִם </span></a></div><div class=\"features\"><span class=\"nu xft\" ><span class=\"f\">nu=</span>pl</span></div></div><div class=\"contnr c0 trm rtl  \" ><div class=\"lbl c0 trm \" ><a class=\" txtu hbo\" target=\"_blank\" href=\"https://shebanq.ancient-data.org/hebrew/word?version=2021&amp;id=1W\" title=\"Show this on SHEBANQ\"><span class=\"txtu hbo\">וְ</span></a></div></div><div class=\"contnr c0 trm rtl  \" ><div class=\"lbl c0 trm \" ><a class=\" txtu hbo\" target=\"_blank\" href=\"https://shebanq.ancient-data.org/hebrew/word?version=2021&amp;id=1AT\" title=\"Show this on SHEBANQ\"><span class=\"txtu hbo\">אֵ֥ת </span></a></div></div><div class=\"contnr c0 trm rtl  \" ><div class=\"lbl c0 trm \" ><a class=\" txtu hbo\" target=\"_blank\" href=\"https://shebanq.ancient-data.org/hebrew/word?version=2021&amp;id=1H\" title=\"Show this on SHEBANQ\"><span class=\"txtu hbo\">הָ</span></a></div></div><div class=\"contnr c0 trm rtl  \" ><div class=\"lbl c0 trm \" ><a class=\" txtu hbo\" target=\"_blank\" href=\"https://shebanq.ancient-data.org/hebrew/word?version=2021&amp;id=1ARYn\" title=\"Show this on SHEBANQ\"><span class=\"txtu hbo\">אָֽרֶץ׃ </span></a></div><div class=\"features\"><span class=\"nu xft\" ><span class=\"f\">nu=</span>sg</span></div></div></div></div></div></div></div></div></div></div></div>"
      ],
      "text/plain": [
       "<IPython.core.display.HTML object>"
      ]
     },
     "metadata": {},
     "output_type": "display_data"
    },
    {
     "data": {
      "text/html": [
       "<p><b>result</b> <i>2</i>"
      ],
      "text/plain": [
       "<IPython.core.display.HTML object>"
      ]
     },
     "metadata": {},
     "output_type": "display_data"
    },
    {
     "data": {
      "text/html": [
       "<div class=\"tfsechead rtl\"><span class=\"ltr\"><a target=\"_blank\" href=\"https://shebanq.ancient-data.org/hebrew/text?book=Genesis&amp;chapter=1&amp;verse=1&amp;version=2021&amp;mr=m&amp;qw=q&amp;tp=txt_p&amp;tr=hb&amp;wget=v&amp;qget=v&amp;nget=vt\" title=\"Show this on SHEBANQ\" sec=\"Genesis\">Genesis</a></span></div><div class=\"rtl children\"><div class=\"contnr c4 trm rtl  \" ><div class=\"lbl c4 trm \" ><span class=\"nd\">book </span> <span class=\"txtu hbo\"><span class=\"tfsechead rtl\"><span class=\"ltr\">Genesis</span></span></span></div><div class=\"features\"><span class=\"book xft\" ><span class=\"f\">book=</span>Genesis</span></div></div></div>"
      ],
      "text/plain": [
       "<IPython.core.display.HTML object>"
      ]
     },
     "metadata": {},
     "output_type": "display_data"
    },
    {
     "data": {
      "text/html": [
       "<div class=\"tfsechead rtl\"><span class=\"ltr\"><a target=\"_blank\" href=\"https://shebanq.ancient-data.org/hebrew/text?book=Genesis&amp;chapter=1&amp;verse=1&amp;version=2021&amp;mr=m&amp;qw=q&amp;tp=txt_p&amp;tr=hb&amp;wget=v&amp;qget=v&amp;nget=vt\" title=\"Show this on SHEBANQ\" sec=\"Genesis 1\">Genesis 1</a></span></div><div class=\"rtl children\"><div class=\"contnr c4 trm rtl  \" ><div class=\"lbl c4 trm \" ><span class=\"nd\">chapter </span> <span class=\"txtu hbo\"><span class=\"tfsechead rtl\"><span class=\"ltr\">Genesis 1</span></span></span></div><div class=\"features\"><span class=\"book xft\" ><span class=\"f\">book=</span>Genesis</span><span class=\"chapter xft\" ><span class=\"f\">chapter=</span>1</span></div></div></div>"
      ],
      "text/plain": [
       "<IPython.core.display.HTML object>"
      ]
     },
     "metadata": {},
     "output_type": "display_data"
    },
    {
     "data": {
      "text/html": [
       "<div class=\"tfsechead rtl\"><span class=\"ltr\"><a target=\"_blank\" href=\"https://shebanq.ancient-data.org/hebrew/text?book=Genesis&amp;chapter=1&amp;verse=1&amp;version=2021&amp;mr=m&amp;qw=q&amp;tp=txt_p&amp;tr=hb&amp;wget=v&amp;qget=v&amp;nget=vt\" title=\"Show this on SHEBANQ\" sec=\"Genesis 1:1\">Genesis 1:1</a></span></div><div class=\"rtl children\"><div class=\"contnr c3  rtl  \" ><div class=\"lbl c3  \" ><span class=\"nd\">verse </span></div><div class=\"features\"><span class=\"book xft\" ><span class=\"f\">book=</span>Genesis</span><span class=\"chapter xft\" ><span class=\"f\">chapter=</span>1</span><span class=\"verse xft\" ><span class=\"f\">verse=</span>1</span></div><div class=\"children hor wrap rtl\"><div class=\"contnr c2  rtl  hl\" ><div class=\"lbl c2  hl\" ><span class=\"nd\">sentence </span> <span class=\"\"><span title=\"number\">1</span></span></div><div class=\"children hor wrap rtl\"><div class=\"contnr c2  rtl  \" ><div class=\"lbl c2  \" ><span class=\"nd\">clause </span> <span class=\"\"><span title=\"typ\">xQtX</span> <span title=\"rela\">NA</span></span></div><div class=\"children hor wrap rtl\"><div class=\"contnr c1  rtl  \" ><div class=\"lbl c1  \" ><span class=\"nd\">phrase </span> <span class=\"\"><span title=\"typ\">PP</span> <span title=\"function\">Time</span></span></div><div class=\"children hor wrap rtl\"><div class=\"contnr c0 trm rtl  \" ><div class=\"lbl c0 trm \" ><a class=\" txtu hbo\" target=\"_blank\" href=\"https://shebanq.ancient-data.org/hebrew/word?version=2021&amp;id=1B\" title=\"Show this on SHEBANQ\"><span class=\"txtu hbo\">בְּ</span></a></div></div><div class=\"contnr c0 trm rtl  hl\" ><div class=\"lbl c0 trm hl\" ><a class=\" txtu hbo\" target=\"_blank\" href=\"https://shebanq.ancient-data.org/hebrew/word?version=2021&amp;id=1RACJTn\" title=\"Show this on SHEBANQ\"><span class=\"txtu hbo\">רֵאשִׁ֖ית </span></a></div><div class=\"features\"><span class=\"nu xft\" ><span class=\"f\">nu=</span>sg</span></div></div></div></div><div class=\"contnr c1  rtl  \" ><div class=\"lbl c1  \" ><span class=\"nd\">phrase </span> <span class=\"\"><span title=\"typ\">VP</span> <span title=\"function\">Pred</span></span></div><div class=\"children hor wrap rtl\"><div class=\"contnr c0 trm rtl  \" ><div class=\"lbl c0 trm \" ><a class=\" txtu hbo\" target=\"_blank\" href=\"https://shebanq.ancient-data.org/hebrew/word?version=2021&amp;id=1BRAv\" title=\"Show this on SHEBANQ\"><span class=\"txtu hbo\">בָּרָ֣א </span></a></div><div class=\"features\"><span class=\"nu xft\" ><span class=\"f\">nu=</span>sg</span></div></div></div></div><div class=\"contnr c1  rtl  \" ><div class=\"lbl c1  \" ><span class=\"nd\">phrase </span> <span class=\"\"><span title=\"typ\">NP</span> <span title=\"function\">Subj</span></span></div><div class=\"children hor wrap rtl\"><div class=\"contnr c0 trm rtl  \" ><div class=\"lbl c0 trm \" ><a class=\" txtu hbo\" target=\"_blank\" href=\"https://shebanq.ancient-data.org/hebrew/word?version=2021&amp;id=1ALHJMn\" title=\"Show this on SHEBANQ\"><span class=\"txtu hbo\">אֱלֹהִ֑ים </span></a></div><div class=\"features\"><span class=\"nu xft\" ><span class=\"f\">nu=</span>pl</span></div></div></div></div><div class=\"contnr c1  rtl  \" ><div class=\"lbl c1  \" ><span class=\"nd\">phrase </span> <span class=\"\"><span title=\"typ\">PP</span> <span title=\"function\">Objc</span></span></div><div class=\"children hor wrap rtl\"><div class=\"contnr c0 trm rtl  \" ><div class=\"lbl c0 trm \" ><a class=\" txtu hbo\" target=\"_blank\" href=\"https://shebanq.ancient-data.org/hebrew/word?version=2021&amp;id=1AT\" title=\"Show this on SHEBANQ\"><span class=\"txtu hbo\">אֵ֥ת </span></a></div></div><div class=\"contnr c0 trm rtl  \" ><div class=\"lbl c0 trm \" ><a class=\" txtu hbo\" target=\"_blank\" href=\"https://shebanq.ancient-data.org/hebrew/word?version=2021&amp;id=1H\" title=\"Show this on SHEBANQ\"><span class=\"txtu hbo\">הַ</span></a></div></div><div class=\"contnr c0 trm rtl  hl\" ><div class=\"lbl c0 trm hl\" ><a class=\" txtu hbo\" target=\"_blank\" href=\"https://shebanq.ancient-data.org/hebrew/word?version=2021&amp;id=1CMJMn\" title=\"Show this on SHEBANQ\"><span class=\"txtu hbo\">שָּׁמַ֖יִם </span></a></div><div class=\"features\"><span class=\"nu xft\" ><span class=\"f\">nu=</span>pl</span></div></div><div class=\"contnr c0 trm rtl  \" ><div class=\"lbl c0 trm \" ><a class=\" txtu hbo\" target=\"_blank\" href=\"https://shebanq.ancient-data.org/hebrew/word?version=2021&amp;id=1W\" title=\"Show this on SHEBANQ\"><span class=\"txtu hbo\">וְ</span></a></div></div><div class=\"contnr c0 trm rtl  \" ><div class=\"lbl c0 trm \" ><a class=\" txtu hbo\" target=\"_blank\" href=\"https://shebanq.ancient-data.org/hebrew/word?version=2021&amp;id=1AT\" title=\"Show this on SHEBANQ\"><span class=\"txtu hbo\">אֵ֥ת </span></a></div></div><div class=\"contnr c0 trm rtl  \" ><div class=\"lbl c0 trm \" ><a class=\" txtu hbo\" target=\"_blank\" href=\"https://shebanq.ancient-data.org/hebrew/word?version=2021&amp;id=1H\" title=\"Show this on SHEBANQ\"><span class=\"txtu hbo\">הָ</span></a></div></div><div class=\"contnr c0 trm rtl  \" ><div class=\"lbl c0 trm \" ><a class=\" txtu hbo\" target=\"_blank\" href=\"https://shebanq.ancient-data.org/hebrew/word?version=2021&amp;id=1ARYn\" title=\"Show this on SHEBANQ\"><span class=\"txtu hbo\">אָֽרֶץ׃ </span></a></div><div class=\"features\"><span class=\"nu xft\" ><span class=\"f\">nu=</span>sg</span></div></div></div></div></div></div></div></div></div></div></div>"
      ],
      "text/plain": [
       "<IPython.core.display.HTML object>"
      ]
     },
     "metadata": {},
     "output_type": "display_data"
    },
    {
     "data": {
      "text/html": [
       "<p><b>result</b> <i>3</i>"
      ],
      "text/plain": [
       "<IPython.core.display.HTML object>"
      ]
     },
     "metadata": {},
     "output_type": "display_data"
    },
    {
     "data": {
      "text/html": [
       "<div class=\"tfsechead rtl\"><span class=\"ltr\"><a target=\"_blank\" href=\"https://shebanq.ancient-data.org/hebrew/text?book=Genesis&amp;chapter=1&amp;verse=1&amp;version=2021&amp;mr=m&amp;qw=q&amp;tp=txt_p&amp;tr=hb&amp;wget=v&amp;qget=v&amp;nget=vt\" title=\"Show this on SHEBANQ\" sec=\"Genesis\">Genesis</a></span></div><div class=\"rtl children\"><div class=\"contnr c4 trm rtl  \" ><div class=\"lbl c4 trm \" ><span class=\"nd\">book </span> <span class=\"txtu hbo\"><span class=\"tfsechead rtl\"><span class=\"ltr\">Genesis</span></span></span></div><div class=\"features\"><span class=\"book xft\" ><span class=\"f\">book=</span>Genesis</span></div></div></div>"
      ],
      "text/plain": [
       "<IPython.core.display.HTML object>"
      ]
     },
     "metadata": {},
     "output_type": "display_data"
    },
    {
     "data": {
      "text/html": [
       "<div class=\"tfsechead rtl\"><span class=\"ltr\"><a target=\"_blank\" href=\"https://shebanq.ancient-data.org/hebrew/text?book=Genesis&amp;chapter=1&amp;verse=1&amp;version=2021&amp;mr=m&amp;qw=q&amp;tp=txt_p&amp;tr=hb&amp;wget=v&amp;qget=v&amp;nget=vt\" title=\"Show this on SHEBANQ\" sec=\"Genesis 1\">Genesis 1</a></span></div><div class=\"rtl children\"><div class=\"contnr c4 trm rtl  \" ><div class=\"lbl c4 trm \" ><span class=\"nd\">chapter </span> <span class=\"txtu hbo\"><span class=\"tfsechead rtl\"><span class=\"ltr\">Genesis 1</span></span></span></div><div class=\"features\"><span class=\"book xft\" ><span class=\"f\">book=</span>Genesis</span><span class=\"chapter xft\" ><span class=\"f\">chapter=</span>1</span></div></div></div>"
      ],
      "text/plain": [
       "<IPython.core.display.HTML object>"
      ]
     },
     "metadata": {},
     "output_type": "display_data"
    },
    {
     "data": {
      "text/html": [
       "<div class=\"tfsechead rtl\"><span class=\"ltr\"><a target=\"_blank\" href=\"https://shebanq.ancient-data.org/hebrew/text?book=Genesis&amp;chapter=1&amp;verse=1&amp;version=2021&amp;mr=m&amp;qw=q&amp;tp=txt_p&amp;tr=hb&amp;wget=v&amp;qget=v&amp;nget=vt\" title=\"Show this on SHEBANQ\" sec=\"Genesis 1:1\">Genesis 1:1</a></span></div><div class=\"rtl children\"><div class=\"contnr c3  rtl  \" ><div class=\"lbl c3  \" ><span class=\"nd\">verse </span></div><div class=\"features\"><span class=\"book xft\" ><span class=\"f\">book=</span>Genesis</span><span class=\"chapter xft\" ><span class=\"f\">chapter=</span>1</span><span class=\"verse xft\" ><span class=\"f\">verse=</span>1</span></div><div class=\"children hor wrap rtl\"><div class=\"contnr c2  rtl  hl\" ><div class=\"lbl c2  hl\" ><span class=\"nd\">sentence </span> <span class=\"\"><span title=\"number\">1</span></span></div><div class=\"children hor wrap rtl\"><div class=\"contnr c2  rtl  \" ><div class=\"lbl c2  \" ><span class=\"nd\">clause </span> <span class=\"\"><span title=\"typ\">xQtX</span> <span title=\"rela\">NA</span></span></div><div class=\"children hor wrap rtl\"><div class=\"contnr c1  rtl  \" ><div class=\"lbl c1  \" ><span class=\"nd\">phrase </span> <span class=\"\"><span title=\"typ\">PP</span> <span title=\"function\">Time</span></span></div><div class=\"children hor wrap rtl\"><div class=\"contnr c0 trm rtl  \" ><div class=\"lbl c0 trm \" ><a class=\" txtu hbo\" target=\"_blank\" href=\"https://shebanq.ancient-data.org/hebrew/word?version=2021&amp;id=1B\" title=\"Show this on SHEBANQ\"><span class=\"txtu hbo\">בְּ</span></a></div></div><div class=\"contnr c0 trm rtl  \" ><div class=\"lbl c0 trm \" ><a class=\" txtu hbo\" target=\"_blank\" href=\"https://shebanq.ancient-data.org/hebrew/word?version=2021&amp;id=1RACJTn\" title=\"Show this on SHEBANQ\"><span class=\"txtu hbo\">רֵאשִׁ֖ית </span></a></div><div class=\"features\"><span class=\"nu xft\" ><span class=\"f\">nu=</span>sg</span></div></div></div></div><div class=\"contnr c1  rtl  \" ><div class=\"lbl c1  \" ><span class=\"nd\">phrase </span> <span class=\"\"><span title=\"typ\">VP</span> <span title=\"function\">Pred</span></span></div><div class=\"children hor wrap rtl\"><div class=\"contnr c0 trm rtl  hl\" ><div class=\"lbl c0 trm hl\" ><a class=\" txtu hbo\" target=\"_blank\" href=\"https://shebanq.ancient-data.org/hebrew/word?version=2021&amp;id=1BRAv\" title=\"Show this on SHEBANQ\"><span class=\"txtu hbo\">בָּרָ֣א </span></a></div><div class=\"features\"><span class=\"nu xft\" ><span class=\"f\">nu=</span>sg</span></div></div></div></div><div class=\"contnr c1  rtl  \" ><div class=\"lbl c1  \" ><span class=\"nd\">phrase </span> <span class=\"\"><span title=\"typ\">NP</span> <span title=\"function\">Subj</span></span></div><div class=\"children hor wrap rtl\"><div class=\"contnr c0 trm rtl  hl\" ><div class=\"lbl c0 trm hl\" ><a class=\" txtu hbo\" target=\"_blank\" href=\"https://shebanq.ancient-data.org/hebrew/word?version=2021&amp;id=1ALHJMn\" title=\"Show this on SHEBANQ\"><span class=\"txtu hbo\">אֱלֹהִ֑ים </span></a></div><div class=\"features\"><span class=\"nu xft\" ><span class=\"f\">nu=</span>pl</span></div></div></div></div><div class=\"contnr c1  rtl  \" ><div class=\"lbl c1  \" ><span class=\"nd\">phrase </span> <span class=\"\"><span title=\"typ\">PP</span> <span title=\"function\">Objc</span></span></div><div class=\"children hor wrap rtl\"><div class=\"contnr c0 trm rtl  \" ><div class=\"lbl c0 trm \" ><a class=\" txtu hbo\" target=\"_blank\" href=\"https://shebanq.ancient-data.org/hebrew/word?version=2021&amp;id=1AT\" title=\"Show this on SHEBANQ\"><span class=\"txtu hbo\">אֵ֥ת </span></a></div></div><div class=\"contnr c0 trm rtl  \" ><div class=\"lbl c0 trm \" ><a class=\" txtu hbo\" target=\"_blank\" href=\"https://shebanq.ancient-data.org/hebrew/word?version=2021&amp;id=1H\" title=\"Show this on SHEBANQ\"><span class=\"txtu hbo\">הַ</span></a></div></div><div class=\"contnr c0 trm rtl  \" ><div class=\"lbl c0 trm \" ><a class=\" txtu hbo\" target=\"_blank\" href=\"https://shebanq.ancient-data.org/hebrew/word?version=2021&amp;id=1CMJMn\" title=\"Show this on SHEBANQ\"><span class=\"txtu hbo\">שָּׁמַ֖יִם </span></a></div><div class=\"features\"><span class=\"nu xft\" ><span class=\"f\">nu=</span>pl</span></div></div><div class=\"contnr c0 trm rtl  \" ><div class=\"lbl c0 trm \" ><a class=\" txtu hbo\" target=\"_blank\" href=\"https://shebanq.ancient-data.org/hebrew/word?version=2021&amp;id=1W\" title=\"Show this on SHEBANQ\"><span class=\"txtu hbo\">וְ</span></a></div></div><div class=\"contnr c0 trm rtl  \" ><div class=\"lbl c0 trm \" ><a class=\" txtu hbo\" target=\"_blank\" href=\"https://shebanq.ancient-data.org/hebrew/word?version=2021&amp;id=1AT\" title=\"Show this on SHEBANQ\"><span class=\"txtu hbo\">אֵ֥ת </span></a></div></div><div class=\"contnr c0 trm rtl  \" ><div class=\"lbl c0 trm \" ><a class=\" txtu hbo\" target=\"_blank\" href=\"https://shebanq.ancient-data.org/hebrew/word?version=2021&amp;id=1H\" title=\"Show this on SHEBANQ\"><span class=\"txtu hbo\">הָ</span></a></div></div><div class=\"contnr c0 trm rtl  \" ><div class=\"lbl c0 trm \" ><a class=\" txtu hbo\" target=\"_blank\" href=\"https://shebanq.ancient-data.org/hebrew/word?version=2021&amp;id=1ARYn\" title=\"Show this on SHEBANQ\"><span class=\"txtu hbo\">אָֽרֶץ׃ </span></a></div><div class=\"features\"><span class=\"nu xft\" ><span class=\"f\">nu=</span>sg</span></div></div></div></div></div></div></div></div></div></div></div>"
      ],
      "text/plain": [
       "<IPython.core.display.HTML object>"
      ]
     },
     "metadata": {},
     "output_type": "display_data"
    },
    {
     "data": {
      "text/html": [
       "<p><b>result</b> <i>4</i>"
      ],
      "text/plain": [
       "<IPython.core.display.HTML object>"
      ]
     },
     "metadata": {},
     "output_type": "display_data"
    },
    {
     "data": {
      "text/html": [
       "<div class=\"tfsechead rtl\"><span class=\"ltr\"><a target=\"_blank\" href=\"https://shebanq.ancient-data.org/hebrew/text?book=Genesis&amp;chapter=1&amp;verse=1&amp;version=2021&amp;mr=m&amp;qw=q&amp;tp=txt_p&amp;tr=hb&amp;wget=v&amp;qget=v&amp;nget=vt\" title=\"Show this on SHEBANQ\" sec=\"Genesis\">Genesis</a></span></div><div class=\"rtl children\"><div class=\"contnr c4 trm rtl  \" ><div class=\"lbl c4 trm \" ><span class=\"nd\">book </span> <span class=\"txtu hbo\"><span class=\"tfsechead rtl\"><span class=\"ltr\">Genesis</span></span></span></div><div class=\"features\"><span class=\"book xft\" ><span class=\"f\">book=</span>Genesis</span></div></div></div>"
      ],
      "text/plain": [
       "<IPython.core.display.HTML object>"
      ]
     },
     "metadata": {},
     "output_type": "display_data"
    },
    {
     "data": {
      "text/html": [
       "<div class=\"tfsechead rtl\"><span class=\"ltr\"><a target=\"_blank\" href=\"https://shebanq.ancient-data.org/hebrew/text?book=Genesis&amp;chapter=1&amp;verse=1&amp;version=2021&amp;mr=m&amp;qw=q&amp;tp=txt_p&amp;tr=hb&amp;wget=v&amp;qget=v&amp;nget=vt\" title=\"Show this on SHEBANQ\" sec=\"Genesis 1\">Genesis 1</a></span></div><div class=\"rtl children\"><div class=\"contnr c4 trm rtl  \" ><div class=\"lbl c4 trm \" ><span class=\"nd\">chapter </span> <span class=\"txtu hbo\"><span class=\"tfsechead rtl\"><span class=\"ltr\">Genesis 1</span></span></span></div><div class=\"features\"><span class=\"book xft\" ><span class=\"f\">book=</span>Genesis</span><span class=\"chapter xft\" ><span class=\"f\">chapter=</span>1</span></div></div></div>"
      ],
      "text/plain": [
       "<IPython.core.display.HTML object>"
      ]
     },
     "metadata": {},
     "output_type": "display_data"
    },
    {
     "data": {
      "text/html": [
       "<div class=\"tfsechead rtl\"><span class=\"ltr\"><a target=\"_blank\" href=\"https://shebanq.ancient-data.org/hebrew/text?book=Genesis&amp;chapter=1&amp;verse=1&amp;version=2021&amp;mr=m&amp;qw=q&amp;tp=txt_p&amp;tr=hb&amp;wget=v&amp;qget=v&amp;nget=vt\" title=\"Show this on SHEBANQ\" sec=\"Genesis 1:1\">Genesis 1:1</a></span></div><div class=\"rtl children\"><div class=\"contnr c3  rtl  \" ><div class=\"lbl c3  \" ><span class=\"nd\">verse </span></div><div class=\"features\"><span class=\"book xft\" ><span class=\"f\">book=</span>Genesis</span><span class=\"chapter xft\" ><span class=\"f\">chapter=</span>1</span><span class=\"verse xft\" ><span class=\"f\">verse=</span>1</span></div><div class=\"children hor wrap rtl\"><div class=\"contnr c2  rtl  hl\" ><div class=\"lbl c2  hl\" ><span class=\"nd\">sentence </span> <span class=\"\"><span title=\"number\">1</span></span></div><div class=\"children hor wrap rtl\"><div class=\"contnr c2  rtl  \" ><div class=\"lbl c2  \" ><span class=\"nd\">clause </span> <span class=\"\"><span title=\"typ\">xQtX</span> <span title=\"rela\">NA</span></span></div><div class=\"children hor wrap rtl\"><div class=\"contnr c1  rtl  \" ><div class=\"lbl c1  \" ><span class=\"nd\">phrase </span> <span class=\"\"><span title=\"typ\">PP</span> <span title=\"function\">Time</span></span></div><div class=\"children hor wrap rtl\"><div class=\"contnr c0 trm rtl  \" ><div class=\"lbl c0 trm \" ><a class=\" txtu hbo\" target=\"_blank\" href=\"https://shebanq.ancient-data.org/hebrew/word?version=2021&amp;id=1B\" title=\"Show this on SHEBANQ\"><span class=\"txtu hbo\">בְּ</span></a></div></div><div class=\"contnr c0 trm rtl  \" ><div class=\"lbl c0 trm \" ><a class=\" txtu hbo\" target=\"_blank\" href=\"https://shebanq.ancient-data.org/hebrew/word?version=2021&amp;id=1RACJTn\" title=\"Show this on SHEBANQ\"><span class=\"txtu hbo\">רֵאשִׁ֖ית </span></a></div><div class=\"features\"><span class=\"nu xft\" ><span class=\"f\">nu=</span>sg</span></div></div></div></div><div class=\"contnr c1  rtl  \" ><div class=\"lbl c1  \" ><span class=\"nd\">phrase </span> <span class=\"\"><span title=\"typ\">VP</span> <span title=\"function\">Pred</span></span></div><div class=\"children hor wrap rtl\"><div class=\"contnr c0 trm rtl  hl\" ><div class=\"lbl c0 trm hl\" ><a class=\" txtu hbo\" target=\"_blank\" href=\"https://shebanq.ancient-data.org/hebrew/word?version=2021&amp;id=1BRAv\" title=\"Show this on SHEBANQ\"><span class=\"txtu hbo\">בָּרָ֣א </span></a></div><div class=\"features\"><span class=\"nu xft\" ><span class=\"f\">nu=</span>sg</span></div></div></div></div><div class=\"contnr c1  rtl  \" ><div class=\"lbl c1  \" ><span class=\"nd\">phrase </span> <span class=\"\"><span title=\"typ\">NP</span> <span title=\"function\">Subj</span></span></div><div class=\"children hor wrap rtl\"><div class=\"contnr c0 trm rtl  \" ><div class=\"lbl c0 trm \" ><a class=\" txtu hbo\" target=\"_blank\" href=\"https://shebanq.ancient-data.org/hebrew/word?version=2021&amp;id=1ALHJMn\" title=\"Show this on SHEBANQ\"><span class=\"txtu hbo\">אֱלֹהִ֑ים </span></a></div><div class=\"features\"><span class=\"nu xft\" ><span class=\"f\">nu=</span>pl</span></div></div></div></div><div class=\"contnr c1  rtl  \" ><div class=\"lbl c1  \" ><span class=\"nd\">phrase </span> <span class=\"\"><span title=\"typ\">PP</span> <span title=\"function\">Objc</span></span></div><div class=\"children hor wrap rtl\"><div class=\"contnr c0 trm rtl  \" ><div class=\"lbl c0 trm \" ><a class=\" txtu hbo\" target=\"_blank\" href=\"https://shebanq.ancient-data.org/hebrew/word?version=2021&amp;id=1AT\" title=\"Show this on SHEBANQ\"><span class=\"txtu hbo\">אֵ֥ת </span></a></div></div><div class=\"contnr c0 trm rtl  \" ><div class=\"lbl c0 trm \" ><a class=\" txtu hbo\" target=\"_blank\" href=\"https://shebanq.ancient-data.org/hebrew/word?version=2021&amp;id=1H\" title=\"Show this on SHEBANQ\"><span class=\"txtu hbo\">הַ</span></a></div></div><div class=\"contnr c0 trm rtl  hl\" ><div class=\"lbl c0 trm hl\" ><a class=\" txtu hbo\" target=\"_blank\" href=\"https://shebanq.ancient-data.org/hebrew/word?version=2021&amp;id=1CMJMn\" title=\"Show this on SHEBANQ\"><span class=\"txtu hbo\">שָּׁמַ֖יִם </span></a></div><div class=\"features\"><span class=\"nu xft\" ><span class=\"f\">nu=</span>pl</span></div></div><div class=\"contnr c0 trm rtl  \" ><div class=\"lbl c0 trm \" ><a class=\" txtu hbo\" target=\"_blank\" href=\"https://shebanq.ancient-data.org/hebrew/word?version=2021&amp;id=1W\" title=\"Show this on SHEBANQ\"><span class=\"txtu hbo\">וְ</span></a></div></div><div class=\"contnr c0 trm rtl  \" ><div class=\"lbl c0 trm \" ><a class=\" txtu hbo\" target=\"_blank\" href=\"https://shebanq.ancient-data.org/hebrew/word?version=2021&amp;id=1AT\" title=\"Show this on SHEBANQ\"><span class=\"txtu hbo\">אֵ֥ת </span></a></div></div><div class=\"contnr c0 trm rtl  \" ><div class=\"lbl c0 trm \" ><a class=\" txtu hbo\" target=\"_blank\" href=\"https://shebanq.ancient-data.org/hebrew/word?version=2021&amp;id=1H\" title=\"Show this on SHEBANQ\"><span class=\"txtu hbo\">הָ</span></a></div></div><div class=\"contnr c0 trm rtl  \" ><div class=\"lbl c0 trm \" ><a class=\" txtu hbo\" target=\"_blank\" href=\"https://shebanq.ancient-data.org/hebrew/word?version=2021&amp;id=1ARYn\" title=\"Show this on SHEBANQ\"><span class=\"txtu hbo\">אָֽרֶץ׃ </span></a></div><div class=\"features\"><span class=\"nu xft\" ><span class=\"f\">nu=</span>sg</span></div></div></div></div></div></div></div></div></div></div></div>"
      ],
      "text/plain": [
       "<IPython.core.display.HTML object>"
      ]
     },
     "metadata": {},
     "output_type": "display_data"
    },
    {
     "data": {
      "text/html": [
       "<p><b>result</b> <i>5</i>"
      ],
      "text/plain": [
       "<IPython.core.display.HTML object>"
      ]
     },
     "metadata": {},
     "output_type": "display_data"
    },
    {
     "data": {
      "text/html": [
       "<div class=\"tfsechead rtl\"><span class=\"ltr\"><a target=\"_blank\" href=\"https://shebanq.ancient-data.org/hebrew/text?book=Genesis&amp;chapter=1&amp;verse=1&amp;version=2021&amp;mr=m&amp;qw=q&amp;tp=txt_p&amp;tr=hb&amp;wget=v&amp;qget=v&amp;nget=vt\" title=\"Show this on SHEBANQ\" sec=\"Genesis\">Genesis</a></span></div><div class=\"rtl children\"><div class=\"contnr c4 trm rtl  \" ><div class=\"lbl c4 trm \" ><span class=\"nd\">book </span> <span class=\"txtu hbo\"><span class=\"tfsechead rtl\"><span class=\"ltr\">Genesis</span></span></span></div><div class=\"features\"><span class=\"book xft\" ><span class=\"f\">book=</span>Genesis</span></div></div></div>"
      ],
      "text/plain": [
       "<IPython.core.display.HTML object>"
      ]
     },
     "metadata": {},
     "output_type": "display_data"
    },
    {
     "data": {
      "text/html": [
       "<div class=\"tfsechead rtl\"><span class=\"ltr\"><a target=\"_blank\" href=\"https://shebanq.ancient-data.org/hebrew/text?book=Genesis&amp;chapter=1&amp;verse=1&amp;version=2021&amp;mr=m&amp;qw=q&amp;tp=txt_p&amp;tr=hb&amp;wget=v&amp;qget=v&amp;nget=vt\" title=\"Show this on SHEBANQ\" sec=\"Genesis 1\">Genesis 1</a></span></div><div class=\"rtl children\"><div class=\"contnr c4 trm rtl  \" ><div class=\"lbl c4 trm \" ><span class=\"nd\">chapter </span> <span class=\"txtu hbo\"><span class=\"tfsechead rtl\"><span class=\"ltr\">Genesis 1</span></span></span></div><div class=\"features\"><span class=\"book xft\" ><span class=\"f\">book=</span>Genesis</span><span class=\"chapter xft\" ><span class=\"f\">chapter=</span>1</span></div></div></div>"
      ],
      "text/plain": [
       "<IPython.core.display.HTML object>"
      ]
     },
     "metadata": {},
     "output_type": "display_data"
    },
    {
     "data": {
      "text/html": [
       "<div class=\"tfsechead rtl\"><span class=\"ltr\"><a target=\"_blank\" href=\"https://shebanq.ancient-data.org/hebrew/text?book=Genesis&amp;chapter=1&amp;verse=1&amp;version=2021&amp;mr=m&amp;qw=q&amp;tp=txt_p&amp;tr=hb&amp;wget=v&amp;qget=v&amp;nget=vt\" title=\"Show this on SHEBANQ\" sec=\"Genesis 1:1\">Genesis 1:1</a></span></div><div class=\"rtl children\"><div class=\"contnr c3  rtl  \" ><div class=\"lbl c3  \" ><span class=\"nd\">verse </span></div><div class=\"features\"><span class=\"book xft\" ><span class=\"f\">book=</span>Genesis</span><span class=\"chapter xft\" ><span class=\"f\">chapter=</span>1</span><span class=\"verse xft\" ><span class=\"f\">verse=</span>1</span></div><div class=\"children hor wrap rtl\"><div class=\"contnr c2  rtl  hl\" ><div class=\"lbl c2  hl\" ><span class=\"nd\">sentence </span> <span class=\"\"><span title=\"number\">1</span></span></div><div class=\"children hor wrap rtl\"><div class=\"contnr c2  rtl  \" ><div class=\"lbl c2  \" ><span class=\"nd\">clause </span> <span class=\"\"><span title=\"typ\">xQtX</span> <span title=\"rela\">NA</span></span></div><div class=\"children hor wrap rtl\"><div class=\"contnr c1  rtl  \" ><div class=\"lbl c1  \" ><span class=\"nd\">phrase </span> <span class=\"\"><span title=\"typ\">PP</span> <span title=\"function\">Time</span></span></div><div class=\"children hor wrap rtl\"><div class=\"contnr c0 trm rtl  \" ><div class=\"lbl c0 trm \" ><a class=\" txtu hbo\" target=\"_blank\" href=\"https://shebanq.ancient-data.org/hebrew/word?version=2021&amp;id=1B\" title=\"Show this on SHEBANQ\"><span class=\"txtu hbo\">בְּ</span></a></div></div><div class=\"contnr c0 trm rtl  \" ><div class=\"lbl c0 trm \" ><a class=\" txtu hbo\" target=\"_blank\" href=\"https://shebanq.ancient-data.org/hebrew/word?version=2021&amp;id=1RACJTn\" title=\"Show this on SHEBANQ\"><span class=\"txtu hbo\">רֵאשִׁ֖ית </span></a></div><div class=\"features\"><span class=\"nu xft\" ><span class=\"f\">nu=</span>sg</span></div></div></div></div><div class=\"contnr c1  rtl  \" ><div class=\"lbl c1  \" ><span class=\"nd\">phrase </span> <span class=\"\"><span title=\"typ\">VP</span> <span title=\"function\">Pred</span></span></div><div class=\"children hor wrap rtl\"><div class=\"contnr c0 trm rtl  \" ><div class=\"lbl c0 trm \" ><a class=\" txtu hbo\" target=\"_blank\" href=\"https://shebanq.ancient-data.org/hebrew/word?version=2021&amp;id=1BRAv\" title=\"Show this on SHEBANQ\"><span class=\"txtu hbo\">בָּרָ֣א </span></a></div><div class=\"features\"><span class=\"nu xft\" ><span class=\"f\">nu=</span>sg</span></div></div></div></div><div class=\"contnr c1  rtl  \" ><div class=\"lbl c1  \" ><span class=\"nd\">phrase </span> <span class=\"\"><span title=\"typ\">NP</span> <span title=\"function\">Subj</span></span></div><div class=\"children hor wrap rtl\"><div class=\"contnr c0 trm rtl  hl\" ><div class=\"lbl c0 trm hl\" ><a class=\" txtu hbo\" target=\"_blank\" href=\"https://shebanq.ancient-data.org/hebrew/word?version=2021&amp;id=1ALHJMn\" title=\"Show this on SHEBANQ\"><span class=\"txtu hbo\">אֱלֹהִ֑ים </span></a></div><div class=\"features\"><span class=\"nu xft\" ><span class=\"f\">nu=</span>pl</span></div></div></div></div><div class=\"contnr c1  rtl  \" ><div class=\"lbl c1  \" ><span class=\"nd\">phrase </span> <span class=\"\"><span title=\"typ\">PP</span> <span title=\"function\">Objc</span></span></div><div class=\"children hor wrap rtl\"><div class=\"contnr c0 trm rtl  \" ><div class=\"lbl c0 trm \" ><a class=\" txtu hbo\" target=\"_blank\" href=\"https://shebanq.ancient-data.org/hebrew/word?version=2021&amp;id=1AT\" title=\"Show this on SHEBANQ\"><span class=\"txtu hbo\">אֵ֥ת </span></a></div></div><div class=\"contnr c0 trm rtl  \" ><div class=\"lbl c0 trm \" ><a class=\" txtu hbo\" target=\"_blank\" href=\"https://shebanq.ancient-data.org/hebrew/word?version=2021&amp;id=1H\" title=\"Show this on SHEBANQ\"><span class=\"txtu hbo\">הַ</span></a></div></div><div class=\"contnr c0 trm rtl  \" ><div class=\"lbl c0 trm \" ><a class=\" txtu hbo\" target=\"_blank\" href=\"https://shebanq.ancient-data.org/hebrew/word?version=2021&amp;id=1CMJMn\" title=\"Show this on SHEBANQ\"><span class=\"txtu hbo\">שָּׁמַ֖יִם </span></a></div><div class=\"features\"><span class=\"nu xft\" ><span class=\"f\">nu=</span>pl</span></div></div><div class=\"contnr c0 trm rtl  \" ><div class=\"lbl c0 trm \" ><a class=\" txtu hbo\" target=\"_blank\" href=\"https://shebanq.ancient-data.org/hebrew/word?version=2021&amp;id=1W\" title=\"Show this on SHEBANQ\"><span class=\"txtu hbo\">וְ</span></a></div></div><div class=\"contnr c0 trm rtl  \" ><div class=\"lbl c0 trm \" ><a class=\" txtu hbo\" target=\"_blank\" href=\"https://shebanq.ancient-data.org/hebrew/word?version=2021&amp;id=1AT\" title=\"Show this on SHEBANQ\"><span class=\"txtu hbo\">אֵ֥ת </span></a></div></div><div class=\"contnr c0 trm rtl  \" ><div class=\"lbl c0 trm \" ><a class=\" txtu hbo\" target=\"_blank\" href=\"https://shebanq.ancient-data.org/hebrew/word?version=2021&amp;id=1H\" title=\"Show this on SHEBANQ\"><span class=\"txtu hbo\">הָ</span></a></div></div><div class=\"contnr c0 trm rtl  hl\" ><div class=\"lbl c0 trm hl\" ><a class=\" txtu hbo\" target=\"_blank\" href=\"https://shebanq.ancient-data.org/hebrew/word?version=2021&amp;id=1ARYn\" title=\"Show this on SHEBANQ\"><span class=\"txtu hbo\">אָֽרֶץ׃ </span></a></div><div class=\"features\"><span class=\"nu xft\" ><span class=\"f\">nu=</span>sg</span></div></div></div></div></div></div></div></div></div></div></div>"
      ],
      "text/plain": [
       "<IPython.core.display.HTML object>"
      ]
     },
     "metadata": {},
     "output_type": "display_data"
    },
    {
     "data": {
      "text/html": [
       "<p><b>result</b> <i>6</i>"
      ],
      "text/plain": [
       "<IPython.core.display.HTML object>"
      ]
     },
     "metadata": {},
     "output_type": "display_data"
    },
    {
     "data": {
      "text/html": [
       "<div class=\"tfsechead rtl\"><span class=\"ltr\"><a target=\"_blank\" href=\"https://shebanq.ancient-data.org/hebrew/text?book=Genesis&amp;chapter=1&amp;verse=1&amp;version=2021&amp;mr=m&amp;qw=q&amp;tp=txt_p&amp;tr=hb&amp;wget=v&amp;qget=v&amp;nget=vt\" title=\"Show this on SHEBANQ\" sec=\"Genesis\">Genesis</a></span></div><div class=\"rtl children\"><div class=\"contnr c4 trm rtl  \" ><div class=\"lbl c4 trm \" ><span class=\"nd\">book </span> <span class=\"txtu hbo\"><span class=\"tfsechead rtl\"><span class=\"ltr\">Genesis</span></span></span></div><div class=\"features\"><span class=\"book xft\" ><span class=\"f\">book=</span>Genesis</span></div></div></div>"
      ],
      "text/plain": [
       "<IPython.core.display.HTML object>"
      ]
     },
     "metadata": {},
     "output_type": "display_data"
    },
    {
     "data": {
      "text/html": [
       "<div class=\"tfsechead rtl\"><span class=\"ltr\"><a target=\"_blank\" href=\"https://shebanq.ancient-data.org/hebrew/text?book=Genesis&amp;chapter=1&amp;verse=1&amp;version=2021&amp;mr=m&amp;qw=q&amp;tp=txt_p&amp;tr=hb&amp;wget=v&amp;qget=v&amp;nget=vt\" title=\"Show this on SHEBANQ\" sec=\"Genesis 1\">Genesis 1</a></span></div><div class=\"rtl children\"><div class=\"contnr c4 trm rtl  \" ><div class=\"lbl c4 trm \" ><span class=\"nd\">chapter </span> <span class=\"txtu hbo\"><span class=\"tfsechead rtl\"><span class=\"ltr\">Genesis 1</span></span></span></div><div class=\"features\"><span class=\"book xft\" ><span class=\"f\">book=</span>Genesis</span><span class=\"chapter xft\" ><span class=\"f\">chapter=</span>1</span></div></div></div>"
      ],
      "text/plain": [
       "<IPython.core.display.HTML object>"
      ]
     },
     "metadata": {},
     "output_type": "display_data"
    },
    {
     "data": {
      "text/html": [
       "<div class=\"tfsechead rtl\"><span class=\"ltr\"><a target=\"_blank\" href=\"https://shebanq.ancient-data.org/hebrew/text?book=Genesis&amp;chapter=1&amp;verse=1&amp;version=2021&amp;mr=m&amp;qw=q&amp;tp=txt_p&amp;tr=hb&amp;wget=v&amp;qget=v&amp;nget=vt\" title=\"Show this on SHEBANQ\" sec=\"Genesis 1:1\">Genesis 1:1</a></span></div><div class=\"rtl children\"><div class=\"contnr c3  rtl  \" ><div class=\"lbl c3  \" ><span class=\"nd\">verse </span></div><div class=\"features\"><span class=\"book xft\" ><span class=\"f\">book=</span>Genesis</span><span class=\"chapter xft\" ><span class=\"f\">chapter=</span>1</span><span class=\"verse xft\" ><span class=\"f\">verse=</span>1</span></div><div class=\"children hor wrap rtl\"><div class=\"contnr c2  rtl  hl\" ><div class=\"lbl c2  hl\" ><span class=\"nd\">sentence </span> <span class=\"\"><span title=\"number\">1</span></span></div><div class=\"children hor wrap rtl\"><div class=\"contnr c2  rtl  \" ><div class=\"lbl c2  \" ><span class=\"nd\">clause </span> <span class=\"\"><span title=\"typ\">xQtX</span> <span title=\"rela\">NA</span></span></div><div class=\"children hor wrap rtl\"><div class=\"contnr c1  rtl  \" ><div class=\"lbl c1  \" ><span class=\"nd\">phrase </span> <span class=\"\"><span title=\"typ\">PP</span> <span title=\"function\">Time</span></span></div><div class=\"children hor wrap rtl\"><div class=\"contnr c0 trm rtl  \" ><div class=\"lbl c0 trm \" ><a class=\" txtu hbo\" target=\"_blank\" href=\"https://shebanq.ancient-data.org/hebrew/word?version=2021&amp;id=1B\" title=\"Show this on SHEBANQ\"><span class=\"txtu hbo\">בְּ</span></a></div></div><div class=\"contnr c0 trm rtl  \" ><div class=\"lbl c0 trm \" ><a class=\" txtu hbo\" target=\"_blank\" href=\"https://shebanq.ancient-data.org/hebrew/word?version=2021&amp;id=1RACJTn\" title=\"Show this on SHEBANQ\"><span class=\"txtu hbo\">רֵאשִׁ֖ית </span></a></div><div class=\"features\"><span class=\"nu xft\" ><span class=\"f\">nu=</span>sg</span></div></div></div></div><div class=\"contnr c1  rtl  \" ><div class=\"lbl c1  \" ><span class=\"nd\">phrase </span> <span class=\"\"><span title=\"typ\">VP</span> <span title=\"function\">Pred</span></span></div><div class=\"children hor wrap rtl\"><div class=\"contnr c0 trm rtl  \" ><div class=\"lbl c0 trm \" ><a class=\" txtu hbo\" target=\"_blank\" href=\"https://shebanq.ancient-data.org/hebrew/word?version=2021&amp;id=1BRAv\" title=\"Show this on SHEBANQ\"><span class=\"txtu hbo\">בָּרָ֣א </span></a></div><div class=\"features\"><span class=\"nu xft\" ><span class=\"f\">nu=</span>sg</span></div></div></div></div><div class=\"contnr c1  rtl  \" ><div class=\"lbl c1  \" ><span class=\"nd\">phrase </span> <span class=\"\"><span title=\"typ\">NP</span> <span title=\"function\">Subj</span></span></div><div class=\"children hor wrap rtl\"><div class=\"contnr c0 trm rtl  \" ><div class=\"lbl c0 trm \" ><a class=\" txtu hbo\" target=\"_blank\" href=\"https://shebanq.ancient-data.org/hebrew/word?version=2021&amp;id=1ALHJMn\" title=\"Show this on SHEBANQ\"><span class=\"txtu hbo\">אֱלֹהִ֑ים </span></a></div><div class=\"features\"><span class=\"nu xft\" ><span class=\"f\">nu=</span>pl</span></div></div></div></div><div class=\"contnr c1  rtl  \" ><div class=\"lbl c1  \" ><span class=\"nd\">phrase </span> <span class=\"\"><span title=\"typ\">PP</span> <span title=\"function\">Objc</span></span></div><div class=\"children hor wrap rtl\"><div class=\"contnr c0 trm rtl  \" ><div class=\"lbl c0 trm \" ><a class=\" txtu hbo\" target=\"_blank\" href=\"https://shebanq.ancient-data.org/hebrew/word?version=2021&amp;id=1AT\" title=\"Show this on SHEBANQ\"><span class=\"txtu hbo\">אֵ֥ת </span></a></div></div><div class=\"contnr c0 trm rtl  \" ><div class=\"lbl c0 trm \" ><a class=\" txtu hbo\" target=\"_blank\" href=\"https://shebanq.ancient-data.org/hebrew/word?version=2021&amp;id=1H\" title=\"Show this on SHEBANQ\"><span class=\"txtu hbo\">הַ</span></a></div></div><div class=\"contnr c0 trm rtl  hl\" ><div class=\"lbl c0 trm hl\" ><a class=\" txtu hbo\" target=\"_blank\" href=\"https://shebanq.ancient-data.org/hebrew/word?version=2021&amp;id=1CMJMn\" title=\"Show this on SHEBANQ\"><span class=\"txtu hbo\">שָּׁמַ֖יִם </span></a></div><div class=\"features\"><span class=\"nu xft\" ><span class=\"f\">nu=</span>pl</span></div></div><div class=\"contnr c0 trm rtl  \" ><div class=\"lbl c0 trm \" ><a class=\" txtu hbo\" target=\"_blank\" href=\"https://shebanq.ancient-data.org/hebrew/word?version=2021&amp;id=1W\" title=\"Show this on SHEBANQ\"><span class=\"txtu hbo\">וְ</span></a></div></div><div class=\"contnr c0 trm rtl  \" ><div class=\"lbl c0 trm \" ><a class=\" txtu hbo\" target=\"_blank\" href=\"https://shebanq.ancient-data.org/hebrew/word?version=2021&amp;id=1AT\" title=\"Show this on SHEBANQ\"><span class=\"txtu hbo\">אֵ֥ת </span></a></div></div><div class=\"contnr c0 trm rtl  \" ><div class=\"lbl c0 trm \" ><a class=\" txtu hbo\" target=\"_blank\" href=\"https://shebanq.ancient-data.org/hebrew/word?version=2021&amp;id=1H\" title=\"Show this on SHEBANQ\"><span class=\"txtu hbo\">הָ</span></a></div></div><div class=\"contnr c0 trm rtl  hl\" ><div class=\"lbl c0 trm hl\" ><a class=\" txtu hbo\" target=\"_blank\" href=\"https://shebanq.ancient-data.org/hebrew/word?version=2021&amp;id=1ARYn\" title=\"Show this on SHEBANQ\"><span class=\"txtu hbo\">אָֽרֶץ׃ </span></a></div><div class=\"features\"><span class=\"nu xft\" ><span class=\"f\">nu=</span>sg</span></div></div></div></div></div></div></div></div></div></div></div>"
      ],
      "text/plain": [
       "<IPython.core.display.HTML object>"
      ]
     },
     "metadata": {},
     "output_type": "display_data"
    }
   ],
   "source": [
    "A.show(results)"
   ]
  },
  {
   "cell_type": "markdown",
   "metadata": {},
   "source": [
    "As you see, the results are listed per result tuple, even if they occur all in the same verse.\n",
    "This way you can keep track of what exactly belongs to each result.\n",
    "\n",
    "Now in condensed mode:"
   ]
  },
  {
   "cell_type": "code",
   "execution_count": 19,
   "metadata": {
    "ExecuteTime": {
     "end_time": "2018-05-24T07:47:21.573937Z",
     "start_time": "2018-05-24T07:47:21.561079Z"
    }
   },
   "outputs": [
    {
     "data": {
      "text/html": [
       "<p><b>verse</b> <i>1</i>"
      ],
      "text/plain": [
       "<IPython.core.display.HTML object>"
      ]
     },
     "metadata": {},
     "output_type": "display_data"
    },
    {
     "data": {
      "text/html": [
       "<div class=\"tfsechead rtl\"><span class=\"ltr\"><a target=\"_blank\" href=\"https://shebanq.ancient-data.org/hebrew/text?book=Genesis&amp;chapter=1&amp;verse=1&amp;version=2021&amp;mr=m&amp;qw=q&amp;tp=txt_p&amp;tr=hb&amp;wget=v&amp;qget=v&amp;nget=vt\" title=\"Show this on SHEBANQ\" sec=\"Genesis 1:1\">Genesis 1:1</a></span></div><div class=\"rtl children\"><div class=\"contnr c3  rtl  \" ><div class=\"lbl c3  \" ><span class=\"nd\">verse </span></div><div class=\"features\"><span class=\"book xft\" ><span class=\"f\">book=</span>Genesis</span><span class=\"chapter xft\" ><span class=\"f\">chapter=</span>1</span><span class=\"verse xft\" ><span class=\"f\">verse=</span>1</span></div><div class=\"children hor wrap rtl\"><div class=\"contnr c2  rtl  hl\" ><div class=\"lbl c2  hl\" ><span class=\"nd\">sentence </span> <span class=\"\"><span title=\"number\">1</span></span></div><div class=\"children hor wrap rtl\"><div class=\"contnr c2  rtl  \" ><div class=\"lbl c2  \" ><span class=\"nd\">clause </span> <span class=\"\"><span title=\"typ\">xQtX</span> <span title=\"rela\">NA</span></span></div><div class=\"children hor wrap rtl\"><div class=\"contnr c1  rtl  \" ><div class=\"lbl c1  \" ><span class=\"nd\">phrase </span> <span class=\"\"><span title=\"typ\">PP</span> <span title=\"function\">Time</span></span></div><div class=\"children hor wrap rtl\"><div class=\"contnr c0 trm rtl  \" ><div class=\"lbl c0 trm \" ><a class=\" txtu hbo\" target=\"_blank\" href=\"https://shebanq.ancient-data.org/hebrew/word?version=2021&amp;id=1B\" title=\"Show this on SHEBANQ\"><span class=\"txtu hbo\">בְּ</span></a></div></div><div class=\"contnr c0 trm rtl  hl\" ><div class=\"lbl c0 trm hl\" ><a class=\" txtu hbo\" target=\"_blank\" href=\"https://shebanq.ancient-data.org/hebrew/word?version=2021&amp;id=1RACJTn\" title=\"Show this on SHEBANQ\"><span class=\"txtu hbo\">רֵאשִׁ֖ית </span></a></div><div class=\"features\"><span class=\"nu xft\" ><span class=\"f\">nu=</span>sg</span></div></div></div></div><div class=\"contnr c1  rtl  \" ><div class=\"lbl c1  \" ><span class=\"nd\">phrase </span> <span class=\"\"><span title=\"typ\">VP</span> <span title=\"function\">Pred</span></span></div><div class=\"children hor wrap rtl\"><div class=\"contnr c0 trm rtl  hl\" ><div class=\"lbl c0 trm hl\" ><a class=\" txtu hbo\" target=\"_blank\" href=\"https://shebanq.ancient-data.org/hebrew/word?version=2021&amp;id=1BRAv\" title=\"Show this on SHEBANQ\"><span class=\"txtu hbo\">בָּרָ֣א </span></a></div><div class=\"features\"><span class=\"nu xft\" ><span class=\"f\">nu=</span>sg</span></div></div></div></div><div class=\"contnr c1  rtl  \" ><div class=\"lbl c1  \" ><span class=\"nd\">phrase </span> <span class=\"\"><span title=\"typ\">NP</span> <span title=\"function\">Subj</span></span></div><div class=\"children hor wrap rtl\"><div class=\"contnr c0 trm rtl  hl\" ><div class=\"lbl c0 trm hl\" ><a class=\" txtu hbo\" target=\"_blank\" href=\"https://shebanq.ancient-data.org/hebrew/word?version=2021&amp;id=1ALHJMn\" title=\"Show this on SHEBANQ\"><span class=\"txtu hbo\">אֱלֹהִ֑ים </span></a></div><div class=\"features\"><span class=\"nu xft\" ><span class=\"f\">nu=</span>pl</span></div></div></div></div><div class=\"contnr c1  rtl  \" ><div class=\"lbl c1  \" ><span class=\"nd\">phrase </span> <span class=\"\"><span title=\"typ\">PP</span> <span title=\"function\">Objc</span></span></div><div class=\"children hor wrap rtl\"><div class=\"contnr c0 trm rtl  \" ><div class=\"lbl c0 trm \" ><a class=\" txtu hbo\" target=\"_blank\" href=\"https://shebanq.ancient-data.org/hebrew/word?version=2021&amp;id=1AT\" title=\"Show this on SHEBANQ\"><span class=\"txtu hbo\">אֵ֥ת </span></a></div></div><div class=\"contnr c0 trm rtl  \" ><div class=\"lbl c0 trm \" ><a class=\" txtu hbo\" target=\"_blank\" href=\"https://shebanq.ancient-data.org/hebrew/word?version=2021&amp;id=1H\" title=\"Show this on SHEBANQ\"><span class=\"txtu hbo\">הַ</span></a></div></div><div class=\"contnr c0 trm rtl  hl\" ><div class=\"lbl c0 trm hl\" ><a class=\" txtu hbo\" target=\"_blank\" href=\"https://shebanq.ancient-data.org/hebrew/word?version=2021&amp;id=1CMJMn\" title=\"Show this on SHEBANQ\"><span class=\"txtu hbo\">שָּׁמַ֖יִם </span></a></div><div class=\"features\"><span class=\"nu xft\" ><span class=\"f\">nu=</span>pl</span></div></div><div class=\"contnr c0 trm rtl  \" ><div class=\"lbl c0 trm \" ><a class=\" txtu hbo\" target=\"_blank\" href=\"https://shebanq.ancient-data.org/hebrew/word?version=2021&amp;id=1W\" title=\"Show this on SHEBANQ\"><span class=\"txtu hbo\">וְ</span></a></div></div><div class=\"contnr c0 trm rtl  \" ><div class=\"lbl c0 trm \" ><a class=\" txtu hbo\" target=\"_blank\" href=\"https://shebanq.ancient-data.org/hebrew/word?version=2021&amp;id=1AT\" title=\"Show this on SHEBANQ\"><span class=\"txtu hbo\">אֵ֥ת </span></a></div></div><div class=\"contnr c0 trm rtl  \" ><div class=\"lbl c0 trm \" ><a class=\" txtu hbo\" target=\"_blank\" href=\"https://shebanq.ancient-data.org/hebrew/word?version=2021&amp;id=1H\" title=\"Show this on SHEBANQ\"><span class=\"txtu hbo\">הָ</span></a></div></div><div class=\"contnr c0 trm rtl  hl\" ><div class=\"lbl c0 trm hl\" ><a class=\" txtu hbo\" target=\"_blank\" href=\"https://shebanq.ancient-data.org/hebrew/word?version=2021&amp;id=1ARYn\" title=\"Show this on SHEBANQ\"><span class=\"txtu hbo\">אָֽרֶץ׃ </span></a></div><div class=\"features\"><span class=\"nu xft\" ><span class=\"f\">nu=</span>sg</span></div></div></div></div></div></div></div></div></div></div></div>"
      ],
      "text/plain": [
       "<IPython.core.display.HTML object>"
      ]
     },
     "metadata": {},
     "output_type": "display_data"
    }
   ],
   "source": [
    "A.show(results, condensed=True)"
   ]
  },
  {
   "cell_type": "markdown",
   "metadata": {},
   "source": [
    "Here we have all words of all results in one display. But we cannot see that each results has two words, let alone which ones."
   ]
  },
  {
   "cell_type": "markdown",
   "metadata": {},
   "source": [
    "# Custom highlighting\n",
    "\n",
    "Note that we can apply different highlight colours to different parts of the result.\n",
    "The words in the pair are member 5 and 6 of the result tuples.\n",
    "The members that we do not map, will not be highlighted.\n",
    "The members that we map to the empty string will be highlighted with the default color.\n",
    "\n",
    "**NB:** Choose your colours from the\n",
    "[CSS specification](https://developer.mozilla.org/en-US/docs/Web/CSS/color_value)."
   ]
  },
  {
   "cell_type": "code",
   "execution_count": 20,
   "metadata": {
    "ExecuteTime": {
     "end_time": "2018-05-24T07:47:25.094797Z",
     "start_time": "2018-05-24T07:47:25.048277Z"
    }
   },
   "outputs": [
    {
     "data": {
      "text/html": [
       "<p><b>result</b> <i>1</i>"
      ],
      "text/plain": [
       "<IPython.core.display.HTML object>"
      ]
     },
     "metadata": {},
     "output_type": "display_data"
    },
    {
     "data": {
      "text/html": [
       "<div class=\"tfsechead rtl\"><span class=\"ltr\"><a target=\"_blank\" href=\"https://shebanq.ancient-data.org/hebrew/text?book=Genesis&amp;chapter=1&amp;verse=1&amp;version=2021&amp;mr=m&amp;qw=q&amp;tp=txt_p&amp;tr=hb&amp;wget=v&amp;qget=v&amp;nget=vt\" title=\"Show this on SHEBANQ\" sec=\"Genesis\">Genesis</a></span></div><div class=\"rtl children\"><div class=\"contnr c4 trm rtl  \" ><div class=\"lbl c4 trm \" ><span class=\"nd\">book </span> <span class=\"txtu hbo\"><span class=\"tfsechead rtl\"><span class=\"ltr\">Genesis</span></span></span></div><div class=\"features\"><span class=\"book xft\" ><span class=\"f\">book=</span>Genesis</span></div></div></div>"
      ],
      "text/plain": [
       "<IPython.core.display.HTML object>"
      ]
     },
     "metadata": {},
     "output_type": "display_data"
    },
    {
     "data": {
      "text/html": [
       "<div class=\"tfsechead rtl\"><span class=\"ltr\"><a target=\"_blank\" href=\"https://shebanq.ancient-data.org/hebrew/text?book=Genesis&amp;chapter=1&amp;verse=1&amp;version=2021&amp;mr=m&amp;qw=q&amp;tp=txt_p&amp;tr=hb&amp;wget=v&amp;qget=v&amp;nget=vt\" title=\"Show this on SHEBANQ\" sec=\"Genesis 1\">Genesis 1</a></span></div><div class=\"rtl children\"><div class=\"contnr c4 trm rtl  \" ><div class=\"lbl c4 trm \" ><span class=\"nd\">chapter </span> <span class=\"txtu hbo\"><span class=\"tfsechead rtl\"><span class=\"ltr\">Genesis 1</span></span></span></div><div class=\"features\"><span class=\"book xft\" ><span class=\"f\">book=</span>Genesis</span><span class=\"chapter xft\" ><span class=\"f\">chapter=</span>1</span></div></div></div>"
      ],
      "text/plain": [
       "<IPython.core.display.HTML object>"
      ]
     },
     "metadata": {},
     "output_type": "display_data"
    },
    {
     "data": {
      "text/html": [
       "<div class=\"tfsechead rtl\"><span class=\"ltr\"><a target=\"_blank\" href=\"https://shebanq.ancient-data.org/hebrew/text?book=Genesis&amp;chapter=1&amp;verse=1&amp;version=2021&amp;mr=m&amp;qw=q&amp;tp=txt_p&amp;tr=hb&amp;wget=v&amp;qget=v&amp;nget=vt\" title=\"Show this on SHEBANQ\" sec=\"Genesis 1:1\">Genesis 1:1</a></span></div><div class=\"rtl children\"><div class=\"contnr c3  rtl  \" ><div class=\"lbl c3  \" ><span class=\"nd\">verse </span></div><div class=\"features\"><span class=\"book xft\" ><span class=\"f\">book=</span>Genesis</span><span class=\"chapter xft\" ><span class=\"f\">chapter=</span>1</span><span class=\"verse xft\" ><span class=\"f\">verse=</span>1</span></div><div class=\"children hor wrap rtl\"><div class=\"contnr c2  rtl  hl\" ><div class=\"lbl c2  hl\" ><span class=\"nd\">sentence </span> <span class=\"\"><span title=\"number\">1</span></span></div><div class=\"children hor wrap rtl\"><div class=\"contnr c2  rtl  \" ><div class=\"lbl c2  \" ><span class=\"nd\">clause </span> <span class=\"\"><span title=\"typ\">xQtX</span> <span title=\"rela\">NA</span></span></div><div class=\"children hor wrap rtl\"><div class=\"contnr c1  rtl  \" ><div class=\"lbl c1  \" ><span class=\"nd\">phrase </span> <span class=\"\"><span title=\"typ\">PP</span> <span title=\"function\">Time</span></span></div><div class=\"children hor wrap rtl\"><div class=\"contnr c0 trm rtl  \" ><div class=\"lbl c0 trm \" ><a class=\" txtu hbo\" target=\"_blank\" href=\"https://shebanq.ancient-data.org/hebrew/word?version=2021&amp;id=1B\" title=\"Show this on SHEBANQ\"><span class=\"txtu hbo\">בְּ</span></a></div></div><div class=\"contnr c0 trm rtl  hl\"  style=\"background-color: cyan;\" ><div class=\"lbl c0 trm hl\"  style=\"background-color: cyan;\" ><a class=\" txtu hbo\" target=\"_blank\" href=\"https://shebanq.ancient-data.org/hebrew/word?version=2021&amp;id=1RACJTn\" title=\"Show this on SHEBANQ\"><span class=\"txtu hbo\">רֵאשִׁ֖ית </span></a></div><div class=\"features\"><span class=\"nu xft\" ><span class=\"f\">nu=</span>sg</span></div></div></div></div><div class=\"contnr c1  rtl  \" ><div class=\"lbl c1  \" ><span class=\"nd\">phrase </span> <span class=\"\"><span title=\"typ\">VP</span> <span title=\"function\">Pred</span></span></div><div class=\"children hor wrap rtl\"><div class=\"contnr c0 trm rtl  \" ><div class=\"lbl c0 trm \" ><a class=\" txtu hbo\" target=\"_blank\" href=\"https://shebanq.ancient-data.org/hebrew/word?version=2021&amp;id=1BRAv\" title=\"Show this on SHEBANQ\"><span class=\"txtu hbo\">בָּרָ֣א </span></a></div><div class=\"features\"><span class=\"nu xft\" ><span class=\"f\">nu=</span>sg</span></div></div></div></div><div class=\"contnr c1  rtl  \" ><div class=\"lbl c1  \" ><span class=\"nd\">phrase </span> <span class=\"\"><span title=\"typ\">NP</span> <span title=\"function\">Subj</span></span></div><div class=\"children hor wrap rtl\"><div class=\"contnr c0 trm rtl  hl\"  style=\"background-color: magenta;\" ><div class=\"lbl c0 trm hl\"  style=\"background-color: magenta;\" ><a class=\" txtu hbo\" target=\"_blank\" href=\"https://shebanq.ancient-data.org/hebrew/word?version=2021&amp;id=1ALHJMn\" title=\"Show this on SHEBANQ\"><span class=\"txtu hbo\">אֱלֹהִ֑ים </span></a></div><div class=\"features\"><span class=\"nu xft\" ><span class=\"f\">nu=</span>pl</span></div></div></div></div><div class=\"contnr c1  rtl  \" ><div class=\"lbl c1  \" ><span class=\"nd\">phrase </span> <span class=\"\"><span title=\"typ\">PP</span> <span title=\"function\">Objc</span></span></div><div class=\"children hor wrap rtl\"><div class=\"contnr c0 trm rtl  \" ><div class=\"lbl c0 trm \" ><a class=\" txtu hbo\" target=\"_blank\" href=\"https://shebanq.ancient-data.org/hebrew/word?version=2021&amp;id=1AT\" title=\"Show this on SHEBANQ\"><span class=\"txtu hbo\">אֵ֥ת </span></a></div></div><div class=\"contnr c0 trm rtl  \" ><div class=\"lbl c0 trm \" ><a class=\" txtu hbo\" target=\"_blank\" href=\"https://shebanq.ancient-data.org/hebrew/word?version=2021&amp;id=1H\" title=\"Show this on SHEBANQ\"><span class=\"txtu hbo\">הַ</span></a></div></div><div class=\"contnr c0 trm rtl  \" ><div class=\"lbl c0 trm \" ><a class=\" txtu hbo\" target=\"_blank\" href=\"https://shebanq.ancient-data.org/hebrew/word?version=2021&amp;id=1CMJMn\" title=\"Show this on SHEBANQ\"><span class=\"txtu hbo\">שָּׁמַ֖יִם </span></a></div><div class=\"features\"><span class=\"nu xft\" ><span class=\"f\">nu=</span>pl</span></div></div><div class=\"contnr c0 trm rtl  \" ><div class=\"lbl c0 trm \" ><a class=\" txtu hbo\" target=\"_blank\" href=\"https://shebanq.ancient-data.org/hebrew/word?version=2021&amp;id=1W\" title=\"Show this on SHEBANQ\"><span class=\"txtu hbo\">וְ</span></a></div></div><div class=\"contnr c0 trm rtl  \" ><div class=\"lbl c0 trm \" ><a class=\" txtu hbo\" target=\"_blank\" href=\"https://shebanq.ancient-data.org/hebrew/word?version=2021&amp;id=1AT\" title=\"Show this on SHEBANQ\"><span class=\"txtu hbo\">אֵ֥ת </span></a></div></div><div class=\"contnr c0 trm rtl  \" ><div class=\"lbl c0 trm \" ><a class=\" txtu hbo\" target=\"_blank\" href=\"https://shebanq.ancient-data.org/hebrew/word?version=2021&amp;id=1H\" title=\"Show this on SHEBANQ\"><span class=\"txtu hbo\">הָ</span></a></div></div><div class=\"contnr c0 trm rtl  \" ><div class=\"lbl c0 trm \" ><a class=\" txtu hbo\" target=\"_blank\" href=\"https://shebanq.ancient-data.org/hebrew/word?version=2021&amp;id=1ARYn\" title=\"Show this on SHEBANQ\"><span class=\"txtu hbo\">אָֽרֶץ׃ </span></a></div><div class=\"features\"><span class=\"nu xft\" ><span class=\"f\">nu=</span>sg</span></div></div></div></div></div></div></div></div></div></div></div>"
      ],
      "text/plain": [
       "<IPython.core.display.HTML object>"
      ]
     },
     "metadata": {},
     "output_type": "display_data"
    },
    {
     "data": {
      "text/html": [
       "<p><b>result</b> <i>2</i>"
      ],
      "text/plain": [
       "<IPython.core.display.HTML object>"
      ]
     },
     "metadata": {},
     "output_type": "display_data"
    },
    {
     "data": {
      "text/html": [
       "<div class=\"tfsechead rtl\"><span class=\"ltr\"><a target=\"_blank\" href=\"https://shebanq.ancient-data.org/hebrew/text?book=Genesis&amp;chapter=1&amp;verse=1&amp;version=2021&amp;mr=m&amp;qw=q&amp;tp=txt_p&amp;tr=hb&amp;wget=v&amp;qget=v&amp;nget=vt\" title=\"Show this on SHEBANQ\" sec=\"Genesis\">Genesis</a></span></div><div class=\"rtl children\"><div class=\"contnr c4 trm rtl  \" ><div class=\"lbl c4 trm \" ><span class=\"nd\">book </span> <span class=\"txtu hbo\"><span class=\"tfsechead rtl\"><span class=\"ltr\">Genesis</span></span></span></div><div class=\"features\"><span class=\"book xft\" ><span class=\"f\">book=</span>Genesis</span></div></div></div>"
      ],
      "text/plain": [
       "<IPython.core.display.HTML object>"
      ]
     },
     "metadata": {},
     "output_type": "display_data"
    },
    {
     "data": {
      "text/html": [
       "<div class=\"tfsechead rtl\"><span class=\"ltr\"><a target=\"_blank\" href=\"https://shebanq.ancient-data.org/hebrew/text?book=Genesis&amp;chapter=1&amp;verse=1&amp;version=2021&amp;mr=m&amp;qw=q&amp;tp=txt_p&amp;tr=hb&amp;wget=v&amp;qget=v&amp;nget=vt\" title=\"Show this on SHEBANQ\" sec=\"Genesis 1\">Genesis 1</a></span></div><div class=\"rtl children\"><div class=\"contnr c4 trm rtl  \" ><div class=\"lbl c4 trm \" ><span class=\"nd\">chapter </span> <span class=\"txtu hbo\"><span class=\"tfsechead rtl\"><span class=\"ltr\">Genesis 1</span></span></span></div><div class=\"features\"><span class=\"book xft\" ><span class=\"f\">book=</span>Genesis</span><span class=\"chapter xft\" ><span class=\"f\">chapter=</span>1</span></div></div></div>"
      ],
      "text/plain": [
       "<IPython.core.display.HTML object>"
      ]
     },
     "metadata": {},
     "output_type": "display_data"
    },
    {
     "data": {
      "text/html": [
       "<div class=\"tfsechead rtl\"><span class=\"ltr\"><a target=\"_blank\" href=\"https://shebanq.ancient-data.org/hebrew/text?book=Genesis&amp;chapter=1&amp;verse=1&amp;version=2021&amp;mr=m&amp;qw=q&amp;tp=txt_p&amp;tr=hb&amp;wget=v&amp;qget=v&amp;nget=vt\" title=\"Show this on SHEBANQ\" sec=\"Genesis 1:1\">Genesis 1:1</a></span></div><div class=\"rtl children\"><div class=\"contnr c3  rtl  \" ><div class=\"lbl c3  \" ><span class=\"nd\">verse </span></div><div class=\"features\"><span class=\"book xft\" ><span class=\"f\">book=</span>Genesis</span><span class=\"chapter xft\" ><span class=\"f\">chapter=</span>1</span><span class=\"verse xft\" ><span class=\"f\">verse=</span>1</span></div><div class=\"children hor wrap rtl\"><div class=\"contnr c2  rtl  hl\" ><div class=\"lbl c2  hl\" ><span class=\"nd\">sentence </span> <span class=\"\"><span title=\"number\">1</span></span></div><div class=\"children hor wrap rtl\"><div class=\"contnr c2  rtl  \" ><div class=\"lbl c2  \" ><span class=\"nd\">clause </span> <span class=\"\"><span title=\"typ\">xQtX</span> <span title=\"rela\">NA</span></span></div><div class=\"children hor wrap rtl\"><div class=\"contnr c1  rtl  \" ><div class=\"lbl c1  \" ><span class=\"nd\">phrase </span> <span class=\"\"><span title=\"typ\">PP</span> <span title=\"function\">Time</span></span></div><div class=\"children hor wrap rtl\"><div class=\"contnr c0 trm rtl  \" ><div class=\"lbl c0 trm \" ><a class=\" txtu hbo\" target=\"_blank\" href=\"https://shebanq.ancient-data.org/hebrew/word?version=2021&amp;id=1B\" title=\"Show this on SHEBANQ\"><span class=\"txtu hbo\">בְּ</span></a></div></div><div class=\"contnr c0 trm rtl  hl\"  style=\"background-color: cyan;\" ><div class=\"lbl c0 trm hl\"  style=\"background-color: cyan;\" ><a class=\" txtu hbo\" target=\"_blank\" href=\"https://shebanq.ancient-data.org/hebrew/word?version=2021&amp;id=1RACJTn\" title=\"Show this on SHEBANQ\"><span class=\"txtu hbo\">רֵאשִׁ֖ית </span></a></div><div class=\"features\"><span class=\"nu xft\" ><span class=\"f\">nu=</span>sg</span></div></div></div></div><div class=\"contnr c1  rtl  \" ><div class=\"lbl c1  \" ><span class=\"nd\">phrase </span> <span class=\"\"><span title=\"typ\">VP</span> <span title=\"function\">Pred</span></span></div><div class=\"children hor wrap rtl\"><div class=\"contnr c0 trm rtl  \" ><div class=\"lbl c0 trm \" ><a class=\" txtu hbo\" target=\"_blank\" href=\"https://shebanq.ancient-data.org/hebrew/word?version=2021&amp;id=1BRAv\" title=\"Show this on SHEBANQ\"><span class=\"txtu hbo\">בָּרָ֣א </span></a></div><div class=\"features\"><span class=\"nu xft\" ><span class=\"f\">nu=</span>sg</span></div></div></div></div><div class=\"contnr c1  rtl  \" ><div class=\"lbl c1  \" ><span class=\"nd\">phrase </span> <span class=\"\"><span title=\"typ\">NP</span> <span title=\"function\">Subj</span></span></div><div class=\"children hor wrap rtl\"><div class=\"contnr c0 trm rtl  \" ><div class=\"lbl c0 trm \" ><a class=\" txtu hbo\" target=\"_blank\" href=\"https://shebanq.ancient-data.org/hebrew/word?version=2021&amp;id=1ALHJMn\" title=\"Show this on SHEBANQ\"><span class=\"txtu hbo\">אֱלֹהִ֑ים </span></a></div><div class=\"features\"><span class=\"nu xft\" ><span class=\"f\">nu=</span>pl</span></div></div></div></div><div class=\"contnr c1  rtl  \" ><div class=\"lbl c1  \" ><span class=\"nd\">phrase </span> <span class=\"\"><span title=\"typ\">PP</span> <span title=\"function\">Objc</span></span></div><div class=\"children hor wrap rtl\"><div class=\"contnr c0 trm rtl  \" ><div class=\"lbl c0 trm \" ><a class=\" txtu hbo\" target=\"_blank\" href=\"https://shebanq.ancient-data.org/hebrew/word?version=2021&amp;id=1AT\" title=\"Show this on SHEBANQ\"><span class=\"txtu hbo\">אֵ֥ת </span></a></div></div><div class=\"contnr c0 trm rtl  \" ><div class=\"lbl c0 trm \" ><a class=\" txtu hbo\" target=\"_blank\" href=\"https://shebanq.ancient-data.org/hebrew/word?version=2021&amp;id=1H\" title=\"Show this on SHEBANQ\"><span class=\"txtu hbo\">הַ</span></a></div></div><div class=\"contnr c0 trm rtl  hl\"  style=\"background-color: magenta;\" ><div class=\"lbl c0 trm hl\"  style=\"background-color: magenta;\" ><a class=\" txtu hbo\" target=\"_blank\" href=\"https://shebanq.ancient-data.org/hebrew/word?version=2021&amp;id=1CMJMn\" title=\"Show this on SHEBANQ\"><span class=\"txtu hbo\">שָּׁמַ֖יִם </span></a></div><div class=\"features\"><span class=\"nu xft\" ><span class=\"f\">nu=</span>pl</span></div></div><div class=\"contnr c0 trm rtl  \" ><div class=\"lbl c0 trm \" ><a class=\" txtu hbo\" target=\"_blank\" href=\"https://shebanq.ancient-data.org/hebrew/word?version=2021&amp;id=1W\" title=\"Show this on SHEBANQ\"><span class=\"txtu hbo\">וְ</span></a></div></div><div class=\"contnr c0 trm rtl  \" ><div class=\"lbl c0 trm \" ><a class=\" txtu hbo\" target=\"_blank\" href=\"https://shebanq.ancient-data.org/hebrew/word?version=2021&amp;id=1AT\" title=\"Show this on SHEBANQ\"><span class=\"txtu hbo\">אֵ֥ת </span></a></div></div><div class=\"contnr c0 trm rtl  \" ><div class=\"lbl c0 trm \" ><a class=\" txtu hbo\" target=\"_blank\" href=\"https://shebanq.ancient-data.org/hebrew/word?version=2021&amp;id=1H\" title=\"Show this on SHEBANQ\"><span class=\"txtu hbo\">הָ</span></a></div></div><div class=\"contnr c0 trm rtl  \" ><div class=\"lbl c0 trm \" ><a class=\" txtu hbo\" target=\"_blank\" href=\"https://shebanq.ancient-data.org/hebrew/word?version=2021&amp;id=1ARYn\" title=\"Show this on SHEBANQ\"><span class=\"txtu hbo\">אָֽרֶץ׃ </span></a></div><div class=\"features\"><span class=\"nu xft\" ><span class=\"f\">nu=</span>sg</span></div></div></div></div></div></div></div></div></div></div></div>"
      ],
      "text/plain": [
       "<IPython.core.display.HTML object>"
      ]
     },
     "metadata": {},
     "output_type": "display_data"
    },
    {
     "data": {
      "text/html": [
       "<p><b>result</b> <i>3</i>"
      ],
      "text/plain": [
       "<IPython.core.display.HTML object>"
      ]
     },
     "metadata": {},
     "output_type": "display_data"
    },
    {
     "data": {
      "text/html": [
       "<div class=\"tfsechead rtl\"><span class=\"ltr\"><a target=\"_blank\" href=\"https://shebanq.ancient-data.org/hebrew/text?book=Genesis&amp;chapter=1&amp;verse=1&amp;version=2021&amp;mr=m&amp;qw=q&amp;tp=txt_p&amp;tr=hb&amp;wget=v&amp;qget=v&amp;nget=vt\" title=\"Show this on SHEBANQ\" sec=\"Genesis\">Genesis</a></span></div><div class=\"rtl children\"><div class=\"contnr c4 trm rtl  \" ><div class=\"lbl c4 trm \" ><span class=\"nd\">book </span> <span class=\"txtu hbo\"><span class=\"tfsechead rtl\"><span class=\"ltr\">Genesis</span></span></span></div><div class=\"features\"><span class=\"book xft\" ><span class=\"f\">book=</span>Genesis</span></div></div></div>"
      ],
      "text/plain": [
       "<IPython.core.display.HTML object>"
      ]
     },
     "metadata": {},
     "output_type": "display_data"
    },
    {
     "data": {
      "text/html": [
       "<div class=\"tfsechead rtl\"><span class=\"ltr\"><a target=\"_blank\" href=\"https://shebanq.ancient-data.org/hebrew/text?book=Genesis&amp;chapter=1&amp;verse=1&amp;version=2021&amp;mr=m&amp;qw=q&amp;tp=txt_p&amp;tr=hb&amp;wget=v&amp;qget=v&amp;nget=vt\" title=\"Show this on SHEBANQ\" sec=\"Genesis 1\">Genesis 1</a></span></div><div class=\"rtl children\"><div class=\"contnr c4 trm rtl  \" ><div class=\"lbl c4 trm \" ><span class=\"nd\">chapter </span> <span class=\"txtu hbo\"><span class=\"tfsechead rtl\"><span class=\"ltr\">Genesis 1</span></span></span></div><div class=\"features\"><span class=\"book xft\" ><span class=\"f\">book=</span>Genesis</span><span class=\"chapter xft\" ><span class=\"f\">chapter=</span>1</span></div></div></div>"
      ],
      "text/plain": [
       "<IPython.core.display.HTML object>"
      ]
     },
     "metadata": {},
     "output_type": "display_data"
    },
    {
     "data": {
      "text/html": [
       "<div class=\"tfsechead rtl\"><span class=\"ltr\"><a target=\"_blank\" href=\"https://shebanq.ancient-data.org/hebrew/text?book=Genesis&amp;chapter=1&amp;verse=1&amp;version=2021&amp;mr=m&amp;qw=q&amp;tp=txt_p&amp;tr=hb&amp;wget=v&amp;qget=v&amp;nget=vt\" title=\"Show this on SHEBANQ\" sec=\"Genesis 1:1\">Genesis 1:1</a></span></div><div class=\"rtl children\"><div class=\"contnr c3  rtl  \" ><div class=\"lbl c3  \" ><span class=\"nd\">verse </span></div><div class=\"features\"><span class=\"book xft\" ><span class=\"f\">book=</span>Genesis</span><span class=\"chapter xft\" ><span class=\"f\">chapter=</span>1</span><span class=\"verse xft\" ><span class=\"f\">verse=</span>1</span></div><div class=\"children hor wrap rtl\"><div class=\"contnr c2  rtl  hl\" ><div class=\"lbl c2  hl\" ><span class=\"nd\">sentence </span> <span class=\"\"><span title=\"number\">1</span></span></div><div class=\"children hor wrap rtl\"><div class=\"contnr c2  rtl  \" ><div class=\"lbl c2  \" ><span class=\"nd\">clause </span> <span class=\"\"><span title=\"typ\">xQtX</span> <span title=\"rela\">NA</span></span></div><div class=\"children hor wrap rtl\"><div class=\"contnr c1  rtl  \" ><div class=\"lbl c1  \" ><span class=\"nd\">phrase </span> <span class=\"\"><span title=\"typ\">PP</span> <span title=\"function\">Time</span></span></div><div class=\"children hor wrap rtl\"><div class=\"contnr c0 trm rtl  \" ><div class=\"lbl c0 trm \" ><a class=\" txtu hbo\" target=\"_blank\" href=\"https://shebanq.ancient-data.org/hebrew/word?version=2021&amp;id=1B\" title=\"Show this on SHEBANQ\"><span class=\"txtu hbo\">בְּ</span></a></div></div><div class=\"contnr c0 trm rtl  \" ><div class=\"lbl c0 trm \" ><a class=\" txtu hbo\" target=\"_blank\" href=\"https://shebanq.ancient-data.org/hebrew/word?version=2021&amp;id=1RACJTn\" title=\"Show this on SHEBANQ\"><span class=\"txtu hbo\">רֵאשִׁ֖ית </span></a></div><div class=\"features\"><span class=\"nu xft\" ><span class=\"f\">nu=</span>sg</span></div></div></div></div><div class=\"contnr c1  rtl  \" ><div class=\"lbl c1  \" ><span class=\"nd\">phrase </span> <span class=\"\"><span title=\"typ\">VP</span> <span title=\"function\">Pred</span></span></div><div class=\"children hor wrap rtl\"><div class=\"contnr c0 trm rtl  hl\"  style=\"background-color: cyan;\" ><div class=\"lbl c0 trm hl\"  style=\"background-color: cyan;\" ><a class=\" txtu hbo\" target=\"_blank\" href=\"https://shebanq.ancient-data.org/hebrew/word?version=2021&amp;id=1BRAv\" title=\"Show this on SHEBANQ\"><span class=\"txtu hbo\">בָּרָ֣א </span></a></div><div class=\"features\"><span class=\"nu xft\" ><span class=\"f\">nu=</span>sg</span></div></div></div></div><div class=\"contnr c1  rtl  \" ><div class=\"lbl c1  \" ><span class=\"nd\">phrase </span> <span class=\"\"><span title=\"typ\">NP</span> <span title=\"function\">Subj</span></span></div><div class=\"children hor wrap rtl\"><div class=\"contnr c0 trm rtl  hl\"  style=\"background-color: magenta;\" ><div class=\"lbl c0 trm hl\"  style=\"background-color: magenta;\" ><a class=\" txtu hbo\" target=\"_blank\" href=\"https://shebanq.ancient-data.org/hebrew/word?version=2021&amp;id=1ALHJMn\" title=\"Show this on SHEBANQ\"><span class=\"txtu hbo\">אֱלֹהִ֑ים </span></a></div><div class=\"features\"><span class=\"nu xft\" ><span class=\"f\">nu=</span>pl</span></div></div></div></div><div class=\"contnr c1  rtl  \" ><div class=\"lbl c1  \" ><span class=\"nd\">phrase </span> <span class=\"\"><span title=\"typ\">PP</span> <span title=\"function\">Objc</span></span></div><div class=\"children hor wrap rtl\"><div class=\"contnr c0 trm rtl  \" ><div class=\"lbl c0 trm \" ><a class=\" txtu hbo\" target=\"_blank\" href=\"https://shebanq.ancient-data.org/hebrew/word?version=2021&amp;id=1AT\" title=\"Show this on SHEBANQ\"><span class=\"txtu hbo\">אֵ֥ת </span></a></div></div><div class=\"contnr c0 trm rtl  \" ><div class=\"lbl c0 trm \" ><a class=\" txtu hbo\" target=\"_blank\" href=\"https://shebanq.ancient-data.org/hebrew/word?version=2021&amp;id=1H\" title=\"Show this on SHEBANQ\"><span class=\"txtu hbo\">הַ</span></a></div></div><div class=\"contnr c0 trm rtl  \" ><div class=\"lbl c0 trm \" ><a class=\" txtu hbo\" target=\"_blank\" href=\"https://shebanq.ancient-data.org/hebrew/word?version=2021&amp;id=1CMJMn\" title=\"Show this on SHEBANQ\"><span class=\"txtu hbo\">שָּׁמַ֖יִם </span></a></div><div class=\"features\"><span class=\"nu xft\" ><span class=\"f\">nu=</span>pl</span></div></div><div class=\"contnr c0 trm rtl  \" ><div class=\"lbl c0 trm \" ><a class=\" txtu hbo\" target=\"_blank\" href=\"https://shebanq.ancient-data.org/hebrew/word?version=2021&amp;id=1W\" title=\"Show this on SHEBANQ\"><span class=\"txtu hbo\">וְ</span></a></div></div><div class=\"contnr c0 trm rtl  \" ><div class=\"lbl c0 trm \" ><a class=\" txtu hbo\" target=\"_blank\" href=\"https://shebanq.ancient-data.org/hebrew/word?version=2021&amp;id=1AT\" title=\"Show this on SHEBANQ\"><span class=\"txtu hbo\">אֵ֥ת </span></a></div></div><div class=\"contnr c0 trm rtl  \" ><div class=\"lbl c0 trm \" ><a class=\" txtu hbo\" target=\"_blank\" href=\"https://shebanq.ancient-data.org/hebrew/word?version=2021&amp;id=1H\" title=\"Show this on SHEBANQ\"><span class=\"txtu hbo\">הָ</span></a></div></div><div class=\"contnr c0 trm rtl  \" ><div class=\"lbl c0 trm \" ><a class=\" txtu hbo\" target=\"_blank\" href=\"https://shebanq.ancient-data.org/hebrew/word?version=2021&amp;id=1ARYn\" title=\"Show this on SHEBANQ\"><span class=\"txtu hbo\">אָֽרֶץ׃ </span></a></div><div class=\"features\"><span class=\"nu xft\" ><span class=\"f\">nu=</span>sg</span></div></div></div></div></div></div></div></div></div></div></div>"
      ],
      "text/plain": [
       "<IPython.core.display.HTML object>"
      ]
     },
     "metadata": {},
     "output_type": "display_data"
    },
    {
     "data": {
      "text/html": [
       "<p><b>result</b> <i>4</i>"
      ],
      "text/plain": [
       "<IPython.core.display.HTML object>"
      ]
     },
     "metadata": {},
     "output_type": "display_data"
    },
    {
     "data": {
      "text/html": [
       "<div class=\"tfsechead rtl\"><span class=\"ltr\"><a target=\"_blank\" href=\"https://shebanq.ancient-data.org/hebrew/text?book=Genesis&amp;chapter=1&amp;verse=1&amp;version=2021&amp;mr=m&amp;qw=q&amp;tp=txt_p&amp;tr=hb&amp;wget=v&amp;qget=v&amp;nget=vt\" title=\"Show this on SHEBANQ\" sec=\"Genesis\">Genesis</a></span></div><div class=\"rtl children\"><div class=\"contnr c4 trm rtl  \" ><div class=\"lbl c4 trm \" ><span class=\"nd\">book </span> <span class=\"txtu hbo\"><span class=\"tfsechead rtl\"><span class=\"ltr\">Genesis</span></span></span></div><div class=\"features\"><span class=\"book xft\" ><span class=\"f\">book=</span>Genesis</span></div></div></div>"
      ],
      "text/plain": [
       "<IPython.core.display.HTML object>"
      ]
     },
     "metadata": {},
     "output_type": "display_data"
    },
    {
     "data": {
      "text/html": [
       "<div class=\"tfsechead rtl\"><span class=\"ltr\"><a target=\"_blank\" href=\"https://shebanq.ancient-data.org/hebrew/text?book=Genesis&amp;chapter=1&amp;verse=1&amp;version=2021&amp;mr=m&amp;qw=q&amp;tp=txt_p&amp;tr=hb&amp;wget=v&amp;qget=v&amp;nget=vt\" title=\"Show this on SHEBANQ\" sec=\"Genesis 1\">Genesis 1</a></span></div><div class=\"rtl children\"><div class=\"contnr c4 trm rtl  \" ><div class=\"lbl c4 trm \" ><span class=\"nd\">chapter </span> <span class=\"txtu hbo\"><span class=\"tfsechead rtl\"><span class=\"ltr\">Genesis 1</span></span></span></div><div class=\"features\"><span class=\"book xft\" ><span class=\"f\">book=</span>Genesis</span><span class=\"chapter xft\" ><span class=\"f\">chapter=</span>1</span></div></div></div>"
      ],
      "text/plain": [
       "<IPython.core.display.HTML object>"
      ]
     },
     "metadata": {},
     "output_type": "display_data"
    },
    {
     "data": {
      "text/html": [
       "<div class=\"tfsechead rtl\"><span class=\"ltr\"><a target=\"_blank\" href=\"https://shebanq.ancient-data.org/hebrew/text?book=Genesis&amp;chapter=1&amp;verse=1&amp;version=2021&amp;mr=m&amp;qw=q&amp;tp=txt_p&amp;tr=hb&amp;wget=v&amp;qget=v&amp;nget=vt\" title=\"Show this on SHEBANQ\" sec=\"Genesis 1:1\">Genesis 1:1</a></span></div><div class=\"rtl children\"><div class=\"contnr c3  rtl  \" ><div class=\"lbl c3  \" ><span class=\"nd\">verse </span></div><div class=\"features\"><span class=\"book xft\" ><span class=\"f\">book=</span>Genesis</span><span class=\"chapter xft\" ><span class=\"f\">chapter=</span>1</span><span class=\"verse xft\" ><span class=\"f\">verse=</span>1</span></div><div class=\"children hor wrap rtl\"><div class=\"contnr c2  rtl  hl\" ><div class=\"lbl c2  hl\" ><span class=\"nd\">sentence </span> <span class=\"\"><span title=\"number\">1</span></span></div><div class=\"children hor wrap rtl\"><div class=\"contnr c2  rtl  \" ><div class=\"lbl c2  \" ><span class=\"nd\">clause </span> <span class=\"\"><span title=\"typ\">xQtX</span> <span title=\"rela\">NA</span></span></div><div class=\"children hor wrap rtl\"><div class=\"contnr c1  rtl  \" ><div class=\"lbl c1  \" ><span class=\"nd\">phrase </span> <span class=\"\"><span title=\"typ\">PP</span> <span title=\"function\">Time</span></span></div><div class=\"children hor wrap rtl\"><div class=\"contnr c0 trm rtl  \" ><div class=\"lbl c0 trm \" ><a class=\" txtu hbo\" target=\"_blank\" href=\"https://shebanq.ancient-data.org/hebrew/word?version=2021&amp;id=1B\" title=\"Show this on SHEBANQ\"><span class=\"txtu hbo\">בְּ</span></a></div></div><div class=\"contnr c0 trm rtl  \" ><div class=\"lbl c0 trm \" ><a class=\" txtu hbo\" target=\"_blank\" href=\"https://shebanq.ancient-data.org/hebrew/word?version=2021&amp;id=1RACJTn\" title=\"Show this on SHEBANQ\"><span class=\"txtu hbo\">רֵאשִׁ֖ית </span></a></div><div class=\"features\"><span class=\"nu xft\" ><span class=\"f\">nu=</span>sg</span></div></div></div></div><div class=\"contnr c1  rtl  \" ><div class=\"lbl c1  \" ><span class=\"nd\">phrase </span> <span class=\"\"><span title=\"typ\">VP</span> <span title=\"function\">Pred</span></span></div><div class=\"children hor wrap rtl\"><div class=\"contnr c0 trm rtl  hl\"  style=\"background-color: cyan;\" ><div class=\"lbl c0 trm hl\"  style=\"background-color: cyan;\" ><a class=\" txtu hbo\" target=\"_blank\" href=\"https://shebanq.ancient-data.org/hebrew/word?version=2021&amp;id=1BRAv\" title=\"Show this on SHEBANQ\"><span class=\"txtu hbo\">בָּרָ֣א </span></a></div><div class=\"features\"><span class=\"nu xft\" ><span class=\"f\">nu=</span>sg</span></div></div></div></div><div class=\"contnr c1  rtl  \" ><div class=\"lbl c1  \" ><span class=\"nd\">phrase </span> <span class=\"\"><span title=\"typ\">NP</span> <span title=\"function\">Subj</span></span></div><div class=\"children hor wrap rtl\"><div class=\"contnr c0 trm rtl  \" ><div class=\"lbl c0 trm \" ><a class=\" txtu hbo\" target=\"_blank\" href=\"https://shebanq.ancient-data.org/hebrew/word?version=2021&amp;id=1ALHJMn\" title=\"Show this on SHEBANQ\"><span class=\"txtu hbo\">אֱלֹהִ֑ים </span></a></div><div class=\"features\"><span class=\"nu xft\" ><span class=\"f\">nu=</span>pl</span></div></div></div></div><div class=\"contnr c1  rtl  \" ><div class=\"lbl c1  \" ><span class=\"nd\">phrase </span> <span class=\"\"><span title=\"typ\">PP</span> <span title=\"function\">Objc</span></span></div><div class=\"children hor wrap rtl\"><div class=\"contnr c0 trm rtl  \" ><div class=\"lbl c0 trm \" ><a class=\" txtu hbo\" target=\"_blank\" href=\"https://shebanq.ancient-data.org/hebrew/word?version=2021&amp;id=1AT\" title=\"Show this on SHEBANQ\"><span class=\"txtu hbo\">אֵ֥ת </span></a></div></div><div class=\"contnr c0 trm rtl  \" ><div class=\"lbl c0 trm \" ><a class=\" txtu hbo\" target=\"_blank\" href=\"https://shebanq.ancient-data.org/hebrew/word?version=2021&amp;id=1H\" title=\"Show this on SHEBANQ\"><span class=\"txtu hbo\">הַ</span></a></div></div><div class=\"contnr c0 trm rtl  hl\"  style=\"background-color: magenta;\" ><div class=\"lbl c0 trm hl\"  style=\"background-color: magenta;\" ><a class=\" txtu hbo\" target=\"_blank\" href=\"https://shebanq.ancient-data.org/hebrew/word?version=2021&amp;id=1CMJMn\" title=\"Show this on SHEBANQ\"><span class=\"txtu hbo\">שָּׁמַ֖יִם </span></a></div><div class=\"features\"><span class=\"nu xft\" ><span class=\"f\">nu=</span>pl</span></div></div><div class=\"contnr c0 trm rtl  \" ><div class=\"lbl c0 trm \" ><a class=\" txtu hbo\" target=\"_blank\" href=\"https://shebanq.ancient-data.org/hebrew/word?version=2021&amp;id=1W\" title=\"Show this on SHEBANQ\"><span class=\"txtu hbo\">וְ</span></a></div></div><div class=\"contnr c0 trm rtl  \" ><div class=\"lbl c0 trm \" ><a class=\" txtu hbo\" target=\"_blank\" href=\"https://shebanq.ancient-data.org/hebrew/word?version=2021&amp;id=1AT\" title=\"Show this on SHEBANQ\"><span class=\"txtu hbo\">אֵ֥ת </span></a></div></div><div class=\"contnr c0 trm rtl  \" ><div class=\"lbl c0 trm \" ><a class=\" txtu hbo\" target=\"_blank\" href=\"https://shebanq.ancient-data.org/hebrew/word?version=2021&amp;id=1H\" title=\"Show this on SHEBANQ\"><span class=\"txtu hbo\">הָ</span></a></div></div><div class=\"contnr c0 trm rtl  \" ><div class=\"lbl c0 trm \" ><a class=\" txtu hbo\" target=\"_blank\" href=\"https://shebanq.ancient-data.org/hebrew/word?version=2021&amp;id=1ARYn\" title=\"Show this on SHEBANQ\"><span class=\"txtu hbo\">אָֽרֶץ׃ </span></a></div><div class=\"features\"><span class=\"nu xft\" ><span class=\"f\">nu=</span>sg</span></div></div></div></div></div></div></div></div></div></div></div>"
      ],
      "text/plain": [
       "<IPython.core.display.HTML object>"
      ]
     },
     "metadata": {},
     "output_type": "display_data"
    },
    {
     "data": {
      "text/html": [
       "<p><b>result</b> <i>5</i>"
      ],
      "text/plain": [
       "<IPython.core.display.HTML object>"
      ]
     },
     "metadata": {},
     "output_type": "display_data"
    },
    {
     "data": {
      "text/html": [
       "<div class=\"tfsechead rtl\"><span class=\"ltr\"><a target=\"_blank\" href=\"https://shebanq.ancient-data.org/hebrew/text?book=Genesis&amp;chapter=1&amp;verse=1&amp;version=2021&amp;mr=m&amp;qw=q&amp;tp=txt_p&amp;tr=hb&amp;wget=v&amp;qget=v&amp;nget=vt\" title=\"Show this on SHEBANQ\" sec=\"Genesis\">Genesis</a></span></div><div class=\"rtl children\"><div class=\"contnr c4 trm rtl  \" ><div class=\"lbl c4 trm \" ><span class=\"nd\">book </span> <span class=\"txtu hbo\"><span class=\"tfsechead rtl\"><span class=\"ltr\">Genesis</span></span></span></div><div class=\"features\"><span class=\"book xft\" ><span class=\"f\">book=</span>Genesis</span></div></div></div>"
      ],
      "text/plain": [
       "<IPython.core.display.HTML object>"
      ]
     },
     "metadata": {},
     "output_type": "display_data"
    },
    {
     "data": {
      "text/html": [
       "<div class=\"tfsechead rtl\"><span class=\"ltr\"><a target=\"_blank\" href=\"https://shebanq.ancient-data.org/hebrew/text?book=Genesis&amp;chapter=1&amp;verse=1&amp;version=2021&amp;mr=m&amp;qw=q&amp;tp=txt_p&amp;tr=hb&amp;wget=v&amp;qget=v&amp;nget=vt\" title=\"Show this on SHEBANQ\" sec=\"Genesis 1\">Genesis 1</a></span></div><div class=\"rtl children\"><div class=\"contnr c4 trm rtl  \" ><div class=\"lbl c4 trm \" ><span class=\"nd\">chapter </span> <span class=\"txtu hbo\"><span class=\"tfsechead rtl\"><span class=\"ltr\">Genesis 1</span></span></span></div><div class=\"features\"><span class=\"book xft\" ><span class=\"f\">book=</span>Genesis</span><span class=\"chapter xft\" ><span class=\"f\">chapter=</span>1</span></div></div></div>"
      ],
      "text/plain": [
       "<IPython.core.display.HTML object>"
      ]
     },
     "metadata": {},
     "output_type": "display_data"
    },
    {
     "data": {
      "text/html": [
       "<div class=\"tfsechead rtl\"><span class=\"ltr\"><a target=\"_blank\" href=\"https://shebanq.ancient-data.org/hebrew/text?book=Genesis&amp;chapter=1&amp;verse=1&amp;version=2021&amp;mr=m&amp;qw=q&amp;tp=txt_p&amp;tr=hb&amp;wget=v&amp;qget=v&amp;nget=vt\" title=\"Show this on SHEBANQ\" sec=\"Genesis 1:1\">Genesis 1:1</a></span></div><div class=\"rtl children\"><div class=\"contnr c3  rtl  \" ><div class=\"lbl c3  \" ><span class=\"nd\">verse </span></div><div class=\"features\"><span class=\"book xft\" ><span class=\"f\">book=</span>Genesis</span><span class=\"chapter xft\" ><span class=\"f\">chapter=</span>1</span><span class=\"verse xft\" ><span class=\"f\">verse=</span>1</span></div><div class=\"children hor wrap rtl\"><div class=\"contnr c2  rtl  hl\" ><div class=\"lbl c2  hl\" ><span class=\"nd\">sentence </span> <span class=\"\"><span title=\"number\">1</span></span></div><div class=\"children hor wrap rtl\"><div class=\"contnr c2  rtl  \" ><div class=\"lbl c2  \" ><span class=\"nd\">clause </span> <span class=\"\"><span title=\"typ\">xQtX</span> <span title=\"rela\">NA</span></span></div><div class=\"children hor wrap rtl\"><div class=\"contnr c1  rtl  \" ><div class=\"lbl c1  \" ><span class=\"nd\">phrase </span> <span class=\"\"><span title=\"typ\">PP</span> <span title=\"function\">Time</span></span></div><div class=\"children hor wrap rtl\"><div class=\"contnr c0 trm rtl  \" ><div class=\"lbl c0 trm \" ><a class=\" txtu hbo\" target=\"_blank\" href=\"https://shebanq.ancient-data.org/hebrew/word?version=2021&amp;id=1B\" title=\"Show this on SHEBANQ\"><span class=\"txtu hbo\">בְּ</span></a></div></div><div class=\"contnr c0 trm rtl  \" ><div class=\"lbl c0 trm \" ><a class=\" txtu hbo\" target=\"_blank\" href=\"https://shebanq.ancient-data.org/hebrew/word?version=2021&amp;id=1RACJTn\" title=\"Show this on SHEBANQ\"><span class=\"txtu hbo\">רֵאשִׁ֖ית </span></a></div><div class=\"features\"><span class=\"nu xft\" ><span class=\"f\">nu=</span>sg</span></div></div></div></div><div class=\"contnr c1  rtl  \" ><div class=\"lbl c1  \" ><span class=\"nd\">phrase </span> <span class=\"\"><span title=\"typ\">VP</span> <span title=\"function\">Pred</span></span></div><div class=\"children hor wrap rtl\"><div class=\"contnr c0 trm rtl  \" ><div class=\"lbl c0 trm \" ><a class=\" txtu hbo\" target=\"_blank\" href=\"https://shebanq.ancient-data.org/hebrew/word?version=2021&amp;id=1BRAv\" title=\"Show this on SHEBANQ\"><span class=\"txtu hbo\">בָּרָ֣א </span></a></div><div class=\"features\"><span class=\"nu xft\" ><span class=\"f\">nu=</span>sg</span></div></div></div></div><div class=\"contnr c1  rtl  \" ><div class=\"lbl c1  \" ><span class=\"nd\">phrase </span> <span class=\"\"><span title=\"typ\">NP</span> <span title=\"function\">Subj</span></span></div><div class=\"children hor wrap rtl\"><div class=\"contnr c0 trm rtl  hl\"  style=\"background-color: magenta;\" ><div class=\"lbl c0 trm hl\"  style=\"background-color: magenta;\" ><a class=\" txtu hbo\" target=\"_blank\" href=\"https://shebanq.ancient-data.org/hebrew/word?version=2021&amp;id=1ALHJMn\" title=\"Show this on SHEBANQ\"><span class=\"txtu hbo\">אֱלֹהִ֑ים </span></a></div><div class=\"features\"><span class=\"nu xft\" ><span class=\"f\">nu=</span>pl</span></div></div></div></div><div class=\"contnr c1  rtl  \" ><div class=\"lbl c1  \" ><span class=\"nd\">phrase </span> <span class=\"\"><span title=\"typ\">PP</span> <span title=\"function\">Objc</span></span></div><div class=\"children hor wrap rtl\"><div class=\"contnr c0 trm rtl  \" ><div class=\"lbl c0 trm \" ><a class=\" txtu hbo\" target=\"_blank\" href=\"https://shebanq.ancient-data.org/hebrew/word?version=2021&amp;id=1AT\" title=\"Show this on SHEBANQ\"><span class=\"txtu hbo\">אֵ֥ת </span></a></div></div><div class=\"contnr c0 trm rtl  \" ><div class=\"lbl c0 trm \" ><a class=\" txtu hbo\" target=\"_blank\" href=\"https://shebanq.ancient-data.org/hebrew/word?version=2021&amp;id=1H\" title=\"Show this on SHEBANQ\"><span class=\"txtu hbo\">הַ</span></a></div></div><div class=\"contnr c0 trm rtl  \" ><div class=\"lbl c0 trm \" ><a class=\" txtu hbo\" target=\"_blank\" href=\"https://shebanq.ancient-data.org/hebrew/word?version=2021&amp;id=1CMJMn\" title=\"Show this on SHEBANQ\"><span class=\"txtu hbo\">שָּׁמַ֖יִם </span></a></div><div class=\"features\"><span class=\"nu xft\" ><span class=\"f\">nu=</span>pl</span></div></div><div class=\"contnr c0 trm rtl  \" ><div class=\"lbl c0 trm \" ><a class=\" txtu hbo\" target=\"_blank\" href=\"https://shebanq.ancient-data.org/hebrew/word?version=2021&amp;id=1W\" title=\"Show this on SHEBANQ\"><span class=\"txtu hbo\">וְ</span></a></div></div><div class=\"contnr c0 trm rtl  \" ><div class=\"lbl c0 trm \" ><a class=\" txtu hbo\" target=\"_blank\" href=\"https://shebanq.ancient-data.org/hebrew/word?version=2021&amp;id=1AT\" title=\"Show this on SHEBANQ\"><span class=\"txtu hbo\">אֵ֥ת </span></a></div></div><div class=\"contnr c0 trm rtl  \" ><div class=\"lbl c0 trm \" ><a class=\" txtu hbo\" target=\"_blank\" href=\"https://shebanq.ancient-data.org/hebrew/word?version=2021&amp;id=1H\" title=\"Show this on SHEBANQ\"><span class=\"txtu hbo\">הָ</span></a></div></div><div class=\"contnr c0 trm rtl  hl\"  style=\"background-color: cyan;\" ><div class=\"lbl c0 trm hl\"  style=\"background-color: cyan;\" ><a class=\" txtu hbo\" target=\"_blank\" href=\"https://shebanq.ancient-data.org/hebrew/word?version=2021&amp;id=1ARYn\" title=\"Show this on SHEBANQ\"><span class=\"txtu hbo\">אָֽרֶץ׃ </span></a></div><div class=\"features\"><span class=\"nu xft\" ><span class=\"f\">nu=</span>sg</span></div></div></div></div></div></div></div></div></div></div></div>"
      ],
      "text/plain": [
       "<IPython.core.display.HTML object>"
      ]
     },
     "metadata": {},
     "output_type": "display_data"
    },
    {
     "data": {
      "text/html": [
       "<p><b>result</b> <i>6</i>"
      ],
      "text/plain": [
       "<IPython.core.display.HTML object>"
      ]
     },
     "metadata": {},
     "output_type": "display_data"
    },
    {
     "data": {
      "text/html": [
       "<div class=\"tfsechead rtl\"><span class=\"ltr\"><a target=\"_blank\" href=\"https://shebanq.ancient-data.org/hebrew/text?book=Genesis&amp;chapter=1&amp;verse=1&amp;version=2021&amp;mr=m&amp;qw=q&amp;tp=txt_p&amp;tr=hb&amp;wget=v&amp;qget=v&amp;nget=vt\" title=\"Show this on SHEBANQ\" sec=\"Genesis\">Genesis</a></span></div><div class=\"rtl children\"><div class=\"contnr c4 trm rtl  \" ><div class=\"lbl c4 trm \" ><span class=\"nd\">book </span> <span class=\"txtu hbo\"><span class=\"tfsechead rtl\"><span class=\"ltr\">Genesis</span></span></span></div><div class=\"features\"><span class=\"book xft\" ><span class=\"f\">book=</span>Genesis</span></div></div></div>"
      ],
      "text/plain": [
       "<IPython.core.display.HTML object>"
      ]
     },
     "metadata": {},
     "output_type": "display_data"
    },
    {
     "data": {
      "text/html": [
       "<div class=\"tfsechead rtl\"><span class=\"ltr\"><a target=\"_blank\" href=\"https://shebanq.ancient-data.org/hebrew/text?book=Genesis&amp;chapter=1&amp;verse=1&amp;version=2021&amp;mr=m&amp;qw=q&amp;tp=txt_p&amp;tr=hb&amp;wget=v&amp;qget=v&amp;nget=vt\" title=\"Show this on SHEBANQ\" sec=\"Genesis 1\">Genesis 1</a></span></div><div class=\"rtl children\"><div class=\"contnr c4 trm rtl  \" ><div class=\"lbl c4 trm \" ><span class=\"nd\">chapter </span> <span class=\"txtu hbo\"><span class=\"tfsechead rtl\"><span class=\"ltr\">Genesis 1</span></span></span></div><div class=\"features\"><span class=\"book xft\" ><span class=\"f\">book=</span>Genesis</span><span class=\"chapter xft\" ><span class=\"f\">chapter=</span>1</span></div></div></div>"
      ],
      "text/plain": [
       "<IPython.core.display.HTML object>"
      ]
     },
     "metadata": {},
     "output_type": "display_data"
    },
    {
     "data": {
      "text/html": [
       "<div class=\"tfsechead rtl\"><span class=\"ltr\"><a target=\"_blank\" href=\"https://shebanq.ancient-data.org/hebrew/text?book=Genesis&amp;chapter=1&amp;verse=1&amp;version=2021&amp;mr=m&amp;qw=q&amp;tp=txt_p&amp;tr=hb&amp;wget=v&amp;qget=v&amp;nget=vt\" title=\"Show this on SHEBANQ\" sec=\"Genesis 1:1\">Genesis 1:1</a></span></div><div class=\"rtl children\"><div class=\"contnr c3  rtl  \" ><div class=\"lbl c3  \" ><span class=\"nd\">verse </span></div><div class=\"features\"><span class=\"book xft\" ><span class=\"f\">book=</span>Genesis</span><span class=\"chapter xft\" ><span class=\"f\">chapter=</span>1</span><span class=\"verse xft\" ><span class=\"f\">verse=</span>1</span></div><div class=\"children hor wrap rtl\"><div class=\"contnr c2  rtl  hl\" ><div class=\"lbl c2  hl\" ><span class=\"nd\">sentence </span> <span class=\"\"><span title=\"number\">1</span></span></div><div class=\"children hor wrap rtl\"><div class=\"contnr c2  rtl  \" ><div class=\"lbl c2  \" ><span class=\"nd\">clause </span> <span class=\"\"><span title=\"typ\">xQtX</span> <span title=\"rela\">NA</span></span></div><div class=\"children hor wrap rtl\"><div class=\"contnr c1  rtl  \" ><div class=\"lbl c1  \" ><span class=\"nd\">phrase </span> <span class=\"\"><span title=\"typ\">PP</span> <span title=\"function\">Time</span></span></div><div class=\"children hor wrap rtl\"><div class=\"contnr c0 trm rtl  \" ><div class=\"lbl c0 trm \" ><a class=\" txtu hbo\" target=\"_blank\" href=\"https://shebanq.ancient-data.org/hebrew/word?version=2021&amp;id=1B\" title=\"Show this on SHEBANQ\"><span class=\"txtu hbo\">בְּ</span></a></div></div><div class=\"contnr c0 trm rtl  \" ><div class=\"lbl c0 trm \" ><a class=\" txtu hbo\" target=\"_blank\" href=\"https://shebanq.ancient-data.org/hebrew/word?version=2021&amp;id=1RACJTn\" title=\"Show this on SHEBANQ\"><span class=\"txtu hbo\">רֵאשִׁ֖ית </span></a></div><div class=\"features\"><span class=\"nu xft\" ><span class=\"f\">nu=</span>sg</span></div></div></div></div><div class=\"contnr c1  rtl  \" ><div class=\"lbl c1  \" ><span class=\"nd\">phrase </span> <span class=\"\"><span title=\"typ\">VP</span> <span title=\"function\">Pred</span></span></div><div class=\"children hor wrap rtl\"><div class=\"contnr c0 trm rtl  \" ><div class=\"lbl c0 trm \" ><a class=\" txtu hbo\" target=\"_blank\" href=\"https://shebanq.ancient-data.org/hebrew/word?version=2021&amp;id=1BRAv\" title=\"Show this on SHEBANQ\"><span class=\"txtu hbo\">בָּרָ֣א </span></a></div><div class=\"features\"><span class=\"nu xft\" ><span class=\"f\">nu=</span>sg</span></div></div></div></div><div class=\"contnr c1  rtl  \" ><div class=\"lbl c1  \" ><span class=\"nd\">phrase </span> <span class=\"\"><span title=\"typ\">NP</span> <span title=\"function\">Subj</span></span></div><div class=\"children hor wrap rtl\"><div class=\"contnr c0 trm rtl  \" ><div class=\"lbl c0 trm \" ><a class=\" txtu hbo\" target=\"_blank\" href=\"https://shebanq.ancient-data.org/hebrew/word?version=2021&amp;id=1ALHJMn\" title=\"Show this on SHEBANQ\"><span class=\"txtu hbo\">אֱלֹהִ֑ים </span></a></div><div class=\"features\"><span class=\"nu xft\" ><span class=\"f\">nu=</span>pl</span></div></div></div></div><div class=\"contnr c1  rtl  \" ><div class=\"lbl c1  \" ><span class=\"nd\">phrase </span> <span class=\"\"><span title=\"typ\">PP</span> <span title=\"function\">Objc</span></span></div><div class=\"children hor wrap rtl\"><div class=\"contnr c0 trm rtl  \" ><div class=\"lbl c0 trm \" ><a class=\" txtu hbo\" target=\"_blank\" href=\"https://shebanq.ancient-data.org/hebrew/word?version=2021&amp;id=1AT\" title=\"Show this on SHEBANQ\"><span class=\"txtu hbo\">אֵ֥ת </span></a></div></div><div class=\"contnr c0 trm rtl  \" ><div class=\"lbl c0 trm \" ><a class=\" txtu hbo\" target=\"_blank\" href=\"https://shebanq.ancient-data.org/hebrew/word?version=2021&amp;id=1H\" title=\"Show this on SHEBANQ\"><span class=\"txtu hbo\">הַ</span></a></div></div><div class=\"contnr c0 trm rtl  hl\"  style=\"background-color: magenta;\" ><div class=\"lbl c0 trm hl\"  style=\"background-color: magenta;\" ><a class=\" txtu hbo\" target=\"_blank\" href=\"https://shebanq.ancient-data.org/hebrew/word?version=2021&amp;id=1CMJMn\" title=\"Show this on SHEBANQ\"><span class=\"txtu hbo\">שָּׁמַ֖יִם </span></a></div><div class=\"features\"><span class=\"nu xft\" ><span class=\"f\">nu=</span>pl</span></div></div><div class=\"contnr c0 trm rtl  \" ><div class=\"lbl c0 trm \" ><a class=\" txtu hbo\" target=\"_blank\" href=\"https://shebanq.ancient-data.org/hebrew/word?version=2021&amp;id=1W\" title=\"Show this on SHEBANQ\"><span class=\"txtu hbo\">וְ</span></a></div></div><div class=\"contnr c0 trm rtl  \" ><div class=\"lbl c0 trm \" ><a class=\" txtu hbo\" target=\"_blank\" href=\"https://shebanq.ancient-data.org/hebrew/word?version=2021&amp;id=1AT\" title=\"Show this on SHEBANQ\"><span class=\"txtu hbo\">אֵ֥ת </span></a></div></div><div class=\"contnr c0 trm rtl  \" ><div class=\"lbl c0 trm \" ><a class=\" txtu hbo\" target=\"_blank\" href=\"https://shebanq.ancient-data.org/hebrew/word?version=2021&amp;id=1H\" title=\"Show this on SHEBANQ\"><span class=\"txtu hbo\">הָ</span></a></div></div><div class=\"contnr c0 trm rtl  hl\"  style=\"background-color: cyan;\" ><div class=\"lbl c0 trm hl\"  style=\"background-color: cyan;\" ><a class=\" txtu hbo\" target=\"_blank\" href=\"https://shebanq.ancient-data.org/hebrew/word?version=2021&amp;id=1ARYn\" title=\"Show this on SHEBANQ\"><span class=\"txtu hbo\">אָֽרֶץ׃ </span></a></div><div class=\"features\"><span class=\"nu xft\" ><span class=\"f\">nu=</span>sg</span></div></div></div></div></div></div></div></div></div></div></div>"
      ],
      "text/plain": [
       "<IPython.core.display.HTML object>"
      ]
     },
     "metadata": {},
     "output_type": "display_data"
    }
   ],
   "source": [
    "A.show(results, condensed=False, colorMap={4: \"\", 5: \"cyan\", 6: \"magenta\"})"
   ]
  },
  {
   "cell_type": "markdown",
   "metadata": {},
   "source": [
    "Color mapping works best for uncondensed results. If you condense results, some nodes may occupy\n",
    "different positions in different results. It is unpredictable which color will be used\n",
    "for such nodes:"
   ]
  },
  {
   "cell_type": "code",
   "execution_count": 21,
   "metadata": {
    "ExecuteTime": {
     "end_time": "2018-05-24T07:47:35.832254Z",
     "start_time": "2018-05-24T07:47:35.821001Z"
    }
   },
   "outputs": [
    {
     "data": {
      "text/html": [
       "<p><b>verse</b> <i>1</i>"
      ],
      "text/plain": [
       "<IPython.core.display.HTML object>"
      ]
     },
     "metadata": {},
     "output_type": "display_data"
    },
    {
     "data": {
      "text/html": [
       "<div class=\"tfsechead rtl\"><span class=\"ltr\"><a target=\"_blank\" href=\"https://shebanq.ancient-data.org/hebrew/text?book=Genesis&amp;chapter=1&amp;verse=1&amp;version=2021&amp;mr=m&amp;qw=q&amp;tp=txt_p&amp;tr=hb&amp;wget=v&amp;qget=v&amp;nget=vt\" title=\"Show this on SHEBANQ\" sec=\"Genesis 1:1\">Genesis 1:1</a></span></div><div class=\"rtl children\"><div class=\"contnr c3  rtl  \" ><div class=\"lbl c3  \" ><span class=\"nd\">verse </span></div><div class=\"features\"><span class=\"book xft\" ><span class=\"f\">book=</span>Genesis</span><span class=\"chapter xft\" ><span class=\"f\">chapter=</span>1</span><span class=\"verse xft\" ><span class=\"f\">verse=</span>1</span></div><div class=\"children hor wrap rtl\"><div class=\"contnr c2  rtl  hl\" ><div class=\"lbl c2  hl\" ><span class=\"nd\">sentence </span> <span class=\"\"><span title=\"number\">1</span></span></div><div class=\"children hor wrap rtl\"><div class=\"contnr c2  rtl  \" ><div class=\"lbl c2  \" ><span class=\"nd\">clause </span> <span class=\"\"><span title=\"typ\">xQtX</span> <span title=\"rela\">NA</span></span></div><div class=\"children hor wrap rtl\"><div class=\"contnr c1  rtl  \" ><div class=\"lbl c1  \" ><span class=\"nd\">phrase </span> <span class=\"\"><span title=\"typ\">PP</span> <span title=\"function\">Time</span></span></div><div class=\"children hor wrap rtl\"><div class=\"contnr c0 trm rtl  \" ><div class=\"lbl c0 trm \" ><a class=\" txtu hbo\" target=\"_blank\" href=\"https://shebanq.ancient-data.org/hebrew/word?version=2021&amp;id=1B\" title=\"Show this on SHEBANQ\"><span class=\"txtu hbo\">בְּ</span></a></div></div><div class=\"contnr c0 trm rtl  hl\" ><div class=\"lbl c0 trm hl\" ><a class=\" txtu hbo\" target=\"_blank\" href=\"https://shebanq.ancient-data.org/hebrew/word?version=2021&amp;id=1RACJTn\" title=\"Show this on SHEBANQ\"><span class=\"txtu hbo\">רֵאשִׁ֖ית </span></a></div><div class=\"features\"><span class=\"nu xft\" ><span class=\"f\">nu=</span>sg</span></div></div></div></div><div class=\"contnr c1  rtl  \" ><div class=\"lbl c1  \" ><span class=\"nd\">phrase </span> <span class=\"\"><span title=\"typ\">VP</span> <span title=\"function\">Pred</span></span></div><div class=\"children hor wrap rtl\"><div class=\"contnr c0 trm rtl  hl\" ><div class=\"lbl c0 trm hl\" ><a class=\" txtu hbo\" target=\"_blank\" href=\"https://shebanq.ancient-data.org/hebrew/word?version=2021&amp;id=1BRAv\" title=\"Show this on SHEBANQ\"><span class=\"txtu hbo\">בָּרָ֣א </span></a></div><div class=\"features\"><span class=\"nu xft\" ><span class=\"f\">nu=</span>sg</span></div></div></div></div><div class=\"contnr c1  rtl  \" ><div class=\"lbl c1  \" ><span class=\"nd\">phrase </span> <span class=\"\"><span title=\"typ\">NP</span> <span title=\"function\">Subj</span></span></div><div class=\"children hor wrap rtl\"><div class=\"contnr c0 trm rtl  hl\" ><div class=\"lbl c0 trm hl\" ><a class=\" txtu hbo\" target=\"_blank\" href=\"https://shebanq.ancient-data.org/hebrew/word?version=2021&amp;id=1ALHJMn\" title=\"Show this on SHEBANQ\"><span class=\"txtu hbo\">אֱלֹהִ֑ים </span></a></div><div class=\"features\"><span class=\"nu xft\" ><span class=\"f\">nu=</span>pl</span></div></div></div></div><div class=\"contnr c1  rtl  \" ><div class=\"lbl c1  \" ><span class=\"nd\">phrase </span> <span class=\"\"><span title=\"typ\">PP</span> <span title=\"function\">Objc</span></span></div><div class=\"children hor wrap rtl\"><div class=\"contnr c0 trm rtl  \" ><div class=\"lbl c0 trm \" ><a class=\" txtu hbo\" target=\"_blank\" href=\"https://shebanq.ancient-data.org/hebrew/word?version=2021&amp;id=1AT\" title=\"Show this on SHEBANQ\"><span class=\"txtu hbo\">אֵ֥ת </span></a></div></div><div class=\"contnr c0 trm rtl  \" ><div class=\"lbl c0 trm \" ><a class=\" txtu hbo\" target=\"_blank\" href=\"https://shebanq.ancient-data.org/hebrew/word?version=2021&amp;id=1H\" title=\"Show this on SHEBANQ\"><span class=\"txtu hbo\">הַ</span></a></div></div><div class=\"contnr c0 trm rtl  hl\"  style=\"background-color: cyan;\" ><div class=\"lbl c0 trm hl\"  style=\"background-color: cyan;\" ><a class=\" txtu hbo\" target=\"_blank\" href=\"https://shebanq.ancient-data.org/hebrew/word?version=2021&amp;id=1CMJMn\" title=\"Show this on SHEBANQ\"><span class=\"txtu hbo\">שָּׁמַ֖יִם </span></a></div><div class=\"features\"><span class=\"nu xft\" ><span class=\"f\">nu=</span>pl</span></div></div><div class=\"contnr c0 trm rtl  \" ><div class=\"lbl c0 trm \" ><a class=\" txtu hbo\" target=\"_blank\" href=\"https://shebanq.ancient-data.org/hebrew/word?version=2021&amp;id=1W\" title=\"Show this on SHEBANQ\"><span class=\"txtu hbo\">וְ</span></a></div></div><div class=\"contnr c0 trm rtl  \" ><div class=\"lbl c0 trm \" ><a class=\" txtu hbo\" target=\"_blank\" href=\"https://shebanq.ancient-data.org/hebrew/word?version=2021&amp;id=1AT\" title=\"Show this on SHEBANQ\"><span class=\"txtu hbo\">אֵ֥ת </span></a></div></div><div class=\"contnr c0 trm rtl  \" ><div class=\"lbl c0 trm \" ><a class=\" txtu hbo\" target=\"_blank\" href=\"https://shebanq.ancient-data.org/hebrew/word?version=2021&amp;id=1H\" title=\"Show this on SHEBANQ\"><span class=\"txtu hbo\">הָ</span></a></div></div><div class=\"contnr c0 trm rtl  hl\"  style=\"background-color: magenta;\" ><div class=\"lbl c0 trm hl\"  style=\"background-color: magenta;\" ><a class=\" txtu hbo\" target=\"_blank\" href=\"https://shebanq.ancient-data.org/hebrew/word?version=2021&amp;id=1ARYn\" title=\"Show this on SHEBANQ\"><span class=\"txtu hbo\">אָֽרֶץ׃ </span></a></div><div class=\"features\"><span class=\"nu xft\" ><span class=\"f\">nu=</span>sg</span></div></div></div></div></div></div></div></div></div></div></div>"
      ],
      "text/plain": [
       "<IPython.core.display.HTML object>"
      ]
     },
     "metadata": {},
     "output_type": "display_data"
    }
   ],
   "source": [
    "A.show(results, condensed=True, colorMap={4: \"\", 5: \"cyan\", 6: \"magenta\"})"
   ]
  },
  {
   "cell_type": "markdown",
   "metadata": {},
   "source": [
    "You can specify to what container you want to condense. By default, everything is condensed to verses.\n",
    "\n",
    "Let's change that to phrases:"
   ]
  },
  {
   "cell_type": "code",
   "execution_count": 22,
   "metadata": {},
   "outputs": [
    {
     "data": {
      "text/html": [
       "<p><b>result</b> <i>1</i>"
      ],
      "text/plain": [
       "<IPython.core.display.HTML object>"
      ]
     },
     "metadata": {},
     "output_type": "display_data"
    },
    {
     "data": {
      "text/html": [
       "<div class=\"tfsechead rtl\"><span class=\"ltr\"><a target=\"_blank\" href=\"https://shebanq.ancient-data.org/hebrew/text?book=Genesis&amp;chapter=1&amp;verse=1&amp;version=2021&amp;mr=m&amp;qw=q&amp;tp=txt_p&amp;tr=hb&amp;wget=v&amp;qget=v&amp;nget=vt\" title=\"Show this on SHEBANQ\" sec=\"Genesis\">Genesis</a></span></div><div class=\"rtl children\"><div class=\"contnr c4 trm rtl  \" ><div class=\"lbl c4 trm \" ><span class=\"nd\">book </span> <span class=\"txtu hbo\"><span class=\"tfsechead rtl\"><span class=\"ltr\">Genesis</span></span></span></div><div class=\"features\"><span class=\"book xft\" ><span class=\"f\">book=</span>Genesis</span></div></div></div>"
      ],
      "text/plain": [
       "<IPython.core.display.HTML object>"
      ]
     },
     "metadata": {},
     "output_type": "display_data"
    },
    {
     "data": {
      "text/html": [
       "<div class=\"tfsechead rtl\"><span class=\"ltr\"><a target=\"_blank\" href=\"https://shebanq.ancient-data.org/hebrew/text?book=Genesis&amp;chapter=1&amp;verse=1&amp;version=2021&amp;mr=m&amp;qw=q&amp;tp=txt_p&amp;tr=hb&amp;wget=v&amp;qget=v&amp;nget=vt\" title=\"Show this on SHEBANQ\" sec=\"Genesis 1\">Genesis 1</a></span></div><div class=\"rtl children\"><div class=\"contnr c4 trm rtl  \" ><div class=\"lbl c4 trm \" ><span class=\"nd\">chapter </span> <span class=\"txtu hbo\"><span class=\"tfsechead rtl\"><span class=\"ltr\">Genesis 1</span></span></span></div><div class=\"features\"><span class=\"book xft\" ><span class=\"f\">book=</span>Genesis</span><span class=\"chapter xft\" ><span class=\"f\">chapter=</span>1</span></div></div></div>"
      ],
      "text/plain": [
       "<IPython.core.display.HTML object>"
      ]
     },
     "metadata": {},
     "output_type": "display_data"
    },
    {
     "data": {
      "text/html": [
       "<div class=\"tfsechead rtl\"><span class=\"ltr\"><a target=\"_blank\" href=\"https://shebanq.ancient-data.org/hebrew/text?book=Genesis&amp;chapter=1&amp;verse=1&amp;version=2021&amp;mr=m&amp;qw=q&amp;tp=txt_p&amp;tr=hb&amp;wget=v&amp;qget=v&amp;nget=vt\" title=\"Show this on SHEBANQ\" sec=\"Genesis 1:1\">Genesis 1:1</a></span></div><div class=\"rtl children\"><div class=\"contnr c3 trm rtl  \" ><div class=\"lbl c3 trm \" ><span class=\"nd\">verse </span></div><div class=\"features\"><span class=\"book xft\" ><span class=\"f\">book=</span>Genesis</span><span class=\"chapter xft\" ><span class=\"f\">chapter=</span>1</span><span class=\"verse xft\" ><span class=\"f\">verse=</span>1</span></div></div></div>"
      ],
      "text/plain": [
       "<IPython.core.display.HTML object>"
      ]
     },
     "metadata": {},
     "output_type": "display_data"
    },
    {
     "data": {
      "text/html": [
       "<div class=\"tfsechead rtl\"><span class=\"ltr\"><a target=\"_blank\" href=\"https://shebanq.ancient-data.org/hebrew/text?book=Genesis&amp;chapter=1&amp;verse=1&amp;version=2021&amp;mr=m&amp;qw=q&amp;tp=txt_p&amp;tr=hb&amp;wget=v&amp;qget=v&amp;nget=vt\" title=\"Show this on SHEBANQ\" sec=\"Genesis 1:1\">Genesis 1:1</a></span></div><div class=\"rtl children\"><div class=\"contnr c2 trm rtl  \" ><div class=\"lbl c2 trm \" ><span class=\"nd\">sentence </span> <span class=\"\"><span title=\"number\">1</span></span></div></div></div>"
      ],
      "text/plain": [
       "<IPython.core.display.HTML object>"
      ]
     },
     "metadata": {},
     "output_type": "display_data"
    },
    {
     "data": {
      "text/html": [
       "<div class=\"tfsechead rtl\"><span class=\"ltr\"><a target=\"_blank\" href=\"https://shebanq.ancient-data.org/hebrew/text?book=Genesis&amp;chapter=1&amp;verse=1&amp;version=2021&amp;mr=m&amp;qw=q&amp;tp=txt_p&amp;tr=hb&amp;wget=v&amp;qget=v&amp;nget=vt\" title=\"Show this on SHEBANQ\" sec=\"Genesis 1:1\">Genesis 1:1</a></span></div><div class=\"rtl children\"><div class=\"contnr c1  rtl  \" ><div class=\"lbl c1  \" ><span class=\"nd\">phrase </span> <span class=\"\"><span title=\"typ\">PP</span> <span title=\"function\">Time</span></span></div><div class=\"children hor wrap rtl\"><div class=\"contnr c0 trm rtl  \" ><div class=\"lbl c0 trm \" ><a class=\" txtu hbo\" target=\"_blank\" href=\"https://shebanq.ancient-data.org/hebrew/word?version=2021&amp;id=1B\" title=\"Show this on SHEBANQ\"><span class=\"txtu hbo\">בְּ</span></a></div></div><div class=\"contnr c0 trm rtl  hl\"  style=\"background-color: cyan;\" ><div class=\"lbl c0 trm hl\"  style=\"background-color: cyan;\" ><a class=\" txtu hbo\" target=\"_blank\" href=\"https://shebanq.ancient-data.org/hebrew/word?version=2021&amp;id=1RACJTn\" title=\"Show this on SHEBANQ\"><span class=\"txtu hbo\">רֵאשִׁ֖ית </span></a></div><div class=\"features\"><span class=\"nu xft\" ><span class=\"f\">nu=</span>sg</span></div></div></div></div></div>"
      ],
      "text/plain": [
       "<IPython.core.display.HTML object>"
      ]
     },
     "metadata": {},
     "output_type": "display_data"
    },
    {
     "data": {
      "text/html": [
       "<div class=\"tfsechead rtl\"><span class=\"ltr\"><a target=\"_blank\" href=\"https://shebanq.ancient-data.org/hebrew/text?book=Genesis&amp;chapter=1&amp;verse=1&amp;version=2021&amp;mr=m&amp;qw=q&amp;tp=txt_p&amp;tr=hb&amp;wget=v&amp;qget=v&amp;nget=vt\" title=\"Show this on SHEBANQ\" sec=\"Genesis 1:1\">Genesis 1:1</a></span></div><div class=\"rtl children\"><div class=\"contnr c1  rtl  \" ><div class=\"lbl c1  \" ><span class=\"nd\">phrase </span> <span class=\"\"><span title=\"typ\">NP</span> <span title=\"function\">Subj</span></span></div><div class=\"children hor wrap rtl\"><div class=\"contnr c0 trm rtl  hl\"  style=\"background-color: magenta;\" ><div class=\"lbl c0 trm hl\"  style=\"background-color: magenta;\" ><a class=\" txtu hbo\" target=\"_blank\" href=\"https://shebanq.ancient-data.org/hebrew/word?version=2021&amp;id=1ALHJMn\" title=\"Show this on SHEBANQ\"><span class=\"txtu hbo\">אֱלֹהִ֑ים </span></a></div><div class=\"features\"><span class=\"nu xft\" ><span class=\"f\">nu=</span>pl</span></div></div></div></div></div>"
      ],
      "text/plain": [
       "<IPython.core.display.HTML object>"
      ]
     },
     "metadata": {},
     "output_type": "display_data"
    },
    {
     "data": {
      "text/html": [
       "<p><b>result</b> <i>2</i>"
      ],
      "text/plain": [
       "<IPython.core.display.HTML object>"
      ]
     },
     "metadata": {},
     "output_type": "display_data"
    },
    {
     "data": {
      "text/html": [
       "<div class=\"tfsechead rtl\"><span class=\"ltr\"><a target=\"_blank\" href=\"https://shebanq.ancient-data.org/hebrew/text?book=Genesis&amp;chapter=1&amp;verse=1&amp;version=2021&amp;mr=m&amp;qw=q&amp;tp=txt_p&amp;tr=hb&amp;wget=v&amp;qget=v&amp;nget=vt\" title=\"Show this on SHEBANQ\" sec=\"Genesis\">Genesis</a></span></div><div class=\"rtl children\"><div class=\"contnr c4 trm rtl  \" ><div class=\"lbl c4 trm \" ><span class=\"nd\">book </span> <span class=\"txtu hbo\"><span class=\"tfsechead rtl\"><span class=\"ltr\">Genesis</span></span></span></div><div class=\"features\"><span class=\"book xft\" ><span class=\"f\">book=</span>Genesis</span></div></div></div>"
      ],
      "text/plain": [
       "<IPython.core.display.HTML object>"
      ]
     },
     "metadata": {},
     "output_type": "display_data"
    },
    {
     "data": {
      "text/html": [
       "<div class=\"tfsechead rtl\"><span class=\"ltr\"><a target=\"_blank\" href=\"https://shebanq.ancient-data.org/hebrew/text?book=Genesis&amp;chapter=1&amp;verse=1&amp;version=2021&amp;mr=m&amp;qw=q&amp;tp=txt_p&amp;tr=hb&amp;wget=v&amp;qget=v&amp;nget=vt\" title=\"Show this on SHEBANQ\" sec=\"Genesis 1\">Genesis 1</a></span></div><div class=\"rtl children\"><div class=\"contnr c4 trm rtl  \" ><div class=\"lbl c4 trm \" ><span class=\"nd\">chapter </span> <span class=\"txtu hbo\"><span class=\"tfsechead rtl\"><span class=\"ltr\">Genesis 1</span></span></span></div><div class=\"features\"><span class=\"book xft\" ><span class=\"f\">book=</span>Genesis</span><span class=\"chapter xft\" ><span class=\"f\">chapter=</span>1</span></div></div></div>"
      ],
      "text/plain": [
       "<IPython.core.display.HTML object>"
      ]
     },
     "metadata": {},
     "output_type": "display_data"
    },
    {
     "data": {
      "text/html": [
       "<div class=\"tfsechead rtl\"><span class=\"ltr\"><a target=\"_blank\" href=\"https://shebanq.ancient-data.org/hebrew/text?book=Genesis&amp;chapter=1&amp;verse=1&amp;version=2021&amp;mr=m&amp;qw=q&amp;tp=txt_p&amp;tr=hb&amp;wget=v&amp;qget=v&amp;nget=vt\" title=\"Show this on SHEBANQ\" sec=\"Genesis 1:1\">Genesis 1:1</a></span></div><div class=\"rtl children\"><div class=\"contnr c3 trm rtl  \" ><div class=\"lbl c3 trm \" ><span class=\"nd\">verse </span></div><div class=\"features\"><span class=\"book xft\" ><span class=\"f\">book=</span>Genesis</span><span class=\"chapter xft\" ><span class=\"f\">chapter=</span>1</span><span class=\"verse xft\" ><span class=\"f\">verse=</span>1</span></div></div></div>"
      ],
      "text/plain": [
       "<IPython.core.display.HTML object>"
      ]
     },
     "metadata": {},
     "output_type": "display_data"
    },
    {
     "data": {
      "text/html": [
       "<div class=\"tfsechead rtl\"><span class=\"ltr\"><a target=\"_blank\" href=\"https://shebanq.ancient-data.org/hebrew/text?book=Genesis&amp;chapter=1&amp;verse=1&amp;version=2021&amp;mr=m&amp;qw=q&amp;tp=txt_p&amp;tr=hb&amp;wget=v&amp;qget=v&amp;nget=vt\" title=\"Show this on SHEBANQ\" sec=\"Genesis 1:1\">Genesis 1:1</a></span></div><div class=\"rtl children\"><div class=\"contnr c2 trm rtl  \" ><div class=\"lbl c2 trm \" ><span class=\"nd\">sentence </span> <span class=\"\"><span title=\"number\">1</span></span></div></div></div>"
      ],
      "text/plain": [
       "<IPython.core.display.HTML object>"
      ]
     },
     "metadata": {},
     "output_type": "display_data"
    },
    {
     "data": {
      "text/html": [
       "<div class=\"tfsechead rtl\"><span class=\"ltr\"><a target=\"_blank\" href=\"https://shebanq.ancient-data.org/hebrew/text?book=Genesis&amp;chapter=1&amp;verse=1&amp;version=2021&amp;mr=m&amp;qw=q&amp;tp=txt_p&amp;tr=hb&amp;wget=v&amp;qget=v&amp;nget=vt\" title=\"Show this on SHEBANQ\" sec=\"Genesis 1:1\">Genesis 1:1</a></span></div><div class=\"rtl children\"><div class=\"contnr c1  rtl  \" ><div class=\"lbl c1  \" ><span class=\"nd\">phrase </span> <span class=\"\"><span title=\"typ\">PP</span> <span title=\"function\">Time</span></span></div><div class=\"children hor wrap rtl\"><div class=\"contnr c0 trm rtl  \" ><div class=\"lbl c0 trm \" ><a class=\" txtu hbo\" target=\"_blank\" href=\"https://shebanq.ancient-data.org/hebrew/word?version=2021&amp;id=1B\" title=\"Show this on SHEBANQ\"><span class=\"txtu hbo\">בְּ</span></a></div></div><div class=\"contnr c0 trm rtl  hl\"  style=\"background-color: cyan;\" ><div class=\"lbl c0 trm hl\"  style=\"background-color: cyan;\" ><a class=\" txtu hbo\" target=\"_blank\" href=\"https://shebanq.ancient-data.org/hebrew/word?version=2021&amp;id=1RACJTn\" title=\"Show this on SHEBANQ\"><span class=\"txtu hbo\">רֵאשִׁ֖ית </span></a></div><div class=\"features\"><span class=\"nu xft\" ><span class=\"f\">nu=</span>sg</span></div></div></div></div></div>"
      ],
      "text/plain": [
       "<IPython.core.display.HTML object>"
      ]
     },
     "metadata": {},
     "output_type": "display_data"
    },
    {
     "data": {
      "text/html": [
       "<div class=\"tfsechead rtl\"><span class=\"ltr\"><a target=\"_blank\" href=\"https://shebanq.ancient-data.org/hebrew/text?book=Genesis&amp;chapter=1&amp;verse=1&amp;version=2021&amp;mr=m&amp;qw=q&amp;tp=txt_p&amp;tr=hb&amp;wget=v&amp;qget=v&amp;nget=vt\" title=\"Show this on SHEBANQ\" sec=\"Genesis 1:1\">Genesis 1:1</a></span></div><div class=\"rtl children\"><div class=\"contnr c1  rtl  \" ><div class=\"lbl c1  \" ><span class=\"nd\">phrase </span> <span class=\"\"><span title=\"typ\">PP</span> <span title=\"function\">Objc</span></span></div><div class=\"children hor wrap rtl\"><div class=\"contnr c0 trm rtl  \" ><div class=\"lbl c0 trm \" ><a class=\" txtu hbo\" target=\"_blank\" href=\"https://shebanq.ancient-data.org/hebrew/word?version=2021&amp;id=1AT\" title=\"Show this on SHEBANQ\"><span class=\"txtu hbo\">אֵ֥ת </span></a></div></div><div class=\"contnr c0 trm rtl  \" ><div class=\"lbl c0 trm \" ><a class=\" txtu hbo\" target=\"_blank\" href=\"https://shebanq.ancient-data.org/hebrew/word?version=2021&amp;id=1H\" title=\"Show this on SHEBANQ\"><span class=\"txtu hbo\">הַ</span></a></div></div><div class=\"contnr c0 trm rtl  hl\"  style=\"background-color: magenta;\" ><div class=\"lbl c0 trm hl\"  style=\"background-color: magenta;\" ><a class=\" txtu hbo\" target=\"_blank\" href=\"https://shebanq.ancient-data.org/hebrew/word?version=2021&amp;id=1CMJMn\" title=\"Show this on SHEBANQ\"><span class=\"txtu hbo\">שָּׁמַ֖יִם </span></a></div><div class=\"features\"><span class=\"nu xft\" ><span class=\"f\">nu=</span>pl</span></div></div><div class=\"contnr c0 trm rtl  \" ><div class=\"lbl c0 trm \" ><a class=\" txtu hbo\" target=\"_blank\" href=\"https://shebanq.ancient-data.org/hebrew/word?version=2021&amp;id=1W\" title=\"Show this on SHEBANQ\"><span class=\"txtu hbo\">וְ</span></a></div></div><div class=\"contnr c0 trm rtl  \" ><div class=\"lbl c0 trm \" ><a class=\" txtu hbo\" target=\"_blank\" href=\"https://shebanq.ancient-data.org/hebrew/word?version=2021&amp;id=1AT\" title=\"Show this on SHEBANQ\"><span class=\"txtu hbo\">אֵ֥ת </span></a></div></div><div class=\"contnr c0 trm rtl  \" ><div class=\"lbl c0 trm \" ><a class=\" txtu hbo\" target=\"_blank\" href=\"https://shebanq.ancient-data.org/hebrew/word?version=2021&amp;id=1H\" title=\"Show this on SHEBANQ\"><span class=\"txtu hbo\">הָ</span></a></div></div><div class=\"contnr c0 trm rtl  \" ><div class=\"lbl c0 trm \" ><a class=\" txtu hbo\" target=\"_blank\" href=\"https://shebanq.ancient-data.org/hebrew/word?version=2021&amp;id=1ARYn\" title=\"Show this on SHEBANQ\"><span class=\"txtu hbo\">אָֽרֶץ׃ </span></a></div><div class=\"features\"><span class=\"nu xft\" ><span class=\"f\">nu=</span>sg</span></div></div></div></div></div>"
      ],
      "text/plain": [
       "<IPython.core.display.HTML object>"
      ]
     },
     "metadata": {},
     "output_type": "display_data"
    },
    {
     "data": {
      "text/html": [
       "<p><b>result</b> <i>3</i>"
      ],
      "text/plain": [
       "<IPython.core.display.HTML object>"
      ]
     },
     "metadata": {},
     "output_type": "display_data"
    },
    {
     "data": {
      "text/html": [
       "<div class=\"tfsechead rtl\"><span class=\"ltr\"><a target=\"_blank\" href=\"https://shebanq.ancient-data.org/hebrew/text?book=Genesis&amp;chapter=1&amp;verse=1&amp;version=2021&amp;mr=m&amp;qw=q&amp;tp=txt_p&amp;tr=hb&amp;wget=v&amp;qget=v&amp;nget=vt\" title=\"Show this on SHEBANQ\" sec=\"Genesis\">Genesis</a></span></div><div class=\"rtl children\"><div class=\"contnr c4 trm rtl  \" ><div class=\"lbl c4 trm \" ><span class=\"nd\">book </span> <span class=\"txtu hbo\"><span class=\"tfsechead rtl\"><span class=\"ltr\">Genesis</span></span></span></div><div class=\"features\"><span class=\"book xft\" ><span class=\"f\">book=</span>Genesis</span></div></div></div>"
      ],
      "text/plain": [
       "<IPython.core.display.HTML object>"
      ]
     },
     "metadata": {},
     "output_type": "display_data"
    },
    {
     "data": {
      "text/html": [
       "<div class=\"tfsechead rtl\"><span class=\"ltr\"><a target=\"_blank\" href=\"https://shebanq.ancient-data.org/hebrew/text?book=Genesis&amp;chapter=1&amp;verse=1&amp;version=2021&amp;mr=m&amp;qw=q&amp;tp=txt_p&amp;tr=hb&amp;wget=v&amp;qget=v&amp;nget=vt\" title=\"Show this on SHEBANQ\" sec=\"Genesis 1\">Genesis 1</a></span></div><div class=\"rtl children\"><div class=\"contnr c4 trm rtl  \" ><div class=\"lbl c4 trm \" ><span class=\"nd\">chapter </span> <span class=\"txtu hbo\"><span class=\"tfsechead rtl\"><span class=\"ltr\">Genesis 1</span></span></span></div><div class=\"features\"><span class=\"book xft\" ><span class=\"f\">book=</span>Genesis</span><span class=\"chapter xft\" ><span class=\"f\">chapter=</span>1</span></div></div></div>"
      ],
      "text/plain": [
       "<IPython.core.display.HTML object>"
      ]
     },
     "metadata": {},
     "output_type": "display_data"
    },
    {
     "data": {
      "text/html": [
       "<div class=\"tfsechead rtl\"><span class=\"ltr\"><a target=\"_blank\" href=\"https://shebanq.ancient-data.org/hebrew/text?book=Genesis&amp;chapter=1&amp;verse=1&amp;version=2021&amp;mr=m&amp;qw=q&amp;tp=txt_p&amp;tr=hb&amp;wget=v&amp;qget=v&amp;nget=vt\" title=\"Show this on SHEBANQ\" sec=\"Genesis 1:1\">Genesis 1:1</a></span></div><div class=\"rtl children\"><div class=\"contnr c3 trm rtl  \" ><div class=\"lbl c3 trm \" ><span class=\"nd\">verse </span></div><div class=\"features\"><span class=\"book xft\" ><span class=\"f\">book=</span>Genesis</span><span class=\"chapter xft\" ><span class=\"f\">chapter=</span>1</span><span class=\"verse xft\" ><span class=\"f\">verse=</span>1</span></div></div></div>"
      ],
      "text/plain": [
       "<IPython.core.display.HTML object>"
      ]
     },
     "metadata": {},
     "output_type": "display_data"
    },
    {
     "data": {
      "text/html": [
       "<div class=\"tfsechead rtl\"><span class=\"ltr\"><a target=\"_blank\" href=\"https://shebanq.ancient-data.org/hebrew/text?book=Genesis&amp;chapter=1&amp;verse=1&amp;version=2021&amp;mr=m&amp;qw=q&amp;tp=txt_p&amp;tr=hb&amp;wget=v&amp;qget=v&amp;nget=vt\" title=\"Show this on SHEBANQ\" sec=\"Genesis 1:1\">Genesis 1:1</a></span></div><div class=\"rtl children\"><div class=\"contnr c2 trm rtl  \" ><div class=\"lbl c2 trm \" ><span class=\"nd\">sentence </span> <span class=\"\"><span title=\"number\">1</span></span></div></div></div>"
      ],
      "text/plain": [
       "<IPython.core.display.HTML object>"
      ]
     },
     "metadata": {},
     "output_type": "display_data"
    },
    {
     "data": {
      "text/html": [
       "<div class=\"tfsechead rtl\"><span class=\"ltr\"><a target=\"_blank\" href=\"https://shebanq.ancient-data.org/hebrew/text?book=Genesis&amp;chapter=1&amp;verse=1&amp;version=2021&amp;mr=m&amp;qw=q&amp;tp=txt_p&amp;tr=hb&amp;wget=v&amp;qget=v&amp;nget=vt\" title=\"Show this on SHEBANQ\" sec=\"Genesis 1:1\">Genesis 1:1</a></span></div><div class=\"rtl children\"><div class=\"contnr c1  rtl  \" ><div class=\"lbl c1  \" ><span class=\"nd\">phrase </span> <span class=\"\"><span title=\"typ\">VP</span> <span title=\"function\">Pred</span></span></div><div class=\"children hor wrap rtl\"><div class=\"contnr c0 trm rtl  hl\"  style=\"background-color: cyan;\" ><div class=\"lbl c0 trm hl\"  style=\"background-color: cyan;\" ><a class=\" txtu hbo\" target=\"_blank\" href=\"https://shebanq.ancient-data.org/hebrew/word?version=2021&amp;id=1BRAv\" title=\"Show this on SHEBANQ\"><span class=\"txtu hbo\">בָּרָ֣א </span></a></div><div class=\"features\"><span class=\"nu xft\" ><span class=\"f\">nu=</span>sg</span></div></div></div></div></div>"
      ],
      "text/plain": [
       "<IPython.core.display.HTML object>"
      ]
     },
     "metadata": {},
     "output_type": "display_data"
    },
    {
     "data": {
      "text/html": [
       "<div class=\"tfsechead rtl\"><span class=\"ltr\"><a target=\"_blank\" href=\"https://shebanq.ancient-data.org/hebrew/text?book=Genesis&amp;chapter=1&amp;verse=1&amp;version=2021&amp;mr=m&amp;qw=q&amp;tp=txt_p&amp;tr=hb&amp;wget=v&amp;qget=v&amp;nget=vt\" title=\"Show this on SHEBANQ\" sec=\"Genesis 1:1\">Genesis 1:1</a></span></div><div class=\"rtl children\"><div class=\"contnr c1  rtl  \" ><div class=\"lbl c1  \" ><span class=\"nd\">phrase </span> <span class=\"\"><span title=\"typ\">NP</span> <span title=\"function\">Subj</span></span></div><div class=\"children hor wrap rtl\"><div class=\"contnr c0 trm rtl  hl\"  style=\"background-color: magenta;\" ><div class=\"lbl c0 trm hl\"  style=\"background-color: magenta;\" ><a class=\" txtu hbo\" target=\"_blank\" href=\"https://shebanq.ancient-data.org/hebrew/word?version=2021&amp;id=1ALHJMn\" title=\"Show this on SHEBANQ\"><span class=\"txtu hbo\">אֱלֹהִ֑ים </span></a></div><div class=\"features\"><span class=\"nu xft\" ><span class=\"f\">nu=</span>pl</span></div></div></div></div></div>"
      ],
      "text/plain": [
       "<IPython.core.display.HTML object>"
      ]
     },
     "metadata": {},
     "output_type": "display_data"
    },
    {
     "data": {
      "text/html": [
       "<p><b>result</b> <i>4</i>"
      ],
      "text/plain": [
       "<IPython.core.display.HTML object>"
      ]
     },
     "metadata": {},
     "output_type": "display_data"
    },
    {
     "data": {
      "text/html": [
       "<div class=\"tfsechead rtl\"><span class=\"ltr\"><a target=\"_blank\" href=\"https://shebanq.ancient-data.org/hebrew/text?book=Genesis&amp;chapter=1&amp;verse=1&amp;version=2021&amp;mr=m&amp;qw=q&amp;tp=txt_p&amp;tr=hb&amp;wget=v&amp;qget=v&amp;nget=vt\" title=\"Show this on SHEBANQ\" sec=\"Genesis\">Genesis</a></span></div><div class=\"rtl children\"><div class=\"contnr c4 trm rtl  \" ><div class=\"lbl c4 trm \" ><span class=\"nd\">book </span> <span class=\"txtu hbo\"><span class=\"tfsechead rtl\"><span class=\"ltr\">Genesis</span></span></span></div><div class=\"features\"><span class=\"book xft\" ><span class=\"f\">book=</span>Genesis</span></div></div></div>"
      ],
      "text/plain": [
       "<IPython.core.display.HTML object>"
      ]
     },
     "metadata": {},
     "output_type": "display_data"
    },
    {
     "data": {
      "text/html": [
       "<div class=\"tfsechead rtl\"><span class=\"ltr\"><a target=\"_blank\" href=\"https://shebanq.ancient-data.org/hebrew/text?book=Genesis&amp;chapter=1&amp;verse=1&amp;version=2021&amp;mr=m&amp;qw=q&amp;tp=txt_p&amp;tr=hb&amp;wget=v&amp;qget=v&amp;nget=vt\" title=\"Show this on SHEBANQ\" sec=\"Genesis 1\">Genesis 1</a></span></div><div class=\"rtl children\"><div class=\"contnr c4 trm rtl  \" ><div class=\"lbl c4 trm \" ><span class=\"nd\">chapter </span> <span class=\"txtu hbo\"><span class=\"tfsechead rtl\"><span class=\"ltr\">Genesis 1</span></span></span></div><div class=\"features\"><span class=\"book xft\" ><span class=\"f\">book=</span>Genesis</span><span class=\"chapter xft\" ><span class=\"f\">chapter=</span>1</span></div></div></div>"
      ],
      "text/plain": [
       "<IPython.core.display.HTML object>"
      ]
     },
     "metadata": {},
     "output_type": "display_data"
    },
    {
     "data": {
      "text/html": [
       "<div class=\"tfsechead rtl\"><span class=\"ltr\"><a target=\"_blank\" href=\"https://shebanq.ancient-data.org/hebrew/text?book=Genesis&amp;chapter=1&amp;verse=1&amp;version=2021&amp;mr=m&amp;qw=q&amp;tp=txt_p&amp;tr=hb&amp;wget=v&amp;qget=v&amp;nget=vt\" title=\"Show this on SHEBANQ\" sec=\"Genesis 1:1\">Genesis 1:1</a></span></div><div class=\"rtl children\"><div class=\"contnr c3 trm rtl  \" ><div class=\"lbl c3 trm \" ><span class=\"nd\">verse </span></div><div class=\"features\"><span class=\"book xft\" ><span class=\"f\">book=</span>Genesis</span><span class=\"chapter xft\" ><span class=\"f\">chapter=</span>1</span><span class=\"verse xft\" ><span class=\"f\">verse=</span>1</span></div></div></div>"
      ],
      "text/plain": [
       "<IPython.core.display.HTML object>"
      ]
     },
     "metadata": {},
     "output_type": "display_data"
    },
    {
     "data": {
      "text/html": [
       "<div class=\"tfsechead rtl\"><span class=\"ltr\"><a target=\"_blank\" href=\"https://shebanq.ancient-data.org/hebrew/text?book=Genesis&amp;chapter=1&amp;verse=1&amp;version=2021&amp;mr=m&amp;qw=q&amp;tp=txt_p&amp;tr=hb&amp;wget=v&amp;qget=v&amp;nget=vt\" title=\"Show this on SHEBANQ\" sec=\"Genesis 1:1\">Genesis 1:1</a></span></div><div class=\"rtl children\"><div class=\"contnr c2 trm rtl  \" ><div class=\"lbl c2 trm \" ><span class=\"nd\">sentence </span> <span class=\"\"><span title=\"number\">1</span></span></div></div></div>"
      ],
      "text/plain": [
       "<IPython.core.display.HTML object>"
      ]
     },
     "metadata": {},
     "output_type": "display_data"
    },
    {
     "data": {
      "text/html": [
       "<div class=\"tfsechead rtl\"><span class=\"ltr\"><a target=\"_blank\" href=\"https://shebanq.ancient-data.org/hebrew/text?book=Genesis&amp;chapter=1&amp;verse=1&amp;version=2021&amp;mr=m&amp;qw=q&amp;tp=txt_p&amp;tr=hb&amp;wget=v&amp;qget=v&amp;nget=vt\" title=\"Show this on SHEBANQ\" sec=\"Genesis 1:1\">Genesis 1:1</a></span></div><div class=\"rtl children\"><div class=\"contnr c1  rtl  \" ><div class=\"lbl c1  \" ><span class=\"nd\">phrase </span> <span class=\"\"><span title=\"typ\">VP</span> <span title=\"function\">Pred</span></span></div><div class=\"children hor wrap rtl\"><div class=\"contnr c0 trm rtl  hl\"  style=\"background-color: cyan;\" ><div class=\"lbl c0 trm hl\"  style=\"background-color: cyan;\" ><a class=\" txtu hbo\" target=\"_blank\" href=\"https://shebanq.ancient-data.org/hebrew/word?version=2021&amp;id=1BRAv\" title=\"Show this on SHEBANQ\"><span class=\"txtu hbo\">בָּרָ֣א </span></a></div><div class=\"features\"><span class=\"nu xft\" ><span class=\"f\">nu=</span>sg</span></div></div></div></div></div>"
      ],
      "text/plain": [
       "<IPython.core.display.HTML object>"
      ]
     },
     "metadata": {},
     "output_type": "display_data"
    },
    {
     "data": {
      "text/html": [
       "<div class=\"tfsechead rtl\"><span class=\"ltr\"><a target=\"_blank\" href=\"https://shebanq.ancient-data.org/hebrew/text?book=Genesis&amp;chapter=1&amp;verse=1&amp;version=2021&amp;mr=m&amp;qw=q&amp;tp=txt_p&amp;tr=hb&amp;wget=v&amp;qget=v&amp;nget=vt\" title=\"Show this on SHEBANQ\" sec=\"Genesis 1:1\">Genesis 1:1</a></span></div><div class=\"rtl children\"><div class=\"contnr c1  rtl  \" ><div class=\"lbl c1  \" ><span class=\"nd\">phrase </span> <span class=\"\"><span title=\"typ\">PP</span> <span title=\"function\">Objc</span></span></div><div class=\"children hor wrap rtl\"><div class=\"contnr c0 trm rtl  \" ><div class=\"lbl c0 trm \" ><a class=\" txtu hbo\" target=\"_blank\" href=\"https://shebanq.ancient-data.org/hebrew/word?version=2021&amp;id=1AT\" title=\"Show this on SHEBANQ\"><span class=\"txtu hbo\">אֵ֥ת </span></a></div></div><div class=\"contnr c0 trm rtl  \" ><div class=\"lbl c0 trm \" ><a class=\" txtu hbo\" target=\"_blank\" href=\"https://shebanq.ancient-data.org/hebrew/word?version=2021&amp;id=1H\" title=\"Show this on SHEBANQ\"><span class=\"txtu hbo\">הַ</span></a></div></div><div class=\"contnr c0 trm rtl  hl\"  style=\"background-color: magenta;\" ><div class=\"lbl c0 trm hl\"  style=\"background-color: magenta;\" ><a class=\" txtu hbo\" target=\"_blank\" href=\"https://shebanq.ancient-data.org/hebrew/word?version=2021&amp;id=1CMJMn\" title=\"Show this on SHEBANQ\"><span class=\"txtu hbo\">שָּׁמַ֖יִם </span></a></div><div class=\"features\"><span class=\"nu xft\" ><span class=\"f\">nu=</span>pl</span></div></div><div class=\"contnr c0 trm rtl  \" ><div class=\"lbl c0 trm \" ><a class=\" txtu hbo\" target=\"_blank\" href=\"https://shebanq.ancient-data.org/hebrew/word?version=2021&amp;id=1W\" title=\"Show this on SHEBANQ\"><span class=\"txtu hbo\">וְ</span></a></div></div><div class=\"contnr c0 trm rtl  \" ><div class=\"lbl c0 trm \" ><a class=\" txtu hbo\" target=\"_blank\" href=\"https://shebanq.ancient-data.org/hebrew/word?version=2021&amp;id=1AT\" title=\"Show this on SHEBANQ\"><span class=\"txtu hbo\">אֵ֥ת </span></a></div></div><div class=\"contnr c0 trm rtl  \" ><div class=\"lbl c0 trm \" ><a class=\" txtu hbo\" target=\"_blank\" href=\"https://shebanq.ancient-data.org/hebrew/word?version=2021&amp;id=1H\" title=\"Show this on SHEBANQ\"><span class=\"txtu hbo\">הָ</span></a></div></div><div class=\"contnr c0 trm rtl  \" ><div class=\"lbl c0 trm \" ><a class=\" txtu hbo\" target=\"_blank\" href=\"https://shebanq.ancient-data.org/hebrew/word?version=2021&amp;id=1ARYn\" title=\"Show this on SHEBANQ\"><span class=\"txtu hbo\">אָֽרֶץ׃ </span></a></div><div class=\"features\"><span class=\"nu xft\" ><span class=\"f\">nu=</span>sg</span></div></div></div></div></div>"
      ],
      "text/plain": [
       "<IPython.core.display.HTML object>"
      ]
     },
     "metadata": {},
     "output_type": "display_data"
    },
    {
     "data": {
      "text/html": [
       "<p><b>result</b> <i>5</i>"
      ],
      "text/plain": [
       "<IPython.core.display.HTML object>"
      ]
     },
     "metadata": {},
     "output_type": "display_data"
    },
    {
     "data": {
      "text/html": [
       "<div class=\"tfsechead rtl\"><span class=\"ltr\"><a target=\"_blank\" href=\"https://shebanq.ancient-data.org/hebrew/text?book=Genesis&amp;chapter=1&amp;verse=1&amp;version=2021&amp;mr=m&amp;qw=q&amp;tp=txt_p&amp;tr=hb&amp;wget=v&amp;qget=v&amp;nget=vt\" title=\"Show this on SHEBANQ\" sec=\"Genesis\">Genesis</a></span></div><div class=\"rtl children\"><div class=\"contnr c4 trm rtl  \" ><div class=\"lbl c4 trm \" ><span class=\"nd\">book </span> <span class=\"txtu hbo\"><span class=\"tfsechead rtl\"><span class=\"ltr\">Genesis</span></span></span></div><div class=\"features\"><span class=\"book xft\" ><span class=\"f\">book=</span>Genesis</span></div></div></div>"
      ],
      "text/plain": [
       "<IPython.core.display.HTML object>"
      ]
     },
     "metadata": {},
     "output_type": "display_data"
    },
    {
     "data": {
      "text/html": [
       "<div class=\"tfsechead rtl\"><span class=\"ltr\"><a target=\"_blank\" href=\"https://shebanq.ancient-data.org/hebrew/text?book=Genesis&amp;chapter=1&amp;verse=1&amp;version=2021&amp;mr=m&amp;qw=q&amp;tp=txt_p&amp;tr=hb&amp;wget=v&amp;qget=v&amp;nget=vt\" title=\"Show this on SHEBANQ\" sec=\"Genesis 1\">Genesis 1</a></span></div><div class=\"rtl children\"><div class=\"contnr c4 trm rtl  \" ><div class=\"lbl c4 trm \" ><span class=\"nd\">chapter </span> <span class=\"txtu hbo\"><span class=\"tfsechead rtl\"><span class=\"ltr\">Genesis 1</span></span></span></div><div class=\"features\"><span class=\"book xft\" ><span class=\"f\">book=</span>Genesis</span><span class=\"chapter xft\" ><span class=\"f\">chapter=</span>1</span></div></div></div>"
      ],
      "text/plain": [
       "<IPython.core.display.HTML object>"
      ]
     },
     "metadata": {},
     "output_type": "display_data"
    },
    {
     "data": {
      "text/html": [
       "<div class=\"tfsechead rtl\"><span class=\"ltr\"><a target=\"_blank\" href=\"https://shebanq.ancient-data.org/hebrew/text?book=Genesis&amp;chapter=1&amp;verse=1&amp;version=2021&amp;mr=m&amp;qw=q&amp;tp=txt_p&amp;tr=hb&amp;wget=v&amp;qget=v&amp;nget=vt\" title=\"Show this on SHEBANQ\" sec=\"Genesis 1:1\">Genesis 1:1</a></span></div><div class=\"rtl children\"><div class=\"contnr c3 trm rtl  \" ><div class=\"lbl c3 trm \" ><span class=\"nd\">verse </span></div><div class=\"features\"><span class=\"book xft\" ><span class=\"f\">book=</span>Genesis</span><span class=\"chapter xft\" ><span class=\"f\">chapter=</span>1</span><span class=\"verse xft\" ><span class=\"f\">verse=</span>1</span></div></div></div>"
      ],
      "text/plain": [
       "<IPython.core.display.HTML object>"
      ]
     },
     "metadata": {},
     "output_type": "display_data"
    },
    {
     "data": {
      "text/html": [
       "<div class=\"tfsechead rtl\"><span class=\"ltr\"><a target=\"_blank\" href=\"https://shebanq.ancient-data.org/hebrew/text?book=Genesis&amp;chapter=1&amp;verse=1&amp;version=2021&amp;mr=m&amp;qw=q&amp;tp=txt_p&amp;tr=hb&amp;wget=v&amp;qget=v&amp;nget=vt\" title=\"Show this on SHEBANQ\" sec=\"Genesis 1:1\">Genesis 1:1</a></span></div><div class=\"rtl children\"><div class=\"contnr c2 trm rtl  \" ><div class=\"lbl c2 trm \" ><span class=\"nd\">sentence </span> <span class=\"\"><span title=\"number\">1</span></span></div></div></div>"
      ],
      "text/plain": [
       "<IPython.core.display.HTML object>"
      ]
     },
     "metadata": {},
     "output_type": "display_data"
    },
    {
     "data": {
      "text/html": [
       "<div class=\"tfsechead rtl\"><span class=\"ltr\"><a target=\"_blank\" href=\"https://shebanq.ancient-data.org/hebrew/text?book=Genesis&amp;chapter=1&amp;verse=1&amp;version=2021&amp;mr=m&amp;qw=q&amp;tp=txt_p&amp;tr=hb&amp;wget=v&amp;qget=v&amp;nget=vt\" title=\"Show this on SHEBANQ\" sec=\"Genesis 1:1\">Genesis 1:1</a></span></div><div class=\"rtl children\"><div class=\"contnr c1  rtl  \" ><div class=\"lbl c1  \" ><span class=\"nd\">phrase </span> <span class=\"\"><span title=\"typ\">NP</span> <span title=\"function\">Subj</span></span></div><div class=\"children hor wrap rtl\"><div class=\"contnr c0 trm rtl  hl\"  style=\"background-color: magenta;\" ><div class=\"lbl c0 trm hl\"  style=\"background-color: magenta;\" ><a class=\" txtu hbo\" target=\"_blank\" href=\"https://shebanq.ancient-data.org/hebrew/word?version=2021&amp;id=1ALHJMn\" title=\"Show this on SHEBANQ\"><span class=\"txtu hbo\">אֱלֹהִ֑ים </span></a></div><div class=\"features\"><span class=\"nu xft\" ><span class=\"f\">nu=</span>pl</span></div></div></div></div></div>"
      ],
      "text/plain": [
       "<IPython.core.display.HTML object>"
      ]
     },
     "metadata": {},
     "output_type": "display_data"
    },
    {
     "data": {
      "text/html": [
       "<div class=\"tfsechead rtl\"><span class=\"ltr\"><a target=\"_blank\" href=\"https://shebanq.ancient-data.org/hebrew/text?book=Genesis&amp;chapter=1&amp;verse=1&amp;version=2021&amp;mr=m&amp;qw=q&amp;tp=txt_p&amp;tr=hb&amp;wget=v&amp;qget=v&amp;nget=vt\" title=\"Show this on SHEBANQ\" sec=\"Genesis 1:1\">Genesis 1:1</a></span></div><div class=\"rtl children\"><div class=\"contnr c1  rtl  \" ><div class=\"lbl c1  \" ><span class=\"nd\">phrase </span> <span class=\"\"><span title=\"typ\">PP</span> <span title=\"function\">Objc</span></span></div><div class=\"children hor wrap rtl\"><div class=\"contnr c0 trm rtl  \" ><div class=\"lbl c0 trm \" ><a class=\" txtu hbo\" target=\"_blank\" href=\"https://shebanq.ancient-data.org/hebrew/word?version=2021&amp;id=1AT\" title=\"Show this on SHEBANQ\"><span class=\"txtu hbo\">אֵ֥ת </span></a></div></div><div class=\"contnr c0 trm rtl  \" ><div class=\"lbl c0 trm \" ><a class=\" txtu hbo\" target=\"_blank\" href=\"https://shebanq.ancient-data.org/hebrew/word?version=2021&amp;id=1H\" title=\"Show this on SHEBANQ\"><span class=\"txtu hbo\">הַ</span></a></div></div><div class=\"contnr c0 trm rtl  \" ><div class=\"lbl c0 trm \" ><a class=\" txtu hbo\" target=\"_blank\" href=\"https://shebanq.ancient-data.org/hebrew/word?version=2021&amp;id=1CMJMn\" title=\"Show this on SHEBANQ\"><span class=\"txtu hbo\">שָּׁמַ֖יִם </span></a></div><div class=\"features\"><span class=\"nu xft\" ><span class=\"f\">nu=</span>pl</span></div></div><div class=\"contnr c0 trm rtl  \" ><div class=\"lbl c0 trm \" ><a class=\" txtu hbo\" target=\"_blank\" href=\"https://shebanq.ancient-data.org/hebrew/word?version=2021&amp;id=1W\" title=\"Show this on SHEBANQ\"><span class=\"txtu hbo\">וְ</span></a></div></div><div class=\"contnr c0 trm rtl  \" ><div class=\"lbl c0 trm \" ><a class=\" txtu hbo\" target=\"_blank\" href=\"https://shebanq.ancient-data.org/hebrew/word?version=2021&amp;id=1AT\" title=\"Show this on SHEBANQ\"><span class=\"txtu hbo\">אֵ֥ת </span></a></div></div><div class=\"contnr c0 trm rtl  \" ><div class=\"lbl c0 trm \" ><a class=\" txtu hbo\" target=\"_blank\" href=\"https://shebanq.ancient-data.org/hebrew/word?version=2021&amp;id=1H\" title=\"Show this on SHEBANQ\"><span class=\"txtu hbo\">הָ</span></a></div></div><div class=\"contnr c0 trm rtl  hl\"  style=\"background-color: cyan;\" ><div class=\"lbl c0 trm hl\"  style=\"background-color: cyan;\" ><a class=\" txtu hbo\" target=\"_blank\" href=\"https://shebanq.ancient-data.org/hebrew/word?version=2021&amp;id=1ARYn\" title=\"Show this on SHEBANQ\"><span class=\"txtu hbo\">אָֽרֶץ׃ </span></a></div><div class=\"features\"><span class=\"nu xft\" ><span class=\"f\">nu=</span>sg</span></div></div></div></div></div>"
      ],
      "text/plain": [
       "<IPython.core.display.HTML object>"
      ]
     },
     "metadata": {},
     "output_type": "display_data"
    },
    {
     "data": {
      "text/html": [
       "<p><b>result</b> <i>6</i>"
      ],
      "text/plain": [
       "<IPython.core.display.HTML object>"
      ]
     },
     "metadata": {},
     "output_type": "display_data"
    },
    {
     "data": {
      "text/html": [
       "<div class=\"tfsechead rtl\"><span class=\"ltr\"><a target=\"_blank\" href=\"https://shebanq.ancient-data.org/hebrew/text?book=Genesis&amp;chapter=1&amp;verse=1&amp;version=2021&amp;mr=m&amp;qw=q&amp;tp=txt_p&amp;tr=hb&amp;wget=v&amp;qget=v&amp;nget=vt\" title=\"Show this on SHEBANQ\" sec=\"Genesis\">Genesis</a></span></div><div class=\"rtl children\"><div class=\"contnr c4 trm rtl  \" ><div class=\"lbl c4 trm \" ><span class=\"nd\">book </span> <span class=\"txtu hbo\"><span class=\"tfsechead rtl\"><span class=\"ltr\">Genesis</span></span></span></div><div class=\"features\"><span class=\"book xft\" ><span class=\"f\">book=</span>Genesis</span></div></div></div>"
      ],
      "text/plain": [
       "<IPython.core.display.HTML object>"
      ]
     },
     "metadata": {},
     "output_type": "display_data"
    },
    {
     "data": {
      "text/html": [
       "<div class=\"tfsechead rtl\"><span class=\"ltr\"><a target=\"_blank\" href=\"https://shebanq.ancient-data.org/hebrew/text?book=Genesis&amp;chapter=1&amp;verse=1&amp;version=2021&amp;mr=m&amp;qw=q&amp;tp=txt_p&amp;tr=hb&amp;wget=v&amp;qget=v&amp;nget=vt\" title=\"Show this on SHEBANQ\" sec=\"Genesis 1\">Genesis 1</a></span></div><div class=\"rtl children\"><div class=\"contnr c4 trm rtl  \" ><div class=\"lbl c4 trm \" ><span class=\"nd\">chapter </span> <span class=\"txtu hbo\"><span class=\"tfsechead rtl\"><span class=\"ltr\">Genesis 1</span></span></span></div><div class=\"features\"><span class=\"book xft\" ><span class=\"f\">book=</span>Genesis</span><span class=\"chapter xft\" ><span class=\"f\">chapter=</span>1</span></div></div></div>"
      ],
      "text/plain": [
       "<IPython.core.display.HTML object>"
      ]
     },
     "metadata": {},
     "output_type": "display_data"
    },
    {
     "data": {
      "text/html": [
       "<div class=\"tfsechead rtl\"><span class=\"ltr\"><a target=\"_blank\" href=\"https://shebanq.ancient-data.org/hebrew/text?book=Genesis&amp;chapter=1&amp;verse=1&amp;version=2021&amp;mr=m&amp;qw=q&amp;tp=txt_p&amp;tr=hb&amp;wget=v&amp;qget=v&amp;nget=vt\" title=\"Show this on SHEBANQ\" sec=\"Genesis 1:1\">Genesis 1:1</a></span></div><div class=\"rtl children\"><div class=\"contnr c3 trm rtl  \" ><div class=\"lbl c3 trm \" ><span class=\"nd\">verse </span></div><div class=\"features\"><span class=\"book xft\" ><span class=\"f\">book=</span>Genesis</span><span class=\"chapter xft\" ><span class=\"f\">chapter=</span>1</span><span class=\"verse xft\" ><span class=\"f\">verse=</span>1</span></div></div></div>"
      ],
      "text/plain": [
       "<IPython.core.display.HTML object>"
      ]
     },
     "metadata": {},
     "output_type": "display_data"
    },
    {
     "data": {
      "text/html": [
       "<div class=\"tfsechead rtl\"><span class=\"ltr\"><a target=\"_blank\" href=\"https://shebanq.ancient-data.org/hebrew/text?book=Genesis&amp;chapter=1&amp;verse=1&amp;version=2021&amp;mr=m&amp;qw=q&amp;tp=txt_p&amp;tr=hb&amp;wget=v&amp;qget=v&amp;nget=vt\" title=\"Show this on SHEBANQ\" sec=\"Genesis 1:1\">Genesis 1:1</a></span></div><div class=\"rtl children\"><div class=\"contnr c2 trm rtl  \" ><div class=\"lbl c2 trm \" ><span class=\"nd\">sentence </span> <span class=\"\"><span title=\"number\">1</span></span></div></div></div>"
      ],
      "text/plain": [
       "<IPython.core.display.HTML object>"
      ]
     },
     "metadata": {},
     "output_type": "display_data"
    },
    {
     "data": {
      "text/html": [
       "<div class=\"tfsechead rtl\"><span class=\"ltr\"><a target=\"_blank\" href=\"https://shebanq.ancient-data.org/hebrew/text?book=Genesis&amp;chapter=1&amp;verse=1&amp;version=2021&amp;mr=m&amp;qw=q&amp;tp=txt_p&amp;tr=hb&amp;wget=v&amp;qget=v&amp;nget=vt\" title=\"Show this on SHEBANQ\" sec=\"Genesis 1:1\">Genesis 1:1</a></span></div><div class=\"rtl children\"><div class=\"contnr c1  rtl  \" ><div class=\"lbl c1  \" ><span class=\"nd\">phrase </span> <span class=\"\"><span title=\"typ\">PP</span> <span title=\"function\">Objc</span></span></div><div class=\"children hor wrap rtl\"><div class=\"contnr c0 trm rtl  \" ><div class=\"lbl c0 trm \" ><a class=\" txtu hbo\" target=\"_blank\" href=\"https://shebanq.ancient-data.org/hebrew/word?version=2021&amp;id=1AT\" title=\"Show this on SHEBANQ\"><span class=\"txtu hbo\">אֵ֥ת </span></a></div></div><div class=\"contnr c0 trm rtl  \" ><div class=\"lbl c0 trm \" ><a class=\" txtu hbo\" target=\"_blank\" href=\"https://shebanq.ancient-data.org/hebrew/word?version=2021&amp;id=1H\" title=\"Show this on SHEBANQ\"><span class=\"txtu hbo\">הַ</span></a></div></div><div class=\"contnr c0 trm rtl  hl\"  style=\"background-color: magenta;\" ><div class=\"lbl c0 trm hl\"  style=\"background-color: magenta;\" ><a class=\" txtu hbo\" target=\"_blank\" href=\"https://shebanq.ancient-data.org/hebrew/word?version=2021&amp;id=1CMJMn\" title=\"Show this on SHEBANQ\"><span class=\"txtu hbo\">שָּׁמַ֖יִם </span></a></div><div class=\"features\"><span class=\"nu xft\" ><span class=\"f\">nu=</span>pl</span></div></div><div class=\"contnr c0 trm rtl  \" ><div class=\"lbl c0 trm \" ><a class=\" txtu hbo\" target=\"_blank\" href=\"https://shebanq.ancient-data.org/hebrew/word?version=2021&amp;id=1W\" title=\"Show this on SHEBANQ\"><span class=\"txtu hbo\">וְ</span></a></div></div><div class=\"contnr c0 trm rtl  \" ><div class=\"lbl c0 trm \" ><a class=\" txtu hbo\" target=\"_blank\" href=\"https://shebanq.ancient-data.org/hebrew/word?version=2021&amp;id=1AT\" title=\"Show this on SHEBANQ\"><span class=\"txtu hbo\">אֵ֥ת </span></a></div></div><div class=\"contnr c0 trm rtl  \" ><div class=\"lbl c0 trm \" ><a class=\" txtu hbo\" target=\"_blank\" href=\"https://shebanq.ancient-data.org/hebrew/word?version=2021&amp;id=1H\" title=\"Show this on SHEBANQ\"><span class=\"txtu hbo\">הָ</span></a></div></div><div class=\"contnr c0 trm rtl  hl\"  style=\"background-color: cyan;\" ><div class=\"lbl c0 trm hl\"  style=\"background-color: cyan;\" ><a class=\" txtu hbo\" target=\"_blank\" href=\"https://shebanq.ancient-data.org/hebrew/word?version=2021&amp;id=1ARYn\" title=\"Show this on SHEBANQ\"><span class=\"txtu hbo\">אָֽרֶץ׃ </span></a></div><div class=\"features\"><span class=\"nu xft\" ><span class=\"f\">nu=</span>sg</span></div></div></div></div></div>"
      ],
      "text/plain": [
       "<IPython.core.display.HTML object>"
      ]
     },
     "metadata": {},
     "output_type": "display_data"
    }
   ],
   "source": [
    "A.show(\n",
    "    results,\n",
    "    condensed=False,\n",
    "    condenseType=\"phrase\",\n",
    "    colorMap={4: \"\", 5: \"cyan\", 6: \"magenta\"},\n",
    ")"
   ]
  },
  {
   "cell_type": "markdown",
   "metadata": {},
   "source": [
    "# Constraining order\n",
    "You can stipulate an order on the words in your template.\n",
    "You only have to put a relational operator between them.\n",
    "Say we want only results where the plural follows the singular."
   ]
  },
  {
   "cell_type": "code",
   "execution_count": 23,
   "metadata": {
    "ExecuteTime": {
     "end_time": "2018-05-24T07:47:59.832291Z",
     "start_time": "2018-05-24T07:47:59.827343Z"
    }
   },
   "outputs": [],
   "source": [
    "query = \"\"\"\n",
    "book book=Genesis\n",
    "  chapter chapter=1\n",
    "    verse verse=1\n",
    "      sentence\n",
    "        word nu=sg\n",
    "        < word nu=pl\n",
    "\"\"\""
   ]
  },
  {
   "cell_type": "markdown",
   "metadata": {},
   "source": [
    "Note that we keep the `skipCols=\"1 2 3\"` display setting in force, since it is relevant for this query as well."
   ]
  },
  {
   "cell_type": "code",
   "execution_count": 24,
   "metadata": {
    "ExecuteTime": {
     "end_time": "2018-05-24T07:48:04.746084Z",
     "start_time": "2018-05-24T07:48:03.223548Z"
    }
   },
   "outputs": [
    {
     "name": "stdout",
     "output_type": "stream",
     "text": [
      "  0.44s 4 results\n"
     ]
    },
    {
     "data": {
      "text/html": [
       "<table><tr class=\"tf rtl\"><th class=\"tf rtl\">n</th><th class=\"tf rtl\">p</th><th class=\"tf rtl\">book</th><th class=\"tf\">chapter</th><th class=\"tf\">verse</th><th class=\"tf\">sentence</th><th class=\"tf\">word</th><th class=\"tf\">word</th></tr>\n",
       "<tr class=\"tf rtl\"><td class=\"tf rtl\">1</td><td class=\"tf rtl\"><span class=\"tfsechead rtl\"><span class=\"ltr\"><a target=\"_blank\" href=\"https://shebanq.ancient-data.org/hebrew/text?book=Genesis&amp;chapter=1&amp;verse=1&amp;version=2021&amp;mr=m&amp;qw=q&amp;tp=txt_p&amp;tr=hb&amp;wget=v&amp;qget=v&amp;nget=vt\" title=\"Show this on SHEBANQ\" sec=\"Genesis 1:1\">Genesis 1:1</a></span></span></td><td class=\"tf rtl\"></td><td class=\"tf rtl\"></td><td class=\"tf rtl\"></td><td class=\"tf rtl\"><span class=\"rtl ubd\"><span class=\"plain rtl  hlbx\" ><span class=\"txtu hbo\">בְּ</span><span class=\"plain rtl  hl\" ><span class=\"txtu hbo\">רֵאשִׁ֖ית </span></span><span class=\"txtu hbo\">בָּרָ֣א </span><span class=\"plain rtl  hl\" ><span class=\"txtu hbo\">אֱלֹהִ֑ים </span></span><span class=\"txtu hbo\">אֵ֥ת </span><span class=\"txtu hbo\">הַ</span><span class=\"txtu hbo\">שָּׁמַ֖יִם </span><span class=\"txtu hbo\">וְ</span><span class=\"txtu hbo\">אֵ֥ת </span><span class=\"txtu hbo\">הָ</span><span class=\"txtu hbo\">אָֽרֶץ׃ </span></span></span></td><td class=\"tf rtl\"><span class=\"rtl ubd\"><span class=\"plain rtl  hl\" ><span class=\"txtu hbo\">רֵאשִׁ֖ית </span></span></span></td><td class=\"tf rtl\"><span class=\"rtl ubd\"><span class=\"plain rtl  hl\" ><span class=\"txtu hbo\">אֱלֹהִ֑ים </span></span></span></td></tr>\n",
       "<tr class=\"tf rtl\"><td class=\"tf rtl\">2</td><td class=\"tf rtl\"><span class=\"tfsechead rtl\"><span class=\"ltr\"><a target=\"_blank\" href=\"https://shebanq.ancient-data.org/hebrew/text?book=Genesis&amp;chapter=1&amp;verse=1&amp;version=2021&amp;mr=m&amp;qw=q&amp;tp=txt_p&amp;tr=hb&amp;wget=v&amp;qget=v&amp;nget=vt\" title=\"Show this on SHEBANQ\" sec=\"Genesis 1:1\">Genesis 1:1</a></span></span></td><td class=\"tf rtl\"></td><td class=\"tf rtl\"></td><td class=\"tf rtl\"></td><td class=\"tf rtl\"><span class=\"rtl ubd\"><span class=\"plain rtl  hlbx\" ><span class=\"txtu hbo\">בְּ</span><span class=\"plain rtl  hl\" ><span class=\"txtu hbo\">רֵאשִׁ֖ית </span></span><span class=\"txtu hbo\">בָּרָ֣א </span><span class=\"txtu hbo\">אֱלֹהִ֑ים </span><span class=\"txtu hbo\">אֵ֥ת </span><span class=\"txtu hbo\">הַ</span><span class=\"plain rtl  hl\" ><span class=\"txtu hbo\">שָּׁמַ֖יִם </span></span><span class=\"txtu hbo\">וְ</span><span class=\"txtu hbo\">אֵ֥ת </span><span class=\"txtu hbo\">הָ</span><span class=\"txtu hbo\">אָֽרֶץ׃ </span></span></span></td><td class=\"tf rtl\"><span class=\"rtl ubd\"><span class=\"plain rtl  hl\" ><span class=\"txtu hbo\">רֵאשִׁ֖ית </span></span></span></td><td class=\"tf rtl\"><span class=\"rtl ubd\"><span class=\"plain rtl  hl\" ><span class=\"txtu hbo\">שָּׁמַ֖יִם </span></span></span></td></tr>\n",
       "<tr class=\"tf rtl\"><td class=\"tf rtl\">3</td><td class=\"tf rtl\"><span class=\"tfsechead rtl\"><span class=\"ltr\"><a target=\"_blank\" href=\"https://shebanq.ancient-data.org/hebrew/text?book=Genesis&amp;chapter=1&amp;verse=1&amp;version=2021&amp;mr=m&amp;qw=q&amp;tp=txt_p&amp;tr=hb&amp;wget=v&amp;qget=v&amp;nget=vt\" title=\"Show this on SHEBANQ\" sec=\"Genesis 1:1\">Genesis 1:1</a></span></span></td><td class=\"tf rtl\"></td><td class=\"tf rtl\"></td><td class=\"tf rtl\"></td><td class=\"tf rtl\"><span class=\"rtl ubd\"><span class=\"plain rtl  hlbx\" ><span class=\"txtu hbo\">בְּ</span><span class=\"txtu hbo\">רֵאשִׁ֖ית </span><span class=\"plain rtl  hl\" ><span class=\"txtu hbo\">בָּרָ֣א </span></span><span class=\"plain rtl  hl\" ><span class=\"txtu hbo\">אֱלֹהִ֑ים </span></span><span class=\"txtu hbo\">אֵ֥ת </span><span class=\"txtu hbo\">הַ</span><span class=\"txtu hbo\">שָּׁמַ֖יִם </span><span class=\"txtu hbo\">וְ</span><span class=\"txtu hbo\">אֵ֥ת </span><span class=\"txtu hbo\">הָ</span><span class=\"txtu hbo\">אָֽרֶץ׃ </span></span></span></td><td class=\"tf rtl\"><span class=\"rtl ubd\"><span class=\"plain rtl  hl\" ><span class=\"txtu hbo\">בָּרָ֣א </span></span></span></td><td class=\"tf rtl\"><span class=\"rtl ubd\"><span class=\"plain rtl  hl\" ><span class=\"txtu hbo\">אֱלֹהִ֑ים </span></span></span></td></tr>\n",
       "<tr class=\"tf rtl\"><td class=\"tf rtl\">4</td><td class=\"tf rtl\"><span class=\"tfsechead rtl\"><span class=\"ltr\"><a target=\"_blank\" href=\"https://shebanq.ancient-data.org/hebrew/text?book=Genesis&amp;chapter=1&amp;verse=1&amp;version=2021&amp;mr=m&amp;qw=q&amp;tp=txt_p&amp;tr=hb&amp;wget=v&amp;qget=v&amp;nget=vt\" title=\"Show this on SHEBANQ\" sec=\"Genesis 1:1\">Genesis 1:1</a></span></span></td><td class=\"tf rtl\"></td><td class=\"tf rtl\"></td><td class=\"tf rtl\"></td><td class=\"tf rtl\"><span class=\"rtl ubd\"><span class=\"plain rtl  hlbx\" ><span class=\"txtu hbo\">בְּ</span><span class=\"txtu hbo\">רֵאשִׁ֖ית </span><span class=\"plain rtl  hl\" ><span class=\"txtu hbo\">בָּרָ֣א </span></span><span class=\"txtu hbo\">אֱלֹהִ֑ים </span><span class=\"txtu hbo\">אֵ֥ת </span><span class=\"txtu hbo\">הַ</span><span class=\"plain rtl  hl\" ><span class=\"txtu hbo\">שָּׁמַ֖יִם </span></span><span class=\"txtu hbo\">וְ</span><span class=\"txtu hbo\">אֵ֥ת </span><span class=\"txtu hbo\">הָ</span><span class=\"txtu hbo\">אָֽרֶץ׃ </span></span></span></td><td class=\"tf rtl\"><span class=\"rtl ubd\"><span class=\"plain rtl  hl\" ><span class=\"txtu hbo\">בָּרָ֣א </span></span></span></td><td class=\"tf rtl\"><span class=\"rtl ubd\"><span class=\"plain rtl  hl\" ><span class=\"txtu hbo\">שָּׁמַ֖יִם </span></span></span></td></tr></table>"
      ],
      "text/plain": [
       "<IPython.core.display.HTML object>"
      ]
     },
     "metadata": {},
     "output_type": "display_data"
    }
   ],
   "source": [
    "results = A.search(query)\n",
    "A.table(results)"
   ]
  },
  {
   "cell_type": "markdown",
   "metadata": {},
   "source": [
    "We can also require the words to be adjacent."
   ]
  },
  {
   "cell_type": "code",
   "execution_count": 25,
   "metadata": {
    "ExecuteTime": {
     "end_time": "2018-05-24T07:49:20.315639Z",
     "start_time": "2018-05-24T07:49:20.311979Z"
    }
   },
   "outputs": [],
   "source": [
    "query = \"\"\"\n",
    "book book=Genesis\n",
    "  chapter chapter=1\n",
    "    verse verse=1\n",
    "      sentence\n",
    "        word nu=sg\n",
    "        <: word nu=pl\n",
    "\"\"\""
   ]
  },
  {
   "cell_type": "code",
   "execution_count": 26,
   "metadata": {
    "ExecuteTime": {
     "end_time": "2018-05-24T07:49:25.158646Z",
     "start_time": "2018-05-24T07:49:23.718047Z"
    }
   },
   "outputs": [
    {
     "name": "stdout",
     "output_type": "stream",
     "text": [
      "  0.41s 1 result\n"
     ]
    },
    {
     "data": {
      "text/html": [
       "<table><tr class=\"tf rtl\"><th class=\"tf rtl\">n</th><th class=\"tf rtl\">p</th><th class=\"tf rtl\">book</th><th class=\"tf\">chapter</th><th class=\"tf\">verse</th><th class=\"tf\">sentence</th><th class=\"tf\">word</th><th class=\"tf\">word</th></tr>\n",
       "<tr class=\"tf rtl\"><td class=\"tf rtl\">1</td><td class=\"tf rtl\"><span class=\"tfsechead rtl\"><span class=\"ltr\"><a target=\"_blank\" href=\"https://shebanq.ancient-data.org/hebrew/text?book=Genesis&amp;chapter=1&amp;verse=1&amp;version=2021&amp;mr=m&amp;qw=q&amp;tp=txt_p&amp;tr=hb&amp;wget=v&amp;qget=v&amp;nget=vt\" title=\"Show this on SHEBANQ\" sec=\"Genesis 1:1\">Genesis 1:1</a></span></span></td><td class=\"tf rtl\"></td><td class=\"tf rtl\"></td><td class=\"tf rtl\"></td><td class=\"tf rtl\"><span class=\"rtl ubd\"><span class=\"plain rtl  hlbx\" ><span class=\"txtu hbo\">בְּ</span><span class=\"txtu hbo\">רֵאשִׁ֖ית </span><span class=\"plain rtl  hl\"  style=\"background-color: lightsalmon;\" ><span class=\"txtu hbo\">בָּרָ֣א </span></span><span class=\"plain rtl  hl\"  style=\"background-color: mediumaquamarine;\" ><span class=\"txtu hbo\">אֱלֹהִ֑ים </span></span><span class=\"txtu hbo\">אֵ֥ת </span><span class=\"txtu hbo\">הַ</span><span class=\"txtu hbo\">שָּׁמַ֖יִם </span><span class=\"txtu hbo\">וְ</span><span class=\"txtu hbo\">אֵ֥ת </span><span class=\"txtu hbo\">הָ</span><span class=\"txtu hbo\">אָֽרֶץ׃ </span></span></span></td><td class=\"tf rtl\"><span class=\"rtl ubd\"><span class=\"plain rtl  hl\"  style=\"background-color: lightsalmon;\" ><span class=\"txtu hbo\">בָּרָ֣א </span></span></span></td><td class=\"tf rtl\"><span class=\"rtl ubd\"><span class=\"plain rtl  hl\"  style=\"background-color: mediumaquamarine;\" ><span class=\"txtu hbo\">אֱלֹהִ֑ים </span></span></span></td></tr></table>"
      ],
      "text/plain": [
       "<IPython.core.display.HTML object>"
      ]
     },
     "metadata": {},
     "output_type": "display_data"
    },
    {
     "data": {
      "text/html": [
       "<p><b>result</b> <i>1</i>"
      ],
      "text/plain": [
       "<IPython.core.display.HTML object>"
      ]
     },
     "metadata": {},
     "output_type": "display_data"
    },
    {
     "data": {
      "text/html": [
       "<div class=\"tfsechead rtl\"><span class=\"ltr\"><a target=\"_blank\" href=\"https://shebanq.ancient-data.org/hebrew/text?book=Genesis&amp;chapter=1&amp;verse=1&amp;version=2021&amp;mr=m&amp;qw=q&amp;tp=txt_p&amp;tr=hb&amp;wget=v&amp;qget=v&amp;nget=vt\" title=\"Show this on SHEBANQ\" sec=\"Genesis\">Genesis</a></span></div><div class=\"rtl children\"><div class=\"contnr c4 trm rtl  \" ><div class=\"lbl c4 trm \" ><span class=\"nd\">book </span> <span class=\"txtu hbo\"><span class=\"tfsechead rtl\"><span class=\"ltr\">Genesis</span></span></span></div><div class=\"features\"><span class=\"book xft\" ><span class=\"f\">book=</span>Genesis</span></div></div></div>"
      ],
      "text/plain": [
       "<IPython.core.display.HTML object>"
      ]
     },
     "metadata": {},
     "output_type": "display_data"
    },
    {
     "data": {
      "text/html": [
       "<div class=\"tfsechead rtl\"><span class=\"ltr\"><a target=\"_blank\" href=\"https://shebanq.ancient-data.org/hebrew/text?book=Genesis&amp;chapter=1&amp;verse=1&amp;version=2021&amp;mr=m&amp;qw=q&amp;tp=txt_p&amp;tr=hb&amp;wget=v&amp;qget=v&amp;nget=vt\" title=\"Show this on SHEBANQ\" sec=\"Genesis 1\">Genesis 1</a></span></div><div class=\"rtl children\"><div class=\"contnr c4 trm rtl  \" ><div class=\"lbl c4 trm \" ><span class=\"nd\">chapter </span> <span class=\"txtu hbo\"><span class=\"tfsechead rtl\"><span class=\"ltr\">Genesis 1</span></span></span></div><div class=\"features\"><span class=\"book xft\" ><span class=\"f\">book=</span>Genesis</span><span class=\"chapter xft\" ><span class=\"f\">chapter=</span>1</span></div></div></div>"
      ],
      "text/plain": [
       "<IPython.core.display.HTML object>"
      ]
     },
     "metadata": {},
     "output_type": "display_data"
    },
    {
     "data": {
      "text/html": [
       "<div class=\"tfsechead rtl\"><span class=\"ltr\"><a target=\"_blank\" href=\"https://shebanq.ancient-data.org/hebrew/text?book=Genesis&amp;chapter=1&amp;verse=1&amp;version=2021&amp;mr=m&amp;qw=q&amp;tp=txt_p&amp;tr=hb&amp;wget=v&amp;qget=v&amp;nget=vt\" title=\"Show this on SHEBANQ\" sec=\"Genesis 1:1\">Genesis 1:1</a></span></div><div class=\"rtl children\"><div class=\"contnr c3  rtl  \" ><div class=\"lbl c3  \" ><span class=\"nd\">verse </span></div><div class=\"features\"><span class=\"book xft\" ><span class=\"f\">book=</span>Genesis</span><span class=\"chapter xft\" ><span class=\"f\">chapter=</span>1</span><span class=\"verse xft\" ><span class=\"f\">verse=</span>1</span></div><div class=\"children hor wrap rtl\"><div class=\"contnr c2  rtl  hl\" ><div class=\"lbl c2  hl\" ><span class=\"nd\">sentence </span> <span class=\"\"><span title=\"number\">1</span></span></div><div class=\"children hor wrap rtl\"><div class=\"contnr c2  rtl  \" ><div class=\"lbl c2  \" ><span class=\"nd\">clause </span> <span class=\"\"><span title=\"typ\">xQtX</span> <span title=\"rela\">NA</span></span></div><div class=\"children hor wrap rtl\"><div class=\"contnr c1  rtl  \" ><div class=\"lbl c1  \" ><span class=\"nd\">phrase </span> <span class=\"\"><span title=\"typ\">PP</span> <span title=\"function\">Time</span></span></div><div class=\"children hor wrap rtl\"><div class=\"contnr c0 trm rtl  \" ><div class=\"lbl c0 trm \" ><a class=\" txtu hbo\" target=\"_blank\" href=\"https://shebanq.ancient-data.org/hebrew/word?version=2021&amp;id=1B\" title=\"Show this on SHEBANQ\"><span class=\"txtu hbo\">בְּ</span></a></div></div><div class=\"contnr c0 trm rtl  \" ><div class=\"lbl c0 trm \" ><a class=\" txtu hbo\" target=\"_blank\" href=\"https://shebanq.ancient-data.org/hebrew/word?version=2021&amp;id=1RACJTn\" title=\"Show this on SHEBANQ\"><span class=\"txtu hbo\">רֵאשִׁ֖ית </span></a></div><div class=\"features\"><span class=\"nu xft\" ><span class=\"f\">nu=</span>sg</span></div></div></div></div><div class=\"contnr c1  rtl  \" ><div class=\"lbl c1  \" ><span class=\"nd\">phrase </span> <span class=\"\"><span title=\"typ\">VP</span> <span title=\"function\">Pred</span></span></div><div class=\"children hor wrap rtl\"><div class=\"contnr c0 trm rtl  hl\"  style=\"background-color: lightsalmon;\" ><div class=\"lbl c0 trm hl\"  style=\"background-color: lightsalmon;\" ><a class=\" txtu hbo\" target=\"_blank\" href=\"https://shebanq.ancient-data.org/hebrew/word?version=2021&amp;id=1BRAv\" title=\"Show this on SHEBANQ\"><span class=\"txtu hbo\">בָּרָ֣א </span></a></div><div class=\"features\"><span class=\"nu xft\" ><span class=\"f\">nu=</span>sg</span></div></div></div></div><div class=\"contnr c1  rtl  \" ><div class=\"lbl c1  \" ><span class=\"nd\">phrase </span> <span class=\"\"><span title=\"typ\">NP</span> <span title=\"function\">Subj</span></span></div><div class=\"children hor wrap rtl\"><div class=\"contnr c0 trm rtl  hl\"  style=\"background-color: mediumaquamarine;\" ><div class=\"lbl c0 trm hl\"  style=\"background-color: mediumaquamarine;\" ><a class=\" txtu hbo\" target=\"_blank\" href=\"https://shebanq.ancient-data.org/hebrew/word?version=2021&amp;id=1ALHJMn\" title=\"Show this on SHEBANQ\"><span class=\"txtu hbo\">אֱלֹהִ֑ים </span></a></div><div class=\"features\"><span class=\"nu xft\" ><span class=\"f\">nu=</span>pl</span></div></div></div></div><div class=\"contnr c1  rtl  \" ><div class=\"lbl c1  \" ><span class=\"nd\">phrase </span> <span class=\"\"><span title=\"typ\">PP</span> <span title=\"function\">Objc</span></span></div><div class=\"children hor wrap rtl\"><div class=\"contnr c0 trm rtl  \" ><div class=\"lbl c0 trm \" ><a class=\" txtu hbo\" target=\"_blank\" href=\"https://shebanq.ancient-data.org/hebrew/word?version=2021&amp;id=1AT\" title=\"Show this on SHEBANQ\"><span class=\"txtu hbo\">אֵ֥ת </span></a></div></div><div class=\"contnr c0 trm rtl  \" ><div class=\"lbl c0 trm \" ><a class=\" txtu hbo\" target=\"_blank\" href=\"https://shebanq.ancient-data.org/hebrew/word?version=2021&amp;id=1H\" title=\"Show this on SHEBANQ\"><span class=\"txtu hbo\">הַ</span></a></div></div><div class=\"contnr c0 trm rtl  \" ><div class=\"lbl c0 trm \" ><a class=\" txtu hbo\" target=\"_blank\" href=\"https://shebanq.ancient-data.org/hebrew/word?version=2021&amp;id=1CMJMn\" title=\"Show this on SHEBANQ\"><span class=\"txtu hbo\">שָּׁמַ֖יִם </span></a></div><div class=\"features\"><span class=\"nu xft\" ><span class=\"f\">nu=</span>pl</span></div></div><div class=\"contnr c0 trm rtl  \" ><div class=\"lbl c0 trm \" ><a class=\" txtu hbo\" target=\"_blank\" href=\"https://shebanq.ancient-data.org/hebrew/word?version=2021&amp;id=1W\" title=\"Show this on SHEBANQ\"><span class=\"txtu hbo\">וְ</span></a></div></div><div class=\"contnr c0 trm rtl  \" ><div class=\"lbl c0 trm \" ><a class=\" txtu hbo\" target=\"_blank\" href=\"https://shebanq.ancient-data.org/hebrew/word?version=2021&amp;id=1AT\" title=\"Show this on SHEBANQ\"><span class=\"txtu hbo\">אֵ֥ת </span></a></div></div><div class=\"contnr c0 trm rtl  \" ><div class=\"lbl c0 trm \" ><a class=\" txtu hbo\" target=\"_blank\" href=\"https://shebanq.ancient-data.org/hebrew/word?version=2021&amp;id=1H\" title=\"Show this on SHEBANQ\"><span class=\"txtu hbo\">הָ</span></a></div></div><div class=\"contnr c0 trm rtl  \" ><div class=\"lbl c0 trm \" ><a class=\" txtu hbo\" target=\"_blank\" href=\"https://shebanq.ancient-data.org/hebrew/word?version=2021&amp;id=1ARYn\" title=\"Show this on SHEBANQ\"><span class=\"txtu hbo\">אָֽרֶץ׃ </span></a></div><div class=\"features\"><span class=\"nu xft\" ><span class=\"f\">nu=</span>sg</span></div></div></div></div></div></div></div></div></div></div></div>"
      ],
      "text/plain": [
       "<IPython.core.display.HTML object>"
      ]
     },
     "metadata": {},
     "output_type": "display_data"
    }
   ],
   "source": [
    "results = A.search(query)\n",
    "colorMap = {5: \"lightsalmon\", 6: \"mediumaquamarine\"}\n",
    "A.table(results, colorMap=colorMap)\n",
    "A.show(results, condensed=False, colorMap=colorMap)"
   ]
  },
  {
   "cell_type": "markdown",
   "metadata": {},
   "source": [
    "# Custom feature display\n",
    "\n",
    "We would like to see the gender, number and person for words.\n",
    "The way to do that, is to perform a `A.displaySetup(...)` first."
   ]
  },
  {
   "cell_type": "code",
   "execution_count": 27,
   "metadata": {
    "ExecuteTime": {
     "end_time": "2018-05-24T07:49:51.867815Z",
     "start_time": "2018-05-24T07:49:51.864197Z"
    }
   },
   "outputs": [],
   "source": [
    "A.displaySetup(\n",
    "    extraFeatures=\"ps gn nu\", colorMap={2: \"lightsalmon\", 3: \"mediumaquamarine\"}\n",
    ")"
   ]
  },
  {
   "cell_type": "code",
   "execution_count": 28,
   "metadata": {
    "ExecuteTime": {
     "end_time": "2018-05-24T07:49:53.189127Z",
     "start_time": "2018-05-24T07:49:53.176377Z"
    }
   },
   "outputs": [
    {
     "data": {
      "text/html": [
       "<p><b>result</b> <i>1</i>"
      ],
      "text/plain": [
       "<IPython.core.display.HTML object>"
      ]
     },
     "metadata": {},
     "output_type": "display_data"
    },
    {
     "data": {
      "text/html": [
       "<div class=\"tfsechead rtl\"><span class=\"ltr\"><a target=\"_blank\" href=\"https://shebanq.ancient-data.org/hebrew/text?book=Genesis&amp;chapter=1&amp;verse=1&amp;version=2021&amp;mr=m&amp;qw=q&amp;tp=txt_p&amp;tr=hb&amp;wget=v&amp;qget=v&amp;nget=vt\" title=\"Show this on SHEBANQ\" sec=\"Genesis\">Genesis</a></span></div><div class=\"rtl children\"><div class=\"contnr c4 trm rtl  \" ><div class=\"lbl c4 trm \" ><span class=\"nd\">book </span> <span class=\"txtu hbo\"><span class=\"tfsechead rtl\"><span class=\"ltr\">Genesis</span></span></span></div><div class=\"features\"><span class=\"book xft\" ><span class=\"f\">book=</span>Genesis</span></div></div></div>"
      ],
      "text/plain": [
       "<IPython.core.display.HTML object>"
      ]
     },
     "metadata": {},
     "output_type": "display_data"
    },
    {
     "data": {
      "text/html": [
       "<div class=\"tfsechead rtl\"><span class=\"ltr\"><a target=\"_blank\" href=\"https://shebanq.ancient-data.org/hebrew/text?book=Genesis&amp;chapter=1&amp;verse=1&amp;version=2021&amp;mr=m&amp;qw=q&amp;tp=txt_p&amp;tr=hb&amp;wget=v&amp;qget=v&amp;nget=vt\" title=\"Show this on SHEBANQ\" sec=\"Genesis 1\">Genesis 1</a></span></div><div class=\"rtl children\"><div class=\"contnr c4 trm rtl  \" ><div class=\"lbl c4 trm \" ><span class=\"nd\">chapter </span> <span class=\"txtu hbo\"><span class=\"tfsechead rtl\"><span class=\"ltr\">Genesis 1</span></span></span></div><div class=\"features\"><span class=\"book xft\" ><span class=\"f\">book=</span>Genesis</span><span class=\"chapter xft\" ><span class=\"f\">chapter=</span>1</span></div></div></div>"
      ],
      "text/plain": [
       "<IPython.core.display.HTML object>"
      ]
     },
     "metadata": {},
     "output_type": "display_data"
    },
    {
     "data": {
      "text/html": [
       "<div class=\"tfsechead rtl\"><span class=\"ltr\"><a target=\"_blank\" href=\"https://shebanq.ancient-data.org/hebrew/text?book=Genesis&amp;chapter=1&amp;verse=1&amp;version=2021&amp;mr=m&amp;qw=q&amp;tp=txt_p&amp;tr=hb&amp;wget=v&amp;qget=v&amp;nget=vt\" title=\"Show this on SHEBANQ\" sec=\"Genesis 1:1\">Genesis 1:1</a></span></div><div class=\"rtl children\"><div class=\"contnr c3  rtl  \" ><div class=\"lbl c3  \" ><span class=\"nd\">verse </span></div><div class=\"features\"><span class=\"book xft\" ><span class=\"f\">book=</span>Genesis</span><span class=\"chapter xft\" ><span class=\"f\">chapter=</span>1</span><span class=\"verse xft\" ><span class=\"f\">verse=</span>1</span></div><div class=\"children hor wrap rtl\"><div class=\"contnr c2  rtl  hl\" ><div class=\"lbl c2  hl\" ><span class=\"nd\">sentence </span> <span class=\"\"><span title=\"number\">1</span></span></div><div class=\"children hor wrap rtl\"><div class=\"contnr c2  rtl  \" ><div class=\"lbl c2  \" ><span class=\"nd\">clause </span> <span class=\"\"><span title=\"typ\">xQtX</span> <span title=\"rela\">NA</span></span></div><div class=\"children hor wrap rtl\"><div class=\"contnr c1  rtl  \" ><div class=\"lbl c1  \" ><span class=\"nd\">phrase </span> <span class=\"\"><span title=\"typ\">PP</span> <span title=\"function\">Time</span></span></div><div class=\"children hor wrap rtl\"><div class=\"contnr c0 trm rtl  \" ><div class=\"lbl c0 trm \" ><a class=\" txtu hbo\" target=\"_blank\" href=\"https://shebanq.ancient-data.org/hebrew/word?version=2021&amp;id=1B\" title=\"Show this on SHEBANQ\"><span class=\"txtu hbo\">בְּ</span></a></div></div><div class=\"contnr c0 trm rtl  \" ><div class=\"lbl c0 trm \" ><a class=\" txtu hbo\" target=\"_blank\" href=\"https://shebanq.ancient-data.org/hebrew/word?version=2021&amp;id=1RACJTn\" title=\"Show this on SHEBANQ\"><span class=\"txtu hbo\">רֵאשִׁ֖ית </span></a></div><div class=\"features\"><span class=\"gn xft\" ><span class=\"f\">gn=</span>f</span><span class=\"nu xft\" ><span class=\"f\">nu=</span>sg</span></div></div></div></div><div class=\"contnr c1  rtl  \" ><div class=\"lbl c1  \" ><span class=\"nd\">phrase </span> <span class=\"\"><span title=\"typ\">VP</span> <span title=\"function\">Pred</span></span></div><div class=\"children hor wrap rtl\"><div class=\"contnr c0 trm rtl  hl\" ><div class=\"lbl c0 trm hl\" ><a class=\" txtu hbo\" target=\"_blank\" href=\"https://shebanq.ancient-data.org/hebrew/word?version=2021&amp;id=1BRAv\" title=\"Show this on SHEBANQ\"><span class=\"txtu hbo\">בָּרָ֣א </span></a></div><div class=\"features\"><span class=\"gn xft\" ><span class=\"f\">gn=</span>m</span><span class=\"nu xft\" ><span class=\"f\">nu=</span>sg</span><span class=\"ps xft\" ><span class=\"f\">ps=</span>p3</span></div></div></div></div><div class=\"contnr c1  rtl  \" ><div class=\"lbl c1  \" ><span class=\"nd\">phrase </span> <span class=\"\"><span title=\"typ\">NP</span> <span title=\"function\">Subj</span></span></div><div class=\"children hor wrap rtl\"><div class=\"contnr c0 trm rtl  hl\" ><div class=\"lbl c0 trm hl\" ><a class=\" txtu hbo\" target=\"_blank\" href=\"https://shebanq.ancient-data.org/hebrew/word?version=2021&amp;id=1ALHJMn\" title=\"Show this on SHEBANQ\"><span class=\"txtu hbo\">אֱלֹהִ֑ים </span></a></div><div class=\"features\"><span class=\"gn xft\" ><span class=\"f\">gn=</span>m</span><span class=\"nu xft\" ><span class=\"f\">nu=</span>pl</span></div></div></div></div><div class=\"contnr c1  rtl  \" ><div class=\"lbl c1  \" ><span class=\"nd\">phrase </span> <span class=\"\"><span title=\"typ\">PP</span> <span title=\"function\">Objc</span></span></div><div class=\"children hor wrap rtl\"><div class=\"contnr c0 trm rtl  \" ><div class=\"lbl c0 trm \" ><a class=\" txtu hbo\" target=\"_blank\" href=\"https://shebanq.ancient-data.org/hebrew/word?version=2021&amp;id=1AT\" title=\"Show this on SHEBANQ\"><span class=\"txtu hbo\">אֵ֥ת </span></a></div></div><div class=\"contnr c0 trm rtl  \" ><div class=\"lbl c0 trm \" ><a class=\" txtu hbo\" target=\"_blank\" href=\"https://shebanq.ancient-data.org/hebrew/word?version=2021&amp;id=1H\" title=\"Show this on SHEBANQ\"><span class=\"txtu hbo\">הַ</span></a></div></div><div class=\"contnr c0 trm rtl  \" ><div class=\"lbl c0 trm \" ><a class=\" txtu hbo\" target=\"_blank\" href=\"https://shebanq.ancient-data.org/hebrew/word?version=2021&amp;id=1CMJMn\" title=\"Show this on SHEBANQ\"><span class=\"txtu hbo\">שָּׁמַ֖יִם </span></a></div><div class=\"features\"><span class=\"gn xft\" ><span class=\"f\">gn=</span>m</span><span class=\"nu xft\" ><span class=\"f\">nu=</span>pl</span></div></div><div class=\"contnr c0 trm rtl  \" ><div class=\"lbl c0 trm \" ><a class=\" txtu hbo\" target=\"_blank\" href=\"https://shebanq.ancient-data.org/hebrew/word?version=2021&amp;id=1W\" title=\"Show this on SHEBANQ\"><span class=\"txtu hbo\">וְ</span></a></div></div><div class=\"contnr c0 trm rtl  \" ><div class=\"lbl c0 trm \" ><a class=\" txtu hbo\" target=\"_blank\" href=\"https://shebanq.ancient-data.org/hebrew/word?version=2021&amp;id=1AT\" title=\"Show this on SHEBANQ\"><span class=\"txtu hbo\">אֵ֥ת </span></a></div></div><div class=\"contnr c0 trm rtl  \" ><div class=\"lbl c0 trm \" ><a class=\" txtu hbo\" target=\"_blank\" href=\"https://shebanq.ancient-data.org/hebrew/word?version=2021&amp;id=1H\" title=\"Show this on SHEBANQ\"><span class=\"txtu hbo\">הָ</span></a></div></div><div class=\"contnr c0 trm rtl  \" ><div class=\"lbl c0 trm \" ><a class=\" txtu hbo\" target=\"_blank\" href=\"https://shebanq.ancient-data.org/hebrew/word?version=2021&amp;id=1ARYn\" title=\"Show this on SHEBANQ\"><span class=\"txtu hbo\">אָֽרֶץ׃ </span></a></div><div class=\"features\"><span class=\"nu xft\" ><span class=\"f\">nu=</span>sg</span></div></div></div></div></div></div></div></div></div></div></div>"
      ],
      "text/plain": [
       "<IPython.core.display.HTML object>"
      ]
     },
     "metadata": {},
     "output_type": "display_data"
    }
   ],
   "source": [
    "A.show(results, condensed=False)"
   ]
  },
  {
   "cell_type": "markdown",
   "metadata": {},
   "source": [
    "The features without meaningful values have been left out. We can also change that by passing a set of values\n",
    "we think are not meaningful. The default set is\n",
    "\n",
    "```python\n",
    "{None, 'NA', 'none', 'unknown'}\n",
    "```"
   ]
  },
  {
   "cell_type": "code",
   "execution_count": 29,
   "metadata": {
    "ExecuteTime": {
     "end_time": "2018-05-24T07:49:56.593302Z",
     "start_time": "2018-05-24T07:49:56.579038Z"
    }
   },
   "outputs": [
    {
     "data": {
      "text/html": [
       "<p><b>result</b> <i>1</i>"
      ],
      "text/plain": [
       "<IPython.core.display.HTML object>"
      ]
     },
     "metadata": {},
     "output_type": "display_data"
    },
    {
     "data": {
      "text/html": [
       "<div class=\"tfsechead rtl\"><span class=\"ltr\"><a target=\"_blank\" href=\"https://shebanq.ancient-data.org/hebrew/text?book=Genesis&amp;chapter=1&amp;verse=1&amp;version=2021&amp;mr=m&amp;qw=q&amp;tp=txt_p&amp;tr=hb&amp;wget=v&amp;qget=v&amp;nget=vt\" title=\"Show this on SHEBANQ\" sec=\"Genesis\">Genesis</a></span></div><div class=\"rtl children\"><div class=\"contnr c4 trm rtl  \" ><div class=\"lbl c4 trm \" ><span class=\"nd\">book </span> <span class=\"txtu hbo\"><span class=\"tfsechead rtl\"><span class=\"ltr\">Genesis</span></span></span></div><div class=\"features\"><span class=\"book xft\" ><span class=\"f\">book=</span>Genesis</span><span class=\"chapter xft\" ><span class=\"f\">chapter=</span></span><span class=\"gn xft\" ><span class=\"f\">gn=</span></span><span class=\"nu xft\" ><span class=\"f\">nu=</span></span><span class=\"ps xft\" ><span class=\"f\">ps=</span></span><span class=\"verse xft\" ><span class=\"f\">verse=</span></span></div></div></div>"
      ],
      "text/plain": [
       "<IPython.core.display.HTML object>"
      ]
     },
     "metadata": {},
     "output_type": "display_data"
    },
    {
     "data": {
      "text/html": [
       "<div class=\"tfsechead rtl\"><span class=\"ltr\"><a target=\"_blank\" href=\"https://shebanq.ancient-data.org/hebrew/text?book=Genesis&amp;chapter=1&amp;verse=1&amp;version=2021&amp;mr=m&amp;qw=q&amp;tp=txt_p&amp;tr=hb&amp;wget=v&amp;qget=v&amp;nget=vt\" title=\"Show this on SHEBANQ\" sec=\"Genesis 1\">Genesis 1</a></span></div><div class=\"rtl children\"><div class=\"contnr c4 trm rtl  \" ><div class=\"lbl c4 trm \" ><span class=\"nd\">chapter </span> <span class=\"txtu hbo\"><span class=\"tfsechead rtl\"><span class=\"ltr\">Genesis 1</span></span></span></div><div class=\"features\"><span class=\"book xft\" ><span class=\"f\">book=</span>Genesis</span><span class=\"chapter xft\" ><span class=\"f\">chapter=</span>1</span><span class=\"gn xft\" ><span class=\"f\">gn=</span></span><span class=\"nu xft\" ><span class=\"f\">nu=</span></span><span class=\"ps xft\" ><span class=\"f\">ps=</span></span><span class=\"verse xft\" ><span class=\"f\">verse=</span></span></div></div></div>"
      ],
      "text/plain": [
       "<IPython.core.display.HTML object>"
      ]
     },
     "metadata": {},
     "output_type": "display_data"
    },
    {
     "data": {
      "text/html": [
       "<div class=\"tfsechead rtl\"><span class=\"ltr\"><a target=\"_blank\" href=\"https://shebanq.ancient-data.org/hebrew/text?book=Genesis&amp;chapter=1&amp;verse=1&amp;version=2021&amp;mr=m&amp;qw=q&amp;tp=txt_p&amp;tr=hb&amp;wget=v&amp;qget=v&amp;nget=vt\" title=\"Show this on SHEBANQ\" sec=\"Genesis 1:1\">Genesis 1:1</a></span></div><div class=\"rtl children\"><div class=\"contnr c3  rtl  \" ><div class=\"lbl c3  \" ><span class=\"nd\">verse </span></div><div class=\"features\"><span class=\"book xft\" ><span class=\"f\">book=</span>Genesis</span><span class=\"chapter xft\" ><span class=\"f\">chapter=</span>1</span><span class=\"gn xft\" ><span class=\"f\">gn=</span></span><span class=\"nu xft\" ><span class=\"f\">nu=</span></span><span class=\"ps xft\" ><span class=\"f\">ps=</span></span><span class=\"verse xft\" ><span class=\"f\">verse=</span>1</span></div><div class=\"children hor wrap rtl\"><div class=\"contnr c2  rtl  hl\" ><div class=\"lbl c2  hl\" ><span class=\"nd\">sentence </span> <span class=\"\"><span title=\"number\">1</span></span></div><div class=\"features\"><span class=\"book xft\" ><span class=\"f\">book=</span></span><span class=\"chapter xft\" ><span class=\"f\">chapter=</span></span><span class=\"gn xft\" ><span class=\"f\">gn=</span></span><span class=\"nu xft\" ><span class=\"f\">nu=</span></span><span class=\"ps xft\" ><span class=\"f\">ps=</span></span><span class=\"verse xft\" ><span class=\"f\">verse=</span></span></div><div class=\"children hor wrap rtl\"><div class=\"contnr c2  rtl  \" ><div class=\"lbl c2  \" ><span class=\"nd\">clause </span> <span class=\"\"><span title=\"typ\">xQtX</span> <span title=\"rela\">NA</span></span></div><div class=\"features\"><span class=\"book xft\" ><span class=\"f\">book=</span></span><span class=\"chapter xft\" ><span class=\"f\">chapter=</span></span><span class=\"gn xft\" ><span class=\"f\">gn=</span></span><span class=\"nu xft\" ><span class=\"f\">nu=</span></span><span class=\"ps xft\" ><span class=\"f\">ps=</span></span><span class=\"verse xft\" ><span class=\"f\">verse=</span></span></div><div class=\"children hor wrap rtl\"><div class=\"contnr c1  rtl  \" ><div class=\"lbl c1  \" ><span class=\"nd\">phrase </span> <span class=\"\"><span title=\"typ\">PP</span> <span title=\"function\">Time</span></span></div><div class=\"features\"><span class=\"book xft\" ><span class=\"f\">book=</span></span><span class=\"chapter xft\" ><span class=\"f\">chapter=</span></span><span class=\"gn xft\" ><span class=\"f\">gn=</span></span><span class=\"nu xft\" ><span class=\"f\">nu=</span></span><span class=\"ps xft\" ><span class=\"f\">ps=</span></span><span class=\"verse xft\" ><span class=\"f\">verse=</span></span></div><div class=\"children hor wrap rtl\"><div class=\"contnr c0 trm rtl  \" ><div class=\"lbl c0 trm \" ><a class=\" txtu hbo\" target=\"_blank\" href=\"https://shebanq.ancient-data.org/hebrew/word?version=2021&amp;id=1B\" title=\"Show this on SHEBANQ\"><span class=\"txtu hbo\">בְּ</span></a></div><div class=\"features\"><span class=\"book xft\" ><span class=\"f\">book=</span></span><span class=\"chapter xft\" ><span class=\"f\">chapter=</span></span><span class=\"gn xft\" ><span class=\"f\">gn=</span>NA</span><span class=\"nu xft\" ><span class=\"f\">nu=</span>NA</span><span class=\"ps xft\" ><span class=\"f\">ps=</span>NA</span><span class=\"verse xft\" ><span class=\"f\">verse=</span></span></div></div><div class=\"contnr c0 trm rtl  \" ><div class=\"lbl c0 trm \" ><a class=\" txtu hbo\" target=\"_blank\" href=\"https://shebanq.ancient-data.org/hebrew/word?version=2021&amp;id=1RACJTn\" title=\"Show this on SHEBANQ\"><span class=\"txtu hbo\">רֵאשִׁ֖ית </span></a></div><div class=\"features\"><span class=\"book xft\" ><span class=\"f\">book=</span></span><span class=\"chapter xft\" ><span class=\"f\">chapter=</span></span><span class=\"gn xft\" ><span class=\"f\">gn=</span>f</span><span class=\"nu xft\" ><span class=\"f\">nu=</span>sg</span><span class=\"ps xft\" ><span class=\"f\">ps=</span>NA</span><span class=\"verse xft\" ><span class=\"f\">verse=</span></span></div></div></div></div><div class=\"contnr c1  rtl  \" ><div class=\"lbl c1  \" ><span class=\"nd\">phrase </span> <span class=\"\"><span title=\"typ\">VP</span> <span title=\"function\">Pred</span></span></div><div class=\"features\"><span class=\"book xft\" ><span class=\"f\">book=</span></span><span class=\"chapter xft\" ><span class=\"f\">chapter=</span></span><span class=\"gn xft\" ><span class=\"f\">gn=</span></span><span class=\"nu xft\" ><span class=\"f\">nu=</span></span><span class=\"ps xft\" ><span class=\"f\">ps=</span></span><span class=\"verse xft\" ><span class=\"f\">verse=</span></span></div><div class=\"children hor wrap rtl\"><div class=\"contnr c0 trm rtl  hl\" ><div class=\"lbl c0 trm hl\" ><a class=\" txtu hbo\" target=\"_blank\" href=\"https://shebanq.ancient-data.org/hebrew/word?version=2021&amp;id=1BRAv\" title=\"Show this on SHEBANQ\"><span class=\"txtu hbo\">בָּרָ֣א </span></a></div><div class=\"features\"><span class=\"book xft\" ><span class=\"f\">book=</span></span><span class=\"chapter xft\" ><span class=\"f\">chapter=</span></span><span class=\"gn xft\" ><span class=\"f\">gn=</span>m</span><span class=\"nu xft\" ><span class=\"f\">nu=</span>sg</span><span class=\"ps xft\" ><span class=\"f\">ps=</span>p3</span><span class=\"verse xft\" ><span class=\"f\">verse=</span></span></div></div></div></div><div class=\"contnr c1  rtl  \" ><div class=\"lbl c1  \" ><span class=\"nd\">phrase </span> <span class=\"\"><span title=\"typ\">NP</span> <span title=\"function\">Subj</span></span></div><div class=\"features\"><span class=\"book xft\" ><span class=\"f\">book=</span></span><span class=\"chapter xft\" ><span class=\"f\">chapter=</span></span><span class=\"gn xft\" ><span class=\"f\">gn=</span></span><span class=\"nu xft\" ><span class=\"f\">nu=</span></span><span class=\"ps xft\" ><span class=\"f\">ps=</span></span><span class=\"verse xft\" ><span class=\"f\">verse=</span></span></div><div class=\"children hor wrap rtl\"><div class=\"contnr c0 trm rtl  hl\" ><div class=\"lbl c0 trm hl\" ><a class=\" txtu hbo\" target=\"_blank\" href=\"https://shebanq.ancient-data.org/hebrew/word?version=2021&amp;id=1ALHJMn\" title=\"Show this on SHEBANQ\"><span class=\"txtu hbo\">אֱלֹהִ֑ים </span></a></div><div class=\"features\"><span class=\"book xft\" ><span class=\"f\">book=</span></span><span class=\"chapter xft\" ><span class=\"f\">chapter=</span></span><span class=\"gn xft\" ><span class=\"f\">gn=</span>m</span><span class=\"nu xft\" ><span class=\"f\">nu=</span>pl</span><span class=\"ps xft\" ><span class=\"f\">ps=</span>NA</span><span class=\"verse xft\" ><span class=\"f\">verse=</span></span></div></div></div></div><div class=\"contnr c1  rtl  \" ><div class=\"lbl c1  \" ><span class=\"nd\">phrase </span> <span class=\"\"><span title=\"typ\">PP</span> <span title=\"function\">Objc</span></span></div><div class=\"features\"><span class=\"book xft\" ><span class=\"f\">book=</span></span><span class=\"chapter xft\" ><span class=\"f\">chapter=</span></span><span class=\"gn xft\" ><span class=\"f\">gn=</span></span><span class=\"nu xft\" ><span class=\"f\">nu=</span></span><span class=\"ps xft\" ><span class=\"f\">ps=</span></span><span class=\"verse xft\" ><span class=\"f\">verse=</span></span></div><div class=\"children hor wrap rtl\"><div class=\"contnr c0 trm rtl  \" ><div class=\"lbl c0 trm \" ><a class=\" txtu hbo\" target=\"_blank\" href=\"https://shebanq.ancient-data.org/hebrew/word?version=2021&amp;id=1AT\" title=\"Show this on SHEBANQ\"><span class=\"txtu hbo\">אֵ֥ת </span></a></div><div class=\"features\"><span class=\"book xft\" ><span class=\"f\">book=</span></span><span class=\"chapter xft\" ><span class=\"f\">chapter=</span></span><span class=\"gn xft\" ><span class=\"f\">gn=</span>NA</span><span class=\"nu xft\" ><span class=\"f\">nu=</span>NA</span><span class=\"ps xft\" ><span class=\"f\">ps=</span>NA</span><span class=\"verse xft\" ><span class=\"f\">verse=</span></span></div></div><div class=\"contnr c0 trm rtl  \" ><div class=\"lbl c0 trm \" ><a class=\" txtu hbo\" target=\"_blank\" href=\"https://shebanq.ancient-data.org/hebrew/word?version=2021&amp;id=1H\" title=\"Show this on SHEBANQ\"><span class=\"txtu hbo\">הַ</span></a></div><div class=\"features\"><span class=\"book xft\" ><span class=\"f\">book=</span></span><span class=\"chapter xft\" ><span class=\"f\">chapter=</span></span><span class=\"gn xft\" ><span class=\"f\">gn=</span>NA</span><span class=\"nu xft\" ><span class=\"f\">nu=</span>NA</span><span class=\"ps xft\" ><span class=\"f\">ps=</span>NA</span><span class=\"verse xft\" ><span class=\"f\">verse=</span></span></div></div><div class=\"contnr c0 trm rtl  \" ><div class=\"lbl c0 trm \" ><a class=\" txtu hbo\" target=\"_blank\" href=\"https://shebanq.ancient-data.org/hebrew/word?version=2021&amp;id=1CMJMn\" title=\"Show this on SHEBANQ\"><span class=\"txtu hbo\">שָּׁמַ֖יִם </span></a></div><div class=\"features\"><span class=\"book xft\" ><span class=\"f\">book=</span></span><span class=\"chapter xft\" ><span class=\"f\">chapter=</span></span><span class=\"gn xft\" ><span class=\"f\">gn=</span>m</span><span class=\"nu xft\" ><span class=\"f\">nu=</span>pl</span><span class=\"ps xft\" ><span class=\"f\">ps=</span>NA</span><span class=\"verse xft\" ><span class=\"f\">verse=</span></span></div></div><div class=\"contnr c0 trm rtl  \" ><div class=\"lbl c0 trm \" ><a class=\" txtu hbo\" target=\"_blank\" href=\"https://shebanq.ancient-data.org/hebrew/word?version=2021&amp;id=1W\" title=\"Show this on SHEBANQ\"><span class=\"txtu hbo\">וְ</span></a></div><div class=\"features\"><span class=\"book xft\" ><span class=\"f\">book=</span></span><span class=\"chapter xft\" ><span class=\"f\">chapter=</span></span><span class=\"gn xft\" ><span class=\"f\">gn=</span>NA</span><span class=\"nu xft\" ><span class=\"f\">nu=</span>NA</span><span class=\"ps xft\" ><span class=\"f\">ps=</span>NA</span><span class=\"verse xft\" ><span class=\"f\">verse=</span></span></div></div><div class=\"contnr c0 trm rtl  \" ><div class=\"lbl c0 trm \" ><a class=\" txtu hbo\" target=\"_blank\" href=\"https://shebanq.ancient-data.org/hebrew/word?version=2021&amp;id=1AT\" title=\"Show this on SHEBANQ\"><span class=\"txtu hbo\">אֵ֥ת </span></a></div><div class=\"features\"><span class=\"book xft\" ><span class=\"f\">book=</span></span><span class=\"chapter xft\" ><span class=\"f\">chapter=</span></span><span class=\"gn xft\" ><span class=\"f\">gn=</span>NA</span><span class=\"nu xft\" ><span class=\"f\">nu=</span>NA</span><span class=\"ps xft\" ><span class=\"f\">ps=</span>NA</span><span class=\"verse xft\" ><span class=\"f\">verse=</span></span></div></div><div class=\"contnr c0 trm rtl  \" ><div class=\"lbl c0 trm \" ><a class=\" txtu hbo\" target=\"_blank\" href=\"https://shebanq.ancient-data.org/hebrew/word?version=2021&amp;id=1H\" title=\"Show this on SHEBANQ\"><span class=\"txtu hbo\">הָ</span></a></div><div class=\"features\"><span class=\"book xft\" ><span class=\"f\">book=</span></span><span class=\"chapter xft\" ><span class=\"f\">chapter=</span></span><span class=\"gn xft\" ><span class=\"f\">gn=</span>NA</span><span class=\"nu xft\" ><span class=\"f\">nu=</span>NA</span><span class=\"ps xft\" ><span class=\"f\">ps=</span>NA</span><span class=\"verse xft\" ><span class=\"f\">verse=</span></span></div></div><div class=\"contnr c0 trm rtl  \" ><div class=\"lbl c0 trm \" ><a class=\" txtu hbo\" target=\"_blank\" href=\"https://shebanq.ancient-data.org/hebrew/word?version=2021&amp;id=1ARYn\" title=\"Show this on SHEBANQ\"><span class=\"txtu hbo\">אָֽרֶץ׃ </span></a></div><div class=\"features\"><span class=\"book xft\" ><span class=\"f\">book=</span></span><span class=\"chapter xft\" ><span class=\"f\">chapter=</span></span><span class=\"gn xft\" ><span class=\"f\">gn=</span>unknown</span><span class=\"nu xft\" ><span class=\"f\">nu=</span>sg</span><span class=\"ps xft\" ><span class=\"f\">ps=</span>NA</span><span class=\"verse xft\" ><span class=\"f\">verse=</span></span></div></div></div></div></div></div></div></div></div></div></div>"
      ],
      "text/plain": [
       "<IPython.core.display.HTML object>"
      ]
     },
     "metadata": {},
     "output_type": "display_data"
    }
   ],
   "source": [
    "A.displaySetup(noneValues=set())\n",
    "A.show(results, condensed=False)"
   ]
  },
  {
   "cell_type": "markdown",
   "metadata": {},
   "source": [
    "This makes clear that it is convenient to keep `None` in the `noneValues`:"
   ]
  },
  {
   "cell_type": "code",
   "execution_count": 30,
   "metadata": {
    "ExecuteTime": {
     "end_time": "2018-05-24T07:50:03.094084Z",
     "start_time": "2018-05-24T07:50:03.080237Z"
    }
   },
   "outputs": [
    {
     "data": {
      "text/html": [
       "<p><b>result</b> <i>1</i>"
      ],
      "text/plain": [
       "<IPython.core.display.HTML object>"
      ]
     },
     "metadata": {},
     "output_type": "display_data"
    },
    {
     "data": {
      "text/html": [
       "<div class=\"tfsechead rtl\"><span class=\"ltr\"><a target=\"_blank\" href=\"https://shebanq.ancient-data.org/hebrew/text?book=Genesis&amp;chapter=1&amp;verse=1&amp;version=2021&amp;mr=m&amp;qw=q&amp;tp=txt_p&amp;tr=hb&amp;wget=v&amp;qget=v&amp;nget=vt\" title=\"Show this on SHEBANQ\" sec=\"Genesis\">Genesis</a></span></div><div class=\"rtl children\"><div class=\"contnr c4 trm rtl  \" ><div class=\"lbl c4 trm \" ><span class=\"nd\">book </span> <span class=\"txtu hbo\"><span class=\"tfsechead rtl\"><span class=\"ltr\">Genesis</span></span></span></div><div class=\"features\"><span class=\"book xft\" ><span class=\"f\">book=</span>Genesis</span></div></div></div>"
      ],
      "text/plain": [
       "<IPython.core.display.HTML object>"
      ]
     },
     "metadata": {},
     "output_type": "display_data"
    },
    {
     "data": {
      "text/html": [
       "<div class=\"tfsechead rtl\"><span class=\"ltr\"><a target=\"_blank\" href=\"https://shebanq.ancient-data.org/hebrew/text?book=Genesis&amp;chapter=1&amp;verse=1&amp;version=2021&amp;mr=m&amp;qw=q&amp;tp=txt_p&amp;tr=hb&amp;wget=v&amp;qget=v&amp;nget=vt\" title=\"Show this on SHEBANQ\" sec=\"Genesis 1\">Genesis 1</a></span></div><div class=\"rtl children\"><div class=\"contnr c4 trm rtl  \" ><div class=\"lbl c4 trm \" ><span class=\"nd\">chapter </span> <span class=\"txtu hbo\"><span class=\"tfsechead rtl\"><span class=\"ltr\">Genesis 1</span></span></span></div><div class=\"features\"><span class=\"book xft\" ><span class=\"f\">book=</span>Genesis</span><span class=\"chapter xft\" ><span class=\"f\">chapter=</span>1</span></div></div></div>"
      ],
      "text/plain": [
       "<IPython.core.display.HTML object>"
      ]
     },
     "metadata": {},
     "output_type": "display_data"
    },
    {
     "data": {
      "text/html": [
       "<div class=\"tfsechead rtl\"><span class=\"ltr\"><a target=\"_blank\" href=\"https://shebanq.ancient-data.org/hebrew/text?book=Genesis&amp;chapter=1&amp;verse=1&amp;version=2021&amp;mr=m&amp;qw=q&amp;tp=txt_p&amp;tr=hb&amp;wget=v&amp;qget=v&amp;nget=vt\" title=\"Show this on SHEBANQ\" sec=\"Genesis 1:1\">Genesis 1:1</a></span></div><div class=\"rtl children\"><div class=\"contnr c3  rtl  \" ><div class=\"lbl c3  \" ><span class=\"nd\">verse </span></div><div class=\"features\"><span class=\"book xft\" ><span class=\"f\">book=</span>Genesis</span><span class=\"chapter xft\" ><span class=\"f\">chapter=</span>1</span><span class=\"verse xft\" ><span class=\"f\">verse=</span>1</span></div><div class=\"children hor wrap rtl\"><div class=\"contnr c2  rtl  hl\" ><div class=\"lbl c2  hl\" ><span class=\"nd\">sentence </span> <span class=\"\"><span title=\"number\">1</span></span></div><div class=\"children hor wrap rtl\"><div class=\"contnr c2  rtl  \" ><div class=\"lbl c2  \" ><span class=\"nd\">clause </span> <span class=\"\"><span title=\"typ\">xQtX</span> <span title=\"rela\">NA</span></span></div><div class=\"children hor wrap rtl\"><div class=\"contnr c1  rtl  \" ><div class=\"lbl c1  \" ><span class=\"nd\">phrase </span> <span class=\"\"><span title=\"typ\">PP</span> <span title=\"function\">Time</span></span></div><div class=\"children hor wrap rtl\"><div class=\"contnr c0 trm rtl  \" ><div class=\"lbl c0 trm \" ><a class=\" txtu hbo\" target=\"_blank\" href=\"https://shebanq.ancient-data.org/hebrew/word?version=2021&amp;id=1B\" title=\"Show this on SHEBANQ\"><span class=\"txtu hbo\">בְּ</span></a></div><div class=\"features\"><span class=\"gn xft\" ><span class=\"f\">gn=</span>NA</span><span class=\"nu xft\" ><span class=\"f\">nu=</span>NA</span><span class=\"ps xft\" ><span class=\"f\">ps=</span>NA</span></div></div><div class=\"contnr c0 trm rtl  \" ><div class=\"lbl c0 trm \" ><a class=\" txtu hbo\" target=\"_blank\" href=\"https://shebanq.ancient-data.org/hebrew/word?version=2021&amp;id=1RACJTn\" title=\"Show this on SHEBANQ\"><span class=\"txtu hbo\">רֵאשִׁ֖ית </span></a></div><div class=\"features\"><span class=\"gn xft\" ><span class=\"f\">gn=</span>f</span><span class=\"nu xft\" ><span class=\"f\">nu=</span>sg</span><span class=\"ps xft\" ><span class=\"f\">ps=</span>NA</span></div></div></div></div><div class=\"contnr c1  rtl  \" ><div class=\"lbl c1  \" ><span class=\"nd\">phrase </span> <span class=\"\"><span title=\"typ\">VP</span> <span title=\"function\">Pred</span></span></div><div class=\"children hor wrap rtl\"><div class=\"contnr c0 trm rtl  hl\" ><div class=\"lbl c0 trm hl\" ><a class=\" txtu hbo\" target=\"_blank\" href=\"https://shebanq.ancient-data.org/hebrew/word?version=2021&amp;id=1BRAv\" title=\"Show this on SHEBANQ\"><span class=\"txtu hbo\">בָּרָ֣א </span></a></div><div class=\"features\"><span class=\"gn xft\" ><span class=\"f\">gn=</span>m</span><span class=\"nu xft\" ><span class=\"f\">nu=</span>sg</span><span class=\"ps xft\" ><span class=\"f\">ps=</span>p3</span></div></div></div></div><div class=\"contnr c1  rtl  \" ><div class=\"lbl c1  \" ><span class=\"nd\">phrase </span> <span class=\"\"><span title=\"typ\">NP</span> <span title=\"function\">Subj</span></span></div><div class=\"children hor wrap rtl\"><div class=\"contnr c0 trm rtl  hl\" ><div class=\"lbl c0 trm hl\" ><a class=\" txtu hbo\" target=\"_blank\" href=\"https://shebanq.ancient-data.org/hebrew/word?version=2021&amp;id=1ALHJMn\" title=\"Show this on SHEBANQ\"><span class=\"txtu hbo\">אֱלֹהִ֑ים </span></a></div><div class=\"features\"><span class=\"gn xft\" ><span class=\"f\">gn=</span>m</span><span class=\"nu xft\" ><span class=\"f\">nu=</span>pl</span><span class=\"ps xft\" ><span class=\"f\">ps=</span>NA</span></div></div></div></div><div class=\"contnr c1  rtl  \" ><div class=\"lbl c1  \" ><span class=\"nd\">phrase </span> <span class=\"\"><span title=\"typ\">PP</span> <span title=\"function\">Objc</span></span></div><div class=\"children hor wrap rtl\"><div class=\"contnr c0 trm rtl  \" ><div class=\"lbl c0 trm \" ><a class=\" txtu hbo\" target=\"_blank\" href=\"https://shebanq.ancient-data.org/hebrew/word?version=2021&amp;id=1AT\" title=\"Show this on SHEBANQ\"><span class=\"txtu hbo\">אֵ֥ת </span></a></div><div class=\"features\"><span class=\"gn xft\" ><span class=\"f\">gn=</span>NA</span><span class=\"nu xft\" ><span class=\"f\">nu=</span>NA</span><span class=\"ps xft\" ><span class=\"f\">ps=</span>NA</span></div></div><div class=\"contnr c0 trm rtl  \" ><div class=\"lbl c0 trm \" ><a class=\" txtu hbo\" target=\"_blank\" href=\"https://shebanq.ancient-data.org/hebrew/word?version=2021&amp;id=1H\" title=\"Show this on SHEBANQ\"><span class=\"txtu hbo\">הַ</span></a></div><div class=\"features\"><span class=\"gn xft\" ><span class=\"f\">gn=</span>NA</span><span class=\"nu xft\" ><span class=\"f\">nu=</span>NA</span><span class=\"ps xft\" ><span class=\"f\">ps=</span>NA</span></div></div><div class=\"contnr c0 trm rtl  \" ><div class=\"lbl c0 trm \" ><a class=\" txtu hbo\" target=\"_blank\" href=\"https://shebanq.ancient-data.org/hebrew/word?version=2021&amp;id=1CMJMn\" title=\"Show this on SHEBANQ\"><span class=\"txtu hbo\">שָּׁמַ֖יִם </span></a></div><div class=\"features\"><span class=\"gn xft\" ><span class=\"f\">gn=</span>m</span><span class=\"nu xft\" ><span class=\"f\">nu=</span>pl</span><span class=\"ps xft\" ><span class=\"f\">ps=</span>NA</span></div></div><div class=\"contnr c0 trm rtl  \" ><div class=\"lbl c0 trm \" ><a class=\" txtu hbo\" target=\"_blank\" href=\"https://shebanq.ancient-data.org/hebrew/word?version=2021&amp;id=1W\" title=\"Show this on SHEBANQ\"><span class=\"txtu hbo\">וְ</span></a></div><div class=\"features\"><span class=\"gn xft\" ><span class=\"f\">gn=</span>NA</span><span class=\"nu xft\" ><span class=\"f\">nu=</span>NA</span><span class=\"ps xft\" ><span class=\"f\">ps=</span>NA</span></div></div><div class=\"contnr c0 trm rtl  \" ><div class=\"lbl c0 trm \" ><a class=\" txtu hbo\" target=\"_blank\" href=\"https://shebanq.ancient-data.org/hebrew/word?version=2021&amp;id=1AT\" title=\"Show this on SHEBANQ\"><span class=\"txtu hbo\">אֵ֥ת </span></a></div><div class=\"features\"><span class=\"gn xft\" ><span class=\"f\">gn=</span>NA</span><span class=\"nu xft\" ><span class=\"f\">nu=</span>NA</span><span class=\"ps xft\" ><span class=\"f\">ps=</span>NA</span></div></div><div class=\"contnr c0 trm rtl  \" ><div class=\"lbl c0 trm \" ><a class=\" txtu hbo\" target=\"_blank\" href=\"https://shebanq.ancient-data.org/hebrew/word?version=2021&amp;id=1H\" title=\"Show this on SHEBANQ\"><span class=\"txtu hbo\">הָ</span></a></div><div class=\"features\"><span class=\"gn xft\" ><span class=\"f\">gn=</span>NA</span><span class=\"nu xft\" ><span class=\"f\">nu=</span>NA</span><span class=\"ps xft\" ><span class=\"f\">ps=</span>NA</span></div></div><div class=\"contnr c0 trm rtl  \" ><div class=\"lbl c0 trm \" ><a class=\" txtu hbo\" target=\"_blank\" href=\"https://shebanq.ancient-data.org/hebrew/word?version=2021&amp;id=1ARYn\" title=\"Show this on SHEBANQ\"><span class=\"txtu hbo\">אָֽרֶץ׃ </span></a></div><div class=\"features\"><span class=\"gn xft\" ><span class=\"f\">gn=</span>unknown</span><span class=\"nu xft\" ><span class=\"f\">nu=</span>sg</span><span class=\"ps xft\" ><span class=\"f\">ps=</span>NA</span></div></div></div></div></div></div></div></div></div></div></div>"
      ],
      "text/plain": [
       "<IPython.core.display.HTML object>"
      ]
     },
     "metadata": {},
     "output_type": "display_data"
    }
   ],
   "source": [
    "A.displaySetup(noneValues={None})\n",
    "A.show(results, condensed=False)"
   ]
  },
  {
   "cell_type": "markdown",
   "metadata": {},
   "source": [
    "We can even choose to suppress other values, e.g. the male gender values and the singular number values."
   ]
  },
  {
   "cell_type": "code",
   "execution_count": 31,
   "metadata": {
    "ExecuteTime": {
     "end_time": "2018-05-24T07:50:08.244221Z",
     "start_time": "2018-05-24T07:50:08.232311Z"
    }
   },
   "outputs": [
    {
     "data": {
      "text/html": [
       "<p><b>result</b> <i>1</i>"
      ],
      "text/plain": [
       "<IPython.core.display.HTML object>"
      ]
     },
     "metadata": {},
     "output_type": "display_data"
    },
    {
     "data": {
      "text/html": [
       "<div class=\"tfsechead rtl\"><span class=\"ltr\"><a target=\"_blank\" href=\"https://shebanq.ancient-data.org/hebrew/text?book=Genesis&amp;chapter=1&amp;verse=1&amp;version=2021&amp;mr=m&amp;qw=q&amp;tp=txt_p&amp;tr=hb&amp;wget=v&amp;qget=v&amp;nget=vt\" title=\"Show this on SHEBANQ\" sec=\"Genesis\">Genesis</a></span></div><div class=\"rtl children\"><div class=\"contnr c4 trm rtl  \" ><div class=\"lbl c4 trm \" ><span class=\"nd\">book </span> <span class=\"txtu hbo\"><span class=\"tfsechead rtl\"><span class=\"ltr\">Genesis</span></span></span></div><div class=\"features\"><span class=\"book xft\" ><span class=\"f\">book=</span>Genesis</span></div></div></div>"
      ],
      "text/plain": [
       "<IPython.core.display.HTML object>"
      ]
     },
     "metadata": {},
     "output_type": "display_data"
    },
    {
     "data": {
      "text/html": [
       "<div class=\"tfsechead rtl\"><span class=\"ltr\"><a target=\"_blank\" href=\"https://shebanq.ancient-data.org/hebrew/text?book=Genesis&amp;chapter=1&amp;verse=1&amp;version=2021&amp;mr=m&amp;qw=q&amp;tp=txt_p&amp;tr=hb&amp;wget=v&amp;qget=v&amp;nget=vt\" title=\"Show this on SHEBANQ\" sec=\"Genesis 1\">Genesis 1</a></span></div><div class=\"rtl children\"><div class=\"contnr c4 trm rtl  \" ><div class=\"lbl c4 trm \" ><span class=\"nd\">chapter </span> <span class=\"txtu hbo\"><span class=\"tfsechead rtl\"><span class=\"ltr\">Genesis 1</span></span></span></div><div class=\"features\"><span class=\"book xft\" ><span class=\"f\">book=</span>Genesis</span><span class=\"chapter xft\" ><span class=\"f\">chapter=</span>1</span></div></div></div>"
      ],
      "text/plain": [
       "<IPython.core.display.HTML object>"
      ]
     },
     "metadata": {},
     "output_type": "display_data"
    },
    {
     "data": {
      "text/html": [
       "<div class=\"tfsechead rtl\"><span class=\"ltr\"><a target=\"_blank\" href=\"https://shebanq.ancient-data.org/hebrew/text?book=Genesis&amp;chapter=1&amp;verse=1&amp;version=2021&amp;mr=m&amp;qw=q&amp;tp=txt_p&amp;tr=hb&amp;wget=v&amp;qget=v&amp;nget=vt\" title=\"Show this on SHEBANQ\" sec=\"Genesis 1:1\">Genesis 1:1</a></span></div><div class=\"rtl children\"><div class=\"contnr c3  rtl  \" ><div class=\"lbl c3  \" ><span class=\"nd\">verse </span></div><div class=\"features\"><span class=\"book xft\" ><span class=\"f\">book=</span>Genesis</span><span class=\"chapter xft\" ><span class=\"f\">chapter=</span>1</span><span class=\"verse xft\" ><span class=\"f\">verse=</span>1</span></div><div class=\"children hor wrap rtl\"><div class=\"contnr c2  rtl  hl\" ><div class=\"lbl c2  hl\" ><span class=\"nd\">sentence </span> <span class=\"\"><span title=\"number\">1</span></span></div><div class=\"children hor wrap rtl\"><div class=\"contnr c2  rtl  \" ><div class=\"lbl c2  \" ><span class=\"nd\">clause </span> <span class=\"\"><span title=\"typ\">xQtX</span> <span title=\"rela\">NA</span></span></div><div class=\"children hor wrap rtl\"><div class=\"contnr c1  rtl  \" ><div class=\"lbl c1  \" ><span class=\"nd\">phrase </span> <span class=\"\"><span title=\"typ\">PP</span> <span title=\"function\">Time</span></span></div><div class=\"children hor wrap rtl\"><div class=\"contnr c0 trm rtl  \" ><div class=\"lbl c0 trm \" ><a class=\" txtu hbo\" target=\"_blank\" href=\"https://shebanq.ancient-data.org/hebrew/word?version=2021&amp;id=1B\" title=\"Show this on SHEBANQ\"><span class=\"txtu hbo\">בְּ</span></a></div></div><div class=\"contnr c0 trm rtl  \" ><div class=\"lbl c0 trm \" ><a class=\" txtu hbo\" target=\"_blank\" href=\"https://shebanq.ancient-data.org/hebrew/word?version=2021&amp;id=1RACJTn\" title=\"Show this on SHEBANQ\"><span class=\"txtu hbo\">רֵאשִׁ֖ית </span></a></div><div class=\"features\"><span class=\"gn xft\" ><span class=\"f\">gn=</span>f</span></div></div></div></div><div class=\"contnr c1  rtl  \" ><div class=\"lbl c1  \" ><span class=\"nd\">phrase </span> <span class=\"\"><span title=\"typ\">VP</span> <span title=\"function\">Pred</span></span></div><div class=\"children hor wrap rtl\"><div class=\"contnr c0 trm rtl  hl\" ><div class=\"lbl c0 trm hl\" ><a class=\" txtu hbo\" target=\"_blank\" href=\"https://shebanq.ancient-data.org/hebrew/word?version=2021&amp;id=1BRAv\" title=\"Show this on SHEBANQ\"><span class=\"txtu hbo\">בָּרָ֣א </span></a></div><div class=\"features\"><span class=\"ps xft\" ><span class=\"f\">ps=</span>p3</span></div></div></div></div><div class=\"contnr c1  rtl  \" ><div class=\"lbl c1  \" ><span class=\"nd\">phrase </span> <span class=\"\"><span title=\"typ\">NP</span> <span title=\"function\">Subj</span></span></div><div class=\"children hor wrap rtl\"><div class=\"contnr c0 trm rtl  hl\" ><div class=\"lbl c0 trm hl\" ><a class=\" txtu hbo\" target=\"_blank\" href=\"https://shebanq.ancient-data.org/hebrew/word?version=2021&amp;id=1ALHJMn\" title=\"Show this on SHEBANQ\"><span class=\"txtu hbo\">אֱלֹהִ֑ים </span></a></div><div class=\"features\"><span class=\"nu xft\" ><span class=\"f\">nu=</span>pl</span></div></div></div></div><div class=\"contnr c1  rtl  \" ><div class=\"lbl c1  \" ><span class=\"nd\">phrase </span> <span class=\"\"><span title=\"typ\">PP</span> <span title=\"function\">Objc</span></span></div><div class=\"children hor wrap rtl\"><div class=\"contnr c0 trm rtl  \" ><div class=\"lbl c0 trm \" ><a class=\" txtu hbo\" target=\"_blank\" href=\"https://shebanq.ancient-data.org/hebrew/word?version=2021&amp;id=1AT\" title=\"Show this on SHEBANQ\"><span class=\"txtu hbo\">אֵ֥ת </span></a></div></div><div class=\"contnr c0 trm rtl  \" ><div class=\"lbl c0 trm \" ><a class=\" txtu hbo\" target=\"_blank\" href=\"https://shebanq.ancient-data.org/hebrew/word?version=2021&amp;id=1H\" title=\"Show this on SHEBANQ\"><span class=\"txtu hbo\">הַ</span></a></div></div><div class=\"contnr c0 trm rtl  \" ><div class=\"lbl c0 trm \" ><a class=\" txtu hbo\" target=\"_blank\" href=\"https://shebanq.ancient-data.org/hebrew/word?version=2021&amp;id=1CMJMn\" title=\"Show this on SHEBANQ\"><span class=\"txtu hbo\">שָּׁמַ֖יִם </span></a></div><div class=\"features\"><span class=\"nu xft\" ><span class=\"f\">nu=</span>pl</span></div></div><div class=\"contnr c0 trm rtl  \" ><div class=\"lbl c0 trm \" ><a class=\" txtu hbo\" target=\"_blank\" href=\"https://shebanq.ancient-data.org/hebrew/word?version=2021&amp;id=1W\" title=\"Show this on SHEBANQ\"><span class=\"txtu hbo\">וְ</span></a></div></div><div class=\"contnr c0 trm rtl  \" ><div class=\"lbl c0 trm \" ><a class=\" txtu hbo\" target=\"_blank\" href=\"https://shebanq.ancient-data.org/hebrew/word?version=2021&amp;id=1AT\" title=\"Show this on SHEBANQ\"><span class=\"txtu hbo\">אֵ֥ת </span></a></div></div><div class=\"contnr c0 trm rtl  \" ><div class=\"lbl c0 trm \" ><a class=\" txtu hbo\" target=\"_blank\" href=\"https://shebanq.ancient-data.org/hebrew/word?version=2021&amp;id=1H\" title=\"Show this on SHEBANQ\"><span class=\"txtu hbo\">הָ</span></a></div></div><div class=\"contnr c0 trm rtl  \" ><div class=\"lbl c0 trm \" ><a class=\" txtu hbo\" target=\"_blank\" href=\"https://shebanq.ancient-data.org/hebrew/word?version=2021&amp;id=1ARYn\" title=\"Show this on SHEBANQ\"><span class=\"txtu hbo\">אָֽרֶץ׃ </span></a></div></div></div></div></div></div></div></div></div></div></div>"
      ],
      "text/plain": [
       "<IPython.core.display.HTML object>"
      ]
     },
     "metadata": {},
     "output_type": "display_data"
    }
   ],
   "source": [
    "A.displaySetup(noneValues={None, \"NA\", \"unknown\", \"none\", \"m\", \"sg\"})\n",
    "A.show(results, condensed=False)"
   ]
  },
  {
   "cell_type": "markdown",
   "metadata": {},
   "source": [
    "In the rest of the notebook we stick to our normal setup, so we reset the extra features."
   ]
  },
  {
   "cell_type": "code",
   "execution_count": 32,
   "metadata": {
    "ExecuteTime": {
     "end_time": "2018-05-24T07:50:18.030145Z",
     "start_time": "2018-05-24T07:50:18.019245Z"
    }
   },
   "outputs": [
    {
     "data": {
      "text/html": [
       "<p><b>result</b> <i>1</i>"
      ],
      "text/plain": [
       "<IPython.core.display.HTML object>"
      ]
     },
     "metadata": {},
     "output_type": "display_data"
    },
    {
     "data": {
      "text/html": [
       "<div class=\"tfsechead rtl\"><span class=\"ltr\"><a target=\"_blank\" href=\"https://shebanq.ancient-data.org/hebrew/text?book=Genesis&amp;chapter=1&amp;verse=1&amp;version=2021&amp;mr=m&amp;qw=q&amp;tp=txt_p&amp;tr=hb&amp;wget=v&amp;qget=v&amp;nget=vt\" title=\"Show this on SHEBANQ\" sec=\"Genesis\">Genesis</a></span></div><div class=\"rtl children\"><div class=\"contnr c4 trm rtl  \" ><div class=\"lbl c4 trm \" ><span class=\"nd\">book </span> <span class=\"txtu hbo\"><span class=\"tfsechead rtl\"><span class=\"ltr\">Genesis</span></span></span></div><div class=\"features\"><span class=\"book xft\" ><span class=\"f\">book=</span>Genesis</span></div></div></div>"
      ],
      "text/plain": [
       "<IPython.core.display.HTML object>"
      ]
     },
     "metadata": {},
     "output_type": "display_data"
    },
    {
     "data": {
      "text/html": [
       "<div class=\"tfsechead rtl\"><span class=\"ltr\"><a target=\"_blank\" href=\"https://shebanq.ancient-data.org/hebrew/text?book=Genesis&amp;chapter=1&amp;verse=1&amp;version=2021&amp;mr=m&amp;qw=q&amp;tp=txt_p&amp;tr=hb&amp;wget=v&amp;qget=v&amp;nget=vt\" title=\"Show this on SHEBANQ\" sec=\"Genesis 1\">Genesis 1</a></span></div><div class=\"rtl children\"><div class=\"contnr c4 trm rtl  \" ><div class=\"lbl c4 trm \" ><span class=\"nd\">chapter </span> <span class=\"txtu hbo\"><span class=\"tfsechead rtl\"><span class=\"ltr\">Genesis 1</span></span></span></div><div class=\"features\"><span class=\"book xft\" ><span class=\"f\">book=</span>Genesis</span><span class=\"chapter xft\" ><span class=\"f\">chapter=</span>1</span></div></div></div>"
      ],
      "text/plain": [
       "<IPython.core.display.HTML object>"
      ]
     },
     "metadata": {},
     "output_type": "display_data"
    },
    {
     "data": {
      "text/html": [
       "<div class=\"tfsechead rtl\"><span class=\"ltr\"><a target=\"_blank\" href=\"https://shebanq.ancient-data.org/hebrew/text?book=Genesis&amp;chapter=1&amp;verse=1&amp;version=2021&amp;mr=m&amp;qw=q&amp;tp=txt_p&amp;tr=hb&amp;wget=v&amp;qget=v&amp;nget=vt\" title=\"Show this on SHEBANQ\" sec=\"Genesis 1:1\">Genesis 1:1</a></span></div><div class=\"rtl children\"><div class=\"contnr c3  rtl  \" ><div class=\"lbl c3  \" ><span class=\"nd\">verse </span></div><div class=\"features\"><span class=\"book xft\" ><span class=\"f\">book=</span>Genesis</span><span class=\"chapter xft\" ><span class=\"f\">chapter=</span>1</span><span class=\"verse xft\" ><span class=\"f\">verse=</span>1</span></div><div class=\"children hor wrap rtl\"><div class=\"contnr c2  rtl  hl\" ><div class=\"lbl c2  hl\" ><span class=\"nd\">sentence </span> <span class=\"\"><span title=\"number\">1</span></span></div><div class=\"children hor wrap rtl\"><div class=\"contnr c2  rtl  \" ><div class=\"lbl c2  \" ><span class=\"nd\">clause </span> <span class=\"\"><span title=\"typ\">xQtX</span> <span title=\"rela\">NA</span></span></div><div class=\"children hor wrap rtl\"><div class=\"contnr c1  rtl  \" ><div class=\"lbl c1  \" ><span class=\"nd\">phrase </span> <span class=\"\"><span title=\"typ\">PP</span> <span title=\"function\">Time</span></span></div><div class=\"children hor wrap rtl\"><div class=\"contnr c0 trm rtl  \" ><div class=\"lbl c0 trm \" ><a class=\" txtu hbo\" target=\"_blank\" href=\"https://shebanq.ancient-data.org/hebrew/word?version=2021&amp;id=1B\" title=\"Show this on SHEBANQ\"><span class=\"txtu hbo\">בְּ</span></a></div></div><div class=\"contnr c0 trm rtl  \" ><div class=\"lbl c0 trm \" ><a class=\" txtu hbo\" target=\"_blank\" href=\"https://shebanq.ancient-data.org/hebrew/word?version=2021&amp;id=1RACJTn\" title=\"Show this on SHEBANQ\"><span class=\"txtu hbo\">רֵאשִׁ֖ית </span></a></div></div></div></div><div class=\"contnr c1  rtl  \" ><div class=\"lbl c1  \" ><span class=\"nd\">phrase </span> <span class=\"\"><span title=\"typ\">VP</span> <span title=\"function\">Pred</span></span></div><div class=\"children hor wrap rtl\"><div class=\"contnr c0 trm rtl  hl\" ><div class=\"lbl c0 trm hl\" ><a class=\" txtu hbo\" target=\"_blank\" href=\"https://shebanq.ancient-data.org/hebrew/word?version=2021&amp;id=1BRAv\" title=\"Show this on SHEBANQ\"><span class=\"txtu hbo\">בָּרָ֣א </span></a></div></div></div></div><div class=\"contnr c1  rtl  \" ><div class=\"lbl c1  \" ><span class=\"nd\">phrase </span> <span class=\"\"><span title=\"typ\">NP</span> <span title=\"function\">Subj</span></span></div><div class=\"children hor wrap rtl\"><div class=\"contnr c0 trm rtl  hl\" ><div class=\"lbl c0 trm hl\" ><a class=\" txtu hbo\" target=\"_blank\" href=\"https://shebanq.ancient-data.org/hebrew/word?version=2021&amp;id=1ALHJMn\" title=\"Show this on SHEBANQ\"><span class=\"txtu hbo\">אֱלֹהִ֑ים </span></a></div><div class=\"features\"><span class=\"nu xft\" ><span class=\"f\">nu=</span>pl</span></div></div></div></div><div class=\"contnr c1  rtl  \" ><div class=\"lbl c1  \" ><span class=\"nd\">phrase </span> <span class=\"\"><span title=\"typ\">PP</span> <span title=\"function\">Objc</span></span></div><div class=\"children hor wrap rtl\"><div class=\"contnr c0 trm rtl  \" ><div class=\"lbl c0 trm \" ><a class=\" txtu hbo\" target=\"_blank\" href=\"https://shebanq.ancient-data.org/hebrew/word?version=2021&amp;id=1AT\" title=\"Show this on SHEBANQ\"><span class=\"txtu hbo\">אֵ֥ת </span></a></div></div><div class=\"contnr c0 trm rtl  \" ><div class=\"lbl c0 trm \" ><a class=\" txtu hbo\" target=\"_blank\" href=\"https://shebanq.ancient-data.org/hebrew/word?version=2021&amp;id=1H\" title=\"Show this on SHEBANQ\"><span class=\"txtu hbo\">הַ</span></a></div></div><div class=\"contnr c0 trm rtl  \" ><div class=\"lbl c0 trm \" ><a class=\" txtu hbo\" target=\"_blank\" href=\"https://shebanq.ancient-data.org/hebrew/word?version=2021&amp;id=1CMJMn\" title=\"Show this on SHEBANQ\"><span class=\"txtu hbo\">שָּׁמַ֖יִם </span></a></div><div class=\"features\"><span class=\"nu xft\" ><span class=\"f\">nu=</span>pl</span></div></div><div class=\"contnr c0 trm rtl  \" ><div class=\"lbl c0 trm \" ><a class=\" txtu hbo\" target=\"_blank\" href=\"https://shebanq.ancient-data.org/hebrew/word?version=2021&amp;id=1W\" title=\"Show this on SHEBANQ\"><span class=\"txtu hbo\">וְ</span></a></div></div><div class=\"contnr c0 trm rtl  \" ><div class=\"lbl c0 trm \" ><a class=\" txtu hbo\" target=\"_blank\" href=\"https://shebanq.ancient-data.org/hebrew/word?version=2021&amp;id=1AT\" title=\"Show this on SHEBANQ\"><span class=\"txtu hbo\">אֵ֥ת </span></a></div></div><div class=\"contnr c0 trm rtl  \" ><div class=\"lbl c0 trm \" ><a class=\" txtu hbo\" target=\"_blank\" href=\"https://shebanq.ancient-data.org/hebrew/word?version=2021&amp;id=1H\" title=\"Show this on SHEBANQ\"><span class=\"txtu hbo\">הָ</span></a></div></div><div class=\"contnr c0 trm rtl  \" ><div class=\"lbl c0 trm \" ><a class=\" txtu hbo\" target=\"_blank\" href=\"https://shebanq.ancient-data.org/hebrew/word?version=2021&amp;id=1ARYn\" title=\"Show this on SHEBANQ\"><span class=\"txtu hbo\">אָֽרֶץ׃ </span></a></div></div></div></div></div></div></div></div></div></div></div>"
      ],
      "text/plain": [
       "<IPython.core.display.HTML object>"
      ]
     },
     "metadata": {},
     "output_type": "display_data"
    }
   ],
   "source": [
    "A.displayReset(\"extraFeatures\")\n",
    "A.show(results, condensed=False)"
   ]
  },
  {
   "cell_type": "markdown",
   "metadata": {},
   "source": [
    "Now we completely reset the display customization."
   ]
  },
  {
   "cell_type": "code",
   "execution_count": 33,
   "metadata": {},
   "outputs": [],
   "source": [
    "A.displayReset()"
   ]
  },
  {
   "cell_type": "markdown",
   "metadata": {},
   "source": [
    "## Only display selected query features\n",
    "\n",
    "Sometimes you want to show only some query features, but not all.\n",
    "\n",
    "For example, after this query ..."
   ]
  },
  {
   "cell_type": "code",
   "execution_count": 34,
   "metadata": {},
   "outputs": [
    {
     "name": "stdout",
     "output_type": "stream",
     "text": [
      "  0.20s 5992 results\n"
     ]
    }
   ],
   "source": [
    "results = A.search(\"\"\"\n",
    "word gn=f nu=pl sp=subs\n",
    "\"\"\")"
   ]
  },
  {
   "cell_type": "markdown",
   "metadata": {},
   "source": [
    "you want to show the `nu` feature, but not the `gn` and `sp` features:"
   ]
  },
  {
   "cell_type": "code",
   "execution_count": 35,
   "metadata": {},
   "outputs": [
    {
     "data": {
      "text/html": [
       "<p><b>result</b> <i>1</i>"
      ],
      "text/plain": [
       "<IPython.core.display.HTML object>"
      ]
     },
     "metadata": {},
     "output_type": "display_data"
    },
    {
     "data": {
      "text/html": [
       "<div class=\"tfsechead rtl\"><span class=\"ltr\"><a target=\"_blank\" href=\"https://shebanq.ancient-data.org/hebrew/text?book=Genesis&amp;chapter=1&amp;verse=14&amp;version=2021&amp;mr=m&amp;qw=q&amp;tp=txt_p&amp;tr=hb&amp;wget=v&amp;qget=v&amp;nget=vt\" title=\"Show this on SHEBANQ\" sec=\"Genesis 1:14\">Genesis 1:14</a></span></div><div class=\"rtl children\"><div class=\"contnr c2  rtl  \" ><div class=\"lbl c2  \" ><span class=\"nd\">clause </span> <span class=\"\"><span title=\"typ\">WQt0</span> <span title=\"rela\">NA</span></span></div><div class=\"children hor wrap rtl\"><div class=\"contnr c1  rtl  \" ><div class=\"lbl c1  \" ><span class=\"nd\">phrase </span> <span class=\"\"><span title=\"typ\">CP</span> <span title=\"function\">Conj</span></span></div><div class=\"children hor wrap rtl\"><div class=\"contnr c0 trm rtl  \" ><div class=\"lbl c0 trm \" ><a class=\" txtu hbo\" target=\"_blank\" href=\"https://shebanq.ancient-data.org/hebrew/word?version=2021&amp;id=1W\" title=\"Show this on SHEBANQ\"><span class=\"txtu hbo\">וְ</span></a></div></div></div></div><div class=\"contnr c1  rtl  \" ><div class=\"lbl c1  \" ><span class=\"nd\">phrase </span> <span class=\"\"><span title=\"typ\">VP</span> <span title=\"function\">Pred</span></span></div><div class=\"children hor wrap rtl\"><div class=\"contnr c0 trm rtl  \" ><div class=\"lbl c0 trm \" ><a class=\" txtu hbo\" target=\"_blank\" href=\"https://shebanq.ancient-data.org/hebrew/word?version=2021&amp;id=1HJHv\" title=\"Show this on SHEBANQ\"><span class=\"txtu hbo\">הָי֤וּ </span></a></div><div class=\"features\"><span class=\"nu xft\" ><span class=\"f\">nu=</span>pl</span></div></div></div></div><div class=\"contnr c1  rtl  \" ><div class=\"lbl c1  \" ><span class=\"nd\">phrase </span> <span class=\"\"><span title=\"typ\">PP</span> <span title=\"function\">Cmpl</span></span></div><div class=\"children hor wrap rtl\"><div class=\"contnr c0 trm rtl  \" ><div class=\"lbl c0 trm \" ><a class=\" txtu hbo\" target=\"_blank\" href=\"https://shebanq.ancient-data.org/hebrew/word?version=2021&amp;id=1L\" title=\"Show this on SHEBANQ\"><span class=\"txtu hbo\">לְ</span></a></div></div><div class=\"contnr c0 trm rtl  hl\" ><div class=\"lbl c0 trm hl\" ><a class=\" txtu hbo\" target=\"_blank\" href=\"https://shebanq.ancient-data.org/hebrew/word?version=2021&amp;id=1AWTn\" title=\"Show this on SHEBANQ\"><span class=\"txtu hbo\">אֹתֹת֙ </span></a></div><div class=\"features\"><span class=\"nu xft\" ><span class=\"f\">nu=</span>pl</span></div></div><div class=\"contnr c0 trm rtl  \" ><div class=\"lbl c0 trm \" ><a class=\" txtu hbo\" target=\"_blank\" href=\"https://shebanq.ancient-data.org/hebrew/word?version=2021&amp;id=1W\" title=\"Show this on SHEBANQ\"><span class=\"txtu hbo\">וּ</span></a></div></div><div class=\"contnr c0 trm rtl  \" ><div class=\"lbl c0 trm \" ><a class=\" txtu hbo\" target=\"_blank\" href=\"https://shebanq.ancient-data.org/hebrew/word?version=2021&amp;id=1L\" title=\"Show this on SHEBANQ\"><span class=\"txtu hbo\">לְ</span></a></div></div><div class=\"contnr c0 trm rtl  \" ><div class=\"lbl c0 trm \" ><a class=\" txtu hbo\" target=\"_blank\" href=\"https://shebanq.ancient-data.org/hebrew/word?version=2021&amp;id=1MWODn\" title=\"Show this on SHEBANQ\"><span class=\"txtu hbo\">מֹ֣ועֲדִ֔ים </span></a></div><div class=\"features\"><span class=\"nu xft\" ><span class=\"f\">nu=</span>pl</span></div></div><div class=\"contnr c0 trm rtl  \" ><div class=\"lbl c0 trm \" ><a class=\" txtu hbo\" target=\"_blank\" href=\"https://shebanq.ancient-data.org/hebrew/word?version=2021&amp;id=1W\" title=\"Show this on SHEBANQ\"><span class=\"txtu hbo\">וּ</span></a></div></div><div class=\"contnr c0 trm rtl  \" ><div class=\"lbl c0 trm \" ><a class=\" txtu hbo\" target=\"_blank\" href=\"https://shebanq.ancient-data.org/hebrew/word?version=2021&amp;id=1L\" title=\"Show this on SHEBANQ\"><span class=\"txtu hbo\">לְ</span></a></div></div><div class=\"contnr c0 trm rtl  \" ><div class=\"lbl c0 trm \" ><a class=\" txtu hbo\" target=\"_blank\" href=\"https://shebanq.ancient-data.org/hebrew/word?version=2021&amp;id=1JWMn\" title=\"Show this on SHEBANQ\"><span class=\"txtu hbo\">יָמִ֖ים </span></a></div><div class=\"features\"><span class=\"nu xft\" ><span class=\"f\">nu=</span>pl</span></div></div><div class=\"contnr c0 trm rtl  \" ><div class=\"lbl c0 trm \" ><a class=\" txtu hbo\" target=\"_blank\" href=\"https://shebanq.ancient-data.org/hebrew/word?version=2021&amp;id=1W\" title=\"Show this on SHEBANQ\"><span class=\"txtu hbo\">וְ</span></a></div></div><div class=\"contnr c0 trm rtl  \" ><div class=\"lbl c0 trm \" ><a class=\" txtu hbo\" target=\"_blank\" href=\"https://shebanq.ancient-data.org/hebrew/word?version=2021&amp;id=1CNHn\" title=\"Show this on SHEBANQ\"><span class=\"txtu hbo\">שָׁנִֽים׃ </span></a></div><div class=\"features\"><span class=\"nu xft\" ><span class=\"f\">nu=</span>pl</span></div></div></div></div></div></div></div>"
      ],
      "text/plain": [
       "<IPython.core.display.HTML object>"
      ]
     },
     "metadata": {},
     "output_type": "display_data"
    }
   ],
   "source": [
    "A.show(results, end=1, condenseType=\"clause\", queryFeatures=False, extraFeatures=\"nu\") "
   ]
  },
  {
   "cell_type": "markdown",
   "metadata": {},
   "source": [
    "An other way to achieve this is by means of `tupleFeatures`.\n",
    "Before we do that, let's examine the value of `tupleFeatures` in the current display setup:"
   ]
  },
  {
   "cell_type": "code",
   "execution_count": 36,
   "metadata": {},
   "outputs": [
    {
     "name": "stdout",
     "output_type": "stream",
     "text": [
      "tupleFeatures = ((0, ('gn', 'nu', 'sp')),)\n"
     ]
    }
   ],
   "source": [
    "A.displaySetup(\"tupleFeatures\")"
   ]
  },
  {
   "cell_type": "markdown",
   "metadata": {},
   "source": [
    "Ah, here are the features stored in the last query."
   ]
  },
  {
   "cell_type": "code",
   "execution_count": 37,
   "metadata": {},
   "outputs": [
    {
     "data": {
      "text/html": [
       "<p><b>result</b> <i>1</i>"
      ],
      "text/plain": [
       "<IPython.core.display.HTML object>"
      ]
     },
     "metadata": {},
     "output_type": "display_data"
    },
    {
     "data": {
      "text/html": [
       "<div class=\"tfsechead rtl\"><span class=\"ltr\"><a target=\"_blank\" href=\"https://shebanq.ancient-data.org/hebrew/text?book=Genesis&amp;chapter=1&amp;verse=14&amp;version=2021&amp;mr=m&amp;qw=q&amp;tp=txt_p&amp;tr=hb&amp;wget=v&amp;qget=v&amp;nget=vt\" title=\"Show this on SHEBANQ\" sec=\"Genesis 1:14\">Genesis 1:14</a></span></div><div class=\"rtl children\"><div class=\"contnr c2  rtl  \" ><div class=\"lbl c2  \" ><span class=\"nd\">clause </span> <span class=\"\"><span title=\"typ\">WQt0</span> <span title=\"rela\">NA</span></span></div><div class=\"children hor wrap rtl\"><div class=\"contnr c1  rtl  \" ><div class=\"lbl c1  \" ><span class=\"nd\">phrase </span> <span class=\"\"><span title=\"typ\">CP</span> <span title=\"function\">Conj</span></span></div><div class=\"children hor wrap rtl\"><div class=\"contnr c0 trm rtl  \" ><div class=\"lbl c0 trm \" ><a class=\" txtu hbo\" target=\"_blank\" href=\"https://shebanq.ancient-data.org/hebrew/word?version=2021&amp;id=1W\" title=\"Show this on SHEBANQ\"><span class=\"txtu hbo\">וְ</span></a></div></div></div></div><div class=\"contnr c1  rtl  \" ><div class=\"lbl c1  \" ><span class=\"nd\">phrase </span> <span class=\"\"><span title=\"typ\">VP</span> <span title=\"function\">Pred</span></span></div><div class=\"children hor wrap rtl\"><div class=\"contnr c0 trm rtl  \" ><div class=\"lbl c0 trm \" ><a class=\" txtu hbo\" target=\"_blank\" href=\"https://shebanq.ancient-data.org/hebrew/word?version=2021&amp;id=1HJHv\" title=\"Show this on SHEBANQ\"><span class=\"txtu hbo\">הָי֤וּ </span></a></div><div class=\"features\"><span class=\"nu xft\" ><span class=\"f\">nu=</span>pl</span></div></div></div></div><div class=\"contnr c1  rtl  \" ><div class=\"lbl c1  \" ><span class=\"nd\">phrase </span> <span class=\"\"><span title=\"typ\">PP</span> <span title=\"function\">Cmpl</span></span></div><div class=\"children hor wrap rtl\"><div class=\"contnr c0 trm rtl  \" ><div class=\"lbl c0 trm \" ><a class=\" txtu hbo\" target=\"_blank\" href=\"https://shebanq.ancient-data.org/hebrew/word?version=2021&amp;id=1L\" title=\"Show this on SHEBANQ\"><span class=\"txtu hbo\">לְ</span></a></div></div><div class=\"contnr c0 trm rtl  hl\" ><div class=\"lbl c0 trm hl\" ><a class=\" txtu hbo\" target=\"_blank\" href=\"https://shebanq.ancient-data.org/hebrew/word?version=2021&amp;id=1AWTn\" title=\"Show this on SHEBANQ\"><span class=\"txtu hbo\">אֹתֹת֙ </span></a></div><div class=\"features\"><span class=\"nu xft\" ><span class=\"f\">nu=</span>pl</span></div></div><div class=\"contnr c0 trm rtl  \" ><div class=\"lbl c0 trm \" ><a class=\" txtu hbo\" target=\"_blank\" href=\"https://shebanq.ancient-data.org/hebrew/word?version=2021&amp;id=1W\" title=\"Show this on SHEBANQ\"><span class=\"txtu hbo\">וּ</span></a></div></div><div class=\"contnr c0 trm rtl  \" ><div class=\"lbl c0 trm \" ><a class=\" txtu hbo\" target=\"_blank\" href=\"https://shebanq.ancient-data.org/hebrew/word?version=2021&amp;id=1L\" title=\"Show this on SHEBANQ\"><span class=\"txtu hbo\">לְ</span></a></div></div><div class=\"contnr c0 trm rtl  \" ><div class=\"lbl c0 trm \" ><a class=\" txtu hbo\" target=\"_blank\" href=\"https://shebanq.ancient-data.org/hebrew/word?version=2021&amp;id=1MWODn\" title=\"Show this on SHEBANQ\"><span class=\"txtu hbo\">מֹ֣ועֲדִ֔ים </span></a></div><div class=\"features\"><span class=\"nu xft\" ><span class=\"f\">nu=</span>pl</span></div></div><div class=\"contnr c0 trm rtl  \" ><div class=\"lbl c0 trm \" ><a class=\" txtu hbo\" target=\"_blank\" href=\"https://shebanq.ancient-data.org/hebrew/word?version=2021&amp;id=1W\" title=\"Show this on SHEBANQ\"><span class=\"txtu hbo\">וּ</span></a></div></div><div class=\"contnr c0 trm rtl  \" ><div class=\"lbl c0 trm \" ><a class=\" txtu hbo\" target=\"_blank\" href=\"https://shebanq.ancient-data.org/hebrew/word?version=2021&amp;id=1L\" title=\"Show this on SHEBANQ\"><span class=\"txtu hbo\">לְ</span></a></div></div><div class=\"contnr c0 trm rtl  \" ><div class=\"lbl c0 trm \" ><a class=\" txtu hbo\" target=\"_blank\" href=\"https://shebanq.ancient-data.org/hebrew/word?version=2021&amp;id=1JWMn\" title=\"Show this on SHEBANQ\"><span class=\"txtu hbo\">יָמִ֖ים </span></a></div><div class=\"features\"><span class=\"nu xft\" ><span class=\"f\">nu=</span>pl</span></div></div><div class=\"contnr c0 trm rtl  \" ><div class=\"lbl c0 trm \" ><a class=\" txtu hbo\" target=\"_blank\" href=\"https://shebanq.ancient-data.org/hebrew/word?version=2021&amp;id=1W\" title=\"Show this on SHEBANQ\"><span class=\"txtu hbo\">וְ</span></a></div></div><div class=\"contnr c0 trm rtl  \" ><div class=\"lbl c0 trm \" ><a class=\" txtu hbo\" target=\"_blank\" href=\"https://shebanq.ancient-data.org/hebrew/word?version=2021&amp;id=1CNHn\" title=\"Show this on SHEBANQ\"><span class=\"txtu hbo\">שָׁנִֽים׃ </span></a></div><div class=\"features\"><span class=\"nu xft\" ><span class=\"f\">nu=</span>pl</span></div></div></div></div></div></div></div>"
      ],
      "text/plain": [
       "<IPython.core.display.HTML object>"
      ]
     },
     "metadata": {},
     "output_type": "display_data"
    }
   ],
   "source": [
    "A.show(results, end=1, condenseType=\"clause\", tupleFeatures=\"nu\") "
   ]
  },
  {
   "cell_type": "markdown",
   "metadata": {},
   "source": [
    "# Show your own tuples\n",
    "\n",
    "So far we have show the results of searches with `show()`.\n",
    "But you can also construct your own tuples and show them.\n",
    "\n",
    "Whereas you can use search to get a pretty good approximation of what you want, most of the times\n",
    "you do not arrive precisely at your destination.\n",
    "\n",
    "Here is an example where we use search to come close, and then work our way to produce the end result.\n",
    "\n",
    "## Disagreement in number\n",
    "\n",
    "We look for clauses with a one-word subject that does not agree in number with its predicate.\n",
    "\n",
    "In our search templates we cannot formulate that a feature has different values on two nodes in the template.\n",
    "We could spell out all possible combinations of values and make a search template for each of them,\n",
    "but that is needlessly complex.\n",
    "\n",
    "Let's first use search to find all clauses containing a one word subject and a predicate.\n",
    "And, to narrow down it further, we require that the word in the subject and the verb in the predicate are\n",
    "marked for number.\n",
    "\n",
    "(You may want to consult the feature docs, see the link at the start of the notebook, where `Bhsa()` is called).\n",
    "\n",
    "Note that the order of the phrases does not matter."
   ]
  },
  {
   "cell_type": "code",
   "execution_count": 38,
   "metadata": {
    "ExecuteTime": {
     "end_time": "2018-05-24T07:51:05.187418Z",
     "start_time": "2018-05-24T07:51:02.450365Z"
    }
   },
   "outputs": [
    {
     "name": "stdout",
     "output_type": "stream",
     "text": [
      "  0.83s 10638 results\n"
     ]
    }
   ],
   "source": [
    "query = \"\"\"\n",
    "clause\n",
    "    phrase function=Subj\n",
    "        =: word nu=sg|pl\n",
    "        :=\n",
    "    phrase function=Pred|PreO\n",
    "        word sp=verb\n",
    "             nu=sg|pl\n",
    "\"\"\"\n",
    "results = A.search(query)"
   ]
  },
  {
   "cell_type": "markdown",
   "metadata": {},
   "source": [
    "Now the hand coding begins. We are going to extract the tuples we want."
   ]
  },
  {
   "cell_type": "code",
   "execution_count": 39,
   "metadata": {
    "ExecuteTime": {
     "end_time": "2018-05-24T07:51:06.901462Z",
     "start_time": "2018-05-24T07:51:06.878281Z"
    }
   },
   "outputs": [
    {
     "name": "stdout",
     "output_type": "stream",
     "text": [
      "467 filtered results\n"
     ]
    }
   ],
   "source": [
    "wantedResults = tuple(\n",
    "    (subj, pred)\n",
    "    for (clause, phraseS, subj, phraseV, pred) in results\n",
    "    if F.nu.v(subj) != F.nu.v(pred)\n",
    ")\n",
    "print(f\"{len(wantedResults)} filtered results\")"
   ]
  },
  {
   "cell_type": "markdown",
   "metadata": {},
   "source": [
    "And now we can show them:"
   ]
  },
  {
   "cell_type": "code",
   "execution_count": 40,
   "metadata": {},
   "outputs": [
    {
     "data": {
      "text/plain": [
       "((4, 3), (34, 33), (42, 41), (50, 49))"
      ]
     },
     "execution_count": 40,
     "metadata": {},
     "output_type": "execute_result"
    }
   ],
   "source": [
    "wantedResults[0:4]"
   ]
  },
  {
   "cell_type": "code",
   "execution_count": 41,
   "metadata": {},
   "outputs": [
    {
     "data": {
      "text/html": [
       "<table><tr class=\"tf rtl\"><th class=\"tf rtl\">n</th><th class=\"tf rtl\">p</th><th class=\"tf rtl\">word</th><th class=\"tf\">word</th></tr>\n",
       "<tr class=\"tf rtl\"><td class=\"tf rtl\">1</td><td class=\"tf rtl\"><span class=\"tfsechead rtl\"><span class=\"ltr\"><a target=\"_blank\" href=\"https://shebanq.ancient-data.org/hebrew/text?book=Genesis&amp;chapter=1&amp;verse=1&amp;version=2021&amp;mr=m&amp;qw=q&amp;tp=txt_p&amp;tr=hb&amp;wget=v&amp;qget=v&amp;nget=vt\" title=\"Show this on SHEBANQ\" sec=\"Genesis 1:1\">Genesis 1:1</a></span></span></td><td class=\"tf rtl\"><span class=\"rtl ubd\"><span class=\"plain rtl  hl\"  style=\"background-color: lightsalmon;\" ><span class=\"txtu hbo\">אֱלֹהִ֑ים </span></span></span></td><td class=\"tf rtl\"><span class=\"rtl ubd\"><span class=\"plain rtl  hl\"  style=\"background-color: mediumaquamarine;\" ><span class=\"txtu hbo\">בָּרָ֣א </span></span></span></td></tr>\n",
       "<tr class=\"tf rtl\"><td class=\"tf rtl\">2</td><td class=\"tf rtl\"><span class=\"tfsechead rtl\"><span class=\"ltr\"><a target=\"_blank\" href=\"https://shebanq.ancient-data.org/hebrew/text?book=Genesis&amp;chapter=1&amp;verse=3&amp;version=2021&amp;mr=m&amp;qw=q&amp;tp=txt_p&amp;tr=hb&amp;wget=v&amp;qget=v&amp;nget=vt\" title=\"Show this on SHEBANQ\" sec=\"Genesis 1:3\">Genesis 1:3</a></span></span></td><td class=\"tf rtl\"><span class=\"rtl ubd\"><span class=\"plain rtl  hl\"  style=\"background-color: lightsalmon;\" ><span class=\"txtu hbo\">אֱלֹהִ֖ים </span></span></span></td><td class=\"tf rtl\"><span class=\"rtl ubd\"><span class=\"plain rtl  hl\"  style=\"background-color: mediumaquamarine;\" ><span class=\"txtu hbo\">יֹּ֥אמֶר </span></span></span></td></tr>\n",
       "<tr class=\"tf rtl\"><td class=\"tf rtl\">3</td><td class=\"tf rtl\"><span class=\"tfsechead rtl\"><span class=\"ltr\"><a target=\"_blank\" href=\"https://shebanq.ancient-data.org/hebrew/text?book=Genesis&amp;chapter=1&amp;verse=4&amp;version=2021&amp;mr=m&amp;qw=q&amp;tp=txt_p&amp;tr=hb&amp;wget=v&amp;qget=v&amp;nget=vt\" title=\"Show this on SHEBANQ\" sec=\"Genesis 1:4\">Genesis 1:4</a></span></span></td><td class=\"tf rtl\"><span class=\"rtl ubd\"><span class=\"plain rtl  hl\"  style=\"background-color: lightsalmon;\" ><span class=\"txtu hbo\">אֱלֹהִ֛ים </span></span></span></td><td class=\"tf rtl\"><span class=\"rtl ubd\"><span class=\"plain rtl  hl\"  style=\"background-color: mediumaquamarine;\" ><span class=\"txtu hbo\">יַּ֧רְא </span></span></span></td></tr>\n",
       "<tr class=\"tf rtl\"><td class=\"tf rtl\">4</td><td class=\"tf rtl\"><span class=\"tfsechead rtl\"><span class=\"ltr\"><a target=\"_blank\" href=\"https://shebanq.ancient-data.org/hebrew/text?book=Genesis&amp;chapter=1&amp;verse=4&amp;version=2021&amp;mr=m&amp;qw=q&amp;tp=txt_p&amp;tr=hb&amp;wget=v&amp;qget=v&amp;nget=vt\" title=\"Show this on SHEBANQ\" sec=\"Genesis 1:4\">Genesis 1:4</a></span></span></td><td class=\"tf rtl\"><span class=\"rtl ubd\"><span class=\"plain rtl  hl\"  style=\"background-color: lightsalmon;\" ><span class=\"txtu hbo\">אֱלֹהִ֔ים </span></span></span></td><td class=\"tf rtl\"><span class=\"rtl ubd\"><span class=\"plain rtl  hl\"  style=\"background-color: mediumaquamarine;\" ><span class=\"txtu hbo\">יַּבְדֵּ֣ל </span></span></span></td></tr></table>"
      ],
      "text/plain": [
       "<IPython.core.display.HTML object>"
      ]
     },
     "metadata": {},
     "output_type": "display_data"
    }
   ],
   "source": [
    "A.table(\n",
    "    wantedResults, start=1, end=4, colorMap={1: \"lightsalmon\", 2: \"mediumaquamarine\"}\n",
    ")"
   ]
  },
  {
   "cell_type": "code",
   "execution_count": 42,
   "metadata": {
    "ExecuteTime": {
     "end_time": "2018-05-24T07:51:11.465916Z",
     "start_time": "2018-05-24T07:51:11.423636Z"
    }
   },
   "outputs": [
    {
     "data": {
      "text/html": [
       "<p><b>result</b> <i>1</i>"
      ],
      "text/plain": [
       "<IPython.core.display.HTML object>"
      ]
     },
     "metadata": {},
     "output_type": "display_data"
    },
    {
     "data": {
      "text/html": [
       "<div class=\"tfsechead rtl\"><span class=\"ltr\"><a target=\"_blank\" href=\"https://shebanq.ancient-data.org/hebrew/text?book=Genesis&amp;chapter=1&amp;verse=1&amp;version=2021&amp;mr=m&amp;qw=q&amp;tp=txt_p&amp;tr=hb&amp;wget=v&amp;qget=v&amp;nget=vt\" title=\"Show this on SHEBANQ\" sec=\"Genesis 1:1\">Genesis 1:1</a></span></div><div class=\"rtl children\"><div class=\"contnr c3  rtl  \" ><div class=\"lbl c3  \" ><span class=\"nd\">verse </span></div><div class=\"children hor wrap rtl\"><div class=\"contnr c2  rtl  \" ><div class=\"lbl c2  \" ><span class=\"nd\">sentence </span> <span class=\"\"><span title=\"number\">1</span></span></div><div class=\"children hor wrap rtl\"><div class=\"contnr c2  rtl  \" ><div class=\"lbl c2  \" ><span class=\"nd\">clause </span> <span class=\"\"><span title=\"typ\">xQtX</span> <span title=\"rela\">NA</span></span></div><div class=\"children hor wrap rtl\"><div class=\"contnr c1  rtl  \" ><div class=\"lbl c1  \" ><span class=\"nd\">phrase </span> <span class=\"\"><span title=\"typ\">PP</span> <span title=\"function\">Time</span></span></div><div class=\"features\"><span class=\"function xft\" ><span class=\"f\">function=</span>Time</span></div><div class=\"children hor wrap rtl\"><div class=\"contnr c0 trm rtl  \" ><div class=\"lbl c0 trm \" ><a class=\" txtu hbo\" target=\"_blank\" href=\"https://shebanq.ancient-data.org/hebrew/word?version=2021&amp;id=1B\" title=\"Show this on SHEBANQ\"><span class=\"txtu hbo\">בְּ</span></a></div><div class=\"features\"><span class=\"sp xft\" ><span class=\"f\">sp=</span>prep</span></div></div><div class=\"contnr c0 trm rtl  \" ><div class=\"lbl c0 trm \" ><a class=\" txtu hbo\" target=\"_blank\" href=\"https://shebanq.ancient-data.org/hebrew/word?version=2021&amp;id=1RACJTn\" title=\"Show this on SHEBANQ\"><span class=\"txtu hbo\">רֵאשִׁ֖ית </span></a></div><div class=\"features\"><span class=\"nu xft\" ><span class=\"f\">nu=</span>sg</span><span class=\"sp xft\" ><span class=\"f\">sp=</span>subs</span></div></div></div></div><div class=\"contnr c1  rtl  \" ><div class=\"lbl c1  \" ><span class=\"nd\">phrase </span> <span class=\"\"><span title=\"typ\">VP</span> <span title=\"function\">Pred</span></span></div><div class=\"features\"><span class=\"function xft\" ><span class=\"f\">function=</span>Pred</span></div><div class=\"children hor wrap rtl\"><div class=\"contnr c0 trm rtl  hl\"  style=\"background-color: mediumaquamarine;\" ><div class=\"lbl c0 trm hl\"  style=\"background-color: mediumaquamarine;\" ><a class=\" txtu hbo\" target=\"_blank\" href=\"https://shebanq.ancient-data.org/hebrew/word?version=2021&amp;id=1BRAv\" title=\"Show this on SHEBANQ\"><span class=\"txtu hbo\">בָּרָ֣א </span></a></div><div class=\"features\"><span class=\"nu xft\" ><span class=\"f\">nu=</span>sg</span><span class=\"sp xft\" ><span class=\"f\">sp=</span>verb</span></div></div></div></div><div class=\"contnr c1  rtl  \" ><div class=\"lbl c1  \" ><span class=\"nd\">phrase </span> <span class=\"\"><span title=\"typ\">NP</span> <span title=\"function\">Subj</span></span></div><div class=\"features\"><span class=\"function xft\" ><span class=\"f\">function=</span>Subj</span></div><div class=\"children hor wrap rtl\"><div class=\"contnr c0 trm rtl  hl\"  style=\"background-color: lightsalmon;\" ><div class=\"lbl c0 trm hl\"  style=\"background-color: lightsalmon;\" ><a class=\" txtu hbo\" target=\"_blank\" href=\"https://shebanq.ancient-data.org/hebrew/word?version=2021&amp;id=1ALHJMn\" title=\"Show this on SHEBANQ\"><span class=\"txtu hbo\">אֱלֹהִ֑ים </span></a></div><div class=\"features\"><span class=\"nu xft\" ><span class=\"f\">nu=</span>pl</span><span class=\"sp xft\" ><span class=\"f\">sp=</span>subs</span></div></div></div></div><div class=\"contnr c1  rtl  \" ><div class=\"lbl c1  \" ><span class=\"nd\">phrase </span> <span class=\"\"><span title=\"typ\">PP</span> <span title=\"function\">Objc</span></span></div><div class=\"features\"><span class=\"function xft\" ><span class=\"f\">function=</span>Objc</span></div><div class=\"children hor wrap rtl\"><div class=\"contnr c0 trm rtl  \" ><div class=\"lbl c0 trm \" ><a class=\" txtu hbo\" target=\"_blank\" href=\"https://shebanq.ancient-data.org/hebrew/word?version=2021&amp;id=1AT\" title=\"Show this on SHEBANQ\"><span class=\"txtu hbo\">אֵ֥ת </span></a></div><div class=\"features\"><span class=\"sp xft\" ><span class=\"f\">sp=</span>prep</span></div></div><div class=\"contnr c0 trm rtl  \" ><div class=\"lbl c0 trm \" ><a class=\" txtu hbo\" target=\"_blank\" href=\"https://shebanq.ancient-data.org/hebrew/word?version=2021&amp;id=1H\" title=\"Show this on SHEBANQ\"><span class=\"txtu hbo\">הַ</span></a></div><div class=\"features\"><span class=\"sp xft\" ><span class=\"f\">sp=</span>art</span></div></div><div class=\"contnr c0 trm rtl  \" ><div class=\"lbl c0 trm \" ><a class=\" txtu hbo\" target=\"_blank\" href=\"https://shebanq.ancient-data.org/hebrew/word?version=2021&amp;id=1CMJMn\" title=\"Show this on SHEBANQ\"><span class=\"txtu hbo\">שָּׁמַ֖יִם </span></a></div><div class=\"features\"><span class=\"nu xft\" ><span class=\"f\">nu=</span>pl</span><span class=\"sp xft\" ><span class=\"f\">sp=</span>subs</span></div></div><div class=\"contnr c0 trm rtl  \" ><div class=\"lbl c0 trm \" ><a class=\" txtu hbo\" target=\"_blank\" href=\"https://shebanq.ancient-data.org/hebrew/word?version=2021&amp;id=1W\" title=\"Show this on SHEBANQ\"><span class=\"txtu hbo\">וְ</span></a></div><div class=\"features\"><span class=\"sp xft\" ><span class=\"f\">sp=</span>conj</span></div></div><div class=\"contnr c0 trm rtl  \" ><div class=\"lbl c0 trm \" ><a class=\" txtu hbo\" target=\"_blank\" href=\"https://shebanq.ancient-data.org/hebrew/word?version=2021&amp;id=1AT\" title=\"Show this on SHEBANQ\"><span class=\"txtu hbo\">אֵ֥ת </span></a></div><div class=\"features\"><span class=\"sp xft\" ><span class=\"f\">sp=</span>prep</span></div></div><div class=\"contnr c0 trm rtl  \" ><div class=\"lbl c0 trm \" ><a class=\" txtu hbo\" target=\"_blank\" href=\"https://shebanq.ancient-data.org/hebrew/word?version=2021&amp;id=1H\" title=\"Show this on SHEBANQ\"><span class=\"txtu hbo\">הָ</span></a></div><div class=\"features\"><span class=\"sp xft\" ><span class=\"f\">sp=</span>art</span></div></div><div class=\"contnr c0 trm rtl  \" ><div class=\"lbl c0 trm \" ><a class=\" txtu hbo\" target=\"_blank\" href=\"https://shebanq.ancient-data.org/hebrew/word?version=2021&amp;id=1ARYn\" title=\"Show this on SHEBANQ\"><span class=\"txtu hbo\">אָֽרֶץ׃ </span></a></div><div class=\"features\"><span class=\"nu xft\" ><span class=\"f\">nu=</span>sg</span><span class=\"sp xft\" ><span class=\"f\">sp=</span>subs</span></div></div></div></div></div></div></div></div></div></div></div>"
      ],
      "text/plain": [
       "<IPython.core.display.HTML object>"
      ]
     },
     "metadata": {},
     "output_type": "display_data"
    },
    {
     "data": {
      "text/html": [
       "<p><b>result</b> <i>2</i>"
      ],
      "text/plain": [
       "<IPython.core.display.HTML object>"
      ]
     },
     "metadata": {},
     "output_type": "display_data"
    },
    {
     "data": {
      "text/html": [
       "<div class=\"tfsechead rtl\"><span class=\"ltr\"><a target=\"_blank\" href=\"https://shebanq.ancient-data.org/hebrew/text?book=Genesis&amp;chapter=1&amp;verse=3&amp;version=2021&amp;mr=m&amp;qw=q&amp;tp=txt_p&amp;tr=hb&amp;wget=v&amp;qget=v&amp;nget=vt\" title=\"Show this on SHEBANQ\" sec=\"Genesis 1:3\">Genesis 1:3</a></span></div><div class=\"rtl children\"><div class=\"contnr c3  rtl  \" ><div class=\"lbl c3  \" ><span class=\"nd\">verse </span></div><div class=\"children hor wrap rtl\"><div class=\"contnr c2  rtl  \" ><div class=\"lbl c2  \" ><span class=\"nd\">sentence </span> <span class=\"\"><span title=\"number\">5</span></span></div><div class=\"children hor wrap rtl\"><div class=\"contnr c2  rtl  \" ><div class=\"lbl c2  \" ><span class=\"nd\">clause </span> <span class=\"\"><span title=\"typ\">WayX</span> <span title=\"rela\">NA</span></span></div><div class=\"children hor wrap rtl\"><div class=\"contnr c1  rtl  \" ><div class=\"lbl c1  \" ><span class=\"nd\">phrase </span> <span class=\"\"><span title=\"typ\">CP</span> <span title=\"function\">Conj</span></span></div><div class=\"features\"><span class=\"function xft\" ><span class=\"f\">function=</span>Conj</span></div><div class=\"children hor wrap rtl\"><div class=\"contnr c0 trm rtl  \" ><div class=\"lbl c0 trm \" ><a class=\" txtu hbo\" target=\"_blank\" href=\"https://shebanq.ancient-data.org/hebrew/word?version=2021&amp;id=1W\" title=\"Show this on SHEBANQ\"><span class=\"txtu hbo\">וַ</span></a></div><div class=\"features\"><span class=\"sp xft\" ><span class=\"f\">sp=</span>conj</span></div></div></div></div><div class=\"contnr c1  rtl  \" ><div class=\"lbl c1  \" ><span class=\"nd\">phrase </span> <span class=\"\"><span title=\"typ\">VP</span> <span title=\"function\">Pred</span></span></div><div class=\"features\"><span class=\"function xft\" ><span class=\"f\">function=</span>Pred</span></div><div class=\"children hor wrap rtl\"><div class=\"contnr c0 trm rtl  hl\"  style=\"background-color: mediumaquamarine;\" ><div class=\"lbl c0 trm hl\"  style=\"background-color: mediumaquamarine;\" ><a class=\" txtu hbo\" target=\"_blank\" href=\"https://shebanq.ancient-data.org/hebrew/word?version=2021&amp;id=1AMRv\" title=\"Show this on SHEBANQ\"><span class=\"txtu hbo\">יֹּ֥אמֶר </span></a></div><div class=\"features\"><span class=\"nu xft\" ><span class=\"f\">nu=</span>sg</span><span class=\"sp xft\" ><span class=\"f\">sp=</span>verb</span></div></div></div></div><div class=\"contnr c1  rtl  \" ><div class=\"lbl c1  \" ><span class=\"nd\">phrase </span> <span class=\"\"><span title=\"typ\">NP</span> <span title=\"function\">Subj</span></span></div><div class=\"features\"><span class=\"function xft\" ><span class=\"f\">function=</span>Subj</span></div><div class=\"children hor wrap rtl\"><div class=\"contnr c0 trm rtl  hl\"  style=\"background-color: lightsalmon;\" ><div class=\"lbl c0 trm hl\"  style=\"background-color: lightsalmon;\" ><a class=\" txtu hbo\" target=\"_blank\" href=\"https://shebanq.ancient-data.org/hebrew/word?version=2021&amp;id=1ALHJMn\" title=\"Show this on SHEBANQ\"><span class=\"txtu hbo\">אֱלֹהִ֖ים </span></a></div><div class=\"features\"><span class=\"nu xft\" ><span class=\"f\">nu=</span>pl</span><span class=\"sp xft\" ><span class=\"f\">sp=</span>subs</span></div></div></div></div></div></div></div></div><div class=\"contnr c2  rtl  \" ><div class=\"lbl c2  \" ><span class=\"nd\">sentence </span> <span class=\"\"><span title=\"number\">6</span></span></div><div class=\"children hor wrap rtl\"><div class=\"contnr c2  rtl  \" ><div class=\"lbl c2  \" ><span class=\"nd\">clause </span> <span class=\"\"><span title=\"typ\">ZYqX</span> <span title=\"rela\">NA</span></span></div><div class=\"children hor wrap rtl\"><div class=\"contnr c1  rtl  \" ><div class=\"lbl c1  \" ><span class=\"nd\">phrase </span> <span class=\"\"><span title=\"typ\">VP</span> <span title=\"function\">Pred</span></span></div><div class=\"features\"><span class=\"function xft\" ><span class=\"f\">function=</span>Pred</span></div><div class=\"children hor wrap rtl\"><div class=\"contnr c0 trm rtl  \" ><div class=\"lbl c0 trm \" ><a class=\" txtu hbo\" target=\"_blank\" href=\"https://shebanq.ancient-data.org/hebrew/word?version=2021&amp;id=1HJHv\" title=\"Show this on SHEBANQ\"><span class=\"txtu hbo\">יְהִ֣י </span></a></div><div class=\"features\"><span class=\"nu xft\" ><span class=\"f\">nu=</span>sg</span><span class=\"sp xft\" ><span class=\"f\">sp=</span>verb</span></div></div></div></div><div class=\"contnr c1  rtl  \" ><div class=\"lbl c1  \" ><span class=\"nd\">phrase </span> <span class=\"\"><span title=\"typ\">NP</span> <span title=\"function\">Subj</span></span></div><div class=\"features\"><span class=\"function xft\" ><span class=\"f\">function=</span>Subj</span></div><div class=\"children hor wrap rtl\"><div class=\"contnr c0 trm rtl  \" ><div class=\"lbl c0 trm \" ><a class=\" txtu hbo\" target=\"_blank\" href=\"https://shebanq.ancient-data.org/hebrew/word?version=2021&amp;id=1AWRn\" title=\"Show this on SHEBANQ\"><span class=\"txtu hbo\">אֹ֑ור </span></a></div><div class=\"features\"><span class=\"nu xft\" ><span class=\"f\">nu=</span>sg</span><span class=\"sp xft\" ><span class=\"f\">sp=</span>subs</span></div></div></div></div></div></div></div></div><div class=\"contnr c2  rtl  \" ><div class=\"lbl c2  \" ><span class=\"nd\">sentence </span> <span class=\"\"><span title=\"number\">7</span></span></div><div class=\"children hor wrap rtl\"><div class=\"contnr c2  rtl  \" ><div class=\"lbl c2  \" ><span class=\"nd\">clause </span> <span class=\"\"><span title=\"typ\">WayX</span> <span title=\"rela\">NA</span></span></div><div class=\"children hor wrap rtl\"><div class=\"contnr c1  rtl  \" ><div class=\"lbl c1  \" ><span class=\"nd\">phrase </span> <span class=\"\"><span title=\"typ\">CP</span> <span title=\"function\">Conj</span></span></div><div class=\"features\"><span class=\"function xft\" ><span class=\"f\">function=</span>Conj</span></div><div class=\"children hor wrap rtl\"><div class=\"contnr c0 trm rtl  \" ><div class=\"lbl c0 trm \" ><a class=\" txtu hbo\" target=\"_blank\" href=\"https://shebanq.ancient-data.org/hebrew/word?version=2021&amp;id=1W\" title=\"Show this on SHEBANQ\"><span class=\"txtu hbo\">וַֽ</span></a></div><div class=\"features\"><span class=\"sp xft\" ><span class=\"f\">sp=</span>conj</span></div></div></div></div><div class=\"contnr c1  rtl  \" ><div class=\"lbl c1  \" ><span class=\"nd\">phrase </span> <span class=\"\"><span title=\"typ\">VP</span> <span title=\"function\">Pred</span></span></div><div class=\"features\"><span class=\"function xft\" ><span class=\"f\">function=</span>Pred</span></div><div class=\"children hor wrap rtl\"><div class=\"contnr c0 trm rtl  \" ><div class=\"lbl c0 trm \" ><a class=\" txtu hbo\" target=\"_blank\" href=\"https://shebanq.ancient-data.org/hebrew/word?version=2021&amp;id=1HJHv\" title=\"Show this on SHEBANQ\"><span class=\"txtu hbo\">יְהִי־</span></a></div><div class=\"features\"><span class=\"nu xft\" ><span class=\"f\">nu=</span>sg</span><span class=\"sp xft\" ><span class=\"f\">sp=</span>verb</span></div></div></div></div><div class=\"contnr c1  rtl  \" ><div class=\"lbl c1  \" ><span class=\"nd\">phrase </span> <span class=\"\"><span title=\"typ\">NP</span> <span title=\"function\">Subj</span></span></div><div class=\"features\"><span class=\"function xft\" ><span class=\"f\">function=</span>Subj</span></div><div class=\"children hor wrap rtl\"><div class=\"contnr c0 trm rtl  \" ><div class=\"lbl c0 trm \" ><a class=\" txtu hbo\" target=\"_blank\" href=\"https://shebanq.ancient-data.org/hebrew/word?version=2021&amp;id=1AWRn\" title=\"Show this on SHEBANQ\"><span class=\"txtu hbo\">אֹֽור׃ </span></a></div><div class=\"features\"><span class=\"nu xft\" ><span class=\"f\">nu=</span>sg</span><span class=\"sp xft\" ><span class=\"f\">sp=</span>subs</span></div></div></div></div></div></div></div></div></div></div></div>"
      ],
      "text/plain": [
       "<IPython.core.display.HTML object>"
      ]
     },
     "metadata": {},
     "output_type": "display_data"
    },
    {
     "data": {
      "text/html": [
       "<p><b>result</b> <i>3</i>"
      ],
      "text/plain": [
       "<IPython.core.display.HTML object>"
      ]
     },
     "metadata": {},
     "output_type": "display_data"
    },
    {
     "data": {
      "text/html": [
       "<div class=\"tfsechead rtl\"><span class=\"ltr\"><a target=\"_blank\" href=\"https://shebanq.ancient-data.org/hebrew/text?book=Genesis&amp;chapter=1&amp;verse=4&amp;version=2021&amp;mr=m&amp;qw=q&amp;tp=txt_p&amp;tr=hb&amp;wget=v&amp;qget=v&amp;nget=vt\" title=\"Show this on SHEBANQ\" sec=\"Genesis 1:4\">Genesis 1:4</a></span></div><div class=\"rtl children\"><div class=\"contnr c3  rtl  \" ><div class=\"lbl c3  \" ><span class=\"nd\">verse </span></div><div class=\"children hor wrap rtl\"><div class=\"contnr c2  rtl  \" ><div class=\"lbl c2  \" ><span class=\"nd\">sentence </span> <span class=\"\"><span title=\"number\">8</span></span></div><div class=\"children hor wrap rtl\"><div class=\"contnr c2  rtl  \" ><div class=\"lbl c2  \" ><span class=\"nd\">clause </span> <span class=\"\"><span title=\"typ\">WayX</span> <span title=\"rela\">NA</span></span></div><div class=\"children hor wrap rtl\"><div class=\"contnr c1  rtl  \" ><div class=\"lbl c1  \" ><span class=\"nd\">phrase </span> <span class=\"\"><span title=\"typ\">CP</span> <span title=\"function\">Conj</span></span></div><div class=\"features\"><span class=\"function xft\" ><span class=\"f\">function=</span>Conj</span></div><div class=\"children hor wrap rtl\"><div class=\"contnr c0 trm rtl  \" ><div class=\"lbl c0 trm \" ><a class=\" txtu hbo\" target=\"_blank\" href=\"https://shebanq.ancient-data.org/hebrew/word?version=2021&amp;id=1W\" title=\"Show this on SHEBANQ\"><span class=\"txtu hbo\">וַ</span></a></div><div class=\"features\"><span class=\"sp xft\" ><span class=\"f\">sp=</span>conj</span></div></div></div></div><div class=\"contnr c1  rtl  \" ><div class=\"lbl c1  \" ><span class=\"nd\">phrase </span> <span class=\"\"><span title=\"typ\">VP</span> <span title=\"function\">Pred</span></span></div><div class=\"features\"><span class=\"function xft\" ><span class=\"f\">function=</span>Pred</span></div><div class=\"children hor wrap rtl\"><div class=\"contnr c0 trm rtl  hl\"  style=\"background-color: mediumaquamarine;\" ><div class=\"lbl c0 trm hl\"  style=\"background-color: mediumaquamarine;\" ><a class=\" txtu hbo\" target=\"_blank\" href=\"https://shebanq.ancient-data.org/hebrew/word?version=2021&amp;id=1RAHv\" title=\"Show this on SHEBANQ\"><span class=\"txtu hbo\">יַּ֧רְא </span></a></div><div class=\"features\"><span class=\"nu xft\" ><span class=\"f\">nu=</span>sg</span><span class=\"sp xft\" ><span class=\"f\">sp=</span>verb</span></div></div></div></div><div class=\"contnr c1  rtl  \" ><div class=\"lbl c1  \" ><span class=\"nd\">phrase </span> <span class=\"\"><span title=\"typ\">NP</span> <span title=\"function\">Subj</span></span></div><div class=\"features\"><span class=\"function xft\" ><span class=\"f\">function=</span>Subj</span></div><div class=\"children hor wrap rtl\"><div class=\"contnr c0 trm rtl  hl\"  style=\"background-color: lightsalmon;\" ><div class=\"lbl c0 trm hl\"  style=\"background-color: lightsalmon;\" ><a class=\" txtu hbo\" target=\"_blank\" href=\"https://shebanq.ancient-data.org/hebrew/word?version=2021&amp;id=1ALHJMn\" title=\"Show this on SHEBANQ\"><span class=\"txtu hbo\">אֱלֹהִ֛ים </span></a></div><div class=\"features\"><span class=\"nu xft\" ><span class=\"f\">nu=</span>pl</span><span class=\"sp xft\" ><span class=\"f\">sp=</span>subs</span></div></div></div></div><div class=\"contnr c1  rtl  \" ><div class=\"lbl c1  \" ><span class=\"nd\">phrase </span> <span class=\"\"><span title=\"typ\">PP</span> <span title=\"function\">Objc</span></span></div><div class=\"features\"><span class=\"function xft\" ><span class=\"f\">function=</span>Objc</span></div><div class=\"children hor wrap rtl\"><div class=\"contnr c0 trm rtl  \" ><div class=\"lbl c0 trm \" ><a class=\" txtu hbo\" target=\"_blank\" href=\"https://shebanq.ancient-data.org/hebrew/word?version=2021&amp;id=1AT\" title=\"Show this on SHEBANQ\"><span class=\"txtu hbo\">אֶת־</span></a></div><div class=\"features\"><span class=\"sp xft\" ><span class=\"f\">sp=</span>prep</span></div></div><div class=\"contnr c0 trm rtl  \" ><div class=\"lbl c0 trm \" ><a class=\" txtu hbo\" target=\"_blank\" href=\"https://shebanq.ancient-data.org/hebrew/word?version=2021&amp;id=1H\" title=\"Show this on SHEBANQ\"><span class=\"txtu hbo\">הָ</span></a></div><div class=\"features\"><span class=\"sp xft\" ><span class=\"f\">sp=</span>art</span></div></div><div class=\"contnr c0 trm rtl  \" ><div class=\"lbl c0 trm \" ><a class=\" txtu hbo\" target=\"_blank\" href=\"https://shebanq.ancient-data.org/hebrew/word?version=2021&amp;id=1AWRn\" title=\"Show this on SHEBANQ\"><span class=\"txtu hbo\">אֹ֖ור </span></a></div><div class=\"features\"><span class=\"nu xft\" ><span class=\"f\">nu=</span>sg</span><span class=\"sp xft\" ><span class=\"f\">sp=</span>subs</span></div></div></div></div></div></div><div class=\"contnr c2  rtl  \" ><div class=\"lbl c2  \" ><span class=\"nd\">clause </span> <span class=\"\"><span title=\"typ\">xQt0</span> <span title=\"rela\">Objc</span></span></div><div class=\"children hor wrap rtl\"><div class=\"contnr c1  rtl  \" ><div class=\"lbl c1  \" ><span class=\"nd\">phrase </span> <span class=\"\"><span title=\"typ\">CP</span> <span title=\"function\">Conj</span></span></div><div class=\"features\"><span class=\"function xft\" ><span class=\"f\">function=</span>Conj</span></div><div class=\"children hor wrap rtl\"><div class=\"contnr c0 trm rtl  \" ><div class=\"lbl c0 trm \" ><a class=\" txtu hbo\" target=\"_blank\" href=\"https://shebanq.ancient-data.org/hebrew/word?version=2021&amp;id=1KJ\" title=\"Show this on SHEBANQ\"><span class=\"txtu hbo\">כִּי־</span></a></div><div class=\"features\"><span class=\"sp xft\" ><span class=\"f\">sp=</span>conj</span></div></div></div></div><div class=\"contnr c1  rtl  \" ><div class=\"lbl c1  \" ><span class=\"nd\">phrase </span> <span class=\"\"><span title=\"typ\">VP</span> <span title=\"function\">Pred</span></span></div><div class=\"features\"><span class=\"function xft\" ><span class=\"f\">function=</span>Pred</span></div><div class=\"children hor wrap rtl\"><div class=\"contnr c0 trm rtl  \" ><div class=\"lbl c0 trm \" ><a class=\" txtu hbo\" target=\"_blank\" href=\"https://shebanq.ancient-data.org/hebrew/word?version=2021&amp;id=1VWBv\" title=\"Show this on SHEBANQ\"><span class=\"txtu hbo\">טֹ֑וב </span></a></div><div class=\"features\"><span class=\"nu xft\" ><span class=\"f\">nu=</span>sg</span><span class=\"sp xft\" ><span class=\"f\">sp=</span>verb</span></div></div></div></div></div></div></div></div><div class=\"contnr c2  rtl  \" ><div class=\"lbl c2  \" ><span class=\"nd\">sentence </span> <span class=\"\"><span title=\"number\">9</span></span></div><div class=\"children hor wrap rtl\"><div class=\"contnr c2  rtl  \" ><div class=\"lbl c2  \" ><span class=\"nd\">clause </span> <span class=\"\"><span title=\"typ\">WayX</span> <span title=\"rela\">NA</span></span></div><div class=\"children hor wrap rtl\"><div class=\"contnr c1  rtl  \" ><div class=\"lbl c1  \" ><span class=\"nd\">phrase </span> <span class=\"\"><span title=\"typ\">CP</span> <span title=\"function\">Conj</span></span></div><div class=\"features\"><span class=\"function xft\" ><span class=\"f\">function=</span>Conj</span></div><div class=\"children hor wrap rtl\"><div class=\"contnr c0 trm rtl  \" ><div class=\"lbl c0 trm \" ><a class=\" txtu hbo\" target=\"_blank\" href=\"https://shebanq.ancient-data.org/hebrew/word?version=2021&amp;id=1W\" title=\"Show this on SHEBANQ\"><span class=\"txtu hbo\">וַ</span></a></div><div class=\"features\"><span class=\"sp xft\" ><span class=\"f\">sp=</span>conj</span></div></div></div></div><div class=\"contnr c1  rtl  \" ><div class=\"lbl c1  \" ><span class=\"nd\">phrase </span> <span class=\"\"><span title=\"typ\">VP</span> <span title=\"function\">Pred</span></span></div><div class=\"features\"><span class=\"function xft\" ><span class=\"f\">function=</span>Pred</span></div><div class=\"children hor wrap rtl\"><div class=\"contnr c0 trm rtl  \" ><div class=\"lbl c0 trm \" ><a class=\" txtu hbo\" target=\"_blank\" href=\"https://shebanq.ancient-data.org/hebrew/word?version=2021&amp;id=1BDLv\" title=\"Show this on SHEBANQ\"><span class=\"txtu hbo\">יַּבְדֵּ֣ל </span></a></div><div class=\"features\"><span class=\"nu xft\" ><span class=\"f\">nu=</span>sg</span><span class=\"sp xft\" ><span class=\"f\">sp=</span>verb</span></div></div></div></div><div class=\"contnr c1  rtl  \" ><div class=\"lbl c1  \" ><span class=\"nd\">phrase </span> <span class=\"\"><span title=\"typ\">NP</span> <span title=\"function\">Subj</span></span></div><div class=\"features\"><span class=\"function xft\" ><span class=\"f\">function=</span>Subj</span></div><div class=\"children hor wrap rtl\"><div class=\"contnr c0 trm rtl  \" ><div class=\"lbl c0 trm \" ><a class=\" txtu hbo\" target=\"_blank\" href=\"https://shebanq.ancient-data.org/hebrew/word?version=2021&amp;id=1ALHJMn\" title=\"Show this on SHEBANQ\"><span class=\"txtu hbo\">אֱלֹהִ֔ים </span></a></div><div class=\"features\"><span class=\"nu xft\" ><span class=\"f\">nu=</span>pl</span><span class=\"sp xft\" ><span class=\"f\">sp=</span>subs</span></div></div></div></div><div class=\"contnr c1  rtl  \" ><div class=\"lbl c1  \" ><span class=\"nd\">phrase </span> <span class=\"\"><span title=\"typ\">PP</span> <span title=\"function\">Cmpl</span></span></div><div class=\"features\"><span class=\"function xft\" ><span class=\"f\">function=</span>Cmpl</span></div><div class=\"children hor wrap rtl\"><div class=\"contnr c0 trm rtl  \" ><div class=\"lbl c0 trm \" ><a class=\" txtu hbo\" target=\"_blank\" href=\"https://shebanq.ancient-data.org/hebrew/word?version=2021&amp;id=1BJNn\" title=\"Show this on SHEBANQ\"><span class=\"txtu hbo\">בֵּ֥ין </span></a></div><div class=\"features\"><span class=\"nu xft\" ><span class=\"f\">nu=</span>sg</span><span class=\"sp xft\" ><span class=\"f\">sp=</span>subs</span></div></div><div class=\"contnr c0 trm rtl  \" ><div class=\"lbl c0 trm \" ><a class=\" txtu hbo\" target=\"_blank\" href=\"https://shebanq.ancient-data.org/hebrew/word?version=2021&amp;id=1H\" title=\"Show this on SHEBANQ\"><span class=\"txtu hbo\">הָ</span></a></div><div class=\"features\"><span class=\"sp xft\" ><span class=\"f\">sp=</span>art</span></div></div><div class=\"contnr c0 trm rtl  \" ><div class=\"lbl c0 trm \" ><a class=\" txtu hbo\" target=\"_blank\" href=\"https://shebanq.ancient-data.org/hebrew/word?version=2021&amp;id=1AWRn\" title=\"Show this on SHEBANQ\"><span class=\"txtu hbo\">אֹ֖ור </span></a></div><div class=\"features\"><span class=\"nu xft\" ><span class=\"f\">nu=</span>sg</span><span class=\"sp xft\" ><span class=\"f\">sp=</span>subs</span></div></div><div class=\"contnr c0 trm rtl  \" ><div class=\"lbl c0 trm \" ><a class=\" txtu hbo\" target=\"_blank\" href=\"https://shebanq.ancient-data.org/hebrew/word?version=2021&amp;id=1W\" title=\"Show this on SHEBANQ\"><span class=\"txtu hbo\">וּ</span></a></div><div class=\"features\"><span class=\"sp xft\" ><span class=\"f\">sp=</span>conj</span></div></div><div class=\"contnr c0 trm rtl  \" ><div class=\"lbl c0 trm \" ><a class=\" txtu hbo\" target=\"_blank\" href=\"https://shebanq.ancient-data.org/hebrew/word?version=2021&amp;id=1BJNn\" title=\"Show this on SHEBANQ\"><span class=\"txtu hbo\">בֵ֥ין </span></a></div><div class=\"features\"><span class=\"nu xft\" ><span class=\"f\">nu=</span>sg</span><span class=\"sp xft\" ><span class=\"f\">sp=</span>subs</span></div></div><div class=\"contnr c0 trm rtl  \" ><div class=\"lbl c0 trm \" ><a class=\" txtu hbo\" target=\"_blank\" href=\"https://shebanq.ancient-data.org/hebrew/word?version=2021&amp;id=1H\" title=\"Show this on SHEBANQ\"><span class=\"txtu hbo\">הַ</span></a></div><div class=\"features\"><span class=\"sp xft\" ><span class=\"f\">sp=</span>art</span></div></div><div class=\"contnr c0 trm rtl  \" ><div class=\"lbl c0 trm \" ><a class=\" txtu hbo\" target=\"_blank\" href=\"https://shebanq.ancient-data.org/hebrew/word?version=2021&amp;id=1XCKn\" title=\"Show this on SHEBANQ\"><span class=\"txtu hbo\">חֹֽשֶׁךְ׃ </span></a></div><div class=\"features\"><span class=\"nu xft\" ><span class=\"f\">nu=</span>sg</span><span class=\"sp xft\" ><span class=\"f\">sp=</span>subs</span></div></div></div></div></div></div></div></div></div></div></div>"
      ],
      "text/plain": [
       "<IPython.core.display.HTML object>"
      ]
     },
     "metadata": {},
     "output_type": "display_data"
    },
    {
     "data": {
      "text/html": [
       "<p><b>result</b> <i>4</i>"
      ],
      "text/plain": [
       "<IPython.core.display.HTML object>"
      ]
     },
     "metadata": {},
     "output_type": "display_data"
    },
    {
     "data": {
      "text/html": [
       "<div class=\"tfsechead rtl\"><span class=\"ltr\"><a target=\"_blank\" href=\"https://shebanq.ancient-data.org/hebrew/text?book=Genesis&amp;chapter=1&amp;verse=4&amp;version=2021&amp;mr=m&amp;qw=q&amp;tp=txt_p&amp;tr=hb&amp;wget=v&amp;qget=v&amp;nget=vt\" title=\"Show this on SHEBANQ\" sec=\"Genesis 1:4\">Genesis 1:4</a></span></div><div class=\"rtl children\"><div class=\"contnr c3  rtl  \" ><div class=\"lbl c3  \" ><span class=\"nd\">verse </span></div><div class=\"children hor wrap rtl\"><div class=\"contnr c2  rtl  \" ><div class=\"lbl c2  \" ><span class=\"nd\">sentence </span> <span class=\"\"><span title=\"number\">8</span></span></div><div class=\"children hor wrap rtl\"><div class=\"contnr c2  rtl  \" ><div class=\"lbl c2  \" ><span class=\"nd\">clause </span> <span class=\"\"><span title=\"typ\">WayX</span> <span title=\"rela\">NA</span></span></div><div class=\"children hor wrap rtl\"><div class=\"contnr c1  rtl  \" ><div class=\"lbl c1  \" ><span class=\"nd\">phrase </span> <span class=\"\"><span title=\"typ\">CP</span> <span title=\"function\">Conj</span></span></div><div class=\"features\"><span class=\"function xft\" ><span class=\"f\">function=</span>Conj</span></div><div class=\"children hor wrap rtl\"><div class=\"contnr c0 trm rtl  \" ><div class=\"lbl c0 trm \" ><a class=\" txtu hbo\" target=\"_blank\" href=\"https://shebanq.ancient-data.org/hebrew/word?version=2021&amp;id=1W\" title=\"Show this on SHEBANQ\"><span class=\"txtu hbo\">וַ</span></a></div><div class=\"features\"><span class=\"sp xft\" ><span class=\"f\">sp=</span>conj</span></div></div></div></div><div class=\"contnr c1  rtl  \" ><div class=\"lbl c1  \" ><span class=\"nd\">phrase </span> <span class=\"\"><span title=\"typ\">VP</span> <span title=\"function\">Pred</span></span></div><div class=\"features\"><span class=\"function xft\" ><span class=\"f\">function=</span>Pred</span></div><div class=\"children hor wrap rtl\"><div class=\"contnr c0 trm rtl  \" ><div class=\"lbl c0 trm \" ><a class=\" txtu hbo\" target=\"_blank\" href=\"https://shebanq.ancient-data.org/hebrew/word?version=2021&amp;id=1RAHv\" title=\"Show this on SHEBANQ\"><span class=\"txtu hbo\">יַּ֧רְא </span></a></div><div class=\"features\"><span class=\"nu xft\" ><span class=\"f\">nu=</span>sg</span><span class=\"sp xft\" ><span class=\"f\">sp=</span>verb</span></div></div></div></div><div class=\"contnr c1  rtl  \" ><div class=\"lbl c1  \" ><span class=\"nd\">phrase </span> <span class=\"\"><span title=\"typ\">NP</span> <span title=\"function\">Subj</span></span></div><div class=\"features\"><span class=\"function xft\" ><span class=\"f\">function=</span>Subj</span></div><div class=\"children hor wrap rtl\"><div class=\"contnr c0 trm rtl  \" ><div class=\"lbl c0 trm \" ><a class=\" txtu hbo\" target=\"_blank\" href=\"https://shebanq.ancient-data.org/hebrew/word?version=2021&amp;id=1ALHJMn\" title=\"Show this on SHEBANQ\"><span class=\"txtu hbo\">אֱלֹהִ֛ים </span></a></div><div class=\"features\"><span class=\"nu xft\" ><span class=\"f\">nu=</span>pl</span><span class=\"sp xft\" ><span class=\"f\">sp=</span>subs</span></div></div></div></div><div class=\"contnr c1  rtl  \" ><div class=\"lbl c1  \" ><span class=\"nd\">phrase </span> <span class=\"\"><span title=\"typ\">PP</span> <span title=\"function\">Objc</span></span></div><div class=\"features\"><span class=\"function xft\" ><span class=\"f\">function=</span>Objc</span></div><div class=\"children hor wrap rtl\"><div class=\"contnr c0 trm rtl  \" ><div class=\"lbl c0 trm \" ><a class=\" txtu hbo\" target=\"_blank\" href=\"https://shebanq.ancient-data.org/hebrew/word?version=2021&amp;id=1AT\" title=\"Show this on SHEBANQ\"><span class=\"txtu hbo\">אֶת־</span></a></div><div class=\"features\"><span class=\"sp xft\" ><span class=\"f\">sp=</span>prep</span></div></div><div class=\"contnr c0 trm rtl  \" ><div class=\"lbl c0 trm \" ><a class=\" txtu hbo\" target=\"_blank\" href=\"https://shebanq.ancient-data.org/hebrew/word?version=2021&amp;id=1H\" title=\"Show this on SHEBANQ\"><span class=\"txtu hbo\">הָ</span></a></div><div class=\"features\"><span class=\"sp xft\" ><span class=\"f\">sp=</span>art</span></div></div><div class=\"contnr c0 trm rtl  \" ><div class=\"lbl c0 trm \" ><a class=\" txtu hbo\" target=\"_blank\" href=\"https://shebanq.ancient-data.org/hebrew/word?version=2021&amp;id=1AWRn\" title=\"Show this on SHEBANQ\"><span class=\"txtu hbo\">אֹ֖ור </span></a></div><div class=\"features\"><span class=\"nu xft\" ><span class=\"f\">nu=</span>sg</span><span class=\"sp xft\" ><span class=\"f\">sp=</span>subs</span></div></div></div></div></div></div><div class=\"contnr c2  rtl  \" ><div class=\"lbl c2  \" ><span class=\"nd\">clause </span> <span class=\"\"><span title=\"typ\">xQt0</span> <span title=\"rela\">Objc</span></span></div><div class=\"children hor wrap rtl\"><div class=\"contnr c1  rtl  \" ><div class=\"lbl c1  \" ><span class=\"nd\">phrase </span> <span class=\"\"><span title=\"typ\">CP</span> <span title=\"function\">Conj</span></span></div><div class=\"features\"><span class=\"function xft\" ><span class=\"f\">function=</span>Conj</span></div><div class=\"children hor wrap rtl\"><div class=\"contnr c0 trm rtl  \" ><div class=\"lbl c0 trm \" ><a class=\" txtu hbo\" target=\"_blank\" href=\"https://shebanq.ancient-data.org/hebrew/word?version=2021&amp;id=1KJ\" title=\"Show this on SHEBANQ\"><span class=\"txtu hbo\">כִּי־</span></a></div><div class=\"features\"><span class=\"sp xft\" ><span class=\"f\">sp=</span>conj</span></div></div></div></div><div class=\"contnr c1  rtl  \" ><div class=\"lbl c1  \" ><span class=\"nd\">phrase </span> <span class=\"\"><span title=\"typ\">VP</span> <span title=\"function\">Pred</span></span></div><div class=\"features\"><span class=\"function xft\" ><span class=\"f\">function=</span>Pred</span></div><div class=\"children hor wrap rtl\"><div class=\"contnr c0 trm rtl  \" ><div class=\"lbl c0 trm \" ><a class=\" txtu hbo\" target=\"_blank\" href=\"https://shebanq.ancient-data.org/hebrew/word?version=2021&amp;id=1VWBv\" title=\"Show this on SHEBANQ\"><span class=\"txtu hbo\">טֹ֑וב </span></a></div><div class=\"features\"><span class=\"nu xft\" ><span class=\"f\">nu=</span>sg</span><span class=\"sp xft\" ><span class=\"f\">sp=</span>verb</span></div></div></div></div></div></div></div></div><div class=\"contnr c2  rtl  \" ><div class=\"lbl c2  \" ><span class=\"nd\">sentence </span> <span class=\"\"><span title=\"number\">9</span></span></div><div class=\"children hor wrap rtl\"><div class=\"contnr c2  rtl  \" ><div class=\"lbl c2  \" ><span class=\"nd\">clause </span> <span class=\"\"><span title=\"typ\">WayX</span> <span title=\"rela\">NA</span></span></div><div class=\"children hor wrap rtl\"><div class=\"contnr c1  rtl  \" ><div class=\"lbl c1  \" ><span class=\"nd\">phrase </span> <span class=\"\"><span title=\"typ\">CP</span> <span title=\"function\">Conj</span></span></div><div class=\"features\"><span class=\"function xft\" ><span class=\"f\">function=</span>Conj</span></div><div class=\"children hor wrap rtl\"><div class=\"contnr c0 trm rtl  \" ><div class=\"lbl c0 trm \" ><a class=\" txtu hbo\" target=\"_blank\" href=\"https://shebanq.ancient-data.org/hebrew/word?version=2021&amp;id=1W\" title=\"Show this on SHEBANQ\"><span class=\"txtu hbo\">וַ</span></a></div><div class=\"features\"><span class=\"sp xft\" ><span class=\"f\">sp=</span>conj</span></div></div></div></div><div class=\"contnr c1  rtl  \" ><div class=\"lbl c1  \" ><span class=\"nd\">phrase </span> <span class=\"\"><span title=\"typ\">VP</span> <span title=\"function\">Pred</span></span></div><div class=\"features\"><span class=\"function xft\" ><span class=\"f\">function=</span>Pred</span></div><div class=\"children hor wrap rtl\"><div class=\"contnr c0 trm rtl  hl\"  style=\"background-color: mediumaquamarine;\" ><div class=\"lbl c0 trm hl\"  style=\"background-color: mediumaquamarine;\" ><a class=\" txtu hbo\" target=\"_blank\" href=\"https://shebanq.ancient-data.org/hebrew/word?version=2021&amp;id=1BDLv\" title=\"Show this on SHEBANQ\"><span class=\"txtu hbo\">יַּבְדֵּ֣ל </span></a></div><div class=\"features\"><span class=\"nu xft\" ><span class=\"f\">nu=</span>sg</span><span class=\"sp xft\" ><span class=\"f\">sp=</span>verb</span></div></div></div></div><div class=\"contnr c1  rtl  \" ><div class=\"lbl c1  \" ><span class=\"nd\">phrase </span> <span class=\"\"><span title=\"typ\">NP</span> <span title=\"function\">Subj</span></span></div><div class=\"features\"><span class=\"function xft\" ><span class=\"f\">function=</span>Subj</span></div><div class=\"children hor wrap rtl\"><div class=\"contnr c0 trm rtl  hl\"  style=\"background-color: lightsalmon;\" ><div class=\"lbl c0 trm hl\"  style=\"background-color: lightsalmon;\" ><a class=\" txtu hbo\" target=\"_blank\" href=\"https://shebanq.ancient-data.org/hebrew/word?version=2021&amp;id=1ALHJMn\" title=\"Show this on SHEBANQ\"><span class=\"txtu hbo\">אֱלֹהִ֔ים </span></a></div><div class=\"features\"><span class=\"nu xft\" ><span class=\"f\">nu=</span>pl</span><span class=\"sp xft\" ><span class=\"f\">sp=</span>subs</span></div></div></div></div><div class=\"contnr c1  rtl  \" ><div class=\"lbl c1  \" ><span class=\"nd\">phrase </span> <span class=\"\"><span title=\"typ\">PP</span> <span title=\"function\">Cmpl</span></span></div><div class=\"features\"><span class=\"function xft\" ><span class=\"f\">function=</span>Cmpl</span></div><div class=\"children hor wrap rtl\"><div class=\"contnr c0 trm rtl  \" ><div class=\"lbl c0 trm \" ><a class=\" txtu hbo\" target=\"_blank\" href=\"https://shebanq.ancient-data.org/hebrew/word?version=2021&amp;id=1BJNn\" title=\"Show this on SHEBANQ\"><span class=\"txtu hbo\">בֵּ֥ין </span></a></div><div class=\"features\"><span class=\"nu xft\" ><span class=\"f\">nu=</span>sg</span><span class=\"sp xft\" ><span class=\"f\">sp=</span>subs</span></div></div><div class=\"contnr c0 trm rtl  \" ><div class=\"lbl c0 trm \" ><a class=\" txtu hbo\" target=\"_blank\" href=\"https://shebanq.ancient-data.org/hebrew/word?version=2021&amp;id=1H\" title=\"Show this on SHEBANQ\"><span class=\"txtu hbo\">הָ</span></a></div><div class=\"features\"><span class=\"sp xft\" ><span class=\"f\">sp=</span>art</span></div></div><div class=\"contnr c0 trm rtl  \" ><div class=\"lbl c0 trm \" ><a class=\" txtu hbo\" target=\"_blank\" href=\"https://shebanq.ancient-data.org/hebrew/word?version=2021&amp;id=1AWRn\" title=\"Show this on SHEBANQ\"><span class=\"txtu hbo\">אֹ֖ור </span></a></div><div class=\"features\"><span class=\"nu xft\" ><span class=\"f\">nu=</span>sg</span><span class=\"sp xft\" ><span class=\"f\">sp=</span>subs</span></div></div><div class=\"contnr c0 trm rtl  \" ><div class=\"lbl c0 trm \" ><a class=\" txtu hbo\" target=\"_blank\" href=\"https://shebanq.ancient-data.org/hebrew/word?version=2021&amp;id=1W\" title=\"Show this on SHEBANQ\"><span class=\"txtu hbo\">וּ</span></a></div><div class=\"features\"><span class=\"sp xft\" ><span class=\"f\">sp=</span>conj</span></div></div><div class=\"contnr c0 trm rtl  \" ><div class=\"lbl c0 trm \" ><a class=\" txtu hbo\" target=\"_blank\" href=\"https://shebanq.ancient-data.org/hebrew/word?version=2021&amp;id=1BJNn\" title=\"Show this on SHEBANQ\"><span class=\"txtu hbo\">בֵ֥ין </span></a></div><div class=\"features\"><span class=\"nu xft\" ><span class=\"f\">nu=</span>sg</span><span class=\"sp xft\" ><span class=\"f\">sp=</span>subs</span></div></div><div class=\"contnr c0 trm rtl  \" ><div class=\"lbl c0 trm \" ><a class=\" txtu hbo\" target=\"_blank\" href=\"https://shebanq.ancient-data.org/hebrew/word?version=2021&amp;id=1H\" title=\"Show this on SHEBANQ\"><span class=\"txtu hbo\">הַ</span></a></div><div class=\"features\"><span class=\"sp xft\" ><span class=\"f\">sp=</span>art</span></div></div><div class=\"contnr c0 trm rtl  \" ><div class=\"lbl c0 trm \" ><a class=\" txtu hbo\" target=\"_blank\" href=\"https://shebanq.ancient-data.org/hebrew/word?version=2021&amp;id=1XCKn\" title=\"Show this on SHEBANQ\"><span class=\"txtu hbo\">חֹֽשֶׁךְ׃ </span></a></div><div class=\"features\"><span class=\"nu xft\" ><span class=\"f\">nu=</span>sg</span><span class=\"sp xft\" ><span class=\"f\">sp=</span>subs</span></div></div></div></div></div></div></div></div></div></div></div>"
      ],
      "text/plain": [
       "<IPython.core.display.HTML object>"
      ]
     },
     "metadata": {},
     "output_type": "display_data"
    }
   ],
   "source": [
    "A.show(\n",
    "    wantedResults, start=1, end=4, colorMap={1: \"lightsalmon\", 2: \"mediumaquamarine\"}\n",
    ")"
   ]
  },
  {
   "cell_type": "markdown",
   "metadata": {},
   "source": [
    "Now suppose that we want to highlight the non-qal verb forms with a different color.\n",
    "\n",
    "We have to assign colours to the members of our tuples:"
   ]
  },
  {
   "cell_type": "code",
   "execution_count": 43,
   "metadata": {
    "ExecuteTime": {
     "end_time": "2018-05-24T07:51:16.633433Z",
     "start_time": "2018-05-24T07:51:16.628359Z"
    }
   },
   "outputs": [],
   "source": [
    "highlights = {}\n",
    "for (subj, pred) in wantedResults:\n",
    "    highlights[subj] = \"lightsalmon\"\n",
    "    highlights[pred] = \"mediumaquamarine\" if F.vs.v(pred) == \"qal\" else \"yellow\""
   ]
  },
  {
   "cell_type": "markdown",
   "metadata": {},
   "source": [
    "Now we can call show with the `highlights` parameter instead of the `colorMap` parameter."
   ]
  },
  {
   "cell_type": "code",
   "execution_count": 44,
   "metadata": {
    "ExecuteTime": {
     "end_time": "2018-05-24T07:51:19.423335Z",
     "start_time": "2018-05-24T07:51:19.391463Z"
    }
   },
   "outputs": [
    {
     "data": {
      "text/html": [
       "<table><tr class=\"tf rtl\"><th class=\"tf rtl\">n</th><th class=\"tf rtl\">p</th><th class=\"tf rtl\">word</th><th class=\"tf\">word</th></tr>\n",
       "<tr class=\"tf rtl\"><td class=\"tf rtl\">1</td><td class=\"tf rtl\"><span class=\"tfsechead rtl\"><span class=\"ltr\"><a target=\"_blank\" href=\"https://shebanq.ancient-data.org/hebrew/text?book=Genesis&amp;chapter=1&amp;verse=1&amp;version=2021&amp;mr=m&amp;qw=q&amp;tp=txt_p&amp;tr=hb&amp;wget=v&amp;qget=v&amp;nget=vt\" title=\"Show this on SHEBANQ\" sec=\"Genesis 1:1\">Genesis 1:1</a></span></span></td><td class=\"tf rtl\"><span class=\"rtl ubd\"><span class=\"plain rtl  hl\"  style=\"background-color: lightsalmon;\" ><span class=\"txtu hbo\">אֱלֹהִ֑ים </span></span></span></td><td class=\"tf rtl\"><span class=\"rtl ubd\"><span class=\"plain rtl  hl\"  style=\"background-color: mediumaquamarine;\" ><span class=\"txtu hbo\">בָּרָ֣א </span></span></span></td></tr>\n",
       "<tr class=\"tf rtl\"><td class=\"tf rtl\">2</td><td class=\"tf rtl\"><span class=\"tfsechead rtl\"><span class=\"ltr\"><a target=\"_blank\" href=\"https://shebanq.ancient-data.org/hebrew/text?book=Genesis&amp;chapter=1&amp;verse=3&amp;version=2021&amp;mr=m&amp;qw=q&amp;tp=txt_p&amp;tr=hb&amp;wget=v&amp;qget=v&amp;nget=vt\" title=\"Show this on SHEBANQ\" sec=\"Genesis 1:3\">Genesis 1:3</a></span></span></td><td class=\"tf rtl\"><span class=\"rtl ubd\"><span class=\"plain rtl  hl\"  style=\"background-color: lightsalmon;\" ><span class=\"txtu hbo\">אֱלֹהִ֖ים </span></span></span></td><td class=\"tf rtl\"><span class=\"rtl ubd\"><span class=\"plain rtl  hl\"  style=\"background-color: mediumaquamarine;\" ><span class=\"txtu hbo\">יֹּ֥אמֶר </span></span></span></td></tr>\n",
       "<tr class=\"tf rtl\"><td class=\"tf rtl\">3</td><td class=\"tf rtl\"><span class=\"tfsechead rtl\"><span class=\"ltr\"><a target=\"_blank\" href=\"https://shebanq.ancient-data.org/hebrew/text?book=Genesis&amp;chapter=1&amp;verse=4&amp;version=2021&amp;mr=m&amp;qw=q&amp;tp=txt_p&amp;tr=hb&amp;wget=v&amp;qget=v&amp;nget=vt\" title=\"Show this on SHEBANQ\" sec=\"Genesis 1:4\">Genesis 1:4</a></span></span></td><td class=\"tf rtl\"><span class=\"rtl ubd\"><span class=\"plain rtl  hl\"  style=\"background-color: lightsalmon;\" ><span class=\"txtu hbo\">אֱלֹהִ֛ים </span></span></span></td><td class=\"tf rtl\"><span class=\"rtl ubd\"><span class=\"plain rtl  hl\"  style=\"background-color: mediumaquamarine;\" ><span class=\"txtu hbo\">יַּ֧רְא </span></span></span></td></tr>\n",
       "<tr class=\"tf rtl\"><td class=\"tf rtl\">4</td><td class=\"tf rtl\"><span class=\"tfsechead rtl\"><span class=\"ltr\"><a target=\"_blank\" href=\"https://shebanq.ancient-data.org/hebrew/text?book=Genesis&amp;chapter=1&amp;verse=4&amp;version=2021&amp;mr=m&amp;qw=q&amp;tp=txt_p&amp;tr=hb&amp;wget=v&amp;qget=v&amp;nget=vt\" title=\"Show this on SHEBANQ\" sec=\"Genesis 1:4\">Genesis 1:4</a></span></span></td><td class=\"tf rtl\"><span class=\"rtl ubd\"><span class=\"plain rtl  hl\"  style=\"background-color: lightsalmon;\" ><span class=\"txtu hbo\">אֱלֹהִ֔ים </span></span></span></td><td class=\"tf rtl\"><span class=\"rtl ubd\"><span class=\"plain rtl  hl\"  style=\"background-color: yellow;\" ><span class=\"txtu hbo\">יַּבְדֵּ֣ל </span></span></span></td></tr></table>"
      ],
      "text/plain": [
       "<IPython.core.display.HTML object>"
      ]
     },
     "metadata": {},
     "output_type": "display_data"
    }
   ],
   "source": [
    "A.table(wantedResults, start=1, end=4, highlights=highlights)"
   ]
  },
  {
   "cell_type": "markdown",
   "metadata": {},
   "source": [
    "Or in condensed pretty display:"
   ]
  },
  {
   "cell_type": "code",
   "execution_count": 45,
   "metadata": {
    "ExecuteTime": {
     "end_time": "2018-05-24T07:51:19.423335Z",
     "start_time": "2018-05-24T07:51:19.391463Z"
    }
   },
   "outputs": [
    {
     "data": {
      "text/html": [
       "<p><b>verse</b> <i>3</i>"
      ],
      "text/plain": [
       "<IPython.core.display.HTML object>"
      ]
     },
     "metadata": {},
     "output_type": "display_data"
    },
    {
     "data": {
      "text/html": [
       "<div class=\"tfsechead rtl\"><span class=\"ltr\"><a target=\"_blank\" href=\"https://shebanq.ancient-data.org/hebrew/text?book=Genesis&amp;chapter=1&amp;verse=4&amp;version=2021&amp;mr=m&amp;qw=q&amp;tp=txt_p&amp;tr=hb&amp;wget=v&amp;qget=v&amp;nget=vt\" title=\"Show this on SHEBANQ\" sec=\"Genesis 1:4\">Genesis 1:4</a></span></div><div class=\"rtl children\"><div class=\"contnr c3  rtl  \" ><div class=\"lbl c3  \" ><span class=\"nd\">verse:1414392 </span></div><div class=\"children hor wrap rtl\"><div class=\"contnr c2  rtl  \" ><div class=\"lbl c2  \" ><span class=\"nd\">sentence:1172315 </span> <span class=\"\"><span title=\"number\">8</span></span></div><div class=\"children hor wrap rtl\"><div class=\"contnr c2  rtl  \" ><div class=\"lbl c2  \" ><span class=\"nd\">clause:427566 </span> <span class=\"\"><span title=\"typ\">WayX</span> <span title=\"rela\">NA</span></span></div><div class=\"children hor wrap rtl\"><div class=\"contnr c1  rtl  \" ><div class=\"lbl c1  \" ><span class=\"nd\">phrase:651596 </span> <span class=\"\"><span title=\"typ\">CP</span> <span title=\"function\">Conj</span></span></div><div class=\"features\"><span class=\"function xft\" ><span class=\"f\">function=</span>Conj</span></div><div class=\"children hor wrap rtl\"><div class=\"contnr c0 trm rtl  \" ><div class=\"lbl c0 trm \" ><span class=\"nd\">40 </span> <a class=\" txtu hbo\" target=\"_blank\" href=\"https://shebanq.ancient-data.org/hebrew/word?version=2021&amp;id=1W\" title=\"Show this on SHEBANQ\"><span class=\"txtu hbo\">וַ</span></a></div><div class=\"features\"><span class=\"sp xft\" ><span class=\"f\">sp=</span>conj</span></div></div></div></div><div class=\"contnr c1  rtl  \" ><div class=\"lbl c1  \" ><span class=\"nd\">phrase:651597 </span> <span class=\"\"><span title=\"typ\">VP</span> <span title=\"function\">Pred</span></span></div><div class=\"features\"><span class=\"function xft\" ><span class=\"f\">function=</span>Pred</span></div><div class=\"children hor wrap rtl\"><div class=\"contnr c0 trm rtl  hl\"  style=\"background-color: mediumaquamarine;\" ><div class=\"lbl c0 trm hl\"  style=\"background-color: mediumaquamarine;\" ><span class=\"nd\">41 </span> <a class=\" txtu hbo\" target=\"_blank\" href=\"https://shebanq.ancient-data.org/hebrew/word?version=2021&amp;id=1RAHv\" title=\"Show this on SHEBANQ\"><span class=\"txtu hbo\">יַּ֧רְא </span></a></div><div class=\"features\"><span class=\"vs \" ><span class=\"f\">vs=</span>qal</span><span class=\"nu xft\" ><span class=\"f\">nu=</span>sg</span><span class=\"sp xft\" ><span class=\"f\">sp=</span>verb</span></div></div></div></div><div class=\"contnr c1  rtl  \" ><div class=\"lbl c1  \" ><span class=\"nd\">phrase:651598 </span> <span class=\"\"><span title=\"typ\">NP</span> <span title=\"function\">Subj</span></span></div><div class=\"features\"><span class=\"function xft\" ><span class=\"f\">function=</span>Subj</span></div><div class=\"children hor wrap rtl\"><div class=\"contnr c0 trm rtl  hl\"  style=\"background-color: lightsalmon;\" ><div class=\"lbl c0 trm hl\"  style=\"background-color: lightsalmon;\" ><span class=\"nd\">42 </span> <a class=\" txtu hbo\" target=\"_blank\" href=\"https://shebanq.ancient-data.org/hebrew/word?version=2021&amp;id=1ALHJMn\" title=\"Show this on SHEBANQ\"><span class=\"txtu hbo\">אֱלֹהִ֛ים </span></a></div><div class=\"features\"><span class=\"nu xft\" ><span class=\"f\">nu=</span>pl</span><span class=\"sp xft\" ><span class=\"f\">sp=</span>subs</span></div></div></div></div><div class=\"contnr c1  rtl  \" ><div class=\"lbl c1  \" ><span class=\"nd\">phrase:651599 </span> <span class=\"\"><span title=\"typ\">PP</span> <span title=\"function\">Objc</span></span></div><div class=\"features\"><span class=\"function xft\" ><span class=\"f\">function=</span>Objc</span></div><div class=\"children hor wrap rtl\"><div class=\"contnr c0 trm rtl  \" ><div class=\"lbl c0 trm \" ><span class=\"nd\">43 </span> <a class=\" txtu hbo\" target=\"_blank\" href=\"https://shebanq.ancient-data.org/hebrew/word?version=2021&amp;id=1AT\" title=\"Show this on SHEBANQ\"><span class=\"txtu hbo\">אֶת־</span></a></div><div class=\"features\"><span class=\"sp xft\" ><span class=\"f\">sp=</span>prep</span></div></div><div class=\"contnr c0 trm rtl  \" ><div class=\"lbl c0 trm \" ><span class=\"nd\">44 </span> <a class=\" txtu hbo\" target=\"_blank\" href=\"https://shebanq.ancient-data.org/hebrew/word?version=2021&amp;id=1H\" title=\"Show this on SHEBANQ\"><span class=\"txtu hbo\">הָ</span></a></div><div class=\"features\"><span class=\"sp xft\" ><span class=\"f\">sp=</span>art</span></div></div><div class=\"contnr c0 trm rtl  \" ><div class=\"lbl c0 trm \" ><span class=\"nd\">45 </span> <a class=\" txtu hbo\" target=\"_blank\" href=\"https://shebanq.ancient-data.org/hebrew/word?version=2021&amp;id=1AWRn\" title=\"Show this on SHEBANQ\"><span class=\"txtu hbo\">אֹ֖ור </span></a></div><div class=\"features\"><span class=\"nu xft\" ><span class=\"f\">nu=</span>sg</span><span class=\"sp xft\" ><span class=\"f\">sp=</span>subs</span></div></div></div></div></div></div><div class=\"contnr c2  rtl  \" ><div class=\"lbl c2  \" ><span class=\"nd\">clause:427567 </span> <span class=\"\"><span title=\"typ\">xQt0</span> <span title=\"rela\">Objc</span></span></div><div class=\"children hor wrap rtl\"><div class=\"contnr c1  rtl  \" ><div class=\"lbl c1  \" ><span class=\"nd\">phrase:651600 </span> <span class=\"\"><span title=\"typ\">CP</span> <span title=\"function\">Conj</span></span></div><div class=\"features\"><span class=\"function xft\" ><span class=\"f\">function=</span>Conj</span></div><div class=\"children hor wrap rtl\"><div class=\"contnr c0 trm rtl  \" ><div class=\"lbl c0 trm \" ><span class=\"nd\">46 </span> <a class=\" txtu hbo\" target=\"_blank\" href=\"https://shebanq.ancient-data.org/hebrew/word?version=2021&amp;id=1KJ\" title=\"Show this on SHEBANQ\"><span class=\"txtu hbo\">כִּי־</span></a></div><div class=\"features\"><span class=\"sp xft\" ><span class=\"f\">sp=</span>conj</span></div></div></div></div><div class=\"contnr c1  rtl  \" ><div class=\"lbl c1  \" ><span class=\"nd\">phrase:651601 </span> <span class=\"\"><span title=\"typ\">VP</span> <span title=\"function\">Pred</span></span></div><div class=\"features\"><span class=\"function xft\" ><span class=\"f\">function=</span>Pred</span></div><div class=\"children hor wrap rtl\"><div class=\"contnr c0 trm rtl  \" ><div class=\"lbl c0 trm \" ><span class=\"nd\">47 </span> <a class=\" txtu hbo\" target=\"_blank\" href=\"https://shebanq.ancient-data.org/hebrew/word?version=2021&amp;id=1VWBv\" title=\"Show this on SHEBANQ\"><span class=\"txtu hbo\">טֹ֑וב </span></a></div><div class=\"features\"><span class=\"vs \" ><span class=\"f\">vs=</span>qal</span><span class=\"nu xft\" ><span class=\"f\">nu=</span>sg</span><span class=\"sp xft\" ><span class=\"f\">sp=</span>verb</span></div></div></div></div></div></div></div></div><div class=\"contnr c2  rtl  \" ><div class=\"lbl c2  \" ><span class=\"nd\">sentence:1172316 </span> <span class=\"\"><span title=\"number\">9</span></span></div><div class=\"children hor wrap rtl\"><div class=\"contnr c2  rtl  \" ><div class=\"lbl c2  \" ><span class=\"nd\">clause:427568 </span> <span class=\"\"><span title=\"typ\">WayX</span> <span title=\"rela\">NA</span></span></div><div class=\"children hor wrap rtl\"><div class=\"contnr c1  rtl  \" ><div class=\"lbl c1  \" ><span class=\"nd\">phrase:651602 </span> <span class=\"\"><span title=\"typ\">CP</span> <span title=\"function\">Conj</span></span></div><div class=\"features\"><span class=\"function xft\" ><span class=\"f\">function=</span>Conj</span></div><div class=\"children hor wrap rtl\"><div class=\"contnr c0 trm rtl  \" ><div class=\"lbl c0 trm \" ><span class=\"nd\">48 </span> <a class=\" txtu hbo\" target=\"_blank\" href=\"https://shebanq.ancient-data.org/hebrew/word?version=2021&amp;id=1W\" title=\"Show this on SHEBANQ\"><span class=\"txtu hbo\">וַ</span></a></div><div class=\"features\"><span class=\"sp xft\" ><span class=\"f\">sp=</span>conj</span></div></div></div></div><div class=\"contnr c1  rtl  \" ><div class=\"lbl c1  \" ><span class=\"nd\">phrase:651603 </span> <span class=\"\"><span title=\"typ\">VP</span> <span title=\"function\">Pred</span></span></div><div class=\"features\"><span class=\"function xft\" ><span class=\"f\">function=</span>Pred</span></div><div class=\"children hor wrap rtl\"><div class=\"contnr c0 trm rtl  hl\"  style=\"background-color: yellow;\" ><div class=\"lbl c0 trm hl\"  style=\"background-color: yellow;\" ><span class=\"nd\">49 </span> <a class=\" txtu hbo\" target=\"_blank\" href=\"https://shebanq.ancient-data.org/hebrew/word?version=2021&amp;id=1BDLv\" title=\"Show this on SHEBANQ\"><span class=\"txtu hbo\">יַּבְדֵּ֣ל </span></a></div><div class=\"features\"><span class=\"vs \" ><span class=\"f\">vs=</span>hif</span><span class=\"nu xft\" ><span class=\"f\">nu=</span>sg</span><span class=\"sp xft\" ><span class=\"f\">sp=</span>verb</span></div></div></div></div><div class=\"contnr c1  rtl  \" ><div class=\"lbl c1  \" ><span class=\"nd\">phrase:651604 </span> <span class=\"\"><span title=\"typ\">NP</span> <span title=\"function\">Subj</span></span></div><div class=\"features\"><span class=\"function xft\" ><span class=\"f\">function=</span>Subj</span></div><div class=\"children hor wrap rtl\"><div class=\"contnr c0 trm rtl  hl\"  style=\"background-color: lightsalmon;\" ><div class=\"lbl c0 trm hl\"  style=\"background-color: lightsalmon;\" ><span class=\"nd\">50 </span> <a class=\" txtu hbo\" target=\"_blank\" href=\"https://shebanq.ancient-data.org/hebrew/word?version=2021&amp;id=1ALHJMn\" title=\"Show this on SHEBANQ\"><span class=\"txtu hbo\">אֱלֹהִ֔ים </span></a></div><div class=\"features\"><span class=\"nu xft\" ><span class=\"f\">nu=</span>pl</span><span class=\"sp xft\" ><span class=\"f\">sp=</span>subs</span></div></div></div></div><div class=\"contnr c1  rtl  \" ><div class=\"lbl c1  \" ><span class=\"nd\">phrase:651605 </span> <span class=\"\"><span title=\"typ\">PP</span> <span title=\"function\">Cmpl</span></span></div><div class=\"features\"><span class=\"function xft\" ><span class=\"f\">function=</span>Cmpl</span></div><div class=\"children hor wrap rtl\"><div class=\"contnr c0 trm rtl  \" ><div class=\"lbl c0 trm \" ><span class=\"nd\">51 </span> <a class=\" txtu hbo\" target=\"_blank\" href=\"https://shebanq.ancient-data.org/hebrew/word?version=2021&amp;id=1BJNn\" title=\"Show this on SHEBANQ\"><span class=\"txtu hbo\">בֵּ֥ין </span></a></div><div class=\"features\"><span class=\"nu xft\" ><span class=\"f\">nu=</span>sg</span><span class=\"sp xft\" ><span class=\"f\">sp=</span>subs</span></div></div><div class=\"contnr c0 trm rtl  \" ><div class=\"lbl c0 trm \" ><span class=\"nd\">52 </span> <a class=\" txtu hbo\" target=\"_blank\" href=\"https://shebanq.ancient-data.org/hebrew/word?version=2021&amp;id=1H\" title=\"Show this on SHEBANQ\"><span class=\"txtu hbo\">הָ</span></a></div><div class=\"features\"><span class=\"sp xft\" ><span class=\"f\">sp=</span>art</span></div></div><div class=\"contnr c0 trm rtl  \" ><div class=\"lbl c0 trm \" ><span class=\"nd\">53 </span> <a class=\" txtu hbo\" target=\"_blank\" href=\"https://shebanq.ancient-data.org/hebrew/word?version=2021&amp;id=1AWRn\" title=\"Show this on SHEBANQ\"><span class=\"txtu hbo\">אֹ֖ור </span></a></div><div class=\"features\"><span class=\"nu xft\" ><span class=\"f\">nu=</span>sg</span><span class=\"sp xft\" ><span class=\"f\">sp=</span>subs</span></div></div><div class=\"contnr c0 trm rtl  \" ><div class=\"lbl c0 trm \" ><span class=\"nd\">54 </span> <a class=\" txtu hbo\" target=\"_blank\" href=\"https://shebanq.ancient-data.org/hebrew/word?version=2021&amp;id=1W\" title=\"Show this on SHEBANQ\"><span class=\"txtu hbo\">וּ</span></a></div><div class=\"features\"><span class=\"sp xft\" ><span class=\"f\">sp=</span>conj</span></div></div><div class=\"contnr c0 trm rtl  \" ><div class=\"lbl c0 trm \" ><span class=\"nd\">55 </span> <a class=\" txtu hbo\" target=\"_blank\" href=\"https://shebanq.ancient-data.org/hebrew/word?version=2021&amp;id=1BJNn\" title=\"Show this on SHEBANQ\"><span class=\"txtu hbo\">בֵ֥ין </span></a></div><div class=\"features\"><span class=\"nu xft\" ><span class=\"f\">nu=</span>sg</span><span class=\"sp xft\" ><span class=\"f\">sp=</span>subs</span></div></div><div class=\"contnr c0 trm rtl  \" ><div class=\"lbl c0 trm \" ><span class=\"nd\">56 </span> <a class=\" txtu hbo\" target=\"_blank\" href=\"https://shebanq.ancient-data.org/hebrew/word?version=2021&amp;id=1H\" title=\"Show this on SHEBANQ\"><span class=\"txtu hbo\">הַ</span></a></div><div class=\"features\"><span class=\"sp xft\" ><span class=\"f\">sp=</span>art</span></div></div><div class=\"contnr c0 trm rtl  \" ><div class=\"lbl c0 trm \" ><span class=\"nd\">57 </span> <a class=\" txtu hbo\" target=\"_blank\" href=\"https://shebanq.ancient-data.org/hebrew/word?version=2021&amp;id=1XCKn\" title=\"Show this on SHEBANQ\"><span class=\"txtu hbo\">חֹֽשֶׁךְ׃ </span></a></div><div class=\"features\"><span class=\"nu xft\" ><span class=\"f\">nu=</span>sg</span><span class=\"sp xft\" ><span class=\"f\">sp=</span>subs</span></div></div></div></div></div></div></div></div></div></div></div>"
      ],
      "text/plain": [
       "<IPython.core.display.HTML object>"
      ]
     },
     "metadata": {},
     "output_type": "display_data"
    }
   ],
   "source": [
    "A.show(\n",
    "    wantedResults,\n",
    "    condensed=True,\n",
    "    start=3,\n",
    "    end=3,\n",
    "    highlights=highlights,\n",
    "    extraFeatures=\"vs\",\n",
    "    withNodes=True,\n",
    ")"
   ]
  },
  {
   "cell_type": "markdown",
   "metadata": {},
   "source": [
    "As you see, you have total control."
   ]
  },
  {
   "cell_type": "markdown",
   "metadata": {},
   "source": [
    "# All steps\n",
    "\n",
    "* **[start](start.ipynb)** your first step in mastering the bible computationally\n",
    "* **[display](display.ipynb)** become an expert in creating pretty displays of your text structures\n",
    "* **search** turbo charge your hand-coding with search templates\n",
    "\n",
    "---\n",
    "\n",
    "You know how to run queries and show off with their results.\n",
    "\n",
    "The next thing is to dive deeper into the power of templates:\n",
    "\n",
    "[advanced](searchAdvanced.ipynb)\n",
    "[sets](searchSets.ipynb)\n",
    "[relations](searchRelations.ipynb)\n",
    "[quantifiers](searchQuantifiers.ipynb)\n",
    "[from MQL](searchFromMQL.ipynb)\n",
    "[rough](searchRough.ipynb)\n",
    "[gaps](searchGaps.ipynb)\n",
    "\n",
    "---\n",
    "\n",
    "* **[export Excel](exportExcel.ipynb)** make tailor-made spreadsheets out of your results\n",
    "* **[share](share.ipynb)** draw in other people's data and let them use yours\n",
    "* **[export](export.ipynb)** export your dataset as an Emdros database\n",
    "* **[annotate](annotate.ipynb)** annotate plain text by means of other tools and import the annotations as TF features\n",
    "* **[map](map.ipynb)** map somebody else's annotations to a new version of the corpus\n",
    "* **[volumes](volumes.ipynb)** work with selected books only\n",
    "* **[trees](trees.ipynb)** work with the BHSA data as syntax trees\n",
    "\n",
    "CC-BY Dirk Roorda"
   ]
  }
 ],
 "metadata": {
  "kernelspec": {
   "display_name": "Python 3 (ipykernel)",
   "language": "python",
   "name": "python3"
  },
  "language_info": {
   "codemirror_mode": {
    "name": "ipython",
    "version": 3
   },
   "file_extension": ".py",
   "mimetype": "text/x-python",
   "name": "python",
   "nbconvert_exporter": "python",
   "pygments_lexer": "ipython3",
   "version": "3.12.0"
  },
  "widgets": {
   "application/vnd.jupyter.widget-state+json": {
    "state": {},
    "version_major": 2,
    "version_minor": 0
   }
  }
 },
 "nbformat": 4,
 "nbformat_minor": 4
}
