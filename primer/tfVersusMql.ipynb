{
 "cells": [
  {
   "cell_type": "markdown",
   "id": "absent-immunology",
   "metadata": {},
   "source": [
    "<img align=\"right\" src=\"images/etcbc.png\"/>\n",
    "\n",
    "# MQL versus TF-Query\n",
    "\n",
    "## Introduction\n",
    "\n",
    "Bas Meeuse has written an excellent primer for exegetes.\n",
    "In a series of increasingly difficult examples he shows how one can\n",
    "use template based search to explore syntactic patterns in the text.\n",
    "\n",
    "The ETCBC database makes this possible, especially by its incarnation as \n",
    "[BHSA](https://etcbc.github.io/bhsa/) data.\n",
    "\n",
    "In that context, there are two ways to perform template based search:\n",
    "\n",
    "* the website [SHEBANQ](https://shebanq.ancient-data.org) offers MQL\n",
    "  queries that can be run and saved without installing anything;\n",
    "* [Text-Fabric](https://github.com/annotation/app-bhsa)\n",
    "  offers complete computational control over the data,\n",
    "  including template based queries, inspired by, but different from MQL\n",
    "\n",
    "Both MQL and TF-Query have been developed in close connection with the ETCBC, MQL by Ulrik Sandborg-Petersen, as part of his database system\n",
    "[Emdros](https://emdros.org), and Text-Fabric by Dirk Roorda.\n",
    "MQL is older, dating from 2005, and it is implemented in the programming language C. Text-Fabric dates from 2016 and is implemented in Python.\n",
    "This time difference shows not only in various aspects of the\n",
    "MQL and TF-Query syntax, but also in other aspects of usability.\n",
    "\n",
    "In my opinion, TF-Query is more supportive of really difficult operations,\n",
    "where no single query can express the issue at hand, and where the results of several queries have to be analysed and combined.\n",
    "\n",
    "The purpose of this primer is to help people to transition from MQL to TF-Query. \n",
    "To that end we reproduce the MQL queries in the\n",
    "[SHEBANQ tutorial by Bas Meeuse](https://github.com/ETCBC/Tutorials/blob/master/SHEBANQ%20tutorial%202021.pdf)\n",
    "by means of Text-Fabric queries, and discuss the subtle and not so subtle\n",
    "distinctions that we will encounter.\n",
    "\n",
    "## Reference\n",
    "\n",
    "* [MQL Query Guide](https://github.com/ETCBC/shebanq/wiki/Documents/MQL-Query-Guide.pdf) (pdf)\n",
    "* [TF Query Guide](https://annotation.github.io/text-fabric/tf/about/searchusage.html) (html)\n",
    "* [Other MQL-TF queries](https://nbviewer.jupyter.org/github/annotation/tutorials/blob/master/bhsa/searchFromMQL.ipynb) (notebook)\n",
    "\n",
    "## Author\n",
    "Dirk Roorda (dirk.roorda@dans.knaw.nl)\n",
    "\n",
    "Copyright: No restrictions. Attribution appreciated. CC-BY."
   ]
  },
  {
   "cell_type": "markdown",
   "id": "aggressive-modern",
   "metadata": {},
   "source": [
    "# The example queries\n",
    "\n",
    "We will compare the results of MQL queries, performed by SHEBANQ with results obtained from TF-Queries.\n",
    "\n",
    "To that end we have downloaded the CSV results of all example queries in the tutorial by Bas. For convenience, we map the example numbers to the names of the result files and additional data of the query."
   ]
  },
  {
   "cell_type": "code",
   "execution_count": 1,
   "id": "seeing-paint",
   "metadata": {},
   "outputs": [],
   "source": [
    "MQL_RESULTS = {\n",
    "    1: {\n",
    "        \"file\": \"2017_q4439_text_Bas_Meeuse\",\n",
    "        \"results\": 8,\n",
    "        \"verses\": 8,\n",
    "        \"words\": 42,\n",
    "    },\n",
    "    2: {\n",
    "        \"file\": \"2017_q4440_text_Bas_Meeuse\",\n",
    "        \"results\": 156,\n",
    "        \"verses\": 136,\n",
    "        \"words\": 294,\n",
    "    },\n",
    "    \"2a\": {\n",
    "        \"file\": \"2017_q4467_text_Dirk_Roorda\",\n",
    "        \"results\": 160,\n",
    "        \"verses\": 138,\n",
    "        \"words\": 300,\n",
    "    },\n",
    "    3: {\n",
    "        \"file\": \"2017_q4441_text_Bas_Meeuse\",\n",
    "        \"results\": 308,\n",
    "        \"verses\": 150,\n",
    "        \"words\": 685,\n",
    "    },\n",
    "    4: {\n",
    "        \"file\": \"2017_q53_text_Wido_van Peursen\",\n",
    "        \"results\": 65,\n",
    "        \"verses\": 51,\n",
    "        \"words\": 315,\n",
    "    },\n",
    "    5: {\n",
    "        \"file\": \"2017_q494_text_Oliver_Glanz\",\n",
    "        \"results\": 23,\n",
    "        \"verses\": 21,\n",
    "        \"words\": 44,\n",
    "    },\n",
    "    6: {\n",
    "        \"file\": \"2017_q4442_text_Bas_Meeuse\",\n",
    "        \"results\": 10,\n",
    "        \"verses\": 10,\n",
    "        \"words\": 121,\n",
    "    },\n",
    "    7: {\n",
    "        \"file\": \"2017_q4334_text_Reinoud_Oosting\",\n",
    "        \"results\": 62,\n",
    "        \"verses\": 61,\n",
    "        \"words\": 348,\n",
    "    },\n",
    "    8: {\n",
    "        \"file\": \"2017_q523_text_Reinoud_Oosting\",\n",
    "        \"results\": 16,\n",
    "        \"verses\": 16,\n",
    "        \"words\": 32,\n",
    "    },\n",
    "    9: {\n",
    "        \"file\": \"2017_q491_text_Oliver_Glanz\",\n",
    "        \"results\": 344,\n",
    "        \"verses\": 101,\n",
    "        \"words\": 356,\n",
    "    },\n",
    "    \"10a\": {\n",
    "        \"file\": \"2017_q4416_text_Bas_Meeuse\",\n",
    "        \"results\": 232,\n",
    "        \"verses\": 190,\n",
    "        \"words\": 458,\n",
    "    },\n",
    "    \"10b\": {\n",
    "        \"file\": \"2017_q4437_text_Bas_Meeuse\",\n",
    "        \"results\": 2087,\n",
    "        \"verses\": 675,\n",
    "        \"words\": 5573,\n",
    "    },\n",
    "}"
   ]
  },
  {
   "cell_type": "markdown",
   "id": "suspected-pioneer",
   "metadata": {},
   "source": [
    "# Loading\n",
    "\n",
    "We load the Text-Fabric program and the BHSA data."
   ]
  },
  {
   "cell_type": "code",
   "execution_count": 2,
   "id": "charitable-health",
   "metadata": {},
   "outputs": [],
   "source": [
    "%load_ext autoreload\n",
    "%autoreload 2"
   ]
  },
  {
   "cell_type": "code",
   "execution_count": 3,
   "id": "roman-freeze",
   "metadata": {
    "ExecuteTime": {
     "end_time": "2018-05-11T10:04:07.889266Z",
     "start_time": "2018-05-11T10:04:07.826697Z"
    }
   },
   "outputs": [],
   "source": [
    "from tf.app import use\n",
    "from tf.core.helpers import project\n",
    "\n",
    "from util import getTfVerses, getShebanqData, compareResults"
   ]
  },
  {
   "cell_type": "code",
   "execution_count": 4,
   "id": "further-program",
   "metadata": {
    "ExecuteTime": {
     "end_time": "2018-05-11T10:04:21.570164Z",
     "start_time": "2018-05-11T10:04:20.016691Z"
    }
   },
   "outputs": [
    {
     "data": {
      "text/html": [
       "<b title=\"local github\">TF-app:</b> <span title=\"repo clone offline under ~/github\">~/github/annotation/app-bhsa/code</span>"
      ],
      "text/plain": [
       "<IPython.core.display.HTML object>"
      ]
     },
     "metadata": {},
     "output_type": "display_data"
    },
    {
     "data": {
      "text/html": [
       "<b title=\"local github\">data:</b> <span title=\"repo clone offline under ~/github\">~/github/etcbc/bhsa/tf/2017</span>"
      ],
      "text/plain": [
       "<IPython.core.display.HTML object>"
      ]
     },
     "metadata": {},
     "output_type": "display_data"
    },
    {
     "data": {
      "text/html": [
       "<b title=\"local github\">data:</b> <span title=\"repo clone offline under ~/github\">~/github/etcbc/phono/tf/2017</span>"
      ],
      "text/plain": [
       "<IPython.core.display.HTML object>"
      ]
     },
     "metadata": {},
     "output_type": "display_data"
    },
    {
     "data": {
      "text/html": [
       "<b title=\"local github\">data:</b> <span title=\"repo clone offline under ~/github\">~/github/etcbc/parallels/tf/2017</span>"
      ],
      "text/plain": [
       "<IPython.core.display.HTML object>"
      ]
     },
     "metadata": {},
     "output_type": "display_data"
    },
    {
     "data": {
      "text/html": [
       "<b>Text-Fabric:</b> <a target=\"_blank\" href=\"https://annotation.github.io/text-fabric/tf/cheatsheet.html\" title=\"text-fabric-api\">Text-Fabric API 8.4.12</a>, <a target=\"_blank\" href=\"https://github.com/annotation/app-bhsa\" title=\"bhsa TF-app\">app-bhsa v3</a>, <a target=\"_blank\" href=\"https://annotation.github.io/text-fabric/tf/about/searchusage.html\" title=\"Search Templates Introduction and Reference\">Search Reference</a><br><b>Data:</b> <a target=\"_blank\" href=\"https://etcbc.github.io/bhsa/0_home\" title=\"provenance of BHSA = Biblia Hebraica Stuttgartensia Amstelodamensis\">BHSA</a>, <a target=\"_blank\" href=\"https://annotation.github.io/text-fabric/tf/writing/hebrew.html\" title=\"How TF features represent text\">Character table</a>, <a target=\"_blank\" href=\"https://etcbc.github.io/bhsa/features/0_home\" title=\"BHSA feature documentation\">Feature docs</a><br><b>Features:</b><br><details><summary><b>Parallel Passages</b></summary><b><i><a target=\"_blank\" href=\"https://nbviewer.jupyter.org/github/etcbc/parallels/blob/master/programs/parallels.ipynb\" title=\"~/github/etcbc/parallels/tf/2017/crossref.tf\">crossref</a></i></b><br></details><details><summary><b>BHSA = Biblia Hebraica Stuttgartensia Amstelodamensis</b></summary><a target=\"_blank\" href=\"https://etcbc.github.io/bhsa/features/book\" title=\"~/github/etcbc/bhsa/tf/2017/book.tf\">book</a><br><a target=\"_blank\" href=\"https://etcbc.github.io/bhsa/features/book@ll\" title=\"~/github/etcbc/bhsa/tf/2017/book@am.tf\">book@ll</a><br><a target=\"_blank\" href=\"https://etcbc.github.io/bhsa/features/chapter\" title=\"~/github/etcbc/bhsa/tf/2017/chapter.tf\">chapter</a><br><a target=\"_blank\" href=\"https://etcbc.github.io/bhsa/features/code\" title=\"~/github/etcbc/bhsa/tf/2017/code.tf\">code</a><br><a target=\"_blank\" href=\"https://etcbc.github.io/bhsa/features/det\" title=\"~/github/etcbc/bhsa/tf/2017/det.tf\">det</a><br><a target=\"_blank\" href=\"https://etcbc.github.io/bhsa/features/domain\" title=\"~/github/etcbc/bhsa/tf/2017/domain.tf\">domain</a><br><a target=\"_blank\" href=\"https://etcbc.github.io/bhsa/features/freq_lex\" title=\"~/github/etcbc/bhsa/tf/2017/freq_lex.tf\">freq_lex</a><br><a target=\"_blank\" href=\"https://etcbc.github.io/bhsa/features/function\" title=\"~/github/etcbc/bhsa/tf/2017/function.tf\">function</a><br><a target=\"_blank\" href=\"https://etcbc.github.io/bhsa/features/g_cons\" title=\"~/github/etcbc/bhsa/tf/2017/g_cons.tf\">g_cons</a><br><a target=\"_blank\" href=\"https://etcbc.github.io/bhsa/features/g_cons_utf8\" title=\"~/github/etcbc/bhsa/tf/2017/g_cons_utf8.tf\">g_cons_utf8</a><br><a target=\"_blank\" href=\"https://etcbc.github.io/bhsa/features/g_lex\" title=\"~/github/etcbc/bhsa/tf/2017/g_lex.tf\">g_lex</a><br><a target=\"_blank\" href=\"https://etcbc.github.io/bhsa/features/g_lex_utf8\" title=\"~/github/etcbc/bhsa/tf/2017/g_lex_utf8.tf\">g_lex_utf8</a><br><a target=\"_blank\" href=\"https://etcbc.github.io/bhsa/features/g_word\" title=\"~/github/etcbc/bhsa/tf/2017/g_word.tf\">g_word</a><br><a target=\"_blank\" href=\"https://etcbc.github.io/bhsa/features/g_word_utf8\" title=\"~/github/etcbc/bhsa/tf/2017/g_word_utf8.tf\">g_word_utf8</a><br><a target=\"_blank\" href=\"https://etcbc.github.io/bhsa/features/gloss\" title=\"~/github/etcbc/bhsa/tf/2017/gloss.tf\">gloss</a><br><a target=\"_blank\" href=\"https://etcbc.github.io/bhsa/features/gn\" title=\"~/github/etcbc/bhsa/tf/2017/gn.tf\">gn</a><br><a target=\"_blank\" href=\"https://etcbc.github.io/bhsa/features/label\" title=\"~/github/etcbc/bhsa/tf/2017/label.tf\">label</a><br><a target=\"_blank\" href=\"https://etcbc.github.io/bhsa/features/language\" title=\"~/github/etcbc/bhsa/tf/2017/language.tf\">language</a><br><a target=\"_blank\" href=\"https://etcbc.github.io/bhsa/features/lex\" title=\"~/github/etcbc/bhsa/tf/2017/lex.tf\">lex</a><br><a target=\"_blank\" href=\"https://etcbc.github.io/bhsa/features/lex_utf8\" title=\"~/github/etcbc/bhsa/tf/2017/lex_utf8.tf\">lex_utf8</a><br><a target=\"_blank\" href=\"https://etcbc.github.io/bhsa/features/ls\" title=\"~/github/etcbc/bhsa/tf/2017/ls.tf\">ls</a><br><a target=\"_blank\" href=\"https://etcbc.github.io/bhsa/features/nametype\" title=\"~/github/etcbc/bhsa/tf/2017/nametype.tf\">nametype</a><br><a target=\"_blank\" href=\"https://etcbc.github.io/bhsa/features/nme\" title=\"~/github/etcbc/bhsa/tf/2017/nme.tf\">nme</a><br><a target=\"_blank\" href=\"https://etcbc.github.io/bhsa/features/nu\" title=\"~/github/etcbc/bhsa/tf/2017/nu.tf\">nu</a><br><a target=\"_blank\" href=\"https://etcbc.github.io/bhsa/features/number\" title=\"~/github/etcbc/bhsa/tf/2017/number.tf\">number</a><br><a target=\"_blank\" href=\"https://etcbc.github.io/bhsa/features/otype\" title=\"~/github/etcbc/bhsa/tf/2017/otype.tf\">otype</a><br><a target=\"_blank\" href=\"https://etcbc.github.io/bhsa/features/pargr\" title=\"~/github/etcbc/bhsa/tf/2017/pargr.tf\">pargr</a><br><a target=\"_blank\" href=\"https://etcbc.github.io/bhsa/features/pdp\" title=\"~/github/etcbc/bhsa/tf/2017/pdp.tf\">pdp</a><br><a target=\"_blank\" href=\"https://etcbc.github.io/bhsa/features/pfm\" title=\"~/github/etcbc/bhsa/tf/2017/pfm.tf\">pfm</a><br><a target=\"_blank\" href=\"https://etcbc.github.io/bhsa/features/prs\" title=\"~/github/etcbc/bhsa/tf/2017/prs.tf\">prs</a><br><a target=\"_blank\" href=\"https://etcbc.github.io/bhsa/features/prs_gn\" title=\"~/github/etcbc/bhsa/tf/2017/prs_gn.tf\">prs_gn</a><br><a target=\"_blank\" href=\"https://etcbc.github.io/bhsa/features/prs_nu\" title=\"~/github/etcbc/bhsa/tf/2017/prs_nu.tf\">prs_nu</a><br><a target=\"_blank\" href=\"https://etcbc.github.io/bhsa/features/prs_ps\" title=\"~/github/etcbc/bhsa/tf/2017/prs_ps.tf\">prs_ps</a><br><a target=\"_blank\" href=\"https://etcbc.github.io/bhsa/features/ps\" title=\"~/github/etcbc/bhsa/tf/2017/ps.tf\">ps</a><br><a target=\"_blank\" href=\"https://etcbc.github.io/bhsa/features/qere\" title=\"~/github/etcbc/bhsa/tf/2017/qere.tf\">qere</a><br><a target=\"_blank\" href=\"https://etcbc.github.io/bhsa/features/qere_trailer\" title=\"~/github/etcbc/bhsa/tf/2017/qere_trailer.tf\">qere_trailer</a><br><a target=\"_blank\" href=\"https://etcbc.github.io/bhsa/features/qere_trailer_utf8\" title=\"~/github/etcbc/bhsa/tf/2017/qere_trailer_utf8.tf\">qere_trailer_utf8</a><br><a target=\"_blank\" href=\"https://etcbc.github.io/bhsa/features/qere_utf8\" title=\"~/github/etcbc/bhsa/tf/2017/qere_utf8.tf\">qere_utf8</a><br><a target=\"_blank\" href=\"https://etcbc.github.io/bhsa/features/rank_lex\" title=\"~/github/etcbc/bhsa/tf/2017/rank_lex.tf\">rank_lex</a><br><a target=\"_blank\" href=\"https://etcbc.github.io/bhsa/features/rela\" title=\"~/github/etcbc/bhsa/tf/2017/rela.tf\">rela</a><br><a target=\"_blank\" href=\"https://etcbc.github.io/bhsa/features/sp\" title=\"~/github/etcbc/bhsa/tf/2017/sp.tf\">sp</a><br><a target=\"_blank\" href=\"https://etcbc.github.io/bhsa/features/st\" title=\"~/github/etcbc/bhsa/tf/2017/st.tf\">st</a><br><a target=\"_blank\" href=\"https://etcbc.github.io/bhsa/features/tab\" title=\"~/github/etcbc/bhsa/tf/2017/tab.tf\">tab</a><br><a target=\"_blank\" href=\"https://etcbc.github.io/bhsa/features/trailer\" title=\"~/github/etcbc/bhsa/tf/2017/trailer.tf\">trailer</a><br><a target=\"_blank\" href=\"https://etcbc.github.io/bhsa/features/trailer_utf8\" title=\"~/github/etcbc/bhsa/tf/2017/trailer_utf8.tf\">trailer_utf8</a><br><a target=\"_blank\" href=\"https://etcbc.github.io/bhsa/features/txt\" title=\"~/github/etcbc/bhsa/tf/2017/txt.tf\">txt</a><br><a target=\"_blank\" href=\"https://etcbc.github.io/bhsa/features/typ\" title=\"~/github/etcbc/bhsa/tf/2017/typ.tf\">typ</a><br><a target=\"_blank\" href=\"https://etcbc.github.io/bhsa/features/uvf\" title=\"~/github/etcbc/bhsa/tf/2017/uvf.tf\">uvf</a><br><a target=\"_blank\" href=\"https://etcbc.github.io/bhsa/features/vbe\" title=\"~/github/etcbc/bhsa/tf/2017/vbe.tf\">vbe</a><br><a target=\"_blank\" href=\"https://etcbc.github.io/bhsa/features/vbs\" title=\"~/github/etcbc/bhsa/tf/2017/vbs.tf\">vbs</a><br><a target=\"_blank\" href=\"https://etcbc.github.io/bhsa/features/verse\" title=\"~/github/etcbc/bhsa/tf/2017/verse.tf\">verse</a><br><a target=\"_blank\" href=\"https://etcbc.github.io/bhsa/features/voc_lex\" title=\"~/github/etcbc/bhsa/tf/2017/voc_lex.tf\">voc_lex</a><br><a target=\"_blank\" href=\"https://etcbc.github.io/bhsa/features/voc_lex_utf8\" title=\"~/github/etcbc/bhsa/tf/2017/voc_lex_utf8.tf\">voc_lex_utf8</a><br><a target=\"_blank\" href=\"https://etcbc.github.io/bhsa/features/vs\" title=\"~/github/etcbc/bhsa/tf/2017/vs.tf\">vs</a><br><a target=\"_blank\" href=\"https://etcbc.github.io/bhsa/features/vt\" title=\"~/github/etcbc/bhsa/tf/2017/vt.tf\">vt</a><br><b><i><a target=\"_blank\" href=\"https://etcbc.github.io/bhsa/features/mother\" title=\"~/github/etcbc/bhsa/tf/2017/mother.tf\">mother</a></i></b><br><b><i><a target=\"_blank\" href=\"https://etcbc.github.io/bhsa/features/omap@ll\" title=\"~/github/etcbc/bhsa/tf/2017/omap@2016-2017.tf\">omap@ll</a></i></b><br><b><i><a target=\"_blank\" href=\"https://etcbc.github.io/bhsa/features/oslots\" title=\"~/github/etcbc/bhsa/tf/2017/oslots.tf\">oslots</a></i></b><br></details><details><summary><b>Phonetic Transcriptions</b></summary><a target=\"_blank\" href=\"https://nbviewer.jupyter.org/github/etcbc/phono/blob/master/programs/phono.ipynb\" title=\"~/github/etcbc/phono/tf/2017/phono.tf\">phono</a><br><a target=\"_blank\" href=\"https://nbviewer.jupyter.org/github/etcbc/phono/blob/master/programs/phono.ipynb\" title=\"~/github/etcbc/phono/tf/2017/phono_trailer.tf\">phono_trailer</a><br></details>"
      ],
      "text/plain": [
       "<IPython.core.display.HTML object>"
      ]
     },
     "metadata": {},
     "output_type": "display_data"
    },
    {
     "data": {
      "text/html": [
       "<style>tr.tf.ltr, td.tf.ltr, th.tf.ltr { text-align: left ! important;}\n",
       "tr.tf.rtl, td.tf.rtl, th.tf.rtl { text-align: right ! important;}\n",
       "@font-face {\n",
       "  font-family: \"Gentium Plus\";\n",
       "  src: local('Gentium Plus'), local('GentiumPlus'),\n",
       "    url('/server/static/fonts/GentiumPlus-R.woff') format('woff'),\n",
       "    url('https://github.com/annotation/text-fabric/blob/master/tf/server/static/fonts/GentiumPlus-R.woff?raw=true') format('woff');\n",
       "}\n",
       "\n",
       "@font-face {\n",
       "  font-family: \"Ezra SIL\";\n",
       "  src: local('Ezra SIL'), local('EzraSIL'),\n",
       "    url('/server/static/fonts/SILEOT.woff') format('woff'),\n",
       "    url('https://github.com/annotation/text-fabric/blob/master/tf/server/static/fonts/SILEOT.woff?raw=true') format('woff');\n",
       "}\n",
       "\n",
       "@font-face {\n",
       "  font-family: \"SBL Hebrew\";\n",
       "  src: local('SBL Hebrew'), local('SBLHebrew'),\n",
       "    url('/server/static/fonts/SBL_Hbrw.woff') format('woff'),\n",
       "    url('https://github.com/annotation/text-fabric/blob/master/tf/server/static/fonts/SBL_Hbrw.woff?raw=true') format('woff');\n",
       "}\n",
       "\n",
       "@font-face {\n",
       "  font-family: \"Estrangelo Edessa\";\n",
       "  src: local('Estrangelo Edessa'), local('EstrangeloEdessa');\n",
       "    url('/server/static/fonts/SyrCOMEdessa.woff') format('woff'),\n",
       "    url('https://github.com/annotation/text-fabric/blob/master/tf/server/static/fonts/SyrCOMEdessa.woff?raw=true') format('woff');\n",
       "}\n",
       "\n",
       "@font-face {\n",
       "  font-family: AmiriQuran;\n",
       "  font-style: normal;\n",
       "  font-weight: 400;\n",
       "  src: local('Amiri Quran'), local('AmiriQuran'),\n",
       "    url('/server/static/fonts/AmiriQuran.woff') format('woff'),\n",
       "    url('https://github.com/annotation/text-fabric/blob/master/tf/server/static/fonts/AmiriQuran.woff?raw=true') format('woff');\n",
       "}\n",
       "\n",
       "@font-face {\n",
       "  font-family: AmiriQuranColored;\n",
       "  font-style: normal;\n",
       "  font-weight: 400;\n",
       "  src: local('Amiri Quran Colored'), local('AmiriQuranColored'),\n",
       "    url('/server/static/fonts/AmiriQuranColored.woff') format('woff'),\n",
       "    url('https://github.com/annotation/text-fabric/blob/master/tf/server/static/fonts/AmiriQuranColored.woff?raw=true') format('woff');\n",
       "}\n",
       "\n",
       "@font-face {\n",
       "  font-family: \"Santakku\";\n",
       "  src: local('Santakku'),\n",
       "    url('/server/static/fonts/Santakku.woff') format('woff'),\n",
       "    url('https://github.com/annotation/text-fabric/blob/master/tf/server/static/fonts/Santakku.woff?raw=true') format('woff');\n",
       "}\n",
       "\n",
       "@font-face {\n",
       "  font-family: \"SantakkuM\";\n",
       "  src: local('SantakkuM'),\n",
       "    url('/server/static/fonts/SantakkuM.woff') format('woff'),\n",
       "    url('https://github.com/annotation/text-fabric/blob/master/tf/server/static/fonts/SantakkuM.woff?raw=true') format('woff');\n",
       "}\n",
       "/* bypassing some classical notebook settings */\n",
       "div#notebook {\n",
       "  line-height: unset;\n",
       "}\n",
       "/* neutral text */\n",
       ".txtn,.txtn a:visited,.txtn a:link {\n",
       "    font-family: sans-serif;\n",
       "    font-size: medium;\n",
       "    direction: ltr;\n",
       "    unicode-bidi: embed;\n",
       "    text-decoration: none;\n",
       "    color: var(--text-color);\n",
       "}\n",
       "/* transcription text */\n",
       ".txtt,.txtt a:visited,.txtt a:link {\n",
       "    font-family: monospace;\n",
       "    font-size: medium;\n",
       "    direction: ltr;\n",
       "    unicode-bidi: embed;\n",
       "    text-decoration: none;\n",
       "    color: var(--text-color);\n",
       "}\n",
       "/* source text */\n",
       ".txto,.txto a:visited,.txto a:link {\n",
       "    font-family: serif;\n",
       "    font-size: medium;\n",
       "    direction: ltr;\n",
       "    unicode-bidi: embed;\n",
       "    text-decoration: none;\n",
       "    color: var(--text-color);\n",
       "}\n",
       "/* phonetic text */\n",
       ".txtp,.txtp a:visited,.txtp a:link {\n",
       "    font-family: Gentium, sans-serif;\n",
       "    font-size: medium;\n",
       "    direction: ltr;\n",
       "    unicode-bidi: embed;\n",
       "    text-decoration: none;\n",
       "    color: var(--text-color);\n",
       "}\n",
       "/* original script text */\n",
       ".txtu,.txtu a:visited,.txtu a:link {\n",
       "    font-family: Gentium, sans-serif;\n",
       "    font-size: medium;\n",
       "    text-decoration: none;\n",
       "    color: var(--text-color);\n",
       "}\n",
       "/* hebrew */\n",
       ".txtu.hbo,.lex.hbo {\n",
       "    font-family: \"Ezra SIL\", \"SBL Hebrew\", sans-serif;\n",
       "    font-size: large;\n",
       "    direction: rtl ! important;\n",
       "    unicode-bidi: embed;\n",
       "}\n",
       "/* syriac */\n",
       ".txtu.syc,.lex.syc {\n",
       "    font-family: \"Estrangelo Edessa\", sans-serif;\n",
       "    font-size: medium;\n",
       "    direction: rtl ! important;\n",
       "    unicode-bidi: embed;\n",
       "}\n",
       "/* neo aramaic */\n",
       ".txtu.cld,.lex.cld {\n",
       "    font-family: \"CharisSIL-R\", sans-serif;\n",
       "    font-size: medium;\n",
       "    direction: ltr ! important;\n",
       "    unicode-bidi: embed;\n",
       "}\n",
       "/* standard arabic */\n",
       ".txtu.ara,.lex.ara {\n",
       "    font-family: \"AmiriQuran\", sans-serif;\n",
       "    font-size: large;\n",
       "    direction: rtl ! important;\n",
       "    unicode-bidi: embed;\n",
       "}\n",
       "/* cuneiform */\n",
       ".txtu.akk,.lex.akk {\n",
       "    font-family: Santakku, sans-serif;\n",
       "    font-size: large;\n",
       "    direction: ltr ! important;\n",
       "    unicode-bidi: embed;\n",
       "}\n",
       "/* greek */\n",
       ".txtu.grc,.lex.grc a:link {\n",
       "    font-family: Gentium, sans-serif;\n",
       "    font-size: medium;\n",
       "    direction: ltr ! important;\n",
       "    unicode-bidi: embed;\n",
       "}\n",
       "a:hover {\n",
       "    text-decoration: underline | important;\n",
       "    color: #0000ff | important;\n",
       "}\n",
       ".ltr {\n",
       "    direction: ltr ! important;\n",
       "    unicode-bidi: embed;\n",
       "}\n",
       ".rtl {\n",
       "    direction: rtl ! important;\n",
       "    unicode-bidi: embed;\n",
       "}\n",
       ".ubd {\n",
       "    unicode-bidi: embed;\n",
       "}\n",
       ".col {\n",
       "   display: inline-block;\n",
       "}\n",
       ".features {\n",
       "    font-family: monospace;\n",
       "    font-size: medium;\n",
       "    font-weight: bold;\n",
       "    color: var(--features);\n",
       "    display: flex;\n",
       "    flex-flow: column nowrap;\n",
       "    justify-content: flex-start;\n",
       "    align-items: flex-start;\n",
       "    align-content: flex-start;\n",
       "    padding: 2px;\n",
       "    margin: 2px;\n",
       "    direction: ltr;\n",
       "    unicode-bidi: embed;\n",
       "    border: var(--meta-width) solid var(--meta-color);\n",
       "    border-radius: var(--meta-width);\n",
       "}\n",
       ".features div,.features span {\n",
       "    padding: 0;\n",
       "    margin: -2px 0;\n",
       "}\n",
       ".features .f {\n",
       "    font-family: sans-serif;\n",
       "    font-size: small;\n",
       "    font-weight: normal;\n",
       "    color: #5555bb;\n",
       "}\n",
       ".features .xft {\n",
       "  color: #000000;\n",
       "  background-color: #eeeeee;\n",
       "  font-size: medium;\n",
       "  margin: 2px 0px;\n",
       "}\n",
       ".features .xft .f {\n",
       "  color: #000000;\n",
       "  background-color: #eeeeee;\n",
       "  font-size: small;\n",
       "  font-weight: normal;\n",
       "}\n",
       ".tfsechead {\n",
       "    font-family: sans-serif;\n",
       "    font-size: small;\n",
       "    font-weight: bold;\n",
       "    color: var(--tfsechead);\n",
       "    unicode-bidi: embed;\n",
       "    text-align: start;\n",
       "}\n",
       ".structure {\n",
       "    font-family: sans-serif;\n",
       "    font-size: small;\n",
       "    font-weight: bold;\n",
       "    color: var(--structure);\n",
       "    unicode-bidi: embed;\n",
       "    text-align: start;\n",
       "}\n",
       ".comments {\n",
       "    display: flex;\n",
       "    justify-content: flex-start;\n",
       "    align-items: flex-start;\n",
       "    align-content: flex-start;\n",
       "    flex-flow: column nowrap;\n",
       "}\n",
       ".nd, a:link.nd {\n",
       "    font-family: sans-serif;\n",
       "    font-size: small;\n",
       "    color: var(--node);\n",
       "    vertical-align: super;\n",
       "    direction: ltr ! important;\n",
       "    unicode-bidi: embed;\n",
       "}\n",
       ".lex {\n",
       "  color: var(--lex-color);;\n",
       "}\n",
       ".children,.children.ltr {\n",
       "    display: flex;\n",
       "    border: 0;\n",
       "    background-color: #ffffff;\n",
       "    justify-content: flex-start;\n",
       "    align-items: flex-start;\n",
       "    align-content: flex-start;\n",
       "}\n",
       ".children.stretch {\n",
       "    align-items: stretch;\n",
       "}\n",
       ".children.hor {\n",
       "    flex-flow: row nowrap;\n",
       "}\n",
       ".children.hor.wrap {\n",
       "    flex-flow: row wrap;\n",
       "}\n",
       ".children.ver {\n",
       "    flex-flow: column nowrap;\n",
       "}\n",
       ".children.ver.wrap {\n",
       "    flex-flow: column wrap;\n",
       "}\n",
       ".contnr {\n",
       "    width: fit-content;\n",
       "    display: flex;\n",
       "    justify-content: flex-start;\n",
       "    align-items: flex-start;\n",
       "    align-content: flex-start;\n",
       "    flex-flow: column nowrap;\n",
       "    background: #ffffff none repeat scroll 0 0;\n",
       "    padding:  10px 2px 2px 2px;\n",
       "    margin: 16px 2px 2px 2px;\n",
       "    border-style: solid;\n",
       "    font-size: small;\n",
       "}\n",
       ".contnr.trm {\n",
       "    background-attachment: local;\n",
       "}\n",
       ".contnr.cnul {\n",
       "    padding:  0;\n",
       "    margin: 0;\n",
       "    border-style: solid;\n",
       "    font-size: xx-small;\n",
       "}\n",
       ".contnr.cnul,.lbl.cnul {\n",
       "    border-color: var(--border-color-nul);\n",
       "    border-width: var(--border-width-nul);\n",
       "    border-radius: var(--border-width-nul);\n",
       "}\n",
       ".contnr.c0,.lbl.c0 {\n",
       "    border-color: var(--border-color0);\n",
       "    border-width: var(--border-width0);\n",
       "    border-radius: var(--border-width0);\n",
       "}\n",
       ".contnr.c1,.lbl.c1 {\n",
       "    border-color: var(--border-color1);\n",
       "    border-width: var(--border-width1);\n",
       "    border-radius: var(--border-width1);\n",
       "}\n",
       ".contnr.c2,.lbl.c2 {\n",
       "    border-color: var(--border-color2);\n",
       "    border-width: var(--border-width2);\n",
       "    border-radius: var(--border-width2);\n",
       "}\n",
       ".contnr.c3,.lbl.c3 {\n",
       "    border-color: var(--border-color3);\n",
       "    border-width: var(--border-width3);\n",
       "    border-radius: var(--border-width3);\n",
       "}\n",
       ".contnr.c4,.lbl.c4 {\n",
       "    border-color: var(--border-color4);\n",
       "    border-width: var(--border-width4);\n",
       "    border-radius: var(--border-width4);\n",
       "}\n",
       "span.plain {\n",
       "    display: inline-block;\n",
       "    white-space: pre-wrap;\n",
       "}\n",
       ".plain {\n",
       "    background-color: #ffffff;\n",
       "}\n",
       ".plain.l,.contnr.l,.contnr.l>.lbl {\n",
       "    border-left-style: dotted\n",
       "}\n",
       ".plain.r,.contnr.r,.contnr.r>.lbl {\n",
       "    border-right-style: dotted\n",
       "}\n",
       ".plain.lno,.contnr.lno,.contnr.lno>.lbl {\n",
       "    border-left-style: none\n",
       "}\n",
       ".plain.rno,.contnr.rno,.contnr.rno>.lbl {\n",
       "    border-right-style: none\n",
       "}\n",
       ".plain.l {\n",
       "    padding-left: 4px;\n",
       "    margin-left: 2px;\n",
       "    border-width: var(--border-width-plain);\n",
       "}\n",
       ".plain.r {\n",
       "    padding-right: 4px;\n",
       "    margin-right: 2px;\n",
       "    border-width: var(--border-width-plain);\n",
       "}\n",
       ".lbl {\n",
       "    font-family: monospace;\n",
       "    margin-top: -24px;\n",
       "    margin-left: 20px;\n",
       "    background: #ffffff none repeat scroll 0 0;\n",
       "    padding: 0 6px;\n",
       "    border-style: solid;\n",
       "    display: block;\n",
       "    color: var(--label)\n",
       "}\n",
       ".lbl.trm {\n",
       "    background-attachment: local;\n",
       "    margin-top: 2px;\n",
       "    margin-left: 2px;\n",
       "    padding: 2px 2px;\n",
       "    border-style: none;\n",
       "}\n",
       ".lbl.cnul {\n",
       "    font-size: xx-small;\n",
       "}\n",
       ".lbl.c0 {\n",
       "    font-size: small;\n",
       "}\n",
       ".lbl.c1 {\n",
       "    font-size: small;\n",
       "}\n",
       ".lbl.c2 {\n",
       "    font-size: medium;\n",
       "}\n",
       ".lbl.c3 {\n",
       "    font-size: medium;\n",
       "}\n",
       ".lbl.c4 {\n",
       "    font-size: large;\n",
       "}\n",
       ".occs, a:link.occs {\n",
       "    font-size: small;\n",
       "}\n",
       "\n",
       "/* PROVENANCE */\n",
       "\n",
       "div.prov {\n",
       "\tmargin: 40px;\n",
       "\tpadding: 20px;\n",
       "\tborder: 2px solid var(--fog-rim);\n",
       "}\n",
       "div.pline {\n",
       "\tdisplay: flex;\n",
       "\tflex-flow: row nowrap;\n",
       "\tjustify-content: stretch;\n",
       "\talign-items: baseline;\n",
       "}\n",
       "div.p2line {\n",
       "\tmargin-left: 2em;\n",
       "\tdisplay: flex;\n",
       "\tflex-flow: row nowrap;\n",
       "\tjustify-content: stretch;\n",
       "\talign-items: baseline;\n",
       "}\n",
       "div.psline {\n",
       "\tdisplay: flex;\n",
       "\tflex-flow: row nowrap;\n",
       "\tjustify-content: stretch;\n",
       "\talign-items: baseline;\n",
       "\tbackground-color: var(--gold-mist-back);\n",
       "}\n",
       "div.pname {\n",
       "\tflex: 0 0 5rem;\n",
       "\tfont-weight: bold;\n",
       "}\n",
       "div.pval {\n",
       "    flex: 1 1 auto;\n",
       "}\n",
       "\n",
       ":root {\n",
       "\t--node:               hsla(120, 100%,  20%, 1.0  );\n",
       "\t--label:              hsla(  0, 100%,  20%, 1.0  );\n",
       "\t--tfsechead:          hsla(  0, 100%,  25%, 1.0  );\n",
       "\t--structure:          hsla(120, 100%,  25%, 1.0  );\n",
       "\t--features:           hsla(  0,   0%,  30%, 1.0  );\n",
       "  --text-color:         hsla( 60,  80%,  10%, 1.0  );\n",
       "  --lex-color:          hsla(220,  90%,  60%, 1.0  );\n",
       "  --meta-color:         hsla(  0,   0%,  90%, 0.7  );\n",
       "  --meta-width:         3px;\n",
       "  --border-color-nul:   hsla(  0,   0%,  90%, 0.5  );\n",
       "  --border-color0:      hsla(  0,   0%,  90%, 0.9  );\n",
       "  --border-color1:      hsla(  0,   0%,  80%, 0.9  );\n",
       "  --border-color2:      hsla(  0,   0%,  70%, 0.9  );\n",
       "  --border-color3:      hsla(  0,   0%,  80%, 0.8  );\n",
       "  --border-color4:      hsla(  0,   0%,  60%, 0.9  );\n",
       "  --border-width-nul:   2px;\n",
       "  --border-width0:      2px;\n",
       "  --border-width1:      3px;\n",
       "  --border-width2:      4px;\n",
       "  --border-width3:      6px;\n",
       "  --border-width4:      5px;\n",
       "  --border-width-plain: 2px;\n",
       "}\n",
       ".hl {\n",
       "  background-color: var(--hl-strong);\n",
       "}\n",
       "span.hl {\n",
       "\tbackground-color: var(--hl-strong);\n",
       "\tborder-width: 0;\n",
       "\tborder-radius: 2px;\n",
       "\tborder-style: solid;\n",
       "}\n",
       "div.contnr.hl,div.lbl.hl {\n",
       "  background-color: var(--hl-strong);\n",
       "}\n",
       "div.contnr.hl {\n",
       "  border-color: var(--hl-rim) ! important;\n",
       "\tborder-width: 4px ! important;\n",
       "}\n",
       "\n",
       "span.hlbx {\n",
       "\tborder-color: var(--hl-rim);\n",
       "\tborder-width: 4px ! important;\n",
       "\tborder-style: solid;\n",
       "\tborder-radius: 6px;\n",
       "  padding: 4px;\n",
       "  margin: 4px;\n",
       "}\n",
       "\n",
       "span.plain {\n",
       "  display: inline-block;\n",
       "  white-space: pre-wrap;\n",
       "}\n",
       "\n",
       ":root {\n",
       "\t--hl-strong:        hsla( 60, 100%,  70%, 0.9  );\n",
       "\t--hl-rim:           hsla( 55,  80%,  50%, 1.0  );\n",
       "}\n",
       "</style>"
      ],
      "text/plain": [
       "<IPython.core.display.HTML object>"
      ]
     },
     "metadata": {},
     "output_type": "display_data"
    },
    {
     "data": {
      "text/html": [
       "<div><b>Text-Fabric API:</b> names <a target=\"_blank\" href=\"https://annotation.github.io/text-fabric/tf/cheatsheet.html\" title=\"doc\">N F E L T S C TF</a> directly usable</div><hr>"
      ],
      "text/plain": [
       "<IPython.core.display.HTML object>"
      ]
     },
     "metadata": {},
     "output_type": "display_data"
    }
   ],
   "source": [
    "VERSION = '2017'\n",
    "# A = use('bhsa', hoist=globals(), version=VERSION)\n",
    "A = use('bhsa:clone', checkout=\"clone\", hoist=globals(), version=VERSION)"
   ]
  },
  {
   "cell_type": "markdown",
   "id": "warming-journey",
   "metadata": {},
   "source": [
    "# Example 1\n",
    "\n",
    "[Bas Meeuse: Example 1: Moses starts the speech](https://shebanq.ancient-data.org/hebrew/query?version=2017&id=4439)\n",
    "\n",
    "```\n",
    "[clause FOCUS\n",
    "  [word lex = '>MR[' OR lex = 'DBR['] \n",
    "  [phrase function = Subj\n",
    "    [word lex = 'MCH=/']\n",
    "  ]\n",
    "  ..\n",
    "  [phrase function IN (Cmpl)\n",
    "    [word lex = 'JHWH/' OR lex = '>LHJM/']\n",
    "  ]\n",
    "]\n",
    "\n",
    "```"
   ]
  },
  {
   "cell_type": "code",
   "execution_count": 5,
   "id": "affected-transformation",
   "metadata": {},
   "outputs": [
    {
     "name": "stdout",
     "output_type": "stream",
     "text": [
      "8 results in 8 verses with 42 words\n"
     ]
    }
   ],
   "source": [
    "(verses, words) = getShebanqData(A, MQL_RESULTS, 1)"
   ]
  },
  {
   "cell_type": "code",
   "execution_count": 6,
   "id": "surrounded-brooklyn",
   "metadata": {},
   "outputs": [],
   "source": [
    "query = \"\"\"\n",
    "clause\n",
    "  word lex=>MR[|DBR[\n",
    "  <: phrase function=Subj\n",
    "    word lex=MCH=/\n",
    "  < phrase function=Cmpl\n",
    "    word lex=JHWH/|>LHJM/\n",
    "\"\"\""
   ]
  },
  {
   "cell_type": "code",
   "execution_count": 7,
   "id": "republican-panic",
   "metadata": {},
   "outputs": [
    {
     "name": "stdout",
     "output_type": "stream",
     "text": [
      "  1.68s 8 results\n"
     ]
    }
   ],
   "source": [
    "results = A.search(query)"
   ]
  },
  {
   "cell_type": "markdown",
   "id": "executive-cancer",
   "metadata": {},
   "source": [
    "We need to do some effort to count the distinct verses and focused words in the results.\n",
    "The function `getTfVerse()`, imported from the adhoc `utils` module in this directory does it."
   ]
  },
  {
   "cell_type": "code",
   "execution_count": 8,
   "id": "blond-contest",
   "metadata": {},
   "outputs": [
    {
     "name": "stdout",
     "output_type": "stream",
     "text": [
      "  8 verses\n",
      " 42 words\n"
     ]
    }
   ],
   "source": [
    "(tfVerses, tfWords) = getTfVerses(A, results, (0,))"
   ]
  },
  {
   "cell_type": "markdown",
   "id": "alleged-appeal",
   "metadata": {},
   "source": [
    "**The numbers agree exactly**.\n",
    "\n",
    "This is not a rigorous proof that the MQL results are identical to the TF results, but it is a very good indication.\n",
    "\n",
    "However, we will also check that all words and verses in the shebanq results are\n",
    "exactly the words and verses in the TF results. We try to find the first difference."
   ]
  },
  {
   "cell_type": "code",
   "execution_count": 9,
   "id": "necessary-yahoo",
   "metadata": {},
   "outputs": [
    {
     "name": "stdout",
     "output_type": "stream",
     "text": [
      "VERSES EQUAL\n",
      "WORDS EQUAL\n"
     ]
    }
   ],
   "source": [
    "compareResults(A, verses, words, tfVerses, tfWords)"
   ]
  },
  {
   "cell_type": "markdown",
   "id": "registered-feedback",
   "metadata": {},
   "source": [
    "Finally, here are the results of the TF query."
   ]
  },
  {
   "cell_type": "code",
   "execution_count": 10,
   "id": "forty-austria",
   "metadata": {},
   "outputs": [
    {
     "data": {
      "text/html": [
       "<table><tr class=\"tf rtl\"><th class=\"tf rtl\">n</th><th class=\"tf rtl\">p</th><th class=\"tf rtl\">clause</th><th class=\"tf\">word</th><th class=\"tf\">phrase</th><th class=\"tf\">word</th><th class=\"tf\">phrase</th><th class=\"tf\">word</th></tr>\n",
       "<tr class=\"tf rtl\"><td class=\"tf rtl\">1</td><td class=\"tf rtl\"><span class=\"tfsechead ltr\"><a target=\"_blank\" href=\"https://shebanq.ancient-data.org/hebrew/text?book=Exodus&amp;chapter=3&amp;verse=11&amp;version=2017&amp;mr=m&amp;qw=q&amp;tp=txt_p&amp;tr=hb&amp;wget=v&amp;qget=v&amp;nget=vt\" title=\"Show this on SHEBANQ\" sec=\"Exodus 3:11\">Exodus 3:11</a></span></td><td class=\"tf rtl\"><span class=\"rtl ubd\"><span class=\"plain rtl  hlbx\" ><span class=\"txtu hbo\">וַ</span><span class=\"plain rtl  hl\" ><span class=\"txtu hbo\">יֹּ֤אמֶר </span></span><span class=\"plain rtl  hlbx\" ><span class=\"plain rtl  hl\" ><span class=\"txtu hbo\">מֹשֶׁה֙ </span></span></span><span class=\"plain rtl  hlbx\" ><span class=\"txtu hbo\">אֶל־</span><span class=\"txtu hbo\">הָ֣</span><span class=\"plain rtl  hl\" ><span class=\"txtu hbo\">אֱלֹהִ֔ים </span></span></span></span></span></td><td class=\"tf rtl\"><span class=\"rtl ubd\"><span class=\"plain rtl  hl\" ><span class=\"txtu hbo\">יֹּ֤אמֶר </span></span></span></td><td class=\"tf rtl\"><span class=\"rtl ubd\"><span class=\"plain rtl  hlbx\" ><span class=\"plain rtl  hl\" ><span class=\"txtu hbo\">מֹשֶׁה֙ </span></span></span></span></td><td class=\"tf rtl\"><span class=\"rtl ubd\"><span class=\"plain rtl  hl\" ><span class=\"txtu hbo\">מֹשֶׁה֙ </span></span></span></td><td class=\"tf rtl\"><span class=\"rtl ubd\"><span class=\"plain rtl  hlbx\" ><span class=\"txtu hbo\">אֶל־</span><span class=\"txtu hbo\">הָ֣</span><span class=\"plain rtl  hl\" ><span class=\"txtu hbo\">אֱלֹהִ֔ים </span></span></span></span></td><td class=\"tf rtl\"><span class=\"rtl ubd\"><span class=\"plain rtl  hl\" ><span class=\"txtu hbo\">אֱלֹהִ֔ים </span></span></span></td></tr>\n",
       "<tr class=\"tf rtl\"><td class=\"tf rtl\">2</td><td class=\"tf rtl\"><span class=\"tfsechead ltr\"><a target=\"_blank\" href=\"https://shebanq.ancient-data.org/hebrew/text?book=Exodus&amp;chapter=3&amp;verse=13&amp;version=2017&amp;mr=m&amp;qw=q&amp;tp=txt_p&amp;tr=hb&amp;wget=v&amp;qget=v&amp;nget=vt\" title=\"Show this on SHEBANQ\" sec=\"Exodus 3:13\">Exodus 3:13</a></span></td><td class=\"tf rtl\"><span class=\"rtl ubd\"><span class=\"plain rtl  hlbx\" ><span class=\"txtu hbo\">וַ</span><span class=\"plain rtl  hl\" ><span class=\"txtu hbo\">יֹּ֨אמֶר </span></span><span class=\"plain rtl  hlbx\" ><span class=\"plain rtl  hl\" ><span class=\"txtu hbo\">מֹשֶׁ֜ה </span></span></span><span class=\"plain rtl  hlbx\" ><span class=\"txtu hbo\">אֶל־</span><span class=\"txtu hbo\">הָֽ</span><span class=\"plain rtl  hl\" ><span class=\"txtu hbo\">אֱלֹהִ֗ים </span></span></span></span></span></td><td class=\"tf rtl\"><span class=\"rtl ubd\"><span class=\"plain rtl  hl\" ><span class=\"txtu hbo\">יֹּ֨אמֶר </span></span></span></td><td class=\"tf rtl\"><span class=\"rtl ubd\"><span class=\"plain rtl  hlbx\" ><span class=\"plain rtl  hl\" ><span class=\"txtu hbo\">מֹשֶׁ֜ה </span></span></span></span></td><td class=\"tf rtl\"><span class=\"rtl ubd\"><span class=\"plain rtl  hl\" ><span class=\"txtu hbo\">מֹשֶׁ֜ה </span></span></span></td><td class=\"tf rtl\"><span class=\"rtl ubd\"><span class=\"plain rtl  hlbx\" ><span class=\"txtu hbo\">אֶל־</span><span class=\"txtu hbo\">הָֽ</span><span class=\"plain rtl  hl\" ><span class=\"txtu hbo\">אֱלֹהִ֗ים </span></span></span></span></td><td class=\"tf rtl\"><span class=\"rtl ubd\"><span class=\"plain rtl  hl\" ><span class=\"txtu hbo\">אֱלֹהִ֗ים </span></span></span></td></tr>\n",
       "<tr class=\"tf rtl\"><td class=\"tf rtl\">3</td><td class=\"tf rtl\"><span class=\"tfsechead ltr\"><a target=\"_blank\" href=\"https://shebanq.ancient-data.org/hebrew/text?book=Exodus&amp;chapter=4&amp;verse=10&amp;version=2017&amp;mr=m&amp;qw=q&amp;tp=txt_p&amp;tr=hb&amp;wget=v&amp;qget=v&amp;nget=vt\" title=\"Show this on SHEBANQ\" sec=\"Exodus 4:10\">Exodus 4:10</a></span></td><td class=\"tf rtl\"><span class=\"rtl ubd\"><span class=\"plain rtl  hlbx\" ><span class=\"txtu hbo\">וַ</span><span class=\"plain rtl  hl\" ><span class=\"txtu hbo\">יֹּ֨אמֶר </span></span><span class=\"plain rtl  hlbx\" ><span class=\"plain rtl  hl\" ><span class=\"txtu hbo\">מֹשֶׁ֣ה </span></span></span><span class=\"plain rtl  hlbx\" ><span class=\"txtu hbo\">אֶל־</span><span class=\"plain rtl  hl\" ><span class=\"txtu hbo\">יְהוָה֮ </span></span></span></span></span></td><td class=\"tf rtl\"><span class=\"rtl ubd\"><span class=\"plain rtl  hl\" ><span class=\"txtu hbo\">יֹּ֨אמֶר </span></span></span></td><td class=\"tf rtl\"><span class=\"rtl ubd\"><span class=\"plain rtl  hlbx\" ><span class=\"plain rtl  hl\" ><span class=\"txtu hbo\">מֹשֶׁ֣ה </span></span></span></span></td><td class=\"tf rtl\"><span class=\"rtl ubd\"><span class=\"plain rtl  hl\" ><span class=\"txtu hbo\">מֹשֶׁ֣ה </span></span></span></td><td class=\"tf rtl\"><span class=\"rtl ubd\"><span class=\"plain rtl  hlbx\" ><span class=\"txtu hbo\">אֶל־</span><span class=\"plain rtl  hl\" ><span class=\"txtu hbo\">יְהוָה֮ </span></span></span></span></td><td class=\"tf rtl\"><span class=\"rtl ubd\"><span class=\"plain rtl  hl\" ><span class=\"txtu hbo\">יְהוָה֮ </span></span></span></td></tr>\n",
       "<tr class=\"tf rtl\"><td class=\"tf rtl\">4</td><td class=\"tf rtl\"><span class=\"tfsechead ltr\"><a target=\"_blank\" href=\"https://shebanq.ancient-data.org/hebrew/text?book=Exodus&amp;chapter=19&amp;verse=23&amp;version=2017&amp;mr=m&amp;qw=q&amp;tp=txt_p&amp;tr=hb&amp;wget=v&amp;qget=v&amp;nget=vt\" title=\"Show this on SHEBANQ\" sec=\"Exodus 19:23\">Exodus 19:23</a></span></td><td class=\"tf rtl\"><span class=\"rtl ubd\"><span class=\"plain rtl  hlbx\" ><span class=\"txtu hbo\">וַ</span><span class=\"plain rtl  hl\" ><span class=\"txtu hbo\">יֹּ֤אמֶר </span></span><span class=\"plain rtl  hlbx\" ><span class=\"plain rtl  hl\" ><span class=\"txtu hbo\">מֹשֶׁה֙ </span></span></span><span class=\"plain rtl  hlbx\" ><span class=\"txtu hbo\">אֶל־</span><span class=\"plain rtl  hl\" ><span class=\"txtu hbo\">יְהוָ֔ה </span></span></span></span></span></td><td class=\"tf rtl\"><span class=\"rtl ubd\"><span class=\"plain rtl  hl\" ><span class=\"txtu hbo\">יֹּ֤אמֶר </span></span></span></td><td class=\"tf rtl\"><span class=\"rtl ubd\"><span class=\"plain rtl  hlbx\" ><span class=\"plain rtl  hl\" ><span class=\"txtu hbo\">מֹשֶׁה֙ </span></span></span></span></td><td class=\"tf rtl\"><span class=\"rtl ubd\"><span class=\"plain rtl  hl\" ><span class=\"txtu hbo\">מֹשֶׁה֙ </span></span></span></td><td class=\"tf rtl\"><span class=\"rtl ubd\"><span class=\"plain rtl  hlbx\" ><span class=\"txtu hbo\">אֶל־</span><span class=\"plain rtl  hl\" ><span class=\"txtu hbo\">יְהוָ֔ה </span></span></span></span></td><td class=\"tf rtl\"><span class=\"rtl ubd\"><span class=\"plain rtl  hl\" ><span class=\"txtu hbo\">יְהוָ֔ה </span></span></span></td></tr>\n",
       "<tr class=\"tf rtl\"><td class=\"tf rtl\">5</td><td class=\"tf rtl\"><span class=\"tfsechead ltr\"><a target=\"_blank\" href=\"https://shebanq.ancient-data.org/hebrew/text?book=Exodus&amp;chapter=33&amp;verse=12&amp;version=2017&amp;mr=m&amp;qw=q&amp;tp=txt_p&amp;tr=hb&amp;wget=v&amp;qget=v&amp;nget=vt\" title=\"Show this on SHEBANQ\" sec=\"Exodus 33:12\">Exodus 33:12</a></span></td><td class=\"tf rtl\"><span class=\"rtl ubd\"><span class=\"plain rtl  hlbx\" ><span class=\"txtu hbo\">וַ</span><span class=\"plain rtl  hl\" ><span class=\"txtu hbo\">יֹּ֨אמֶר </span></span><span class=\"plain rtl  hlbx\" ><span class=\"plain rtl  hl\" ><span class=\"txtu hbo\">מֹשֶׁ֜ה </span></span></span><span class=\"plain rtl  hlbx\" ><span class=\"txtu hbo\">אֶל־</span><span class=\"plain rtl  hl\" ><span class=\"txtu hbo\">יְהוָ֗ה </span></span></span></span></span></td><td class=\"tf rtl\"><span class=\"rtl ubd\"><span class=\"plain rtl  hl\" ><span class=\"txtu hbo\">יֹּ֨אמֶר </span></span></span></td><td class=\"tf rtl\"><span class=\"rtl ubd\"><span class=\"plain rtl  hlbx\" ><span class=\"plain rtl  hl\" ><span class=\"txtu hbo\">מֹשֶׁ֜ה </span></span></span></span></td><td class=\"tf rtl\"><span class=\"rtl ubd\"><span class=\"plain rtl  hl\" ><span class=\"txtu hbo\">מֹשֶׁ֜ה </span></span></span></td><td class=\"tf rtl\"><span class=\"rtl ubd\"><span class=\"plain rtl  hlbx\" ><span class=\"txtu hbo\">אֶל־</span><span class=\"plain rtl  hl\" ><span class=\"txtu hbo\">יְהוָ֗ה </span></span></span></span></td><td class=\"tf rtl\"><span class=\"rtl ubd\"><span class=\"plain rtl  hl\" ><span class=\"txtu hbo\">יְהוָ֗ה </span></span></span></td></tr>\n",
       "<tr class=\"tf rtl\"><td class=\"tf rtl\">6</td><td class=\"tf rtl\"><span class=\"tfsechead ltr\"><a target=\"_blank\" href=\"https://shebanq.ancient-data.org/hebrew/text?book=Numeri&amp;chapter=11&amp;verse=11&amp;version=2017&amp;mr=m&amp;qw=q&amp;tp=txt_p&amp;tr=hb&amp;wget=v&amp;qget=v&amp;nget=vt\" title=\"Show this on SHEBANQ\" sec=\"Numbers 11:11\">Numbers 11:11</a></span></td><td class=\"tf rtl\"><span class=\"rtl ubd\"><span class=\"plain rtl  hlbx\" ><span class=\"txtu hbo\">וַ</span><span class=\"plain rtl  hl\" ><span class=\"txtu hbo\">יֹּ֨אמֶר </span></span><span class=\"plain rtl  hlbx\" ><span class=\"plain rtl  hl\" ><span class=\"txtu hbo\">מֹשֶׁ֜ה </span></span></span><span class=\"plain rtl  hlbx\" ><span class=\"txtu hbo\">אֶל־</span><span class=\"plain rtl  hl\" ><span class=\"txtu hbo\">יְהוָ֗ה </span></span></span></span></span></td><td class=\"tf rtl\"><span class=\"rtl ubd\"><span class=\"plain rtl  hl\" ><span class=\"txtu hbo\">יֹּ֨אמֶר </span></span></span></td><td class=\"tf rtl\"><span class=\"rtl ubd\"><span class=\"plain rtl  hlbx\" ><span class=\"plain rtl  hl\" ><span class=\"txtu hbo\">מֹשֶׁ֜ה </span></span></span></span></td><td class=\"tf rtl\"><span class=\"rtl ubd\"><span class=\"plain rtl  hl\" ><span class=\"txtu hbo\">מֹשֶׁ֜ה </span></span></span></td><td class=\"tf rtl\"><span class=\"rtl ubd\"><span class=\"plain rtl  hlbx\" ><span class=\"txtu hbo\">אֶל־</span><span class=\"plain rtl  hl\" ><span class=\"txtu hbo\">יְהוָ֗ה </span></span></span></span></td><td class=\"tf rtl\"><span class=\"rtl ubd\"><span class=\"plain rtl  hl\" ><span class=\"txtu hbo\">יְהוָ֗ה </span></span></span></td></tr>\n",
       "<tr class=\"tf rtl\"><td class=\"tf rtl\">7</td><td class=\"tf rtl\"><span class=\"tfsechead ltr\"><a target=\"_blank\" href=\"https://shebanq.ancient-data.org/hebrew/text?book=Numeri&amp;chapter=14&amp;verse=13&amp;version=2017&amp;mr=m&amp;qw=q&amp;tp=txt_p&amp;tr=hb&amp;wget=v&amp;qget=v&amp;nget=vt\" title=\"Show this on SHEBANQ\" sec=\"Numbers 14:13\">Numbers 14:13</a></span></td><td class=\"tf rtl\"><span class=\"rtl ubd\"><span class=\"plain rtl  hlbx\" ><span class=\"txtu hbo\">וַ</span><span class=\"plain rtl  hl\" ><span class=\"txtu hbo\">יֹּ֥אמֶר </span></span><span class=\"plain rtl  hlbx\" ><span class=\"plain rtl  hl\" ><span class=\"txtu hbo\">מֹשֶׁ֖ה </span></span></span><span class=\"plain rtl  hlbx\" ><span class=\"txtu hbo\">אֶל־</span><span class=\"plain rtl  hl\" ><span class=\"txtu hbo\">יְהוָ֑ה </span></span></span></span></span></td><td class=\"tf rtl\"><span class=\"rtl ubd\"><span class=\"plain rtl  hl\" ><span class=\"txtu hbo\">יֹּ֥אמֶר </span></span></span></td><td class=\"tf rtl\"><span class=\"rtl ubd\"><span class=\"plain rtl  hlbx\" ><span class=\"plain rtl  hl\" ><span class=\"txtu hbo\">מֹשֶׁ֖ה </span></span></span></span></td><td class=\"tf rtl\"><span class=\"rtl ubd\"><span class=\"plain rtl  hl\" ><span class=\"txtu hbo\">מֹשֶׁ֖ה </span></span></span></td><td class=\"tf rtl\"><span class=\"rtl ubd\"><span class=\"plain rtl  hlbx\" ><span class=\"txtu hbo\">אֶל־</span><span class=\"plain rtl  hl\" ><span class=\"txtu hbo\">יְהוָ֑ה </span></span></span></span></td><td class=\"tf rtl\"><span class=\"rtl ubd\"><span class=\"plain rtl  hl\" ><span class=\"txtu hbo\">יְהוָ֑ה </span></span></span></td></tr>\n",
       "<tr class=\"tf rtl\"><td class=\"tf rtl\">8</td><td class=\"tf rtl\"><span class=\"tfsechead ltr\"><a target=\"_blank\" href=\"https://shebanq.ancient-data.org/hebrew/text?book=Numeri&amp;chapter=27&amp;verse=15&amp;version=2017&amp;mr=m&amp;qw=q&amp;tp=txt_p&amp;tr=hb&amp;wget=v&amp;qget=v&amp;nget=vt\" title=\"Show this on SHEBANQ\" sec=\"Numbers 27:15\">Numbers 27:15</a></span></td><td class=\"tf rtl\"><span class=\"rtl ubd\"><span class=\"plain rtl  hlbx\" ><span class=\"txtu hbo\">וַ</span><span class=\"plain rtl  hl\" ><span class=\"txtu hbo\">יְדַבֵּ֣ר </span></span><span class=\"plain rtl  hlbx\" ><span class=\"plain rtl  hl\" ><span class=\"txtu hbo\">מֹשֶׁ֔ה </span></span></span><span class=\"plain rtl  hlbx\" ><span class=\"txtu hbo\">אֶל־</span><span class=\"plain rtl  hl\" ><span class=\"txtu hbo\">יְהוָ֖ה </span></span></span></span></span></td><td class=\"tf rtl\"><span class=\"rtl ubd\"><span class=\"plain rtl  hl\" ><span class=\"txtu hbo\">יְדַבֵּ֣ר </span></span></span></td><td class=\"tf rtl\"><span class=\"rtl ubd\"><span class=\"plain rtl  hlbx\" ><span class=\"plain rtl  hl\" ><span class=\"txtu hbo\">מֹשֶׁ֔ה </span></span></span></span></td><td class=\"tf rtl\"><span class=\"rtl ubd\"><span class=\"plain rtl  hl\" ><span class=\"txtu hbo\">מֹשֶׁ֔ה </span></span></span></td><td class=\"tf rtl\"><span class=\"rtl ubd\"><span class=\"plain rtl  hlbx\" ><span class=\"txtu hbo\">אֶל־</span><span class=\"plain rtl  hl\" ><span class=\"txtu hbo\">יְהוָ֖ה </span></span></span></span></td><td class=\"tf rtl\"><span class=\"rtl ubd\"><span class=\"plain rtl  hl\" ><span class=\"txtu hbo\">יְהוָ֖ה </span></span></span></td></tr></table>"
      ],
      "text/plain": [
       "<IPython.core.display.HTML object>"
      ]
     },
     "metadata": {},
     "output_type": "display_data"
    }
   ],
   "source": [
    "A.table(results)"
   ]
  },
  {
   "cell_type": "markdown",
   "id": "attached-wildlife",
   "metadata": {},
   "source": [
    "# Example 2\n",
    "\n",
    "[Bas Meeuse: Example 2: FJM + prep. L](https://shebanq.ancient-data.org/hebrew/query?version=2017&id=4440)\n",
    "\n",
    "```\n",
    "[clause\n",
    "  [word FOCUS lex = 'FJM[']\n",
    "  ..\n",
    "  [word FOCUS lex = \"L\"]\n",
    "  [word lex <> '<JN/' AND lex <> 'PNH/']\n",
    "]\n",
    "```"
   ]
  },
  {
   "cell_type": "code",
   "execution_count": 11,
   "id": "vertical-beast",
   "metadata": {},
   "outputs": [
    {
     "name": "stdout",
     "output_type": "stream",
     "text": [
      "156 results in 136 verses with 294 words\n"
     ]
    }
   ],
   "source": [
    "(verses, words) = getShebanqData(A, MQL_RESULTS, 2)"
   ]
  },
  {
   "cell_type": "code",
   "execution_count": 12,
   "id": "norwegian-release",
   "metadata": {},
   "outputs": [],
   "source": [
    "query = \"\"\"\n",
    "clause\n",
    "  word lex=FJM[\n",
    "  < word lex=L\n",
    "  <: word lex#<JN/|PNH/\n",
    "\"\"\""
   ]
  },
  {
   "cell_type": "code",
   "execution_count": 13,
   "id": "vertical-mandate",
   "metadata": {},
   "outputs": [
    {
     "name": "stdout",
     "output_type": "stream",
     "text": [
      "  1.61s 155 results\n"
     ]
    }
   ],
   "source": [
    "results = A.search(query)"
   ]
  },
  {
   "cell_type": "markdown",
   "id": "religious-confidentiality",
   "metadata": {},
   "source": [
    "**N.B.:** one result less than in SHEBANQ."
   ]
  },
  {
   "cell_type": "code",
   "execution_count": 14,
   "id": "iraqi-venice",
   "metadata": {},
   "outputs": [
    {
     "name": "stdout",
     "output_type": "stream",
     "text": [
      "135 verses\n",
      "292 words\n"
     ]
    }
   ],
   "source": [
    "(tfVerses, tfWords) = getTfVerses(A, results, (1, 2))"
   ]
  },
  {
   "cell_type": "code",
   "execution_count": 15,
   "id": "earlier-delta",
   "metadata": {},
   "outputs": [
    {
     "name": "stdout",
     "output_type": "stream",
     "text": [
      "DIFFERENCE:\n",
      "('Joshua', 8, 2)\n",
      "('Joshua', 8, 12)\n",
      "DIFFERENCE:\n",
      "116852 = FIJM\n",
      "117091 = J.@63FEM\n"
     ]
    },
    {
     "data": {
      "text/plain": [
       "-1"
      ]
     },
     "execution_count": 15,
     "metadata": {},
     "output_type": "execute_result"
    }
   ],
   "source": [
    "compareResults(A, verses, words, tfVerses, tfWords)"
   ]
  },
  {
   "cell_type": "markdown",
   "id": "electoral-today",
   "metadata": {},
   "source": [
    "The TF results are skipping Joshua 8:2!\n",
    "\n",
    "We expand this verse in SHEBANQ:\n",
    "\n",
    "![josh](images/josh.png)\n",
    "\n",
    "That there is a gap in the clause, right after the word `L` between words 116853 and 116858.\n",
    "In MQL, the adjacency of things is relative to the container it is in.\n",
    "If the container has a gap, the words around the gap are considered adjacent.\n",
    "\n",
    "In this example it means that this part of the query:\n",
    "\n",
    "```\n",
    "  [word FOCUS lex = \"L\"]\n",
    "  [word lex <> '<JN/' AND lex <> 'PNH/']\n",
    "```\n",
    "\n",
    "is matched by words 116853 and **116858**.\n",
    "And the MQL query considers those two words as adjacent *within the clause*.\n",
    "\n",
    "In Text-Fabric, adjacency between words is absolute: it is not relative to a container object.\n",
    "\n",
    "So this part of the query\n",
    "\n",
    "```\n",
    "  < word lex=L\n",
    "  <: word lex#<JN/|PNH/\n",
    "```\n",
    "\n",
    "is *not* matched by words 116853 and **116854**, because 116854 is not part of the embedding clause.\n",
    "\n",
    "The Text-Fabric notion of adjacency is more crude. \n",
    "The reason is that in Text-Fabric, the query does not have to be a tree, where each object has a unique\n",
    "immediate parent object. There could be several parent objects, and each of the parents may have different\n",
    "gaps, and if we had the concept of relative adjacency, our query language would need a way to express that.\n",
    "\n",
    "It has not, and to me it is an open question whether we should complicate search templates in that way.\n",
    "\n",
    "Anyway, as it stands,  there is no obvious workaround to get the exactly the same behaviour as the MQL query.\n",
    "\n",
    "That said, we can try something that comes close:\n",
    "\n",
    "We state that the `L` is is not immediately followed by a word that is `<JN/` or `PNH/`."
   ]
  },
  {
   "cell_type": "code",
   "execution_count": 16,
   "id": "dated-prisoner",
   "metadata": {},
   "outputs": [],
   "source": [
    "query = \"\"\"\n",
    "clause\n",
    "  word lex=FJM[\n",
    "  < word lex=L\n",
    "  /without/\n",
    "  <: w3:word lex=<JN/|PNH/\n",
    "  /-/\n",
    "\"\"\""
   ]
  },
  {
   "cell_type": "code",
   "execution_count": 17,
   "id": "moderate-mystery",
   "metadata": {},
   "outputs": [
    {
     "name": "stdout",
     "output_type": "stream",
     "text": [
      "  0.80s 161 results\n"
     ]
    }
   ],
   "source": [
    "results2 = A.search(query)"
   ]
  },
  {
   "cell_type": "markdown",
   "id": "communist-adams",
   "metadata": {},
   "source": [
    "It turns out that we get more results than in SHEBANQ.\n",
    "We first count the verses and words involved in the results."
   ]
  },
  {
   "cell_type": "code",
   "execution_count": 18,
   "id": "needed-beads",
   "metadata": {},
   "outputs": [
    {
     "name": "stdout",
     "output_type": "stream",
     "text": [
      "139 verses\n",
      "302 words\n"
     ]
    }
   ],
   "source": [
    "(tfVerses2, tfWords2) = getTfVerses(A, results2, (1, 2))"
   ]
  },
  {
   "cell_type": "code",
   "execution_count": 19,
   "id": "adaptive-anatomy",
   "metadata": {},
   "outputs": [
    {
     "name": "stdout",
     "output_type": "stream",
     "text": [
      "DIFFERENCE:\n",
      "('Genesis', 43, 32)\n",
      "('Genesis', 27, 37)\n",
      "DIFFERENCE:\n",
      "24760 = J.@FI71JMW.\n",
      "14288 = FAM:T.I71JW\n"
     ]
    },
    {
     "data": {
      "text/plain": [
       "-1"
      ]
     },
     "execution_count": 19,
     "metadata": {},
     "output_type": "execute_result"
    }
   ],
   "source": [
    "compareResults(A, verses, words, tfVerses2, tfWords2)"
   ]
  },
  {
   "cell_type": "markdown",
   "id": "rising-suffering",
   "metadata": {},
   "source": [
    "Now the situation is reversed: Genesis 27:37 is in the TF results, but skipped by SHEBANQ."
   ]
  },
  {
   "cell_type": "code",
   "execution_count": 20,
   "id": "ultimate-milwaukee",
   "metadata": {},
   "outputs": [
    {
     "data": {
      "text/html": [
       "<table><tr class=\"tf rtl\"><th class=\"tf rtl\">n</th><th class=\"tf rtl\">p</th><th class=\"tf rtl\">clause</th><th class=\"tf\">word</th><th class=\"tf\">word</th></tr>\n",
       "<tr class=\"tf rtl\"><td class=\"tf rtl\">3</td><td class=\"tf rtl\"><span class=\"tfsechead ltr\"><a target=\"_blank\" href=\"https://shebanq.ancient-data.org/hebrew/text?book=Genesis&amp;chapter=27&amp;verse=37&amp;version=2017&amp;mr=m&amp;qw=q&amp;tp=txt_p&amp;tr=hb&amp;wget=v&amp;qget=v&amp;nget=vt\" title=\"Show this on SHEBANQ\" sec=\"Genesis 27:37\">Genesis 27:37</a></span></td><td class=\"tf rtl\"><span class=\"rtl ubd\"><span class=\"plain rtl  hlbx\" ><span class=\"txtu hbo\">הֵ֣ן </span><span class=\"txtu hbo\">גְּבִ֞יר </span><span class=\"plain rtl  hl\" ><span class=\"txtu hbo\">שַׂמְתִּ֥יו </span></span><span class=\"plain rtl  hl\" ><span class=\"txtu hbo\">לָךְ֙ </span></span></span></span></td><td class=\"tf rtl\"><span class=\"rtl ubd\"><span class=\"plain rtl  hl\" ><span class=\"txtu hbo\">שַׂמְתִּ֥יו </span></span></span></td><td class=\"tf rtl\"><span class=\"rtl ubd\"><span class=\"plain rtl  hl\" ><span class=\"txtu hbo\">לָךְ֙ </span></span></span></td></tr></table>"
      ],
      "text/plain": [
       "<IPython.core.display.HTML object>"
      ]
     },
     "metadata": {},
     "output_type": "display_data"
    }
   ],
   "source": [
    "A.table(results2, start=3, end=3)"
   ]
  },
  {
   "cell_type": "markdown",
   "id": "laughing-spanking",
   "metadata": {},
   "source": [
    "The Genesis 27:37 result has something in common with the Joshua 8:2 result in SHEBANQ that we saw above: the `L` has a pronominal suffix.\n",
    "\n",
    "Here it is also the last word in the clause.\n",
    "So it seems to be an intended result of the MQL query.\n",
    "\n",
    "Let's make a mental shift: what *is* the intention of the MQL query?\n",
    "Here is a bit of query-exegesis, in that the query itself is the object of the exegesis.\n",
    "\n",
    "The MQL query mentions three `[word]` objects, but it puts only the first two of them in `FOCUS`. \n",
    "\n",
    "1. it is not interested in the actual value of the third one;\n",
    "2. the third `[word]` is constrained by a very loose restriction: it can be anything, except two specific values.\n",
    "\n",
    "These two things point to the intended meaning of the query, namely:\n",
    "\n",
    "> find a clause with the word `FJM[`, and somewhere after that the word `L`, \n",
    "which is not followed by either the word `<JN/` or the word `PNH/`.\n",
    "\n",
    "This differs subtly from what the query actually says:\n",
    "\n",
    "> find a clause with the word `FJM[`, and somewhere after that the word `L`, \n",
    "which is followed by another word that is not `<JN/` and not `PNH/`.\n",
    "\n",
    "The difference is one of *quantification*.\n",
    "\n",
    "More schematically, the MQL states literally:\n",
    "\n",
    "> there is a **word** after **a** that is not **b** and not **c**\n",
    "\n",
    "But the intention is:\n",
    "\n",
    "> for each **word** after **a** it is not **b** and not **c**"
   ]
  },
  {
   "cell_type": "markdown",
   "id": "wrong-stomach",
   "metadata": {},
   "source": [
    "MQL also has a concept of quantifier, a bit more limited than in TF: `NOTEXIST`.\n",
    "Let's try it:\n",
    "\n",
    "```\n",
    "[clause\n",
    "  [word FOCUS lex = 'FJM[']\n",
    "  ..\n",
    "  [word FOCUS lex = \"L\"]\n",
    "  NOTEXIST [word lex = '<JN/' OR lex = 'PNH/']\n",
    "]\n",
    "\n",
    "```\n",
    "\n",
    "See \n",
    "[Dirk Roorda: Example 2: not exist](https://shebanq.ancient-data.org/hebrew/query?version=2017&id=4467)"
   ]
  },
  {
   "cell_type": "code",
   "execution_count": 21,
   "id": "variable-improvement",
   "metadata": {},
   "outputs": [
    {
     "name": "stdout",
     "output_type": "stream",
     "text": [
      "160 results in 138 verses with 300 words\n"
     ]
    }
   ],
   "source": [
    "(verses2, words2) = getShebanqData(A, MQL_RESULTS, \"2a\")"
   ]
  },
  {
   "cell_type": "markdown",
   "id": "exposed-gender",
   "metadata": {},
   "source": [
    "Now we have one result more in Text-Fabric than in SHEBANQ."
   ]
  },
  {
   "cell_type": "code",
   "execution_count": 22,
   "id": "governmental-dealing",
   "metadata": {},
   "outputs": [
    {
     "name": "stdout",
     "output_type": "stream",
     "text": [
      "DIFFERENCE:\n",
      "('2_Samuel', 23, 5)\n",
      "('2_Samuel', 14, 7)\n",
      "DIFFERENCE:\n",
      "174875 = F@74M\n",
      "168181 = *FWM\n"
     ]
    },
    {
     "data": {
      "text/plain": [
       "-1"
      ]
     },
     "execution_count": 22,
     "metadata": {},
     "output_type": "execute_result"
    }
   ],
   "source": [
    "compareResults(A, verses2, words2, tfVerses2, tfWords2)"
   ]
  },
  {
   "cell_type": "markdown",
   "id": "comic-mills",
   "metadata": {},
   "source": [
    "2 Samuel 14:7 is skipped by SHEBANQ."
   ]
  },
  {
   "cell_type": "code",
   "execution_count": 23,
   "id": "prescription-mattress",
   "metadata": {},
   "outputs": [
    {
     "data": {
      "text/html": [
       "<table><tr class=\"tf rtl\"><th class=\"tf rtl\">n</th><th class=\"tf rtl\">p</th><th class=\"tf rtl\">clause</th><th class=\"tf\">word</th><th class=\"tf\">word</th></tr>\n",
       "<tr class=\"tf rtl\"><td class=\"tf rtl\">58</td><td class=\"tf rtl\"><span class=\"tfsechead ltr\"><a target=\"_blank\" href=\"https://shebanq.ancient-data.org/hebrew/text?book=Samuel_II&amp;chapter=14&amp;verse=7&amp;version=2017&amp;mr=m&amp;qw=q&amp;tp=txt_p&amp;tr=hb&amp;wget=v&amp;qget=v&amp;nget=vt\" title=\"Show this on SHEBANQ\" sec=\"2_Samuel 14:7\">2_Samuel 14:7</a></span></td><td class=\"tf rtl\"><span class=\"rtl ubd\"><span class=\"plain rtl  hlbx\" ><span class=\"txtu hbo\">לְ</span><span class=\"txtu hbo\">בִלְתִּ֧י </span><span class=\"plain rtl  hl\" ><span class=\"txtu hbo\">שִׂים־</span></span><span class=\"plain rtl  hl\" ><span class=\"txtu hbo\">לְ</span></span><span class=\"txtu hbo\">אִישִׁ֛י </span><span class=\"txtu hbo\">שֵׁ֥ם </span><span class=\"txtu hbo\">וּ</span><span class=\"txtu hbo\">שְׁאֵרִ֖ית </span><span class=\"txtu hbo\">עַל־</span><span class=\"txtu hbo\">פְּנֵ֥י </span><span class=\"txtu hbo\">הָ</span><span class=\"txtu hbo\">אֲדָמָֽה׃ פ </span></span></span></td><td class=\"tf rtl\"><span class=\"rtl ubd\"><span class=\"plain rtl  hl\" ><span class=\"txtu hbo\">שִׂים־</span></span></span></td><td class=\"tf rtl\"><span class=\"rtl ubd\"><span class=\"plain rtl  hl\" ><span class=\"txtu hbo\">לְ</span></span></span></td></tr></table>"
      ],
      "text/plain": [
       "<IPython.core.display.HTML object>"
      ]
     },
     "metadata": {},
     "output_type": "display_data"
    }
   ],
   "source": [
    "A.table(results2, start=58, end=58)"
   ]
  },
  {
   "cell_type": "markdown",
   "id": "falling-outreach",
   "metadata": {},
   "source": [
    "When we look it up in SHEBANQ we find this:\n",
    "\n",
    "![sam](images/sam.png)"
   ]
  },
  {
   "cell_type": "markdown",
   "id": "acoustic-capture",
   "metadata": {},
   "source": [
    "The thing here is that word 168188 is `PNH/`.\n",
    "It turns out that the `NOTEXIST` operator in MQL quantifies over all words that *follow* from that position.\n",
    "\n",
    "If `NOTEXIST [word properties]` meant that there is no word *at* that position with those properties, all was well for our purposes.\n",
    "But it means that there is no word *from* that position with those properties.\n",
    "\n",
    "So ot turns out: nice idea, but it does not work out in MQL.\n",
    "\n",
    "Now the tide has turned: we have trouble in MQL to find a query that exactly matches our intention, while in TF we can."
   ]
  },
  {
   "cell_type": "markdown",
   "id": "fresh-gothic",
   "metadata": {},
   "source": [
    "Still, there might be problems.\n",
    "\n",
    "If there is a clause, with `L`, then a gap, and then either `<JN/` or `PNH/`,\n",
    "the SHEBANQ query would skip it, but the Text-Fabric query would include it.\n",
    "\n",
    "Let's check in Text-Fabric whether this occurs."
   ]
  },
  {
   "cell_type": "code",
   "execution_count": 24,
   "id": "steady-piece",
   "metadata": {},
   "outputs": [],
   "source": [
    "query = \"\"\"\n",
    "clause\n",
    "  clause_atom\n",
    "    word lex=L\n",
    "    :=\n",
    "  < clause_atom\n",
    "    =: word lex=<JN/|PNH/\n",
    "\"\"\""
   ]
  },
  {
   "cell_type": "code",
   "execution_count": 25,
   "id": "tender-migration",
   "metadata": {},
   "outputs": [
    {
     "name": "stdout",
     "output_type": "stream",
     "text": [
      "  0.88s 0 results\n"
     ]
    }
   ],
   "source": [
    "results = A.search(query)"
   ]
  },
  {
   "cell_type": "markdown",
   "id": "iraqi-astronomy",
   "metadata": {},
   "source": [
    "Nope.\n",
    "\n",
    "But is this query itself right?\n",
    "Let's look for a known case, namely Joshua 8:2 above."
   ]
  },
  {
   "cell_type": "code",
   "execution_count": 26,
   "id": "identified-bahrain",
   "metadata": {},
   "outputs": [],
   "source": [
    "query = \"\"\"\n",
    "clause\n",
    "  clause_atom\n",
    "    word lex=L\n",
    "    :=\n",
    "  < clause_atom\n",
    "    =: word lex=MN\n",
    "\"\"\""
   ]
  },
  {
   "cell_type": "code",
   "execution_count": 27,
   "id": "proved-romania",
   "metadata": {},
   "outputs": [
    {
     "name": "stdout",
     "output_type": "stream",
     "text": [
      "  0.90s 2 results\n"
     ]
    }
   ],
   "source": [
    "results = A.search(query)"
   ]
  },
  {
   "cell_type": "code",
   "execution_count": 28,
   "id": "champion-coordinator",
   "metadata": {},
   "outputs": [
    {
     "data": {
      "text/html": [
       "<table><tr class=\"tf rtl\"><th class=\"tf rtl\">n</th><th class=\"tf rtl\">p</th><th class=\"tf rtl\">clause</th><th class=\"tf\">clause_atom</th><th class=\"tf\">word</th><th class=\"tf\">clause_atom</th><th class=\"tf\">word</th></tr>\n",
       "<tr class=\"tf rtl\"><td class=\"tf rtl\">1</td><td class=\"tf rtl\"><span class=\"tfsechead ltr\"><a target=\"_blank\" href=\"https://shebanq.ancient-data.org/hebrew/text?book=Josua&amp;chapter=8&amp;verse=2&amp;version=2017&amp;mr=m&amp;qw=q&amp;tp=txt_p&amp;tr=hb&amp;wget=v&amp;qget=v&amp;nget=vt\" title=\"Show this on SHEBANQ\" sec=\"Joshua 8:2\">Joshua 8:2</a></span></td><td class=\"tf rtl\"><span class=\"rtl ubd\"><span class=\"plain rtl l hlbx\" ><span class=\"txtu hbo\">שִׂים־</span><span class=\"plain rtl  hl\" ><span class=\"txtu hbo\">לְךָ֥ </span></span></span><span class=\"plain rtl r hlbx\" ><span class=\"plain rtl  hl\" ><span class=\"txtu hbo\">מֵ</span></span><span class=\"txtu hbo\">אַחֲרֶֽיהָ׃ </span></span></span></td><td class=\"tf rtl\"><span class=\"rtl ubd\"><span class=\"plain rtl  hlbx\" ><span class=\"txtu hbo\">שִׂים־</span><span class=\"plain rtl  hl\" ><span class=\"txtu hbo\">לְךָ֥ </span></span></span></span></td><td class=\"tf rtl\"><span class=\"rtl ubd\"><span class=\"plain rtl  hl\" ><span class=\"txtu hbo\">לְךָ֥ </span></span></span></td><td class=\"tf rtl\"><span class=\"rtl ubd\"><span class=\"plain rtl  hlbx\" ><span class=\"plain rtl  hl\" ><span class=\"txtu hbo\">מֵ</span></span><span class=\"txtu hbo\">אַחֲרֶֽיהָ׃ </span></span></span></td><td class=\"tf rtl\"><span class=\"rtl ubd\"><span class=\"plain rtl  hl\" ><span class=\"txtu hbo\">מֵ</span></span></span></td></tr>\n",
       "<tr class=\"tf rtl\"><td class=\"tf rtl\">2</td><td class=\"tf rtl\"><span class=\"tfsechead ltr\"><a target=\"_blank\" href=\"https://shebanq.ancient-data.org/hebrew/text?book=Hosea&amp;chapter=10&amp;verse=15&amp;version=2017&amp;mr=m&amp;qw=q&amp;tp=txt_p&amp;tr=hb&amp;wget=v&amp;qget=v&amp;nget=vt\" title=\"Show this on SHEBANQ\" sec=\"Hosea 10:15\">Hosea 10:15</a></span></td><td class=\"tf rtl\"><span class=\"rtl ubd\"><span class=\"plain rtl l hlbx\" ><span class=\"txtu hbo\">כָּ֗כָה </span><span class=\"txtu hbo\">עָשָׂ֤ה </span><span class=\"plain rtl  hl\" ><span class=\"txtu hbo\">לָכֶם֙ </span></span></span><span class=\"plain rtl r hlbx\" ><span class=\"plain rtl  hl\" ><span class=\"txtu hbo\">מִ</span></span><span class=\"txtu hbo\">פְּנֵ֖י </span><span class=\"txtu hbo\">רָעַ֣ת </span><span class=\"txtu hbo\">רָֽעַתְכֶ֑ם </span></span></span></td><td class=\"tf rtl\"><span class=\"rtl ubd\"><span class=\"plain rtl  hlbx\" ><span class=\"txtu hbo\">כָּ֗כָה </span><span class=\"txtu hbo\">עָשָׂ֤ה </span><span class=\"plain rtl  hl\" ><span class=\"txtu hbo\">לָכֶם֙ </span></span></span></span></td><td class=\"tf rtl\"><span class=\"rtl ubd\"><span class=\"plain rtl  hl\" ><span class=\"txtu hbo\">לָכֶם֙ </span></span></span></td><td class=\"tf rtl\"><span class=\"rtl ubd\"><span class=\"plain rtl  hlbx\" ><span class=\"plain rtl  hl\" ><span class=\"txtu hbo\">מִ</span></span><span class=\"txtu hbo\">פְּנֵ֖י </span><span class=\"txtu hbo\">רָעַ֣ת </span><span class=\"txtu hbo\">רָֽעַתְכֶ֑ם </span></span></span></td><td class=\"tf rtl\"><span class=\"rtl ubd\"><span class=\"plain rtl  hl\" ><span class=\"txtu hbo\">מִ</span></span></span></td></tr></table>"
      ],
      "text/plain": [
       "<IPython.core.display.HTML object>"
      ]
     },
     "metadata": {},
     "output_type": "display_data"
    }
   ],
   "source": [
    "A.table(results)"
   ]
  },
  {
   "cell_type": "markdown",
   "id": "brief-daily",
   "metadata": {},
   "source": [
    "Yes, this kind of query finds exactly what we are looking for."
   ]
  },
  {
   "cell_type": "markdown",
   "id": "logical-reality",
   "metadata": {},
   "source": [
    "**Conclusion**\n",
    "\n",
    "In Text-Fabric we have found a query with slightly different results.\n",
    "But these results match the intention of the query just a bit better than the original query.\n",
    "\n",
    "We tried to improve the MQL query by using `NOTEXIST`, but that did not work out.\n",
    "\n",
    "However, the TF query might include (contrived) cases that the MQL query would rightfully skip. \n",
    "We can verify whether those cases actually exist by running a separate TF query, and it turns out they do not exist.\n",
    "\n",
    "**Lesson**\n",
    "\n",
    "Whenever an exegesis hinges on the results of a query, check and double check.\n",
    "You probably will have to run multiple queries in SHEBANQ and combine the results.\n",
    "This will quickly get very cumbersome.\n",
    "If that happens, it starts to pay off to use Text-Fabric, where you have more complete power over \n",
    "the computations and their results."
   ]
  },
  {
   "cell_type": "markdown",
   "id": "equivalent-clarity",
   "metadata": {},
   "source": [
    "# Example 3\n",
    "\n",
    "[Bas Meeuse: Example 3: Whose people?](https://shebanq.ancient-data.org/hebrew/query?version=2017&id=4441)\n",
    "\n",
    "```\n",
    "[phrase_atom FOCUS\n",
    "  [word AS P sp = prps]\n",
    "  ..\n",
    "  [word lex = \"W\" OR lex = \">W\"]\n",
    "  ..\n",
    "  [word prs !~ \"a\" AND prs_ps = P.ps]\n",
    "]\n",
    "```"
   ]
  },
  {
   "cell_type": "code",
   "execution_count": 29,
   "id": "effective-venice",
   "metadata": {},
   "outputs": [
    {
     "name": "stdout",
     "output_type": "stream",
     "text": [
      "308 results in 150 verses with 685 words\n"
     ]
    }
   ],
   "source": [
    "(verses, words) = getShebanqData(A, MQL_RESULTS, 3)"
   ]
  },
  {
   "cell_type": "code",
   "execution_count": 30,
   "id": "typical-jacob",
   "metadata": {},
   "outputs": [],
   "source": [
    "query = \"\"\"\n",
    "phrase_atom\n",
    "  p:word sp=prps\n",
    "  < word lex=W|>W\n",
    "  < w:word prs#a\n",
    "  \n",
    "p .ps=prs_ps. w\n",
    "\"\"\""
   ]
  },
  {
   "cell_type": "code",
   "execution_count": 31,
   "id": "excess-vietnam",
   "metadata": {},
   "outputs": [
    {
     "name": "stdout",
     "output_type": "stream",
     "text": [
      "  1.65s 308 results\n"
     ]
    }
   ],
   "source": [
    "results = A.search(query)"
   ]
  },
  {
   "cell_type": "code",
   "execution_count": 32,
   "id": "distinguished-specialist",
   "metadata": {},
   "outputs": [
    {
     "name": "stdout",
     "output_type": "stream",
     "text": [
      "150 verses\n",
      "685 words\n"
     ]
    }
   ],
   "source": [
    "(tfVerses, tfWords) = getTfVerses(A, results, (0,))"
   ]
  },
  {
   "cell_type": "code",
   "execution_count": 33,
   "id": "tender-magnitude",
   "metadata": {},
   "outputs": [
    {
     "name": "stdout",
     "output_type": "stream",
     "text": [
      "VERSES EQUAL\n",
      "WORDS EQUAL\n"
     ]
    }
   ],
   "source": [
    "compareResults(A, verses, words, tfVerses, tfWords)"
   ]
  },
  {
   "cell_type": "code",
   "execution_count": 34,
   "id": "inner-spider",
   "metadata": {},
   "outputs": [
    {
     "data": {
      "text/html": [
       "<table><tr class=\"tf rtl\"><th class=\"tf rtl\">n</th><th class=\"tf rtl\">p</th><th class=\"tf rtl\">phrase_atom</th><th class=\"tf\">word</th><th class=\"tf\">word</th><th class=\"tf\">word</th></tr>\n",
       "<tr class=\"tf rtl\"><td class=\"tf rtl\">1</td><td class=\"tf rtl\"><span class=\"tfsechead ltr\"><a target=\"_blank\" href=\"https://shebanq.ancient-data.org/hebrew/text?book=Genesis&amp;chapter=6&amp;verse=18&amp;version=2017&amp;mr=m&amp;qw=q&amp;tp=txt_p&amp;tr=hb&amp;wget=v&amp;qget=v&amp;nget=vt\" title=\"Show this on SHEBANQ\" sec=\"Genesis 6:18\">Genesis 6:18</a></span></td><td class=\"tf rtl\"><span class=\"rtl ubd\"><span class=\"plain rtl  hlbx\" ><span class=\"plain rtl  hl\" ><span class=\"txtu hbo\">אַתָּ֕ה </span></span><span class=\"plain rtl  hl\" ><span class=\"txtu hbo\">וּ</span></span><span class=\"plain rtl  hl\" ><span class=\"txtu hbo\">בָנֶ֛יךָ </span></span><span class=\"txtu hbo\">וְ</span><span class=\"txtu hbo\">אִשְׁתְּךָ֥ </span><span class=\"txtu hbo\">וּ</span><span class=\"txtu hbo\">נְשֵֽׁי־</span><span class=\"txtu hbo\">בָנֶ֖יךָ </span></span></span></td><td class=\"tf rtl\"><span class=\"rtl ubd\"><span class=\"plain rtl  hl\" ><span class=\"txtu hbo\">אַתָּ֕ה </span></span></span></td><td class=\"tf rtl\"><span class=\"rtl ubd\"><span class=\"plain rtl  hl\" ><span class=\"txtu hbo\">וּ</span></span></span></td><td class=\"tf rtl\"><span class=\"rtl ubd\"><span class=\"plain rtl  hl\" ><span class=\"txtu hbo\">בָנֶ֛יךָ </span></span></span></td></tr>\n",
       "<tr class=\"tf rtl\"><td class=\"tf rtl\">2</td><td class=\"tf rtl\"><span class=\"tfsechead ltr\"><a target=\"_blank\" href=\"https://shebanq.ancient-data.org/hebrew/text?book=Genesis&amp;chapter=6&amp;verse=18&amp;version=2017&amp;mr=m&amp;qw=q&amp;tp=txt_p&amp;tr=hb&amp;wget=v&amp;qget=v&amp;nget=vt\" title=\"Show this on SHEBANQ\" sec=\"Genesis 6:18\">Genesis 6:18</a></span></td><td class=\"tf rtl\"><span class=\"rtl ubd\"><span class=\"plain rtl  hlbx\" ><span class=\"plain rtl  hl\" ><span class=\"txtu hbo\">אַתָּ֕ה </span></span><span class=\"plain rtl  hl\" ><span class=\"txtu hbo\">וּ</span></span><span class=\"txtu hbo\">בָנֶ֛יךָ </span><span class=\"txtu hbo\">וְ</span><span class=\"plain rtl  hl\" ><span class=\"txtu hbo\">אִשְׁתְּךָ֥ </span></span><span class=\"txtu hbo\">וּ</span><span class=\"txtu hbo\">נְשֵֽׁי־</span><span class=\"txtu hbo\">בָנֶ֖יךָ </span></span></span></td><td class=\"tf rtl\"><span class=\"rtl ubd\"><span class=\"plain rtl  hl\" ><span class=\"txtu hbo\">אַתָּ֕ה </span></span></span></td><td class=\"tf rtl\"><span class=\"rtl ubd\"><span class=\"plain rtl  hl\" ><span class=\"txtu hbo\">וּ</span></span></span></td><td class=\"tf rtl\"><span class=\"rtl ubd\"><span class=\"plain rtl  hl\" ><span class=\"txtu hbo\">אִשְׁתְּךָ֥ </span></span></span></td></tr>\n",
       "<tr class=\"tf rtl\"><td class=\"tf rtl\">3</td><td class=\"tf rtl\"><span class=\"tfsechead ltr\"><a target=\"_blank\" href=\"https://shebanq.ancient-data.org/hebrew/text?book=Genesis&amp;chapter=6&amp;verse=18&amp;version=2017&amp;mr=m&amp;qw=q&amp;tp=txt_p&amp;tr=hb&amp;wget=v&amp;qget=v&amp;nget=vt\" title=\"Show this on SHEBANQ\" sec=\"Genesis 6:18\">Genesis 6:18</a></span></td><td class=\"tf rtl\"><span class=\"rtl ubd\"><span class=\"plain rtl  hlbx\" ><span class=\"plain rtl  hl\" ><span class=\"txtu hbo\">אַתָּ֕ה </span></span><span class=\"plain rtl  hl\" ><span class=\"txtu hbo\">וּ</span></span><span class=\"txtu hbo\">בָנֶ֛יךָ </span><span class=\"txtu hbo\">וְ</span><span class=\"txtu hbo\">אִשְׁתְּךָ֥ </span><span class=\"txtu hbo\">וּ</span><span class=\"txtu hbo\">נְשֵֽׁי־</span><span class=\"plain rtl  hl\" ><span class=\"txtu hbo\">בָנֶ֖יךָ </span></span></span></span></td><td class=\"tf rtl\"><span class=\"rtl ubd\"><span class=\"plain rtl  hl\" ><span class=\"txtu hbo\">אַתָּ֕ה </span></span></span></td><td class=\"tf rtl\"><span class=\"rtl ubd\"><span class=\"plain rtl  hl\" ><span class=\"txtu hbo\">וּ</span></span></span></td><td class=\"tf rtl\"><span class=\"rtl ubd\"><span class=\"plain rtl  hl\" ><span class=\"txtu hbo\">בָנֶ֖יךָ </span></span></span></td></tr>\n",
       "<tr class=\"tf rtl\"><td class=\"tf rtl\">4</td><td class=\"tf rtl\"><span class=\"tfsechead ltr\"><a target=\"_blank\" href=\"https://shebanq.ancient-data.org/hebrew/text?book=Genesis&amp;chapter=6&amp;verse=18&amp;version=2017&amp;mr=m&amp;qw=q&amp;tp=txt_p&amp;tr=hb&amp;wget=v&amp;qget=v&amp;nget=vt\" title=\"Show this on SHEBANQ\" sec=\"Genesis 6:18\">Genesis 6:18</a></span></td><td class=\"tf rtl\"><span class=\"rtl ubd\"><span class=\"plain rtl  hlbx\" ><span class=\"plain rtl  hl\" ><span class=\"txtu hbo\">אַתָּ֕ה </span></span><span class=\"txtu hbo\">וּ</span><span class=\"txtu hbo\">בָנֶ֛יךָ </span><span class=\"plain rtl  hl\" ><span class=\"txtu hbo\">וְ</span></span><span class=\"plain rtl  hl\" ><span class=\"txtu hbo\">אִשְׁתְּךָ֥ </span></span><span class=\"txtu hbo\">וּ</span><span class=\"txtu hbo\">נְשֵֽׁי־</span><span class=\"txtu hbo\">בָנֶ֖יךָ </span></span></span></td><td class=\"tf rtl\"><span class=\"rtl ubd\"><span class=\"plain rtl  hl\" ><span class=\"txtu hbo\">אַתָּ֕ה </span></span></span></td><td class=\"tf rtl\"><span class=\"rtl ubd\"><span class=\"plain rtl  hl\" ><span class=\"txtu hbo\">וְ</span></span></span></td><td class=\"tf rtl\"><span class=\"rtl ubd\"><span class=\"plain rtl  hl\" ><span class=\"txtu hbo\">אִשְׁתְּךָ֥ </span></span></span></td></tr>\n",
       "<tr class=\"tf rtl\"><td class=\"tf rtl\">5</td><td class=\"tf rtl\"><span class=\"tfsechead ltr\"><a target=\"_blank\" href=\"https://shebanq.ancient-data.org/hebrew/text?book=Genesis&amp;chapter=6&amp;verse=18&amp;version=2017&amp;mr=m&amp;qw=q&amp;tp=txt_p&amp;tr=hb&amp;wget=v&amp;qget=v&amp;nget=vt\" title=\"Show this on SHEBANQ\" sec=\"Genesis 6:18\">Genesis 6:18</a></span></td><td class=\"tf rtl\"><span class=\"rtl ubd\"><span class=\"plain rtl  hlbx\" ><span class=\"plain rtl  hl\" ><span class=\"txtu hbo\">אַתָּ֕ה </span></span><span class=\"txtu hbo\">וּ</span><span class=\"txtu hbo\">בָנֶ֛יךָ </span><span class=\"plain rtl  hl\" ><span class=\"txtu hbo\">וְ</span></span><span class=\"txtu hbo\">אִשְׁתְּךָ֥ </span><span class=\"txtu hbo\">וּ</span><span class=\"txtu hbo\">נְשֵֽׁי־</span><span class=\"plain rtl  hl\" ><span class=\"txtu hbo\">בָנֶ֖יךָ </span></span></span></span></td><td class=\"tf rtl\"><span class=\"rtl ubd\"><span class=\"plain rtl  hl\" ><span class=\"txtu hbo\">אַתָּ֕ה </span></span></span></td><td class=\"tf rtl\"><span class=\"rtl ubd\"><span class=\"plain rtl  hl\" ><span class=\"txtu hbo\">וְ</span></span></span></td><td class=\"tf rtl\"><span class=\"rtl ubd\"><span class=\"plain rtl  hl\" ><span class=\"txtu hbo\">בָנֶ֖יךָ </span></span></span></td></tr></table>"
      ],
      "text/plain": [
       "<IPython.core.display.HTML object>"
      ]
     },
     "metadata": {},
     "output_type": "display_data"
    }
   ],
   "source": [
    "A.table(results, end=5)"
   ]
  },
  {
   "cell_type": "markdown",
   "id": "reserved-difficulty",
   "metadata": {},
   "source": [
    "# Example 4\n",
    "\n",
    "[Wido van Peursen: Judges 5.1 (Sample query)](https://shebanq.ancient-data.org/hebrew/query?version=2017&id=53)\n",
    "\n",
    "```\n",
    "[clause\n",
    "  [phrase FOCUS function=Pred\n",
    "    [word sp=verb AND nu=sg AND gn=f]\n",
    "  ]\n",
    "  ..\n",
    "  [phrase FOCUS function=Subj\n",
    "    [word sp=conj]\n",
    "  ]\n",
    "]\n",
    "```"
   ]
  },
  {
   "cell_type": "code",
   "execution_count": 35,
   "id": "concrete-bones",
   "metadata": {},
   "outputs": [
    {
     "name": "stdout",
     "output_type": "stream",
     "text": [
      "65 results in 51 verses with 315 words\n"
     ]
    }
   ],
   "source": [
    "(verses, words) = getShebanqData(A, MQL_RESULTS, 4)"
   ]
  },
  {
   "cell_type": "code",
   "execution_count": 36,
   "id": "running-narrative",
   "metadata": {},
   "outputs": [],
   "source": [
    "query = \"\"\"\n",
    "clause\n",
    "  phrase function=Pred\n",
    "    word sp=verb nu=sg gn=f\n",
    "  < phrase function=Subj\n",
    "    word sp=conj\n",
    "\"\"\""
   ]
  },
  {
   "cell_type": "code",
   "execution_count": 37,
   "id": "weekly-victorian",
   "metadata": {},
   "outputs": [
    {
     "name": "stdout",
     "output_type": "stream",
     "text": [
      "  1.43s 65 results\n"
     ]
    }
   ],
   "source": [
    "results = A.search(query)"
   ]
  },
  {
   "cell_type": "code",
   "execution_count": 38,
   "id": "traditional-nursery",
   "metadata": {},
   "outputs": [
    {
     "name": "stdout",
     "output_type": "stream",
     "text": [
      " 51 verses\n",
      "315 words\n"
     ]
    }
   ],
   "source": [
    "(tfVerses, tfWords) = getTfVerses(A, results, (1, 3))"
   ]
  },
  {
   "cell_type": "code",
   "execution_count": 39,
   "id": "stone-cooking",
   "metadata": {},
   "outputs": [
    {
     "name": "stdout",
     "output_type": "stream",
     "text": [
      "VERSES EQUAL\n",
      "WORDS EQUAL\n"
     ]
    }
   ],
   "source": [
    "compareResults(A, verses, words, tfVerses, tfWords)"
   ]
  },
  {
   "cell_type": "code",
   "execution_count": 40,
   "id": "popular-growing",
   "metadata": {},
   "outputs": [
    {
     "data": {
      "text/html": [
       "<table><tr class=\"tf rtl\"><th class=\"tf rtl\">n</th><th class=\"tf rtl\">p</th><th class=\"tf rtl\">clause</th><th class=\"tf\">phrase</th><th class=\"tf\">word</th><th class=\"tf\">phrase</th><th class=\"tf\">word</th></tr>\n",
       "<tr class=\"tf rtl\"><td class=\"tf rtl\">1</td><td class=\"tf rtl\"><span class=\"tfsechead ltr\"><a target=\"_blank\" href=\"https://shebanq.ancient-data.org/hebrew/text?book=Genesis&amp;chapter=24&amp;verse=61&amp;version=2017&amp;mr=m&amp;qw=q&amp;tp=txt_p&amp;tr=hb&amp;wget=v&amp;qget=v&amp;nget=vt\" title=\"Show this on SHEBANQ\" sec=\"Genesis 24:61\">Genesis 24:61</a></span></td><td class=\"tf rtl\"><span class=\"rtl ubd\"><span class=\"plain rtl  hlbx\" ><span class=\"txtu hbo\">וַ</span><span class=\"plain rtl  hlbx\" ><span class=\"plain rtl  hl\" ><span class=\"txtu hbo\">תָּ֨קָם </span></span></span><span class=\"plain rtl  hlbx\" ><span class=\"txtu hbo\">רִבְקָ֜ה </span><span class=\"plain rtl  hl\" ><span class=\"txtu hbo\">וְ</span></span><span class=\"txtu hbo\">נַעֲרֹתֶ֗יהָ </span></span></span></span></td><td class=\"tf rtl\"><span class=\"rtl ubd\"><span class=\"plain rtl  hlbx\" ><span class=\"plain rtl  hl\" ><span class=\"txtu hbo\">תָּ֨קָם </span></span></span></span></td><td class=\"tf rtl\"><span class=\"rtl ubd\"><span class=\"plain rtl  hl\" ><span class=\"txtu hbo\">תָּ֨קָם </span></span></span></td><td class=\"tf rtl\"><span class=\"rtl ubd\"><span class=\"plain rtl  hlbx\" ><span class=\"txtu hbo\">רִבְקָ֜ה </span><span class=\"plain rtl  hl\" ><span class=\"txtu hbo\">וְ</span></span><span class=\"txtu hbo\">נַעֲרֹתֶ֗יהָ </span></span></span></td><td class=\"tf rtl\"><span class=\"rtl ubd\"><span class=\"plain rtl  hl\" ><span class=\"txtu hbo\">וְ</span></span></span></td></tr>\n",
       "<tr class=\"tf rtl\"><td class=\"tf rtl\">2</td><td class=\"tf rtl\"><span class=\"tfsechead ltr\"><a target=\"_blank\" href=\"https://shebanq.ancient-data.org/hebrew/text?book=Genesis&amp;chapter=31&amp;verse=14&amp;version=2017&amp;mr=m&amp;qw=q&amp;tp=txt_p&amp;tr=hb&amp;wget=v&amp;qget=v&amp;nget=vt\" title=\"Show this on SHEBANQ\" sec=\"Genesis 31:14\">Genesis 31:14</a></span></td><td class=\"tf rtl\"><span class=\"rtl ubd\"><span class=\"plain rtl  hlbx\" ><span class=\"txtu hbo\">וַ</span><span class=\"plain rtl  hlbx\" ><span class=\"plain rtl  hl\" ><span class=\"txtu hbo\">תַּ֤עַן </span></span></span><span class=\"plain rtl  hlbx\" ><span class=\"txtu hbo\">רָחֵל֙ </span><span class=\"plain rtl  hl\" ><span class=\"txtu hbo\">וְ</span></span><span class=\"txtu hbo\">לֵאָ֔ה </span></span></span></span></td><td class=\"tf rtl\"><span class=\"rtl ubd\"><span class=\"plain rtl  hlbx\" ><span class=\"plain rtl  hl\" ><span class=\"txtu hbo\">תַּ֤עַן </span></span></span></span></td><td class=\"tf rtl\"><span class=\"rtl ubd\"><span class=\"plain rtl  hl\" ><span class=\"txtu hbo\">תַּ֤עַן </span></span></span></td><td class=\"tf rtl\"><span class=\"rtl ubd\"><span class=\"plain rtl  hlbx\" ><span class=\"txtu hbo\">רָחֵל֙ </span><span class=\"plain rtl  hl\" ><span class=\"txtu hbo\">וְ</span></span><span class=\"txtu hbo\">לֵאָ֔ה </span></span></span></td><td class=\"tf rtl\"><span class=\"rtl ubd\"><span class=\"plain rtl  hl\" ><span class=\"txtu hbo\">וְ</span></span></span></td></tr>\n",
       "<tr class=\"tf rtl\"><td class=\"tf rtl\">3</td><td class=\"tf rtl\"><span class=\"tfsechead ltr\"><a target=\"_blank\" href=\"https://shebanq.ancient-data.org/hebrew/text?book=Genesis&amp;chapter=33&amp;verse=7&amp;version=2017&amp;mr=m&amp;qw=q&amp;tp=txt_p&amp;tr=hb&amp;wget=v&amp;qget=v&amp;nget=vt\" title=\"Show this on SHEBANQ\" sec=\"Genesis 33:7\">Genesis 33:7</a></span></td><td class=\"tf rtl\"><span class=\"rtl ubd\"><span class=\"plain rtl  hlbx\" ><span class=\"txtu hbo\">וַ</span><span class=\"plain rtl  hlbx\" ><span class=\"plain rtl  hl\" ><span class=\"txtu hbo\">תִּגַּ֧שׁ </span></span></span><span class=\"plain rtl  hlbx\" ><span class=\"txtu hbo\">גַּם־</span><span class=\"txtu hbo\">לֵאָ֛ה </span><span class=\"plain rtl  hl\" ><span class=\"txtu hbo\">וִ</span></span><span class=\"txtu hbo\">ילָדֶ֖יהָ </span></span></span></span></td><td class=\"tf rtl\"><span class=\"rtl ubd\"><span class=\"plain rtl  hlbx\" ><span class=\"plain rtl  hl\" ><span class=\"txtu hbo\">תִּגַּ֧שׁ </span></span></span></span></td><td class=\"tf rtl\"><span class=\"rtl ubd\"><span class=\"plain rtl  hl\" ><span class=\"txtu hbo\">תִּגַּ֧שׁ </span></span></span></td><td class=\"tf rtl\"><span class=\"rtl ubd\"><span class=\"plain rtl  hlbx\" ><span class=\"txtu hbo\">גַּם־</span><span class=\"txtu hbo\">לֵאָ֛ה </span><span class=\"plain rtl  hl\" ><span class=\"txtu hbo\">וִ</span></span><span class=\"txtu hbo\">ילָדֶ֖יהָ </span></span></span></td><td class=\"tf rtl\"><span class=\"rtl ubd\"><span class=\"plain rtl  hl\" ><span class=\"txtu hbo\">וִ</span></span></span></td></tr>\n",
       "<tr class=\"tf rtl\"><td class=\"tf rtl\">4</td><td class=\"tf rtl\"><span class=\"tfsechead ltr\"><a target=\"_blank\" href=\"https://shebanq.ancient-data.org/hebrew/text?book=Genesis&amp;chapter=47&amp;verse=13&amp;version=2017&amp;mr=m&amp;qw=q&amp;tp=txt_p&amp;tr=hb&amp;wget=v&amp;qget=v&amp;nget=vt\" title=\"Show this on SHEBANQ\" sec=\"Genesis 47:13\">Genesis 47:13</a></span></td><td class=\"tf rtl\"><span class=\"rtl ubd\"><span class=\"plain rtl  hlbx\" ><span class=\"txtu hbo\">וַ</span><span class=\"plain rtl  hlbx\" ><span class=\"plain rtl  hl\" ><span class=\"txtu hbo\">תֵּ֜לַהּ </span></span></span><span class=\"plain rtl  hlbx\" ><span class=\"txtu hbo\">אֶ֤רֶץ </span><span class=\"txtu hbo\">מִצְרַ֨יִם֙ </span><span class=\"plain rtl  hl\" ><span class=\"txtu hbo\">וְ</span></span><span class=\"txtu hbo\">אֶ֣רֶץ </span><span class=\"txtu hbo\">כְּנַ֔עַן </span></span><span class=\"txtu hbo\">מִ</span><span class=\"txtu hbo\">פְּנֵ֖י </span><span class=\"txtu hbo\">הָ</span><span class=\"txtu hbo\">רָעָֽב׃ </span></span></span></td><td class=\"tf rtl\"><span class=\"rtl ubd\"><span class=\"plain rtl  hlbx\" ><span class=\"plain rtl  hl\" ><span class=\"txtu hbo\">תֵּ֜לַהּ </span></span></span></span></td><td class=\"tf rtl\"><span class=\"rtl ubd\"><span class=\"plain rtl  hl\" ><span class=\"txtu hbo\">תֵּ֜לַהּ </span></span></span></td><td class=\"tf rtl\"><span class=\"rtl ubd\"><span class=\"plain rtl  hlbx\" ><span class=\"txtu hbo\">אֶ֤רֶץ </span><span class=\"txtu hbo\">מִצְרַ֨יִם֙ </span><span class=\"plain rtl  hl\" ><span class=\"txtu hbo\">וְ</span></span><span class=\"txtu hbo\">אֶ֣רֶץ </span><span class=\"txtu hbo\">כְּנַ֔עַן </span></span></span></td><td class=\"tf rtl\"><span class=\"rtl ubd\"><span class=\"plain rtl  hl\" ><span class=\"txtu hbo\">וְ</span></span></span></td></tr>\n",
       "<tr class=\"tf rtl\"><td class=\"tf rtl\">5</td><td class=\"tf rtl\"><span class=\"tfsechead ltr\"><a target=\"_blank\" href=\"https://shebanq.ancient-data.org/hebrew/text?book=Exodus&amp;chapter=15&amp;verse=16&amp;version=2017&amp;mr=m&amp;qw=q&amp;tp=txt_p&amp;tr=hb&amp;wget=v&amp;qget=v&amp;nget=vt\" title=\"Show this on SHEBANQ\" sec=\"Exodus 15:16\">Exodus 15:16</a></span></td><td class=\"tf rtl\"><span class=\"rtl ubd\"><span class=\"plain rtl  hlbx\" ><span class=\"plain rtl  hlbx\" ><span class=\"plain rtl  hl\" ><span class=\"txtu hbo\">תִּפֹּ֨ל </span></span></span><span class=\"txtu hbo\">עֲלֵיהֶ֤ם </span><span class=\"plain rtl  hlbx\" ><span class=\"txtu hbo\">אֵימָ֨תָה֙ </span><span class=\"plain rtl  hl\" ><span class=\"txtu hbo\">וָ</span></span><span class=\"txtu hbo\">פַ֔חַד </span></span></span></span></td><td class=\"tf rtl\"><span class=\"rtl ubd\"><span class=\"plain rtl  hlbx\" ><span class=\"plain rtl  hl\" ><span class=\"txtu hbo\">תִּפֹּ֨ל </span></span></span></span></td><td class=\"tf rtl\"><span class=\"rtl ubd\"><span class=\"plain rtl  hl\" ><span class=\"txtu hbo\">תִּפֹּ֨ל </span></span></span></td><td class=\"tf rtl\"><span class=\"rtl ubd\"><span class=\"plain rtl  hlbx\" ><span class=\"txtu hbo\">אֵימָ֨תָה֙ </span><span class=\"plain rtl  hl\" ><span class=\"txtu hbo\">וָ</span></span><span class=\"txtu hbo\">פַ֔חַד </span></span></span></td><td class=\"tf rtl\"><span class=\"rtl ubd\"><span class=\"plain rtl  hl\" ><span class=\"txtu hbo\">וָ</span></span></span></td></tr></table>"
      ],
      "text/plain": [
       "<IPython.core.display.HTML object>"
      ]
     },
     "metadata": {},
     "output_type": "display_data"
    }
   ],
   "source": [
    "A.table(results, end=5)"
   ]
  },
  {
   "cell_type": "markdown",
   "id": "entertaining-nickname",
   "metadata": {},
   "source": [
    "# Example 5\n",
    "\n",
    "[Oliver Glanz: DHQ article: taking a woman](https://shebanq.ancient-data.org/hebrew/query?version=2017&id=494)\n",
    "\n",
    "```\n",
    "[clause\n",
    "  [phrase FOCUS function IN (Pred,PreC)\n",
    "    [word lex = \"LQX[\"]\n",
    "  ]\n",
    "  ..\n",
    "  [phrase function = Objc\n",
    "    [word FOCUS gn =  f AND nu=sg AND sp=nmpr]\n",
    "  ]\n",
    "]\n",
    "```"
   ]
  },
  {
   "cell_type": "code",
   "execution_count": 41,
   "id": "proved-expansion",
   "metadata": {},
   "outputs": [
    {
     "name": "stdout",
     "output_type": "stream",
     "text": [
      "23 results in 21 verses with 44 words\n"
     ]
    }
   ],
   "source": [
    "(verses, words) = getShebanqData(A, MQL_RESULTS, 5)"
   ]
  },
  {
   "cell_type": "code",
   "execution_count": 42,
   "id": "cordless-navigator",
   "metadata": {},
   "outputs": [],
   "source": [
    "query = \"\"\"\n",
    "clause\n",
    "  phrase function=Pred|PreC\n",
    "    word lex=LQX[\n",
    "  < phrase function=Objc\n",
    "    word gn=f nu=sg sp=nmpr\n",
    "\"\"\""
   ]
  },
  {
   "cell_type": "code",
   "execution_count": 43,
   "id": "angry-laptop",
   "metadata": {},
   "outputs": [
    {
     "name": "stdout",
     "output_type": "stream",
     "text": [
      "  1.35s 23 results\n"
     ]
    }
   ],
   "source": [
    "results = A.search(query)"
   ]
  },
  {
   "cell_type": "code",
   "execution_count": 44,
   "id": "gothic-width",
   "metadata": {},
   "outputs": [
    {
     "name": "stdout",
     "output_type": "stream",
     "text": [
      " 21 verses\n",
      " 44 words\n"
     ]
    }
   ],
   "source": [
    "(tfVerses, tfWords) = getTfVerses(A, results, (2, 4))"
   ]
  },
  {
   "cell_type": "code",
   "execution_count": 45,
   "id": "legal-viking",
   "metadata": {},
   "outputs": [
    {
     "name": "stdout",
     "output_type": "stream",
     "text": [
      "VERSES EQUAL\n",
      "WORDS EQUAL\n"
     ]
    }
   ],
   "source": [
    "compareResults(A, verses, words, tfVerses, tfWords)"
   ]
  },
  {
   "cell_type": "code",
   "execution_count": 46,
   "id": "bound-education",
   "metadata": {},
   "outputs": [
    {
     "data": {
      "text/html": [
       "<table><tr class=\"tf rtl\"><th class=\"tf rtl\">n</th><th class=\"tf rtl\">p</th><th class=\"tf rtl\">clause</th><th class=\"tf\">phrase</th><th class=\"tf\">word</th><th class=\"tf\">phrase</th><th class=\"tf\">word</th></tr>\n",
       "<tr class=\"tf rtl\"><td class=\"tf rtl\">1</td><td class=\"tf rtl\"><span class=\"tfsechead ltr\"><a target=\"_blank\" href=\"https://shebanq.ancient-data.org/hebrew/text?book=Genesis&amp;chapter=11&amp;verse=31&amp;version=2017&amp;mr=m&amp;qw=q&amp;tp=txt_p&amp;tr=hb&amp;wget=v&amp;qget=v&amp;nget=vt\" title=\"Show this on SHEBANQ\" sec=\"Genesis 11:31\">Genesis 11:31</a></span></td><td class=\"tf rtl\"><span class=\"rtl ubd\"><span class=\"plain rtl  hlbx\" ><span class=\"txtu hbo\">וַ</span><span class=\"plain rtl  hlbx\" ><span class=\"plain rtl  hl\" ><span class=\"txtu hbo\">יִּקַּ֨ח </span></span></span><span class=\"txtu hbo\">תֶּ֜רַח </span><span class=\"plain rtl  hlbx\" ><span class=\"txtu hbo\">אֶת־</span><span class=\"txtu hbo\">אַבְרָ֣ם </span><span class=\"txtu hbo\">בְּנֹ֗ו </span><span class=\"txtu hbo\">וְ</span><span class=\"txtu hbo\">אֶת־</span><span class=\"txtu hbo\">לֹ֤וט </span><span class=\"txtu hbo\">בֶּן־</span><span class=\"txtu hbo\">הָרָן֙ </span><span class=\"txtu hbo\">בֶּן־</span><span class=\"txtu hbo\">בְּנֹ֔ו </span><span class=\"txtu hbo\">וְ</span><span class=\"txtu hbo\">אֵת֙ </span><span class=\"plain rtl  hl\" ><span class=\"txtu hbo\">שָׂרַ֣י </span></span><span class=\"txtu hbo\">כַּלָּתֹ֔ו </span><span class=\"txtu hbo\">אֵ֖שֶׁת </span><span class=\"txtu hbo\">אַבְרָ֣ם </span><span class=\"txtu hbo\">בְּנֹ֑ו </span></span></span></span></td><td class=\"tf rtl\"><span class=\"rtl ubd\"><span class=\"plain rtl  hlbx\" ><span class=\"plain rtl  hl\" ><span class=\"txtu hbo\">יִּקַּ֨ח </span></span></span></span></td><td class=\"tf rtl\"><span class=\"rtl ubd\"><span class=\"plain rtl  hl\" ><span class=\"txtu hbo\">יִּקַּ֨ח </span></span></span></td><td class=\"tf rtl\"><span class=\"rtl ubd\"><span class=\"plain rtl  hlbx\" ><span class=\"txtu hbo\">אֶת־</span><span class=\"txtu hbo\">אַבְרָ֣ם </span><span class=\"txtu hbo\">בְּנֹ֗ו </span><span class=\"txtu hbo\">וְ</span><span class=\"txtu hbo\">אֶת־</span><span class=\"txtu hbo\">לֹ֤וט </span><span class=\"txtu hbo\">בֶּן־</span><span class=\"txtu hbo\">הָרָן֙ </span><span class=\"txtu hbo\">בֶּן־</span><span class=\"txtu hbo\">בְּנֹ֔ו </span><span class=\"txtu hbo\">וְ</span><span class=\"txtu hbo\">אֵת֙ </span><span class=\"plain rtl  hl\" ><span class=\"txtu hbo\">שָׂרַ֣י </span></span><span class=\"txtu hbo\">כַּלָּתֹ֔ו </span><span class=\"txtu hbo\">אֵ֖שֶׁת </span><span class=\"txtu hbo\">אַבְרָ֣ם </span><span class=\"txtu hbo\">בְּנֹ֑ו </span></span></span></td><td class=\"tf rtl\"><span class=\"rtl ubd\"><span class=\"plain rtl  hl\" ><span class=\"txtu hbo\">שָׂרַ֣י </span></span></span></td></tr>\n",
       "<tr class=\"tf rtl\"><td class=\"tf rtl\">2</td><td class=\"tf rtl\"><span class=\"tfsechead ltr\"><a target=\"_blank\" href=\"https://shebanq.ancient-data.org/hebrew/text?book=Genesis&amp;chapter=12&amp;verse=5&amp;version=2017&amp;mr=m&amp;qw=q&amp;tp=txt_p&amp;tr=hb&amp;wget=v&amp;qget=v&amp;nget=vt\" title=\"Show this on SHEBANQ\" sec=\"Genesis 12:5\">Genesis 12:5</a></span></td><td class=\"tf rtl\"><span class=\"rtl ubd\"><span class=\"plain rtl l hlbx\" ><span class=\"txtu hbo\">וַ</span><span class=\"plain rtl  hlbx\" ><span class=\"plain rtl  hl\" ><span class=\"txtu hbo\">יִּקַּ֣ח </span></span></span><span class=\"txtu hbo\">אַבְרָם֩ </span><span class=\"plain rtl l hlbx\" ><span class=\"txtu hbo\">אֶת־</span><span class=\"plain rtl  hl\" ><span class=\"txtu hbo\">שָׂרַ֨י </span></span><span class=\"txtu hbo\">אִשְׁתֹּ֜ו </span><span class=\"txtu hbo\">וְ</span><span class=\"txtu hbo\">אֶת־</span><span class=\"txtu hbo\">לֹ֣וט </span><span class=\"txtu hbo\">בֶּן־</span><span class=\"txtu hbo\">אָחִ֗יו </span><span class=\"txtu hbo\">וְ</span><span class=\"txtu hbo\">אֶת־</span><span class=\"txtu hbo\">כָּל־</span><span class=\"txtu hbo\">רְכוּשָׁם֙ </span></span></span><span class=\"plain rtl r hlbx\" ><span class=\"plain rtl r hlbx\" ><span class=\"txtu hbo\">וְ</span><span class=\"txtu hbo\">אֶת־</span><span class=\"txtu hbo\">הַ</span><span class=\"txtu hbo\">נֶּ֖פֶשׁ </span></span></span></span></td><td class=\"tf rtl\"><span class=\"rtl ubd\"><span class=\"plain rtl  hlbx\" ><span class=\"plain rtl  hl\" ><span class=\"txtu hbo\">יִּקַּ֣ח </span></span></span></span></td><td class=\"tf rtl\"><span class=\"rtl ubd\"><span class=\"plain rtl  hl\" ><span class=\"txtu hbo\">יִּקַּ֣ח </span></span></span></td><td class=\"tf rtl\"><span class=\"rtl ubd\"><span class=\"plain rtl l hlbx\" ><span class=\"txtu hbo\">אֶת־</span><span class=\"plain rtl  hl\" ><span class=\"txtu hbo\">שָׂרַ֨י </span></span><span class=\"txtu hbo\">אִשְׁתֹּ֜ו </span><span class=\"txtu hbo\">וְ</span><span class=\"txtu hbo\">אֶת־</span><span class=\"txtu hbo\">לֹ֣וט </span><span class=\"txtu hbo\">בֶּן־</span><span class=\"txtu hbo\">אָחִ֗יו </span><span class=\"txtu hbo\">וְ</span><span class=\"txtu hbo\">אֶת־</span><span class=\"txtu hbo\">כָּל־</span><span class=\"txtu hbo\">רְכוּשָׁם֙ </span></span><span class=\"plain rtl r hlbx\" ><span class=\"txtu hbo\">וְ</span><span class=\"txtu hbo\">אֶת־</span><span class=\"txtu hbo\">הַ</span><span class=\"txtu hbo\">נֶּ֖פֶשׁ </span></span></span></td><td class=\"tf rtl\"><span class=\"rtl ubd\"><span class=\"plain rtl  hl\" ><span class=\"txtu hbo\">שָׂרַ֨י </span></span></span></td></tr>\n",
       "<tr class=\"tf rtl\"><td class=\"tf rtl\">3</td><td class=\"tf rtl\"><span class=\"tfsechead ltr\"><a target=\"_blank\" href=\"https://shebanq.ancient-data.org/hebrew/text?book=Genesis&amp;chapter=16&amp;verse=3&amp;version=2017&amp;mr=m&amp;qw=q&amp;tp=txt_p&amp;tr=hb&amp;wget=v&amp;qget=v&amp;nget=vt\" title=\"Show this on SHEBANQ\" sec=\"Genesis 16:3\">Genesis 16:3</a></span></td><td class=\"tf rtl\"><span class=\"rtl ubd\"><span class=\"plain rtl  hlbx\" ><span class=\"txtu hbo\">וַ</span><span class=\"plain rtl  hlbx\" ><span class=\"plain rtl  hl\" ><span class=\"txtu hbo\">תִּקַּ֞ח </span></span></span><span class=\"txtu hbo\">שָׂרַ֣י </span><span class=\"txtu hbo\">אֵֽשֶׁת־</span><span class=\"txtu hbo\">אַבְרָ֗ם </span><span class=\"plain rtl  hlbx\" ><span class=\"txtu hbo\">אֶת־</span><span class=\"plain rtl  hl\" ><span class=\"txtu hbo\">הָגָ֤ר </span></span><span class=\"txtu hbo\">הַ</span><span class=\"txtu hbo\">מִּצְרִית֙ </span><span class=\"txtu hbo\">שִׁפְחָתָ֔הּ </span></span><span class=\"txtu hbo\">מִ</span><span class=\"txtu hbo\">קֵּץ֙ </span><span class=\"txtu hbo\">עֶ֣שֶׂר </span><span class=\"txtu hbo\">שָׁנִ֔ים </span></span></span></td><td class=\"tf rtl\"><span class=\"rtl ubd\"><span class=\"plain rtl  hlbx\" ><span class=\"plain rtl  hl\" ><span class=\"txtu hbo\">תִּקַּ֞ח </span></span></span></span></td><td class=\"tf rtl\"><span class=\"rtl ubd\"><span class=\"plain rtl  hl\" ><span class=\"txtu hbo\">תִּקַּ֞ח </span></span></span></td><td class=\"tf rtl\"><span class=\"rtl ubd\"><span class=\"plain rtl  hlbx\" ><span class=\"txtu hbo\">אֶת־</span><span class=\"plain rtl  hl\" ><span class=\"txtu hbo\">הָגָ֤ר </span></span><span class=\"txtu hbo\">הַ</span><span class=\"txtu hbo\">מִּצְרִית֙ </span><span class=\"txtu hbo\">שִׁפְחָתָ֔הּ </span></span></span></td><td class=\"tf rtl\"><span class=\"rtl ubd\"><span class=\"plain rtl  hl\" ><span class=\"txtu hbo\">הָגָ֤ר </span></span></span></td></tr>\n",
       "<tr class=\"tf rtl\"><td class=\"tf rtl\">4</td><td class=\"tf rtl\"><span class=\"tfsechead ltr\"><a target=\"_blank\" href=\"https://shebanq.ancient-data.org/hebrew/text?book=Genesis&amp;chapter=20&amp;verse=2&amp;version=2017&amp;mr=m&amp;qw=q&amp;tp=txt_p&amp;tr=hb&amp;wget=v&amp;qget=v&amp;nget=vt\" title=\"Show this on SHEBANQ\" sec=\"Genesis 20:2\">Genesis 20:2</a></span></td><td class=\"tf rtl\"><span class=\"rtl ubd\"><span class=\"plain rtl  hlbx\" ><span class=\"txtu hbo\">וַ</span><span class=\"plain rtl  hlbx\" ><span class=\"plain rtl  hl\" ><span class=\"txtu hbo\">יִּקַּ֖ח </span></span></span><span class=\"plain rtl  hlbx\" ><span class=\"txtu hbo\">אֶת־</span><span class=\"plain rtl  hl\" ><span class=\"txtu hbo\">שָׂרָֽה׃ </span></span></span></span></span></td><td class=\"tf rtl\"><span class=\"rtl ubd\"><span class=\"plain rtl  hlbx\" ><span class=\"plain rtl  hl\" ><span class=\"txtu hbo\">יִּקַּ֖ח </span></span></span></span></td><td class=\"tf rtl\"><span class=\"rtl ubd\"><span class=\"plain rtl  hl\" ><span class=\"txtu hbo\">יִּקַּ֖ח </span></span></span></td><td class=\"tf rtl\"><span class=\"rtl ubd\"><span class=\"plain rtl  hlbx\" ><span class=\"txtu hbo\">אֶת־</span><span class=\"plain rtl  hl\" ><span class=\"txtu hbo\">שָׂרָֽה׃ </span></span></span></span></td><td class=\"tf rtl\"><span class=\"rtl ubd\"><span class=\"plain rtl  hl\" ><span class=\"txtu hbo\">שָׂרָֽה׃ </span></span></span></td></tr>\n",
       "<tr class=\"tf rtl\"><td class=\"tf rtl\">5</td><td class=\"tf rtl\"><span class=\"tfsechead ltr\"><a target=\"_blank\" href=\"https://shebanq.ancient-data.org/hebrew/text?book=Genesis&amp;chapter=24&amp;verse=61&amp;version=2017&amp;mr=m&amp;qw=q&amp;tp=txt_p&amp;tr=hb&amp;wget=v&amp;qget=v&amp;nget=vt\" title=\"Show this on SHEBANQ\" sec=\"Genesis 24:61\">Genesis 24:61</a></span></td><td class=\"tf rtl\"><span class=\"rtl ubd\"><span class=\"plain rtl  hlbx\" ><span class=\"txtu hbo\">וַ</span><span class=\"plain rtl  hlbx\" ><span class=\"plain rtl  hl\" ><span class=\"txtu hbo\">יִּקַּ֥ח </span></span></span><span class=\"txtu hbo\">הָ</span><span class=\"txtu hbo\">עֶ֛בֶד </span><span class=\"plain rtl  hlbx\" ><span class=\"txtu hbo\">אֶת־</span><span class=\"plain rtl  hl\" ><span class=\"txtu hbo\">רִבְקָ֖ה </span></span></span></span></span></td><td class=\"tf rtl\"><span class=\"rtl ubd\"><span class=\"plain rtl  hlbx\" ><span class=\"plain rtl  hl\" ><span class=\"txtu hbo\">יִּקַּ֥ח </span></span></span></span></td><td class=\"tf rtl\"><span class=\"rtl ubd\"><span class=\"plain rtl  hl\" ><span class=\"txtu hbo\">יִּקַּ֥ח </span></span></span></td><td class=\"tf rtl\"><span class=\"rtl ubd\"><span class=\"plain rtl  hlbx\" ><span class=\"txtu hbo\">אֶת־</span><span class=\"plain rtl  hl\" ><span class=\"txtu hbo\">רִבְקָ֖ה </span></span></span></span></td><td class=\"tf rtl\"><span class=\"rtl ubd\"><span class=\"plain rtl  hl\" ><span class=\"txtu hbo\">רִבְקָ֖ה </span></span></span></td></tr></table>"
      ],
      "text/plain": [
       "<IPython.core.display.HTML object>"
      ]
     },
     "metadata": {},
     "output_type": "display_data"
    }
   ],
   "source": [
    "A.table(results, end=5)"
   ]
  },
  {
   "cell_type": "markdown",
   "id": "lesser-holmes",
   "metadata": {},
   "source": [
    "# Example 6\n",
    "\n",
    "[Bas Meeuse: Example 6: Turning point in Deut. 29,3?](https://shebanq.ancient-data.org/hebrew/query?version=2017&id=4442)\n",
    "\n",
    "```\n",
    "[clause focus\n",
    "  [phrase function = Nega]\n",
    "  [phrase typ = VP\n",
    "    [word ps = p3]\n",
    "  ]\n",
    "  [phrase function = Subj]\n",
    "  ..\n",
    "  [phrase function = Time\n",
    "    [word first lex = \"<D\"]\n",
    "  ]\n",
    "]\n",
    "\n",
    "```"
   ]
  },
  {
   "cell_type": "code",
   "execution_count": 47,
   "id": "fuzzy-refund",
   "metadata": {},
   "outputs": [
    {
     "name": "stdout",
     "output_type": "stream",
     "text": [
      "10 results in 10 verses with 121 words\n"
     ]
    }
   ],
   "source": [
    "(verses, words) = getShebanqData(A, MQL_RESULTS, 6)"
   ]
  },
  {
   "cell_type": "code",
   "execution_count": 48,
   "id": "played-birmingham",
   "metadata": {},
   "outputs": [],
   "source": [
    "query = \"\"\"\n",
    "clause\n",
    "  phrase function=Nega\n",
    "  <: phrase typ=VP\n",
    "    word ps=p3\n",
    "  <: phrase function=Subj\n",
    "  < phrase function=Time\n",
    "    =: word lex=<D\n",
    "\"\"\""
   ]
  },
  {
   "cell_type": "code",
   "execution_count": 49,
   "id": "sharing-nowhere",
   "metadata": {},
   "outputs": [
    {
     "name": "stdout",
     "output_type": "stream",
     "text": [
      "  1.87s 10 results\n"
     ]
    }
   ],
   "source": [
    "results = A.search(query)"
   ]
  },
  {
   "cell_type": "code",
   "execution_count": 50,
   "id": "ultimate-treat",
   "metadata": {},
   "outputs": [
    {
     "name": "stdout",
     "output_type": "stream",
     "text": [
      " 10 verses\n",
      "121 words\n"
     ]
    }
   ],
   "source": [
    "(tfVerses, tfWords) = getTfVerses(A, results, (0,))"
   ]
  },
  {
   "cell_type": "code",
   "execution_count": 51,
   "id": "transsexual-auckland",
   "metadata": {},
   "outputs": [
    {
     "name": "stdout",
     "output_type": "stream",
     "text": [
      "VERSES EQUAL\n",
      "WORDS EQUAL\n"
     ]
    }
   ],
   "source": [
    "compareResults(A, verses, words, tfVerses, tfWords)"
   ]
  },
  {
   "cell_type": "code",
   "execution_count": 52,
   "id": "documented-restoration",
   "metadata": {},
   "outputs": [
    {
     "data": {
      "text/html": [
       "<table><tr class=\"tf rtl\"><th class=\"tf rtl\">n</th><th class=\"tf rtl\">p</th><th class=\"tf rtl\">clause</th><th class=\"tf\">phrase</th><th class=\"tf\">phrase</th><th class=\"tf\">word</th><th class=\"tf\">phrase</th><th class=\"tf\">phrase</th><th class=\"tf\">word</th></tr>\n",
       "<tr class=\"tf rtl\"><td class=\"tf rtl\">1</td><td class=\"tf rtl\"><span class=\"tfsechead ltr\"><a target=\"_blank\" href=\"https://shebanq.ancient-data.org/hebrew/text?book=Genesis&amp;chapter=32&amp;verse=33&amp;version=2017&amp;mr=m&amp;qw=q&amp;tp=txt_p&amp;tr=hb&amp;wget=v&amp;qget=v&amp;nget=vt\" title=\"Show this on SHEBANQ\" sec=\"Genesis 32:33\">Genesis 32:33</a></span></td><td class=\"tf rtl\"><span class=\"rtl ubd\"><span class=\"plain rtl l hlbx\" ><span class=\"txtu hbo\">עַל־</span><span class=\"txtu hbo\">כֵּ֡ן </span><span class=\"plain rtl  hlbx\" ><span class=\"txtu hbo\">לֹֽא־</span></span><span class=\"plain rtl  hlbx\" ><span class=\"plain rtl  hl\" ><span class=\"txtu hbo\">יֹאכְל֨וּ </span></span></span><span class=\"plain rtl  hlbx\" ><span class=\"txtu hbo\">בְנֵֽי־</span><span class=\"txtu hbo\">יִשְׂרָאֵ֜ל </span></span><span class=\"txtu hbo\">אֶת־</span><span class=\"txtu hbo\">גִּ֣יד </span><span class=\"txtu hbo\">הַ</span><span class=\"txtu hbo\">נָּשֶׁ֗ה </span></span><span class=\"plain rtl r hlbx\" ><span class=\"plain rtl  hlbx\" ><span class=\"plain rtl  hl\" ><span class=\"txtu hbo\">עַ֖ד </span></span><span class=\"txtu hbo\">הַ</span><span class=\"txtu hbo\">יֹּ֣ום </span><span class=\"txtu hbo\">הַ</span><span class=\"txtu hbo\">זֶּ֑ה </span></span></span></span></td><td class=\"tf rtl\"><span class=\"rtl ubd\"><span class=\"plain rtl  hlbx\" ><span class=\"txtu hbo\">לֹֽא־</span></span></span></td><td class=\"tf rtl\"><span class=\"rtl ubd\"><span class=\"plain rtl  hlbx\" ><span class=\"plain rtl  hl\" ><span class=\"txtu hbo\">יֹאכְל֨וּ </span></span></span></span></td><td class=\"tf rtl\"><span class=\"rtl ubd\"><span class=\"plain rtl  hl\" ><span class=\"txtu hbo\">יֹאכְל֨וּ </span></span></span></td><td class=\"tf rtl\"><span class=\"rtl ubd\"><span class=\"plain rtl  hlbx\" ><span class=\"txtu hbo\">בְנֵֽי־</span><span class=\"txtu hbo\">יִשְׂרָאֵ֜ל </span></span></span></td><td class=\"tf rtl\"><span class=\"rtl ubd\"><span class=\"plain rtl  hlbx\" ><span class=\"plain rtl  hl\" ><span class=\"txtu hbo\">עַ֖ד </span></span><span class=\"txtu hbo\">הַ</span><span class=\"txtu hbo\">יֹּ֣ום </span><span class=\"txtu hbo\">הַ</span><span class=\"txtu hbo\">זֶּ֑ה </span></span></span></td><td class=\"tf rtl\"><span class=\"rtl ubd\"><span class=\"plain rtl  hl\" ><span class=\"txtu hbo\">עַ֖ד </span></span></span></td></tr>\n",
       "<tr class=\"tf rtl\"><td class=\"tf rtl\">2</td><td class=\"tf rtl\"><span class=\"tfsechead ltr\"><a target=\"_blank\" href=\"https://shebanq.ancient-data.org/hebrew/text?book=Exodus&amp;chapter=10&amp;verse=6&amp;version=2017&amp;mr=m&amp;qw=q&amp;tp=txt_p&amp;tr=hb&amp;wget=v&amp;qget=v&amp;nget=vt\" title=\"Show this on SHEBANQ\" sec=\"Exodus 10:6\">Exodus 10:6</a></span></td><td class=\"tf rtl\"><span class=\"rtl ubd\"><span class=\"plain rtl l hlbx\" ><span class=\"txtu hbo\">אֲשֶׁ֨ר </span><span class=\"plain rtl  hlbx\" ><span class=\"txtu hbo\">לֹֽא־</span></span><span class=\"plain rtl  hlbx\" ><span class=\"plain rtl  hl\" ><span class=\"txtu hbo\">רָא֤וּ </span></span></span><span class=\"plain rtl  hlbx\" ><span class=\"txtu hbo\">אֲבֹתֶ֨יךָ֙ </span><span class=\"txtu hbo\">וַ</span><span class=\"txtu hbo\">אֲבֹו֣ת </span><span class=\"txtu hbo\">אֲבֹתֶ֔יךָ </span></span><span class=\"txtu hbo\">מִ</span><span class=\"txtu hbo\">יֹּ֗ום </span></span><span class=\"plain rtl r hlbx\" ><span class=\"plain rtl  hlbx\" ><span class=\"plain rtl  hl\" ><span class=\"txtu hbo\">עַ֖ד </span></span><span class=\"txtu hbo\">הַ</span><span class=\"txtu hbo\">יֹּ֣ום </span><span class=\"txtu hbo\">הַ</span><span class=\"txtu hbo\">זֶּ֑ה </span></span></span></span></td><td class=\"tf rtl\"><span class=\"rtl ubd\"><span class=\"plain rtl  hlbx\" ><span class=\"txtu hbo\">לֹֽא־</span></span></span></td><td class=\"tf rtl\"><span class=\"rtl ubd\"><span class=\"plain rtl  hlbx\" ><span class=\"plain rtl  hl\" ><span class=\"txtu hbo\">רָא֤וּ </span></span></span></span></td><td class=\"tf rtl\"><span class=\"rtl ubd\"><span class=\"plain rtl  hl\" ><span class=\"txtu hbo\">רָא֤וּ </span></span></span></td><td class=\"tf rtl\"><span class=\"rtl ubd\"><span class=\"plain rtl  hlbx\" ><span class=\"txtu hbo\">אֲבֹתֶ֨יךָ֙ </span><span class=\"txtu hbo\">וַ</span><span class=\"txtu hbo\">אֲבֹו֣ת </span><span class=\"txtu hbo\">אֲבֹתֶ֔יךָ </span></span></span></td><td class=\"tf rtl\"><span class=\"rtl ubd\"><span class=\"plain rtl  hlbx\" ><span class=\"plain rtl  hl\" ><span class=\"txtu hbo\">עַ֖ד </span></span><span class=\"txtu hbo\">הַ</span><span class=\"txtu hbo\">יֹּ֣ום </span><span class=\"txtu hbo\">הַ</span><span class=\"txtu hbo\">זֶּ֑ה </span></span></span></td><td class=\"tf rtl\"><span class=\"rtl ubd\"><span class=\"plain rtl  hl\" ><span class=\"txtu hbo\">עַ֖ד </span></span></span></td></tr>\n",
       "<tr class=\"tf rtl\"><td class=\"tf rtl\">3</td><td class=\"tf rtl\"><span class=\"tfsechead ltr\"><a target=\"_blank\" href=\"https://shebanq.ancient-data.org/hebrew/text?book=Leviticus&amp;chapter=19&amp;verse=13&amp;version=2017&amp;mr=m&amp;qw=q&amp;tp=txt_p&amp;tr=hb&amp;wget=v&amp;qget=v&amp;nget=vt\" title=\"Show this on SHEBANQ\" sec=\"Leviticus 19:13\">Leviticus 19:13</a></span></td><td class=\"tf rtl\"><span class=\"rtl ubd\"><span class=\"plain rtl  hlbx\" ><span class=\"plain rtl  hlbx\" ><span class=\"txtu hbo\">לֹֽא־</span></span><span class=\"plain rtl  hlbx\" ><span class=\"plain rtl  hl\" ><span class=\"txtu hbo\">תָלִ֞ין </span></span></span><span class=\"plain rtl  hlbx\" ><span class=\"txtu hbo\">פְּעֻלַּ֥ת </span><span class=\"txtu hbo\">שָׂכִ֛יר </span></span><span class=\"txtu hbo\">אִתְּךָ֖ </span><span class=\"plain rtl  hlbx\" ><span class=\"plain rtl  hl\" ><span class=\"txtu hbo\">עַד־</span></span><span class=\"txtu hbo\">בֹּֽקֶר׃ </span></span></span></span></td><td class=\"tf rtl\"><span class=\"rtl ubd\"><span class=\"plain rtl  hlbx\" ><span class=\"txtu hbo\">לֹֽא־</span></span></span></td><td class=\"tf rtl\"><span class=\"rtl ubd\"><span class=\"plain rtl  hlbx\" ><span class=\"plain rtl  hl\" ><span class=\"txtu hbo\">תָלִ֞ין </span></span></span></span></td><td class=\"tf rtl\"><span class=\"rtl ubd\"><span class=\"plain rtl  hl\" ><span class=\"txtu hbo\">תָלִ֞ין </span></span></span></td><td class=\"tf rtl\"><span class=\"rtl ubd\"><span class=\"plain rtl  hlbx\" ><span class=\"txtu hbo\">פְּעֻלַּ֥ת </span><span class=\"txtu hbo\">שָׂכִ֛יר </span></span></span></td><td class=\"tf rtl\"><span class=\"rtl ubd\"><span class=\"plain rtl  hlbx\" ><span class=\"plain rtl  hl\" ><span class=\"txtu hbo\">עַד־</span></span><span class=\"txtu hbo\">בֹּֽקֶר׃ </span></span></span></td><td class=\"tf rtl\"><span class=\"rtl ubd\"><span class=\"plain rtl  hl\" ><span class=\"txtu hbo\">עַד־</span></span></span></td></tr>\n",
       "<tr class=\"tf rtl\"><td class=\"tf rtl\">4</td><td class=\"tf rtl\"><span class=\"tfsechead ltr\"><a target=\"_blank\" href=\"https://shebanq.ancient-data.org/hebrew/text?book=Deuteronomium&amp;chapter=29&amp;verse=3&amp;version=2017&amp;mr=m&amp;qw=q&amp;tp=txt_p&amp;tr=hb&amp;wget=v&amp;qget=v&amp;nget=vt\" title=\"Show this on SHEBANQ\" sec=\"Deuteronomy 29:3\">Deuteronomy 29:3</a></span></td><td class=\"tf rtl\"><span class=\"rtl ubd\"><span class=\"plain rtl l hlbx\" ><span class=\"txtu hbo\">וְ</span><span class=\"plain rtl  hlbx\" ><span class=\"txtu hbo\">לֹֽא־</span></span><span class=\"plain rtl  hlbx\" ><span class=\"plain rtl  hl\" ><span class=\"txtu hbo\">נָתַן֩ </span></span></span><span class=\"plain rtl  hlbx\" ><span class=\"txtu hbo\">יְהוָ֨ה </span></span><span class=\"txtu hbo\">לָכֶ֥ם </span><span class=\"plain rtl l \" ><span class=\"txtu hbo\">לֵב֙ </span></span></span><span class=\"plain rtl r l hlbx\" ><span class=\"txtu hbo\">וְ</span><span class=\"txtu hbo\">עֵינַ֥יִם </span></span><span class=\"plain rtl r l hlbx\" ><span class=\"plain rtl r \" ><span class=\"txtu hbo\">וְ</span><span class=\"txtu hbo\">אָזְנַ֣יִם </span></span></span><span class=\"plain rtl r hlbx\" ><span class=\"plain rtl  hlbx\" ><span class=\"plain rtl  hl\" ><span class=\"txtu hbo\">עַ֖ד </span></span><span class=\"txtu hbo\">הַ</span><span class=\"txtu hbo\">יֹּ֥ום </span><span class=\"txtu hbo\">הַ</span><span class=\"txtu hbo\">זֶּֽה׃ </span></span></span></span></td><td class=\"tf rtl\"><span class=\"rtl ubd\"><span class=\"plain rtl  hlbx\" ><span class=\"txtu hbo\">לֹֽא־</span></span></span></td><td class=\"tf rtl\"><span class=\"rtl ubd\"><span class=\"plain rtl  hlbx\" ><span class=\"plain rtl  hl\" ><span class=\"txtu hbo\">נָתַן֩ </span></span></span></span></td><td class=\"tf rtl\"><span class=\"rtl ubd\"><span class=\"plain rtl  hl\" ><span class=\"txtu hbo\">נָתַן֩ </span></span></span></td><td class=\"tf rtl\"><span class=\"rtl ubd\"><span class=\"plain rtl  hlbx\" ><span class=\"txtu hbo\">יְהוָ֨ה </span></span></span></td><td class=\"tf rtl\"><span class=\"rtl ubd\"><span class=\"plain rtl  hlbx\" ><span class=\"plain rtl  hl\" ><span class=\"txtu hbo\">עַ֖ד </span></span><span class=\"txtu hbo\">הַ</span><span class=\"txtu hbo\">יֹּ֥ום </span><span class=\"txtu hbo\">הַ</span><span class=\"txtu hbo\">זֶּֽה׃ </span></span></span></td><td class=\"tf rtl\"><span class=\"rtl ubd\"><span class=\"plain rtl  hl\" ><span class=\"txtu hbo\">עַ֖ד </span></span></span></td></tr>\n",
       "<tr class=\"tf rtl\"><td class=\"tf rtl\">5</td><td class=\"tf rtl\"><span class=\"tfsechead ltr\"><a target=\"_blank\" href=\"https://shebanq.ancient-data.org/hebrew/text?book=Deuteronomium&amp;chapter=34&amp;verse=6&amp;version=2017&amp;mr=m&amp;qw=q&amp;tp=txt_p&amp;tr=hb&amp;wget=v&amp;qget=v&amp;nget=vt\" title=\"Show this on SHEBANQ\" sec=\"Deuteronomy 34:6\">Deuteronomy 34:6</a></span></td><td class=\"tf rtl\"><span class=\"rtl ubd\"><span class=\"plain rtl  hlbx\" ><span class=\"txtu hbo\">וְ</span><span class=\"plain rtl  hlbx\" ><span class=\"txtu hbo\">לֹֽא־</span></span><span class=\"plain rtl  hlbx\" ><span class=\"plain rtl  hl\" ><span class=\"txtu hbo\">יָדַ֥ע </span></span></span><span class=\"plain rtl  hlbx\" ><span class=\"txtu hbo\">אִישׁ֙ </span></span><span class=\"txtu hbo\">אֶת־</span><span class=\"txtu hbo\">קְבֻ֣רָתֹ֔ו </span><span class=\"plain rtl  hlbx\" ><span class=\"plain rtl  hl\" ><span class=\"txtu hbo\">עַ֖ד </span></span><span class=\"txtu hbo\">הַ</span><span class=\"txtu hbo\">יֹּ֥ום </span><span class=\"txtu hbo\">הַ</span><span class=\"txtu hbo\">זֶּֽה׃ </span></span></span></span></td><td class=\"tf rtl\"><span class=\"rtl ubd\"><span class=\"plain rtl  hlbx\" ><span class=\"txtu hbo\">לֹֽא־</span></span></span></td><td class=\"tf rtl\"><span class=\"rtl ubd\"><span class=\"plain rtl  hlbx\" ><span class=\"plain rtl  hl\" ><span class=\"txtu hbo\">יָדַ֥ע </span></span></span></span></td><td class=\"tf rtl\"><span class=\"rtl ubd\"><span class=\"plain rtl  hl\" ><span class=\"txtu hbo\">יָדַ֥ע </span></span></span></td><td class=\"tf rtl\"><span class=\"rtl ubd\"><span class=\"plain rtl  hlbx\" ><span class=\"txtu hbo\">אִישׁ֙ </span></span></span></td><td class=\"tf rtl\"><span class=\"rtl ubd\"><span class=\"plain rtl  hlbx\" ><span class=\"plain rtl  hl\" ><span class=\"txtu hbo\">עַ֖ד </span></span><span class=\"txtu hbo\">הַ</span><span class=\"txtu hbo\">יֹּ֥ום </span><span class=\"txtu hbo\">הַ</span><span class=\"txtu hbo\">זֶּֽה׃ </span></span></span></td><td class=\"tf rtl\"><span class=\"rtl ubd\"><span class=\"plain rtl  hl\" ><span class=\"txtu hbo\">עַ֖ד </span></span></span></td></tr></table>"
      ],
      "text/plain": [
       "<IPython.core.display.HTML object>"
      ]
     },
     "metadata": {},
     "output_type": "display_data"
    }
   ],
   "source": [
    "A.table(results, end=5)"
   ]
  },
  {
   "cell_type": "markdown",
   "id": "arbitrary-affiliation",
   "metadata": {},
   "source": [
    "# Example 7\n",
    "\n",
    "[Reinoud Oosting: verb שׂים ('to set/place') with double object](https://shebanq.ancient-data.org/hebrew/query?version=2017&id=4334)\n",
    "\n",
    "```\n",
    "[clause FOCUS\n",
    "  [phrase function IN (PreO, PtcO)\n",
    "     [word sp = verb AND vs = qal AND lex = \"FJM[\" ]\n",
    "     ]\n",
    "   ..\n",
    "  [phrase function = Objc ]\n",
    "]\n",
    "OR\n",
    "[clause FOCUS\n",
    "   [phrase function = Objc ]\n",
    "   ..\n",
    "   [phrase function IN (PreO, PtcO)\n",
    "     [word sp = verb AND vs = qal AND lex = \"FJM[\" ]\n",
    "   ]\n",
    "]\n",
    "OR\n",
    "[clause FOCUS\n",
    "   [phrase typ = VP AND NOT function IN(PreO, PtcO)\n",
    "      [word sp = verb AND vs = qal AND lex = \"FJM[\" ]\n",
    "   ]\n",
    "   ..\n",
    "   [phrase function = Objc ]\n",
    "   ..\n",
    "   [phrase function = Objc ]\n",
    "]\n",
    "OR\n",
    "[clause FOCUS\n",
    "  [phrase function = Objc ]\n",
    "  ..\n",
    "  [phrase typ = VP AND NOT function IN (PreO, PtcO)\n",
    "      [word sp = verb AND vs = qal AND lex = \"FJM[\" ]\n",
    "  ]\n",
    "  ..\n",
    "  [phrase function = Objc ]\n",
    "]\n",
    "OR\n",
    "[clause FOCUS\n",
    "  [phrase function = Objc ]\n",
    "  ..\n",
    "  [phrase function = Objc ]\n",
    "  ..\n",
    "  [phrase typ = VP AND NOT function IN (PreO, PtcO)\n",
    "      [word sp = verb AND vs = qal AND lex = \"FJM[\" ]\n",
    "  ]\n",
    "]\n",
    "```"
   ]
  },
  {
   "cell_type": "code",
   "execution_count": 53,
   "id": "sought-colors",
   "metadata": {},
   "outputs": [
    {
     "name": "stdout",
     "output_type": "stream",
     "text": [
      "62 results in 61 verses with 348 words\n"
     ]
    }
   ],
   "source": [
    "(verses, words) = getShebanqData(A, MQL_RESULTS, 7)"
   ]
  },
  {
   "cell_type": "markdown",
   "id": "stock-catalog",
   "metadata": {},
   "source": [
    "There is no `OR` in TF-Query.\n",
    "Instead, we run a separate query for each alternative and combine the results.\n",
    "\n",
    "However, we can rewrite the first two alternatives into one query.\n",
    "Note that they both specify a clause in which 2 phrases of a certain type occur.\n",
    "The two alternatives specify the two different orders in which these phrases occur.\n",
    "In TF-query there is no implicit order between the members of a template,\n",
    "so we do not have to separate cases.\n",
    "In MQL there is the `UNORDERED GROUP` construction with the same effect, which Reinoud could have used.\n",
    "\n",
    "The same holds for alternatives 3, 4, 5, which are merely order variants of 3 phrases within a clause.\n",
    "\n",
    "In TF we have to stipulate that the two `Objc` phrases are not the same one,\n",
    "because in TF-Query it is not assumed that the different blocks should be matched by\n",
    "different parts in the text.\n",
    "\n",
    "We could do that by means of the inequality operator:\n",
    "\n",
    "```\n",
    "  phrase function=Objc\n",
    "  # phrase function=Objc\n",
    "```\n",
    "\n",
    "but that will duplicate the results, because if phrase1, phrase2 is a result, then phrase2, phrase1 is also a result.\n",
    "\n",
    "So it is better to stipulate that one of them comes before the other:\n",
    "\n",
    "```\n",
    "  phrase function=Objc\n",
    "  < phrase function=Objc\n",
    "```"
   ]
  },
  {
   "cell_type": "code",
   "execution_count": 54,
   "id": "unnecessary-parallel",
   "metadata": {},
   "outputs": [],
   "source": [
    "query1= \"\"\"\n",
    "clause\n",
    "  phrase function=PreO|PtcO\n",
    "    word sp=verb vs=qal lex=FJM[\n",
    "  phrase function=Objc\n",
    "\"\"\"\n",
    "\n",
    "query2 = \"\"\"\n",
    "clause\n",
    "  phrase typ=VP function#PreO|PtcO\n",
    "    word sp=verb vs=qal lex=FJM[\n",
    "  phrase function=Objc\n",
    "  < phrase function=Objc\n",
    "\"\"\""
   ]
  },
  {
   "cell_type": "code",
   "execution_count": 55,
   "id": "sexual-switzerland",
   "metadata": {},
   "outputs": [
    {
     "name": "stdout",
     "output_type": "stream",
     "text": [
      "  0.91s 21 results\n",
      "  1.35s 41 results\n"
     ]
    }
   ],
   "source": [
    "results1 = A.search(query1)\n",
    "results2 = A.search(query2)"
   ]
  },
  {
   "cell_type": "markdown",
   "id": "accessory-external",
   "metadata": {},
   "source": [
    "The number of results nicely add up to the expected 62."
   ]
  },
  {
   "cell_type": "code",
   "execution_count": 56,
   "id": "exciting-bandwidth",
   "metadata": {},
   "outputs": [
    {
     "name": "stdout",
     "output_type": "stream",
     "text": [
      " 21 verses\n",
      "108 words\n",
      " 40 verses\n",
      "240 words\n"
     ]
    }
   ],
   "source": [
    "(tfVerses1, tfWords1) = getTfVerses(A, results1, (0,))\n",
    "(tfVerses2, tfWords2) = getTfVerses(A, results2, (0,))"
   ]
  },
  {
   "cell_type": "markdown",
   "id": "hollywood-singles",
   "metadata": {},
   "source": [
    "We combine the verses and words and test for equality."
   ]
  },
  {
   "cell_type": "code",
   "execution_count": 57,
   "id": "immune-semiconductor",
   "metadata": {},
   "outputs": [],
   "source": [
    "tfVerses = sorted(set(tfVerses1) | set(tfVerses2))\n",
    "tfWords = sorted(set(tfWords1) | set(tfWords2))"
   ]
  },
  {
   "cell_type": "code",
   "execution_count": 58,
   "id": "hollow-problem",
   "metadata": {},
   "outputs": [
    {
     "name": "stdout",
     "output_type": "stream",
     "text": [
      "VERSES EQUAL\n",
      "WORDS EQUAL\n"
     ]
    }
   ],
   "source": [
    "compareResults(A, verses, words, tfVerses, tfWords)"
   ]
  },
  {
   "cell_type": "code",
   "execution_count": 59,
   "id": "northern-listing",
   "metadata": {},
   "outputs": [
    {
     "data": {
      "text/html": [
       "<table><tr class=\"tf rtl\"><th class=\"tf rtl\">n</th><th class=\"tf rtl\">p</th><th class=\"tf rtl\">clause</th><th class=\"tf\">phrase</th><th class=\"tf\">word</th><th class=\"tf\">phrase</th></tr>\n",
       "<tr class=\"tf rtl\"><td class=\"tf rtl\">1</td><td class=\"tf rtl\"><span class=\"tfsechead ltr\"><a target=\"_blank\" href=\"https://shebanq.ancient-data.org/hebrew/text?book=Genesis&amp;chapter=27&amp;verse=37&amp;version=2017&amp;mr=m&amp;qw=q&amp;tp=txt_p&amp;tr=hb&amp;wget=v&amp;qget=v&amp;nget=vt\" title=\"Show this on SHEBANQ\" sec=\"Genesis 27:37\">Genesis 27:37</a></span></td><td class=\"tf rtl\"><span class=\"rtl ubd\"><span class=\"plain rtl  hlbx\" ><span class=\"txtu hbo\">הֵ֣ן </span><span class=\"plain rtl  hlbx\" ><span class=\"txtu hbo\">גְּבִ֞יר </span></span><span class=\"plain rtl  hlbx\" ><span class=\"plain rtl  hl\" ><span class=\"txtu hbo\">שַׂמְתִּ֥יו </span></span></span><span class=\"txtu hbo\">לָךְ֙ </span></span></span></td><td class=\"tf rtl\"><span class=\"rtl ubd\"><span class=\"plain rtl  hlbx\" ><span class=\"plain rtl  hl\" ><span class=\"txtu hbo\">שַׂמְתִּ֥יו </span></span></span></span></td><td class=\"tf rtl\"><span class=\"rtl ubd\"><span class=\"plain rtl  hl\" ><span class=\"txtu hbo\">שַׂמְתִּ֥יו </span></span></span></td><td class=\"tf rtl\"><span class=\"rtl ubd\"><span class=\"plain rtl  hlbx\" ><span class=\"txtu hbo\">גְּבִ֞יר </span></span></span></td></tr>\n",
       "<tr class=\"tf rtl\"><td class=\"tf rtl\">2</td><td class=\"tf rtl\"><span class=\"tfsechead ltr\"><a target=\"_blank\" href=\"https://shebanq.ancient-data.org/hebrew/text?book=Genesis&amp;chapter=47&amp;verse=6&amp;version=2017&amp;mr=m&amp;qw=q&amp;tp=txt_p&amp;tr=hb&amp;wget=v&amp;qget=v&amp;nget=vt\" title=\"Show this on SHEBANQ\" sec=\"Genesis 47:6\">Genesis 47:6</a></span></td><td class=\"tf rtl\"><span class=\"rtl ubd\"><span class=\"plain rtl  hlbx\" ><span class=\"txtu hbo\">וְ</span><span class=\"plain rtl  hlbx\" ><span class=\"plain rtl  hl\" ><span class=\"txtu hbo\">שַׂמְתָּ֛ם </span></span></span><span class=\"plain rtl  hlbx\" ><span class=\"txtu hbo\">שָׂרֵ֥י </span><span class=\"txtu hbo\">מִקְנֶ֖ה </span></span></span></span></td><td class=\"tf rtl\"><span class=\"rtl ubd\"><span class=\"plain rtl  hlbx\" ><span class=\"plain rtl  hl\" ><span class=\"txtu hbo\">שַׂמְתָּ֛ם </span></span></span></span></td><td class=\"tf rtl\"><span class=\"rtl ubd\"><span class=\"plain rtl  hl\" ><span class=\"txtu hbo\">שַׂמְתָּ֛ם </span></span></span></td><td class=\"tf rtl\"><span class=\"rtl ubd\"><span class=\"plain rtl  hlbx\" ><span class=\"txtu hbo\">שָׂרֵ֥י </span><span class=\"txtu hbo\">מִקְנֶ֖ה </span></span></span></td></tr>\n",
       "<tr class=\"tf rtl\"><td class=\"tf rtl\">3</td><td class=\"tf rtl\"><span class=\"tfsechead ltr\"><a target=\"_blank\" href=\"https://shebanq.ancient-data.org/hebrew/text?book=Josua&amp;chapter=8&amp;verse=28&amp;version=2017&amp;mr=m&amp;qw=q&amp;tp=txt_p&amp;tr=hb&amp;wget=v&amp;qget=v&amp;nget=vt\" title=\"Show this on SHEBANQ\" sec=\"Joshua 8:28\">Joshua 8:28</a></span></td><td class=\"tf rtl\"><span class=\"rtl ubd\"><span class=\"plain rtl  hlbx\" ><span class=\"txtu hbo\">וַ</span><span class=\"plain rtl  hlbx\" ><span class=\"plain rtl  hl\" ><span class=\"txtu hbo\">יְשִׂימֶ֤הָ </span></span></span><span class=\"plain rtl  hlbx\" ><span class=\"txtu hbo\">תֵּל־</span><span class=\"txtu hbo\">עֹולָם֙ </span><span class=\"txtu hbo\">שְׁמָמָ֔ה </span></span><span class=\"txtu hbo\">עַ֖ד </span><span class=\"txtu hbo\">הַ</span><span class=\"txtu hbo\">יֹּ֥ום </span><span class=\"txtu hbo\">הַ</span><span class=\"txtu hbo\">זֶּֽה׃ </span></span></span></td><td class=\"tf rtl\"><span class=\"rtl ubd\"><span class=\"plain rtl  hlbx\" ><span class=\"plain rtl  hl\" ><span class=\"txtu hbo\">יְשִׂימֶ֤הָ </span></span></span></span></td><td class=\"tf rtl\"><span class=\"rtl ubd\"><span class=\"plain rtl  hl\" ><span class=\"txtu hbo\">יְשִׂימֶ֤הָ </span></span></span></td><td class=\"tf rtl\"><span class=\"rtl ubd\"><span class=\"plain rtl  hlbx\" ><span class=\"txtu hbo\">תֵּל־</span><span class=\"txtu hbo\">עֹולָם֙ </span><span class=\"txtu hbo\">שְׁמָמָ֔ה </span></span></span></td></tr>\n",
       "<tr class=\"tf rtl\"><td class=\"tf rtl\">4</td><td class=\"tf rtl\"><span class=\"tfsechead ltr\"><a target=\"_blank\" href=\"https://shebanq.ancient-data.org/hebrew/text?book=Samuel_I&amp;chapter=11&amp;verse=2&amp;version=2017&amp;mr=m&amp;qw=q&amp;tp=txt_p&amp;tr=hb&amp;wget=v&amp;qget=v&amp;nget=vt\" title=\"Show this on SHEBANQ\" sec=\"1_Samuel 11:2\">1_Samuel 11:2</a></span></td><td class=\"tf rtl\"><span class=\"rtl ubd\"><span class=\"plain rtl  hlbx\" ><span class=\"txtu hbo\">וְ</span><span class=\"plain rtl  hlbx\" ><span class=\"plain rtl  hl\" ><span class=\"txtu hbo\">שַׂמְתִּ֥יהָ </span></span></span><span class=\"plain rtl  hlbx\" ><span class=\"txtu hbo\">חֶרְפָּ֖ה </span></span><span class=\"txtu hbo\">עַל־</span><span class=\"txtu hbo\">כָּל־</span><span class=\"txtu hbo\">יִשְׂרָאֵֽל׃ </span></span></span></td><td class=\"tf rtl\"><span class=\"rtl ubd\"><span class=\"plain rtl  hlbx\" ><span class=\"plain rtl  hl\" ><span class=\"txtu hbo\">שַׂמְתִּ֥יהָ </span></span></span></span></td><td class=\"tf rtl\"><span class=\"rtl ubd\"><span class=\"plain rtl  hl\" ><span class=\"txtu hbo\">שַׂמְתִּ֥יהָ </span></span></span></td><td class=\"tf rtl\"><span class=\"rtl ubd\"><span class=\"plain rtl  hlbx\" ><span class=\"txtu hbo\">חֶרְפָּ֖ה </span></span></span></td></tr>\n",
       "<tr class=\"tf rtl\"><td class=\"tf rtl\">5</td><td class=\"tf rtl\"><span class=\"tfsechead ltr\"><a target=\"_blank\" href=\"https://shebanq.ancient-data.org/hebrew/text?book=Samuel_I&amp;chapter=18&amp;verse=13&amp;version=2017&amp;mr=m&amp;qw=q&amp;tp=txt_p&amp;tr=hb&amp;wget=v&amp;qget=v&amp;nget=vt\" title=\"Show this on SHEBANQ\" sec=\"1_Samuel 18:13\">1_Samuel 18:13</a></span></td><td class=\"tf rtl\"><span class=\"rtl ubd\"><span class=\"plain rtl  hlbx\" ><span class=\"txtu hbo\">וַ</span><span class=\"plain rtl  hlbx\" ><span class=\"plain rtl  hl\" ><span class=\"txtu hbo\">יְשִׂמֵ֥הוּ </span></span></span><span class=\"txtu hbo\">לֹ֖ו </span><span class=\"plain rtl  hlbx\" ><span class=\"txtu hbo\">שַׂר־</span><span class=\"txtu hbo\">אָ֑לֶף </span></span></span></span></td><td class=\"tf rtl\"><span class=\"rtl ubd\"><span class=\"plain rtl  hlbx\" ><span class=\"plain rtl  hl\" ><span class=\"txtu hbo\">יְשִׂמֵ֥הוּ </span></span></span></span></td><td class=\"tf rtl\"><span class=\"rtl ubd\"><span class=\"plain rtl  hl\" ><span class=\"txtu hbo\">יְשִׂמֵ֥הוּ </span></span></span></td><td class=\"tf rtl\"><span class=\"rtl ubd\"><span class=\"plain rtl  hlbx\" ><span class=\"txtu hbo\">שַׂר־</span><span class=\"txtu hbo\">אָ֑לֶף </span></span></span></td></tr></table>"
      ],
      "text/plain": [
       "<IPython.core.display.HTML object>"
      ]
     },
     "metadata": {},
     "output_type": "display_data"
    },
    {
     "data": {
      "text/html": [
       "<table><tr class=\"tf rtl\"><th class=\"tf rtl\">n</th><th class=\"tf rtl\">p</th><th class=\"tf rtl\">clause</th><th class=\"tf\">phrase</th><th class=\"tf\">word</th><th class=\"tf\">phrase</th><th class=\"tf\">phrase</th></tr>\n",
       "<tr class=\"tf rtl\"><td class=\"tf rtl\">1</td><td class=\"tf rtl\"><span class=\"tfsechead ltr\"><a target=\"_blank\" href=\"https://shebanq.ancient-data.org/hebrew/text?book=Genesis&amp;chapter=28&amp;verse=18&amp;version=2017&amp;mr=m&amp;qw=q&amp;tp=txt_p&amp;tr=hb&amp;wget=v&amp;qget=v&amp;nget=vt\" title=\"Show this on SHEBANQ\" sec=\"Genesis 28:18\">Genesis 28:18</a></span></td><td class=\"tf rtl\"><span class=\"rtl ubd\"><span class=\"plain rtl  hlbx\" ><span class=\"txtu hbo\">וַ</span><span class=\"plain rtl  hlbx\" ><span class=\"plain rtl  hl\" ><span class=\"txtu hbo\">יָּ֥שֶׂם </span></span></span><span class=\"plain rtl  hlbx\" ><span class=\"txtu hbo\">אֹתָ֖הּ </span></span><span class=\"plain rtl  hlbx\" ><span class=\"txtu hbo\">מַצֵּבָ֑ה </span></span></span></span></td><td class=\"tf rtl\"><span class=\"rtl ubd\"><span class=\"plain rtl  hlbx\" ><span class=\"plain rtl  hl\" ><span class=\"txtu hbo\">יָּ֥שֶׂם </span></span></span></span></td><td class=\"tf rtl\"><span class=\"rtl ubd\"><span class=\"plain rtl  hl\" ><span class=\"txtu hbo\">יָּ֥שֶׂם </span></span></span></td><td class=\"tf rtl\"><span class=\"rtl ubd\"><span class=\"plain rtl  hlbx\" ><span class=\"txtu hbo\">אֹתָ֖הּ </span></span></span></td><td class=\"tf rtl\"><span class=\"rtl ubd\"><span class=\"plain rtl  hlbx\" ><span class=\"txtu hbo\">מַצֵּבָ֑ה </span></span></span></td></tr>\n",
       "<tr class=\"tf rtl\"><td class=\"tf rtl\">2</td><td class=\"tf rtl\"><span class=\"tfsechead ltr\"><a target=\"_blank\" href=\"https://shebanq.ancient-data.org/hebrew/text?book=Exodus&amp;chapter=28&amp;verse=12&amp;version=2017&amp;mr=m&amp;qw=q&amp;tp=txt_p&amp;tr=hb&amp;wget=v&amp;qget=v&amp;nget=vt\" title=\"Show this on SHEBANQ\" sec=\"Exodus 28:12\">Exodus 28:12</a></span></td><td class=\"tf rtl\"><span class=\"rtl ubd\"><span class=\"plain rtl  hlbx\" ><span class=\"txtu hbo\">וְ</span><span class=\"plain rtl  hlbx\" ><span class=\"plain rtl  hl\" ><span class=\"txtu hbo\">שַׂמְתָּ֞ </span></span></span><span class=\"plain rtl  hlbx\" ><span class=\"txtu hbo\">אֶת־</span><span class=\"txtu hbo\">שְׁתֵּ֣י </span><span class=\"txtu hbo\">הָ</span><span class=\"txtu hbo\">אֲבָנִ֗ים </span></span><span class=\"txtu hbo\">עַ֚ל </span><span class=\"txtu hbo\">כִּתְפֹ֣ת </span><span class=\"txtu hbo\">הָֽ</span><span class=\"txtu hbo\">אֵפֹ֔ד </span><span class=\"plain rtl  hlbx\" ><span class=\"txtu hbo\">אַבְנֵ֥י </span><span class=\"txtu hbo\">זִכָּרֹ֖ן </span><span class=\"txtu hbo\">לִ</span><span class=\"txtu hbo\">בְנֵ֣י </span><span class=\"txtu hbo\">יִשְׂרָאֵ֑ל </span></span></span></span></td><td class=\"tf rtl\"><span class=\"rtl ubd\"><span class=\"plain rtl  hlbx\" ><span class=\"plain rtl  hl\" ><span class=\"txtu hbo\">שַׂמְתָּ֞ </span></span></span></span></td><td class=\"tf rtl\"><span class=\"rtl ubd\"><span class=\"plain rtl  hl\" ><span class=\"txtu hbo\">שַׂמְתָּ֞ </span></span></span></td><td class=\"tf rtl\"><span class=\"rtl ubd\"><span class=\"plain rtl  hlbx\" ><span class=\"txtu hbo\">אֶת־</span><span class=\"txtu hbo\">שְׁתֵּ֣י </span><span class=\"txtu hbo\">הָ</span><span class=\"txtu hbo\">אֲבָנִ֗ים </span></span></span></td><td class=\"tf rtl\"><span class=\"rtl ubd\"><span class=\"plain rtl  hlbx\" ><span class=\"txtu hbo\">אַבְנֵ֥י </span><span class=\"txtu hbo\">זִכָּרֹ֖ן </span><span class=\"txtu hbo\">לִ</span><span class=\"txtu hbo\">בְנֵ֣י </span><span class=\"txtu hbo\">יִשְׂרָאֵ֑ל </span></span></span></td></tr>\n",
       "<tr class=\"tf rtl\"><td class=\"tf rtl\">3</td><td class=\"tf rtl\"><span class=\"tfsechead ltr\"><a target=\"_blank\" href=\"https://shebanq.ancient-data.org/hebrew/text?book=Leviticus&amp;chapter=24&amp;verse=6&amp;version=2017&amp;mr=m&amp;qw=q&amp;tp=txt_p&amp;tr=hb&amp;wget=v&amp;qget=v&amp;nget=vt\" title=\"Show this on SHEBANQ\" sec=\"Leviticus 24:6\">Leviticus 24:6</a></span></td><td class=\"tf rtl\"><span class=\"rtl ubd\"><span class=\"plain rtl l hlbx\" ><span class=\"txtu hbo\">וְ</span><span class=\"plain rtl  hlbx\" ><span class=\"plain rtl  hl\" ><span class=\"txtu hbo\">שַׂמְתָּ֥ </span></span></span><span class=\"plain rtl  hlbx\" ><span class=\"txtu hbo\">אֹותָ֛ם </span></span><span class=\"plain rtl  hlbx\" ><span class=\"txtu hbo\">שְׁתַּ֥יִם </span><span class=\"txtu hbo\">מַֽעֲרָכֹ֖ות </span></span></span><span class=\"plain rtl r hlbx\" ><span class=\"txtu hbo\">עַ֛ל </span><span class=\"txtu hbo\">הַ</span><span class=\"txtu hbo\">שֻּׁלְחָ֥ן </span><span class=\"txtu hbo\">הַ</span><span class=\"txtu hbo\">טָּהֹ֖ר </span><span class=\"txtu hbo\">לִ</span><span class=\"txtu hbo\">פְנֵ֥י </span><span class=\"txtu hbo\">יְהוָֽה׃ </span></span></span></td><td class=\"tf rtl\"><span class=\"rtl ubd\"><span class=\"plain rtl  hlbx\" ><span class=\"plain rtl  hl\" ><span class=\"txtu hbo\">שַׂמְתָּ֥ </span></span></span></span></td><td class=\"tf rtl\"><span class=\"rtl ubd\"><span class=\"plain rtl  hl\" ><span class=\"txtu hbo\">שַׂמְתָּ֥ </span></span></span></td><td class=\"tf rtl\"><span class=\"rtl ubd\"><span class=\"plain rtl  hlbx\" ><span class=\"txtu hbo\">אֹותָ֛ם </span></span></span></td><td class=\"tf rtl\"><span class=\"rtl ubd\"><span class=\"plain rtl  hlbx\" ><span class=\"txtu hbo\">שְׁתַּ֥יִם </span><span class=\"txtu hbo\">מַֽעֲרָכֹ֖ות </span></span></span></td></tr>\n",
       "<tr class=\"tf rtl\"><td class=\"tf rtl\">4</td><td class=\"tf rtl\"><span class=\"tfsechead ltr\"><a target=\"_blank\" href=\"https://shebanq.ancient-data.org/hebrew/text?book=Josua&amp;chapter=8&amp;verse=12&amp;version=2017&amp;mr=m&amp;qw=q&amp;tp=txt_p&amp;tr=hb&amp;wget=v&amp;qget=v&amp;nget=vt\" title=\"Show this on SHEBANQ\" sec=\"Joshua 8:12\">Joshua 8:12</a></span></td><td class=\"tf rtl\"><span class=\"rtl ubd\"><span class=\"plain rtl  hlbx\" ><span class=\"txtu hbo\">וַ</span><span class=\"plain rtl  hlbx\" ><span class=\"plain rtl  hl\" ><span class=\"txtu hbo\">יָּ֨שֶׂם </span></span></span><span class=\"plain rtl  hlbx\" ><span class=\"txtu hbo\">אֹותָ֜ם </span></span><span class=\"plain rtl  hlbx\" ><span class=\"txtu hbo\">אֹרֵ֗ב </span></span><span class=\"txtu hbo\">בֵּ֧ין </span><span class=\"txtu hbo\">בֵּֽית־אֵ֛ל </span><span class=\"txtu hbo\">וּ</span><span class=\"txtu hbo\">בֵ֥ין </span><span class=\"txtu hbo\">הָ</span><span class=\"txtu hbo\">עַ֖י </span><span class=\"txtu hbo\">מִ</span><span class=\"txtu hbo\">יָּ֥ם </span><span class=\"txtu hbo\">לָ</span><span class=\"txtu hbo\">עִֽיר׃ </span></span></span></td><td class=\"tf rtl\"><span class=\"rtl ubd\"><span class=\"plain rtl  hlbx\" ><span class=\"plain rtl  hl\" ><span class=\"txtu hbo\">יָּ֨שֶׂם </span></span></span></span></td><td class=\"tf rtl\"><span class=\"rtl ubd\"><span class=\"plain rtl  hl\" ><span class=\"txtu hbo\">יָּ֨שֶׂם </span></span></span></td><td class=\"tf rtl\"><span class=\"rtl ubd\"><span class=\"plain rtl  hlbx\" ><span class=\"txtu hbo\">אֹותָ֜ם </span></span></span></td><td class=\"tf rtl\"><span class=\"rtl ubd\"><span class=\"plain rtl  hlbx\" ><span class=\"txtu hbo\">אֹרֵ֗ב </span></span></span></td></tr>\n",
       "<tr class=\"tf rtl\"><td class=\"tf rtl\">5</td><td class=\"tf rtl\"><span class=\"tfsechead ltr\"><a target=\"_blank\" href=\"https://shebanq.ancient-data.org/hebrew/text?book=Judices&amp;chapter=8&amp;verse=31&amp;version=2017&amp;mr=m&amp;qw=q&amp;tp=txt_p&amp;tr=hb&amp;wget=v&amp;qget=v&amp;nget=vt\" title=\"Show this on SHEBANQ\" sec=\"Judges 8:31\">Judges 8:31</a></span></td><td class=\"tf rtl\"><span class=\"rtl ubd\"><span class=\"plain rtl  hlbx\" ><span class=\"txtu hbo\">וַ</span><span class=\"plain rtl  hlbx\" ><span class=\"plain rtl  hl\" ><span class=\"txtu hbo\">יָּ֥שֶׂם </span></span></span><span class=\"plain rtl  hlbx\" ><span class=\"txtu hbo\">אֶת־</span><span class=\"txtu hbo\">שְׁמֹ֖ו </span></span><span class=\"plain rtl  hlbx\" ><span class=\"txtu hbo\">אֲבִימֶֽלֶךְ׃ </span></span></span></span></td><td class=\"tf rtl\"><span class=\"rtl ubd\"><span class=\"plain rtl  hlbx\" ><span class=\"plain rtl  hl\" ><span class=\"txtu hbo\">יָּ֥שֶׂם </span></span></span></span></td><td class=\"tf rtl\"><span class=\"rtl ubd\"><span class=\"plain rtl  hl\" ><span class=\"txtu hbo\">יָּ֥שֶׂם </span></span></span></td><td class=\"tf rtl\"><span class=\"rtl ubd\"><span class=\"plain rtl  hlbx\" ><span class=\"txtu hbo\">אֶת־</span><span class=\"txtu hbo\">שְׁמֹ֖ו </span></span></span></td><td class=\"tf rtl\"><span class=\"rtl ubd\"><span class=\"plain rtl  hlbx\" ><span class=\"txtu hbo\">אֲבִימֶֽלֶךְ׃ </span></span></span></td></tr></table>"
      ],
      "text/plain": [
       "<IPython.core.display.HTML object>"
      ]
     },
     "metadata": {},
     "output_type": "display_data"
    }
   ],
   "source": [
    "A.table(results1, end=5)\n",
    "A.table(results2, end=5)"
   ]
  },
  {
   "cell_type": "markdown",
   "id": "binary-accounting",
   "metadata": {},
   "source": [
    "# Example 8\n",
    "\n",
    "[Reinoud Oosting: to withhold + from](https://shebanq.ancient-data.org/hebrew/query?version=2017&id=523)\n",
    "\n",
    "```\n",
    "[clause\n",
    "  [phrase function = Pred OR function = PreC\n",
    "    [word FOCUS sp = verb AND vs = qal AND lex = \"MN<[\" ]\n",
    "  ]\n",
    "  ..\n",
    "  [phrase function = Cmpl\n",
    "    [word FOCUS sp = prep ]\n",
    "  ]\n",
    "]\n",
    "OR\n",
    "[clause\n",
    "  [phrase function = Cmpl\n",
    "    [word FOCUS sp = prep ]\n",
    "  ]\n",
    "  ..\n",
    "  [phrase function = Pred OR function = PreC\n",
    "    [word FOCUS sp = verb AND vs = qal AND lex = \"MN<[\"]\n",
    "  ]\n",
    "]\n",
    "```"
   ]
  },
  {
   "cell_type": "code",
   "execution_count": 60,
   "id": "charitable-rwanda",
   "metadata": {},
   "outputs": [
    {
     "name": "stdout",
     "output_type": "stream",
     "text": [
      "16 results in 16 verses with 32 words\n"
     ]
    }
   ],
   "source": [
    "(verses, words) = getShebanqData(A, MQL_RESULTS, 8)"
   ]
  },
  {
   "cell_type": "markdown",
   "id": "noble-steering",
   "metadata": {},
   "source": [
    "Note, that as in example 7, the `OR` is used to specify different orders of the same objects.\n",
    "Since in TF-Query the order is not important, by default, we do not need the `OR`, leading to a much simpler query."
   ]
  },
  {
   "cell_type": "code",
   "execution_count": 61,
   "id": "formed-flower",
   "metadata": {},
   "outputs": [],
   "source": [
    "query = \"\"\"\n",
    "clause\n",
    "  phrase function=Pred|PreC\n",
    "    word sp=verb vs=qal lex=MN<[\n",
    "  phrase function=Cmpl\n",
    "    word sp=prep\n",
    "\"\"\""
   ]
  },
  {
   "cell_type": "code",
   "execution_count": 62,
   "id": "republican-teacher",
   "metadata": {},
   "outputs": [
    {
     "name": "stdout",
     "output_type": "stream",
     "text": [
      "  1.37s 16 results\n"
     ]
    }
   ],
   "source": [
    "results = A.search(query)"
   ]
  },
  {
   "cell_type": "code",
   "execution_count": 63,
   "id": "clean-cradle",
   "metadata": {},
   "outputs": [
    {
     "name": "stdout",
     "output_type": "stream",
     "text": [
      " 16 verses\n",
      " 32 words\n"
     ]
    }
   ],
   "source": [
    "(tfVerses, tfWords) = getTfVerses(A, results, (2, 4))"
   ]
  },
  {
   "cell_type": "code",
   "execution_count": 64,
   "id": "killing-phrase",
   "metadata": {},
   "outputs": [
    {
     "name": "stdout",
     "output_type": "stream",
     "text": [
      "VERSES EQUAL\n",
      "WORDS EQUAL\n"
     ]
    }
   ],
   "source": [
    "compareResults(A, verses, words, tfVerses, tfWords)"
   ]
  },
  {
   "cell_type": "code",
   "execution_count": 65,
   "id": "toxic-documentary",
   "metadata": {},
   "outputs": [
    {
     "data": {
      "text/html": [
       "<table><tr class=\"tf rtl\"><th class=\"tf rtl\">n</th><th class=\"tf rtl\">p</th><th class=\"tf rtl\">clause</th><th class=\"tf\">phrase</th><th class=\"tf\">word</th><th class=\"tf\">phrase</th><th class=\"tf\">word</th></tr>\n",
       "<tr class=\"tf rtl\"><td class=\"tf rtl\">1</td><td class=\"tf rtl\"><span class=\"tfsechead ltr\"><a target=\"_blank\" href=\"https://shebanq.ancient-data.org/hebrew/text?book=Genesis&amp;chapter=30&amp;verse=2&amp;version=2017&amp;mr=m&amp;qw=q&amp;tp=txt_p&amp;tr=hb&amp;wget=v&amp;qget=v&amp;nget=vt\" title=\"Show this on SHEBANQ\" sec=\"Genesis 30:2\">Genesis 30:2</a></span></td><td class=\"tf rtl\"><span class=\"rtl ubd\"><span class=\"plain rtl  hlbx\" ><span class=\"txtu hbo\">אֲשֶׁר־</span><span class=\"plain rtl  hlbx\" ><span class=\"plain rtl  hl\" ><span class=\"txtu hbo\">מָנַ֥ע </span></span></span><span class=\"plain rtl  hlbx\" ><span class=\"plain rtl  hl\" ><span class=\"txtu hbo\">מִמֵּ֖ךְ </span></span></span><span class=\"txtu hbo\">פְּרִי־</span><span class=\"txtu hbo\">בָֽטֶן׃ </span></span></span></td><td class=\"tf rtl\"><span class=\"rtl ubd\"><span class=\"plain rtl  hlbx\" ><span class=\"plain rtl  hl\" ><span class=\"txtu hbo\">מָנַ֥ע </span></span></span></span></td><td class=\"tf rtl\"><span class=\"rtl ubd\"><span class=\"plain rtl  hl\" ><span class=\"txtu hbo\">מָנַ֥ע </span></span></span></td><td class=\"tf rtl\"><span class=\"rtl ubd\"><span class=\"plain rtl  hlbx\" ><span class=\"plain rtl  hl\" ><span class=\"txtu hbo\">מִמֵּ֖ךְ </span></span></span></span></td><td class=\"tf rtl\"><span class=\"rtl ubd\"><span class=\"plain rtl  hl\" ><span class=\"txtu hbo\">מִמֵּ֖ךְ </span></span></span></td></tr>\n",
       "<tr class=\"tf rtl\"><td class=\"tf rtl\">2</td><td class=\"tf rtl\"><span class=\"tfsechead ltr\"><a target=\"_blank\" href=\"https://shebanq.ancient-data.org/hebrew/text?book=Reges_I&amp;chapter=20&amp;verse=7&amp;version=2017&amp;mr=m&amp;qw=q&amp;tp=txt_p&amp;tr=hb&amp;wget=v&amp;qget=v&amp;nget=vt\" title=\"Show this on SHEBANQ\" sec=\"1_Kings 20:7\">1_Kings 20:7</a></span></td><td class=\"tf rtl\"><span class=\"rtl ubd\"><span class=\"plain rtl  hlbx\" ><span class=\"txtu hbo\">וְ</span><span class=\"txtu hbo\">לֹ֥א </span><span class=\"plain rtl  hlbx\" ><span class=\"plain rtl  hl\" ><span class=\"txtu hbo\">מָנַ֖עְתִּי </span></span></span><span class=\"plain rtl  hlbx\" ><span class=\"plain rtl  hl\" ><span class=\"txtu hbo\">מִמֶּֽנּוּ׃ </span></span></span></span></span></td><td class=\"tf rtl\"><span class=\"rtl ubd\"><span class=\"plain rtl  hlbx\" ><span class=\"plain rtl  hl\" ><span class=\"txtu hbo\">מָנַ֖עְתִּי </span></span></span></span></td><td class=\"tf rtl\"><span class=\"rtl ubd\"><span class=\"plain rtl  hl\" ><span class=\"txtu hbo\">מָנַ֖עְתִּי </span></span></span></td><td class=\"tf rtl\"><span class=\"rtl ubd\"><span class=\"plain rtl  hlbx\" ><span class=\"plain rtl  hl\" ><span class=\"txtu hbo\">מִמֶּֽנּוּ׃ </span></span></span></span></td><td class=\"tf rtl\"><span class=\"rtl ubd\"><span class=\"plain rtl  hl\" ><span class=\"txtu hbo\">מִמֶּֽנּוּ׃ </span></span></span></td></tr>\n",
       "<tr class=\"tf rtl\"><td class=\"tf rtl\">3</td><td class=\"tf rtl\"><span class=\"tfsechead ltr\"><a target=\"_blank\" href=\"https://shebanq.ancient-data.org/hebrew/text?book=Jeremia&amp;chapter=2&amp;verse=25&amp;version=2017&amp;mr=m&amp;qw=q&amp;tp=txt_p&amp;tr=hb&amp;wget=v&amp;qget=v&amp;nget=vt\" title=\"Show this on SHEBANQ\" sec=\"Jeremiah 2:25\">Jeremiah 2:25</a></span></td><td class=\"tf rtl\"><span class=\"rtl ubd\"><span class=\"plain rtl  hlbx\" ><span class=\"plain rtl  hlbx\" ><span class=\"plain rtl  hl\" ><span class=\"txtu hbo\">מִנְעִ֤י </span></span></span><span class=\"txtu hbo\">רַגְלֵךְ֙ </span><span class=\"plain rtl  hlbx\" ><span class=\"plain rtl  hl\" ><span class=\"txtu hbo\">מִ</span></span><span class=\"txtu hbo\">יָּחֵ֔ף </span></span></span></span></td><td class=\"tf rtl\"><span class=\"rtl ubd\"><span class=\"plain rtl  hlbx\" ><span class=\"plain rtl  hl\" ><span class=\"txtu hbo\">מִנְעִ֤י </span></span></span></span></td><td class=\"tf rtl\"><span class=\"rtl ubd\"><span class=\"plain rtl  hl\" ><span class=\"txtu hbo\">מִנְעִ֤י </span></span></span></td><td class=\"tf rtl\"><span class=\"rtl ubd\"><span class=\"plain rtl  hlbx\" ><span class=\"plain rtl  hl\" ><span class=\"txtu hbo\">מִ</span></span><span class=\"txtu hbo\">יָּחֵ֔ף </span></span></span></td><td class=\"tf rtl\"><span class=\"rtl ubd\"><span class=\"plain rtl  hl\" ><span class=\"txtu hbo\">מִ</span></span></span></td></tr>\n",
       "<tr class=\"tf rtl\"><td class=\"tf rtl\">4</td><td class=\"tf rtl\"><span class=\"tfsechead ltr\"><a target=\"_blank\" href=\"https://shebanq.ancient-data.org/hebrew/text?book=Jeremia&amp;chapter=5&amp;verse=25&amp;version=2017&amp;mr=m&amp;qw=q&amp;tp=txt_p&amp;tr=hb&amp;wget=v&amp;qget=v&amp;nget=vt\" title=\"Show this on SHEBANQ\" sec=\"Jeremiah 5:25\">Jeremiah 5:25</a></span></td><td class=\"tf rtl\"><span class=\"rtl ubd\"><span class=\"plain rtl  hlbx\" ><span class=\"txtu hbo\">וְ</span><span class=\"txtu hbo\">חַטֹּ֣אותֵיכֶ֔ם </span><span class=\"plain rtl  hlbx\" ><span class=\"plain rtl  hl\" ><span class=\"txtu hbo\">מָנְע֥וּ </span></span></span><span class=\"txtu hbo\">הַ</span><span class=\"txtu hbo\">טֹּ֖וב </span><span class=\"plain rtl  hlbx\" ><span class=\"plain rtl  hl\" ><span class=\"txtu hbo\">מִכֶּֽם׃ </span></span></span></span></span></td><td class=\"tf rtl\"><span class=\"rtl ubd\"><span class=\"plain rtl  hlbx\" ><span class=\"plain rtl  hl\" ><span class=\"txtu hbo\">מָנְע֥וּ </span></span></span></span></td><td class=\"tf rtl\"><span class=\"rtl ubd\"><span class=\"plain rtl  hl\" ><span class=\"txtu hbo\">מָנְע֥וּ </span></span></span></td><td class=\"tf rtl\"><span class=\"rtl ubd\"><span class=\"plain rtl  hlbx\" ><span class=\"plain rtl  hl\" ><span class=\"txtu hbo\">מִכֶּֽם׃ </span></span></span></span></td><td class=\"tf rtl\"><span class=\"rtl ubd\"><span class=\"plain rtl  hl\" ><span class=\"txtu hbo\">מִכֶּֽם׃ </span></span></span></td></tr>\n",
       "<tr class=\"tf rtl\"><td class=\"tf rtl\">5</td><td class=\"tf rtl\"><span class=\"tfsechead ltr\"><a target=\"_blank\" href=\"https://shebanq.ancient-data.org/hebrew/text?book=Jeremia&amp;chapter=31&amp;verse=16&amp;version=2017&amp;mr=m&amp;qw=q&amp;tp=txt_p&amp;tr=hb&amp;wget=v&amp;qget=v&amp;nget=vt\" title=\"Show this on SHEBANQ\" sec=\"Jeremiah 31:16\">Jeremiah 31:16</a></span></td><td class=\"tf rtl\"><span class=\"rtl ubd\"><span class=\"plain rtl  hlbx\" ><span class=\"plain rtl  hlbx\" ><span class=\"plain rtl  hl\" ><span class=\"txtu hbo\">מִנְעִ֤י </span></span></span><span class=\"txtu hbo\">קֹולֵךְ֙ </span><span class=\"plain rtl  hlbx\" ><span class=\"plain rtl  hl\" ><span class=\"txtu hbo\">מִ</span></span><span class=\"txtu hbo\">בֶּ֔כִי </span></span></span></span></td><td class=\"tf rtl\"><span class=\"rtl ubd\"><span class=\"plain rtl  hlbx\" ><span class=\"plain rtl  hl\" ><span class=\"txtu hbo\">מִנְעִ֤י </span></span></span></span></td><td class=\"tf rtl\"><span class=\"rtl ubd\"><span class=\"plain rtl  hl\" ><span class=\"txtu hbo\">מִנְעִ֤י </span></span></span></td><td class=\"tf rtl\"><span class=\"rtl ubd\"><span class=\"plain rtl  hlbx\" ><span class=\"plain rtl  hl\" ><span class=\"txtu hbo\">מִ</span></span><span class=\"txtu hbo\">בֶּ֔כִי </span></span></span></td><td class=\"tf rtl\"><span class=\"rtl ubd\"><span class=\"plain rtl  hl\" ><span class=\"txtu hbo\">מִ</span></span></span></td></tr></table>"
      ],
      "text/plain": [
       "<IPython.core.display.HTML object>"
      ]
     },
     "metadata": {},
     "output_type": "display_data"
    }
   ],
   "source": [
    "A.table(results, end=5)"
   ]
  },
  {
   "cell_type": "markdown",
   "id": "heated-backup",
   "metadata": {},
   "source": [
    "# Example 9\n",
    "\n",
    "[Oliver Glanz: DHQ article: discourse pattern deviation](https://shebanq.ancient-data.org/hebrew/query?version=2017&id=491)\n",
    "\n",
    "```\n",
    "[[clause domain = \"N\"\n",
    "  [phrase function = Pred\n",
    "    [word\n",
    "      [word lex = \"DBR[\"]\n",
    "        OR\n",
    "        [word lex = \">MR[\"]\n",
    "        OR\n",
    "        [word lex = \"QR>[\"]\n",
    "      ]\n",
    "  ]\n",
    "    ..\n",
    "    [phrase FOCUS function = Subj\n",
    "      [word AS samesubject]\n",
    "    ]\n",
    "    ..\n",
    "    [phrase FOCUS function = Cmpl\n",
    "      [word AS samecomplement]\n",
    "    ]\n",
    "  ]\n",
    "  [clause domain = \"N\"]* {0-1}\n",
    "  [clause domain = \"Q\"]* {1-50}\n",
    "  [clause domain = \"N\"\n",
    "    [phrase function = Pred\n",
    "      [word\n",
    "        [word lex = \"DBR[\"]\n",
    "        OR\n",
    "        [word lex = \">MR[\"]\n",
    "        OR\n",
    "        [word lex = \"QR>[\"]\n",
    "      ]\n",
    "    ]\n",
    "    ..\n",
    "    [phrase FOCUS function = Subj\n",
    "      [word lex = samesubject.lex]\n",
    "    ]\n",
    "    ..\n",
    "    [phrase FOCUS function = Cmpl\n",
    "      [word lex = samecomplement.lex]\n",
    "    ]\n",
    "  ]]\n",
    "OR\n",
    "  [[clause domain = \"N\"\n",
    "    [phrase function = Pred\n",
    "      [word\n",
    "        [word lex = \"DBR[\"]\n",
    "        OR\n",
    "        [word lex = \">MR[\"]\n",
    "        OR\n",
    "        [word lex = \"QR>[\"]\n",
    "      ]\n",
    "    ]\n",
    "    ..\n",
    "    [phrase FOCUS function = Cmpl\n",
    "      [word AS samecomplement2]\n",
    "    ]\n",
    "    ..\n",
    "    [phrase FOCUS function = Subj\n",
    "      [word AS samesubject2]\n",
    "    ]\n",
    "  ]\n",
    "  [clause domain = \"N\"]* {0-1}\n",
    "  [clause domain = \"Q\"]* {1-50}\n",
    "  [clause domain = \"N\"\n",
    "    [phrase function = Pred\n",
    "      [word\n",
    "        [word lex = \"DBR[\"]\n",
    "        OR\n",
    "        [word lex = \">MR[\"]\n",
    "        OR\n",
    "        [word lex = \"QR>[\"]\n",
    "      ]\n",
    "    ]\n",
    "    ..\n",
    "    [phrase FOCUS function = Cmpl\n",
    "      [word lex = samecomplement2.lex]\n",
    "    ]\n",
    "    ..\n",
    "    [phrase FOCUS function = Subj\n",
    "      [word lex = samesubject2.lex]\n",
    "    ]\n",
    "  ]]\n",
    "  OR\n",
    "  [[clause domain = \"N\"\n",
    "    [phrase function = Pred\n",
    "      [word\n",
    "        [word lex = \"DBR[\"]\n",
    "        OR\n",
    "        [word lex = \">MR[\"]\n",
    "        OR\n",
    "        [word lex = \"QR>[\"]\n",
    "      ]\n",
    "    ]\n",
    "    ..\n",
    "    [phrase FOCUS function = Subj\n",
    "      [word AS samesubject3]\n",
    "    ]\n",
    "    ..\n",
    "    [phrase FOCUS function = Cmpl\n",
    "      [word AS samecomplement3]\n",
    "    ]\n",
    "  ]\n",
    "  [clause domain = \"N\"]* {0-1}\n",
    "  [clause domain = \"Q\"]* {1-50}\n",
    "  [clause domain = \"N\"\n",
    "    [phrase function = Pred\n",
    "      [word\n",
    "        [word lex = \"DBR[\"]\n",
    "        OR\n",
    "        [word lex = \">MR[\"]\n",
    "        OR\n",
    "        [word lex = \"QR>[\"]\n",
    "      ]\n",
    "    ]\n",
    "    ..\n",
    "    [phrase FOCUS function = Cmpl\n",
    "      [word lex = samecomplement3.lex]\n",
    "    ]\n",
    "    ..\n",
    "    [phrase FOCUS function = Subj\n",
    "      [word lex = samesubject3.lex]\n",
    "    ]\n",
    "  ]]\n",
    "  OR\n",
    "  [[clause domain = \"N\"\n",
    "    [phrase function = Pred\n",
    "      [word\n",
    "        [word lex = \"DBR[\"]\n",
    "        OR\n",
    "        [word lex = \">MR[\"]\n",
    "        OR\n",
    "        [word lex = \"QR>[\"]\n",
    "      ]\n",
    "    ]\n",
    "    ..\n",
    "    [phrase FOCUS function = Cmpl\n",
    "      [word AS samecomplement4]\n",
    "    ]\n",
    "    ..\n",
    "    [phrase FOCUS function = Subj\n",
    "      [word AS samesubject4]\n",
    "    ]\n",
    "  ]\n",
    "  [clause domain = \"N\"]* {0-1}\n",
    "  [clause domain = \"Q\"]* {1-50}\n",
    "  [clause domain = \"N\"\n",
    "    [phrase function = Pred\n",
    "      [word\n",
    "        [word lex = \"DBR[\"]\n",
    "        OR\n",
    "        [word lex = \">MR[\"]\n",
    "        OR\n",
    "        [word lex = \"QR>[\"]\n",
    "      ]\n",
    "    ]\n",
    "    ..\n",
    "    [phrase FOCUS function = Subj\n",
    "      [word lex = samesubject4.lex]\n",
    "    ]\n",
    "    ..\n",
    "    [phrase FOCUS function = Cmpl\n",
    "      [word lex = samecomplement4.lex]\n",
    "    ]\n",
    "  ]]\n",
    "```"
   ]
  },
  {
   "cell_type": "code",
   "execution_count": 66,
   "id": "palestinian-syndication",
   "metadata": {},
   "outputs": [
    {
     "name": "stdout",
     "output_type": "stream",
     "text": [
      "344 results in 101 verses with 356 words\n"
     ]
    }
   ],
   "source": [
    "(verses, words) = getShebanqData(A, MQL_RESULTS, 9)"
   ]
  },
  {
   "cell_type": "markdown",
   "id": "weekly-fiction",
   "metadata": {},
   "source": [
    "This is a complex query. Let's make it simpler first.\n",
    "\n",
    "We see some recurring objects:\n",
    "\n",
    "\n",
    "**speakPhrase**\n",
    "\n",
    "```\n",
    "[phrase function = Pred\n",
    "  [word\n",
    "    [word lex = \"DBR[\"]\n",
    "      OR\n",
    "      [word lex = \">MR[\"]\n",
    "      OR\n",
    "      [word lex = \"QR>[\"]\n",
    "    ]\n",
    "]\n",
    "```\n",
    "\n",
    "**subjPhrase**\n",
    "\n",
    "```\n",
    "[phrase FOCUS function = Subj\n",
    "  [word AS samesubject]\n",
    "]\n",
    "```\n",
    "\n",
    "**cmplPhrase**\n",
    "\n",
    "```\n",
    "[phrase FOCUS function = Cmpl\n",
    "  [word AS samecomplement]\n",
    "]\n",
    "```\n",
    "\n",
    "**clauses**\n",
    "\n",
    "```\n",
    "[clause domain = \"N\"]* {0-1}\n",
    "[clause domain = \"Q\"]* {1-50}\n",
    "```\n",
    "\n",
    "The structure of the whole query is then, in pseudo TF-query terms:\n",
    "\n",
    "```\n",
    "clause domain=N\n",
    "  speakPhrase\n",
    "  < s:subjPhrase\n",
    "  < c:cmplPhrase\n",
    "clauses\n",
    "clause domain=N\n",
    "  speakPhrase\n",
    "  < subjPhrase (.lex. s)\n",
    "  < cmplPhrase (.lex. c)\n",
    "```\n",
    "\n",
    "OR\n",
    "\n",
    "```\n",
    "clause domain=N\n",
    "  speakPhrase\n",
    "  < c:cmplPhrase\n",
    "  < s:subjPhrase\n",
    "clauses\n",
    "clause domain=N\n",
    "  speakPhrase\n",
    "  < cmplPhrase (.lex. c)\n",
    "  < subjPhrase (.lex. s)\n",
    "```\n",
    "\n",
    "OR\n",
    "\n",
    "```\n",
    "clause domain=N\n",
    "  speakPhrase\n",
    "  < s:subjPhrase\n",
    "  < c:cmplPhrase\n",
    "clauses\n",
    "clause domain=N\n",
    "  speakPhrase\n",
    "  < cmplPhrase (.lex. c)\n",
    "  < subjPhrase (.lex. s)\n",
    "```\n",
    "\n",
    "OR\n",
    "\n",
    "```\n",
    "clause domain=N\n",
    "  speakPhrase\n",
    "  < c:cmplPhrase\n",
    "  < s:subjPhrase\n",
    "clauses\n",
    "clause domain=N\n",
    "  speakPhrase\n",
    "  < subjPhrase (.lex. s)\n",
    "  < cmplPhrase (.lex. c)\n",
    "```"
   ]
  },
  {
   "cell_type": "markdown",
   "id": "improving-guarantee",
   "metadata": {},
   "source": [
    "The `OR` is only used to enumerate the four different orders between **subjPhrase** and **cmplPhrase**.\n",
    "So we can simplify greatly!\n",
    "\n",
    "```\n",
    "clause domain=N\n",
    "  sp1:speakPhrase\n",
    "  < s1:subjPhrase\n",
    "  c1:cmplPhrase\n",
    "< clauses\n",
    "< clause domain=N\n",
    "  sp2:speakPhrase\n",
    "  < s2:subjPhrase (.lex. s1)\n",
    "  c2:cmplPhrase (.lex. c1)\n",
    "  \n",
    "sp1 < c1\n",
    "sp2 < c2\n",
    "s1 .lex. s2\n",
    "c1 .lex. c2\n",
    "```"
   ]
  },
  {
   "cell_type": "markdown",
   "id": "nearby-background",
   "metadata": {},
   "source": [
    "There is a problem with translating the **clauses**:\n",
    "\n",
    "```\n",
    "[clause domain = \"N\"]* {0-1}\n",
    "[clause domain = \"Q\"]* {1-50}\n",
    "```\n",
    "\n",
    "The operator `* {n-m}` means: repeat the previous block `n` to `m` times.\n",
    "In TF-Query we do not have such an operator.\n",
    "\n",
    "We will mimick this query by means of a mixture of TF-Query and hand-coding.\n",
    "\n",
    "We examine the results of searching for\n",
    "\n",
    "```\n",
    "clause domain=N\n",
    "  sp: speakPhrase\n",
    "  < subjPhrase\n",
    "  c:cmplPhrase\n",
    " \n",
    "sp < c\n",
    "```\n",
    "\n",
    "By means of hand coding we walk through the results of this query:\n",
    "\n",
    "* suppose we are at result `n`\n",
    "* walk through the following clauses as long as they match **clauses**\n",
    "* until we meet result `n+k` of the query,\n",
    "  where result `n` and `n+k` agree lexically in their **subjPhrase** and **cmplPhrase**\n",
    "* for each such pair of results we add the combination to the result set\n",
    "\n",
    "We take care to deliver the results in the same way as a TF-query would do."
   ]
  },
  {
   "cell_type": "code",
   "execution_count": 67,
   "id": "objective-mouse",
   "metadata": {},
   "outputs": [],
   "source": [
    "query = \"\"\"\n",
    "clause domain=N\n",
    "  sp:phrase function=Pred\n",
    "    word lex=DBR[|>MR[|QR>[\n",
    "  < phrase function=Subj\n",
    "  c:phrase function=Cmpl\n",
    "  \n",
    "sp < c\n",
    "\"\"\""
   ]
  },
  {
   "cell_type": "code",
   "execution_count": 68,
   "id": "incredible-general",
   "metadata": {},
   "outputs": [
    {
     "name": "stdout",
     "output_type": "stream",
     "text": [
      "  1.38s 1132 results\n"
     ]
    }
   ],
   "source": [
    "speakResults = A.search(query)"
   ]
  },
  {
   "cell_type": "markdown",
   "id": "thousand-success",
   "metadata": {},
   "source": [
    "This is our starting point.\n",
    "\n",
    "We are going to weave these results together.\n",
    "\n",
    "The following function does that.\n",
    "It has to find up to 50 intervening clauses with `domain=Q` between\n",
    "two clauses with a speech verb.\n",
    "\n",
    "Let's paramtrize this number 50, so that we can play with it later on."
   ]
  },
  {
   "cell_type": "code",
   "execution_count": 69,
   "id": "removable-longer",
   "metadata": {},
   "outputs": [],
   "source": [
    "speakResultsIndex = {sr[0]: sr for sr in speakResults}\n",
    "\n",
    "def weave(qLimit):\n",
    "    results = []\n",
    "\n",
    "    for speakResult in speakResults:\n",
    "        (clause, speakPhrase, speakWord, subjPhrase, cmplPhrase) = speakResult\n",
    "        nextClause = L.n(clause, otype=\"clause\")\n",
    "        if not nextClause:\n",
    "            continue\n",
    "        nextClause = nextClause[0]\n",
    "        domain = F.domain.v(nextClause)\n",
    "        qSeen = domain == \"Q\"\n",
    "        if not qSeen and domain != \"N\":\n",
    "            continue\n",
    "        if not qSeen:\n",
    "            nextClause = L.n(nextClause, otype=\"clause\")\n",
    "            if not nextClause:\n",
    "                continue\n",
    "            nextClause = nextClause[0]\n",
    "            domain = F.domain.v(nextClause)\n",
    "            qSeen = domain == \"Q\"\n",
    "        if not qSeen:\n",
    "            continue\n",
    "        qs = 1\n",
    "        while qs <= qLimit:\n",
    "            nextClause = L.n(nextClause, otype=\"clause\")\n",
    "            if not nextClause:\n",
    "                break\n",
    "            nextClause = nextClause[0]\n",
    "            domain = F.domain.v(nextClause)\n",
    "            if domain != \"Q\":\n",
    "                break\n",
    "            qs += 1\n",
    "        if not nextClause:\n",
    "            continue\n",
    "        if domain != \"N\":\n",
    "            continue\n",
    "        if nextClause not in speakResultsIndex:\n",
    "            continue\n",
    "\n",
    "        nextSpeakResult = speakResultsIndex[nextClause]\n",
    "        (nextClause, nextSpeakPhrase, nextSpeakWord, nextSubjPhrase, nextCmplPhrase) = nextSpeakResult\n",
    "\n",
    "        if (\n",
    "            {F.lex.v(w) for w in L.d(subjPhrase, otype=\"word\")}\n",
    "            &\n",
    "            {F.lex.v(w) for w in L.d(nextSubjPhrase, otype=\"word\")}\n",
    "        ) and (\n",
    "            {F.lex.v(w) for w in L.d(cmplPhrase, otype=\"word\")}\n",
    "            &\n",
    "            {F.lex.v(w) for w in L.d(nextCmplPhrase, otype=\"word\")}\n",
    "        ):\n",
    "            results.append((clause, speakPhrase, subjPhrase, cmplPhrase, nextSubjPhrase, nextCmplPhrase, qs))\n",
    "        \n",
    "    print(f\"qLimit={qLimit}: {len(results)} results\")\n",
    "    return results"
   ]
  },
  {
   "cell_type": "code",
   "execution_count": 70,
   "id": "guided-accreditation",
   "metadata": {},
   "outputs": [
    {
     "name": "stdout",
     "output_type": "stream",
     "text": [
      "qLimit=50: 62 results\n"
     ]
    }
   ],
   "source": [
    "results = weave(50)"
   ]
  },
  {
   "cell_type": "code",
   "execution_count": 71,
   "id": "incorporate-string",
   "metadata": {},
   "outputs": [
    {
     "name": "stdout",
     "output_type": "stream",
     "text": [
      "101 verses\n",
      "356 words\n"
     ]
    }
   ],
   "source": [
    "(tfVerses, tfWords) = getTfVerses(A, results, (2, 3, 4, 5))"
   ]
  },
  {
   "cell_type": "code",
   "execution_count": 72,
   "id": "functioning-promise",
   "metadata": {},
   "outputs": [
    {
     "name": "stdout",
     "output_type": "stream",
     "text": [
      "VERSES EQUAL\n",
      "WORDS EQUAL\n"
     ]
    }
   ],
   "source": [
    "compareResults(A, verses, words, tfVerses, tfWords)"
   ]
  },
  {
   "cell_type": "markdown",
   "id": "systematic-vector",
   "metadata": {},
   "source": [
    "What if we allowed only strings of 49 Q-clauses?\n",
    "Would that matter?\n",
    "\n",
    "Well, we have sneaked in the number of Q-clauses for each result.\n",
    "It is added at the end of each result tuple.\n",
    "\n",
    "Here are the minimum and the maximum that we encountered:"
   ]
  },
  {
   "cell_type": "code",
   "execution_count": 73,
   "id": "deluxe-clone",
   "metadata": {},
   "outputs": [
    {
     "name": "stdout",
     "output_type": "stream",
     "text": [
      "minimum number of Q-clauses:  1\n",
      "maximum number of Q-clauses: 50\n"
     ]
    }
   ],
   "source": [
    "print(f\"minimum number of Q-clauses: {min(r[-1] for r in results):>2}\")\n",
    "print(f\"maximum number of Q-clauses: {max(r[-1] for r in results):>2}\")"
   ]
  },
  {
   "cell_type": "markdown",
   "id": "flexible-footwear",
   "metadata": {},
   "source": [
    "So we expect that it does matter if we go from 50 to 49.\n",
    "Before we test that, let us show all Q-lengths:"
   ]
  },
  {
   "cell_type": "code",
   "execution_count": 74,
   "id": "rough-dealing",
   "metadata": {},
   "outputs": [
    {
     "name": "stdout",
     "output_type": "stream",
     "text": [
      "Genesis 3:2          ==  7 Q-clauses ==>     Genesis 3:4\n",
      "Genesis 16:9         ==  2 Q-clauses ==>     Genesis 16:10\n",
      "Genesis 16:10        ==  2 Q-clauses ==>     Genesis 16:11\n",
      "Genesis 17:9         == 14 Q-clauses ==>     Genesis 17:15\n",
      "Genesis 20:9         ==  4 Q-clauses ==>     Genesis 20:10\n",
      "Genesis 41:38        ==  2 Q-clauses ==>     Genesis 41:39\n",
      "Genesis 41:39        ==  5 Q-clauses ==>     Genesis 41:41\n",
      "Exodus 7:14          == 25 Q-clauses ==>     Exodus 7:19\n",
      "Exodus 7:26          == 12 Q-clauses ==>     Exodus 8:1\n",
      "Exodus 30:11         == 17 Q-clauses ==>     Exodus 30:17\n",
      "Exodus 30:17         == 15 Q-clauses ==>     Exodus 30:22\n",
      "Exodus 30:22         == 24 Q-clauses ==>     Exodus 30:34\n",
      "Exodus 30:34         == 15 Q-clauses ==>     Exodus 31:1\n",
      "Leviticus 5:14       == 23 Q-clauses ==>     Leviticus 5:20\n",
      "Leviticus 5:20       == 25 Q-clauses ==>     Leviticus 6:1\n",
      "Leviticus 6:1        == 39 Q-clauses ==>     Leviticus 6:12\n",
      "Leviticus 6:12       == 16 Q-clauses ==>     Leviticus 6:17\n",
      "Leviticus 7:22       == 13 Q-clauses ==>     Leviticus 7:28\n",
      "Leviticus 12:1       == 27 Q-clauses ==>     Leviticus 13:1\n",
      "Leviticus 21:1       == 50 Q-clauses ==>     Leviticus 21:16\n",
      "Leviticus 22:17      == 26 Q-clauses ==>     Leviticus 22:26\n",
      "Leviticus 22:26      == 21 Q-clauses ==>     Leviticus 23:1\n",
      "Leviticus 23:1       == 19 Q-clauses ==>     Leviticus 23:9\n",
      "Leviticus 23:9       == 41 Q-clauses ==>     Leviticus 23:23\n",
      "Leviticus 23:23      ==  5 Q-clauses ==>     Leviticus 23:26\n",
      "Leviticus 23:26      == 18 Q-clauses ==>     Leviticus 23:33\n",
      "Numbers 3:5          == 13 Q-clauses ==>     Numbers 3:11\n",
      "Numbers 3:11         ==  7 Q-clauses ==>     Numbers 3:14\n",
      "Numbers 4:1          == 46 Q-clauses ==>     Numbers 4:17\n",
      "Numbers 4:17         == 12 Q-clauses ==>     Numbers 4:21\n",
      "Numbers 5:5          == 22 Q-clauses ==>     Numbers 5:11\n",
      "Numbers 8:23         == 10 Q-clauses ==>     Numbers 9:1\n",
      "Numbers 15:1         == 34 Q-clauses ==>     Numbers 15:17\n",
      "Numbers 18:1         == 22 Q-clauses ==>     Numbers 18:8\n",
      "Numbers 18:8         == 36 Q-clauses ==>     Numbers 18:20\n",
      "Numbers 18:20        == 16 Q-clauses ==>     Numbers 18:25\n",
      "Numbers 18:25        == 20 Q-clauses ==>     Numbers 19:1\n",
      "Numbers 27:6         == 19 Q-clauses ==>     Numbers 27:12\n",
      "Numbers 33:50        == 28 Q-clauses ==>     Numbers 34:1\n",
      "Numbers 34:16        == 20 Q-clauses ==>     Numbers 35:1\n",
      "Numbers 35:1         == 24 Q-clauses ==>     Numbers 35:9\n",
      "Deuteronomy 9:12     ==  7 Q-clauses ==>     Deuteronomy 9:13\n",
      "Joshua 3:5           ==  2 Q-clauses ==>     Joshua 3:6\n",
      "Joshua 9:19          ==  7 Q-clauses ==>     Joshua 9:21\n",
      "Judges 8:23          ==  3 Q-clauses ==>     Judges 8:24\n",
      "Judges 9:9           ==  4 Q-clauses ==>     Judges 9:10\n",
      "Judges 9:10          ==  2 Q-clauses ==>     Judges 9:11\n",
      "Judges 9:11          ==  3 Q-clauses ==>     Judges 9:12\n",
      "Judges 9:12          ==  2 Q-clauses ==>     Judges 9:13\n",
      "Judges 9:14          ==  2 Q-clauses ==>     Judges 9:15\n",
      "1_Samuel 16:10       ==  1 Q-clauses ==>     1_Samuel 16:11\n",
      "1_Samuel 16:15       ==  9 Q-clauses ==>     1_Samuel 16:17\n",
      "1_Samuel 20:37       ==  1 Q-clauses ==>     1_Samuel 20:38\n",
      "2_Samuel 14:8        ==  2 Q-clauses ==>     2_Samuel 14:9\n",
      "2_Samuel 15:25       ==  9 Q-clauses ==>     2_Samuel 15:27\n",
      "2_Samuel 18:20       ==  4 Q-clauses ==>     2_Samuel 18:21\n",
      "2_Samuel 24:22       ==  6 Q-clauses ==>     2_Samuel 24:23\n",
      "1_Kings 13:7         ==  3 Q-clauses ==>     1_Kings 13:8\n",
      "1_Kings 22:4         ==  3 Q-clauses ==>     1_Kings 22:5\n",
      "Jeremiah 14:14       == 46 Q-clauses ==>     Jeremiah 15:1\n",
      "Ruth 2:20            ==  2 Q-clauses ==>     Ruth 2:20\n",
      "1_Chronicles 28:20   == 13 Q-clauses ==>     1_Chronicles 29:1\n"
     ]
    }
   ],
   "source": [
    "for r in results:\n",
    "    startPhrase = min(r[2], r[3])\n",
    "    startVerse = T.sectionFromNode(L.u(startPhrase, otype=\"verse\")[0])\n",
    "    startString = \"{} {}:{}\".format(*startVerse)\n",
    "    \n",
    "    endPhrase = min(r[4], r[5])\n",
    "    endVerse = T.sectionFromNode(L.u(endPhrase, otype=\"verse\")[0])\n",
    "    endString = \"{} {}:{}\".format(*endVerse)\n",
    "    \n",
    "    qs = r[-1]\n",
    "    \n",
    "    print(f\"{startString:<20} == {qs:>2} Q-clauses ==>     {endString}\")"
   ]
  },
  {
   "cell_type": "markdown",
   "id": "hawaiian-glucose",
   "metadata": {},
   "source": [
    "Let's doublecheck: if we allow only strings of Q-clauses up to length 49, hte result in Leviticus 21:1\n",
    "should be gone."
   ]
  },
  {
   "cell_type": "code",
   "execution_count": 75,
   "id": "worldwide-nevada",
   "metadata": {},
   "outputs": [
    {
     "name": "stdout",
     "output_type": "stream",
     "text": [
      "qLimit=49: 61 results\n"
     ]
    }
   ],
   "source": [
    "results = weave(49)"
   ]
  },
  {
   "cell_type": "code",
   "execution_count": 76,
   "id": "optical-squad",
   "metadata": {},
   "outputs": [
    {
     "name": "stdout",
     "output_type": "stream",
     "text": [
      " 99 verses\n",
      "350 words\n"
     ]
    }
   ],
   "source": [
    "(tfVerses, tfWords) = getTfVerses(A, results, (2, 3, 4, 5))"
   ]
  },
  {
   "cell_type": "code",
   "execution_count": 77,
   "id": "interesting-birth",
   "metadata": {},
   "outputs": [
    {
     "name": "stdout",
     "output_type": "stream",
     "text": [
      "DIFFERENCE:\n",
      "('Leviticus', 21, 1)\n",
      "('Leviticus', 22, 17)\n",
      "DIFFERENCE:\n",
      "64969 = J:HW@H03\n",
      "65656 = J:HW@73H\n"
     ]
    },
    {
     "data": {
      "text/plain": [
       "-1"
      ]
     },
     "execution_count": 77,
     "metadata": {},
     "output_type": "execute_result"
    }
   ],
   "source": [
    "compareResults(A, verses, words, tfVerses, tfWords)"
   ]
  },
  {
   "cell_type": "markdown",
   "id": "centered-darkness",
   "metadata": {},
   "source": [
    "And so it is!"
   ]
  },
  {
   "cell_type": "markdown",
   "id": "addressed-maryland",
   "metadata": {},
   "source": [
    "**Conclusion**\n",
    "\n",
    "Instead of running a query and obtaining a list of results,\n",
    "we did a bit of programming and we can get much more than just the results.\n",
    "\n",
    "That is the power of programming.\n",
    "But programming is difficult, and mistakes will be made.\n",
    "\n",
    "TF-Query helps you to find a sweet spot between crafting queries\n",
    "and writing code."
   ]
  },
  {
   "cell_type": "markdown",
   "id": "engaged-meeting",
   "metadata": {},
   "source": [
    "# Example 10a\n",
    "\n",
    "[Bas Meeuse: Example 10: NTN + object](https://shebanq.ancient-data.org/hebrew/query?version=2017&id=4416)\n",
    "\n",
    "```\n",
    "// The object follows the clause-initial predicate\n",
    "[clause\n",
    "  [phrase first function IN (Pred, PreS)\n",
    "    [word vs = qal AND lex = \"NTN[\"]\n",
    "  ]\n",
    "  [phrase not function IN (Objc, Cmpl)] *\n",
    "  [phrase FOCUS function = Objc]\n",
    "  NOTEXIST [phrase function IN (Objc, Cmpl)]\n",
    "]\n",
    "\n",
    "OR\n",
    "\n",
    "// The object follows the predicate\n",
    "[clause\n",
    "  [phrase first not function IN (Objc, Cmpl)]\n",
    "  [phrase not function IN (Objc, Cmpl)] *\n",
    "  [phrase function IN (Pred, PreS)\n",
    "    [word vs = qal AND lex = \"NTN[\"]\n",
    "  ]\n",
    "  [phrase not function IN (Objc, Cmpl)] *\n",
    "  [phrase FOCUS function = Objc]\n",
    "  NOTEXIST [phrase function IN (Objc, Cmpl)]\n",
    "]\n",
    "\n",
    "OR\n",
    "\n",
    "// The clause-initial object precedes the predicate\n",
    "[clause\n",
    "  [phrase FOCUS first function = Objc]\n",
    "  [phrase not function IN (Objc, Cmpl)] *\n",
    "  [phrase function IN (Pred, PreS)\n",
    "    [word vs = qal AND lex = \"NTN[\"]\n",
    "  ]\n",
    "  NOTEXIST [phrase function IN (Objc, Cmpl)]\n",
    "]\n",
    "\n",
    "OR\n",
    "\n",
    "// The object precedes the predicate\n",
    "[clause\n",
    "  [phrase first not function IN (Objc, Cmpl)]\n",
    "  [phrase not function IN (Objc, Cmpl)] *\n",
    "  [phrase FOCUS function = Objc]\n",
    "  [phrase not function IN (Objc, Cmpl)] *\n",
    "  [phrase function IN (Pred, PreS)\n",
    "    [word vs = qal AND lex = \"NTN[\"]\n",
    "  ]\n",
    "  NOTEXIST [phrase function IN (Objc, Cmpl)]\n",
    "]\n",
    "\n",
    "OR\n",
    "\n",
    "// The clause-initial object is a pronominal suffix\n",
    "[clause\n",
    "  [phrase first function = PreO\n",
    "    [word vs = qal AND lex = \"NTN[\"]\n",
    "  ]\n",
    "  NOTEXIST [phrase function IN (Objc, Cmpl)]\n",
    "]\n",
    "\n",
    "OR\n",
    "\n",
    "// The object is a pronominal suffix\n",
    "[clause\n",
    "  [phrase first not function IN (Objc, Cmpl)]\n",
    "  [phrase not function IN (Objc, Cmpl)] *\n",
    "  [phrase function = PreO\n",
    "    [word vs = qal AND lex = \"NTN[\"]\n",
    "  ]\n",
    "  NOTEXIST [phrase function IN (Objc, Cmpl)]\n",
    "]\n",
    "\n",
    "\n",
    "```"
   ]
  },
  {
   "cell_type": "code",
   "execution_count": 78,
   "id": "absolute-heading",
   "metadata": {},
   "outputs": [
    {
     "name": "stdout",
     "output_type": "stream",
     "text": [
      "232 results in 190 verses with 458 words\n"
     ]
    }
   ],
   "source": [
    "(verses, words) = getShebanqData(A, MQL_RESULTS, \"10a\")"
   ]
  },
  {
   "cell_type": "markdown",
   "id": "driven-carrier",
   "metadata": {},
   "source": [
    "First we grasp the structure of this query.\n",
    "\n",
    "All alternatives have, in one way or another\n",
    "\n",
    "* **phraseNTN** a predicate phrase with the verb `NTN[` in the `qal`\n",
    "* **phraseNTNps** a predicate phrase with the verb `NTN[` in the `qal` and a pronominal suffix\n",
    "* **phrases0** a string of zero or more phrases whose function is not `Objc` and not `Cmpl`\n",
    "* **phrases1** a string of one or more phrases whose function is not `Objc` and not `Cmpl`\n",
    "* **phraseObj** an object phrase\n",
    "* a condition that states that after matching the previous elements, there are no\n",
    "  more phrases with function `Objc` or `Cmpl`"
   ]
  },
  {
   "cell_type": "markdown",
   "id": "executed-glass",
   "metadata": {},
   "source": [
    "Now let us state the alternatives in pseudo TF-query terms.\n",
    "We leave out the condition for now:\n",
    "\n",
    "**A**\n",
    "\n",
    "```\n",
    "clause\n",
    "  =: phraseNTN\n",
    "  <: phrases0\n",
    "  <: phraseObj\n",
    "```\n",
    "\n",
    "**B**\n",
    "\n",
    "```\n",
    "clause\n",
    "  =: phrases1\n",
    "  <: phraseNTN\n",
    "  <: phrases0\n",
    "  <: phraseObj\n",
    "```\n",
    "\n",
    "**C**\n",
    "\n",
    "```\n",
    "clause\n",
    "  =: phraseObj\n",
    "  <: phrases0\n",
    "  <: phraseNTN\n",
    "```\n",
    "\n",
    "**D**\n",
    "\n",
    "```\n",
    "clause\n",
    "  =: phrases1\n",
    "  <: phraseObj\n",
    "  <: phrases0\n",
    "  <: phraseNTN\n",
    "```\n",
    "\n",
    "**E**\n",
    "\n",
    "```\n",
    "clause\n",
    "  =: phraseNTNps\n",
    "```\n",
    "\n",
    "**F**\n",
    "\n",
    "```\n",
    "clause\n",
    "  =: phrases1\n",
    "  <: phraseNTNps\n",
    "```\n",
    "  "
   ]
  },
  {
   "cell_type": "markdown",
   "id": "shaped-commerce",
   "metadata": {},
   "source": [
    "**N.B. The results that follow E and F do not have a FOCUS block, so nothing of these results\n",
    "will show up in SHEBANQ.**\n",
    "\n",
    "While that is probably not what is meant, when we compute the words and verses of the results in TF,\n",
    "we will leave these out as well."
   ]
  },
  {
   "cell_type": "markdown",
   "id": "bulgarian-university",
   "metadata": {},
   "source": [
    "We can combine **A** and **B** and we can do the same with **C** and **D**, and also **E** and **F**:\n",
    "\n",
    "**AB**\n",
    "\n",
    "```\n",
    "clause\n",
    "  =: phrases0\n",
    "  <: phraseNTN\n",
    "  <: phrases0\n",
    "  <: phraseObj\n",
    "```\n",
    "\n",
    "**CD**\n",
    "\n",
    "```\n",
    "clause\n",
    "  =: phrases0\n",
    "  <: phraseObj\n",
    "  <: phrases0\n",
    "  <: phraseNTN\n",
    "```\n",
    "\n",
    "**EF**\n",
    "\n",
    "```\n",
    "clause\n",
    "  =: phrases0\n",
    "  <: phraseNTNps\n",
    "```"
   ]
  },
  {
   "cell_type": "markdown",
   "id": "forced-sunset",
   "metadata": {},
   "source": [
    "We cannot make a faithful TF-Query out of this, because of the `*` in the block:\n",
    "\n",
    "```\n",
    "[phrase not function IN (Objc, Cmpl)] *\n",
    "```\n",
    "\n",
    "What we do is: we make a very simple query for clauses\n",
    "with a **phraseNTN** and a **phraseObj**,\n",
    "and for each of them we test whether its phrases conform to one\n",
    "of the patterns **A** .. **F** above."
   ]
  },
  {
   "cell_type": "code",
   "execution_count": 79,
   "id": "attempted-queens",
   "metadata": {},
   "outputs": [],
   "source": [
    "query1 = \"\"\"\n",
    "clause\n",
    "  phrase function=Pred|PreS\n",
    "    word vs=qal lex=NTN[\n",
    "  phrase function=Objc\n",
    "\"\"\"\n",
    "\n",
    "query2 = \"\"\"\n",
    "clause\n",
    "  phrase function=PreO\n",
    "    word vs=qal lex=NTN[\n",
    "\"\"\""
   ]
  },
  {
   "cell_type": "code",
   "execution_count": 80,
   "id": "blond-stamp",
   "metadata": {},
   "outputs": [
    {
     "name": "stdout",
     "output_type": "stream",
     "text": [
      "  0.95s 1246 results\n",
      "  0.64s 243 results\n"
     ]
    }
   ],
   "source": [
    "resultCandidates1 = A.search(query1)\n",
    "resultCandidates2 = A.search(query2)"
   ]
  },
  {
   "cell_type": "code",
   "execution_count": 81,
   "id": "latter-thesis",
   "metadata": {},
   "outputs": [],
   "source": [
    "resultCandidates2a = [(*r, None) for r in resultCandidates2]\n",
    "resultCandidates = sorted(resultCandidates1 + resultCandidates2a)"
   ]
  },
  {
   "cell_type": "code",
   "execution_count": 82,
   "id": "marked-allocation",
   "metadata": {},
   "outputs": [
    {
     "name": "stdout",
     "output_type": "stream",
     "text": [
      "232 results\n"
     ]
    }
   ],
   "source": [
    "def getPhrases(cl):\n",
    "    phrases = L.d(cl, otype=\"phrase\")\n",
    "    maxPos = 0\n",
    "    consecutivePhrases = []\n",
    "    for phrase in phrases:\n",
    "        words = L.d(phrase, otype=\"word\")\n",
    "        start = words[0]\n",
    "        end = words[-1]\n",
    "        # exclude phrases inside gaps\n",
    "        if start < maxPos:\n",
    "            continue\n",
    "        consecutivePhrases.append(phrase)\n",
    "        maxPos = end\n",
    "    return tuple(consecutivePhrases)\n",
    "    \n",
    "results = []\n",
    "\n",
    "objlike = {\"Objc\", \"Cmpl\"}\n",
    "\n",
    "for r in resultCandidates:\n",
    "    cl = r[0]\n",
    "    ntn = r[1]\n",
    "    obj = r[3]\n",
    "    phrases = getPhrases(cl)\n",
    "    \n",
    "    predSeen = False\n",
    "    objSeen = False\n",
    "    \n",
    "    good = True\n",
    "    \n",
    "    for p in getPhrases(cl):\n",
    "        fn = F.function.v(p)\n",
    "            \n",
    "        if not predSeen and not objSeen:\n",
    "            if p == ntn:\n",
    "                predSeen = True\n",
    "            elif p == obj:\n",
    "                objSeen = True\n",
    "            elif fn in objlike:\n",
    "                good = False\n",
    "                break\n",
    "            else:\n",
    "                continue\n",
    "        elif predSeen and not objSeen:\n",
    "            if p == obj:\n",
    "                objSeen = True\n",
    "            elif fn in objlike:\n",
    "                good = False\n",
    "                break\n",
    "            else:\n",
    "                continue\n",
    "        elif not predSeen and objSeen:\n",
    "            if p == ntn:\n",
    "                predSeen = True\n",
    "            elif fn in objlike:\n",
    "                good = False\n",
    "                break\n",
    "            else:\n",
    "                continue\n",
    "        elif predSeen and objSeen:\n",
    "            if fn in objlike:\n",
    "                good = False\n",
    "                break\n",
    "            else:\n",
    "                continue\n",
    "                \n",
    "    if not good:\n",
    "        continue\n",
    "    \n",
    "    if not predSeen:\n",
    "        continue\n",
    "        \n",
    "    pfn = F.function.v(ntn)\n",
    "    \n",
    "    if objSeen:\n",
    "        if pfn == \"PreO\":\n",
    "            continue\n",
    "    else:\n",
    "        if pfn != \"PreO\":\n",
    "            continue\n",
    "            \n",
    "    results.append((cl, ntn, obj))\n",
    "    \n",
    "print(f\"{len(results)} results\")"
   ]
  },
  {
   "cell_type": "code",
   "execution_count": 83,
   "id": "likely-couple",
   "metadata": {},
   "outputs": [
    {
     "name": "stdout",
     "output_type": "stream",
     "text": [
      "190 verses\n",
      "458 words\n"
     ]
    }
   ],
   "source": [
    "(tfVerses, tfWords) = getTfVerses(A, results, (2,))"
   ]
  },
  {
   "cell_type": "code",
   "execution_count": 84,
   "id": "political-daughter",
   "metadata": {},
   "outputs": [
    {
     "name": "stdout",
     "output_type": "stream",
     "text": [
      "VERSES EQUAL\n",
      "WORDS EQUAL\n"
     ]
    }
   ],
   "source": [
    "compareResults(A, verses, words, tfVerses, tfWords)"
   ]
  },
  {
   "cell_type": "markdown",
   "id": "south-savage",
   "metadata": {},
   "source": [
    "We want a closer look at the results, but we have None values for the object phrase in some results.\n",
    "If we replace them by the first word of the predicate in that same result, we can show the table."
   ]
  },
  {
   "cell_type": "code",
   "execution_count": 85,
   "id": "guilty-double",
   "metadata": {},
   "outputs": [],
   "source": [
    "resultso = tuple((cl, pred, L.d(pred, otype=\"word\")[0] if obj is None else obj) for (cl, pred, obj) in results)"
   ]
  },
  {
   "cell_type": "code",
   "execution_count": 86,
   "id": "fallen-switzerland",
   "metadata": {},
   "outputs": [
    {
     "data": {
      "text/html": [
       "<table><tr class=\"tf rtl\"><th class=\"tf rtl\">n</th><th class=\"tf rtl\">p</th><th class=\"tf rtl\">clause</th><th class=\"tf\">phrase</th><th class=\"tf\">phrase</th></tr>\n",
       "<tr class=\"tf rtl\"><td class=\"tf rtl\">1</td><td class=\"tf rtl\"><span class=\"tfsechead ltr\"><a target=\"_blank\" href=\"https://shebanq.ancient-data.org/hebrew/text?book=Genesis&amp;chapter=15&amp;verse=10&amp;version=2017&amp;mr=m&amp;qw=q&amp;tp=txt_p&amp;tr=hb&amp;wget=v&amp;qget=v&amp;nget=vt\" title=\"Show this on SHEBANQ\" sec=\"Genesis 15:10\">Genesis 15:10</a></span></td><td class=\"tf rtl\"><span class=\"rtl ubd\"><span class=\"plain rtl  hlbx\" ><span class=\"txtu hbo\">וַ</span><span class=\"plain rtl  hlbx\" ><span class=\"txtu hbo\">יִּתֵּ֥ן </span></span><span class=\"plain rtl  hlbx\" ><span class=\"txtu hbo\">אִישׁ־</span><span class=\"txtu hbo\">בִּתְרֹ֖ו </span></span></span></span></td><td class=\"tf rtl\"><span class=\"rtl ubd\"><span class=\"plain rtl  hlbx\" ><span class=\"txtu hbo\">יִּתֵּ֥ן </span></span></span></td><td class=\"tf rtl\"><span class=\"rtl ubd\"><span class=\"plain rtl  hlbx\" ><span class=\"txtu hbo\">אִישׁ־</span><span class=\"txtu hbo\">בִּתְרֹ֖ו </span></span></span></td></tr>\n",
       "<tr class=\"tf rtl\"><td class=\"tf rtl\">2</td><td class=\"tf rtl\"><span class=\"tfsechead ltr\"><a target=\"_blank\" href=\"https://shebanq.ancient-data.org/hebrew/text?book=Genesis&amp;chapter=20&amp;verse=6&amp;version=2017&amp;mr=m&amp;qw=q&amp;tp=txt_p&amp;tr=hb&amp;wget=v&amp;qget=v&amp;nget=vt\" title=\"Show this on SHEBANQ\" sec=\"Genesis 20:6\">Genesis 20:6</a></span></td><td class=\"tf rtl\"><span class=\"rtl ubd\"><span class=\"plain rtl  hlbx\" ><span class=\"txtu hbo\">עַל־</span><span class=\"txtu hbo\">כֵּ֥ן </span><span class=\"txtu hbo\">לֹא־</span><span class=\"plain rtl  hlbx\" ><span class=\"plain rtl  hl\" ><span class=\"txtu hbo\">נְתַתִּ֖יךָ </span></span></span></span></span></td><td class=\"tf rtl\"><span class=\"rtl ubd\"><span class=\"plain rtl  hlbx\" ><span class=\"plain rtl  hl\" ><span class=\"txtu hbo\">נְתַתִּ֖יךָ </span></span></span></span></td><td class=\"tf rtl\"><span class=\"rtl ubd\"><span class=\"plain rtl  hl\" ><span class=\"txtu hbo\">נְתַתִּ֖יךָ </span></span></span></td></tr>\n",
       "<tr class=\"tf rtl\"><td class=\"tf rtl\">3</td><td class=\"tf rtl\"><span class=\"tfsechead ltr\"><a target=\"_blank\" href=\"https://shebanq.ancient-data.org/hebrew/text?book=Genesis&amp;chapter=23&amp;verse=13&amp;version=2017&amp;mr=m&amp;qw=q&amp;tp=txt_p&amp;tr=hb&amp;wget=v&amp;qget=v&amp;nget=vt\" title=\"Show this on SHEBANQ\" sec=\"Genesis 23:13\">Genesis 23:13</a></span></td><td class=\"tf rtl\"><span class=\"rtl ubd\"><span class=\"plain rtl  hlbx\" ><span class=\"plain rtl  hlbx\" ><span class=\"txtu hbo\">נָתַ֜תִּי </span></span><span class=\"plain rtl  hlbx\" ><span class=\"txtu hbo\">כֶּ֤סֶף </span><span class=\"txtu hbo\">הַ</span><span class=\"txtu hbo\">שָּׂדֶה֙ </span></span></span></span></td><td class=\"tf rtl\"><span class=\"rtl ubd\"><span class=\"plain rtl  hlbx\" ><span class=\"txtu hbo\">נָתַ֜תִּי </span></span></span></td><td class=\"tf rtl\"><span class=\"rtl ubd\"><span class=\"plain rtl  hlbx\" ><span class=\"txtu hbo\">כֶּ֤סֶף </span><span class=\"txtu hbo\">הַ</span><span class=\"txtu hbo\">שָּׂדֶה֙ </span></span></span></td></tr>\n",
       "<tr class=\"tf rtl\"><td class=\"tf rtl\">4</td><td class=\"tf rtl\"><span class=\"tfsechead ltr\"><a target=\"_blank\" href=\"https://shebanq.ancient-data.org/hebrew/text?book=Genesis&amp;chapter=30&amp;verse=18&amp;version=2017&amp;mr=m&amp;qw=q&amp;tp=txt_p&amp;tr=hb&amp;wget=v&amp;qget=v&amp;nget=vt\" title=\"Show this on SHEBANQ\" sec=\"Genesis 30:18\">Genesis 30:18</a></span></td><td class=\"tf rtl\"><span class=\"rtl ubd\"><span class=\"plain rtl  hlbx\" ><span class=\"plain rtl  hlbx\" ><span class=\"txtu hbo\">נָתַ֤ן </span></span><span class=\"txtu hbo\">אֱלֹהִים֙ </span><span class=\"plain rtl  hlbx\" ><span class=\"txtu hbo\">שְׂכָרִ֔י </span></span></span></span></td><td class=\"tf rtl\"><span class=\"rtl ubd\"><span class=\"plain rtl  hlbx\" ><span class=\"txtu hbo\">נָתַ֤ן </span></span></span></td><td class=\"tf rtl\"><span class=\"rtl ubd\"><span class=\"plain rtl  hlbx\" ><span class=\"txtu hbo\">שְׂכָרִ֔י </span></span></span></td></tr>\n",
       "<tr class=\"tf rtl\"><td class=\"tf rtl\">5</td><td class=\"tf rtl\"><span class=\"tfsechead ltr\"><a target=\"_blank\" href=\"https://shebanq.ancient-data.org/hebrew/text?book=Genesis&amp;chapter=30&amp;verse=26&amp;version=2017&amp;mr=m&amp;qw=q&amp;tp=txt_p&amp;tr=hb&amp;wget=v&amp;qget=v&amp;nget=vt\" title=\"Show this on SHEBANQ\" sec=\"Genesis 30:26\">Genesis 30:26</a></span></td><td class=\"tf rtl\"><span class=\"rtl ubd\"><span class=\"plain rtl  hlbx\" ><span class=\"plain rtl  hlbx\" ><span class=\"txtu hbo\">תְּנָ֞ה </span></span><span class=\"plain rtl  hlbx\" ><span class=\"txtu hbo\">אֶת־</span><span class=\"txtu hbo\">נָשַׁ֣י </span><span class=\"txtu hbo\">וְ</span><span class=\"txtu hbo\">אֶת־</span><span class=\"txtu hbo\">יְלָדַ֗י </span></span></span></span></td><td class=\"tf rtl\"><span class=\"rtl ubd\"><span class=\"plain rtl  hlbx\" ><span class=\"txtu hbo\">תְּנָ֞ה </span></span></span></td><td class=\"tf rtl\"><span class=\"rtl ubd\"><span class=\"plain rtl  hlbx\" ><span class=\"txtu hbo\">אֶת־</span><span class=\"txtu hbo\">נָשַׁ֣י </span><span class=\"txtu hbo\">וְ</span><span class=\"txtu hbo\">אֶת־</span><span class=\"txtu hbo\">יְלָדַ֗י </span></span></span></td></tr></table>"
      ],
      "text/plain": [
       "<IPython.core.display.HTML object>"
      ]
     },
     "metadata": {},
     "output_type": "display_data"
    }
   ],
   "source": [
    "A.table(resultso, end=5)"
   ]
  },
  {
   "cell_type": "markdown",
   "id": "prepared-spiritual",
   "metadata": {},
   "source": [
    "Or even closer:"
   ]
  },
  {
   "cell_type": "code",
   "execution_count": 87,
   "id": "rational-import",
   "metadata": {},
   "outputs": [
    {
     "data": {
      "text/html": [
       "<p><b>result</b> <i>1</i></p>"
      ],
      "text/plain": [
       "<IPython.core.display.HTML object>"
      ]
     },
     "metadata": {},
     "output_type": "display_data"
    },
    {
     "data": {
      "text/html": [
       "<div class=\"tfsechead rtl\"><a target=\"_blank\" href=\"https://shebanq.ancient-data.org/hebrew/text?book=Genesis&amp;chapter=15&amp;verse=10&amp;version=2017&amp;mr=m&amp;qw=q&amp;tp=txt_p&amp;tr=hb&amp;wget=v&amp;qget=v&amp;nget=vt\" title=\"Show this on SHEBANQ\" sec=\"Genesis 15:10\">Genesis 15:10</a></div><div class=\"rtl children\"><div class=\"contnr c2  rtl  \" ><div class=\"lbl c2  \" ><span class=\"nd\">clause</span></div><div class=\"children hor wrap rtl\"><div class=\"contnr c1  rtl  \" ><div class=\"lbl c1  \" ><span class=\"nd\">phrase</span></div><div class='features'><span class=\"function xft\" ><span class=\"f\">function=</span>Conj</span></div><div class=\"children hor wrap rtl\"><div class=\"contnr c0 trm rtl  \" ><div class=\"lbl c0 trm \" ><a class=\" txtu hbo\" target=\"_blank\" href=\"https://shebanq.ancient-data.org/hebrew/word?version=2017&amp;id=1W\" title=\"Show this on SHEBANQ\"><span class=\"txtu hbo\">וַ</span></a></div><div class='features'><span class=\"lex xft\" ><span class=\"f\">lex=</span>W</span></div></div></div></div><div class=\"contnr c1  rtl  hl\" ><div class=\"lbl c1  hl\" ><span class=\"nd\">phrase</span></div><div class='features'><span class=\"function xft\" ><span class=\"f\">function=</span>Pred</span></div><div class=\"children hor wrap rtl\"><div class=\"contnr c0 trm rtl  \" ><div class=\"lbl c0 trm \" ><a class=\" txtu hbo\" target=\"_blank\" href=\"https://shebanq.ancient-data.org/hebrew/word?version=2017&amp;id=1NTNv\" title=\"Show this on SHEBANQ\"><span class=\"txtu hbo\">יִּתֵּ֥ן </span></a></div><div class='features'><span class=\"lex xft\" ><span class=\"f\">lex=</span>NTN[</span><span class=\"vs xft\" ><span class=\"f\">vs=</span>qal</span></div></div></div></div><div class=\"contnr c1  rtl  hl\" ><div class=\"lbl c1  hl\" ><span class=\"nd\">phrase</span></div><div class='features'><span class=\"function xft\" ><span class=\"f\">function=</span>Objc</span></div><div class=\"children hor wrap rtl\"><div class=\"contnr c0 trm rtl  \" ><div class=\"lbl c0 trm \" ><a class=\" txtu hbo\" target=\"_blank\" href=\"https://shebanq.ancient-data.org/hebrew/word?version=2017&amp;id=1AJCn\" title=\"Show this on SHEBANQ\"><span class=\"txtu hbo\">אִישׁ־</span></a></div><div class='features'><span class=\"lex xft\" ><span class=\"f\">lex=</span>>JC/</span></div></div><div class=\"contnr c0 trm rtl  \" ><div class=\"lbl c0 trm \" ><a class=\" txtu hbo\" target=\"_blank\" href=\"https://shebanq.ancient-data.org/hebrew/word?version=2017&amp;id=1BTRn\" title=\"Show this on SHEBANQ\"><span class=\"txtu hbo\">בִּתְרֹ֖ו </span></a></div><div class='features'><span class=\"lex xft\" ><span class=\"f\">lex=</span>BTR/</span></div></div></div></div></div></div></div>"
      ],
      "text/plain": [
       "<IPython.core.display.HTML object>"
      ]
     },
     "metadata": {},
     "output_type": "display_data"
    },
    {
     "data": {
      "text/html": [
       "<p><b>result</b> <i>2</i></p>"
      ],
      "text/plain": [
       "<IPython.core.display.HTML object>"
      ]
     },
     "metadata": {},
     "output_type": "display_data"
    },
    {
     "data": {
      "text/html": [
       "<div class=\"tfsechead rtl\"><a target=\"_blank\" href=\"https://shebanq.ancient-data.org/hebrew/text?book=Genesis&amp;chapter=20&amp;verse=6&amp;version=2017&amp;mr=m&amp;qw=q&amp;tp=txt_p&amp;tr=hb&amp;wget=v&amp;qget=v&amp;nget=vt\" title=\"Show this on SHEBANQ\" sec=\"Genesis 20:6\">Genesis 20:6</a></div><div class=\"rtl children\"><div class=\"contnr c2  rtl  \" ><div class=\"lbl c2  \" ><span class=\"nd\">clause</span></div><div class=\"children hor wrap rtl\"><div class=\"contnr c1  rtl  \" ><div class=\"lbl c1  \" ><span class=\"nd\">phrase</span></div><div class='features'><span class=\"function xft\" ><span class=\"f\">function=</span>Adju</span></div><div class=\"children hor wrap rtl\"><div class=\"contnr c0 trm rtl  \" ><div class=\"lbl c0 trm \" ><a class=\" txtu hbo\" target=\"_blank\" href=\"https://shebanq.ancient-data.org/hebrew/word?version=2017&amp;id=1OL\" title=\"Show this on SHEBANQ\"><span class=\"txtu hbo\">עַל־</span></a></div><div class='features'><span class=\"lex xft\" ><span class=\"f\">lex=</span>&lt;L</span></div></div><div class=\"contnr c0 trm rtl  \" ><div class=\"lbl c0 trm \" ><a class=\" txtu hbo\" target=\"_blank\" href=\"https://shebanq.ancient-data.org/hebrew/word?version=2017&amp;id=1KN\" title=\"Show this on SHEBANQ\"><span class=\"txtu hbo\">כֵּ֥ן </span></a></div><div class='features'><span class=\"lex xft\" ><span class=\"f\">lex=</span>KN</span></div></div></div></div><div class=\"contnr c1  rtl  \" ><div class=\"lbl c1  \" ><span class=\"nd\">phrase</span></div><div class='features'><span class=\"function xft\" ><span class=\"f\">function=</span>Nega</span></div><div class=\"children hor wrap rtl\"><div class=\"contnr c0 trm rtl  \" ><div class=\"lbl c0 trm \" ><a class=\" txtu hbo\" target=\"_blank\" href=\"https://shebanq.ancient-data.org/hebrew/word?version=2017&amp;id=1LA\" title=\"Show this on SHEBANQ\"><span class=\"txtu hbo\">לֹא־</span></a></div><div class='features'><span class=\"lex xft\" ><span class=\"f\">lex=</span>L></span></div></div></div></div><div class=\"contnr c1  rtl  hl\" ><div class=\"lbl c1  hl\" ><span class=\"nd\">phrase</span></div><div class='features'><span class=\"function xft\" ><span class=\"f\">function=</span>PreO</span></div><div class=\"children hor wrap rtl\"><div class=\"contnr c0 trm rtl  hl\" ><div class=\"lbl c0 trm hl\" ><a class=\" txtu hbo\" target=\"_blank\" href=\"https://shebanq.ancient-data.org/hebrew/word?version=2017&amp;id=1NTNv\" title=\"Show this on SHEBANQ\"><span class=\"txtu hbo\">נְתַתִּ֖יךָ </span></a></div><div class='features'><span class=\"lex xft\" ><span class=\"f\">lex=</span>NTN[</span><span class=\"vs xft\" ><span class=\"f\">vs=</span>qal</span></div></div></div></div></div></div></div>"
      ],
      "text/plain": [
       "<IPython.core.display.HTML object>"
      ]
     },
     "metadata": {},
     "output_type": "display_data"
    },
    {
     "data": {
      "text/html": [
       "<p><b>result</b> <i>3</i></p>"
      ],
      "text/plain": [
       "<IPython.core.display.HTML object>"
      ]
     },
     "metadata": {},
     "output_type": "display_data"
    },
    {
     "data": {
      "text/html": [
       "<div class=\"tfsechead rtl\"><a target=\"_blank\" href=\"https://shebanq.ancient-data.org/hebrew/text?book=Genesis&amp;chapter=23&amp;verse=13&amp;version=2017&amp;mr=m&amp;qw=q&amp;tp=txt_p&amp;tr=hb&amp;wget=v&amp;qget=v&amp;nget=vt\" title=\"Show this on SHEBANQ\" sec=\"Genesis 23:13\">Genesis 23:13</a></div><div class=\"rtl children\"><div class=\"contnr c2  rtl  \" ><div class=\"lbl c2  \" ><span class=\"nd\">clause</span></div><div class=\"children hor wrap rtl\"><div class=\"contnr c1  rtl  hl\" ><div class=\"lbl c1  hl\" ><span class=\"nd\">phrase</span></div><div class='features'><span class=\"function xft\" ><span class=\"f\">function=</span>Pred</span></div><div class=\"children hor wrap rtl\"><div class=\"contnr c0 trm rtl  \" ><div class=\"lbl c0 trm \" ><a class=\" txtu hbo\" target=\"_blank\" href=\"https://shebanq.ancient-data.org/hebrew/word?version=2017&amp;id=1NTNv\" title=\"Show this on SHEBANQ\"><span class=\"txtu hbo\">נָתַ֜תִּי </span></a></div><div class='features'><span class=\"lex xft\" ><span class=\"f\">lex=</span>NTN[</span><span class=\"vs xft\" ><span class=\"f\">vs=</span>qal</span></div></div></div></div><div class=\"contnr c1  rtl  hl\" ><div class=\"lbl c1  hl\" ><span class=\"nd\">phrase</span></div><div class='features'><span class=\"function xft\" ><span class=\"f\">function=</span>Objc</span></div><div class=\"children hor wrap rtl\"><div class=\"contnr c0 trm rtl  \" ><div class=\"lbl c0 trm \" ><a class=\" txtu hbo\" target=\"_blank\" href=\"https://shebanq.ancient-data.org/hebrew/word?version=2017&amp;id=1KSPn\" title=\"Show this on SHEBANQ\"><span class=\"txtu hbo\">כֶּ֤סֶף </span></a></div><div class='features'><span class=\"lex xft\" ><span class=\"f\">lex=</span>KSP/</span></div></div><div class=\"contnr c0 trm rtl  \" ><div class=\"lbl c0 trm \" ><a class=\" txtu hbo\" target=\"_blank\" href=\"https://shebanq.ancient-data.org/hebrew/word?version=2017&amp;id=1H\" title=\"Show this on SHEBANQ\"><span class=\"txtu hbo\">הַ</span></a></div><div class='features'><span class=\"lex xft\" ><span class=\"f\">lex=</span>H</span></div></div><div class=\"contnr c0 trm rtl  \" ><div class=\"lbl c0 trm \" ><a class=\" txtu hbo\" target=\"_blank\" href=\"https://shebanq.ancient-data.org/hebrew/word?version=2017&amp;id=1FDHn\" title=\"Show this on SHEBANQ\"><span class=\"txtu hbo\">שָּׂדֶה֙ </span></a></div><div class='features'><span class=\"lex xft\" ><span class=\"f\">lex=</span>FDH/</span></div></div></div></div></div></div></div>"
      ],
      "text/plain": [
       "<IPython.core.display.HTML object>"
      ]
     },
     "metadata": {},
     "output_type": "display_data"
    },
    {
     "data": {
      "text/html": [
       "<p><b>result</b> <i>4</i></p>"
      ],
      "text/plain": [
       "<IPython.core.display.HTML object>"
      ]
     },
     "metadata": {},
     "output_type": "display_data"
    },
    {
     "data": {
      "text/html": [
       "<div class=\"tfsechead rtl\"><a target=\"_blank\" href=\"https://shebanq.ancient-data.org/hebrew/text?book=Genesis&amp;chapter=30&amp;verse=18&amp;version=2017&amp;mr=m&amp;qw=q&amp;tp=txt_p&amp;tr=hb&amp;wget=v&amp;qget=v&amp;nget=vt\" title=\"Show this on SHEBANQ\" sec=\"Genesis 30:18\">Genesis 30:18</a></div><div class=\"rtl children\"><div class=\"contnr c2  rtl  \" ><div class=\"lbl c2  \" ><span class=\"nd\">clause</span></div><div class=\"children hor wrap rtl\"><div class=\"contnr c1  rtl  hl\" ><div class=\"lbl c1  hl\" ><span class=\"nd\">phrase</span></div><div class='features'><span class=\"function xft\" ><span class=\"f\">function=</span>Pred</span></div><div class=\"children hor wrap rtl\"><div class=\"contnr c0 trm rtl  \" ><div class=\"lbl c0 trm \" ><a class=\" txtu hbo\" target=\"_blank\" href=\"https://shebanq.ancient-data.org/hebrew/word?version=2017&amp;id=1NTNv\" title=\"Show this on SHEBANQ\"><span class=\"txtu hbo\">נָתַ֤ן </span></a></div><div class='features'><span class=\"lex xft\" ><span class=\"f\">lex=</span>NTN[</span><span class=\"vs xft\" ><span class=\"f\">vs=</span>qal</span></div></div></div></div><div class=\"contnr c1  rtl  \" ><div class=\"lbl c1  \" ><span class=\"nd\">phrase</span></div><div class='features'><span class=\"function xft\" ><span class=\"f\">function=</span>Subj</span></div><div class=\"children hor wrap rtl\"><div class=\"contnr c0 trm rtl  \" ><div class=\"lbl c0 trm \" ><a class=\" txtu hbo\" target=\"_blank\" href=\"https://shebanq.ancient-data.org/hebrew/word?version=2017&amp;id=1ALHJMn\" title=\"Show this on SHEBANQ\"><span class=\"txtu hbo\">אֱלֹהִים֙ </span></a></div><div class='features'><span class=\"lex xft\" ><span class=\"f\">lex=</span>>LHJM/</span></div></div></div></div><div class=\"contnr c1  rtl  hl\" ><div class=\"lbl c1  hl\" ><span class=\"nd\">phrase</span></div><div class='features'><span class=\"function xft\" ><span class=\"f\">function=</span>Objc</span></div><div class=\"children hor wrap rtl\"><div class=\"contnr c0 trm rtl  \" ><div class=\"lbl c0 trm \" ><a class=\" txtu hbo\" target=\"_blank\" href=\"https://shebanq.ancient-data.org/hebrew/word?version=2017&amp;id=1FKRn\" title=\"Show this on SHEBANQ\"><span class=\"txtu hbo\">שְׂכָרִ֔י </span></a></div><div class='features'><span class=\"lex xft\" ><span class=\"f\">lex=</span>FKR/</span></div></div></div></div></div></div></div>"
      ],
      "text/plain": [
       "<IPython.core.display.HTML object>"
      ]
     },
     "metadata": {},
     "output_type": "display_data"
    },
    {
     "data": {
      "text/html": [
       "<p><b>result</b> <i>5</i></p>"
      ],
      "text/plain": [
       "<IPython.core.display.HTML object>"
      ]
     },
     "metadata": {},
     "output_type": "display_data"
    },
    {
     "data": {
      "text/html": [
       "<div class=\"tfsechead rtl\"><a target=\"_blank\" href=\"https://shebanq.ancient-data.org/hebrew/text?book=Genesis&amp;chapter=30&amp;verse=26&amp;version=2017&amp;mr=m&amp;qw=q&amp;tp=txt_p&amp;tr=hb&amp;wget=v&amp;qget=v&amp;nget=vt\" title=\"Show this on SHEBANQ\" sec=\"Genesis 30:26\">Genesis 30:26</a></div><div class=\"rtl children\"><div class=\"contnr c2  rtl  \" ><div class=\"lbl c2  \" ><span class=\"nd\">clause</span></div><div class=\"children hor wrap rtl\"><div class=\"contnr c1  rtl  hl\" ><div class=\"lbl c1  hl\" ><span class=\"nd\">phrase</span></div><div class='features'><span class=\"function xft\" ><span class=\"f\">function=</span>Pred</span></div><div class=\"children hor wrap rtl\"><div class=\"contnr c0 trm rtl  \" ><div class=\"lbl c0 trm \" ><a class=\" txtu hbo\" target=\"_blank\" href=\"https://shebanq.ancient-data.org/hebrew/word?version=2017&amp;id=1NTNv\" title=\"Show this on SHEBANQ\"><span class=\"txtu hbo\">תְּנָ֞ה </span></a></div><div class='features'><span class=\"lex xft\" ><span class=\"f\">lex=</span>NTN[</span><span class=\"vs xft\" ><span class=\"f\">vs=</span>qal</span></div></div></div></div><div class=\"contnr c1  rtl  hl\" ><div class=\"lbl c1  hl\" ><span class=\"nd\">phrase</span></div><div class='features'><span class=\"function xft\" ><span class=\"f\">function=</span>Objc</span></div><div class=\"children hor wrap rtl\"><div class=\"contnr c0 trm rtl  \" ><div class=\"lbl c0 trm \" ><a class=\" txtu hbo\" target=\"_blank\" href=\"https://shebanq.ancient-data.org/hebrew/word?version=2017&amp;id=1AT\" title=\"Show this on SHEBANQ\"><span class=\"txtu hbo\">אֶת־</span></a></div><div class='features'><span class=\"lex xft\" ><span class=\"f\">lex=</span>>T</span></div></div><div class=\"contnr c0 trm rtl  \" ><div class=\"lbl c0 trm \" ><a class=\" txtu hbo\" target=\"_blank\" href=\"https://shebanq.ancient-data.org/hebrew/word?version=2017&amp;id=1ACHn\" title=\"Show this on SHEBANQ\"><span class=\"txtu hbo\">נָשַׁ֣י </span></a></div><div class='features'><span class=\"lex xft\" ><span class=\"f\">lex=</span>>CH/</span></div></div><div class=\"contnr c0 trm rtl  \" ><div class=\"lbl c0 trm \" ><a class=\" txtu hbo\" target=\"_blank\" href=\"https://shebanq.ancient-data.org/hebrew/word?version=2017&amp;id=1W\" title=\"Show this on SHEBANQ\"><span class=\"txtu hbo\">וְ</span></a></div><div class='features'><span class=\"lex xft\" ><span class=\"f\">lex=</span>W</span></div></div><div class=\"contnr c0 trm rtl  \" ><div class=\"lbl c0 trm \" ><a class=\" txtu hbo\" target=\"_blank\" href=\"https://shebanq.ancient-data.org/hebrew/word?version=2017&amp;id=1AT\" title=\"Show this on SHEBANQ\"><span class=\"txtu hbo\">אֶת־</span></a></div><div class='features'><span class=\"lex xft\" ><span class=\"f\">lex=</span>>T</span></div></div><div class=\"contnr c0 trm rtl  \" ><div class=\"lbl c0 trm \" ><a class=\" txtu hbo\" target=\"_blank\" href=\"https://shebanq.ancient-data.org/hebrew/word?version=2017&amp;id=1JLDn\" title=\"Show this on SHEBANQ\"><span class=\"txtu hbo\">יְלָדַ֗י </span></a></div><div class='features'><span class=\"lex xft\" ><span class=\"f\">lex=</span>JLD/</span></div></div></div></div></div></div></div>"
      ],
      "text/plain": [
       "<IPython.core.display.HTML object>"
      ]
     },
     "metadata": {},
     "output_type": "display_data"
    }
   ],
   "source": [
    "A.show(resultso, end=5, condenseType=\"clause\")"
   ]
  },
  {
   "cell_type": "markdown",
   "id": "unauthorized-lightweight",
   "metadata": {},
   "source": [
    "**Conclusion**\n",
    "\n",
    "This was not an easy one to do by hand-coding.\n",
    "\n",
    "But the good thing is that once we have obtained the results, we can inspect them really closely."
   ]
  },
  {
   "cell_type": "markdown",
   "id": "grand-spank",
   "metadata": {},
   "source": [
    "# Example 10b\n",
    "\n",
    "[Bas Meeuse: Example 10: NTN + object + recipient](https://shebanq.ancient-data.org/hebrew/query?version=2017&id=4437)\n",
    "\n",
    "```\n",
    "[clause focus\n",
    "  [UNORDEREDGROUP\n",
    "    [phrase typ = VP AND NOT function IN (PreO, PtcO)\n",
    "      [word vs = qal AND lex = \"NTN[\"]\n",
    "    ]\n",
    "    [phrase function = Objc]\n",
    "    [phrase function = Cmpl\n",
    "      [word first lex = \"L\"]\n",
    "    ]\n",
    "  ]\n",
    "]\n",
    "OR\n",
    "[clause focus\n",
    "  [UNORDEREDGROUP\n",
    "    [phrase function IN (PreO, PtcO)\n",
    "      [word vs = qal AND lex = \"NTN[\"]\n",
    "    ]\n",
    "    [phrase function = Cmpl\n",
    "      [word first lex = \"L\"]\n",
    "    ]\n",
    "  ]\n",
    "]\n",
    "```"
   ]
  },
  {
   "cell_type": "code",
   "execution_count": 88,
   "id": "major-volleyball",
   "metadata": {},
   "outputs": [
    {
     "name": "stdout",
     "output_type": "stream",
     "text": [
      "2087 results in 675 verses with 5573 words\n"
     ]
    }
   ],
   "source": [
    "(verses, words) = getShebanqData(A, MQL_RESULTS, \"10b\")"
   ]
  },
  {
   "cell_type": "markdown",
   "id": "known-retirement",
   "metadata": {},
   "source": [
    "**TO BE DONE**"
   ]
  },
  {
   "cell_type": "code",
   "execution_count": 94,
   "id": "valuable-reception",
   "metadata": {},
   "outputs": [],
   "source": [
    "query = \"\"\"\n",
    "\"\"\""
   ]
  },
  {
   "cell_type": "code",
   "execution_count": 95,
   "id": "automated-sullivan",
   "metadata": {},
   "outputs": [],
   "source": [
    "# results = A.search(query)"
   ]
  },
  {
   "cell_type": "code",
   "execution_count": 96,
   "id": "viral-flesh",
   "metadata": {},
   "outputs": [],
   "source": [
    "# (tfVerses, tfWords) = getTfVerses(A, results, (2, 4))"
   ]
  },
  {
   "cell_type": "code",
   "execution_count": 97,
   "id": "comparable-extra",
   "metadata": {},
   "outputs": [],
   "source": [
    "# compareResults(A, verses, words, tfVerses, tfWords)"
   ]
  },
  {
   "cell_type": "code",
   "execution_count": null,
   "id": "joined-potential",
   "metadata": {},
   "outputs": [],
   "source": []
  }
 ],
 "metadata": {
  "kernelspec": {
   "display_name": "Python 3",
   "language": "python",
   "name": "python3"
  },
  "language_info": {
   "codemirror_mode": {
    "name": "ipython",
    "version": 3
   },
   "file_extension": ".py",
   "mimetype": "text/x-python",
   "name": "python",
   "nbconvert_exporter": "python",
   "pygments_lexer": "ipython3",
   "version": "3.9.2"
  },
  "widgets": {
   "application/vnd.jupyter.widget-state+json": {
    "state": {},
    "version_major": 2,
    "version_minor": 0
   }
  }
 },
 "nbformat": 4,
 "nbformat_minor": 5
}
