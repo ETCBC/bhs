{
 "cells": [
  {
   "cell_type": "markdown",
   "id": "straight-luther",
   "metadata": {},
   "source": [
    "<img align=\"right\" src=\"images/etcbc.png\" width=\"150\"/>\n",
    "<img align=\"right\" src=\"images/tf.png\" width=\"150\"/>\n",
    "<img align=\"right\" src=\"images/emdros.png\" width=\"250\"/>\n",
    "\n",
    "# MQL versus TF-Query\n",
    "\n",
    "See [tfVersusMql](tfVersusMql.ipynb) for an introduction."
   ]
  },
  {
   "cell_type": "markdown",
   "id": "rolled-activity",
   "metadata": {},
   "source": [
    "# Loading\n",
    "\n",
    "We load the Text-Fabric program and the BHSA data."
   ]
  },
  {
   "cell_type": "code",
   "execution_count": 1,
   "id": "similar-individual",
   "metadata": {},
   "outputs": [],
   "source": [
    "%load_ext autoreload\n",
    "%autoreload 2"
   ]
  },
  {
   "cell_type": "code",
   "execution_count": 2,
   "id": "direct-estimate",
   "metadata": {
    "ExecuteTime": {
     "end_time": "2018-05-11T10:04:07.889266Z",
     "start_time": "2018-05-11T10:04:07.826697Z"
    }
   },
   "outputs": [],
   "source": [
    "from tf.app import use\n",
    "from tf.core.helpers import project\n",
    "\n",
    "from util import getTfVerses, getShebanqData, compareResults, MQL_RESULTS"
   ]
  },
  {
   "cell_type": "code",
   "execution_count": 3,
   "id": "english-drilling",
   "metadata": {
    "ExecuteTime": {
     "end_time": "2018-05-11T10:04:21.570164Z",
     "start_time": "2018-05-11T10:04:20.016691Z"
    }
   },
   "outputs": [
    {
     "data": {
      "text/html": [
       "<b title=\"local github\">TF-app:</b> <span title=\"repo clone offline under ~/github\">~/github/annotation/app-bhsa/code</span>"
      ],
      "text/plain": [
       "<IPython.core.display.HTML object>"
      ]
     },
     "metadata": {},
     "output_type": "display_data"
    },
    {
     "data": {
      "text/html": [
       "<b title=\"local github\">data:</b> <span title=\"repo clone offline under ~/github\">~/github/etcbc/bhsa/tf/2017</span>"
      ],
      "text/plain": [
       "<IPython.core.display.HTML object>"
      ]
     },
     "metadata": {},
     "output_type": "display_data"
    },
    {
     "data": {
      "text/html": [
       "<b title=\"local github\">data:</b> <span title=\"repo clone offline under ~/github\">~/github/etcbc/phono/tf/2017</span>"
      ],
      "text/plain": [
       "<IPython.core.display.HTML object>"
      ]
     },
     "metadata": {},
     "output_type": "display_data"
    },
    {
     "data": {
      "text/html": [
       "<b title=\"local github\">data:</b> <span title=\"repo clone offline under ~/github\">~/github/etcbc/parallels/tf/2017</span>"
      ],
      "text/plain": [
       "<IPython.core.display.HTML object>"
      ]
     },
     "metadata": {},
     "output_type": "display_data"
    },
    {
     "data": {
      "text/html": [
       "<b>Text-Fabric:</b> <a target=\"_blank\" href=\"https://annotation.github.io/text-fabric/tf/cheatsheet.html\" title=\"text-fabric-api\">Text-Fabric API 8.4.13</a>, <a target=\"_blank\" href=\"https://github.com/annotation/app-bhsa\" title=\"bhsa TF-app\">app-bhsa v3</a>, <a target=\"_blank\" href=\"https://annotation.github.io/text-fabric/tf/about/searchusage.html\" title=\"Search Templates Introduction and Reference\">Search Reference</a><br><b>Data:</b> <a target=\"_blank\" href=\"https://etcbc.github.io/bhsa/0_home\" title=\"provenance of BHSA = Biblia Hebraica Stuttgartensia Amstelodamensis\">BHSA</a>, <a target=\"_blank\" href=\"https://annotation.github.io/text-fabric/tf/writing/hebrew.html\" title=\"How TF features represent text\">Character table</a>, <a target=\"_blank\" href=\"https://etcbc.github.io/bhsa/features/0_home\" title=\"BHSA feature documentation\">Feature docs</a><br><b>Features:</b><br><details><summary><b>Parallel Passages</b></summary><b><i><a target=\"_blank\" href=\"https://nbviewer.jupyter.org/github/etcbc/parallels/blob/master/programs/parallels.ipynb\" title=\"~/github/etcbc/parallels/tf/2017/crossref.tf\">crossref</a></i></b><br></details><details><summary><b>BHSA = Biblia Hebraica Stuttgartensia Amstelodamensis</b></summary><a target=\"_blank\" href=\"https://etcbc.github.io/bhsa/features/book\" title=\"~/github/etcbc/bhsa/tf/2017/book.tf\">book</a><br><a target=\"_blank\" href=\"https://etcbc.github.io/bhsa/features/book@ll\" title=\"~/github/etcbc/bhsa/tf/2017/book@am.tf\">book@ll</a><br><a target=\"_blank\" href=\"https://etcbc.github.io/bhsa/features/chapter\" title=\"~/github/etcbc/bhsa/tf/2017/chapter.tf\">chapter</a><br><a target=\"_blank\" href=\"https://etcbc.github.io/bhsa/features/code\" title=\"~/github/etcbc/bhsa/tf/2017/code.tf\">code</a><br><a target=\"_blank\" href=\"https://etcbc.github.io/bhsa/features/det\" title=\"~/github/etcbc/bhsa/tf/2017/det.tf\">det</a><br><a target=\"_blank\" href=\"https://etcbc.github.io/bhsa/features/domain\" title=\"~/github/etcbc/bhsa/tf/2017/domain.tf\">domain</a><br><a target=\"_blank\" href=\"https://etcbc.github.io/bhsa/features/freq_lex\" title=\"~/github/etcbc/bhsa/tf/2017/freq_lex.tf\">freq_lex</a><br><a target=\"_blank\" href=\"https://etcbc.github.io/bhsa/features/function\" title=\"~/github/etcbc/bhsa/tf/2017/function.tf\">function</a><br><a target=\"_blank\" href=\"https://etcbc.github.io/bhsa/features/g_cons\" title=\"~/github/etcbc/bhsa/tf/2017/g_cons.tf\">g_cons</a><br><a target=\"_blank\" href=\"https://etcbc.github.io/bhsa/features/g_cons_utf8\" title=\"~/github/etcbc/bhsa/tf/2017/g_cons_utf8.tf\">g_cons_utf8</a><br><a target=\"_blank\" href=\"https://etcbc.github.io/bhsa/features/g_lex\" title=\"~/github/etcbc/bhsa/tf/2017/g_lex.tf\">g_lex</a><br><a target=\"_blank\" href=\"https://etcbc.github.io/bhsa/features/g_lex_utf8\" title=\"~/github/etcbc/bhsa/tf/2017/g_lex_utf8.tf\">g_lex_utf8</a><br><a target=\"_blank\" href=\"https://etcbc.github.io/bhsa/features/g_word\" title=\"~/github/etcbc/bhsa/tf/2017/g_word.tf\">g_word</a><br><a target=\"_blank\" href=\"https://etcbc.github.io/bhsa/features/g_word_utf8\" title=\"~/github/etcbc/bhsa/tf/2017/g_word_utf8.tf\">g_word_utf8</a><br><a target=\"_blank\" href=\"https://etcbc.github.io/bhsa/features/gloss\" title=\"~/github/etcbc/bhsa/tf/2017/gloss.tf\">gloss</a><br><a target=\"_blank\" href=\"https://etcbc.github.io/bhsa/features/gn\" title=\"~/github/etcbc/bhsa/tf/2017/gn.tf\">gn</a><br><a target=\"_blank\" href=\"https://etcbc.github.io/bhsa/features/label\" title=\"~/github/etcbc/bhsa/tf/2017/label.tf\">label</a><br><a target=\"_blank\" href=\"https://etcbc.github.io/bhsa/features/language\" title=\"~/github/etcbc/bhsa/tf/2017/language.tf\">language</a><br><a target=\"_blank\" href=\"https://etcbc.github.io/bhsa/features/lex\" title=\"~/github/etcbc/bhsa/tf/2017/lex.tf\">lex</a><br><a target=\"_blank\" href=\"https://etcbc.github.io/bhsa/features/lex_utf8\" title=\"~/github/etcbc/bhsa/tf/2017/lex_utf8.tf\">lex_utf8</a><br><a target=\"_blank\" href=\"https://etcbc.github.io/bhsa/features/ls\" title=\"~/github/etcbc/bhsa/tf/2017/ls.tf\">ls</a><br><a target=\"_blank\" href=\"https://etcbc.github.io/bhsa/features/nametype\" title=\"~/github/etcbc/bhsa/tf/2017/nametype.tf\">nametype</a><br><a target=\"_blank\" href=\"https://etcbc.github.io/bhsa/features/nme\" title=\"~/github/etcbc/bhsa/tf/2017/nme.tf\">nme</a><br><a target=\"_blank\" href=\"https://etcbc.github.io/bhsa/features/nu\" title=\"~/github/etcbc/bhsa/tf/2017/nu.tf\">nu</a><br><a target=\"_blank\" href=\"https://etcbc.github.io/bhsa/features/number\" title=\"~/github/etcbc/bhsa/tf/2017/number.tf\">number</a><br><a target=\"_blank\" href=\"https://etcbc.github.io/bhsa/features/otype\" title=\"~/github/etcbc/bhsa/tf/2017/otype.tf\">otype</a><br><a target=\"_blank\" href=\"https://etcbc.github.io/bhsa/features/pargr\" title=\"~/github/etcbc/bhsa/tf/2017/pargr.tf\">pargr</a><br><a target=\"_blank\" href=\"https://etcbc.github.io/bhsa/features/pdp\" title=\"~/github/etcbc/bhsa/tf/2017/pdp.tf\">pdp</a><br><a target=\"_blank\" href=\"https://etcbc.github.io/bhsa/features/pfm\" title=\"~/github/etcbc/bhsa/tf/2017/pfm.tf\">pfm</a><br><a target=\"_blank\" href=\"https://etcbc.github.io/bhsa/features/prs\" title=\"~/github/etcbc/bhsa/tf/2017/prs.tf\">prs</a><br><a target=\"_blank\" href=\"https://etcbc.github.io/bhsa/features/prs_gn\" title=\"~/github/etcbc/bhsa/tf/2017/prs_gn.tf\">prs_gn</a><br><a target=\"_blank\" href=\"https://etcbc.github.io/bhsa/features/prs_nu\" title=\"~/github/etcbc/bhsa/tf/2017/prs_nu.tf\">prs_nu</a><br><a target=\"_blank\" href=\"https://etcbc.github.io/bhsa/features/prs_ps\" title=\"~/github/etcbc/bhsa/tf/2017/prs_ps.tf\">prs_ps</a><br><a target=\"_blank\" href=\"https://etcbc.github.io/bhsa/features/ps\" title=\"~/github/etcbc/bhsa/tf/2017/ps.tf\">ps</a><br><a target=\"_blank\" href=\"https://etcbc.github.io/bhsa/features/qere\" title=\"~/github/etcbc/bhsa/tf/2017/qere.tf\">qere</a><br><a target=\"_blank\" href=\"https://etcbc.github.io/bhsa/features/qere_trailer\" title=\"~/github/etcbc/bhsa/tf/2017/qere_trailer.tf\">qere_trailer</a><br><a target=\"_blank\" href=\"https://etcbc.github.io/bhsa/features/qere_trailer_utf8\" title=\"~/github/etcbc/bhsa/tf/2017/qere_trailer_utf8.tf\">qere_trailer_utf8</a><br><a target=\"_blank\" href=\"https://etcbc.github.io/bhsa/features/qere_utf8\" title=\"~/github/etcbc/bhsa/tf/2017/qere_utf8.tf\">qere_utf8</a><br><a target=\"_blank\" href=\"https://etcbc.github.io/bhsa/features/rank_lex\" title=\"~/github/etcbc/bhsa/tf/2017/rank_lex.tf\">rank_lex</a><br><a target=\"_blank\" href=\"https://etcbc.github.io/bhsa/features/rela\" title=\"~/github/etcbc/bhsa/tf/2017/rela.tf\">rela</a><br><a target=\"_blank\" href=\"https://etcbc.github.io/bhsa/features/sp\" title=\"~/github/etcbc/bhsa/tf/2017/sp.tf\">sp</a><br><a target=\"_blank\" href=\"https://etcbc.github.io/bhsa/features/st\" title=\"~/github/etcbc/bhsa/tf/2017/st.tf\">st</a><br><a target=\"_blank\" href=\"https://etcbc.github.io/bhsa/features/tab\" title=\"~/github/etcbc/bhsa/tf/2017/tab.tf\">tab</a><br><a target=\"_blank\" href=\"https://etcbc.github.io/bhsa/features/trailer\" title=\"~/github/etcbc/bhsa/tf/2017/trailer.tf\">trailer</a><br><a target=\"_blank\" href=\"https://etcbc.github.io/bhsa/features/trailer_utf8\" title=\"~/github/etcbc/bhsa/tf/2017/trailer_utf8.tf\">trailer_utf8</a><br><a target=\"_blank\" href=\"https://etcbc.github.io/bhsa/features/txt\" title=\"~/github/etcbc/bhsa/tf/2017/txt.tf\">txt</a><br><a target=\"_blank\" href=\"https://etcbc.github.io/bhsa/features/typ\" title=\"~/github/etcbc/bhsa/tf/2017/typ.tf\">typ</a><br><a target=\"_blank\" href=\"https://etcbc.github.io/bhsa/features/uvf\" title=\"~/github/etcbc/bhsa/tf/2017/uvf.tf\">uvf</a><br><a target=\"_blank\" href=\"https://etcbc.github.io/bhsa/features/vbe\" title=\"~/github/etcbc/bhsa/tf/2017/vbe.tf\">vbe</a><br><a target=\"_blank\" href=\"https://etcbc.github.io/bhsa/features/vbs\" title=\"~/github/etcbc/bhsa/tf/2017/vbs.tf\">vbs</a><br><a target=\"_blank\" href=\"https://etcbc.github.io/bhsa/features/verse\" title=\"~/github/etcbc/bhsa/tf/2017/verse.tf\">verse</a><br><a target=\"_blank\" href=\"https://etcbc.github.io/bhsa/features/voc_lex\" title=\"~/github/etcbc/bhsa/tf/2017/voc_lex.tf\">voc_lex</a><br><a target=\"_blank\" href=\"https://etcbc.github.io/bhsa/features/voc_lex_utf8\" title=\"~/github/etcbc/bhsa/tf/2017/voc_lex_utf8.tf\">voc_lex_utf8</a><br><a target=\"_blank\" href=\"https://etcbc.github.io/bhsa/features/vs\" title=\"~/github/etcbc/bhsa/tf/2017/vs.tf\">vs</a><br><a target=\"_blank\" href=\"https://etcbc.github.io/bhsa/features/vt\" title=\"~/github/etcbc/bhsa/tf/2017/vt.tf\">vt</a><br><b><i><a target=\"_blank\" href=\"https://etcbc.github.io/bhsa/features/mother\" title=\"~/github/etcbc/bhsa/tf/2017/mother.tf\">mother</a></i></b><br><b><i><a target=\"_blank\" href=\"https://etcbc.github.io/bhsa/features/omap@ll\" title=\"~/github/etcbc/bhsa/tf/2017/omap@2016-2017.tf\">omap@ll</a></i></b><br><b><i><a target=\"_blank\" href=\"https://etcbc.github.io/bhsa/features/oslots\" title=\"~/github/etcbc/bhsa/tf/2017/oslots.tf\">oslots</a></i></b><br></details><details><summary><b>Phonetic Transcriptions</b></summary><a target=\"_blank\" href=\"https://nbviewer.jupyter.org/github/etcbc/phono/blob/master/programs/phono.ipynb\" title=\"~/github/etcbc/phono/tf/2017/phono.tf\">phono</a><br><a target=\"_blank\" href=\"https://nbviewer.jupyter.org/github/etcbc/phono/blob/master/programs/phono.ipynb\" title=\"~/github/etcbc/phono/tf/2017/phono_trailer.tf\">phono_trailer</a><br></details>"
      ],
      "text/plain": [
       "<IPython.core.display.HTML object>"
      ]
     },
     "metadata": {},
     "output_type": "display_data"
    },
    {
     "data": {
      "text/html": [
       "<style>tr.tf.ltr, td.tf.ltr, th.tf.ltr { text-align: left ! important;}\n",
       "tr.tf.rtl, td.tf.rtl, th.tf.rtl { text-align: right ! important;}\n",
       "@font-face {\n",
       "  font-family: \"Gentium Plus\";\n",
       "  src: local('Gentium Plus'), local('GentiumPlus'),\n",
       "    url('/server/static/fonts/GentiumPlus-R.woff') format('woff'),\n",
       "    url('https://github.com/annotation/text-fabric/blob/master/tf/server/static/fonts/GentiumPlus-R.woff?raw=true') format('woff');\n",
       "}\n",
       "\n",
       "@font-face {\n",
       "  font-family: \"Ezra SIL\";\n",
       "  src: local('Ezra SIL'), local('EzraSIL'),\n",
       "    url('/server/static/fonts/SILEOT.woff') format('woff'),\n",
       "    url('https://github.com/annotation/text-fabric/blob/master/tf/server/static/fonts/SILEOT.woff?raw=true') format('woff');\n",
       "}\n",
       "\n",
       "@font-face {\n",
       "  font-family: \"SBL Hebrew\";\n",
       "  src: local('SBL Hebrew'), local('SBLHebrew'),\n",
       "    url('/server/static/fonts/SBL_Hbrw.woff') format('woff'),\n",
       "    url('https://github.com/annotation/text-fabric/blob/master/tf/server/static/fonts/SBL_Hbrw.woff?raw=true') format('woff');\n",
       "}\n",
       "\n",
       "@font-face {\n",
       "  font-family: \"Estrangelo Edessa\";\n",
       "  src: local('Estrangelo Edessa'), local('EstrangeloEdessa');\n",
       "    url('/server/static/fonts/SyrCOMEdessa.woff') format('woff'),\n",
       "    url('https://github.com/annotation/text-fabric/blob/master/tf/server/static/fonts/SyrCOMEdessa.woff?raw=true') format('woff');\n",
       "}\n",
       "\n",
       "@font-face {\n",
       "  font-family: AmiriQuran;\n",
       "  font-style: normal;\n",
       "  font-weight: 400;\n",
       "  src: local('Amiri Quran'), local('AmiriQuran'),\n",
       "    url('/server/static/fonts/AmiriQuran.woff') format('woff'),\n",
       "    url('https://github.com/annotation/text-fabric/blob/master/tf/server/static/fonts/AmiriQuran.woff?raw=true') format('woff');\n",
       "}\n",
       "\n",
       "@font-face {\n",
       "  font-family: AmiriQuranColored;\n",
       "  font-style: normal;\n",
       "  font-weight: 400;\n",
       "  src: local('Amiri Quran Colored'), local('AmiriQuranColored'),\n",
       "    url('/server/static/fonts/AmiriQuranColored.woff') format('woff'),\n",
       "    url('https://github.com/annotation/text-fabric/blob/master/tf/server/static/fonts/AmiriQuranColored.woff?raw=true') format('woff');\n",
       "}\n",
       "\n",
       "@font-face {\n",
       "  font-family: \"Santakku\";\n",
       "  src: local('Santakku'),\n",
       "    url('/server/static/fonts/Santakku.woff') format('woff'),\n",
       "    url('https://github.com/annotation/text-fabric/blob/master/tf/server/static/fonts/Santakku.woff?raw=true') format('woff');\n",
       "}\n",
       "\n",
       "@font-face {\n",
       "  font-family: \"SantakkuM\";\n",
       "  src: local('SantakkuM'),\n",
       "    url('/server/static/fonts/SantakkuM.woff') format('woff'),\n",
       "    url('https://github.com/annotation/text-fabric/blob/master/tf/server/static/fonts/SantakkuM.woff?raw=true') format('woff');\n",
       "}\n",
       "/* bypassing some classical notebook settings */\n",
       "div#notebook {\n",
       "  line-height: unset;\n",
       "}\n",
       "/* neutral text */\n",
       ".txtn,.txtn a:visited,.txtn a:link {\n",
       "    font-family: sans-serif;\n",
       "    font-size: medium;\n",
       "    direction: ltr;\n",
       "    unicode-bidi: embed;\n",
       "    text-decoration: none;\n",
       "    color: var(--text-color);\n",
       "}\n",
       "/* transcription text */\n",
       ".txtt,.txtt a:visited,.txtt a:link {\n",
       "    font-family: monospace;\n",
       "    font-size: medium;\n",
       "    direction: ltr;\n",
       "    unicode-bidi: embed;\n",
       "    text-decoration: none;\n",
       "    color: var(--text-color);\n",
       "}\n",
       "/* source text */\n",
       ".txto,.txto a:visited,.txto a:link {\n",
       "    font-family: serif;\n",
       "    font-size: medium;\n",
       "    direction: ltr;\n",
       "    unicode-bidi: embed;\n",
       "    text-decoration: none;\n",
       "    color: var(--text-color);\n",
       "}\n",
       "/* phonetic text */\n",
       ".txtp,.txtp a:visited,.txtp a:link {\n",
       "    font-family: Gentium, sans-serif;\n",
       "    font-size: medium;\n",
       "    direction: ltr;\n",
       "    unicode-bidi: embed;\n",
       "    text-decoration: none;\n",
       "    color: var(--text-color);\n",
       "}\n",
       "/* original script text */\n",
       ".txtu,.txtu a:visited,.txtu a:link {\n",
       "    font-family: Gentium, sans-serif;\n",
       "    font-size: medium;\n",
       "    text-decoration: none;\n",
       "    color: var(--text-color);\n",
       "}\n",
       "/* hebrew */\n",
       ".txtu.hbo,.lex.hbo {\n",
       "    font-family: \"Ezra SIL\", \"SBL Hebrew\", sans-serif;\n",
       "    font-size: large;\n",
       "    direction: rtl ! important;\n",
       "    unicode-bidi: embed;\n",
       "}\n",
       "/* syriac */\n",
       ".txtu.syc,.lex.syc {\n",
       "    font-family: \"Estrangelo Edessa\", sans-serif;\n",
       "    font-size: medium;\n",
       "    direction: rtl ! important;\n",
       "    unicode-bidi: embed;\n",
       "}\n",
       "/* neo aramaic */\n",
       ".txtu.cld,.lex.cld {\n",
       "    font-family: \"CharisSIL-R\", sans-serif;\n",
       "    font-size: medium;\n",
       "    direction: ltr ! important;\n",
       "    unicode-bidi: embed;\n",
       "}\n",
       "/* standard arabic */\n",
       ".txtu.ara,.lex.ara {\n",
       "    font-family: \"AmiriQuran\", sans-serif;\n",
       "    font-size: large;\n",
       "    direction: rtl ! important;\n",
       "    unicode-bidi: embed;\n",
       "}\n",
       "/* cuneiform */\n",
       ".txtu.akk,.lex.akk {\n",
       "    font-family: Santakku, sans-serif;\n",
       "    font-size: large;\n",
       "    direction: ltr ! important;\n",
       "    unicode-bidi: embed;\n",
       "}\n",
       "/* greek */\n",
       ".txtu.grc,.lex.grc a:link {\n",
       "    font-family: Gentium, sans-serif;\n",
       "    font-size: medium;\n",
       "    direction: ltr ! important;\n",
       "    unicode-bidi: embed;\n",
       "}\n",
       "a:hover {\n",
       "    text-decoration: underline | important;\n",
       "    color: #0000ff | important;\n",
       "}\n",
       ".ltr {\n",
       "    direction: ltr ! important;\n",
       "    unicode-bidi: embed;\n",
       "}\n",
       ".rtl {\n",
       "    direction: rtl ! important;\n",
       "    unicode-bidi: embed;\n",
       "}\n",
       ".ubd {\n",
       "    unicode-bidi: embed;\n",
       "}\n",
       ".col {\n",
       "   display: inline-block;\n",
       "}\n",
       ".features {\n",
       "    font-family: monospace;\n",
       "    font-size: medium;\n",
       "    font-weight: bold;\n",
       "    color: var(--features);\n",
       "    display: flex;\n",
       "    flex-flow: column nowrap;\n",
       "    justify-content: flex-start;\n",
       "    align-items: flex-start;\n",
       "    align-content: flex-start;\n",
       "    padding: 2px;\n",
       "    margin: 2px;\n",
       "    direction: ltr;\n",
       "    unicode-bidi: embed;\n",
       "    border: var(--meta-width) solid var(--meta-color);\n",
       "    border-radius: var(--meta-width);\n",
       "}\n",
       ".features div,.features span {\n",
       "    padding: 0;\n",
       "    margin: -2px 0;\n",
       "}\n",
       ".features .f {\n",
       "    font-family: sans-serif;\n",
       "    font-size: small;\n",
       "    font-weight: normal;\n",
       "    color: #5555bb;\n",
       "}\n",
       ".features .xft {\n",
       "  color: #000000;\n",
       "  background-color: #eeeeee;\n",
       "  font-size: medium;\n",
       "  margin: 2px 0px;\n",
       "}\n",
       ".features .xft .f {\n",
       "  color: #000000;\n",
       "  background-color: #eeeeee;\n",
       "  font-size: small;\n",
       "  font-weight: normal;\n",
       "}\n",
       ".tfsechead {\n",
       "    font-family: sans-serif;\n",
       "    font-size: small;\n",
       "    font-weight: bold;\n",
       "    color: var(--tfsechead);\n",
       "    unicode-bidi: embed;\n",
       "    text-align: start;\n",
       "}\n",
       ".structure {\n",
       "    font-family: sans-serif;\n",
       "    font-size: small;\n",
       "    font-weight: bold;\n",
       "    color: var(--structure);\n",
       "    unicode-bidi: embed;\n",
       "    text-align: start;\n",
       "}\n",
       ".comments {\n",
       "    display: flex;\n",
       "    justify-content: flex-start;\n",
       "    align-items: flex-start;\n",
       "    align-content: flex-start;\n",
       "    flex-flow: column nowrap;\n",
       "}\n",
       ".nd, a:link.nd {\n",
       "    font-family: sans-serif;\n",
       "    font-size: small;\n",
       "    color: var(--node);\n",
       "    vertical-align: super;\n",
       "    direction: ltr ! important;\n",
       "    unicode-bidi: embed;\n",
       "}\n",
       ".lex {\n",
       "  color: var(--lex-color);;\n",
       "}\n",
       ".children,.children.ltr {\n",
       "    display: flex;\n",
       "    border: 0;\n",
       "    background-color: #ffffff;\n",
       "    justify-content: flex-start;\n",
       "    align-items: flex-start;\n",
       "    align-content: flex-start;\n",
       "}\n",
       ".children.stretch {\n",
       "    align-items: stretch;\n",
       "}\n",
       ".children.hor {\n",
       "    flex-flow: row nowrap;\n",
       "}\n",
       ".children.hor.wrap {\n",
       "    flex-flow: row wrap;\n",
       "}\n",
       ".children.ver {\n",
       "    flex-flow: column nowrap;\n",
       "}\n",
       ".children.ver.wrap {\n",
       "    flex-flow: column wrap;\n",
       "}\n",
       ".contnr {\n",
       "    width: fit-content;\n",
       "    display: flex;\n",
       "    justify-content: flex-start;\n",
       "    align-items: flex-start;\n",
       "    align-content: flex-start;\n",
       "    flex-flow: column nowrap;\n",
       "    background: #ffffff none repeat scroll 0 0;\n",
       "    padding:  10px 2px 2px 2px;\n",
       "    margin: 16px 2px 2px 2px;\n",
       "    border-style: solid;\n",
       "    font-size: small;\n",
       "}\n",
       ".contnr.trm {\n",
       "    background-attachment: local;\n",
       "}\n",
       ".contnr.cnul {\n",
       "    padding:  0;\n",
       "    margin: 0;\n",
       "    border-style: solid;\n",
       "    font-size: xx-small;\n",
       "}\n",
       ".contnr.cnul,.lbl.cnul {\n",
       "    border-color: var(--border-color-nul);\n",
       "    border-width: var(--border-width-nul);\n",
       "    border-radius: var(--border-width-nul);\n",
       "}\n",
       ".contnr.c0,.lbl.c0 {\n",
       "    border-color: var(--border-color0);\n",
       "    border-width: var(--border-width0);\n",
       "    border-radius: var(--border-width0);\n",
       "}\n",
       ".contnr.c1,.lbl.c1 {\n",
       "    border-color: var(--border-color1);\n",
       "    border-width: var(--border-width1);\n",
       "    border-radius: var(--border-width1);\n",
       "}\n",
       ".contnr.c2,.lbl.c2 {\n",
       "    border-color: var(--border-color2);\n",
       "    border-width: var(--border-width2);\n",
       "    border-radius: var(--border-width2);\n",
       "}\n",
       ".contnr.c3,.lbl.c3 {\n",
       "    border-color: var(--border-color3);\n",
       "    border-width: var(--border-width3);\n",
       "    border-radius: var(--border-width3);\n",
       "}\n",
       ".contnr.c4,.lbl.c4 {\n",
       "    border-color: var(--border-color4);\n",
       "    border-width: var(--border-width4);\n",
       "    border-radius: var(--border-width4);\n",
       "}\n",
       "span.plain {\n",
       "    display: inline-block;\n",
       "    white-space: pre-wrap;\n",
       "}\n",
       ".plain {\n",
       "    background-color: #ffffff;\n",
       "}\n",
       ".plain.l,.contnr.l,.contnr.l>.lbl {\n",
       "    border-left-style: dotted\n",
       "}\n",
       ".plain.r,.contnr.r,.contnr.r>.lbl {\n",
       "    border-right-style: dotted\n",
       "}\n",
       ".plain.lno,.contnr.lno,.contnr.lno>.lbl {\n",
       "    border-left-style: none\n",
       "}\n",
       ".plain.rno,.contnr.rno,.contnr.rno>.lbl {\n",
       "    border-right-style: none\n",
       "}\n",
       ".plain.l {\n",
       "    padding-left: 4px;\n",
       "    margin-left: 2px;\n",
       "    border-width: var(--border-width-plain);\n",
       "}\n",
       ".plain.r {\n",
       "    padding-right: 4px;\n",
       "    margin-right: 2px;\n",
       "    border-width: var(--border-width-plain);\n",
       "}\n",
       ".lbl {\n",
       "    font-family: monospace;\n",
       "    margin-top: -24px;\n",
       "    margin-left: 20px;\n",
       "    background: #ffffff none repeat scroll 0 0;\n",
       "    padding: 0 6px;\n",
       "    border-style: solid;\n",
       "    display: block;\n",
       "    color: var(--label)\n",
       "}\n",
       ".lbl.trm {\n",
       "    background-attachment: local;\n",
       "    margin-top: 2px;\n",
       "    margin-left: 2px;\n",
       "    padding: 2px 2px;\n",
       "    border-style: none;\n",
       "}\n",
       ".lbl.cnul {\n",
       "    font-size: xx-small;\n",
       "}\n",
       ".lbl.c0 {\n",
       "    font-size: small;\n",
       "}\n",
       ".lbl.c1 {\n",
       "    font-size: small;\n",
       "}\n",
       ".lbl.c2 {\n",
       "    font-size: medium;\n",
       "}\n",
       ".lbl.c3 {\n",
       "    font-size: medium;\n",
       "}\n",
       ".lbl.c4 {\n",
       "    font-size: large;\n",
       "}\n",
       ".occs, a:link.occs {\n",
       "    font-size: small;\n",
       "}\n",
       "\n",
       "/* PROVENANCE */\n",
       "\n",
       "div.prov {\n",
       "\tmargin: 40px;\n",
       "\tpadding: 20px;\n",
       "\tborder: 2px solid var(--fog-rim);\n",
       "}\n",
       "div.pline {\n",
       "\tdisplay: flex;\n",
       "\tflex-flow: row nowrap;\n",
       "\tjustify-content: stretch;\n",
       "\talign-items: baseline;\n",
       "}\n",
       "div.p2line {\n",
       "\tmargin-left: 2em;\n",
       "\tdisplay: flex;\n",
       "\tflex-flow: row nowrap;\n",
       "\tjustify-content: stretch;\n",
       "\talign-items: baseline;\n",
       "}\n",
       "div.psline {\n",
       "\tdisplay: flex;\n",
       "\tflex-flow: row nowrap;\n",
       "\tjustify-content: stretch;\n",
       "\talign-items: baseline;\n",
       "\tbackground-color: var(--gold-mist-back);\n",
       "}\n",
       "div.pname {\n",
       "\tflex: 0 0 5rem;\n",
       "\tfont-weight: bold;\n",
       "}\n",
       "div.pval {\n",
       "    flex: 1 1 auto;\n",
       "}\n",
       "\n",
       ":root {\n",
       "\t--node:               hsla(120, 100%,  20%, 1.0  );\n",
       "\t--label:              hsla(  0, 100%,  20%, 1.0  );\n",
       "\t--tfsechead:          hsla(  0, 100%,  25%, 1.0  );\n",
       "\t--structure:          hsla(120, 100%,  25%, 1.0  );\n",
       "\t--features:           hsla(  0,   0%,  30%, 1.0  );\n",
       "  --text-color:         hsla( 60,  80%,  10%, 1.0  );\n",
       "  --lex-color:          hsla(220,  90%,  60%, 1.0  );\n",
       "  --meta-color:         hsla(  0,   0%,  90%, 0.7  );\n",
       "  --meta-width:         3px;\n",
       "  --border-color-nul:   hsla(  0,   0%,  90%, 0.5  );\n",
       "  --border-color0:      hsla(  0,   0%,  90%, 0.9  );\n",
       "  --border-color1:      hsla(  0,   0%,  80%, 0.9  );\n",
       "  --border-color2:      hsla(  0,   0%,  70%, 0.9  );\n",
       "  --border-color3:      hsla(  0,   0%,  80%, 0.8  );\n",
       "  --border-color4:      hsla(  0,   0%,  60%, 0.9  );\n",
       "  --border-width-nul:   2px;\n",
       "  --border-width0:      2px;\n",
       "  --border-width1:      3px;\n",
       "  --border-width2:      4px;\n",
       "  --border-width3:      6px;\n",
       "  --border-width4:      5px;\n",
       "  --border-width-plain: 2px;\n",
       "}\n",
       ".hl {\n",
       "  background-color: var(--hl-strong);\n",
       "}\n",
       "span.hl {\n",
       "\tbackground-color: var(--hl-strong);\n",
       "\tborder-width: 0;\n",
       "\tborder-radius: 2px;\n",
       "\tborder-style: solid;\n",
       "}\n",
       "div.contnr.hl,div.lbl.hl {\n",
       "  background-color: var(--hl-strong);\n",
       "}\n",
       "div.contnr.hl {\n",
       "  border-color: var(--hl-rim) ! important;\n",
       "\tborder-width: 4px ! important;\n",
       "}\n",
       "\n",
       "span.hlbx {\n",
       "\tborder-color: var(--hl-rim);\n",
       "\tborder-width: 4px ! important;\n",
       "\tborder-style: solid;\n",
       "\tborder-radius: 6px;\n",
       "  padding: 4px;\n",
       "  margin: 4px;\n",
       "}\n",
       "\n",
       "span.plain {\n",
       "  display: inline-block;\n",
       "  white-space: pre-wrap;\n",
       "}\n",
       "\n",
       ":root {\n",
       "\t--hl-strong:        hsla( 60, 100%,  70%, 0.9  );\n",
       "\t--hl-rim:           hsla( 55,  80%,  50%, 1.0  );\n",
       "}\n",
       "</style>"
      ],
      "text/plain": [
       "<IPython.core.display.HTML object>"
      ]
     },
     "metadata": {},
     "output_type": "display_data"
    },
    {
     "data": {
      "text/html": [
       "<div><b>Text-Fabric API:</b> names <a target=\"_blank\" href=\"https://annotation.github.io/text-fabric/tf/cheatsheet.html\" title=\"doc\">N F E L T S C TF</a> directly usable</div><hr>"
      ],
      "text/plain": [
       "<IPython.core.display.HTML object>"
      ]
     },
     "metadata": {},
     "output_type": "display_data"
    }
   ],
   "source": [
    "VERSION = '2017'\n",
    "# A = use('bhsa', hoist=globals(), version=VERSION)\n",
    "A = use('bhsa:clone', checkout=\"clone\", hoist=globals(), version=VERSION)"
   ]
  },
  {
   "cell_type": "markdown",
   "id": "reliable-frequency",
   "metadata": {},
   "source": [
    "# Example 10b\n",
    "\n",
    "[Bas Meeuse: Example 10: NTN + object + recipient](https://shebanq.ancient-data.org/hebrew/query?version=2017&id=4437)\n",
    "\n",
    "```\n",
    "[clause focus\n",
    "  [UNORDEREDGROUP\n",
    "    [phrase typ = VP AND NOT function IN (PreO, PtcO)\n",
    "      [word vs = qal AND lex = \"NTN[\"]\n",
    "    ]\n",
    "    [phrase function = Objc]\n",
    "    [phrase function = Cmpl\n",
    "      [word first lex = \"L\"]\n",
    "    ]\n",
    "  ]\n",
    "]\n",
    "OR\n",
    "[clause focus\n",
    "  [UNORDEREDGROUP\n",
    "    [phrase function IN (PreO, PtcO)\n",
    "      [word vs = qal AND lex = \"NTN[\"]\n",
    "    ]\n",
    "    [phrase function = Cmpl\n",
    "      [word first lex = \"L\"]\n",
    "    ]\n",
    "  ]\n",
    "]\n",
    "```"
   ]
  },
  {
   "cell_type": "code",
   "execution_count": 4,
   "id": "arbitrary-adobe",
   "metadata": {},
   "outputs": [
    {
     "name": "stdout",
     "output_type": "stream",
     "text": [
      "2087 results in 675 verses with 5573 words\n"
     ]
    }
   ],
   "source": [
    "(verses, words) = getShebanqData(A, MQL_RESULTS, \"10b\")"
   ]
  },
  {
   "cell_type": "code",
   "execution_count": 5,
   "id": "intense-nickel",
   "metadata": {},
   "outputs": [],
   "source": [
    "query1 = \"\"\"\n",
    "clause\n",
    "  phrase typ=VP function#PreO|PtcO\n",
    "    word vs=qal lex=NTN[\n",
    "  phrase function=Objc\n",
    "  phrase function=Cmpl\n",
    "    =: word lex=L\n",
    "\"\"\"\n",
    "\n",
    "query2 = \"\"\"\n",
    "clause\n",
    "  phrase function=PreO|PtcO\n",
    "    word vs=qal lex=NTN[\n",
    "  phrase function=Cmpl\n",
    "    =: word lex=L\n",
    "\"\"\"  "
   ]
  },
  {
   "cell_type": "code",
   "execution_count": 6,
   "id": "reduced-laptop",
   "metadata": {},
   "outputs": [
    {
     "name": "stdout",
     "output_type": "stream",
     "text": [
      "  1.76s 650 results\n",
      "  1.27s 112 results\n"
     ]
    }
   ],
   "source": [
    "results1 = A.search(query1)\n",
    "results2 = A.search(query2)"
   ]
  },
  {
   "cell_type": "markdown",
   "id": "human-shore",
   "metadata": {},
   "source": [
    "The number of results does not nicely add up to the expected 2087 it is 762.\n",
    "\n",
    "We'll come back to that later.\n",
    "\n",
    "Let's see how we fare when we compare the verses in which results occur, and the words that\n",
    "occur in the results."
   ]
  },
  {
   "cell_type": "code",
   "execution_count": 7,
   "id": "loose-induction",
   "metadata": {},
   "outputs": [
    {
     "name": "stdout",
     "output_type": "stream",
     "text": [
      "580 verses\n",
      "4896 words\n",
      "103 verses\n",
      "677 words\n"
     ]
    }
   ],
   "source": [
    "(tfVerses1, tfWords1) = getTfVerses(A, results1, (0,))\n",
    "(tfVerses2, tfWords2) = getTfVerses(A, results2, (0,))"
   ]
  },
  {
   "cell_type": "markdown",
   "id": "continued-label",
   "metadata": {},
   "source": [
    "We combine the verses and words and test for equality."
   ]
  },
  {
   "cell_type": "code",
   "execution_count": 8,
   "id": "determined-trustee",
   "metadata": {},
   "outputs": [],
   "source": [
    "tfVerses = sorted(set(tfVerses1) | set(tfVerses2))\n",
    "tfWords = sorted(set(tfWords1) | set(tfWords2))"
   ]
  },
  {
   "cell_type": "code",
   "execution_count": 9,
   "id": "nonprofit-north",
   "metadata": {},
   "outputs": [
    {
     "name": "stdout",
     "output_type": "stream",
     "text": [
      "VERSES EQUAL\n",
      "WORDS EQUAL\n"
     ]
    }
   ],
   "source": [
    "compareResults(A, verses, words, tfVerses, tfWords)"
   ]
  },
  {
   "cell_type": "markdown",
   "id": "greater-transcription",
   "metadata": {},
   "source": [
    "Wonderful!"
   ]
  },
  {
   "cell_type": "markdown",
   "id": "twenty-daisy",
   "metadata": {},
   "source": [
    "In order to show results in the natural order, we have to merge them."
   ]
  },
  {
   "cell_type": "code",
   "execution_count": 10,
   "id": "pretty-party",
   "metadata": {},
   "outputs": [],
   "source": [
    "results = sorted(results1 + results2)"
   ]
  },
  {
   "cell_type": "markdown",
   "id": "martial-inside",
   "metadata": {},
   "source": [
    "Let's find the first result of query2 in the merged sequence:"
   ]
  },
  {
   "cell_type": "code",
   "execution_count": 11,
   "id": "powerful-danish",
   "metadata": {},
   "outputs": [
    {
     "data": {
      "text/plain": [
       "5"
      ]
     },
     "execution_count": 11,
     "metadata": {},
     "output_type": "execute_result"
    }
   ],
   "source": [
    "for (i, r) in enumerate(results):\n",
    "    if len(r) == 5:\n",
    "        break\n",
    "i + 1"
   ]
  },
  {
   "cell_type": "code",
   "execution_count": 12,
   "id": "female-puppy",
   "metadata": {},
   "outputs": [
    {
     "data": {
      "text/html": [
       "<p><b>result</b> <i>3</i></p>"
      ],
      "text/plain": [
       "<IPython.core.display.HTML object>"
      ]
     },
     "metadata": {},
     "output_type": "display_data"
    },
    {
     "data": {
      "text/html": [
       "<div class=\"tfsechead rtl\"><a target=\"_blank\" href=\"https://shebanq.ancient-data.org/hebrew/text?book=Genesis&amp;chapter=9&amp;verse=3&amp;version=2017&amp;mr=m&amp;qw=q&amp;tp=txt_p&amp;tr=hb&amp;wget=v&amp;qget=v&amp;nget=vt\" title=\"Show this on SHEBANQ\" sec=\"Genesis 9:3\">Genesis 9:3</a></div><div class=\"rtl children\"><div class=\"contnr c2  rtl  \" ><div class=\"lbl c2  \" ><span class=\"nd\">clause</span></div><div class=\"children hor wrap rtl\"><div class=\"contnr c1  rtl  \" ><div class=\"lbl c1  \" ><span class=\"nd\">phrase</span></div><div class='features'><span class=\"function xft\" ><span class=\"f\">function=</span>Adju</span></div><div class=\"children hor wrap rtl\"><div class=\"contnr c0 trm rtl  \" ><div class=\"lbl c0 trm \" ><a class=\" txtu hbo\" target=\"_blank\" href=\"https://shebanq.ancient-data.org/hebrew/word?version=2017&amp;id=1K\" title=\"Show this on SHEBANQ\"><span class=\"txtu hbo\">כְּ</span></a></div><div class='features'><span class=\"lex xft\" ><span class=\"f\">lex=</span>K</span></div></div><div class=\"contnr c0 trm rtl  \" ><div class=\"lbl c0 trm \" ><a class=\" txtu hbo\" target=\"_blank\" href=\"https://shebanq.ancient-data.org/hebrew/word?version=2017&amp;id=1JRQn\" title=\"Show this on SHEBANQ\"><span class=\"txtu hbo\">יֶ֣רֶק </span></a></div><div class='features'><span class=\"lex xft\" ><span class=\"f\">lex=</span>JRQ/</span></div></div><div class=\"contnr c0 trm rtl  \" ><div class=\"lbl c0 trm \" ><a class=\" txtu hbo\" target=\"_blank\" href=\"https://shebanq.ancient-data.org/hebrew/word?version=2017&amp;id=1OFBn\" title=\"Show this on SHEBANQ\"><span class=\"txtu hbo\">עֵ֔שֶׂב </span></a></div><div class='features'><span class=\"lex xft\" ><span class=\"f\">lex=</span>&lt;FB/</span></div></div></div></div><div class=\"contnr c1  rtl  hl\" ><div class=\"lbl c1  hl\" ><span class=\"nd\">phrase</span></div><div class='features'><span class=\"function xft\" ><span class=\"f\">function=</span>Pred</span></div><div class=\"children hor wrap rtl\"><div class=\"contnr c0 trm rtl  hl\" ><div class=\"lbl c0 trm hl\" ><a class=\" txtu hbo\" target=\"_blank\" href=\"https://shebanq.ancient-data.org/hebrew/word?version=2017&amp;id=1NTNv\" title=\"Show this on SHEBANQ\"><span class=\"txtu hbo\">נָתַ֥תִּי </span></a></div><div class='features'><span class=\"lex xft\" ><span class=\"f\">lex=</span>NTN[</span><span class=\"vs xft\" ><span class=\"f\">vs=</span>qal</span></div></div></div></div><div class=\"contnr c1  rtl  hl\" ><div class=\"lbl c1  hl\" ><span class=\"nd\">phrase</span></div><div class='features'><span class=\"function xft\" ><span class=\"f\">function=</span>Cmpl</span></div><div class=\"children hor wrap rtl\"><div class=\"contnr c0 trm rtl  hl\" ><div class=\"lbl c0 trm hl\" ><a class=\" txtu hbo\" target=\"_blank\" href=\"https://shebanq.ancient-data.org/hebrew/word?version=2017&amp;id=1L\" title=\"Show this on SHEBANQ\"><span class=\"txtu hbo\">לָכֶ֖ם </span></a></div><div class='features'><span class=\"lex xft\" ><span class=\"f\">lex=</span>L</span></div></div></div></div><div class=\"contnr c1  rtl  hl\" ><div class=\"lbl c1  hl\" ><span class=\"nd\">phrase</span></div><div class='features'><span class=\"function xft\" ><span class=\"f\">function=</span>Objc</span></div><div class=\"children hor wrap rtl\"><div class=\"contnr c0 trm rtl  \" ><div class=\"lbl c0 trm \" ><a class=\" txtu hbo\" target=\"_blank\" href=\"https://shebanq.ancient-data.org/hebrew/word?version=2017&amp;id=1AT\" title=\"Show this on SHEBANQ\"><span class=\"txtu hbo\">אֶת־</span></a></div><div class='features'><span class=\"lex xft\" ><span class=\"f\">lex=</span>>T</span></div></div><div class=\"contnr c0 trm rtl  \" ><div class=\"lbl c0 trm \" ><a class=\" txtu hbo\" target=\"_blank\" href=\"https://shebanq.ancient-data.org/hebrew/word?version=2017&amp;id=1KLn\" title=\"Show this on SHEBANQ\"><span class=\"txtu hbo\">כֹּֽל׃ </span></a></div><div class='features'><span class=\"lex xft\" ><span class=\"f\">lex=</span>KL/</span></div></div></div></div></div></div></div>"
      ],
      "text/plain": [
       "<IPython.core.display.HTML object>"
      ]
     },
     "metadata": {},
     "output_type": "display_data"
    },
    {
     "data": {
      "text/html": [
       "<p><b>result</b> <i>4</i></p>"
      ],
      "text/plain": [
       "<IPython.core.display.HTML object>"
      ]
     },
     "metadata": {},
     "output_type": "display_data"
    },
    {
     "data": {
      "text/html": [
       "<div class=\"tfsechead rtl\"><a target=\"_blank\" href=\"https://shebanq.ancient-data.org/hebrew/text?book=Genesis&amp;chapter=12&amp;verse=7&amp;version=2017&amp;mr=m&amp;qw=q&amp;tp=txt_p&amp;tr=hb&amp;wget=v&amp;qget=v&amp;nget=vt\" title=\"Show this on SHEBANQ\" sec=\"Genesis 12:7\">Genesis 12:7</a></div><div class=\"rtl children\"><div class=\"contnr c2  rtl  \" ><div class=\"lbl c2  \" ><span class=\"nd\">clause</span></div><div class=\"children hor wrap rtl\"><div class=\"contnr c1  rtl  hl\" ><div class=\"lbl c1  hl\" ><span class=\"nd\">phrase</span></div><div class='features'><span class=\"function xft\" ><span class=\"f\">function=</span>Cmpl</span></div><div class=\"children hor wrap rtl\"><div class=\"contnr c0 trm rtl  hl\" ><div class=\"lbl c0 trm hl\" ><a class=\" txtu hbo\" target=\"_blank\" href=\"https://shebanq.ancient-data.org/hebrew/word?version=2017&amp;id=1L\" title=\"Show this on SHEBANQ\"><span class=\"txtu hbo\">לְ</span></a></div><div class='features'><span class=\"lex xft\" ><span class=\"f\">lex=</span>L</span></div></div><div class=\"contnr c0 trm rtl  \" ><div class=\"lbl c0 trm \" ><a class=\" txtu hbo\" target=\"_blank\" href=\"https://shebanq.ancient-data.org/hebrew/word?version=2017&amp;id=1ZROn\" title=\"Show this on SHEBANQ\"><span class=\"txtu hbo\">זַ֨רְעֲךָ֔ </span></a></div><div class='features'><span class=\"lex xft\" ><span class=\"f\">lex=</span>ZR&lt;/</span></div></div></div></div><div class=\"contnr c1  rtl  hl\" ><div class=\"lbl c1  hl\" ><span class=\"nd\">phrase</span></div><div class='features'><span class=\"function xft\" ><span class=\"f\">function=</span>Pred</span></div><div class=\"children hor wrap rtl\"><div class=\"contnr c0 trm rtl  hl\" ><div class=\"lbl c0 trm hl\" ><a class=\" txtu hbo\" target=\"_blank\" href=\"https://shebanq.ancient-data.org/hebrew/word?version=2017&amp;id=1NTNv\" title=\"Show this on SHEBANQ\"><span class=\"txtu hbo\">אֶתֵּ֖ן </span></a></div><div class='features'><span class=\"lex xft\" ><span class=\"f\">lex=</span>NTN[</span><span class=\"vs xft\" ><span class=\"f\">vs=</span>qal</span></div></div></div></div><div class=\"contnr c1  rtl  hl\" ><div class=\"lbl c1  hl\" ><span class=\"nd\">phrase</span></div><div class='features'><span class=\"function xft\" ><span class=\"f\">function=</span>Objc</span></div><div class=\"children hor wrap rtl\"><div class=\"contnr c0 trm rtl  \" ><div class=\"lbl c0 trm \" ><a class=\" txtu hbo\" target=\"_blank\" href=\"https://shebanq.ancient-data.org/hebrew/word?version=2017&amp;id=1AT\" title=\"Show this on SHEBANQ\"><span class=\"txtu hbo\">אֶת־</span></a></div><div class='features'><span class=\"lex xft\" ><span class=\"f\">lex=</span>>T</span></div></div><div class=\"contnr c0 trm rtl  \" ><div class=\"lbl c0 trm \" ><a class=\" txtu hbo\" target=\"_blank\" href=\"https://shebanq.ancient-data.org/hebrew/word?version=2017&amp;id=1H\" title=\"Show this on SHEBANQ\"><span class=\"txtu hbo\">הָ</span></a></div><div class='features'><span class=\"lex xft\" ><span class=\"f\">lex=</span>H</span></div></div><div class=\"contnr c0 trm rtl  \" ><div class=\"lbl c0 trm \" ><a class=\" txtu hbo\" target=\"_blank\" href=\"https://shebanq.ancient-data.org/hebrew/word?version=2017&amp;id=1ARYn\" title=\"Show this on SHEBANQ\"><span class=\"txtu hbo\">אָ֣רֶץ </span></a></div><div class='features'><span class=\"lex xft\" ><span class=\"f\">lex=</span>>RY/</span></div></div><div class=\"contnr c0 trm rtl  \" ><div class=\"lbl c0 trm \" ><a class=\" txtu hbo\" target=\"_blank\" href=\"https://shebanq.ancient-data.org/hebrew/word?version=2017&amp;id=1H\" title=\"Show this on SHEBANQ\"><span class=\"txtu hbo\">הַ</span></a></div><div class='features'><span class=\"lex xft\" ><span class=\"f\">lex=</span>H</span></div></div><div class=\"contnr c0 trm rtl  \" ><div class=\"lbl c0 trm \" ><a class=\" txtu hbo\" target=\"_blank\" href=\"https://shebanq.ancient-data.org/hebrew/word?version=2017&amp;id=1ZAT\" title=\"Show this on SHEBANQ\"><span class=\"txtu hbo\">זֹּ֑את </span></a></div><div class='features'><span class=\"lex xft\" ><span class=\"f\">lex=</span>Z>T</span></div></div></div></div></div></div></div>"
      ],
      "text/plain": [
       "<IPython.core.display.HTML object>"
      ]
     },
     "metadata": {},
     "output_type": "display_data"
    },
    {
     "data": {
      "text/html": [
       "<p><b>result</b> <i>5</i></p>"
      ],
      "text/plain": [
       "<IPython.core.display.HTML object>"
      ]
     },
     "metadata": {},
     "output_type": "display_data"
    },
    {
     "data": {
      "text/html": [
       "<div class=\"tfsechead rtl\"><a target=\"_blank\" href=\"https://shebanq.ancient-data.org/hebrew/text?book=Genesis&amp;chapter=13&amp;verse=15&amp;version=2017&amp;mr=m&amp;qw=q&amp;tp=txt_p&amp;tr=hb&amp;wget=v&amp;qget=v&amp;nget=vt\" title=\"Show this on SHEBANQ\" sec=\"Genesis 13:15\">Genesis 13:15</a></div><div class=\"rtl children\"><div class=\"contnr c2  rtl  \" ><div class=\"lbl c2  \" ><span class=\"nd\">clause</span></div><div class=\"children hor wrap rtl\"><div class=\"contnr c1  rtl  hl\" ><div class=\"lbl c1  hl\" ><span class=\"nd\">phrase</span></div><div class='features'><span class=\"function xft\" ><span class=\"f\">function=</span>Cmpl</span></div><div class=\"children hor wrap rtl\"><div class=\"contnr c0 trm rtl  hl\" ><div class=\"lbl c0 trm hl\" ><a class=\" txtu hbo\" target=\"_blank\" href=\"https://shebanq.ancient-data.org/hebrew/word?version=2017&amp;id=1L\" title=\"Show this on SHEBANQ\"><span class=\"txtu hbo\">לְךָ֣ </span></a></div><div class='features'><span class=\"lex xft\" ><span class=\"f\">lex=</span>L</span></div></div></div></div><div class=\"contnr c1  rtl  hl\" ><div class=\"lbl c1  hl\" ><span class=\"nd\">phrase</span></div><div class='features'><span class=\"function xft\" ><span class=\"f\">function=</span>PreO</span></div><div class=\"children hor wrap rtl\"><div class=\"contnr c0 trm rtl  hl\" ><div class=\"lbl c0 trm hl\" ><a class=\" txtu hbo\" target=\"_blank\" href=\"https://shebanq.ancient-data.org/hebrew/word?version=2017&amp;id=1NTNv\" title=\"Show this on SHEBANQ\"><span class=\"txtu hbo\">אֶתְּנֶ֑נָּה </span></a></div><div class='features'><span class=\"lex xft\" ><span class=\"f\">lex=</span>NTN[</span><span class=\"vs xft\" ><span class=\"f\">vs=</span>qal</span></div></div></div></div></div></div></div>"
      ],
      "text/plain": [
       "<IPython.core.display.HTML object>"
      ]
     },
     "metadata": {},
     "output_type": "display_data"
    },
    {
     "data": {
      "text/html": [
       "<p><b>result</b> <i>6</i></p>"
      ],
      "text/plain": [
       "<IPython.core.display.HTML object>"
      ]
     },
     "metadata": {},
     "output_type": "display_data"
    },
    {
     "data": {
      "text/html": [
       "<div class=\"tfsechead rtl\"><a target=\"_blank\" href=\"https://shebanq.ancient-data.org/hebrew/text?book=Genesis&amp;chapter=13&amp;verse=17&amp;version=2017&amp;mr=m&amp;qw=q&amp;tp=txt_p&amp;tr=hb&amp;wget=v&amp;qget=v&amp;nget=vt\" title=\"Show this on SHEBANQ\" sec=\"Genesis 13:17\">Genesis 13:17</a></div><div class=\"rtl children\"><div class=\"contnr c2  rtl  \" ><div class=\"lbl c2  \" ><span class=\"nd\">clause</span></div><div class=\"children hor wrap rtl\"><div class=\"contnr c1  rtl  \" ><div class=\"lbl c1  \" ><span class=\"nd\">phrase</span></div><div class='features'><span class=\"function xft\" ><span class=\"f\">function=</span>Conj</span></div><div class=\"children hor wrap rtl\"><div class=\"contnr c0 trm rtl  \" ><div class=\"lbl c0 trm \" ><a class=\" txtu hbo\" target=\"_blank\" href=\"https://shebanq.ancient-data.org/hebrew/word?version=2017&amp;id=1KJ\" title=\"Show this on SHEBANQ\"><span class=\"txtu hbo\">כִּ֥י </span></a></div><div class='features'><span class=\"lex xft\" ><span class=\"f\">lex=</span>KJ</span></div></div></div></div><div class=\"contnr c1  rtl  hl\" ><div class=\"lbl c1  hl\" ><span class=\"nd\">phrase</span></div><div class='features'><span class=\"function xft\" ><span class=\"f\">function=</span>Cmpl</span></div><div class=\"children hor wrap rtl\"><div class=\"contnr c0 trm rtl  hl\" ><div class=\"lbl c0 trm hl\" ><a class=\" txtu hbo\" target=\"_blank\" href=\"https://shebanq.ancient-data.org/hebrew/word?version=2017&amp;id=1L\" title=\"Show this on SHEBANQ\"><span class=\"txtu hbo\">לְךָ֖ </span></a></div><div class='features'><span class=\"lex xft\" ><span class=\"f\">lex=</span>L</span></div></div></div></div><div class=\"contnr c1  rtl  hl\" ><div class=\"lbl c1  hl\" ><span class=\"nd\">phrase</span></div><div class='features'><span class=\"function xft\" ><span class=\"f\">function=</span>PreO</span></div><div class=\"children hor wrap rtl\"><div class=\"contnr c0 trm rtl  hl\" ><div class=\"lbl c0 trm hl\" ><a class=\" txtu hbo\" target=\"_blank\" href=\"https://shebanq.ancient-data.org/hebrew/word?version=2017&amp;id=1NTNv\" title=\"Show this on SHEBANQ\"><span class=\"txtu hbo\">אֶתְּנֶֽנָּה׃ </span></a></div><div class='features'><span class=\"lex xft\" ><span class=\"f\">lex=</span>NTN[</span><span class=\"vs xft\" ><span class=\"f\">vs=</span>qal</span></div></div></div></div></div></div></div>"
      ],
      "text/plain": [
       "<IPython.core.display.HTML object>"
      ]
     },
     "metadata": {},
     "output_type": "display_data"
    },
    {
     "data": {
      "text/html": [
       "<p><b>result</b> <i>7</i></p>"
      ],
      "text/plain": [
       "<IPython.core.display.HTML object>"
      ]
     },
     "metadata": {},
     "output_type": "display_data"
    },
    {
     "data": {
      "text/html": [
       "<div class=\"tfsechead rtl\"><a target=\"_blank\" href=\"https://shebanq.ancient-data.org/hebrew/text?book=Genesis&amp;chapter=14&amp;verse=20&amp;version=2017&amp;mr=m&amp;qw=q&amp;tp=txt_p&amp;tr=hb&amp;wget=v&amp;qget=v&amp;nget=vt\" title=\"Show this on SHEBANQ\" sec=\"Genesis 14:20\">Genesis 14:20</a></div><div class=\"rtl children\"><div class=\"contnr c2  rtl  \" ><div class=\"lbl c2  \" ><span class=\"nd\">clause</span></div><div class=\"children hor wrap rtl\"><div class=\"contnr c1  rtl  \" ><div class=\"lbl c1  \" ><span class=\"nd\">phrase</span></div><div class='features'><span class=\"function xft\" ><span class=\"f\">function=</span>Conj</span></div><div class=\"children hor wrap rtl\"><div class=\"contnr c0 trm rtl  \" ><div class=\"lbl c0 trm \" ><a class=\" txtu hbo\" target=\"_blank\" href=\"https://shebanq.ancient-data.org/hebrew/word?version=2017&amp;id=1W\" title=\"Show this on SHEBANQ\"><span class=\"txtu hbo\">וַ</span></a></div><div class='features'><span class=\"lex xft\" ><span class=\"f\">lex=</span>W</span></div></div></div></div><div class=\"contnr c1  rtl  hl\" ><div class=\"lbl c1  hl\" ><span class=\"nd\">phrase</span></div><div class='features'><span class=\"function xft\" ><span class=\"f\">function=</span>Pred</span></div><div class=\"children hor wrap rtl\"><div class=\"contnr c0 trm rtl  hl\" ><div class=\"lbl c0 trm hl\" ><a class=\" txtu hbo\" target=\"_blank\" href=\"https://shebanq.ancient-data.org/hebrew/word?version=2017&amp;id=1NTNv\" title=\"Show this on SHEBANQ\"><span class=\"txtu hbo\">יִּתֶּן־</span></a></div><div class='features'><span class=\"lex xft\" ><span class=\"f\">lex=</span>NTN[</span><span class=\"vs xft\" ><span class=\"f\">vs=</span>qal</span></div></div></div></div><div class=\"contnr c1  rtl  hl\" ><div class=\"lbl c1  hl\" ><span class=\"nd\">phrase</span></div><div class='features'><span class=\"function xft\" ><span class=\"f\">function=</span>Cmpl</span></div><div class=\"children hor wrap rtl\"><div class=\"contnr c0 trm rtl  hl\" ><div class=\"lbl c0 trm hl\" ><a class=\" txtu hbo\" target=\"_blank\" href=\"https://shebanq.ancient-data.org/hebrew/word?version=2017&amp;id=1L\" title=\"Show this on SHEBANQ\"><span class=\"txtu hbo\">לֹ֥ו </span></a></div><div class='features'><span class=\"lex xft\" ><span class=\"f\">lex=</span>L</span></div></div></div></div><div class=\"contnr c1  rtl  hl\" ><div class=\"lbl c1  hl\" ><span class=\"nd\">phrase</span></div><div class='features'><span class=\"function xft\" ><span class=\"f\">function=</span>Objc</span></div><div class=\"children hor wrap rtl\"><div class=\"contnr c0 trm rtl  \" ><div class=\"lbl c0 trm \" ><a class=\" txtu hbo\" target=\"_blank\" href=\"https://shebanq.ancient-data.org/hebrew/word?version=2017&amp;id=1MOFRn\" title=\"Show this on SHEBANQ\"><span class=\"txtu hbo\">מַעֲשֵׂ֖ר </span></a></div><div class='features'><span class=\"lex xft\" ><span class=\"f\">lex=</span>M&lt;FR/</span></div></div><div class=\"contnr c0 trm rtl  \" ><div class=\"lbl c0 trm \" ><a class=\" txtu hbo\" target=\"_blank\" href=\"https://shebanq.ancient-data.org/hebrew/word?version=2017&amp;id=1MN\" title=\"Show this on SHEBANQ\"><span class=\"txtu hbo\">מִ</span></a></div><div class='features'><span class=\"lex xft\" ><span class=\"f\">lex=</span>MN</span></div></div><div class=\"contnr c0 trm rtl  \" ><div class=\"lbl c0 trm \" ><a class=\" txtu hbo\" target=\"_blank\" href=\"https://shebanq.ancient-data.org/hebrew/word?version=2017&amp;id=1KLn\" title=\"Show this on SHEBANQ\"><span class=\"txtu hbo\">כֹּֽל׃ </span></a></div><div class='features'><span class=\"lex xft\" ><span class=\"f\">lex=</span>KL/</span></div></div></div></div></div></div></div>"
      ],
      "text/plain": [
       "<IPython.core.display.HTML object>"
      ]
     },
     "metadata": {},
     "output_type": "display_data"
    }
   ],
   "source": [
    "A.show(results, condenseType=\"clause\", start=3, end=7)"
   ]
  },
  {
   "cell_type": "markdown",
   "id": "running-scheme",
   "metadata": {},
   "source": [
    "## Counting results\n",
    "\n",
    "Why is there this big discrepancy in results between SHEBANQ and TF?\n",
    "\n",
    "Lets work towards a simpler case that shows the same problem.\n",
    "First we restrict ourselves to the second `OR` part."
   ]
  },
  {
   "cell_type": "markdown",
   "id": "mechanical-driver",
   "metadata": {},
   "source": [
    "[Dirk Roorda: Example 10a: number of results](https://shebanq.ancient-data.org/hebrew/query?version=2017&id=4469)\n",
    "\n",
    "```\n",
    "[clause focus\n",
    "  [UNORDEREDGROUP\n",
    "    [phrase function IN (PreO, PtcO)\n",
    "      [word vs = qal AND lex = \"NTN[\"]\n",
    "    ]\n",
    "    [phrase function = Cmpl\n",
    "      [word first lex = \"L\"]\n",
    "    ]\n",
    "  ]\n",
    "]\n",
    "```"
   ]
  },
  {
   "cell_type": "code",
   "execution_count": 13,
   "id": "seventh-embassy",
   "metadata": {},
   "outputs": [
    {
     "name": "stdout",
     "output_type": "stream",
     "text": [
      "217 results in 103 verses with 677 words\n"
     ]
    }
   ],
   "source": [
    "(verses, words) = getShebanqData(A, MQL_RESULTS, \"10b1\")"
   ]
  },
  {
   "cell_type": "code",
   "execution_count": 14,
   "id": "turkish-racing",
   "metadata": {},
   "outputs": [],
   "source": [
    "query = \"\"\"\n",
    "clause\n",
    "  phrase function=PreO|PtcO\n",
    "    word vs=qal lex=NTN[\n",
    "  phrase function=Cmpl\n",
    "    =: word lex=L\n",
    "\"\"\"  "
   ]
  },
  {
   "cell_type": "code",
   "execution_count": 15,
   "id": "declared-spending",
   "metadata": {},
   "outputs": [
    {
     "name": "stdout",
     "output_type": "stream",
     "text": [
      "  1.25s 112 results\n"
     ]
    }
   ],
   "source": [
    "results = A.search(query)"
   ]
  },
  {
   "cell_type": "code",
   "execution_count": 16,
   "id": "loose-lewis",
   "metadata": {},
   "outputs": [
    {
     "name": "stdout",
     "output_type": "stream",
     "text": [
      "103 verses\n",
      "677 words\n"
     ]
    }
   ],
   "source": [
    "(tfVerses, tfWords) = getTfVerses(A, results, (0,))"
   ]
  },
  {
   "cell_type": "code",
   "execution_count": 17,
   "id": "robust-sherman",
   "metadata": {},
   "outputs": [
    {
     "name": "stdout",
     "output_type": "stream",
     "text": [
      "VERSES EQUAL\n",
      "WORDS EQUAL\n"
     ]
    }
   ],
   "source": [
    "compareResults(A, verses, words, tfVerses, tfWords)"
   ]
  },
  {
   "cell_type": "markdown",
   "id": "conservative-hudson",
   "metadata": {},
   "source": [
    "Let's make it even simpler, we remove the unordered group:\n",
    "\n",
    "[Dirk Roorda: Example10b: continued](https://shebanq.ancient-data.org/hebrew/query?version=2017&id=4470)\n",
    "\n",
    "```\n",
    "[clause focus\n",
    "    [phrase function IN (PreO, PtcO)\n",
    "      [word vs = qal AND lex = \"NTN[\"]\n",
    "    ]\n",
    "    [phrase function = Cmpl\n",
    "      [word first lex = \"L\"]\n",
    "    ]\n",
    "]\n",
    "```"
   ]
  },
  {
   "cell_type": "code",
   "execution_count": 18,
   "id": "attended-baseball",
   "metadata": {},
   "outputs": [
    {
     "name": "stdout",
     "output_type": "stream",
     "text": [
      "63 results in 63 verses with 406 words\n"
     ]
    }
   ],
   "source": [
    "(verses, words) = getShebanqData(A, MQL_RESULTS, \"10b2\")"
   ]
  },
  {
   "cell_type": "code",
   "execution_count": 19,
   "id": "forced-guatemala",
   "metadata": {},
   "outputs": [],
   "source": [
    "query = \"\"\"\n",
    "clause\n",
    "  phrase function=PreO|PtcO\n",
    "    word vs=qal lex=NTN[\n",
    "  <: phrase function=Cmpl\n",
    "    =: word lex=L\n",
    "\"\"\"  "
   ]
  },
  {
   "cell_type": "code",
   "execution_count": 20,
   "id": "wireless-custody",
   "metadata": {},
   "outputs": [
    {
     "name": "stdout",
     "output_type": "stream",
     "text": [
      "  1.22s 63 results\n"
     ]
    }
   ],
   "source": [
    "results = A.search(query)"
   ]
  },
  {
   "cell_type": "code",
   "execution_count": 21,
   "id": "indie-plenty",
   "metadata": {},
   "outputs": [
    {
     "name": "stdout",
     "output_type": "stream",
     "text": [
      " 63 verses\n",
      "406 words\n"
     ]
    }
   ],
   "source": [
    "(tfVerses, tfWords) = getTfVerses(A, results, (0,))"
   ]
  },
  {
   "cell_type": "code",
   "execution_count": 22,
   "id": "reliable-swedish",
   "metadata": {},
   "outputs": [
    {
     "name": "stdout",
     "output_type": "stream",
     "text": [
      "VERSES EQUAL\n",
      "WORDS EQUAL\n"
     ]
    }
   ],
   "source": [
    "compareResults(A, verses, words, tfVerses, tfWords)"
   ]
  },
  {
   "cell_type": "markdown",
   "id": "former-hearing",
   "metadata": {},
   "source": [
    "The difference occurs when counting the results of a query with `UNORDEREDGROUP` in it.\n",
    "\n",
    "Let's try to make a minimal example.\n",
    "\n",
    "[Dirk Roorda: Example 10b: minimal](https://shebanq.ancient-data.org/hebrew/query?version=2017&id=4471)\n",
    "\n",
    "```\n",
    "[clause\n",
    "  [UNORDEREDGROUP\n",
    "    [phrase function=Pred\n",
    "      [word focus lex=\"NTN[\"]\n",
    "    ]\n",
    "    [phrase function=Subj\n",
    "      [word focus lex=\"HJ>\"]\n",
    "    ]\n",
    "  ]\n",
    "]\n",
    "```"
   ]
  },
  {
   "cell_type": "code",
   "execution_count": 23,
   "id": "colored-tract",
   "metadata": {},
   "outputs": [
    {
     "name": "stdout",
     "output_type": "stream",
     "text": [
      "8 results in 4 verses with 8 words\n"
     ]
    }
   ],
   "source": [
    "(verses, words) = getShebanqData(A, MQL_RESULTS, \"10bm\")"
   ]
  },
  {
   "cell_type": "code",
   "execution_count": 24,
   "id": "coated-engagement",
   "metadata": {},
   "outputs": [],
   "source": [
    "query = \"\"\"\n",
    "clause\n",
    "  phrase function=Pred\n",
    "    word lex=NTN[\n",
    "  phrase function=Subj\n",
    "    =: word lex=HJ>\n",
    "\"\"\"  "
   ]
  },
  {
   "cell_type": "code",
   "execution_count": 25,
   "id": "mineral-visitor",
   "metadata": {},
   "outputs": [
    {
     "name": "stdout",
     "output_type": "stream",
     "text": [
      "  1.30s 4 results\n"
     ]
    }
   ],
   "source": [
    "results = A.search(query)"
   ]
  },
  {
   "cell_type": "code",
   "execution_count": 26,
   "id": "wicked-buffalo",
   "metadata": {},
   "outputs": [
    {
     "data": {
      "text/html": [
       "<table><tr class=\"tf rtl\"><th class=\"tf rtl\">n</th><th class=\"tf rtl\">p</th><th class=\"tf rtl\">clause</th><th class=\"tf\">phrase</th><th class=\"tf\">word</th><th class=\"tf\">phrase</th><th class=\"tf\">word</th></tr>\n",
       "<tr class=\"tf rtl\"><td class=\"tf rtl\">1</td><td class=\"tf rtl\"><span class=\"tfsechead ltr\"><a target=\"_blank\" href=\"https://shebanq.ancient-data.org/hebrew/text?book=Genesis&amp;chapter=3&amp;verse=12&amp;version=2017&amp;mr=m&amp;qw=q&amp;tp=txt_p&amp;tr=hb&amp;wget=v&amp;qget=v&amp;nget=vt\" title=\"Show this on SHEBANQ\" sec=\"Genesis 3:12\">Genesis 3:12</a></span></td><td class=\"tf rtl\"><span class=\"rtl ubd\"><span class=\"plain rtl  hlbx\" ><span class=\"plain rtl  hlbx\" ><span class=\"plain rtl  hl\" ><span class=\"txtu hbo\">הִ֛וא </span></span></span><span class=\"plain rtl  hlbx\" ><span class=\"plain rtl  hl\" ><span class=\"txtu hbo\">נָֽתְנָה־</span></span></span><span class=\"txtu hbo\">לִּ֥י </span><span class=\"txtu hbo\">מִן־</span><span class=\"txtu hbo\">הָ</span><span class=\"txtu hbo\">עֵ֖ץ </span></span></span></td><td class=\"tf rtl\"><span class=\"rtl ubd\"><span class=\"plain rtl  hlbx\" ><span class=\"plain rtl  hl\" ><span class=\"txtu hbo\">נָֽתְנָה־</span></span></span></span></td><td class=\"tf rtl\"><span class=\"rtl ubd\"><span class=\"plain rtl  hl\" ><span class=\"txtu hbo\">נָֽתְנָה־</span></span></span></td><td class=\"tf rtl\"><span class=\"rtl ubd\"><span class=\"plain rtl  hlbx\" ><span class=\"plain rtl  hl\" ><span class=\"txtu hbo\">הִ֛וא </span></span></span></span></td><td class=\"tf rtl\"><span class=\"rtl ubd\"><span class=\"plain rtl  hl\" ><span class=\"txtu hbo\">הִ֛וא </span></span></span></td></tr>\n",
       "<tr class=\"tf rtl\"><td class=\"tf rtl\">2</td><td class=\"tf rtl\"><span class=\"tfsechead ltr\"><a target=\"_blank\" href=\"https://shebanq.ancient-data.org/hebrew/text?book=Genesis&amp;chapter=38&amp;verse=14&amp;version=2017&amp;mr=m&amp;qw=q&amp;tp=txt_p&amp;tr=hb&amp;wget=v&amp;qget=v&amp;nget=vt\" title=\"Show this on SHEBANQ\" sec=\"Genesis 38:14\">Genesis 38:14</a></span></td><td class=\"tf rtl\"><span class=\"rtl ubd\"><span class=\"plain rtl  hlbx\" ><span class=\"txtu hbo\">וְ</span><span class=\"plain rtl  hlbx\" ><span class=\"plain rtl  hl\" ><span class=\"txtu hbo\">הִ֕וא </span></span></span><span class=\"txtu hbo\">לֹֽא־</span><span class=\"plain rtl  hlbx\" ><span class=\"plain rtl  hl\" ><span class=\"txtu hbo\">נִתְּנָ֥ה </span></span></span><span class=\"txtu hbo\">לֹ֖ו </span><span class=\"txtu hbo\">לְ</span><span class=\"txtu hbo\">אִשָּֽׁה׃ </span></span></span></td><td class=\"tf rtl\"><span class=\"rtl ubd\"><span class=\"plain rtl  hlbx\" ><span class=\"plain rtl  hl\" ><span class=\"txtu hbo\">נִתְּנָ֥ה </span></span></span></span></td><td class=\"tf rtl\"><span class=\"rtl ubd\"><span class=\"plain rtl  hl\" ><span class=\"txtu hbo\">נִתְּנָ֥ה </span></span></span></td><td class=\"tf rtl\"><span class=\"rtl ubd\"><span class=\"plain rtl  hlbx\" ><span class=\"plain rtl  hl\" ><span class=\"txtu hbo\">הִ֕וא </span></span></span></span></td><td class=\"tf rtl\"><span class=\"rtl ubd\"><span class=\"plain rtl  hl\" ><span class=\"txtu hbo\">הִ֕וא </span></span></span></td></tr>\n",
       "<tr class=\"tf rtl\"><td class=\"tf rtl\">3</td><td class=\"tf rtl\"><span class=\"tfsechead ltr\"><a target=\"_blank\" href=\"https://shebanq.ancient-data.org/hebrew/text?book=Samuel_I&amp;chapter=18&amp;verse=19&amp;version=2017&amp;mr=m&amp;qw=q&amp;tp=txt_p&amp;tr=hb&amp;wget=v&amp;qget=v&amp;nget=vt\" title=\"Show this on SHEBANQ\" sec=\"1_Samuel 18:19\">1_Samuel 18:19</a></span></td><td class=\"tf rtl\"><span class=\"rtl ubd\"><span class=\"plain rtl  hlbx\" ><span class=\"txtu hbo\">וְ</span><span class=\"plain rtl  hlbx\" ><span class=\"plain rtl  hl\" ><span class=\"txtu hbo\">הִ֧יא </span></span></span><span class=\"plain rtl  hlbx\" ><span class=\"plain rtl  hl\" ><span class=\"txtu hbo\">נִתְּנָ֛ה </span></span></span><span class=\"txtu hbo\">לְ</span><span class=\"txtu hbo\">עַדְרִיאֵ֥ל </span><span class=\"txtu hbo\">הַ</span><span class=\"txtu hbo\">מְּחֹלָתִ֖י </span><span class=\"txtu hbo\">לְ</span><span class=\"txtu hbo\">אִשָּֽׁה׃ </span></span></span></td><td class=\"tf rtl\"><span class=\"rtl ubd\"><span class=\"plain rtl  hlbx\" ><span class=\"plain rtl  hl\" ><span class=\"txtu hbo\">נִתְּנָ֛ה </span></span></span></span></td><td class=\"tf rtl\"><span class=\"rtl ubd\"><span class=\"plain rtl  hl\" ><span class=\"txtu hbo\">נִתְּנָ֛ה </span></span></span></td><td class=\"tf rtl\"><span class=\"rtl ubd\"><span class=\"plain rtl  hlbx\" ><span class=\"plain rtl  hl\" ><span class=\"txtu hbo\">הִ֧יא </span></span></span></span></td><td class=\"tf rtl\"><span class=\"rtl ubd\"><span class=\"plain rtl  hl\" ><span class=\"txtu hbo\">הִ֧יא </span></span></span></td></tr>\n",
       "<tr class=\"tf rtl\"><td class=\"tf rtl\">4</td><td class=\"tf rtl\"><span class=\"tfsechead ltr\"><a target=\"_blank\" href=\"https://shebanq.ancient-data.org/hebrew/text?book=Daniel&amp;chapter=11&amp;verse=6&amp;version=2017&amp;mr=m&amp;qw=q&amp;tp=txt_p&amp;tr=hb&amp;wget=v&amp;qget=v&amp;nget=vt\" title=\"Show this on SHEBANQ\" sec=\"Daniel 11:6\">Daniel 11:6</a></span></td><td class=\"tf rtl\"><span class=\"rtl ubd\"><span class=\"plain rtl  hlbx\" ><span class=\"txtu hbo\">וְ</span><span class=\"plain rtl  hlbx\" ><span class=\"plain rtl  hl\" ><span class=\"txtu hbo\">תִנָּתֵ֨ן </span></span></span><span class=\"plain rtl  hlbx\" ><span class=\"plain rtl  hl\" ><span class=\"txtu hbo\">הִ֤יא </span></span><span class=\"txtu hbo\">וּ</span><span class=\"txtu hbo\">מְבִיאֶ֨יהָ֙ </span><span class=\"txtu hbo\">וְ</span><span class=\"txtu hbo\">הַ</span><span class=\"txtu hbo\">יֹּ֣לְדָ֔הּ </span><span class=\"txtu hbo\">וּ</span><span class=\"txtu hbo\">מַחֲזִקָ֖הּ </span></span><span class=\"txtu hbo\">בָּ</span><span class=\"txtu hbo\">עִתִּֽים׃ </span></span></span></td><td class=\"tf rtl\"><span class=\"rtl ubd\"><span class=\"plain rtl  hlbx\" ><span class=\"plain rtl  hl\" ><span class=\"txtu hbo\">תִנָּתֵ֨ן </span></span></span></span></td><td class=\"tf rtl\"><span class=\"rtl ubd\"><span class=\"plain rtl  hl\" ><span class=\"txtu hbo\">תִנָּתֵ֨ן </span></span></span></td><td class=\"tf rtl\"><span class=\"rtl ubd\"><span class=\"plain rtl  hlbx\" ><span class=\"plain rtl  hl\" ><span class=\"txtu hbo\">הִ֤יא </span></span><span class=\"txtu hbo\">וּ</span><span class=\"txtu hbo\">מְבִיאֶ֨יהָ֙ </span><span class=\"txtu hbo\">וְ</span><span class=\"txtu hbo\">הַ</span><span class=\"txtu hbo\">יֹּ֣לְדָ֔הּ </span><span class=\"txtu hbo\">וּ</span><span class=\"txtu hbo\">מַחֲזִקָ֖הּ </span></span></span></td><td class=\"tf rtl\"><span class=\"rtl ubd\"><span class=\"plain rtl  hl\" ><span class=\"txtu hbo\">הִ֤יא </span></span></span></td></tr></table>"
      ],
      "text/plain": [
       "<IPython.core.display.HTML object>"
      ]
     },
     "metadata": {},
     "output_type": "display_data"
    }
   ],
   "source": [
    "A.table(results)"
   ]
  },
  {
   "cell_type": "code",
   "execution_count": 27,
   "id": "rental-morgan",
   "metadata": {},
   "outputs": [
    {
     "name": "stdout",
     "output_type": "stream",
     "text": [
      "  4 verses\n",
      "  8 words\n"
     ]
    }
   ],
   "source": [
    "(tfVerses, tfWords) = getTfVerses(A, results, (2, 4))"
   ]
  },
  {
   "cell_type": "code",
   "execution_count": 28,
   "id": "designed-negative",
   "metadata": {},
   "outputs": [
    {
     "name": "stdout",
     "output_type": "stream",
     "text": [
      "VERSES EQUAL\n",
      "WORDS EQUAL\n"
     ]
    }
   ],
   "source": [
    "compareResults(A, verses, words, tfVerses, tfWords)"
   ]
  },
  {
   "cell_type": "markdown",
   "id": "endangered-flour",
   "metadata": {},
   "source": [
    "When we look at a screenshot of the SHEBANQ results, we see that there are 4 results in reality, although 8 results are advertized.\n",
    "\n",
    "![minimal](images/minimal.png)"
   ]
  },
  {
   "cell_type": "markdown",
   "id": "executive-assumption",
   "metadata": {},
   "source": [
    "**There is a bug in how SHEBANQ counts the results of queries, manifested when the query\n",
    "in question makes use of the UNORDEREDGROUP construct.**\n",
    "\n",
    "In SHEBANQ the results of a query are not actually retrieved, and they are not even counted.\n",
    "Emdros, the engine that delivers the results of the MQL query to SHEBANQ, does not deliver actual results,\n",
    "but a compact construct, called a *sheaf*, from which the results could be generated.\n",
    "\n",
    "However, in SHEBANQ we have chosen not to display the results as such, but the set of words that occur in the results.\n",
    "Emdros provides a convenient and fast function to do so.\n",
    "\n",
    "The only thing we want to know about the results is how many there are.\n",
    "I (Dirk Roorda) programmed a simple function to compute the number of results by inspecting the sheaf, without actually extracting\n",
    "all those results.\n",
    "\n",
    "It turns out that my recipe does not work correctly if the sheaf represents the results of a query with `UNORDEREDGROUP` in it.\n",
    "This construct is a relatively late addition to MQL, and I need  advice from the maker of Emdros,\n",
    "[Ulrik Sandborg-Petersen](https://github.com/emg).\n",
    "\n",
    "There is an underlying reason for this approach: it is easy to fire a badly designed query to SHEBANQ that has billions of results.\n",
    "In Emdros, counting the results means: generating them first. That takes forbiddingly long for a website, and the query will\n",
    "probably be discarded.\n",
    "So I needed a quick way to compute the number of results, in order to prevent generating results if their number is too high.\n",
    "\n",
    "**To be continued**"
   ]
  }
 ],
 "metadata": {
  "kernelspec": {
   "display_name": "Python 3",
   "language": "python",
   "name": "python3"
  },
  "language_info": {
   "codemirror_mode": {
    "name": "ipython",
    "version": 3
   },
   "file_extension": ".py",
   "mimetype": "text/x-python",
   "name": "python",
   "nbconvert_exporter": "python",
   "pygments_lexer": "ipython3",
   "version": "3.9.2"
  },
  "widgets": {
   "application/vnd.jupyter.widget-state+json": {
    "state": {},
    "version_major": 2,
    "version_minor": 0
   }
  }
 },
 "nbformat": 4,
 "nbformat_minor": 5
}
