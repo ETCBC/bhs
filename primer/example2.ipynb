{
 "cells": [
  {
   "cell_type": "markdown",
   "id": "corporate-skating",
   "metadata": {},
   "source": [
    "<img align=\"right\" src=\"images/etcbc.png\" width=\"150\"/>\n",
    "<img align=\"right\" src=\"images/tf.png\" width=\"150\"/>\n",
    "<img align=\"right\" src=\"images/emdros.png\" width=\"250\"/>\n",
    "\n",
    "# MQL versus TF-Query\n",
    "\n",
    "See [TF versus MQL](tfVersusMql.ipynb) for an introduction."
   ]
  },
  {
   "cell_type": "markdown",
   "id": "wired-ocean",
   "metadata": {},
   "source": [
    "# Loading\n",
    "\n",
    "We load the Text-Fabric program and the BHSA data."
   ]
  },
  {
   "cell_type": "code",
   "execution_count": 1,
   "id": "about-edwards",
   "metadata": {},
   "outputs": [],
   "source": [
    "%load_ext autoreload\n",
    "%autoreload 2"
   ]
  },
  {
   "cell_type": "code",
   "execution_count": 2,
   "id": "false-reporter",
   "metadata": {
    "ExecuteTime": {
     "end_time": "2018-05-11T10:04:07.889266Z",
     "start_time": "2018-05-11T10:04:07.826697Z"
    }
   },
   "outputs": [],
   "source": [
    "from tf.app import use\n",
    "\n",
    "from util import getTfVerses, getShebanqData, compareResults, MQL_RESULTS\n"
   ]
  },
  {
   "cell_type": "code",
   "execution_count": 3,
   "id": "flexible-roads",
   "metadata": {
    "ExecuteTime": {
     "end_time": "2018-05-11T10:04:21.570164Z",
     "start_time": "2018-05-11T10:04:20.016691Z"
    }
   },
   "outputs": [
    {
     "data": {
      "text/html": [
       "<b title=\"local github\">TF-app:</b> <span title=\"repo clone offline under ~/github\">~/github/annotation/app-bhsa/code</span>"
      ],
      "text/plain": [
       "<IPython.core.display.HTML object>"
      ]
     },
     "metadata": {},
     "output_type": "display_data"
    },
    {
     "data": {
      "text/html": [
       "<b title=\"local github\">data:</b> <span title=\"repo clone offline under ~/github\">~/github/etcbc/bhsa/tf/2017</span>"
      ],
      "text/plain": [
       "<IPython.core.display.HTML object>"
      ]
     },
     "metadata": {},
     "output_type": "display_data"
    },
    {
     "data": {
      "text/html": [
       "<b title=\"local github\">data:</b> <span title=\"repo clone offline under ~/github\">~/github/etcbc/phono/tf/2017</span>"
      ],
      "text/plain": [
       "<IPython.core.display.HTML object>"
      ]
     },
     "metadata": {},
     "output_type": "display_data"
    },
    {
     "data": {
      "text/html": [
       "<b title=\"local github\">data:</b> <span title=\"repo clone offline under ~/github\">~/github/etcbc/parallels/tf/2017</span>"
      ],
      "text/plain": [
       "<IPython.core.display.HTML object>"
      ]
     },
     "metadata": {},
     "output_type": "display_data"
    },
    {
     "data": {
      "text/html": [
       "<b>Text-Fabric:</b> <a target=\"_blank\" href=\"https://annotation.github.io/text-fabric/tf/cheatsheet.html\" title=\"text-fabric-api\">Text-Fabric API 8.4.13</a>, <a target=\"_blank\" href=\"https://github.com/annotation/app-bhsa\" title=\"bhsa TF-app\">app-bhsa v3</a>, <a target=\"_blank\" href=\"https://annotation.github.io/text-fabric/tf/about/searchusage.html\" title=\"Search Templates Introduction and Reference\">Search Reference</a><br><b>Data:</b> <a target=\"_blank\" href=\"https://etcbc.github.io/bhsa/0_home\" title=\"provenance of BHSA = Biblia Hebraica Stuttgartensia Amstelodamensis\">BHSA</a>, <a target=\"_blank\" href=\"https://annotation.github.io/text-fabric/tf/writing/hebrew.html\" title=\"How TF features represent text\">Character table</a>, <a target=\"_blank\" href=\"https://etcbc.github.io/bhsa/features/0_home\" title=\"BHSA feature documentation\">Feature docs</a><br><b>Features:</b><br><details><summary><b>Parallel Passages</b></summary><b><i><a target=\"_blank\" href=\"https://nbviewer.jupyter.org/github/etcbc/parallels/blob/master/programs/parallels.ipynb\" title=\"~/github/etcbc/parallels/tf/2017/crossref.tf\">crossref</a></i></b><br></details><details><summary><b>BHSA = Biblia Hebraica Stuttgartensia Amstelodamensis</b></summary><a target=\"_blank\" href=\"https://etcbc.github.io/bhsa/features/book\" title=\"~/github/etcbc/bhsa/tf/2017/book.tf\">book</a><br><a target=\"_blank\" href=\"https://etcbc.github.io/bhsa/features/book@ll\" title=\"~/github/etcbc/bhsa/tf/2017/book@am.tf\">book@ll</a><br><a target=\"_blank\" href=\"https://etcbc.github.io/bhsa/features/chapter\" title=\"~/github/etcbc/bhsa/tf/2017/chapter.tf\">chapter</a><br><a target=\"_blank\" href=\"https://etcbc.github.io/bhsa/features/code\" title=\"~/github/etcbc/bhsa/tf/2017/code.tf\">code</a><br><a target=\"_blank\" href=\"https://etcbc.github.io/bhsa/features/det\" title=\"~/github/etcbc/bhsa/tf/2017/det.tf\">det</a><br><a target=\"_blank\" href=\"https://etcbc.github.io/bhsa/features/domain\" title=\"~/github/etcbc/bhsa/tf/2017/domain.tf\">domain</a><br><a target=\"_blank\" href=\"https://etcbc.github.io/bhsa/features/freq_lex\" title=\"~/github/etcbc/bhsa/tf/2017/freq_lex.tf\">freq_lex</a><br><a target=\"_blank\" href=\"https://etcbc.github.io/bhsa/features/function\" title=\"~/github/etcbc/bhsa/tf/2017/function.tf\">function</a><br><a target=\"_blank\" href=\"https://etcbc.github.io/bhsa/features/g_cons\" title=\"~/github/etcbc/bhsa/tf/2017/g_cons.tf\">g_cons</a><br><a target=\"_blank\" href=\"https://etcbc.github.io/bhsa/features/g_cons_utf8\" title=\"~/github/etcbc/bhsa/tf/2017/g_cons_utf8.tf\">g_cons_utf8</a><br><a target=\"_blank\" href=\"https://etcbc.github.io/bhsa/features/g_lex\" title=\"~/github/etcbc/bhsa/tf/2017/g_lex.tf\">g_lex</a><br><a target=\"_blank\" href=\"https://etcbc.github.io/bhsa/features/g_lex_utf8\" title=\"~/github/etcbc/bhsa/tf/2017/g_lex_utf8.tf\">g_lex_utf8</a><br><a target=\"_blank\" href=\"https://etcbc.github.io/bhsa/features/g_word\" title=\"~/github/etcbc/bhsa/tf/2017/g_word.tf\">g_word</a><br><a target=\"_blank\" href=\"https://etcbc.github.io/bhsa/features/g_word_utf8\" title=\"~/github/etcbc/bhsa/tf/2017/g_word_utf8.tf\">g_word_utf8</a><br><a target=\"_blank\" href=\"https://etcbc.github.io/bhsa/features/gloss\" title=\"~/github/etcbc/bhsa/tf/2017/gloss.tf\">gloss</a><br><a target=\"_blank\" href=\"https://etcbc.github.io/bhsa/features/gn\" title=\"~/github/etcbc/bhsa/tf/2017/gn.tf\">gn</a><br><a target=\"_blank\" href=\"https://etcbc.github.io/bhsa/features/label\" title=\"~/github/etcbc/bhsa/tf/2017/label.tf\">label</a><br><a target=\"_blank\" href=\"https://etcbc.github.io/bhsa/features/language\" title=\"~/github/etcbc/bhsa/tf/2017/language.tf\">language</a><br><a target=\"_blank\" href=\"https://etcbc.github.io/bhsa/features/lex\" title=\"~/github/etcbc/bhsa/tf/2017/lex.tf\">lex</a><br><a target=\"_blank\" href=\"https://etcbc.github.io/bhsa/features/lex_utf8\" title=\"~/github/etcbc/bhsa/tf/2017/lex_utf8.tf\">lex_utf8</a><br><a target=\"_blank\" href=\"https://etcbc.github.io/bhsa/features/ls\" title=\"~/github/etcbc/bhsa/tf/2017/ls.tf\">ls</a><br><a target=\"_blank\" href=\"https://etcbc.github.io/bhsa/features/nametype\" title=\"~/github/etcbc/bhsa/tf/2017/nametype.tf\">nametype</a><br><a target=\"_blank\" href=\"https://etcbc.github.io/bhsa/features/nme\" title=\"~/github/etcbc/bhsa/tf/2017/nme.tf\">nme</a><br><a target=\"_blank\" href=\"https://etcbc.github.io/bhsa/features/nu\" title=\"~/github/etcbc/bhsa/tf/2017/nu.tf\">nu</a><br><a target=\"_blank\" href=\"https://etcbc.github.io/bhsa/features/number\" title=\"~/github/etcbc/bhsa/tf/2017/number.tf\">number</a><br><a target=\"_blank\" href=\"https://etcbc.github.io/bhsa/features/otype\" title=\"~/github/etcbc/bhsa/tf/2017/otype.tf\">otype</a><br><a target=\"_blank\" href=\"https://etcbc.github.io/bhsa/features/pargr\" title=\"~/github/etcbc/bhsa/tf/2017/pargr.tf\">pargr</a><br><a target=\"_blank\" href=\"https://etcbc.github.io/bhsa/features/pdp\" title=\"~/github/etcbc/bhsa/tf/2017/pdp.tf\">pdp</a><br><a target=\"_blank\" href=\"https://etcbc.github.io/bhsa/features/pfm\" title=\"~/github/etcbc/bhsa/tf/2017/pfm.tf\">pfm</a><br><a target=\"_blank\" href=\"https://etcbc.github.io/bhsa/features/prs\" title=\"~/github/etcbc/bhsa/tf/2017/prs.tf\">prs</a><br><a target=\"_blank\" href=\"https://etcbc.github.io/bhsa/features/prs_gn\" title=\"~/github/etcbc/bhsa/tf/2017/prs_gn.tf\">prs_gn</a><br><a target=\"_blank\" href=\"https://etcbc.github.io/bhsa/features/prs_nu\" title=\"~/github/etcbc/bhsa/tf/2017/prs_nu.tf\">prs_nu</a><br><a target=\"_blank\" href=\"https://etcbc.github.io/bhsa/features/prs_ps\" title=\"~/github/etcbc/bhsa/tf/2017/prs_ps.tf\">prs_ps</a><br><a target=\"_blank\" href=\"https://etcbc.github.io/bhsa/features/ps\" title=\"~/github/etcbc/bhsa/tf/2017/ps.tf\">ps</a><br><a target=\"_blank\" href=\"https://etcbc.github.io/bhsa/features/qere\" title=\"~/github/etcbc/bhsa/tf/2017/qere.tf\">qere</a><br><a target=\"_blank\" href=\"https://etcbc.github.io/bhsa/features/qere_trailer\" title=\"~/github/etcbc/bhsa/tf/2017/qere_trailer.tf\">qere_trailer</a><br><a target=\"_blank\" href=\"https://etcbc.github.io/bhsa/features/qere_trailer_utf8\" title=\"~/github/etcbc/bhsa/tf/2017/qere_trailer_utf8.tf\">qere_trailer_utf8</a><br><a target=\"_blank\" href=\"https://etcbc.github.io/bhsa/features/qere_utf8\" title=\"~/github/etcbc/bhsa/tf/2017/qere_utf8.tf\">qere_utf8</a><br><a target=\"_blank\" href=\"https://etcbc.github.io/bhsa/features/rank_lex\" title=\"~/github/etcbc/bhsa/tf/2017/rank_lex.tf\">rank_lex</a><br><a target=\"_blank\" href=\"https://etcbc.github.io/bhsa/features/rela\" title=\"~/github/etcbc/bhsa/tf/2017/rela.tf\">rela</a><br><a target=\"_blank\" href=\"https://etcbc.github.io/bhsa/features/sp\" title=\"~/github/etcbc/bhsa/tf/2017/sp.tf\">sp</a><br><a target=\"_blank\" href=\"https://etcbc.github.io/bhsa/features/st\" title=\"~/github/etcbc/bhsa/tf/2017/st.tf\">st</a><br><a target=\"_blank\" href=\"https://etcbc.github.io/bhsa/features/tab\" title=\"~/github/etcbc/bhsa/tf/2017/tab.tf\">tab</a><br><a target=\"_blank\" href=\"https://etcbc.github.io/bhsa/features/trailer\" title=\"~/github/etcbc/bhsa/tf/2017/trailer.tf\">trailer</a><br><a target=\"_blank\" href=\"https://etcbc.github.io/bhsa/features/trailer_utf8\" title=\"~/github/etcbc/bhsa/tf/2017/trailer_utf8.tf\">trailer_utf8</a><br><a target=\"_blank\" href=\"https://etcbc.github.io/bhsa/features/txt\" title=\"~/github/etcbc/bhsa/tf/2017/txt.tf\">txt</a><br><a target=\"_blank\" href=\"https://etcbc.github.io/bhsa/features/typ\" title=\"~/github/etcbc/bhsa/tf/2017/typ.tf\">typ</a><br><a target=\"_blank\" href=\"https://etcbc.github.io/bhsa/features/uvf\" title=\"~/github/etcbc/bhsa/tf/2017/uvf.tf\">uvf</a><br><a target=\"_blank\" href=\"https://etcbc.github.io/bhsa/features/vbe\" title=\"~/github/etcbc/bhsa/tf/2017/vbe.tf\">vbe</a><br><a target=\"_blank\" href=\"https://etcbc.github.io/bhsa/features/vbs\" title=\"~/github/etcbc/bhsa/tf/2017/vbs.tf\">vbs</a><br><a target=\"_blank\" href=\"https://etcbc.github.io/bhsa/features/verse\" title=\"~/github/etcbc/bhsa/tf/2017/verse.tf\">verse</a><br><a target=\"_blank\" href=\"https://etcbc.github.io/bhsa/features/voc_lex\" title=\"~/github/etcbc/bhsa/tf/2017/voc_lex.tf\">voc_lex</a><br><a target=\"_blank\" href=\"https://etcbc.github.io/bhsa/features/voc_lex_utf8\" title=\"~/github/etcbc/bhsa/tf/2017/voc_lex_utf8.tf\">voc_lex_utf8</a><br><a target=\"_blank\" href=\"https://etcbc.github.io/bhsa/features/vs\" title=\"~/github/etcbc/bhsa/tf/2017/vs.tf\">vs</a><br><a target=\"_blank\" href=\"https://etcbc.github.io/bhsa/features/vt\" title=\"~/github/etcbc/bhsa/tf/2017/vt.tf\">vt</a><br><b><i><a target=\"_blank\" href=\"https://etcbc.github.io/bhsa/features/mother\" title=\"~/github/etcbc/bhsa/tf/2017/mother.tf\">mother</a></i></b><br><b><i><a target=\"_blank\" href=\"https://etcbc.github.io/bhsa/features/omap@ll\" title=\"~/github/etcbc/bhsa/tf/2017/omap@2016-2017.tf\">omap@ll</a></i></b><br><b><i><a target=\"_blank\" href=\"https://etcbc.github.io/bhsa/features/oslots\" title=\"~/github/etcbc/bhsa/tf/2017/oslots.tf\">oslots</a></i></b><br></details><details><summary><b>Phonetic Transcriptions</b></summary><a target=\"_blank\" href=\"https://nbviewer.jupyter.org/github/etcbc/phono/blob/master/programs/phono.ipynb\" title=\"~/github/etcbc/phono/tf/2017/phono.tf\">phono</a><br><a target=\"_blank\" href=\"https://nbviewer.jupyter.org/github/etcbc/phono/blob/master/programs/phono.ipynb\" title=\"~/github/etcbc/phono/tf/2017/phono_trailer.tf\">phono_trailer</a><br></details>"
      ],
      "text/plain": [
       "<IPython.core.display.HTML object>"
      ]
     },
     "metadata": {},
     "output_type": "display_data"
    },
    {
     "data": {
      "text/html": [
       "<style>tr.tf.ltr, td.tf.ltr, th.tf.ltr { text-align: left ! important;}\n",
       "tr.tf.rtl, td.tf.rtl, th.tf.rtl { text-align: right ! important;}\n",
       "@font-face {\n",
       "  font-family: \"Gentium Plus\";\n",
       "  src: local('Gentium Plus'), local('GentiumPlus'),\n",
       "    url('/server/static/fonts/GentiumPlus-R.woff') format('woff'),\n",
       "    url('https://github.com/annotation/text-fabric/blob/master/tf/server/static/fonts/GentiumPlus-R.woff?raw=true') format('woff');\n",
       "}\n",
       "\n",
       "@font-face {\n",
       "  font-family: \"Ezra SIL\";\n",
       "  src: local('Ezra SIL'), local('EzraSIL'),\n",
       "    url('/server/static/fonts/SILEOT.woff') format('woff'),\n",
       "    url('https://github.com/annotation/text-fabric/blob/master/tf/server/static/fonts/SILEOT.woff?raw=true') format('woff');\n",
       "}\n",
       "\n",
       "@font-face {\n",
       "  font-family: \"SBL Hebrew\";\n",
       "  src: local('SBL Hebrew'), local('SBLHebrew'),\n",
       "    url('/server/static/fonts/SBL_Hbrw.woff') format('woff'),\n",
       "    url('https://github.com/annotation/text-fabric/blob/master/tf/server/static/fonts/SBL_Hbrw.woff?raw=true') format('woff');\n",
       "}\n",
       "\n",
       "@font-face {\n",
       "  font-family: \"Estrangelo Edessa\";\n",
       "  src: local('Estrangelo Edessa'), local('EstrangeloEdessa');\n",
       "    url('/server/static/fonts/SyrCOMEdessa.woff') format('woff'),\n",
       "    url('https://github.com/annotation/text-fabric/blob/master/tf/server/static/fonts/SyrCOMEdessa.woff?raw=true') format('woff');\n",
       "}\n",
       "\n",
       "@font-face {\n",
       "  font-family: AmiriQuran;\n",
       "  font-style: normal;\n",
       "  font-weight: 400;\n",
       "  src: local('Amiri Quran'), local('AmiriQuran'),\n",
       "    url('/server/static/fonts/AmiriQuran.woff') format('woff'),\n",
       "    url('https://github.com/annotation/text-fabric/blob/master/tf/server/static/fonts/AmiriQuran.woff?raw=true') format('woff');\n",
       "}\n",
       "\n",
       "@font-face {\n",
       "  font-family: AmiriQuranColored;\n",
       "  font-style: normal;\n",
       "  font-weight: 400;\n",
       "  src: local('Amiri Quran Colored'), local('AmiriQuranColored'),\n",
       "    url('/server/static/fonts/AmiriQuranColored.woff') format('woff'),\n",
       "    url('https://github.com/annotation/text-fabric/blob/master/tf/server/static/fonts/AmiriQuranColored.woff?raw=true') format('woff');\n",
       "}\n",
       "\n",
       "@font-face {\n",
       "  font-family: \"Santakku\";\n",
       "  src: local('Santakku'),\n",
       "    url('/server/static/fonts/Santakku.woff') format('woff'),\n",
       "    url('https://github.com/annotation/text-fabric/blob/master/tf/server/static/fonts/Santakku.woff?raw=true') format('woff');\n",
       "}\n",
       "\n",
       "@font-face {\n",
       "  font-family: \"SantakkuM\";\n",
       "  src: local('SantakkuM'),\n",
       "    url('/server/static/fonts/SantakkuM.woff') format('woff'),\n",
       "    url('https://github.com/annotation/text-fabric/blob/master/tf/server/static/fonts/SantakkuM.woff?raw=true') format('woff');\n",
       "}\n",
       "/* bypassing some classical notebook settings */\n",
       "div#notebook {\n",
       "  line-height: unset;\n",
       "}\n",
       "/* neutral text */\n",
       ".txtn,.txtn a:visited,.txtn a:link {\n",
       "    font-family: sans-serif;\n",
       "    font-size: medium;\n",
       "    direction: ltr;\n",
       "    unicode-bidi: embed;\n",
       "    text-decoration: none;\n",
       "    color: var(--text-color);\n",
       "}\n",
       "/* transcription text */\n",
       ".txtt,.txtt a:visited,.txtt a:link {\n",
       "    font-family: monospace;\n",
       "    font-size: medium;\n",
       "    direction: ltr;\n",
       "    unicode-bidi: embed;\n",
       "    text-decoration: none;\n",
       "    color: var(--text-color);\n",
       "}\n",
       "/* source text */\n",
       ".txto,.txto a:visited,.txto a:link {\n",
       "    font-family: serif;\n",
       "    font-size: medium;\n",
       "    direction: ltr;\n",
       "    unicode-bidi: embed;\n",
       "    text-decoration: none;\n",
       "    color: var(--text-color);\n",
       "}\n",
       "/* phonetic text */\n",
       ".txtp,.txtp a:visited,.txtp a:link {\n",
       "    font-family: Gentium, sans-serif;\n",
       "    font-size: medium;\n",
       "    direction: ltr;\n",
       "    unicode-bidi: embed;\n",
       "    text-decoration: none;\n",
       "    color: var(--text-color);\n",
       "}\n",
       "/* original script text */\n",
       ".txtu,.txtu a:visited,.txtu a:link {\n",
       "    font-family: Gentium, sans-serif;\n",
       "    font-size: medium;\n",
       "    text-decoration: none;\n",
       "    color: var(--text-color);\n",
       "}\n",
       "/* hebrew */\n",
       ".txtu.hbo,.lex.hbo {\n",
       "    font-family: \"Ezra SIL\", \"SBL Hebrew\", sans-serif;\n",
       "    font-size: large;\n",
       "    direction: rtl ! important;\n",
       "    unicode-bidi: embed;\n",
       "}\n",
       "/* syriac */\n",
       ".txtu.syc,.lex.syc {\n",
       "    font-family: \"Estrangelo Edessa\", sans-serif;\n",
       "    font-size: medium;\n",
       "    direction: rtl ! important;\n",
       "    unicode-bidi: embed;\n",
       "}\n",
       "/* neo aramaic */\n",
       ".txtu.cld,.lex.cld {\n",
       "    font-family: \"CharisSIL-R\", sans-serif;\n",
       "    font-size: medium;\n",
       "    direction: ltr ! important;\n",
       "    unicode-bidi: embed;\n",
       "}\n",
       "/* standard arabic */\n",
       ".txtu.ara,.lex.ara {\n",
       "    font-family: \"AmiriQuran\", sans-serif;\n",
       "    font-size: large;\n",
       "    direction: rtl ! important;\n",
       "    unicode-bidi: embed;\n",
       "}\n",
       "/* cuneiform */\n",
       ".txtu.akk,.lex.akk {\n",
       "    font-family: Santakku, sans-serif;\n",
       "    font-size: large;\n",
       "    direction: ltr ! important;\n",
       "    unicode-bidi: embed;\n",
       "}\n",
       "/* greek */\n",
       ".txtu.grc,.lex.grc a:link {\n",
       "    font-family: Gentium, sans-serif;\n",
       "    font-size: medium;\n",
       "    direction: ltr ! important;\n",
       "    unicode-bidi: embed;\n",
       "}\n",
       "a:hover {\n",
       "    text-decoration: underline | important;\n",
       "    color: #0000ff | important;\n",
       "}\n",
       ".ltr {\n",
       "    direction: ltr ! important;\n",
       "    unicode-bidi: embed;\n",
       "}\n",
       ".rtl {\n",
       "    direction: rtl ! important;\n",
       "    unicode-bidi: embed;\n",
       "}\n",
       ".ubd {\n",
       "    unicode-bidi: embed;\n",
       "}\n",
       ".col {\n",
       "   display: inline-block;\n",
       "}\n",
       ".features {\n",
       "    font-family: monospace;\n",
       "    font-size: medium;\n",
       "    font-weight: bold;\n",
       "    color: var(--features);\n",
       "    display: flex;\n",
       "    flex-flow: column nowrap;\n",
       "    justify-content: flex-start;\n",
       "    align-items: flex-start;\n",
       "    align-content: flex-start;\n",
       "    padding: 2px;\n",
       "    margin: 2px;\n",
       "    direction: ltr;\n",
       "    unicode-bidi: embed;\n",
       "    border: var(--meta-width) solid var(--meta-color);\n",
       "    border-radius: var(--meta-width);\n",
       "}\n",
       ".features div,.features span {\n",
       "    padding: 0;\n",
       "    margin: -2px 0;\n",
       "}\n",
       ".features .f {\n",
       "    font-family: sans-serif;\n",
       "    font-size: small;\n",
       "    font-weight: normal;\n",
       "    color: #5555bb;\n",
       "}\n",
       ".features .xft {\n",
       "  color: #000000;\n",
       "  background-color: #eeeeee;\n",
       "  font-size: medium;\n",
       "  margin: 2px 0px;\n",
       "}\n",
       ".features .xft .f {\n",
       "  color: #000000;\n",
       "  background-color: #eeeeee;\n",
       "  font-size: small;\n",
       "  font-weight: normal;\n",
       "}\n",
       ".tfsechead {\n",
       "    font-family: sans-serif;\n",
       "    font-size: small;\n",
       "    font-weight: bold;\n",
       "    color: var(--tfsechead);\n",
       "    unicode-bidi: embed;\n",
       "    text-align: start;\n",
       "}\n",
       ".structure {\n",
       "    font-family: sans-serif;\n",
       "    font-size: small;\n",
       "    font-weight: bold;\n",
       "    color: var(--structure);\n",
       "    unicode-bidi: embed;\n",
       "    text-align: start;\n",
       "}\n",
       ".comments {\n",
       "    display: flex;\n",
       "    justify-content: flex-start;\n",
       "    align-items: flex-start;\n",
       "    align-content: flex-start;\n",
       "    flex-flow: column nowrap;\n",
       "}\n",
       ".nd, a:link.nd {\n",
       "    font-family: sans-serif;\n",
       "    font-size: small;\n",
       "    color: var(--node);\n",
       "    vertical-align: super;\n",
       "    direction: ltr ! important;\n",
       "    unicode-bidi: embed;\n",
       "}\n",
       ".lex {\n",
       "  color: var(--lex-color);;\n",
       "}\n",
       ".children,.children.ltr {\n",
       "    display: flex;\n",
       "    border: 0;\n",
       "    background-color: #ffffff;\n",
       "    justify-content: flex-start;\n",
       "    align-items: flex-start;\n",
       "    align-content: flex-start;\n",
       "}\n",
       ".children.stretch {\n",
       "    align-items: stretch;\n",
       "}\n",
       ".children.hor {\n",
       "    flex-flow: row nowrap;\n",
       "}\n",
       ".children.hor.wrap {\n",
       "    flex-flow: row wrap;\n",
       "}\n",
       ".children.ver {\n",
       "    flex-flow: column nowrap;\n",
       "}\n",
       ".children.ver.wrap {\n",
       "    flex-flow: column wrap;\n",
       "}\n",
       ".contnr {\n",
       "    width: fit-content;\n",
       "    display: flex;\n",
       "    justify-content: flex-start;\n",
       "    align-items: flex-start;\n",
       "    align-content: flex-start;\n",
       "    flex-flow: column nowrap;\n",
       "    background: #ffffff none repeat scroll 0 0;\n",
       "    padding:  10px 2px 2px 2px;\n",
       "    margin: 16px 2px 2px 2px;\n",
       "    border-style: solid;\n",
       "    font-size: small;\n",
       "}\n",
       ".contnr.trm {\n",
       "    background-attachment: local;\n",
       "}\n",
       ".contnr.cnul {\n",
       "    padding:  0;\n",
       "    margin: 0;\n",
       "    border-style: solid;\n",
       "    font-size: xx-small;\n",
       "}\n",
       ".contnr.cnul,.lbl.cnul {\n",
       "    border-color: var(--border-color-nul);\n",
       "    border-width: var(--border-width-nul);\n",
       "    border-radius: var(--border-width-nul);\n",
       "}\n",
       ".contnr.c0,.lbl.c0 {\n",
       "    border-color: var(--border-color0);\n",
       "    border-width: var(--border-width0);\n",
       "    border-radius: var(--border-width0);\n",
       "}\n",
       ".contnr.c1,.lbl.c1 {\n",
       "    border-color: var(--border-color1);\n",
       "    border-width: var(--border-width1);\n",
       "    border-radius: var(--border-width1);\n",
       "}\n",
       ".contnr.c2,.lbl.c2 {\n",
       "    border-color: var(--border-color2);\n",
       "    border-width: var(--border-width2);\n",
       "    border-radius: var(--border-width2);\n",
       "}\n",
       ".contnr.c3,.lbl.c3 {\n",
       "    border-color: var(--border-color3);\n",
       "    border-width: var(--border-width3);\n",
       "    border-radius: var(--border-width3);\n",
       "}\n",
       ".contnr.c4,.lbl.c4 {\n",
       "    border-color: var(--border-color4);\n",
       "    border-width: var(--border-width4);\n",
       "    border-radius: var(--border-width4);\n",
       "}\n",
       "span.plain {\n",
       "    display: inline-block;\n",
       "    white-space: pre-wrap;\n",
       "}\n",
       ".plain {\n",
       "    background-color: #ffffff;\n",
       "}\n",
       ".plain.l,.contnr.l,.contnr.l>.lbl {\n",
       "    border-left-style: dotted\n",
       "}\n",
       ".plain.r,.contnr.r,.contnr.r>.lbl {\n",
       "    border-right-style: dotted\n",
       "}\n",
       ".plain.lno,.contnr.lno,.contnr.lno>.lbl {\n",
       "    border-left-style: none\n",
       "}\n",
       ".plain.rno,.contnr.rno,.contnr.rno>.lbl {\n",
       "    border-right-style: none\n",
       "}\n",
       ".plain.l {\n",
       "    padding-left: 4px;\n",
       "    margin-left: 2px;\n",
       "    border-width: var(--border-width-plain);\n",
       "}\n",
       ".plain.r {\n",
       "    padding-right: 4px;\n",
       "    margin-right: 2px;\n",
       "    border-width: var(--border-width-plain);\n",
       "}\n",
       ".lbl {\n",
       "    font-family: monospace;\n",
       "    margin-top: -24px;\n",
       "    margin-left: 20px;\n",
       "    background: #ffffff none repeat scroll 0 0;\n",
       "    padding: 0 6px;\n",
       "    border-style: solid;\n",
       "    display: block;\n",
       "    color: var(--label)\n",
       "}\n",
       ".lbl.trm {\n",
       "    background-attachment: local;\n",
       "    margin-top: 2px;\n",
       "    margin-left: 2px;\n",
       "    padding: 2px 2px;\n",
       "    border-style: none;\n",
       "}\n",
       ".lbl.cnul {\n",
       "    font-size: xx-small;\n",
       "}\n",
       ".lbl.c0 {\n",
       "    font-size: small;\n",
       "}\n",
       ".lbl.c1 {\n",
       "    font-size: small;\n",
       "}\n",
       ".lbl.c2 {\n",
       "    font-size: medium;\n",
       "}\n",
       ".lbl.c3 {\n",
       "    font-size: medium;\n",
       "}\n",
       ".lbl.c4 {\n",
       "    font-size: large;\n",
       "}\n",
       ".occs, a:link.occs {\n",
       "    font-size: small;\n",
       "}\n",
       "\n",
       "/* PROVENANCE */\n",
       "\n",
       "div.prov {\n",
       "\tmargin: 40px;\n",
       "\tpadding: 20px;\n",
       "\tborder: 2px solid var(--fog-rim);\n",
       "}\n",
       "div.pline {\n",
       "\tdisplay: flex;\n",
       "\tflex-flow: row nowrap;\n",
       "\tjustify-content: stretch;\n",
       "\talign-items: baseline;\n",
       "}\n",
       "div.p2line {\n",
       "\tmargin-left: 2em;\n",
       "\tdisplay: flex;\n",
       "\tflex-flow: row nowrap;\n",
       "\tjustify-content: stretch;\n",
       "\talign-items: baseline;\n",
       "}\n",
       "div.psline {\n",
       "\tdisplay: flex;\n",
       "\tflex-flow: row nowrap;\n",
       "\tjustify-content: stretch;\n",
       "\talign-items: baseline;\n",
       "\tbackground-color: var(--gold-mist-back);\n",
       "}\n",
       "div.pname {\n",
       "\tflex: 0 0 5rem;\n",
       "\tfont-weight: bold;\n",
       "}\n",
       "div.pval {\n",
       "    flex: 1 1 auto;\n",
       "}\n",
       "\n",
       ":root {\n",
       "\t--node:               hsla(120, 100%,  20%, 1.0  );\n",
       "\t--label:              hsla(  0, 100%,  20%, 1.0  );\n",
       "\t--tfsechead:          hsla(  0, 100%,  25%, 1.0  );\n",
       "\t--structure:          hsla(120, 100%,  25%, 1.0  );\n",
       "\t--features:           hsla(  0,   0%,  30%, 1.0  );\n",
       "  --text-color:         hsla( 60,  80%,  10%, 1.0  );\n",
       "  --lex-color:          hsla(220,  90%,  60%, 1.0  );\n",
       "  --meta-color:         hsla(  0,   0%,  90%, 0.7  );\n",
       "  --meta-width:         3px;\n",
       "  --border-color-nul:   hsla(  0,   0%,  90%, 0.5  );\n",
       "  --border-color0:      hsla(  0,   0%,  90%, 0.9  );\n",
       "  --border-color1:      hsla(  0,   0%,  80%, 0.9  );\n",
       "  --border-color2:      hsla(  0,   0%,  70%, 0.9  );\n",
       "  --border-color3:      hsla(  0,   0%,  80%, 0.8  );\n",
       "  --border-color4:      hsla(  0,   0%,  60%, 0.9  );\n",
       "  --border-width-nul:   2px;\n",
       "  --border-width0:      2px;\n",
       "  --border-width1:      3px;\n",
       "  --border-width2:      4px;\n",
       "  --border-width3:      6px;\n",
       "  --border-width4:      5px;\n",
       "  --border-width-plain: 2px;\n",
       "}\n",
       ".hl {\n",
       "  background-color: var(--hl-strong);\n",
       "}\n",
       "span.hl {\n",
       "\tbackground-color: var(--hl-strong);\n",
       "\tborder-width: 0;\n",
       "\tborder-radius: 2px;\n",
       "\tborder-style: solid;\n",
       "}\n",
       "div.contnr.hl,div.lbl.hl {\n",
       "  background-color: var(--hl-strong);\n",
       "}\n",
       "div.contnr.hl {\n",
       "  border-color: var(--hl-rim) ! important;\n",
       "\tborder-width: 4px ! important;\n",
       "}\n",
       "\n",
       "span.hlbx {\n",
       "\tborder-color: var(--hl-rim);\n",
       "\tborder-width: 4px ! important;\n",
       "\tborder-style: solid;\n",
       "\tborder-radius: 6px;\n",
       "  padding: 4px;\n",
       "  margin: 4px;\n",
       "}\n",
       "\n",
       "span.plain {\n",
       "  display: inline-block;\n",
       "  white-space: pre-wrap;\n",
       "}\n",
       "\n",
       ":root {\n",
       "\t--hl-strong:        hsla( 60, 100%,  70%, 0.9  );\n",
       "\t--hl-rim:           hsla( 55,  80%,  50%, 1.0  );\n",
       "}\n",
       "</style>"
      ],
      "text/plain": [
       "<IPython.core.display.HTML object>"
      ]
     },
     "metadata": {},
     "output_type": "display_data"
    },
    {
     "data": {
      "text/html": [
       "<div><b>Text-Fabric API:</b> names <a target=\"_blank\" href=\"https://annotation.github.io/text-fabric/tf/cheatsheet.html\" title=\"doc\">N F E L T S C TF</a> directly usable</div><hr>"
      ],
      "text/plain": [
       "<IPython.core.display.HTML object>"
      ]
     },
     "metadata": {},
     "output_type": "display_data"
    }
   ],
   "source": [
    "VERSION = \"2017\"\n",
    "# A = use('ETCBC/bhsa', hoist=globals(), version=VERSION)\n",
    "A = use(\"ETCBC/bhsa:clone\", checkout=\"clone\", hoist=globals(), version=VERSION)"
   ]
  },
  {
   "cell_type": "markdown",
   "id": "american-salmon",
   "metadata": {},
   "source": [
    "# Example 2\n",
    "\n",
    "[Bas Meeuse: Example 2: `FJM` + prep. L](https://shebanq.ancient-data.org/hebrew/query?version=2017&id=4440)\n",
    "\n",
    "```\n",
    "[clause\n",
    "  [word FOCUS lex = 'FJM[']\n",
    "  ..\n",
    "  [word FOCUS lex = \"L\"]\n",
    "  [word lex <> '<JN/' AND lex <> 'PNH/']\n",
    "]\n",
    "```"
   ]
  },
  {
   "cell_type": "code",
   "execution_count": 4,
   "id": "israeli-balance",
   "metadata": {},
   "outputs": [
    {
     "name": "stdout",
     "output_type": "stream",
     "text": [
      "156 results in 136 verses with 294 words\n"
     ]
    }
   ],
   "source": [
    "(verses, words) = getShebanqData(A, MQL_RESULTS, 2)"
   ]
  },
  {
   "cell_type": "code",
   "execution_count": 5,
   "id": "secure-gentleman",
   "metadata": {},
   "outputs": [],
   "source": [
    "query = \"\"\"\n",
    "clause\n",
    "  word lex=FJM[\n",
    "  < word lex=L\n",
    "  <: word lex#<JN/|PNH/\n",
    "\"\"\""
   ]
  },
  {
   "cell_type": "code",
   "execution_count": 6,
   "id": "mediterranean-alberta",
   "metadata": {},
   "outputs": [
    {
     "name": "stdout",
     "output_type": "stream",
     "text": [
      "  1.53s 155 results\n"
     ]
    }
   ],
   "source": [
    "results = A.search(query)"
   ]
  },
  {
   "cell_type": "markdown",
   "id": "perceived-stand",
   "metadata": {},
   "source": [
    "**N.B.:** one result less than in SHEBANQ."
   ]
  },
  {
   "cell_type": "code",
   "execution_count": 7,
   "id": "careful-colony",
   "metadata": {},
   "outputs": [
    {
     "name": "stdout",
     "output_type": "stream",
     "text": [
      "135 verses\n",
      "292 words\n"
     ]
    }
   ],
   "source": [
    "(tfVerses, tfWords) = getTfVerses(A, results, (1, 2))"
   ]
  },
  {
   "cell_type": "code",
   "execution_count": 8,
   "id": "impressive-anime",
   "metadata": {},
   "outputs": [
    {
     "name": "stdout",
     "output_type": "stream",
     "text": [
      "DIFFERENCE:\n",
      "('Joshua', 8, 2)\n",
      "('Joshua', 8, 12)\n",
      "DIFFERENCE:\n",
      "116852 = FIJM\n",
      "117091 = J.@63FEM\n"
     ]
    },
    {
     "data": {
      "text/plain": [
       "-1"
      ]
     },
     "execution_count": 8,
     "metadata": {},
     "output_type": "execute_result"
    }
   ],
   "source": [
    "compareResults(A, verses, words, tfVerses, tfWords)"
   ]
  },
  {
   "cell_type": "markdown",
   "id": "selected-perspective",
   "metadata": {},
   "source": [
    "The TF results are skipping Joshua 8:2!\n",
    "\n",
    "We expand this verse in SHEBANQ:\n",
    "\n",
    "![josh](images/josh.png)\n",
    "\n",
    "That there is a gap in the clause, right after the word `L` between words 116853 and 116858.\n",
    "In MQL, the adjacency of things is relative to the container it is in.\n",
    "If the container has a gap, the words around the gap are considered adjacent.\n",
    "\n",
    "In this example it means that this part of the query:\n",
    "\n",
    "```\n",
    "  [word FOCUS lex = \"L\"]\n",
    "  [word lex <> '<JN/' AND lex <> 'PNH/']\n",
    "```\n",
    "\n",
    "is matched by words 116853 and **116858**.\n",
    "And the MQL query considers those two words as adjacent *within the clause*.\n",
    "\n",
    "In TF-Query, adjacency between words is absolute: it is not relative to a container object.\n",
    "\n",
    "So this part of the query\n",
    "\n",
    "```\n",
    "  < word lex=L\n",
    "  <: word lex#<JN/|PNH/\n",
    "```\n",
    "\n",
    "is *not* matched by words 116853 and **116854**, because 116854 is not part of the embedding clause.\n",
    "\n",
    "The Text-Fabric notion of adjacency is more crude.\n",
    "The reason is that in Text-Fabric, the query does not have to be a tree, where each object has a unique\n",
    "immediate embedder object. There could be several embedder objects in the query, and each of the them may have different\n",
    "gaps, and if we had the concept of relative adjacency, our query language would need a way to express relative to which object\n",
    "the adjacency must be taken.\n",
    "\n",
    "It has not, and to me it is an open question whether we should complicate search templates in that way.\n",
    "\n",
    "Anyway, as it stands,  there is no obvious workaround to get the exactly the same behaviour as the MQL query.\n",
    "\n",
    "That said, we can try something that comes close:\n",
    "\n",
    "We state that the `L` is is not immediately followed by a word that is `<JN/` or `PNH/`."
   ]
  },
  {
   "cell_type": "code",
   "execution_count": 9,
   "id": "cathedral-queue",
   "metadata": {},
   "outputs": [],
   "source": [
    "query = \"\"\"\n",
    "clause\n",
    "  word lex=FJM[\n",
    "  < word lex=L\n",
    "  /without/\n",
    "  <: w3:word lex=<JN/|PNH/\n",
    "  /-/\n",
    "\"\"\""
   ]
  },
  {
   "cell_type": "code",
   "execution_count": 10,
   "id": "domestic-salmon",
   "metadata": {},
   "outputs": [
    {
     "name": "stdout",
     "output_type": "stream",
     "text": [
      "  0.78s 161 results\n"
     ]
    }
   ],
   "source": [
    "results2 = A.search(query)"
   ]
  },
  {
   "cell_type": "markdown",
   "id": "indonesian-fiber",
   "metadata": {},
   "source": [
    "It turns out that we get more results than in SHEBANQ.\n",
    "We first count the verses and words involved in the results."
   ]
  },
  {
   "cell_type": "code",
   "execution_count": 11,
   "id": "enclosed-estimate",
   "metadata": {},
   "outputs": [
    {
     "name": "stdout",
     "output_type": "stream",
     "text": [
      "139 verses\n",
      "302 words\n"
     ]
    }
   ],
   "source": [
    "(tfVerses2, tfWords2) = getTfVerses(A, results2, (1, 2))"
   ]
  },
  {
   "cell_type": "code",
   "execution_count": 12,
   "id": "activated-impossible",
   "metadata": {},
   "outputs": [
    {
     "name": "stdout",
     "output_type": "stream",
     "text": [
      "DIFFERENCE:\n",
      "('Genesis', 43, 32)\n",
      "('Genesis', 27, 37)\n",
      "DIFFERENCE:\n",
      "24760 = J.@FI71JMW.\n",
      "14288 = FAM:T.I71JW\n"
     ]
    },
    {
     "data": {
      "text/plain": [
       "-1"
      ]
     },
     "execution_count": 12,
     "metadata": {},
     "output_type": "execute_result"
    }
   ],
   "source": [
    "compareResults(A, verses, words, tfVerses2, tfWords2)"
   ]
  },
  {
   "cell_type": "markdown",
   "id": "protected-judge",
   "metadata": {},
   "source": [
    "Now the situation is reversed: Genesis 27:37 is in the TF results, but skipped by SHEBANQ."
   ]
  },
  {
   "cell_type": "code",
   "execution_count": 13,
   "id": "confident-coating",
   "metadata": {},
   "outputs": [
    {
     "data": {
      "text/html": [
       "<p><b>result</b> <i>3</i></p>"
      ],
      "text/plain": [
       "<IPython.core.display.HTML object>"
      ]
     },
     "metadata": {},
     "output_type": "display_data"
    },
    {
     "data": {
      "text/html": [
       "<div class=\"tfsechead rtl\"><a target=\"_blank\" href=\"https://shebanq.ancient-data.org/hebrew/text?book=Genesis&amp;chapter=27&amp;verse=37&amp;version=2017&amp;mr=m&amp;qw=q&amp;tp=txt_p&amp;tr=hb&amp;wget=v&amp;qget=v&amp;nget=vt\" title=\"Show this on SHEBANQ\" sec=\"Genesis 27:37\">Genesis 27:37</a></div><div class=\"rtl children\"><div class=\"contnr c2  rtl  \" ><div class=\"lbl c2  \" ><span class=\"nd\">clause</span></div><div class=\"children hor wrap rtl\"><div class=\"contnr c1  rtl  \" ><div class=\"lbl c1  \" ><span class=\"nd\">phrase</span></div><div class=\"children hor wrap rtl\"><div class=\"contnr c0 trm rtl  \" ><div class=\"lbl c0 trm \" ><a class=\" txtu hbo\" target=\"_blank\" href=\"https://shebanq.ancient-data.org/hebrew/word?version=2017&amp;id=1HN\" title=\"Show this on SHEBANQ\"><span class=\"txtu hbo\">הֵ֣ן </span></a></div><div class='features'><span class=\"lex xft\" ><span class=\"f\">lex=</span>HN</span></div></div></div></div><div class=\"contnr c1  rtl  \" ><div class=\"lbl c1  \" ><span class=\"nd\">phrase</span></div><div class=\"children hor wrap rtl\"><div class=\"contnr c0 trm rtl  \" ><div class=\"lbl c0 trm \" ><a class=\" txtu hbo\" target=\"_blank\" href=\"https://shebanq.ancient-data.org/hebrew/word?version=2017&amp;id=1GBJRn\" title=\"Show this on SHEBANQ\"><span class=\"txtu hbo\">גְּבִ֞יר </span></a></div><div class='features'><span class=\"lex xft\" ><span class=\"f\">lex=</span>GBJR/</span></div></div></div></div><div class=\"contnr c1  rtl  \" ><div class=\"lbl c1  \" ><span class=\"nd\">phrase</span></div><div class=\"children hor wrap rtl\"><div class=\"contnr c0 trm rtl  hl\" ><div class=\"lbl c0 trm hl\" ><a class=\" txtu hbo\" target=\"_blank\" href=\"https://shebanq.ancient-data.org/hebrew/word?version=2017&amp;id=1FJMv\" title=\"Show this on SHEBANQ\"><span class=\"txtu hbo\">שַׂמְתִּ֥יו </span></a></div><div class='features'><span class=\"lex xft\" ><span class=\"f\">lex=</span>FJM[</span></div></div></div></div><div class=\"contnr c1  rtl  \" ><div class=\"lbl c1  \" ><span class=\"nd\">phrase</span></div><div class=\"children hor wrap rtl\"><div class=\"contnr c0 trm rtl  hl\" ><div class=\"lbl c0 trm hl\" ><a class=\" txtu hbo\" target=\"_blank\" href=\"https://shebanq.ancient-data.org/hebrew/word?version=2017&amp;id=1L\" title=\"Show this on SHEBANQ\"><span class=\"txtu hbo\">לָךְ֙ </span></a></div><div class='features'><span class=\"lex xft\" ><span class=\"f\">lex=</span>L</span></div></div></div></div></div></div></div>"
      ],
      "text/plain": [
       "<IPython.core.display.HTML object>"
      ]
     },
     "metadata": {},
     "output_type": "display_data"
    }
   ],
   "source": [
    "A.show(results2, condenseType=\"clause\", start=3, end=3)"
   ]
  },
  {
   "cell_type": "markdown",
   "id": "combined-hearing",
   "metadata": {},
   "source": [
    "The Genesis 27:37 result has something in common with the Joshua 8:2 result in SHEBANQ that we saw above:\n",
    "\n",
    "* the `L` has a pronominal suffix;\n",
    "* the `L` is at the end of its clause atom: in Joshua 8:2 it is preceding a gap;\n",
    "  here it is also at the end of a clause.\n",
    "\n",
    "So it seems to be an intended result of the MQL query in both cases.\n",
    "\n",
    "Let's make a mental shift: what *is* the intention of the MQL query?\n",
    "Here is a bit of query-exegesis, in that the query itself is the object of the exegesis.\n",
    "\n",
    "The MQL query mentions three `[word]` objects, but it puts only the first two of them in `FOCUS`.\n",
    "\n",
    "1. it is not interested in the actual value of the third one;\n",
    "2. the third `[word]` is constrained by a very loose restriction: it can be anything, except two specific values.\n",
    "\n",
    "These two things point to the intended meaning of the query, namely:\n",
    "\n",
    "> find a clause with the word `FJM[`, and somewhere after that the word `L`,\n",
    "which is not followed by either the word `<JN/` or the word `PNH/`.\n",
    "\n",
    "This differs subtly from what the query actually says:\n",
    "\n",
    "> find a clause with the word `FJM[`, and somewhere after that the word `L`,\n",
    "which is followed by another word that is not `<JN/` and not `PNH/`.\n",
    "\n",
    "The difference is one of *quantification*.\n",
    "\n",
    "More schematically, the MQL states literally:\n",
    "\n",
    "> there is a **word** after **a** that is not **b** and not **c**\n",
    "\n",
    "But the intention is:\n",
    "\n",
    "> for each **word** after **a** it is not **b** and not **c**"
   ]
  },
  {
   "cell_type": "markdown",
   "id": "variable-roommate",
   "metadata": {},
   "source": [
    "MQL also has a concept of quantifier, a bit more limited than in TF: `NOTEXIST`.\n",
    "Let's try it:\n",
    "\n",
    "```\n",
    "[clause\n",
    "  [word FOCUS lex = 'FJM[']\n",
    "  ..\n",
    "  [word FOCUS lex = \"L\"]\n",
    "  NOTEXIST [word lex = '<JN/' OR lex = 'PNH/']\n",
    "]\n",
    "\n",
    "```\n",
    "\n",
    "See\n",
    "[Dirk Roorda: Example 2: not exist](https://shebanq.ancient-data.org/hebrew/query?version=2017&id=4467)"
   ]
  },
  {
   "cell_type": "code",
   "execution_count": 14,
   "id": "communist-asthma",
   "metadata": {},
   "outputs": [
    {
     "name": "stdout",
     "output_type": "stream",
     "text": [
      "160 results in 138 verses with 300 words\n"
     ]
    }
   ],
   "source": [
    "(verses2, words2) = getShebanqData(A, MQL_RESULTS, \"2a\")"
   ]
  },
  {
   "cell_type": "markdown",
   "id": "aquatic-throat",
   "metadata": {},
   "source": [
    "Now we have one result more in Text-Fabric than in SHEBANQ."
   ]
  },
  {
   "cell_type": "code",
   "execution_count": 15,
   "id": "certain-afghanistan",
   "metadata": {},
   "outputs": [
    {
     "name": "stdout",
     "output_type": "stream",
     "text": [
      "DIFFERENCE:\n",
      "('2_Samuel', 23, 5)\n",
      "('2_Samuel', 14, 7)\n",
      "DIFFERENCE:\n",
      "174875 = F@74M\n",
      "168181 = *FWM\n"
     ]
    },
    {
     "data": {
      "text/plain": [
       "-1"
      ]
     },
     "execution_count": 15,
     "metadata": {},
     "output_type": "execute_result"
    }
   ],
   "source": [
    "compareResults(A, verses2, words2, tfVerses2, tfWords2)"
   ]
  },
  {
   "cell_type": "markdown",
   "id": "effective-planet",
   "metadata": {},
   "source": [
    "2 Samuel 14:7 is skipped by SHEBANQ."
   ]
  },
  {
   "cell_type": "code",
   "execution_count": 17,
   "id": "bottom-enhancement",
   "metadata": {},
   "outputs": [
    {
     "data": {
      "text/html": [
       "<p><b>result</b> <i>58</i></p>"
      ],
      "text/plain": [
       "<IPython.core.display.HTML object>"
      ]
     },
     "metadata": {},
     "output_type": "display_data"
    },
    {
     "data": {
      "text/html": [
       "<div class=\"tfsechead rtl\"><a target=\"_blank\" href=\"https://shebanq.ancient-data.org/hebrew/text?book=Samuel_II&amp;chapter=14&amp;verse=7&amp;version=2017&amp;mr=m&amp;qw=q&amp;tp=txt_p&amp;tr=hb&amp;wget=v&amp;qget=v&amp;nget=vt\" title=\"Show this on SHEBANQ\" sec=\"2_Samuel 14:7\">2_Samuel 14:7</a></div><div class=\"rtl children\"><div class=\"contnr c2  rtl  \" ><div class=\"lbl c2  \" ><span class=\"nd\">clause</span></div><div class=\"children hor wrap rtl\"><div class=\"contnr c1  rtl  \" ><div class=\"lbl c1  \" ><span class=\"nd\">phrase</span></div><div class=\"children hor wrap rtl\"><div class=\"contnr c0 trm rtl  \" ><div class=\"lbl c0 trm \" ><a class=\" txtu hbo\" target=\"_blank\" href=\"https://shebanq.ancient-data.org/hebrew/word?version=2017&amp;id=1L\" title=\"Show this on SHEBANQ\"><span class=\"txtu hbo\">לְ</span></a></div><div class='features'><span class=\"lex xft\" ><span class=\"f\">lex=</span>L</span></div></div><div class=\"contnr c0 trm rtl  \" ><div class=\"lbl c0 trm \" ><a class=\" txtu hbo\" target=\"_blank\" href=\"https://shebanq.ancient-data.org/hebrew/word?version=2017&amp;id=1BLTn\" title=\"Show this on SHEBANQ\"><span class=\"txtu hbo\">בִלְתִּ֧י </span></a></div><div class='features'><span class=\"lex xft\" ><span class=\"f\">lex=</span>BLT/</span></div></div><div class=\"contnr c0 trm rtl  hl\" ><div class=\"lbl c0 trm hl\" ><a class=\" txtu hbo\" target=\"_blank\" href=\"https://shebanq.ancient-data.org/hebrew/word?version=2017&amp;id=1FJMv\" title=\"Show this on SHEBANQ\"><span class=\"txtu hbo\">שִׂים־</span></a></div><div class='features'><span class=\"lex xft\" ><span class=\"f\">lex=</span>FJM[</span></div></div></div></div><div class=\"contnr c1  rtl  \" ><div class=\"lbl c1  \" ><span class=\"nd\">phrase</span></div><div class=\"children hor wrap rtl\"><div class=\"contnr c0 trm rtl  hl\" ><div class=\"lbl c0 trm hl\" ><a class=\" txtu hbo\" target=\"_blank\" href=\"https://shebanq.ancient-data.org/hebrew/word?version=2017&amp;id=1L\" title=\"Show this on SHEBANQ\"><span class=\"txtu hbo\">לְ</span></a></div><div class='features'><span class=\"lex xft\" ><span class=\"f\">lex=</span>L</span></div></div><div class=\"contnr c0 trm rtl  \" ><div class=\"lbl c0 trm \" ><a class=\" txtu hbo\" target=\"_blank\" href=\"https://shebanq.ancient-data.org/hebrew/word?version=2017&amp;id=1AJCn\" title=\"Show this on SHEBANQ\"><span class=\"txtu hbo\">אִישִׁ֛י </span></a></div><div class='features'><span class=\"lex xft\" ><span class=\"f\">lex=</span>>JC/</span></div></div></div></div><div class=\"contnr c1  rtl  \" ><div class=\"lbl c1  \" ><span class=\"nd\">phrase</span></div><div class=\"children hor wrap rtl\"><div class=\"contnr c0 trm rtl  \" ><div class=\"lbl c0 trm \" ><a class=\" txtu hbo\" target=\"_blank\" href=\"https://shebanq.ancient-data.org/hebrew/word?version=2017&amp;id=1CMn\" title=\"Show this on SHEBANQ\"><span class=\"txtu hbo\">שֵׁ֥ם </span></a></div><div class='features'><span class=\"lex xft\" ><span class=\"f\">lex=</span>CM/</span></div></div><div class=\"contnr c0 trm rtl  \" ><div class=\"lbl c0 trm \" ><a class=\" txtu hbo\" target=\"_blank\" href=\"https://shebanq.ancient-data.org/hebrew/word?version=2017&amp;id=1W\" title=\"Show this on SHEBANQ\"><span class=\"txtu hbo\">וּ</span></a></div><div class='features'><span class=\"lex xft\" ><span class=\"f\">lex=</span>W</span></div></div><div class=\"contnr c0 trm rtl  \" ><div class=\"lbl c0 trm \" ><a class=\" txtu hbo\" target=\"_blank\" href=\"https://shebanq.ancient-data.org/hebrew/word?version=2017&amp;id=1CARJTn\" title=\"Show this on SHEBANQ\"><span class=\"txtu hbo\">שְׁאֵרִ֖ית </span></a></div><div class='features'><span class=\"lex xft\" ><span class=\"f\">lex=</span>C>RJT/</span></div></div></div></div><div class=\"contnr c1  rtl  \" ><div class=\"lbl c1  \" ><span class=\"nd\">phrase</span></div><div class=\"children hor wrap rtl\"><div class=\"contnr c0 trm rtl  \" ><div class=\"lbl c0 trm \" ><a class=\" txtu hbo\" target=\"_blank\" href=\"https://shebanq.ancient-data.org/hebrew/word?version=2017&amp;id=1OL\" title=\"Show this on SHEBANQ\"><span class=\"txtu hbo\">עַל־</span></a></div><div class='features'><span class=\"lex xft\" ><span class=\"f\">lex=</span>&lt;L</span></div></div><div class=\"contnr c0 trm rtl  \" ><div class=\"lbl c0 trm \" ><a class=\" txtu hbo\" target=\"_blank\" href=\"https://shebanq.ancient-data.org/hebrew/word?version=2017&amp;id=1PNHn\" title=\"Show this on SHEBANQ\"><span class=\"txtu hbo\">פְּנֵ֥י </span></a></div><div class='features'><span class=\"lex xft\" ><span class=\"f\">lex=</span>PNH/</span></div></div><div class=\"contnr c0 trm rtl  \" ><div class=\"lbl c0 trm \" ><a class=\" txtu hbo\" target=\"_blank\" href=\"https://shebanq.ancient-data.org/hebrew/word?version=2017&amp;id=1H\" title=\"Show this on SHEBANQ\"><span class=\"txtu hbo\">הָ</span></a></div><div class='features'><span class=\"lex xft\" ><span class=\"f\">lex=</span>H</span></div></div><div class=\"contnr c0 trm rtl  \" ><div class=\"lbl c0 trm \" ><a class=\" txtu hbo\" target=\"_blank\" href=\"https://shebanq.ancient-data.org/hebrew/word?version=2017&amp;id=1ADMHn\" title=\"Show this on SHEBANQ\"><span class=\"txtu hbo\">אֲדָמָֽה׃ פ </span></a></div><div class='features'><span class=\"lex xft\" ><span class=\"f\">lex=</span>>DMH/</span></div></div></div></div></div></div></div>"
      ],
      "text/plain": [
       "<IPython.core.display.HTML object>"
      ]
     },
     "metadata": {},
     "output_type": "display_data"
    }
   ],
   "source": [
    "A.show(results2, condenseType=\"clause\", start=58, end=58)"
   ]
  },
  {
   "cell_type": "markdown",
   "id": "empty-interest",
   "metadata": {},
   "source": [
    "When we look it up in SHEBANQ we find this:\n",
    "\n",
    "![sam](images/sam.png)"
   ]
  },
  {
   "cell_type": "markdown",
   "id": "strange-karen",
   "metadata": {},
   "source": [
    "The thing here is that the forbidden word `PNH/` turns up later in the clause, at 168188.\n",
    "\n",
    "It turns out that the `NOTEXIST` operator in MQL quantifies over all words that *follow* from that position.\n",
    "\n",
    "If `NOTEXIST [word properties]` meant that there is no word *at* that position with those properties, all was well for our purposes.\n",
    "But it means that there is no word *from* that position with those properties.\n",
    "\n",
    "So it turns out: nice idea, but it does not work out in MQL.\n",
    "\n",
    "Now the tide has turned: we have trouble in MQL to find a query that exactly matches our intention, while in TF we can."
   ]
  },
  {
   "cell_type": "markdown",
   "id": "chronic-surname",
   "metadata": {},
   "source": [
    "Still, there might be problems.\n",
    "\n",
    "If there is a clause, with `L`, then a gap, and then either `<JN/` or `PNH/`,\n",
    "the SHEBANQ query would skip it, but the Text-Fabric query would include it.\n",
    "\n",
    "Let's check in Text-Fabric whether this occurs."
   ]
  },
  {
   "cell_type": "code",
   "execution_count": 19,
   "id": "healthy-trance",
   "metadata": {},
   "outputs": [],
   "source": [
    "query = \"\"\"\n",
    "clause\n",
    "  clause_atom\n",
    "    word lex=L\n",
    "    :=\n",
    "  < clause_atom\n",
    "    =: word lex=<JN/|PNH/\n",
    "\"\"\""
   ]
  },
  {
   "cell_type": "code",
   "execution_count": 20,
   "id": "future-hormone",
   "metadata": {},
   "outputs": [
    {
     "name": "stdout",
     "output_type": "stream",
     "text": [
      "  0.88s 0 results\n"
     ]
    }
   ],
   "source": [
    "results = A.search(query)"
   ]
  },
  {
   "cell_type": "markdown",
   "id": "balanced-funds",
   "metadata": {},
   "source": [
    "Nope.\n",
    "\n",
    "But is this query itself right?\n",
    "Let's look for a known case, namely Joshua 8:2 above."
   ]
  },
  {
   "cell_type": "code",
   "execution_count": 21,
   "id": "educated-recall",
   "metadata": {},
   "outputs": [],
   "source": [
    "query = \"\"\"\n",
    "clause\n",
    "  clause_atom\n",
    "    word lex=L\n",
    "    :=\n",
    "  < clause_atom\n",
    "    =: word lex=MN\n",
    "\"\"\""
   ]
  },
  {
   "cell_type": "code",
   "execution_count": 22,
   "id": "assisted-anniversary",
   "metadata": {},
   "outputs": [
    {
     "name": "stdout",
     "output_type": "stream",
     "text": [
      "  0.88s 2 results\n"
     ]
    }
   ],
   "source": [
    "results = A.search(query)"
   ]
  },
  {
   "cell_type": "code",
   "execution_count": 24,
   "id": "adaptive-tennis",
   "metadata": {},
   "outputs": [
    {
     "data": {
      "text/html": [
       "<p><b>result</b> <i>1</i></p>"
      ],
      "text/plain": [
       "<IPython.core.display.HTML object>"
      ]
     },
     "metadata": {},
     "output_type": "display_data"
    },
    {
     "data": {
      "text/html": [
       "<div class=\"tfsechead rtl\"><a target=\"_blank\" href=\"https://shebanq.ancient-data.org/hebrew/text?book=Josua&amp;chapter=8&amp;verse=2&amp;version=2017&amp;mr=m&amp;qw=q&amp;tp=txt_p&amp;tr=hb&amp;wget=v&amp;qget=v&amp;nget=vt\" title=\"Show this on SHEBANQ\" sec=\"Joshua 8:2\">Joshua 8:2</a></div><div class=\"rtl children\"><div class=\"contnr c2  rtl l \" ><div class=\"lbl c2  \" ><span class=\"nd\">clause</span></div><div class=\"children hor wrap rtl\"><div class=\"contnr c1  rtl  \" ><div class=\"lbl c1  \" ><span class=\"nd\">phrase</span></div><div class=\"children hor wrap rtl\"><div class=\"contnr c0 trm rtl  \" ><div class=\"lbl c0 trm \" ><a class=\" txtu hbo\" target=\"_blank\" href=\"https://shebanq.ancient-data.org/hebrew/word?version=2017&amp;id=1FJMv\" title=\"Show this on SHEBANQ\"><span class=\"txtu hbo\">שִׂים־</span></a></div><div class='features'><span class=\"lex xft\" ><span class=\"f\">lex=</span>FJM[</span></div></div></div></div><div class=\"contnr c1  rtl  \" ><div class=\"lbl c1  \" ><span class=\"nd\">phrase</span></div><div class=\"children hor wrap rtl\"><div class=\"contnr c0 trm rtl  hl\" ><div class=\"lbl c0 trm hl\" ><a class=\" txtu hbo\" target=\"_blank\" href=\"https://shebanq.ancient-data.org/hebrew/word?version=2017&amp;id=1L\" title=\"Show this on SHEBANQ\"><span class=\"txtu hbo\">לְךָ֥ </span></a></div><div class='features'><span class=\"lex xft\" ><span class=\"f\">lex=</span>L</span></div></div></div></div></div></div><div class=\"contnr c2  rtl r \" ><div class=\"lbl c2  \" ><span class=\"nd\">clause</span></div><div class=\"children hor wrap rtl\"><div class=\"contnr c1  rtl  \" ><div class=\"lbl c1  \" ><span class=\"nd\">phrase</span></div><div class=\"children hor wrap rtl\"><div class=\"contnr c0 trm rtl  hl\" ><div class=\"lbl c0 trm hl\" ><a class=\" txtu hbo\" target=\"_blank\" href=\"https://shebanq.ancient-data.org/hebrew/word?version=2017&amp;id=1MN\" title=\"Show this on SHEBANQ\"><span class=\"txtu hbo\">מֵ</span></a></div><div class='features'><span class=\"lex xft\" ><span class=\"f\">lex=</span>MN</span></div></div><div class=\"contnr c0 trm rtl  \" ><div class=\"lbl c0 trm \" ><a class=\" txtu hbo\" target=\"_blank\" href=\"https://shebanq.ancient-data.org/hebrew/word?version=2017&amp;id=1AXRn\" title=\"Show this on SHEBANQ\"><span class=\"txtu hbo\">אַחֲרֶֽיהָ׃ </span></a></div><div class='features'><span class=\"lex xft\" ><span class=\"f\">lex=</span>>XR/</span></div></div></div></div></div></div></div>"
      ],
      "text/plain": [
       "<IPython.core.display.HTML object>"
      ]
     },
     "metadata": {},
     "output_type": "display_data"
    },
    {
     "data": {
      "text/html": [
       "<p><b>result</b> <i>2</i></p>"
      ],
      "text/plain": [
       "<IPython.core.display.HTML object>"
      ]
     },
     "metadata": {},
     "output_type": "display_data"
    },
    {
     "data": {
      "text/html": [
       "<div class=\"tfsechead rtl\"><a target=\"_blank\" href=\"https://shebanq.ancient-data.org/hebrew/text?book=Hosea&amp;chapter=10&amp;verse=15&amp;version=2017&amp;mr=m&amp;qw=q&amp;tp=txt_p&amp;tr=hb&amp;wget=v&amp;qget=v&amp;nget=vt\" title=\"Show this on SHEBANQ\" sec=\"Hosea 10:15\">Hosea 10:15</a></div><div class=\"rtl children\"><div class=\"contnr c2  rtl l \" ><div class=\"lbl c2  \" ><span class=\"nd\">clause</span></div><div class=\"children hor wrap rtl\"><div class=\"contnr c1  rtl  \" ><div class=\"lbl c1  \" ><span class=\"nd\">phrase</span></div><div class=\"children hor wrap rtl\"><div class=\"contnr c0 trm rtl  \" ><div class=\"lbl c0 trm \" ><a class=\" txtu hbo\" target=\"_blank\" href=\"https://shebanq.ancient-data.org/hebrew/word?version=2017&amp;id=1KKH\" title=\"Show this on SHEBANQ\"><span class=\"txtu hbo\">כָּ֗כָה </span></a></div><div class='features'><span class=\"lex xft\" ><span class=\"f\">lex=</span>KKH</span></div></div></div></div><div class=\"contnr c1  rtl  \" ><div class=\"lbl c1  \" ><span class=\"nd\">phrase</span></div><div class=\"children hor wrap rtl\"><div class=\"contnr c0 trm rtl  \" ><div class=\"lbl c0 trm \" ><a class=\" txtu hbo\" target=\"_blank\" href=\"https://shebanq.ancient-data.org/hebrew/word?version=2017&amp;id=1OFHv\" title=\"Show this on SHEBANQ\"><span class=\"txtu hbo\">עָשָׂ֤ה </span></a></div><div class='features'><span class=\"lex xft\" ><span class=\"f\">lex=</span>&lt;FH[</span></div></div></div></div><div class=\"contnr c1  rtl  \" ><div class=\"lbl c1  \" ><span class=\"nd\">phrase</span></div><div class=\"children hor wrap rtl\"><div class=\"contnr c0 trm rtl  hl\" ><div class=\"lbl c0 trm hl\" ><a class=\" txtu hbo\" target=\"_blank\" href=\"https://shebanq.ancient-data.org/hebrew/word?version=2017&amp;id=1L\" title=\"Show this on SHEBANQ\"><span class=\"txtu hbo\">לָכֶם֙ </span></a></div><div class='features'><span class=\"lex xft\" ><span class=\"f\">lex=</span>L</span></div></div></div></div></div></div><div class=\"contnr c2  rtl r \" ><div class=\"lbl c2  \" ><span class=\"nd\">clause</span></div><div class=\"children hor wrap rtl\"><div class=\"contnr c1  rtl  \" ><div class=\"lbl c1  \" ><span class=\"nd\">phrase</span></div><div class=\"children hor wrap rtl\"><div class=\"contnr c0 trm rtl  hl\" ><div class=\"lbl c0 trm hl\" ><a class=\" txtu hbo\" target=\"_blank\" href=\"https://shebanq.ancient-data.org/hebrew/word?version=2017&amp;id=1MN\" title=\"Show this on SHEBANQ\"><span class=\"txtu hbo\">מִ</span></a></div><div class='features'><span class=\"lex xft\" ><span class=\"f\">lex=</span>MN</span></div></div><div class=\"contnr c0 trm rtl  \" ><div class=\"lbl c0 trm \" ><a class=\" txtu hbo\" target=\"_blank\" href=\"https://shebanq.ancient-data.org/hebrew/word?version=2017&amp;id=1PNHn\" title=\"Show this on SHEBANQ\"><span class=\"txtu hbo\">פְּנֵ֖י </span></a></div><div class='features'><span class=\"lex xft\" ><span class=\"f\">lex=</span>PNH/</span></div></div><div class=\"contnr c0 trm rtl  \" ><div class=\"lbl c0 trm \" ><a class=\" txtu hbo\" target=\"_blank\" href=\"https://shebanq.ancient-data.org/hebrew/word?version=2017&amp;id=1ROHn\" title=\"Show this on SHEBANQ\"><span class=\"txtu hbo\">רָעַ֣ת </span></a></div><div class='features'><span class=\"lex xft\" ><span class=\"f\">lex=</span>R&lt;H/</span></div></div><div class=\"contnr c0 trm rtl  \" ><div class=\"lbl c0 trm \" ><a class=\" txtu hbo\" target=\"_blank\" href=\"https://shebanq.ancient-data.org/hebrew/word?version=2017&amp;id=1ROHn\" title=\"Show this on SHEBANQ\"><span class=\"txtu hbo\">רָֽעַתְכֶ֑ם </span></a></div><div class='features'><span class=\"lex xft\" ><span class=\"f\">lex=</span>R&lt;H/</span></div></div></div></div></div></div></div>"
      ],
      "text/plain": [
       "<IPython.core.display.HTML object>"
      ]
     },
     "metadata": {},
     "output_type": "display_data"
    }
   ],
   "source": [
    "A.show(results, condenseType=\"clause\")"
   ]
  },
  {
   "cell_type": "markdown",
   "id": "compressed-voluntary",
   "metadata": {},
   "source": [
    "Yes, this kind of query finds exactly what we are looking for."
   ]
  },
  {
   "cell_type": "markdown",
   "id": "reflected-newfoundland",
   "metadata": {},
   "source": [
    "**Conclusion**\n",
    "\n",
    "In Text-Fabric we have found a query with slightly different results.\n",
    "But these results match the intention of the query just a bit better than the original query.\n",
    "\n",
    "We tried to improve the MQL query by using `NOTEXIST`, but that did not work out.\n",
    "\n",
    "However, the TF query might include (contrived) cases that the MQL query would rightfully skip.\n",
    "We can verify whether those cases actually exist by running a separate TF query, and it turns out they do not exist.\n",
    "\n",
    "**Lesson**\n",
    "\n",
    "Whenever an exegesis hinges on the results of a query, check and double check.\n",
    "You probably will have to run multiple queries in SHEBANQ and combine the results.\n",
    "This will quickly get very cumbersome.\n",
    "If that happens, it starts to pay off to use Text-Fabric, where you have more complete power over\n",
    "the computations and their results."
   ]
  }
 ],
 "metadata": {
  "kernelspec": {
   "display_name": "Python 3",
   "language": "python",
   "name": "python3"
  },
  "language_info": {
   "codemirror_mode": {
    "name": "ipython",
    "version": 3
   },
   "file_extension": ".py",
   "mimetype": "text/x-python",
   "name": "python",
   "nbconvert_exporter": "python",
   "pygments_lexer": "ipython3",
   "version": "3.9.2"
  },
  "widgets": {
   "application/vnd.jupyter.widget-state+json": {
    "state": {},
    "version_major": 2,
    "version_minor": 0
   }
  }
 },
 "nbformat": 4,
 "nbformat_minor": 5
}
