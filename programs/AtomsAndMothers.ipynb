{
 "cells": [
  {
   "cell_type": "markdown",
   "metadata": {},
   "source": [
    "<img align=\"right\" src=\"images/dans-small.png\"/>\n",
    "<img align=\"right\" src=\"images/tf-small.png\"/>\n",
    "<img align=\"right\" src=\"images/etcbc.png\"/>\n",
    "\n",
    "\n",
    "# Atoms and Mothers\n",
    "\n",
    "One of the trickiest bits in the\n",
    "[ETCBC database of the Hebrew Bible](https://etcbc.github.io/bhsa/features/hebrew/2016/0_home.html)\n",
    "are the\n",
    "[*atoms*](https://etcbc.github.io/bhsa/features/hebrew/2016/otype.html#linguistic-types)\n",
    "within sentences, clauses and phrases, and the\n",
    "[*mother*](https://etcbc.github.io/bhsa/features/hebrew/2016/mother.html)\n",
    "relationship between objects.\n",
    "\n",
    "Yet a lot of the coding effort of the ETCBC is located in precisely these concepts, especially in the treatment of *clause*-atoms.\n",
    "For example, there is a specific feature\n",
    "[code](https://etcbc.github.io/bhsa/features/hebrew/2016/code.html)\n",
    "defined on clause atoms that provides a refined categorization of clauses.\n",
    "\n",
    "In this notebook, we will explore and highlight what you can do with mothers and clause_atoms.\n",
    "\n",
    "# Acknowledgment\n",
    "\n",
    "This notebook owes a lot to the eager questions of Joshua Grauman and the prompt answers by Hendrik-Jan Bosman, spiced with additional insights of Cody Kingham and David van Acker."
   ]
  },
  {
   "cell_type": "code",
   "execution_count": 1,
   "metadata": {
    "collapsed": true
   },
   "outputs": [],
   "source": [
    "import collections\n",
    "from tf.fabric import Fabric"
   ]
  },
  {
   "cell_type": "code",
   "execution_count": 2,
   "metadata": {},
   "outputs": [
    {
     "name": "stdout",
     "output_type": "stream",
     "text": [
      "This is Text-Fabric 3.0.9\n",
      "Api reference : https://github.com/Dans-labs/text-fabric/wiki/Api\n",
      "Tutorial      : https://github.com/Dans-labs/text-fabric/blob/master/docs/tutorial.ipynb\n",
      "Example data  : https://github.com/Dans-labs/text-fabric-data\n",
      "\n",
      "114 features found and 0 ignored\n"
     ]
    }
   ],
   "source": [
    "locations = \"~/github/etcbc\"\n",
    "BHSA = \"bhsa/tf/2017\"\n",
    "TF = Fabric(locations=locations, modules=[BHSA])"
   ]
  },
  {
   "cell_type": "code",
   "execution_count": 3,
   "metadata": {},
   "outputs": [
    {
     "name": "stdout",
     "output_type": "stream",
     "text": [
      "  0.00s loading features ...\n",
      "   |     0.19s B typ                  from /Users/dirk/github/etcbc/bhsa/tf/2017\n",
      "   |     0.07s B function             from /Users/dirk/github/etcbc/bhsa/tf/2017\n",
      "   |     0.19s B mother               from /Users/dirk/github/etcbc/bhsa/tf/2017\n",
      "   |     0.00s Feature overview: 108 for nodes; 5 for edges; 1 configs; 7 computed\n",
      "  5.43s All features loaded/computed - for details use loadLog()\n"
     ]
    }
   ],
   "source": [
    "api = TF.load(\n",
    "    \"\"\"\n",
    "    typ function\n",
    "    mother\n",
    "\"\"\"\n",
    ")\n",
    "api.makeAvailableIn(globals())"
   ]
  },
  {
   "cell_type": "markdown",
   "metadata": {},
   "source": [
    "# clause and clause_atom\n",
    "\n",
    "The ETCBC does not work with *embedded* clauses. In the clause\n",
    "\n",
    "`we'll see whether this works out later`\n",
    "\n",
    "there is an inner clause `whether this works out`, and an outer clause `we'll see ... later`.\n",
    "\n",
    "In many types of linguistic analysis, the inner clause is part of the outer clause, in the role of\n",
    "direct object. The word `works` belongs both to the inner and outer clause.\n",
    "\n",
    "Not so in the ETCBC analysis of things.\n",
    "The inner clause *interrupts* the outer clause, and the outer clause has a *gap*.\n",
    "The word `works` belongs to the inner clause only.\n",
    "\n",
    "Because of the gap, the outer clause splits into two segments, one before the gap, and one after the gap.\n",
    "These parts are called the *clause_atoms*.\n",
    "\n",
    "The clause_atom before the gap is rather complete, it has a subject and a predicate.\n",
    "The clause_atom after the gap is, well, defective.\n",
    "\n",
    "## Explore\n",
    "\n",
    "Let us see some clauses that consist of multiple clause atoms."
   ]
  },
  {
   "cell_type": "code",
   "execution_count": 4,
   "metadata": {},
   "outputs": [
    {
     "name": "stdout",
     "output_type": "stream",
     "text": [
      "  0.67s 2450 multiple atom clauses\n"
     ]
    }
   ],
   "source": [
    "results = list(\n",
    "    S.search(\n",
    "        \"\"\"\n",
    "clause\n",
    "  clause_atom\n",
    "  < clause_atom\n",
    "\"\"\"\n",
    "    )\n",
    ")\n",
    "\n",
    "mClauses = N.sortNodes(set(x[0] for x in results))\n",
    "TF.info(\"{} multiple atom clauses\".format(len(mClauses)))"
   ]
  },
  {
   "cell_type": "code",
   "execution_count": 5,
   "metadata": {},
   "outputs": [
    {
     "name": "stdout",
     "output_type": "stream",
     "text": [
      "clause[וַיַּבְדֵּ֗ל בֵּ֤ין הַמַּ֨יִם֙ ...] clause_atom[וַיַּבְדֵּ֗ל בֵּ֤ין הַמַּ֨יִם֙ ] clause_atom[וּבֵ֣ין הַמַּ֔יִם ]\n",
      "clause[תַּֽדְשֵׁ֤א הָאָ֨רֶץ֙ דֶּ֔שֶׁא עֵ֚שֶׂב ...] clause_atom[תַּֽדְשֵׁ֤א הָאָ֨רֶץ֙ דֶּ֔שֶׁא עֵ֚שֶׂב ] clause_atom[עֵ֣ץ פְּרִ֞י ]\n",
      "clause[עֹ֤שֶׂה פְּרִי֙ לְמִינֹ֔ו עַל־...] clause_atom[עֹ֤שֶׂה פְּרִי֙ לְמִינֹ֔ו ] clause_atom[עַל־הָאָ֑רֶץ ]\n",
      "clause[וַתֹּוצֵ֨א הָאָ֜רֶץ דֶּ֠שֶׁא ...] clause_atom[וַתֹּוצֵ֨א הָאָ֜רֶץ דֶּ֠שֶׁא ...] clause_atom[וְעֵ֧ץ ]\n",
      "clause[עֹ֥שֶׂה פְּרִ֛י לְמִינֵ֑הוּ ] clause_atom[עֹ֥שֶׂה פְּרִ֛י ] clause_atom[לְמִינֵ֑הוּ ]\n"
     ]
    }
   ],
   "source": [
    "for r in results[0:5]:\n",
    "    print(S.glean(r))"
   ]
  },
  {
   "cell_type": "markdown",
   "metadata": {},
   "source": [
    "Now count the how many clauses have how many atoms."
   ]
  },
  {
   "cell_type": "code",
   "execution_count": 6,
   "metadata": {},
   "outputs": [
    {
     "name": "stdout",
     "output_type": "stream",
     "text": [
      " 2 atoms:  2345 clauses\n",
      " 3 atoms:    94 clauses\n",
      " 4 atoms:     9 clauses\n",
      " 5 atoms:     2 clauses\n"
     ]
    }
   ],
   "source": [
    "caCount = collections.Counter()\n",
    "for c in mClauses:\n",
    "    caCount[len(L.d(c, \"clause_atom\"))] += 1\n",
    "for (nca, nc) in sorted(caCount.items(), key=lambda x: (-x[1], x[0])):\n",
    "    print(\"{:>2} atoms: {:>5} clauses\".format(nca, nc))"
   ]
  },
  {
   "cell_type": "markdown",
   "metadata": {},
   "source": [
    "The next thing is: we want to see every multi-atom clause, and for each atom at which slot it starts and end, and whether its\n",
    "[clause type](https://etcbc.github.io/bhsa/features/hebrew/2016/typ.html)\n",
    "is defective or not."
   ]
  },
  {
   "cell_type": "code",
   "execution_count": 7,
   "metadata": {},
   "outputs": [
    {
     "name": "stdout",
     "output_type": "stream",
     "text": [
      "101-115\n",
      "\t101---105\n",
      "\t112-D-115\n",
      "182-190\n",
      "\t182---186\n",
      "\t189-D-190\n",
      "191-200\n",
      "\t191---194\n",
      "\t198-D-200\n",
      "204-215\n",
      "\t204---209\n",
      "\t214-D-215\n",
      "216-222\n",
      "\t216---217\n",
      "\t221-D-222\n",
      "380-401\n",
      "\t380---391\n",
      "\t400-D-401\n",
      "593-611\n",
      "\t593---598\n",
      "\t607-D-611\n",
      "622-650\n",
      "\t622---640\n",
      "\t645-D-650\n",
      "989-995\n",
      "\t989-D-991\n",
      "\t994---995\n",
      "1097-1110\n",
      "\t1097---1103\n",
      "\t1109-D-1110\n"
     ]
    }
   ],
   "source": [
    "chunks = []\n",
    "for c in mClauses:\n",
    "    cas = L.d(c, \"clause_atom\")\n",
    "    cwords = L.d(c, otype=\"word\")\n",
    "    rep = [\"{}-{}\".format(cwords[0], cwords[-1])]\n",
    "    for ca in cas:\n",
    "        defc = F.typ.v(ca) == \"Defc\"\n",
    "        slots = L.d(ca, otype=\"word\")\n",
    "        bs = slots[0]\n",
    "        es = slots[-1]\n",
    "        rep.append(\"\\t{}-{}-{}\".format(bs, \"D\" if defc else \"-\", es))\n",
    "    chunks.append(rep)\n",
    "\n",
    "for ch in chunks[0:10]:\n",
    "    print(\"\\n\".join(ch))"
   ]
  },
  {
   "cell_type": "markdown",
   "metadata": {},
   "source": [
    "Is it the case that every clause splits into exactly one non-defective atom and the rest defective?\n",
    "Lets count the profiles of clauses. A profile is a sequence of `-` and `D` characters, corresponding to the\n",
    "defectiveness of its successive clause_atoms."
   ]
  },
  {
   "cell_type": "code",
   "execution_count": 8,
   "metadata": {},
   "outputs": [
    {
     "name": "stdout",
     "output_type": "stream",
     "text": [
      "    15s 10 profiles\n",
      "-      : 85651x\n",
      "-D     :  1088x\n",
      "-DD    :    61x\n",
      "-DDD   :     6x\n",
      "-DDDD  :     2x\n",
      "D-     :  1257x\n",
      "D-D    :    10x\n",
      "DD-    :    23x\n",
      "DD-D   :     1x\n",
      "DDD-   :     2x\n"
     ]
    }
   ],
   "source": [
    "profiles = collections.Counter()\n",
    "for c in F.otype.s(\"clause\"):\n",
    "    cas = L.d(c, \"clause_atom\")\n",
    "    profile = \"\".join(\n",
    "        \"D\" if F.typ.v(ca) == \"Defc\" else \"-\" for ca in L.d(c, otype=\"clause_atom\")\n",
    "    )\n",
    "    profiles[profile] += 1\n",
    "TF.info(\"{} profiles\".format(len(profiles)))\n",
    "for (profile, n) in sorted(profiles.items()):\n",
    "    print(\"{:<6} : {:>5}x\".format(profile, n))"
   ]
  },
  {
   "cell_type": "markdown",
   "metadata": {},
   "source": [
    "This gives a pretty good picture of the construction of clauses out of their atoms.\n",
    "Note that we have inspected all clauses, including the single atoms clauses, and note that those are never\n",
    "defective.\n",
    "\n",
    "Is it true then, that the defective clause atoms do not contain a predicate, and the others do.\n",
    "We'll check. A predicate is a phrase with a `function` that is one of a few values.\n",
    "We count the clause_atoms with and without a predicate, separately for defective and complete ones.\n",
    "\n",
    "We expect the classes `D-` (defective, no predicate) and `-P` (complete, with predicate) to be represented,\n",
    "whilst the classes `DP` (defective with predicate) and `--` (complete, without predicate) should be empty."
   ]
  },
  {
   "cell_type": "code",
   "execution_count": 9,
   "metadata": {},
   "outputs": [
    {
     "name": "stdout",
     "output_type": "stream",
     "text": [
      "-- x  7479\n",
      "-P x 80622\n",
      "D- x  2526\n",
      "DP x    42\n"
     ]
    }
   ],
   "source": [
    "predicates = {\"Pred\", \"PreO\", \"PreS\", \"PrcS\", \"PtcO\", \"PreC\"}\n",
    "\n",
    "\n",
    "def classify(clauseSet, predLabels):\n",
    "    defPred = collections.Counter()\n",
    "\n",
    "    for c in clauseSet:\n",
    "        defc = F.typ.v(c) == \"Defc\"\n",
    "        pred = any(F.function.v(p) in predLabels for p in L.d(c, otype=\"phrase\"))\n",
    "        defPred[(\"D\" if defc else \"-\") + (\"P\" if pred else \"-\")] += 1\n",
    "\n",
    "    for x in sorted(defPred.items()):\n",
    "        print(\"{} x {:>5}\".format(*x))\n",
    "\n",
    "\n",
    "classify(F.otype.s(\"clause_atom\"), predicates)"
   ]
  },
  {
   "cell_type": "markdown",
   "metadata": {},
   "source": [
    "It is nearly true that defective atoms do not have a predicate, because the class `DP` is very small.\n",
    "But there is a fair amount of `--` clause_atoms.\n",
    "\n",
    "We can determine which function labels of phrases do not occur in defective clause atoms."
   ]
  },
  {
   "cell_type": "code",
   "execution_count": 10,
   "metadata": {},
   "outputs": [
    {
     "data": {
      "text/plain": [
       "['Adju',\n",
       " 'Cmpl',\n",
       " 'Conj',\n",
       " 'EPPr',\n",
       " 'ExsS',\n",
       " 'Exst',\n",
       " 'Frnt',\n",
       " 'IntS',\n",
       " 'Intj',\n",
       " 'Loca',\n",
       " 'ModS',\n",
       " 'Modi',\n",
       " 'NCoS',\n",
       " 'NCop',\n",
       " 'Nega',\n",
       " 'Objc',\n",
       " 'PrAd',\n",
       " 'PrcS',\n",
       " 'PreC',\n",
       " 'PreO',\n",
       " 'PreS',\n",
       " 'Pred',\n",
       " 'PtcO',\n",
       " 'Ques',\n",
       " 'Rela',\n",
       " 'Subj',\n",
       " 'Supp',\n",
       " 'Time',\n",
       " 'Voct']"
      ]
     },
     "execution_count": 10,
     "metadata": {},
     "output_type": "execute_result"
    }
   ],
   "source": [
    "allFunctions = {F.function.v(p) for p in F.otype.s(\"phrase\")}\n",
    "sorted(allFunctions)"
   ]
  },
  {
   "cell_type": "code",
   "execution_count": 11,
   "metadata": {
    "collapsed": true
   },
   "outputs": [],
   "source": [
    "defcFunctions = collections.Counter()\n",
    "completeFunctions = collections.Counter()\n",
    "for c in F.otype.s(\"clause_atom\"):\n",
    "    dest = defcFunctions if F.typ.v(c) == \"Defc\" else completeFunctions\n",
    "    for p in L.d(c, otype=\"phrase\"):\n",
    "        dest[F.function.v(p)] += 1"
   ]
  },
  {
   "cell_type": "code",
   "execution_count": 12,
   "metadata": {},
   "outputs": [
    {
     "data": {
      "text/plain": [
       "Counter({'Adju': 337,\n",
       "         'Cmpl': 358,\n",
       "         'Conj': 802,\n",
       "         'Exst': 1,\n",
       "         'Intj': 24,\n",
       "         'Loca': 85,\n",
       "         'Modi': 35,\n",
       "         'NCop': 1,\n",
       "         'Nega': 24,\n",
       "         'Objc': 317,\n",
       "         'PrAd': 7,\n",
       "         'PreC': 42,\n",
       "         'Ques': 30,\n",
       "         'Rela': 2,\n",
       "         'Subj': 512,\n",
       "         'Time': 212})"
      ]
     },
     "execution_count": 12,
     "metadata": {},
     "output_type": "execute_result"
    }
   ],
   "source": [
    "defcFunctions"
   ]
  },
  {
   "cell_type": "code",
   "execution_count": 13,
   "metadata": {},
   "outputs": [
    {
     "data": {
      "text/plain": [
       "Counter({'Adju': 9170,\n",
       "         'Cmpl': 29603,\n",
       "         'Conj': 45342,\n",
       "         'EPPr': 21,\n",
       "         'ExsS': 14,\n",
       "         'Exst': 142,\n",
       "         'Frnt': 1100,\n",
       "         'IntS': 251,\n",
       "         'Intj': 1597,\n",
       "         'Loca': 2529,\n",
       "         'ModS': 35,\n",
       "         'Modi': 3709,\n",
       "         'NCoS': 101,\n",
       "         'NCop': 594,\n",
       "         'Nega': 6023,\n",
       "         'Objc': 22187,\n",
       "         'PrAd': 238,\n",
       "         'PrcS': 8,\n",
       "         'PreC': 19313,\n",
       "         'PreO': 5402,\n",
       "         'PreS': 887,\n",
       "         'Pred': 57070,\n",
       "         'PtcO': 163,\n",
       "         'Ques': 1173,\n",
       "         'Rela': 6328,\n",
       "         'Subj': 31364,\n",
       "         'Supp': 178,\n",
       "         'Time': 3849,\n",
       "         'Voct': 1606})"
      ]
     },
     "execution_count": 13,
     "metadata": {},
     "output_type": "execute_result"
    }
   ],
   "source": [
    "completeFunctions"
   ]
  },
  {
   "cell_type": "markdown",
   "metadata": {},
   "source": [
    "So, there are a few defective clause_atoms with a predicative complement, and there are quite a few\n",
    "complete clauses lacking anything that looks like a predicate.\n",
    "\n",
    "If we restrict ourselves to multiple atom clauses, the picture is this."
   ]
  },
  {
   "cell_type": "code",
   "execution_count": 14,
   "metadata": {},
   "outputs": [
    {
     "name": "stdout",
     "output_type": "stream",
     "text": [
      "-- x   182\n",
      "-P x  2268\n",
      "D- x  2526\n",
      "DP x    42\n"
     ]
    }
   ],
   "source": [
    "mClauseAtoms = set()\n",
    "for c in mClauses:\n",
    "    for ca in L.d(c, otype=\"clause_atom\"):\n",
    "        mClauseAtoms.add(ca)\n",
    "classify(mClauseAtoms, predicates)"
   ]
  },
  {
   "cell_type": "markdown",
   "metadata": {},
   "source": [
    "## Conclusion (Atoms)\n",
    "Defective clause atoms are always part of clauses with multiple atoms.\n",
    "Such clauses have exactly one non defective clause_atoms.\n",
    "Defective clause_atoms do not have predicates, but may have a predicative complement or adjunct.\n",
    "Most non-defective clause atoms have a predicate, but their is a fair collection without."
   ]
  },
  {
   "cell_type": "markdown",
   "metadata": {},
   "source": [
    "# Mothers\n",
    "\n",
    "The `mother` relationship between nodes tells something about linguistic dependency.\n",
    "We first investigate the extent of the `mother` relationship in terms of node types, and then we concentrate on the mothers and daughters of clause atoms."
   ]
  },
  {
   "cell_type": "code",
   "execution_count": 15,
   "metadata": {
    "collapsed": true
   },
   "outputs": [],
   "source": [
    "motherInventory = collections.Counter()\n",
    "for n in N():\n",
    "    for m in E.mother.f(n):\n",
    "        motherInventory[(F.otype.v(n), F.otype.v(m))] += 1"
   ]
  },
  {
   "cell_type": "code",
   "execution_count": 16,
   "metadata": {},
   "outputs": [
    {
     "name": "stdout",
     "output_type": "stream",
     "text": [
      "      clause => clause       x  13907\n",
      "      clause => phrase       x   5716\n",
      "      clause => word         x   1167\n",
      " clause_atom => clause_atom  x  89580\n",
      "      phrase => clause       x     51\n",
      "      phrase => phrase       x    506\n",
      "      phrase => word         x      8\n",
      " phrase_atom => phrase_atom  x  12497\n",
      " phrase_atom => word         x   1835\n",
      "   subphrase => subphrase    x  22009\n",
      "   subphrase => word         x  34883\n"
     ]
    }
   ],
   "source": [
    "for ((fr, to), n) in sorted(motherInventory.items()):\n",
    "    print(\"{:>12} => {:<12} x {:>6}\".format(fr, to, n))"
   ]
  },
  {
   "cell_type": "markdown",
   "metadata": {},
   "source": [
    "Clearly, the `mother` relationship does a big thing with clause atoms, more than with any other object type.\n",
    "Also, mothers and daughters of clause atoms are always clause atoms themselves.\n",
    "\n",
    "There is also a rich web between subphrases and words.\n",
    "We collect the subphrases that have a subphrase as mother and separately those that have a word as mother.\n",
    "The `S.search()` command can be put to handy use. It gives an example how to use *edge* features, such as `mother`, in search templates.\n",
    "\n",
    "However, I forgot the syntax, so first this:"
   ]
  },
  {
   "cell_type": "code",
   "execution_count": 17,
   "metadata": {},
   "outputs": [
    {
     "name": "stdout",
     "output_type": "stream",
     "text": [
      "                      = left equal to right (as node)\n",
      "                      # left unequal to right (as node)\n",
      "                      < left before right (in canonical node ordering)\n",
      "                      > left after right (in canonical node ordering)\n",
      "                     == left occupies same slots as right\n",
      "                     && left has overlapping slots with right\n",
      "                     ## left and right do not have the same slot set\n",
      "                     || left and right do not have common slots\n",
      "                     [[ left embeds right\n",
      "                     ]] left embedded in right\n",
      "                     << left completely before right\n",
      "                     >> left completely after right\n",
      "                     =: left and right start at the same slot\n",
      "                     := left and right end at the same slot\n",
      "                     :: left and right start and end at the same slot\n",
      "                     <: left immediately before right\n",
      "                     :> left immediately after right\n",
      "                    =k: left and right start at k-nearly the same slot\n",
      "                    :k= left and right end at k-nearly the same slot\n",
      "                    :k: left and right start and end at k-near slots\n",
      "                    <k: left k-nearly before right\n",
      "                    :k> left k-nearly after right\n",
      "-distributional_parent> edge feature \"distributional_parent\"\n",
      "<distributional_parent- edge feature \"distributional_parent\" (opposite direction)\n",
      "    -functional_parent> edge feature \"functional_parent\"\n",
      "    <functional_parent- edge feature \"functional_parent\" (opposite direction)\n",
      "               -mother> edge feature \"mother\"\n",
      "               <mother- edge feature \"mother\" (opposite direction)\n",
      "       -omap@2016-2017> edge feature \"omap@2016-2017\"\n",
      "       <omap@2016-2017- edge feature \"omap@2016-2017\" (opposite direction)\n",
      "The grid feature \"oslots\" cannot be used in searches.\n",
      "Surely, one of the above relations on nodes and/or slots will suit you better!\n"
     ]
    }
   ],
   "source": [
    "print(S.relationLegend)"
   ]
  },
  {
   "cell_type": "code",
   "execution_count": 18,
   "metadata": {
    "collapsed": true
   },
   "outputs": [],
   "source": [
    "resultsW = sorted(\n",
    "    S.search(\n",
    "        \"\"\"\n",
    "verse\n",
    "  subphrase\n",
    "  -mother> word\n",
    "\"\"\"\n",
    "    )\n",
    ")"
   ]
  },
  {
   "cell_type": "code",
   "execution_count": 19,
   "metadata": {},
   "outputs": [
    {
     "data": {
      "text/plain": [
       "34883"
      ]
     },
     "execution_count": 19,
     "metadata": {},
     "output_type": "execute_result"
    }
   ],
   "source": [
    "len(resultsW)"
   ]
  },
  {
   "cell_type": "markdown",
   "metadata": {},
   "source": [
    "Let peek at the first 10."
   ]
  },
  {
   "cell_type": "code",
   "execution_count": 20,
   "metadata": {},
   "outputs": [
    {
     "name": "stdout",
     "output_type": "stream",
     "text": [
      "Genesis 1:2 subphrase[תְהֹ֑ום ] פְּנֵ֣י \n",
      "Genesis 1:2 subphrase[אֱלֹהִ֔ים ] ר֣וּחַ \n",
      "Genesis 1:2 subphrase[הַמָּֽיִם׃ ] פְּנֵ֥י \n",
      "Genesis 1:6 subphrase[הַמָּ֑יִם ] תֹ֣וךְ \n",
      "Genesis 1:9 subphrase[הַשָּׁמַ֨יִם֙ ] תַּ֤חַת \n",
      "Genesis 1:10 subphrase[הַמַּ֖יִם ] מִקְוֵ֥ה \n",
      "Genesis 1:11 subphrase[פְּרִ֞י ] עֵ֣ץ \n",
      "Genesis 1:14 subphrase[הַשָּׁמַ֔יִם ] רְקִ֣יעַ \n",
      "Genesis 1:15 subphrase[הַשָּׁמַ֔יִם ] רְקִ֣יעַ \n",
      "Genesis 1:16 subphrase[הַמְּאֹרֹ֖ת הַגְּדֹלִ֑ים ] שְׁנֵ֥י \n"
     ]
    }
   ],
   "source": [
    "for r in resultsW[0:10]:\n",
    "    print(S.glean(r))"
   ]
  },
  {
   "cell_type": "markdown",
   "metadata": {},
   "source": [
    "And now the same for subphrases with subphrase mothers."
   ]
  },
  {
   "cell_type": "code",
   "execution_count": 21,
   "metadata": {},
   "outputs": [
    {
     "name": "stdout",
     "output_type": "stream",
     "text": [
      "22009\n",
      "Genesis 1:1 subphrase[אֵ֥ת הָאָֽרֶץ׃ ] subphrase[אֵ֥ת הַשָּׁמַ֖יִם ]\n",
      "Genesis 1:2 subphrase[בֹ֔הוּ ] subphrase[תֹ֨הוּ֙ ]\n",
      "Genesis 1:4 subphrase[בֵ֥ין הַחֹֽשֶׁךְ׃ ] subphrase[בֵּ֥ין הָאֹ֖ור ]\n",
      "Genesis 1:5 subphrase[אֶחָֽד׃ פ ] subphrase[יֹ֥ום ]\n",
      "Genesis 1:8 subphrase[שֵׁנִֽי׃ פ ] subphrase[יֹ֥ום ]\n",
      "Genesis 1:9 subphrase[אֶחָ֔ד ] subphrase[מָקֹ֣ום ]\n",
      "Genesis 1:13 subphrase[שְׁלִישִֽׁי׃ פ ] subphrase[יֹ֥ום ]\n",
      "Genesis 1:14 subphrase[בֵ֣ין הַלָּ֑יְלָה ] subphrase[בֵּ֥ין הַיֹּ֖ום ]\n",
      "Genesis 1:14 subphrase[לְמֹ֣ועֲדִ֔ים ] subphrase[לְאֹתֹת֙ ]\n",
      "Genesis 1:14 subphrase[שָׁנִֽים׃ ] subphrase[יָמִ֖ים ]\n"
     ]
    }
   ],
   "source": [
    "def inspectMotherSp():\n",
    "    results = sorted(\n",
    "        S.search(\n",
    "            \"\"\"\n",
    "verse\n",
    "  subphrase\n",
    "  -mother> subphrase\n",
    "    \"\"\"\n",
    "        )\n",
    "    )\n",
    "    print(len(results))\n",
    "    for r in results[0:10]:\n",
    "        print(S.glean(r))\n",
    "\n",
    "\n",
    "inspectMotherSp()"
   ]
  }
 ],
 "metadata": {
  "kernelspec": {
   "display_name": "Python 3",
   "language": "python",
   "name": "python3"
  },
  "language_info": {
   "codemirror_mode": {
    "name": "ipython",
    "version": 3
   },
   "file_extension": ".py",
   "mimetype": "text/x-python",
   "name": "python",
   "nbconvert_exporter": "python",
   "pygments_lexer": "ipython3",
   "version": "3.6.2"
  }
 },
 "nbformat": 4,
 "nbformat_minor": 2
}
