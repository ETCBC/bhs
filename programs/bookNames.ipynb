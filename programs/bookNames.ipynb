{
 "cells": [
  {
   "cell_type": "markdown",
   "metadata": {
    "toc": true
   },
   "source": [
    "<h1>Table of Contents<span class=\"tocSkip\"></span></h1>\n",
    "<div class=\"toc\" style=\"margin-top: 1em;\"><ul class=\"toc-item\"><li><span><a href=\"#Discussion\" data-toc-modified-id=\"Discussion-1\"><span class=\"toc-item-num\">1&nbsp;&nbsp;</span>Discussion</a></span></li></ul></div>"
   ]
  },
  {
   "cell_type": "markdown",
   "metadata": {},
   "source": [
    "<img align=\"right\" src=\"images/dans-small.png\"/>\n",
    "<img align=\"right\" src=\"images/tf-small.png\"/>\n",
    "<img align=\"right\" src=\"images/etcbc.png\"/>\n",
    "\n",
    "\n",
    "# Booknames (multilingual)\n",
    "\n",
    "This notebook adds multilingual book names to a\n",
    "[BHSA](https://github.com/ETCBC/bhsa) dataset in\n",
    "[text-Fabric](https://github.com/Dans-labs/text-fabric)\n",
    "format.\n",
    "\n",
    "## Discussion\n",
    "\n",
    "We add the features\n",
    "`book@`*iso*\n",
    "where *iso* is a\n",
    "[two letter ISO-639](https://en.wikipedia.org/wiki/List_of_ISO_639-1_codes)\n",
    "language code of a modern language.\n",
    "We use a source file `blang.py` that contains the names of the books of the bible\n",
    "in modern languages (around 20, most big languages are covered).\n",
    "This data has been gleaned mostly from Wikipedia.\n",
    "\n",
    "We assume that the dataset has the `book` feature present, holding *Latin* book names.\n",
    "\n",
    "This program works for all datasets and versions that have this feature with the\n",
    "intended meaning."
   ]
  },
  {
   "cell_type": "code",
   "execution_count": 1,
   "metadata": {
    "tags": []
   },
   "outputs": [],
   "source": [
    "import os\n",
    "import sys\n",
    "import utils\n",
    "from tf.fabric import Fabric\n",
    "from blang import bookLangs, bookNames\n"
   ]
  },
  {
   "cell_type": "markdown",
   "metadata": {},
   "source": [
    "# Pipeline\n",
    "See [operation](https://github.com/ETCBC/pipeline/blob/master/README.md#operation)\n",
    "for how to run this script in the pipeline."
   ]
  },
  {
   "cell_type": "code",
   "execution_count": 2,
   "metadata": {
    "tags": []
   },
   "outputs": [],
   "source": [
    "if \"SCRIPT\" not in locals():\n",
    "    SCRIPT = False\n",
    "    FORCE = True\n",
    "    CORE_NAME = \"bhsa\"\n",
    "    VERSION = \"2021\"\n",
    "\n",
    "\n",
    "def stop(good=False):\n",
    "    if SCRIPT:\n",
    "        sys.exit(0 if good else 1)"
   ]
  },
  {
   "cell_type": "markdown",
   "metadata": {},
   "source": [
    "# Setting up the context: source file and target directories\n",
    "\n",
    "The conversion is executed in an environment of directories, so that sources, temp files and\n",
    "results are in convenient places and do not have to be shifted around."
   ]
  },
  {
   "cell_type": "code",
   "execution_count": 3,
   "metadata": {
    "tags": []
   },
   "outputs": [],
   "source": [
    "repoBase = os.path.expanduser(\"~/github/etcbc\")\n",
    "thisRepo = \"{}/{}\".format(repoBase, CORE_NAME)\n",
    "\n",
    "thisTemp = \"{}/_temp/{}\".format(thisRepo, VERSION)\n",
    "thisTempTf = \"{}/tf\".format(thisTemp)\n",
    "\n",
    "thisTf = \"{}/tf/{}\".format(thisRepo, VERSION)"
   ]
  },
  {
   "cell_type": "markdown",
   "metadata": {},
   "source": [
    "# Collect\n",
    "\n",
    "We collect the book names."
   ]
  },
  {
   "cell_type": "code",
   "execution_count": 4,
   "metadata": {},
   "outputs": [
    {
     "name": "stdout",
     "output_type": "stream",
     "text": [
      "..............................................................................................\n",
      ".       0.00s Book names                                                                     .\n",
      "..............................................................................................\n",
      "|       0.00s 26 languages ...\n"
     ]
    }
   ],
   "source": [
    "utils.caption(4, \"Book names\")\n",
    "\n",
    "metaData = {\n",
    "    \"\": dict(\n",
    "        dataset=\"BHSA\",\n",
    "        version=VERSION,\n",
    "        datasetName=\"Biblia Hebraica Stuttgartensia Amstelodamensis\",\n",
    "        author=\"Eep Talstra Centre for Bible and Computer\",\n",
    "        provenance=\"book names from wikipedia and other sources\",\n",
    "        encoders=\"Dirk Roorda (TF)\",\n",
    "        website=\"https://shebanq.ancient-data.org\",\n",
    "        email=\"shebanq@ancient-data.org\",\n",
    "    ),\n",
    "}\n",
    "\n",
    "for (langCode, (langEnglish, langName)) in bookLangs.items():\n",
    "    metaData[\"book@{}\".format(langCode)] = {\n",
    "        \"valueType\": \"str\",\n",
    "        \"language\": langName,\n",
    "        \"languageCode\": langCode,\n",
    "        \"languageEnglish\": langEnglish,\n",
    "    }\n",
    "\n",
    "newFeatures = sorted(m for m in metaData if m != \"\")\n",
    "newFeaturesStr = \" \".join(newFeatures)\n",
    "\n",
    "utils.caption(0, \"{} languages ...\".format(len(newFeatures)))"
   ]
  },
  {
   "cell_type": "markdown",
   "metadata": {},
   "source": [
    "# Test\n",
    "\n",
    "Check whether this conversion is needed in the first place.\n",
    "Only when run as a script."
   ]
  },
  {
   "cell_type": "code",
   "execution_count": 5,
   "metadata": {
    "tags": []
   },
   "outputs": [],
   "source": [
    "if SCRIPT:\n",
    "    (good, work) = utils.mustRun(\n",
    "        None, \"{}/.tf/{}.tfx\".format(thisTf, newFeatures[0]), force=FORCE\n",
    "    )\n",
    "    if not good:\n",
    "        stop(good=False)\n",
    "    if not work:\n",
    "        stop(good=True)"
   ]
  },
  {
   "cell_type": "markdown",
   "metadata": {},
   "source": [
    "# Load existing data"
   ]
  },
  {
   "cell_type": "code",
   "execution_count": 6,
   "metadata": {},
   "outputs": [
    {
     "name": "stdout",
     "output_type": "stream",
     "text": [
      "..............................................................................................\n",
      ".       4.78s Loading relevant features                                                      .\n",
      "..............................................................................................\n",
      "This is Text-Fabric 8.5.13\n",
      "Api reference : https://annotation.github.io/text-fabric/tf/cheatsheet.html\n",
      "\n",
      "88 features found and 0 ignored\n",
      "  0.00s loading features ...\n",
      "   |     0.00s Dataset without structure sections in otext:no structure functions in the T-API\n",
      "  3.58s All features loaded/computed - for details use loadLog()\n",
      "|       8.37s 26 book name features created\n"
     ]
    }
   ],
   "source": [
    "utils.caption(4, \"Loading relevant features\")\n",
    "\n",
    "TF = Fabric(locations=thisTf, modules=[\"\"])\n",
    "api = TF.load(\"book\")\n",
    "api.makeAvailableIn(globals())\n",
    "\n",
    "nodeFeatures = {}\n",
    "nodeFeatures[\"book@la\"] = {}\n",
    "\n",
    "bookNodes = []\n",
    "for b in F.otype.s(\"book\"):\n",
    "    bookNodes.append(b)\n",
    "    nodeFeatures[\"book@la\"][b] = F.book.v(b)\n",
    "\n",
    "for (langCode, langBookNames) in bookNames.items():\n",
    "    nodeFeatures[\"book@{}\".format(langCode)] = dict(zip(bookNodes, langBookNames))\n",
    "utils.caption(0, \"{} book name features created\".format(len(nodeFeatures)))"
   ]
  },
  {
   "cell_type": "markdown",
   "metadata": {},
   "source": [
    "# Write new features"
   ]
  },
  {
   "cell_type": "code",
   "execution_count": 7,
   "metadata": {},
   "outputs": [
    {
     "name": "stdout",
     "output_type": "stream",
     "text": [
      "..............................................................................................\n",
      ".         18s Write book name features as TF                                                 .\n",
      "..............................................................................................\n"
     ]
    },
    {
     "data": {
      "text/plain": [
       "True"
      ]
     },
     "execution_count": 7,
     "metadata": {},
     "output_type": "execute_result"
    }
   ],
   "source": [
    "utils.caption(4, \"Write book name features as TF\")\n",
    "TF = Fabric(locations=thisTempTf, silent=True)\n",
    "TF.save(nodeFeatures=nodeFeatures, edgeFeatures={}, metaData=metaData)"
   ]
  },
  {
   "cell_type": "markdown",
   "metadata": {},
   "source": [
    "# Diffs\n",
    "\n",
    "Check differences with previous versions."
   ]
  },
  {
   "cell_type": "code",
   "execution_count": 8,
   "metadata": {},
   "outputs": [
    {
     "name": "stdout",
     "output_type": "stream",
     "text": [
      "..............................................................................................\n",
      ".         21s Check differences with previous version                                        .\n",
      "..............................................................................................\n",
      "|         21s \t26 features to add\n",
      "|         21s \t\tbook@am\n",
      "|         21s \t\tbook@ar\n",
      "|         21s \t\tbook@bn\n",
      "|         21s \t\tbook@da\n",
      "|         21s \t\tbook@de\n",
      "|         21s \t\tbook@el\n",
      "|         21s \t\tbook@en\n",
      "|         21s \t\tbook@es\n",
      "|         21s \t\tbook@fa\n",
      "|         21s \t\tbook@fr\n",
      "|         21s \t\tbook@he\n",
      "|         21s \t\tbook@hi\n",
      "|         21s \t\tbook@id\n",
      "|         21s \t\tbook@ja\n",
      "|         21s \t\tbook@ko\n",
      "|         21s \t\tbook@la\n",
      "|         21s \t\tbook@nl\n",
      "|         21s \t\tbook@pa\n",
      "|         21s \t\tbook@pt\n",
      "|         21s \t\tbook@ru\n",
      "|         21s \t\tbook@sw\n",
      "|         21s \t\tbook@syc\n",
      "|         21s \t\tbook@tr\n",
      "|         21s \t\tbook@ur\n",
      "|         21s \t\tbook@yo\n",
      "|         21s \t\tbook@zh\n",
      "|         21s \tno features to delete\n",
      "|         21s \t0 features in common\n",
      "|         21s Done\n"
     ]
    }
   ],
   "source": [
    "utils.checkDiffs(thisTempTf, thisTf, only=set(newFeatures))"
   ]
  },
  {
   "cell_type": "markdown",
   "metadata": {},
   "source": [
    "# Deliver\n",
    "\n",
    "Copy the new Text-Fabric features from the temporary location where they have been created to their final destination."
   ]
  },
  {
   "cell_type": "code",
   "execution_count": 9,
   "metadata": {},
   "outputs": [
    {
     "name": "stdout",
     "output_type": "stream",
     "text": [
      "..............................................................................................\n",
      ".         23s Deliver features to /Users/dirk/github/etcbc/bhsa/tf/2021                      .\n",
      "..............................................................................................\n",
      "|         23s \tbook@am\n",
      "|         23s \tbook@ar\n",
      "|         23s \tbook@bn\n",
      "|         23s \tbook@da\n",
      "|         23s \tbook@de\n",
      "|         23s \tbook@el\n",
      "|         23s \tbook@en\n",
      "|         23s \tbook@es\n",
      "|         23s \tbook@fa\n",
      "|         23s \tbook@fr\n",
      "|         23s \tbook@he\n",
      "|         23s \tbook@hi\n",
      "|         23s \tbook@id\n",
      "|         23s \tbook@ja\n",
      "|         23s \tbook@ko\n",
      "|         23s \tbook@la\n",
      "|         23s \tbook@nl\n",
      "|         23s \tbook@pa\n",
      "|         23s \tbook@pt\n",
      "|         23s \tbook@ru\n",
      "|         23s \tbook@sw\n",
      "|         23s \tbook@syc\n",
      "|         23s \tbook@tr\n",
      "|         23s \tbook@ur\n",
      "|         23s \tbook@yo\n",
      "|         23s \tbook@zh\n"
     ]
    }
   ],
   "source": [
    "utils.deliverFeatures(thisTempTf, thisTf, newFeatures)"
   ]
  },
  {
   "cell_type": "markdown",
   "metadata": {},
   "source": [
    "# Compile TF"
   ]
  },
  {
   "cell_type": "code",
   "execution_count": 10,
   "metadata": {},
   "outputs": [
    {
     "name": "stdout",
     "output_type": "stream",
     "text": [
      "..............................................................................................\n",
      ".         27s Load and compile the new TF features                                           .\n",
      "..............................................................................................\n",
      "This is Text-Fabric 8.5.13\n",
      "Api reference : https://annotation.github.io/text-fabric/tf/cheatsheet.html\n",
      "\n",
      "114 features found and 0 ignored\n",
      "  0.00s loading features ...\n",
      "   |     0.00s Dataset without structure sections in otext:no structure functions in the T-API\n",
      "   |     0.00s T book@ko              from ~/github/etcbc/bhsa/tf/2021\n",
      "   |     0.00s T book@fr              from ~/github/etcbc/bhsa/tf/2021\n",
      "   |     0.00s T book@zh              from ~/github/etcbc/bhsa/tf/2021\n",
      "   |     0.00s T book@en              from ~/github/etcbc/bhsa/tf/2021\n",
      "   |     0.00s T book@ja              from ~/github/etcbc/bhsa/tf/2021\n",
      "   |     0.00s T book@syc             from ~/github/etcbc/bhsa/tf/2021\n",
      "   |     0.00s T book@he              from ~/github/etcbc/bhsa/tf/2021\n",
      "   |     0.00s T book@es              from ~/github/etcbc/bhsa/tf/2021\n",
      "   |     0.00s T book@id              from ~/github/etcbc/bhsa/tf/2021\n",
      "   |     0.00s T book@bn              from ~/github/etcbc/bhsa/tf/2021\n",
      "   |     0.00s T book@yo              from ~/github/etcbc/bhsa/tf/2021\n",
      "   |     0.00s T book@la              from ~/github/etcbc/bhsa/tf/2021\n",
      "   |     0.00s T book@da              from ~/github/etcbc/bhsa/tf/2021\n",
      "   |     0.00s T book@ru              from ~/github/etcbc/bhsa/tf/2021\n",
      "   |     0.00s T book@pt              from ~/github/etcbc/bhsa/tf/2021\n",
      "   |     0.00s T book@tr              from ~/github/etcbc/bhsa/tf/2021\n",
      "   |     0.00s T book@ur              from ~/github/etcbc/bhsa/tf/2021\n",
      "   |     0.00s T book@hi              from ~/github/etcbc/bhsa/tf/2021\n",
      "   |     0.00s T book@de              from ~/github/etcbc/bhsa/tf/2021\n",
      "   |     0.00s T book@ar              from ~/github/etcbc/bhsa/tf/2021\n",
      "   |     0.00s T book@el              from ~/github/etcbc/bhsa/tf/2021\n",
      "   |     0.00s T book@pa              from ~/github/etcbc/bhsa/tf/2021\n",
      "   |     0.00s T book@sw              from ~/github/etcbc/bhsa/tf/2021\n",
      "   |     0.00s T book@fa              from ~/github/etcbc/bhsa/tf/2021\n",
      "   |     0.00s T book@nl              from ~/github/etcbc/bhsa/tf/2021\n",
      "   |     0.00s T book@am              from ~/github/etcbc/bhsa/tf/2021\n",
      "  3.62s All features loaded/computed - for details use loadLog()\n"
     ]
    },
    {
     "data": {
      "text/plain": [
       "[('Computed',\n",
       "  'computed-data',\n",
       "  ('C Computed', 'Call AllComputeds', 'Cs ComputedString')),\n",
       " ('Features', 'edge-features', ('E Edge', 'Eall AllEdges', 'Es EdgeString')),\n",
       " ('Fabric', 'loading', ('TF',)),\n",
       " ('Locality', 'locality', ('L Locality',)),\n",
       " ('Nodes', 'navigating-nodes', ('N Nodes',)),\n",
       " ('Features',\n",
       "  'node-features',\n",
       "  ('F Feature', 'Fall AllFeatures', 'Fs FeatureString')),\n",
       " ('Search', 'search', ('S Search',)),\n",
       " ('Text', 'text', ('T Text',))]"
      ]
     },
     "execution_count": 10,
     "metadata": {},
     "output_type": "execute_result"
    }
   ],
   "source": [
    "utils.caption(4, \"Load and compile the new TF features\")\n",
    "\n",
    "TF = Fabric(locations=thisTf, modules=[\"\"])\n",
    "api = TF.load(\"\")\n",
    "api.makeAvailableIn(globals())"
   ]
  },
  {
   "cell_type": "markdown",
   "metadata": {},
   "source": [
    "# Examples"
   ]
  },
  {
   "cell_type": "code",
   "execution_count": 11,
   "metadata": {},
   "outputs": [
    {
     "name": "stdout",
     "output_type": "stream",
     "text": [
      "..............................................................................................\n",
      ".         33s Genesis in all languages                                                       .\n",
      "..............................................................................................\n",
      "|         33s    = default              Genesis is Genesis              in default             \n",
      "|         33s am = amharic              Genesis is ኦሪት_ዘፍጥረት            in ኣማርኛ                \n",
      "|         33s ar = arabic               Genesis is تكوين                in العَرَبِية          \n",
      "|         33s bn = bengali              Genesis is আদিপুস্তক            in বাংলা               \n",
      "|         33s da = danish               Genesis is 1.Mosebog            in Dansk               \n",
      "|         33s de = german               Genesis is Genesis              in Deutsch             \n",
      "|         33s el = greek                Genesis is Γένεση               in Ελληνικά            \n",
      "|         33s en = english              Genesis is Genesis              in English             \n",
      "|         33s es = spanish              Genesis is Génesis              in Español             \n",
      "|         33s fa = farsi                Genesis is پيدايش               in فارسی               \n",
      "|         33s fr = french               Genesis is Genèse               in Français            \n",
      "|         33s he = hebrew               Genesis is בראשית               in עברית               \n",
      "|         33s hi = hindi                Genesis is उत्पाति              in हिन्दी              \n",
      "|         33s id = indonesian           Genesis is Kejadian             in Bahasa Indonesia    \n",
      "|         33s ja = japanese             Genesis is 創世記                  in 日本語                 \n",
      "|         33s ko = korean               Genesis is 창세기                  in 한국어                 \n",
      "|         33s la = latin                Genesis is Genesis              in Latina              \n",
      "|         33s nl = dutch                Genesis is Genesis              in Nederlands          \n",
      "|         33s pa = punjabi              Genesis is ਉਤਪਤ                 in ਪੰਜਾਬੀ              \n",
      "|         33s pt = portuguese           Genesis is Gênesis              in Português           \n",
      "|         33s ru = russian              Genesis is Бытия                in Русский             \n",
      "|         33s sw = swahili              Genesis is Mwanzo               in Kiswahili           \n",
      "|         33s syc = syriac               Genesis is ܒܪܝܬܐ                in ܠܫܢܐ ܣܘܪܝܝܐ         \n",
      "|         33s tr = turkish              Genesis is Yaratılış            in Türkçe              \n",
      "|         33s ur = urdu                 Genesis is پیدائش               in اُردُو              \n",
      "|         33s yo = yoruba               Genesis is Genesisi             in èdè Yorùbá          \n",
      "|         33s zh = chinese              Genesis is 创世记                  in 中文                  \n",
      "|         33s Done\n"
     ]
    }
   ],
   "source": [
    "utils.caption(4, \"Genesis in all languages\")\n",
    "genesisNode = F.otype.s(\"book\")[0]\n",
    "\n",
    "for (lang, langInfo) in sorted(T.languages.items()):\n",
    "    language = langInfo[\"language\"]\n",
    "    langEng = langInfo[\"languageEnglish\"]\n",
    "    book = T.sectionFromNode(genesisNode, lang=lang)[0]\n",
    "    utils.caption(\n",
    "        0,\n",
    "        \"{:<2} = {:<20} Genesis is {:<20} in {:<20}\".format(\n",
    "            lang, langEng, book, language\n",
    "        ),\n",
    "    )\n",
    "\n",
    "utils.caption(0, \"Done\")"
   ]
  }
 ],
 "metadata": {
  "kernelspec": {
   "display_name": "Python 3",
   "language": "python",
   "name": "python3"
  },
  "language_info": {
   "codemirror_mode": {
    "name": "ipython",
    "version": 3
   },
   "file_extension": ".py",
   "mimetype": "text/x-python",
   "name": "python",
   "nbconvert_exporter": "python",
   "pygments_lexer": "ipython3",
   "version": "3.9.5"
  },
  "toc": {
   "nav_menu": {},
   "number_sections": true,
   "sideBar": true,
   "skip_h1_title": true,
   "toc_cell": true,
   "toc_position": {},
   "toc_section_display": "block",
   "toc_window_display": false
  },
  "widgets": {
   "application/vnd.jupyter.widget-state+json": {
    "state": {},
    "version_major": 2,
    "version_minor": 0
   }
  }
 },
 "nbformat": 4,
 "nbformat_minor": 4
}
