{
 "cells": [
  {
   "cell_type": "markdown",
   "metadata": {},
   "source": [
    "<img align=\"right\" src=\"images/dans-small.png\"/>\n",
    "<img align=\"right\" src=\"images/tf-small.png\"/>\n",
    "<img align=\"right\" src=\"images/etcbc.png\"/>\n",
    "\n",
    "\n",
    "# Import BHSA data into R\n",
    "\n",
    "This notebook contains the R instructions to load the\n",
    "[bigTables](bigTables.ipynb) export of the BHSA\n",
    "and save it in the much more compact `.rds` format.\n",
    "\n",
    "We then perform some simple information extracting on the data.\n",
    "For comparison, the same information extraction has been done for Pandas:\n",
    "in [bigTablesP](bigTablesP.ipynb).\n",
    "\n",
    "Note that we have to ignore quotes and comment signs!\n",
    "\n",
    "First we load the big text file with all information. This will take 3 minutes or so."
   ]
  },
  {
   "cell_type": "code",
   "execution_count": 1,
   "metadata": {},
   "outputs": [
    {
     "data": {
      "text/html": [
       "<style>\n",
       ".list-inline {list-style: none; margin:0; padding: 0}\n",
       ".list-inline>li {display: inline-block}\n",
       ".list-inline>li:not(:last-child)::after {content: \"\\00b7\"; padding: 0 .5ex}\n",
       "</style>\n",
       "<ol class=list-inline><li>1446635</li><li>101</li></ol>\n"
      ],
      "text/latex": [
       "\\begin{enumerate*}\n",
       "\\item 1446635\n",
       "\\item 101\n",
       "\\end{enumerate*}\n"
      ],
      "text/markdown": [
       "1. 1446635\n",
       "2. 101\n",
       "\n",
       "\n"
      ],
      "text/plain": [
       "[1] 1446635     101"
      ]
     },
     "metadata": {},
     "output_type": "display_data"
    }
   ],
   "source": [
    "bhsa = read.table(\n",
    "    '../_temp/2017/r/bhsa2017.txt',\n",
    "    sep=\"\\t\",\n",
    "    header=TRUE,\n",
    "    comment.char=\"\",\n",
    "    quote=\"\",\n",
    "    as.is = TRUE,\n",
    ")\n",
    "dim(bhsa)"
   ]
  },
  {
   "cell_type": "markdown",
   "metadata": {},
   "source": [
    "Now we save it into compact `.rds` format."
   ]
  },
  {
   "cell_type": "code",
   "execution_count": 2,
   "metadata": {},
   "outputs": [],
   "source": [
    "saveRDS(\n",
    "    object=bhsa,\n",
    "    file='../_temp/2017/r/bhsa2017.rds'\n",
    ")"
   ]
  },
  {
   "cell_type": "markdown",
   "metadata": {},
   "source": [
    "We load the data again, now from the compact representation. Much quicker. Still 40 seconds."
   ]
  },
  {
   "cell_type": "code",
   "execution_count": 3,
   "metadata": {},
   "outputs": [],
   "source": [
    "bhsa = readRDS(\n",
    "    file='../_temp/2017/r/bhsa2017.rds'\n",
    ")"
   ]
  },
  {
   "cell_type": "code",
   "execution_count": 4,
   "metadata": {},
   "outputs": [
    {
     "data": {
      "text/html": [
       "<style>\n",
       ".list-inline {list-style: none; margin:0; padding: 0}\n",
       ".list-inline>li {display: inline-block}\n",
       ".list-inline>li:not(:last-child)::after {content: \"\\00b7\"; padding: 0 .5ex}\n",
       "</style>\n",
       "<ol class=list-inline><li>1446635</li><li>101</li></ol>\n"
      ],
      "text/latex": [
       "\\begin{enumerate*}\n",
       "\\item 1446635\n",
       "\\item 101\n",
       "\\end{enumerate*}\n"
      ],
      "text/markdown": [
       "1. 1446635\n",
       "2. 101\n",
       "\n",
       "\n"
      ],
      "text/plain": [
       "[1] 1446635     101"
      ]
     },
     "metadata": {},
     "output_type": "display_data"
    }
   ],
   "source": [
    "dim(bhsa)"
   ]
  },
  {
   "cell_type": "code",
   "execution_count": 5,
   "metadata": {},
   "outputs": [
    {
     "data": {
      "text/html": [
       "<table class=\"dataframe\">\n",
       "<caption>A data.frame: 30 × 101</caption>\n",
       "<thead>\n",
       "\t<tr><th></th><th scope=col>n</th><th scope=col>otype</th><th scope=col>in.lex</th><th scope=col>in.subphrase</th><th scope=col>in.phrase_atom</th><th scope=col>in.phrase</th><th scope=col>in.clause_atom</th><th scope=col>in.clause</th><th scope=col>in.sentence_atom</th><th scope=col>in.sentence</th><th scope=col>⋯</th><th scope=col>txt</th><th scope=col>typ</th><th scope=col>uvf</th><th scope=col>vbe</th><th scope=col>vbs</th><th scope=col>verse</th><th scope=col>voc_lex</th><th scope=col>voc_lex_utf8</th><th scope=col>vs</th><th scope=col>vt</th></tr>\n",
       "\t<tr><th></th><th scope=col>&lt;int&gt;</th><th scope=col>&lt;chr&gt;</th><th scope=col>&lt;int&gt;</th><th scope=col>&lt;int&gt;</th><th scope=col>&lt;int&gt;</th><th scope=col>&lt;int&gt;</th><th scope=col>&lt;int&gt;</th><th scope=col>&lt;int&gt;</th><th scope=col>&lt;int&gt;</th><th scope=col>&lt;int&gt;</th><th scope=col>⋯</th><th scope=col>&lt;chr&gt;</th><th scope=col>&lt;chr&gt;</th><th scope=col>&lt;chr&gt;</th><th scope=col>&lt;chr&gt;</th><th scope=col>&lt;chr&gt;</th><th scope=col>&lt;int&gt;</th><th scope=col>&lt;chr&gt;</th><th scope=col>&lt;chr&gt;</th><th scope=col>&lt;chr&gt;</th><th scope=col>&lt;chr&gt;</th></tr>\n",
       "</thead>\n",
       "<tbody>\n",
       "\t<tr><th scope=row>1</th><td> 426585</td><td>book         </td><td>     NA</td><td>     NA</td><td>    NA</td><td>    NA</td><td>    NA</td><td>    NA</td><td>     NA</td><td>     NA</td><td>⋯</td><td> </td><td>    </td><td>      </td><td>   </td><td>      </td><td>NA</td><td>         </td><td>     </td><td>   </td><td>    </td></tr>\n",
       "\t<tr><th scope=row>2</th><td> 426624</td><td>chapter      </td><td>     NA</td><td>     NA</td><td>    NA</td><td>    NA</td><td>    NA</td><td>    NA</td><td>     NA</td><td>     NA</td><td>⋯</td><td> </td><td>    </td><td>      </td><td>   </td><td>      </td><td>NA</td><td>         </td><td>     </td><td>   </td><td>    </td></tr>\n",
       "\t<tr><th scope=row>3</th><td>1414190</td><td>verse        </td><td>     NA</td><td>     NA</td><td>    NA</td><td>    NA</td><td>515654</td><td>427553</td><td>1235920</td><td>1172209</td><td>⋯</td><td> </td><td>    </td><td>      </td><td>   </td><td>      </td><td> 1</td><td>         </td><td>     </td><td>   </td><td>    </td></tr>\n",
       "\t<tr><th scope=row>4</th><td>1172209</td><td>sentence     </td><td>     NA</td><td>     NA</td><td>    NA</td><td>    NA</td><td>515654</td><td>427553</td><td>1235920</td><td>     NA</td><td>⋯</td><td> </td><td>    </td><td>      </td><td>   </td><td>      </td><td>NA</td><td>         </td><td>     </td><td>   </td><td>    </td></tr>\n",
       "\t<tr><th scope=row>5</th><td>1235920</td><td>sentence_atom</td><td>     NA</td><td>     NA</td><td>    NA</td><td>    NA</td><td>515654</td><td>427553</td><td>     NA</td><td>1172209</td><td>⋯</td><td> </td><td>    </td><td>      </td><td>   </td><td>      </td><td>NA</td><td>         </td><td>     </td><td>   </td><td>    </td></tr>\n",
       "\t<tr><th scope=row>6</th><td> 427553</td><td>clause       </td><td>     NA</td><td>     NA</td><td>    NA</td><td>    NA</td><td>515654</td><td>    NA</td><td>1235920</td><td>1172209</td><td>⋯</td><td>?</td><td>xQtX</td><td>      </td><td>   </td><td>      </td><td>NA</td><td>         </td><td>     </td><td>   </td><td>    </td></tr>\n",
       "\t<tr><th scope=row>7</th><td> 515654</td><td>clause_atom  </td><td>     NA</td><td>     NA</td><td>    NA</td><td>    NA</td><td>    NA</td><td>427553</td><td>1235920</td><td>1172209</td><td>⋯</td><td> </td><td>xQtX</td><td>      </td><td>   </td><td>      </td><td>NA</td><td>         </td><td>     </td><td>   </td><td>    </td></tr>\n",
       "\t<tr><th scope=row>8</th><td> 606323</td><td>half_verse   </td><td>     NA</td><td>     NA</td><td>    NA</td><td>    NA</td><td>515654</td><td>427553</td><td>1235920</td><td>1172209</td><td>⋯</td><td> </td><td>    </td><td>      </td><td>   </td><td>      </td><td>NA</td><td>         </td><td>     </td><td>   </td><td>    </td></tr>\n",
       "\t<tr><th scope=row>9</th><td> 651503</td><td>phrase       </td><td>     NA</td><td>     NA</td><td>904690</td><td>    NA</td><td>515654</td><td>427553</td><td>1235920</td><td>1172209</td><td>⋯</td><td> </td><td>PP  </td><td>      </td><td>   </td><td>      </td><td>NA</td><td>         </td><td>     </td><td>   </td><td>    </td></tr>\n",
       "\t<tr><th scope=row>10</th><td> 904690</td><td>phrase_atom  </td><td>     NA</td><td>     NA</td><td>    NA</td><td>651503</td><td>515654</td><td>427553</td><td>1235920</td><td>1172209</td><td>⋯</td><td> </td><td>PP  </td><td>      </td><td>   </td><td>      </td><td>NA</td><td>         </td><td>     </td><td>   </td><td>    </td></tr>\n",
       "\t<tr><th scope=row>11</th><td>1437403</td><td>lex          </td><td>     NA</td><td>     NA</td><td>    NA</td><td>    NA</td><td>    NA</td><td>    NA</td><td>     NA</td><td>     NA</td><td>⋯</td><td> </td><td>    </td><td>      </td><td>   </td><td>      </td><td>NA</td><td>B.:      </td><td>בְּ    </td><td>   </td><td>    </td></tr>\n",
       "\t<tr><th scope=row>12</th><td>      1</td><td>word         </td><td>1437403</td><td>     NA</td><td>904690</td><td>651503</td><td>515654</td><td>427553</td><td>1235920</td><td>1172209</td><td>⋯</td><td> </td><td>    </td><td>absent</td><td>n/a</td><td>n/a   </td><td>NA</td><td>         </td><td>     </td><td>NA </td><td>NA  </td></tr>\n",
       "\t<tr><th scope=row>13</th><td>1437404</td><td><span style=white-space:pre-wrap>lex          </span></td><td><span style=white-space:pre-wrap>     NA</span></td><td><span style=white-space:pre-wrap>     NA</span></td><td><span style=white-space:pre-wrap>    NA</span></td><td><span style=white-space:pre-wrap>    NA</span></td><td><span style=white-space:pre-wrap>    NA</span></td><td><span style=white-space:pre-wrap>    NA</span></td><td><span style=white-space:pre-wrap>     NA</span></td><td><span style=white-space:pre-wrap>     NA</span></td><td>⋯</td><td> </td><td><span style=white-space:pre-wrap>    </span></td><td><span style=white-space:pre-wrap>      </span></td><td><span style=white-space:pre-wrap>   </span></td><td><span style=white-space:pre-wrap>      </span></td><td>NA</td><td><span style=white-space:pre-wrap>R;&gt;CIJT  </span></td><td>רֵאשִׁית</td><td><span style=white-space:pre-wrap>   </span></td><td><span style=white-space:pre-wrap>    </span></td></tr>\n",
       "\t<tr><th scope=row>14</th><td>      2</td><td>word         </td><td>1437404</td><td>     NA</td><td>904690</td><td>651503</td><td>515654</td><td>427553</td><td>1235920</td><td>1172209</td><td>⋯</td><td> </td><td>    </td><td>absent</td><td>n/a</td><td>n/a   </td><td>NA</td><td>         </td><td>     </td><td>NA </td><td>NA  </td></tr>\n",
       "\t<tr><th scope=row>15</th><td>1437405</td><td><span style=white-space:pre-wrap>lex          </span></td><td><span style=white-space:pre-wrap>     NA</span></td><td><span style=white-space:pre-wrap>     NA</span></td><td><span style=white-space:pre-wrap>    NA</span></td><td><span style=white-space:pre-wrap>    NA</span></td><td><span style=white-space:pre-wrap>    NA</span></td><td><span style=white-space:pre-wrap>    NA</span></td><td><span style=white-space:pre-wrap>     NA</span></td><td><span style=white-space:pre-wrap>     NA</span></td><td>⋯</td><td> </td><td><span style=white-space:pre-wrap>    </span></td><td><span style=white-space:pre-wrap>      </span></td><td><span style=white-space:pre-wrap>   </span></td><td><span style=white-space:pre-wrap>      </span></td><td>NA</td><td><span style=white-space:pre-wrap>BR&gt;      </span></td><td><span style=white-space:pre-wrap>ברא  </span></td><td><span style=white-space:pre-wrap>   </span></td><td><span style=white-space:pre-wrap>    </span></td></tr>\n",
       "\t<tr><th scope=row>16</th><td> 651504</td><td>phrase       </td><td>1437405</td><td>     NA</td><td>904691</td><td>    NA</td><td>515654</td><td>427553</td><td>1235920</td><td>1172209</td><td>⋯</td><td> </td><td>VP  </td><td>      </td><td>   </td><td>      </td><td>NA</td><td>         </td><td>     </td><td>   </td><td>    </td></tr>\n",
       "\t<tr><th scope=row>17</th><td> 904691</td><td>phrase_atom  </td><td>1437405</td><td>     NA</td><td>    NA</td><td>651504</td><td>515654</td><td>427553</td><td>1235920</td><td>1172209</td><td>⋯</td><td> </td><td>VP  </td><td>      </td><td>   </td><td>      </td><td>NA</td><td>         </td><td>     </td><td>   </td><td>    </td></tr>\n",
       "\t<tr><th scope=row>18</th><td>      3</td><td>word         </td><td>1437405</td><td>     NA</td><td>904691</td><td>651504</td><td>515654</td><td>427553</td><td>1235920</td><td>1172209</td><td>⋯</td><td> </td><td>    </td><td>absent</td><td>   </td><td>absent</td><td>NA</td><td>         </td><td>     </td><td>qal</td><td>perf</td></tr>\n",
       "\t<tr><th scope=row>19</th><td>1437406</td><td><span style=white-space:pre-wrap>lex          </span></td><td><span style=white-space:pre-wrap>     NA</span></td><td><span style=white-space:pre-wrap>     NA</span></td><td><span style=white-space:pre-wrap>    NA</span></td><td><span style=white-space:pre-wrap>    NA</span></td><td><span style=white-space:pre-wrap>    NA</span></td><td><span style=white-space:pre-wrap>    NA</span></td><td><span style=white-space:pre-wrap>     NA</span></td><td><span style=white-space:pre-wrap>     NA</span></td><td>⋯</td><td> </td><td><span style=white-space:pre-wrap>    </span></td><td><span style=white-space:pre-wrap>      </span></td><td><span style=white-space:pre-wrap>   </span></td><td><span style=white-space:pre-wrap>      </span></td><td>NA</td><td>&gt;:ELOHIJM</td><td>אֱלֹהִים</td><td><span style=white-space:pre-wrap>   </span></td><td><span style=white-space:pre-wrap>    </span></td></tr>\n",
       "\t<tr><th scope=row>20</th><td> 651505</td><td>phrase       </td><td>1437406</td><td>     NA</td><td>904692</td><td>    NA</td><td>515654</td><td>427553</td><td>1235920</td><td>1172209</td><td>⋯</td><td> </td><td>NP  </td><td>      </td><td>   </td><td>      </td><td>NA</td><td>         </td><td>     </td><td>   </td><td>    </td></tr>\n",
       "\t<tr><th scope=row>21</th><td> 904692</td><td>phrase_atom  </td><td>1437406</td><td>     NA</td><td>    NA</td><td>651505</td><td>515654</td><td>427553</td><td>1235920</td><td>1172209</td><td>⋯</td><td> </td><td>NP  </td><td>      </td><td>   </td><td>      </td><td>NA</td><td>         </td><td>     </td><td>   </td><td>    </td></tr>\n",
       "\t<tr><th scope=row>22</th><td>      4</td><td>word         </td><td>1437406</td><td>     NA</td><td>904692</td><td>651505</td><td>515654</td><td>427553</td><td>1235920</td><td>1172209</td><td>⋯</td><td> </td><td>    </td><td>absent</td><td>n/a</td><td>n/a   </td><td>NA</td><td>         </td><td>     </td><td>NA </td><td>NA  </td></tr>\n",
       "\t<tr><th scope=row>23</th><td> 606324</td><td>half_verse   </td><td>     NA</td><td>     NA</td><td>904693</td><td>651506</td><td>515654</td><td>427553</td><td>1235920</td><td>1172209</td><td>⋯</td><td> </td><td>    </td><td>      </td><td>   </td><td>      </td><td>NA</td><td>         </td><td>     </td><td>   </td><td>    </td></tr>\n",
       "\t<tr><th scope=row>24</th><td> 651506</td><td>phrase       </td><td>     NA</td><td>     NA</td><td>904693</td><td>    NA</td><td>515654</td><td>427553</td><td>1235920</td><td>1172209</td><td>⋯</td><td> </td><td>PP  </td><td>      </td><td>   </td><td>      </td><td>NA</td><td>         </td><td>     </td><td>   </td><td>    </td></tr>\n",
       "\t<tr><th scope=row>25</th><td> 904693</td><td>phrase_atom  </td><td>     NA</td><td>     NA</td><td>    NA</td><td>651506</td><td>515654</td><td>427553</td><td>1235920</td><td>1172209</td><td>⋯</td><td> </td><td>PP  </td><td>      </td><td>   </td><td>      </td><td>NA</td><td>         </td><td>     </td><td>   </td><td>    </td></tr>\n",
       "\t<tr><th scope=row>26</th><td>1300406</td><td>subphrase    </td><td>     NA</td><td>     NA</td><td>904693</td><td>651506</td><td>515654</td><td>427553</td><td>1235920</td><td>1172209</td><td>⋯</td><td> </td><td>    </td><td>      </td><td>   </td><td>      </td><td>NA</td><td>         </td><td>     </td><td>   </td><td>    </td></tr>\n",
       "\t<tr><th scope=row>27</th><td>1437407</td><td><span style=white-space:pre-wrap>lex          </span></td><td><span style=white-space:pre-wrap>     NA</span></td><td><span style=white-space:pre-wrap>     NA</span></td><td><span style=white-space:pre-wrap>    NA</span></td><td><span style=white-space:pre-wrap>    NA</span></td><td><span style=white-space:pre-wrap>    NA</span></td><td><span style=white-space:pre-wrap>    NA</span></td><td><span style=white-space:pre-wrap>     NA</span></td><td><span style=white-space:pre-wrap>     NA</span></td><td>⋯</td><td> </td><td><span style=white-space:pre-wrap>    </span></td><td><span style=white-space:pre-wrap>      </span></td><td><span style=white-space:pre-wrap>   </span></td><td><span style=white-space:pre-wrap>      </span></td><td>NA</td><td><span style=white-space:pre-wrap>&gt;;T      </span></td><td><span style=white-space:pre-wrap>אֵת   </span></td><td><span style=white-space:pre-wrap>   </span></td><td><span style=white-space:pre-wrap>    </span></td></tr>\n",
       "\t<tr><th scope=row>28</th><td>      5</td><td>word         </td><td>1437407</td><td>1300406</td><td>904693</td><td>651506</td><td>515654</td><td>427553</td><td>1235920</td><td>1172209</td><td>⋯</td><td> </td><td>    </td><td>absent</td><td>n/a</td><td>n/a   </td><td>NA</td><td>         </td><td>     </td><td>NA </td><td>NA  </td></tr>\n",
       "\t<tr><th scope=row>29</th><td>1437408</td><td>lex          </td><td>     NA</td><td>     NA</td><td>    NA</td><td>    NA</td><td>    NA</td><td>    NA</td><td>     NA</td><td>     NA</td><td>⋯</td><td> </td><td>    </td><td>      </td><td>   </td><td>      </td><td>NA</td><td>HA       </td><td>הַ    </td><td>   </td><td>    </td></tr>\n",
       "\t<tr><th scope=row>30</th><td>      6</td><td>word         </td><td>1437408</td><td>1300406</td><td>904693</td><td>651506</td><td>515654</td><td>427553</td><td>1235920</td><td>1172209</td><td>⋯</td><td> </td><td>    </td><td>absent</td><td>n/a</td><td>n/a   </td><td>NA</td><td>         </td><td>     </td><td>NA </td><td>NA  </td></tr>\n",
       "</tbody>\n",
       "</table>\n"
      ],
      "text/latex": [
       "A data.frame: 30 × 101\n",
       "\\begin{tabular}{r|lllllllllllllllllllll}\n",
       "  & n & otype & in.lex & in.subphrase & in.phrase\\_atom & in.phrase & in.clause\\_atom & in.clause & in.sentence\\_atom & in.sentence & ⋯ & txt & typ & uvf & vbe & vbs & verse & voc\\_lex & voc\\_lex\\_utf8 & vs & vt\\\\\n",
       "  & <int> & <chr> & <int> & <int> & <int> & <int> & <int> & <int> & <int> & <int> & ⋯ & <chr> & <chr> & <chr> & <chr> & <chr> & <int> & <chr> & <chr> & <chr> & <chr>\\\\\n",
       "\\hline\n",
       "\t1 &  426585 & book          &      NA &      NA &     NA &     NA &     NA &     NA &      NA &      NA & ⋯ &   &      &        &     &        & NA &           &       &     &     \\\\\n",
       "\t2 &  426624 & chapter       &      NA &      NA &     NA &     NA &     NA &     NA &      NA &      NA & ⋯ &   &      &        &     &        & NA &           &       &     &     \\\\\n",
       "\t3 & 1414190 & verse         &      NA &      NA &     NA &     NA & 515654 & 427553 & 1235920 & 1172209 & ⋯ &   &      &        &     &        &  1 &           &       &     &     \\\\\n",
       "\t4 & 1172209 & sentence      &      NA &      NA &     NA &     NA & 515654 & 427553 & 1235920 &      NA & ⋯ &   &      &        &     &        & NA &           &       &     &     \\\\\n",
       "\t5 & 1235920 & sentence\\_atom &      NA &      NA &     NA &     NA & 515654 & 427553 &      NA & 1172209 & ⋯ &   &      &        &     &        & NA &           &       &     &     \\\\\n",
       "\t6 &  427553 & clause        &      NA &      NA &     NA &     NA & 515654 &     NA & 1235920 & 1172209 & ⋯ & ? & xQtX &        &     &        & NA &           &       &     &     \\\\\n",
       "\t7 &  515654 & clause\\_atom   &      NA &      NA &     NA &     NA &     NA & 427553 & 1235920 & 1172209 & ⋯ &   & xQtX &        &     &        & NA &           &       &     &     \\\\\n",
       "\t8 &  606323 & half\\_verse    &      NA &      NA &     NA &     NA & 515654 & 427553 & 1235920 & 1172209 & ⋯ &   &      &        &     &        & NA &           &       &     &     \\\\\n",
       "\t9 &  651503 & phrase        &      NA &      NA & 904690 &     NA & 515654 & 427553 & 1235920 & 1172209 & ⋯ &   & PP   &        &     &        & NA &           &       &     &     \\\\\n",
       "\t10 &  904690 & phrase\\_atom   &      NA &      NA &     NA & 651503 & 515654 & 427553 & 1235920 & 1172209 & ⋯ &   & PP   &        &     &        & NA &           &       &     &     \\\\\n",
       "\t11 & 1437403 & lex           &      NA &      NA &     NA &     NA &     NA &     NA &      NA &      NA & ⋯ &   &      &        &     &        & NA & B.:       & בְּ     &     &     \\\\\n",
       "\t12 &       1 & word          & 1437403 &      NA & 904690 & 651503 & 515654 & 427553 & 1235920 & 1172209 & ⋯ &   &      & absent & n/a & n/a    & NA &           &       & NA  & NA  \\\\\n",
       "\t13 & 1437404 & lex           &      NA &      NA &     NA &     NA &     NA &     NA &      NA &      NA & ⋯ &   &      &        &     &        & NA & R;>CIJT   & רֵאשִׁית &     &     \\\\\n",
       "\t14 &       2 & word          & 1437404 &      NA & 904690 & 651503 & 515654 & 427553 & 1235920 & 1172209 & ⋯ &   &      & absent & n/a & n/a    & NA &           &       & NA  & NA  \\\\\n",
       "\t15 & 1437405 & lex           &      NA &      NA &     NA &     NA &     NA &     NA &      NA &      NA & ⋯ &   &      &        &     &        & NA & BR>       & ברא   &     &     \\\\\n",
       "\t16 &  651504 & phrase        & 1437405 &      NA & 904691 &     NA & 515654 & 427553 & 1235920 & 1172209 & ⋯ &   & VP   &        &     &        & NA &           &       &     &     \\\\\n",
       "\t17 &  904691 & phrase\\_atom   & 1437405 &      NA &     NA & 651504 & 515654 & 427553 & 1235920 & 1172209 & ⋯ &   & VP   &        &     &        & NA &           &       &     &     \\\\\n",
       "\t18 &       3 & word          & 1437405 &      NA & 904691 & 651504 & 515654 & 427553 & 1235920 & 1172209 & ⋯ &   &      & absent &     & absent & NA &           &       & qal & perf\\\\\n",
       "\t19 & 1437406 & lex           &      NA &      NA &     NA &     NA &     NA &     NA &      NA &      NA & ⋯ &   &      &        &     &        & NA & >:ELOHIJM & אֱלֹהִים &     &     \\\\\n",
       "\t20 &  651505 & phrase        & 1437406 &      NA & 904692 &     NA & 515654 & 427553 & 1235920 & 1172209 & ⋯ &   & NP   &        &     &        & NA &           &       &     &     \\\\\n",
       "\t21 &  904692 & phrase\\_atom   & 1437406 &      NA &     NA & 651505 & 515654 & 427553 & 1235920 & 1172209 & ⋯ &   & NP   &        &     &        & NA &           &       &     &     \\\\\n",
       "\t22 &       4 & word          & 1437406 &      NA & 904692 & 651505 & 515654 & 427553 & 1235920 & 1172209 & ⋯ &   &      & absent & n/a & n/a    & NA &           &       & NA  & NA  \\\\\n",
       "\t23 &  606324 & half\\_verse    &      NA &      NA & 904693 & 651506 & 515654 & 427553 & 1235920 & 1172209 & ⋯ &   &      &        &     &        & NA &           &       &     &     \\\\\n",
       "\t24 &  651506 & phrase        &      NA &      NA & 904693 &     NA & 515654 & 427553 & 1235920 & 1172209 & ⋯ &   & PP   &        &     &        & NA &           &       &     &     \\\\\n",
       "\t25 &  904693 & phrase\\_atom   &      NA &      NA &     NA & 651506 & 515654 & 427553 & 1235920 & 1172209 & ⋯ &   & PP   &        &     &        & NA &           &       &     &     \\\\\n",
       "\t26 & 1300406 & subphrase     &      NA &      NA & 904693 & 651506 & 515654 & 427553 & 1235920 & 1172209 & ⋯ &   &      &        &     &        & NA &           &       &     &     \\\\\n",
       "\t27 & 1437407 & lex           &      NA &      NA &     NA &     NA &     NA &     NA &      NA &      NA & ⋯ &   &      &        &     &        & NA & >;T       & אֵת    &     &     \\\\\n",
       "\t28 &       5 & word          & 1437407 & 1300406 & 904693 & 651506 & 515654 & 427553 & 1235920 & 1172209 & ⋯ &   &      & absent & n/a & n/a    & NA &           &       & NA  & NA  \\\\\n",
       "\t29 & 1437408 & lex           &      NA &      NA &     NA &     NA &     NA &     NA &      NA &      NA & ⋯ &   &      &        &     &        & NA & HA        & הַ     &     &     \\\\\n",
       "\t30 &       6 & word          & 1437408 & 1300406 & 904693 & 651506 & 515654 & 427553 & 1235920 & 1172209 & ⋯ &   &      & absent & n/a & n/a    & NA &           &       & NA  & NA  \\\\\n",
       "\\end{tabular}\n"
      ],
      "text/markdown": [
       "\n",
       "A data.frame: 30 × 101\n",
       "\n",
       "| <!--/--> | n &lt;int&gt; | otype &lt;chr&gt; | in.lex &lt;int&gt; | in.subphrase &lt;int&gt; | in.phrase_atom &lt;int&gt; | in.phrase &lt;int&gt; | in.clause_atom &lt;int&gt; | in.clause &lt;int&gt; | in.sentence_atom &lt;int&gt; | in.sentence &lt;int&gt; | ⋯ ⋯ | txt &lt;chr&gt; | typ &lt;chr&gt; | uvf &lt;chr&gt; | vbe &lt;chr&gt; | vbs &lt;chr&gt; | verse &lt;int&gt; | voc_lex &lt;chr&gt; | voc_lex_utf8 &lt;chr&gt; | vs &lt;chr&gt; | vt &lt;chr&gt; |\n",
       "|---|---|---|---|---|---|---|---|---|---|---|---|---|---|---|---|---|---|---|---|---|---|\n",
       "| 1 |  426585 | book          |      NA |      NA |     NA |     NA |     NA |     NA |      NA |      NA | ⋯ | <!----> | <!----> | <!----> | <!----> | <!----> | NA | <!----> | <!----> | <!----> | <!----> |\n",
       "| 2 |  426624 | chapter       |      NA |      NA |     NA |     NA |     NA |     NA |      NA |      NA | ⋯ | <!----> | <!----> | <!----> | <!----> | <!----> | NA | <!----> | <!----> | <!----> | <!----> |\n",
       "| 3 | 1414190 | verse         |      NA |      NA |     NA |     NA | 515654 | 427553 | 1235920 | 1172209 | ⋯ | <!----> | <!----> | <!----> | <!----> | <!----> |  1 | <!----> | <!----> | <!----> | <!----> |\n",
       "| 4 | 1172209 | sentence      |      NA |      NA |     NA |     NA | 515654 | 427553 | 1235920 |      NA | ⋯ | <!----> | <!----> | <!----> | <!----> | <!----> | NA | <!----> | <!----> | <!----> | <!----> |\n",
       "| 5 | 1235920 | sentence_atom |      NA |      NA |     NA |     NA | 515654 | 427553 |      NA | 1172209 | ⋯ | <!----> | <!----> | <!----> | <!----> | <!----> | NA | <!----> | <!----> | <!----> | <!----> |\n",
       "| 6 |  427553 | clause        |      NA |      NA |     NA |     NA | 515654 |     NA | 1235920 | 1172209 | ⋯ | ? | xQtX | <!----> | <!----> | <!----> | NA | <!----> | <!----> | <!----> | <!----> |\n",
       "| 7 |  515654 | clause_atom   |      NA |      NA |     NA |     NA |     NA | 427553 | 1235920 | 1172209 | ⋯ | <!----> | xQtX | <!----> | <!----> | <!----> | NA | <!----> | <!----> | <!----> | <!----> |\n",
       "| 8 |  606323 | half_verse    |      NA |      NA |     NA |     NA | 515654 | 427553 | 1235920 | 1172209 | ⋯ | <!----> | <!----> | <!----> | <!----> | <!----> | NA | <!----> | <!----> | <!----> | <!----> |\n",
       "| 9 |  651503 | phrase        |      NA |      NA | 904690 |     NA | 515654 | 427553 | 1235920 | 1172209 | ⋯ | <!----> | PP   | <!----> | <!----> | <!----> | NA | <!----> | <!----> | <!----> | <!----> |\n",
       "| 10 |  904690 | phrase_atom   |      NA |      NA |     NA | 651503 | 515654 | 427553 | 1235920 | 1172209 | ⋯ | <!----> | PP   | <!----> | <!----> | <!----> | NA | <!----> | <!----> | <!----> | <!----> |\n",
       "| 11 | 1437403 | lex           |      NA |      NA |     NA |     NA |     NA |     NA |      NA |      NA | ⋯ | <!----> | <!----> | <!----> | <!----> | <!----> | NA | B.:       | בְּ     | <!----> | <!----> |\n",
       "| 12 |       1 | word          | 1437403 |      NA | 904690 | 651503 | 515654 | 427553 | 1235920 | 1172209 | ⋯ | <!----> | <!----> | absent | n/a | n/a    | NA | <!----> | <!----> | NA  | NA   |\n",
       "| 13 | 1437404 | lex           |      NA |      NA |     NA |     NA |     NA |     NA |      NA |      NA | ⋯ | <!----> | <!----> | <!----> | <!----> | <!----> | NA | R;&gt;CIJT   | רֵאשִׁית | <!----> | <!----> |\n",
       "| 14 |       2 | word          | 1437404 |      NA | 904690 | 651503 | 515654 | 427553 | 1235920 | 1172209 | ⋯ | <!----> | <!----> | absent | n/a | n/a    | NA | <!----> | <!----> | NA  | NA   |\n",
       "| 15 | 1437405 | lex           |      NA |      NA |     NA |     NA |     NA |     NA |      NA |      NA | ⋯ | <!----> | <!----> | <!----> | <!----> | <!----> | NA | BR&gt;       | ברא   | <!----> | <!----> |\n",
       "| 16 |  651504 | phrase        | 1437405 |      NA | 904691 |     NA | 515654 | 427553 | 1235920 | 1172209 | ⋯ | <!----> | VP   | <!----> | <!----> | <!----> | NA | <!----> | <!----> | <!----> | <!----> |\n",
       "| 17 |  904691 | phrase_atom   | 1437405 |      NA |     NA | 651504 | 515654 | 427553 | 1235920 | 1172209 | ⋯ | <!----> | VP   | <!----> | <!----> | <!----> | NA | <!----> | <!----> | <!----> | <!----> |\n",
       "| 18 |       3 | word          | 1437405 |      NA | 904691 | 651504 | 515654 | 427553 | 1235920 | 1172209 | ⋯ | <!----> | <!----> | absent | <!----> | absent | NA | <!----> | <!----> | qal | perf |\n",
       "| 19 | 1437406 | lex           |      NA |      NA |     NA |     NA |     NA |     NA |      NA |      NA | ⋯ | <!----> | <!----> | <!----> | <!----> | <!----> | NA | &gt;:ELOHIJM | אֱלֹהִים | <!----> | <!----> |\n",
       "| 20 |  651505 | phrase        | 1437406 |      NA | 904692 |     NA | 515654 | 427553 | 1235920 | 1172209 | ⋯ | <!----> | NP   | <!----> | <!----> | <!----> | NA | <!----> | <!----> | <!----> | <!----> |\n",
       "| 21 |  904692 | phrase_atom   | 1437406 |      NA |     NA | 651505 | 515654 | 427553 | 1235920 | 1172209 | ⋯ | <!----> | NP   | <!----> | <!----> | <!----> | NA | <!----> | <!----> | <!----> | <!----> |\n",
       "| 22 |       4 | word          | 1437406 |      NA | 904692 | 651505 | 515654 | 427553 | 1235920 | 1172209 | ⋯ | <!----> | <!----> | absent | n/a | n/a    | NA | <!----> | <!----> | NA  | NA   |\n",
       "| 23 |  606324 | half_verse    |      NA |      NA | 904693 | 651506 | 515654 | 427553 | 1235920 | 1172209 | ⋯ | <!----> | <!----> | <!----> | <!----> | <!----> | NA | <!----> | <!----> | <!----> | <!----> |\n",
       "| 24 |  651506 | phrase        |      NA |      NA | 904693 |     NA | 515654 | 427553 | 1235920 | 1172209 | ⋯ | <!----> | PP   | <!----> | <!----> | <!----> | NA | <!----> | <!----> | <!----> | <!----> |\n",
       "| 25 |  904693 | phrase_atom   |      NA |      NA |     NA | 651506 | 515654 | 427553 | 1235920 | 1172209 | ⋯ | <!----> | PP   | <!----> | <!----> | <!----> | NA | <!----> | <!----> | <!----> | <!----> |\n",
       "| 26 | 1300406 | subphrase     |      NA |      NA | 904693 | 651506 | 515654 | 427553 | 1235920 | 1172209 | ⋯ | <!----> | <!----> | <!----> | <!----> | <!----> | NA | <!----> | <!----> | <!----> | <!----> |\n",
       "| 27 | 1437407 | lex           |      NA |      NA |     NA |     NA |     NA |     NA |      NA |      NA | ⋯ | <!----> | <!----> | <!----> | <!----> | <!----> | NA | &gt;;T       | אֵת    | <!----> | <!----> |\n",
       "| 28 |       5 | word          | 1437407 | 1300406 | 904693 | 651506 | 515654 | 427553 | 1235920 | 1172209 | ⋯ | <!----> | <!----> | absent | n/a | n/a    | NA | <!----> | <!----> | NA  | NA   |\n",
       "| 29 | 1437408 | lex           |      NA |      NA |     NA |     NA |     NA |     NA |      NA |      NA | ⋯ | <!----> | <!----> | <!----> | <!----> | <!----> | NA | HA        | הַ     | <!----> | <!----> |\n",
       "| 30 |       6 | word          | 1437408 | 1300406 | 904693 | 651506 | 515654 | 427553 | 1235920 | 1172209 | ⋯ | <!----> | <!----> | absent | n/a | n/a    | NA | <!----> | <!----> | NA  | NA   |\n",
       "\n"
      ],
      "text/plain": [
       "   n       otype         in.lex  in.subphrase in.phrase_atom in.phrase\n",
       "1   426585 book               NA      NA          NA             NA   \n",
       "2   426624 chapter            NA      NA          NA             NA   \n",
       "3  1414190 verse              NA      NA          NA             NA   \n",
       "4  1172209 sentence           NA      NA          NA             NA   \n",
       "5  1235920 sentence_atom      NA      NA          NA             NA   \n",
       "6   427553 clause             NA      NA          NA             NA   \n",
       "7   515654 clause_atom        NA      NA          NA             NA   \n",
       "8   606323 half_verse         NA      NA          NA             NA   \n",
       "9   651503 phrase             NA      NA      904690             NA   \n",
       "10  904690 phrase_atom        NA      NA          NA         651503   \n",
       "11 1437403 lex                NA      NA          NA             NA   \n",
       "12       1 word          1437403      NA      904690         651503   \n",
       "13 1437404 lex                NA      NA          NA             NA   \n",
       "14       2 word          1437404      NA      904690         651503   \n",
       "15 1437405 lex                NA      NA          NA             NA   \n",
       "16  651504 phrase        1437405      NA      904691             NA   \n",
       "17  904691 phrase_atom   1437405      NA          NA         651504   \n",
       "18       3 word          1437405      NA      904691         651504   \n",
       "19 1437406 lex                NA      NA          NA             NA   \n",
       "20  651505 phrase        1437406      NA      904692             NA   \n",
       "21  904692 phrase_atom   1437406      NA          NA         651505   \n",
       "22       4 word          1437406      NA      904692         651505   \n",
       "23  606324 half_verse         NA      NA      904693         651506   \n",
       "24  651506 phrase             NA      NA      904693             NA   \n",
       "25  904693 phrase_atom        NA      NA          NA         651506   \n",
       "26 1300406 subphrase          NA      NA      904693         651506   \n",
       "27 1437407 lex                NA      NA          NA             NA   \n",
       "28       5 word          1437407 1300406      904693         651506   \n",
       "29 1437408 lex                NA      NA          NA             NA   \n",
       "30       6 word          1437408 1300406      904693         651506   \n",
       "   in.clause_atom in.clause in.sentence_atom in.sentence ⋯ txt typ  uvf    vbe\n",
       "1      NA             NA         NA               NA     ⋯                    \n",
       "2      NA             NA         NA               NA     ⋯                    \n",
       "3  515654         427553    1235920          1172209     ⋯                    \n",
       "4  515654         427553    1235920               NA     ⋯                    \n",
       "5  515654         427553         NA          1172209     ⋯                    \n",
       "6  515654             NA    1235920          1172209     ⋯ ?   xQtX           \n",
       "7      NA         427553    1235920          1172209     ⋯     xQtX           \n",
       "8  515654         427553    1235920          1172209     ⋯                    \n",
       "9  515654         427553    1235920          1172209     ⋯     PP             \n",
       "10 515654         427553    1235920          1172209     ⋯     PP             \n",
       "11     NA             NA         NA               NA     ⋯                    \n",
       "12 515654         427553    1235920          1172209     ⋯          absent n/a\n",
       "13     NA             NA         NA               NA     ⋯                    \n",
       "14 515654         427553    1235920          1172209     ⋯          absent n/a\n",
       "15     NA             NA         NA               NA     ⋯                    \n",
       "16 515654         427553    1235920          1172209     ⋯     VP             \n",
       "17 515654         427553    1235920          1172209     ⋯     VP             \n",
       "18 515654         427553    1235920          1172209     ⋯          absent    \n",
       "19     NA             NA         NA               NA     ⋯                    \n",
       "20 515654         427553    1235920          1172209     ⋯     NP             \n",
       "21 515654         427553    1235920          1172209     ⋯     NP             \n",
       "22 515654         427553    1235920          1172209     ⋯          absent n/a\n",
       "23 515654         427553    1235920          1172209     ⋯                    \n",
       "24 515654         427553    1235920          1172209     ⋯     PP             \n",
       "25 515654         427553    1235920          1172209     ⋯     PP             \n",
       "26 515654         427553    1235920          1172209     ⋯                    \n",
       "27     NA             NA         NA               NA     ⋯                    \n",
       "28 515654         427553    1235920          1172209     ⋯          absent n/a\n",
       "29     NA             NA         NA               NA     ⋯                    \n",
       "30 515654         427553    1235920          1172209     ⋯          absent n/a\n",
       "   vbs    verse voc_lex   voc_lex_utf8 vs  vt  \n",
       "1         NA                                   \n",
       "2         NA                                   \n",
       "3          1                                   \n",
       "4         NA                                   \n",
       "5         NA                                   \n",
       "6         NA                                   \n",
       "7         NA                                   \n",
       "8         NA                                   \n",
       "9         NA                                   \n",
       "10        NA                                   \n",
       "11        NA    B.:       בְּ                    \n",
       "12 n/a    NA                           NA  NA  \n",
       "13        NA    R;>CIJT   רֵאשִׁית                \n",
       "14 n/a    NA                           NA  NA  \n",
       "15        NA    BR>       ברא                  \n",
       "16        NA                                   \n",
       "17        NA                                   \n",
       "18 absent NA                           qal perf\n",
       "19        NA    >:ELOHIJM אֱלֹהִים                \n",
       "20        NA                                   \n",
       "21        NA                                   \n",
       "22 n/a    NA                           NA  NA  \n",
       "23        NA                                   \n",
       "24        NA                                   \n",
       "25        NA                                   \n",
       "26        NA                                   \n",
       "27        NA    >;T       אֵת                   \n",
       "28 n/a    NA                           NA  NA  \n",
       "29        NA    HA        הַ                    \n",
       "30 n/a    NA                           NA  NA  "
      ]
     },
     "metadata": {},
     "output_type": "display_data"
    }
   ],
   "source": [
    "head(bhsa, n=30)"
   ]
  },
  {
   "cell_type": "markdown",
   "metadata": {},
   "source": [
    "# Books\n",
    "\n",
    "Let us extract some data.\n",
    "First a list of the book names."
   ]
  },
  {
   "cell_type": "code",
   "execution_count": 6,
   "metadata": {},
   "outputs": [
    {
     "data": {
      "text/html": [
       "'Genesis Exodus Leviticus Numeri Deuteronomium Josua Judices Samuel_I Samuel_II Reges_I Reges_II Jesaia Jeremia Ezechiel Hosea Joel Amos Obadia Jona Micha Nahum Habakuk Zephania Haggai Sacharia Maleachi Psalmi Iob Proverbia Ruth Canticum Ecclesiastes Threni Esther Daniel Esra Nehemia Chronica_I Chronica_II'"
      ],
      "text/latex": [
       "'Genesis Exodus Leviticus Numeri Deuteronomium Josua Judices Samuel\\_I Samuel\\_II Reges\\_I Reges\\_II Jesaia Jeremia Ezechiel Hosea Joel Amos Obadia Jona Micha Nahum Habakuk Zephania Haggai Sacharia Maleachi Psalmi Iob Proverbia Ruth Canticum Ecclesiastes Threni Esther Daniel Esra Nehemia Chronica\\_I Chronica\\_II'"
      ],
      "text/markdown": [
       "'Genesis Exodus Leviticus Numeri Deuteronomium Josua Judices Samuel_I Samuel_II Reges_I Reges_II Jesaia Jeremia Ezechiel Hosea Joel Amos Obadia Jona Micha Nahum Habakuk Zephania Haggai Sacharia Maleachi Psalmi Iob Proverbia Ruth Canticum Ecclesiastes Threni Esther Daniel Esra Nehemia Chronica_I Chronica_II'"
      ],
      "text/plain": [
       "[1] \"Genesis Exodus Leviticus Numeri Deuteronomium Josua Judices Samuel_I Samuel_II Reges_I Reges_II Jesaia Jeremia Ezechiel Hosea Joel Amos Obadia Jona Micha Nahum Habakuk Zephania Haggai Sacharia Maleachi Psalmi Iob Proverbia Ruth Canticum Ecclesiastes Threni Esther Daniel Esra Nehemia Chronica_I Chronica_II\""
      ]
     },
     "metadata": {},
     "output_type": "display_data"
    }
   ],
   "source": [
    "books = bhsa$book[bhsa$otype == 'book']\n",
    "paste(books, collapse=' ')"
   ]
  },
  {
   "cell_type": "markdown",
   "metadata": {},
   "source": [
    "# Text\n",
    "\n",
    "Now the complete text of the whole bible."
   ]
  },
  {
   "cell_type": "code",
   "execution_count": 7,
   "metadata": {},
   "outputs": [],
   "source": [
    "words = which(bhsa$otype == 'word')\n",
    "text = paste(\n",
    "    bhsa$g_word_utf8[words], sub('׃', '׃\\n', bhsa$trailer_utf8[words]),\n",
    "    sep='', collapse=''\n",
    ")\n",
    "write(text, file='../_temp/2017/r/plainTextFromR.txt')"
   ]
  },
  {
   "cell_type": "markdown",
   "metadata": {},
   "source": [
    "# Drill down to a passage\n",
    "\n",
    "Let us get the part of speech of the words from the first verse:"
   ]
  },
  {
   "cell_type": "code",
   "execution_count": 8,
   "metadata": {},
   "outputs": [
    {
     "data": {
      "text/html": [
       "<style>\n",
       ".list-inline {list-style: none; margin:0; padding: 0}\n",
       ".list-inline>li {display: inline-block}\n",
       ".list-inline>li:not(:last-child)::after {content: \"\\00b7\"; padding: 0 .5ex}\n",
       "</style>\n",
       "<ol class=list-inline><li>1</li><li>2</li><li>3</li><li>4</li><li>5</li><li>6</li><li>7</li><li>8</li><li>9</li><li>10</li><li>11</li></ol>\n"
      ],
      "text/latex": [
       "\\begin{enumerate*}\n",
       "\\item 1\n",
       "\\item 2\n",
       "\\item 3\n",
       "\\item 4\n",
       "\\item 5\n",
       "\\item 6\n",
       "\\item 7\n",
       "\\item 8\n",
       "\\item 9\n",
       "\\item 10\n",
       "\\item 11\n",
       "\\end{enumerate*}\n"
      ],
      "text/markdown": [
       "1. 1\n",
       "2. 2\n",
       "3. 3\n",
       "4. 4\n",
       "5. 5\n",
       "6. 6\n",
       "7. 7\n",
       "8. 8\n",
       "9. 9\n",
       "10. 10\n",
       "11. 11\n",
       "\n",
       "\n"
      ],
      "text/plain": [
       " [1]  1  2  3  4  5  6  7  8  9 10 11"
      ]
     },
     "metadata": {},
     "output_type": "display_data"
    }
   ],
   "source": [
    "wordIds = bhsa$n[bhsa$otype=='word' & bhsa$in.verse==1414190]\n",
    "wordIds"
   ]
  },
  {
   "cell_type": "markdown",
   "metadata": {},
   "source": [
    "Now the *text* of the first verse."
   ]
  },
  {
   "cell_type": "code",
   "execution_count": 9,
   "metadata": {},
   "outputs": [
    {
     "data": {
      "text/html": [
       "<span style=white-space:pre-wrap>'בְּ רֵאשִׁ֖ית  בָּרָ֣א  אֱלֹהִ֑ים  אֵ֥ת  הַ שָּׁמַ֖יִם  וְ אֵ֥ת  הָ אָֽרֶץ ׃\\n '</span>"
      ],
      "text/latex": [
       "'בְּ רֵאשִׁ֖ית  בָּרָ֣א  אֱלֹהִ֑ים  אֵ֥ת  הַ שָּׁמַ֖יִם  וְ אֵ֥ת  הָ אָֽרֶץ ׃\\textbackslash{}n '"
      ],
      "text/markdown": [
       "<span style=white-space:pre-wrap>'בְּ רֵאשִׁ֖ית  בָּרָ֣א  אֱלֹהִ֑ים  אֵ֥ת  הַ שָּׁמַ֖יִם  וְ אֵ֥ת  הָ אָֽרֶץ ׃\\n '</span>"
      ],
      "text/plain": [
       "[1] \"בְּ רֵאשִׁ֖ית  בָּרָ֣א  אֱלֹהִ֑ים  אֵ֥ת  הַ שָּׁמַ֖יִם  וְ אֵ֥ת  הָ אָֽרֶץ ׃\\n \""
      ]
     },
     "metadata": {},
     "output_type": "display_data"
    }
   ],
   "source": [
    "words = which(bhsa$n %in% wordIds)\n",
    "gsub('׃', '׃\\n',\n",
    "    paste(bhsa$g_word_utf8[words], bhsa$trailer_utf8[words], collapse='')\n",
    ")"
   ]
  },
  {
   "cell_type": "markdown",
   "metadata": {},
   "source": [
    "Let us get the words and text of an arbitrary passage, say Psalmi 131:2"
   ]
  },
  {
   "cell_type": "code",
   "execution_count": 10,
   "metadata": {},
   "outputs": [
    {
     "data": {
      "text/html": [
       "1431613"
      ],
      "text/latex": [
       "1431613"
      ],
      "text/markdown": [
       "1431613"
      ],
      "text/plain": [
       "[1] 1431613"
      ]
     },
     "metadata": {},
     "output_type": "display_data"
    },
    {
     "data": {
      "text/html": [
       "<style>\n",
       ".list-inline {list-style: none; margin:0; padding: 0}\n",
       ".list-inline>li {display: inline-block}\n",
       ".list-inline>li:not(:last-child)::after {content: \"\\00b7\"; padding: 0 .5ex}\n",
       "</style>\n",
       "<ol class=list-inline><li>333421</li><li>333422</li><li>333423</li><li>333424</li><li>333425</li><li>333426</li><li>333427</li><li>333428</li><li>333429</li><li>333430</li><li>333431</li><li>333432</li><li>333433</li><li>333434</li><li>333435</li></ol>\n"
      ],
      "text/latex": [
       "\\begin{enumerate*}\n",
       "\\item 333421\n",
       "\\item 333422\n",
       "\\item 333423\n",
       "\\item 333424\n",
       "\\item 333425\n",
       "\\item 333426\n",
       "\\item 333427\n",
       "\\item 333428\n",
       "\\item 333429\n",
       "\\item 333430\n",
       "\\item 333431\n",
       "\\item 333432\n",
       "\\item 333433\n",
       "\\item 333434\n",
       "\\item 333435\n",
       "\\end{enumerate*}\n"
      ],
      "text/markdown": [
       "1. 333421\n",
       "2. 333422\n",
       "3. 333423\n",
       "4. 333424\n",
       "5. 333425\n",
       "6. 333426\n",
       "7. 333427\n",
       "8. 333428\n",
       "9. 333429\n",
       "10. 333430\n",
       "11. 333431\n",
       "12. 333432\n",
       "13. 333433\n",
       "14. 333434\n",
       "15. 333435\n",
       "\n",
       "\n"
      ],
      "text/plain": [
       " [1] 333421 333422 333423 333424 333425 333426 333427 333428 333429 333430\n",
       "[11] 333431 333432 333433 333434 333435"
      ]
     },
     "metadata": {},
     "output_type": "display_data"
    },
    {
     "data": {
      "text/html": [
       "<span style=white-space:pre-wrap>'אִם ־לֹ֤א  שִׁוִּ֨יתִי ׀ וְ דֹומַ֗מְתִּי  נַ֫פְשִׁ֥י  כְּ֭ גָמֻל  עֲלֵ֣י  אִמֹּ֑ו  כַּ  גָּמֻ֖ל  עָלַ֣י  נַפְשִֽׁי ׃\\n '</span>"
      ],
      "text/latex": [
       "'אִם ־לֹ֤א  שִׁוִּ֨יתִי ׀ וְ דֹומַ֗מְתִּי  נַ֫פְשִׁ֥י  כְּ֭ גָמֻל  עֲלֵ֣י  אִמֹּ֑ו  כַּ  גָּמֻ֖ל  עָלַ֣י  נַפְשִֽׁי ׃\\textbackslash{}n '"
      ],
      "text/markdown": [
       "<span style=white-space:pre-wrap>'אִם ־לֹ֤א  שִׁוִּ֨יתִי ׀ וְ דֹומַ֗מְתִּי  נַ֫פְשִׁ֥י  כְּ֭ גָמֻל  עֲלֵ֣י  אִמֹּ֑ו  כַּ  גָּמֻ֖ל  עָלַ֣י  נַפְשִֽׁי ׃\\n '</span>"
      ],
      "text/plain": [
       "[1] \"אִם ־לֹ֤א  שִׁוִּ֨יתִי ׀ וְ דֹומַ֗מְתִּי  נַ֫פְשִׁ֥י  כְּ֭ גָמֻל  עֲלֵ֣י  אִמֹּ֑ו  כַּ  גָּמֻ֖ל  עָלַ֣י  נַפְשִֽׁי ׃\\n \""
      ]
     },
     "metadata": {},
     "output_type": "display_data"
    }
   ],
   "source": [
    "verseId = bhsa$n[bhsa$otype == 'verse' & bhsa$book == 'Psalmi' & bhsa$chapter == 131 & bhsa$verse == 2]\n",
    "verseId\n",
    "wordIds = bhsa$n[bhsa$otype=='word' & bhsa$in.verse == verseId]\n",
    "wordIds\n",
    "words = which(bhsa$n %in% wordIds)\n",
    "gsub('׃', '׃\\n',\n",
    "    paste(bhsa$g_word_utf8[words], bhsa$trailer_utf8[words], collapse='')\n",
    ")"
   ]
  },
  {
   "cell_type": "markdown",
   "metadata": {},
   "source": [
    "Now let us organize this in two functions: one that returns the verse object given a passage, and one that prints the texts of the words in a given object."
   ]
  },
  {
   "cell_type": "code",
   "execution_count": 11,
   "metadata": {},
   "outputs": [],
   "source": [
    "object2text = function(n) {\n",
    "    otype = bhsa$otype[bhsa$n == n]\n",
    "    wordIds = eval(parse(text=paste(\"bhsa$n[bhsa$otype=='word' & bhsa$in.\", otype, '==n]', sep='')))\n",
    "    words = which(bhsa$n %in% wordIds)\n",
    "    return(gsub('׃', '׃\\n',\n",
    "        paste(bhsa$g_word_utf8[words], bhsa$trailer_utf8[words], collapse='')\n",
    "    ))\n",
    "}\n",
    "\n",
    "verse2object = function(book, chapter, verse) {\n",
    "    return(bhsa$n[bhsa$otype == 'verse' & bhsa$book == book & bhsa$chapter == chapter & bhsa$verse == verse])\n",
    "}\n",
    "verse2text = function(book, chapter, verse) {\n",
    "    return(object2text(verse2object(book, chapter, verse)))\n",
    "}\n",
    "chapter2object = function(book, chapter) {\n",
    "    return(bhsa$n[bhsa$otype == 'chapter' & bhsa$book == book & bhsa$chapter == chapter])\n",
    "}\n",
    "chapter2text = function(book, chapter) {\n",
    "    return(object2text(chapter2object(book, chapter)))\n",
    "}"
   ]
  },
  {
   "cell_type": "code",
   "execution_count": 12,
   "metadata": {},
   "outputs": [
    {
     "name": "stdout",
     "output_type": "stream",
     "text": [
      "אִם ־לֹ֤א  שִׁוִּ֨יתִי ׀ וְ דֹומַ֗מְתִּי  נַ֫פְשִׁ֥י  כְּ֭ גָמֻל  עֲלֵ֣י  אִמֹּ֑ו  כַּ  גָּמֻ֖ל  עָלַ֣י  נַפְשִֽׁי ׃\n",
      " "
     ]
    }
   ],
   "source": [
    "cat(verse2text('Psalmi', 131, 2))"
   ]
  },
  {
   "cell_type": "code",
   "execution_count": 13,
   "metadata": {},
   "outputs": [
    {
     "name": "stdout",
     "output_type": "stream",
     "text": [
      "שִׁ֥יר  הַֽ מַּֽעֲלֹ֗ות  לְ דָ֫וִ֥ד  יְהוָ֤ה ׀ לֹא ־גָבַ֣הּ  לִ֭בִּי  וְ לֹא ־רָמ֣וּ  עֵינַ֑י  וְ לֹֽא ־הִלַּ֓כְתִּי ׀ בִּ גְדֹלֹ֖ות  וּ בְ נִפְלָאֹ֣ות  מִמֶּֽנִּי ׃\n",
      " אִם ־לֹ֤א  שִׁוִּ֨יתִי ׀ וְ דֹומַ֗מְתִּי  נַ֫פְשִׁ֥י  כְּ֭ גָמֻל  עֲלֵ֣י  אִמֹּ֑ו  כַּ  גָּמֻ֖ל  עָלַ֣י  נַפְשִֽׁי ׃\n",
      " יַחֵ֣ל  יִ֝שְׂרָאֵל  אֶל ־יְהוָ֑ה  מֵֽ֝ עַתָּ֗ה  וְ עַד ־עֹולָֽם ׃\n",
      " "
     ]
    }
   ],
   "source": [
    "cat(chapter2text('Psalmi', 131))"
   ]
  },
  {
   "cell_type": "markdown",
   "metadata": {},
   "source": [
    "# Bi-grams\n",
    "\n",
    "We make a column of verse-bound bi-grams of lexemes. The two lexemes are separated by an underscore `_`."
   ]
  },
  {
   "cell_type": "code",
   "execution_count": 14,
   "metadata": {},
   "outputs": [],
   "source": [
    "vsNext = bhsa$in.verse[bhsa$otype=='word'][-1]\n",
    "vsPrev = bhsa$in.verse[bhsa$otype=='word'][-length(bhsa)]\n",
    "\n",
    "lex = bhsa$g_lex_utf8[bhsa$otype=='word']\n",
    "lexNext = bhsa$g_lex_utf8[bhsa$otype=='word'][-1]\n",
    "lastInVs = vsPrev != vsNext\n",
    "\n",
    "lexNext[lastInVs] = ''\n",
    "\n",
    "bigram = paste(\n",
    "    lex,\n",
    "    lexNext,\n",
    "    sep='_'\n",
    ")"
   ]
  },
  {
   "cell_type": "code",
   "execution_count": 15,
   "metadata": {},
   "outputs": [
    {
     "data": {
      "text/html": [
       "<style>\n",
       ".list-inline {list-style: none; margin:0; padding: 0}\n",
       ".list-inline>li {display: inline-block}\n",
       ".list-inline>li:not(:last-child)::after {content: \"\\00b7\"; padding: 0 .5ex}\n",
       "</style>\n",
       "<ol class=list-inline><li>'בְּ_רֵאשִׁית'</li><li>'רֵאשִׁית_בָּרָא'</li><li>'בָּרָא_אֱלֹה'</li><li>'אֱלֹה_אֵת'</li><li>'אֵת_הַ'</li><li>'הַ_שָּׁמַי'</li><li>'שָּׁמַי_וְ'</li><li>'וְ_אֵת'</li><li>'אֵת_הָ'</li><li>'הָ_אָרֶץ'</li><li>'אָרֶץ_'</li><li>'וְ_הָ'</li><li>'הָ_אָרֶץ'</li><li>'אָרֶץ_הָי'</li><li>'הָי_תֹהוּ'</li><li>'תֹהוּ_וָ'</li><li>'וָ_בֹהוּ'</li><li>'בֹהוּ_וְ'</li><li>'וְ_חֹשֶׁךְ'</li><li>'חֹשֶׁךְ_עַל'</li><li>'עַל_פְּן'</li><li>'פְּן_תְהֹום'</li><li>'תְהֹום_וְ'</li><li>'וְ_רוּחַ'</li><li>'רוּחַ_אֱלֹה'</li><li>'אֱלֹה_רַחֶף'</li><li>'רַחֶף_עַל'</li><li>'עַל_פְּן'</li><li>'פְּן_הַ'</li><li>'הַ_מָּי'</li></ol>\n"
      ],
      "text/latex": [
       "\\begin{enumerate*}\n",
       "\\item 'בְּ\\_רֵאשִׁית'\n",
       "\\item 'רֵאשִׁית\\_בָּרָא'\n",
       "\\item 'בָּרָא\\_אֱלֹה'\n",
       "\\item 'אֱלֹה\\_אֵת'\n",
       "\\item 'אֵת\\_הַ'\n",
       "\\item 'הַ\\_שָּׁמַי'\n",
       "\\item 'שָּׁמַי\\_וְ'\n",
       "\\item 'וְ\\_אֵת'\n",
       "\\item 'אֵת\\_הָ'\n",
       "\\item 'הָ\\_אָרֶץ'\n",
       "\\item 'אָרֶץ\\_'\n",
       "\\item 'וְ\\_הָ'\n",
       "\\item 'הָ\\_אָרֶץ'\n",
       "\\item 'אָרֶץ\\_הָי'\n",
       "\\item 'הָי\\_תֹהוּ'\n",
       "\\item 'תֹהוּ\\_וָ'\n",
       "\\item 'וָ\\_בֹהוּ'\n",
       "\\item 'בֹהוּ\\_וְ'\n",
       "\\item 'וְ\\_חֹשֶׁךְ'\n",
       "\\item 'חֹשֶׁךְ\\_עַל'\n",
       "\\item 'עַל\\_פְּן'\n",
       "\\item 'פְּן\\_תְהֹום'\n",
       "\\item 'תְהֹום\\_וְ'\n",
       "\\item 'וְ\\_רוּחַ'\n",
       "\\item 'רוּחַ\\_אֱלֹה'\n",
       "\\item 'אֱלֹה\\_רַחֶף'\n",
       "\\item 'רַחֶף\\_עַל'\n",
       "\\item 'עַל\\_פְּן'\n",
       "\\item 'פְּן\\_הַ'\n",
       "\\item 'הַ\\_מָּי'\n",
       "\\end{enumerate*}\n"
      ],
      "text/markdown": [
       "1. 'בְּ_רֵאשִׁית'\n",
       "2. 'רֵאשִׁית_בָּרָא'\n",
       "3. 'בָּרָא_אֱלֹה'\n",
       "4. 'אֱלֹה_אֵת'\n",
       "5. 'אֵת_הַ'\n",
       "6. 'הַ_שָּׁמַי'\n",
       "7. 'שָּׁמַי_וְ'\n",
       "8. 'וְ_אֵת'\n",
       "9. 'אֵת_הָ'\n",
       "10. 'הָ_אָרֶץ'\n",
       "11. 'אָרֶץ_'\n",
       "12. 'וְ_הָ'\n",
       "13. 'הָ_אָרֶץ'\n",
       "14. 'אָרֶץ_הָי'\n",
       "15. 'הָי_תֹהוּ'\n",
       "16. 'תֹהוּ_וָ'\n",
       "17. 'וָ_בֹהוּ'\n",
       "18. 'בֹהוּ_וְ'\n",
       "19. 'וְ_חֹשֶׁךְ'\n",
       "20. 'חֹשֶׁךְ_עַל'\n",
       "21. 'עַל_פְּן'\n",
       "22. 'פְּן_תְהֹום'\n",
       "23. 'תְהֹום_וְ'\n",
       "24. 'וְ_רוּחַ'\n",
       "25. 'רוּחַ_אֱלֹה'\n",
       "26. 'אֱלֹה_רַחֶף'\n",
       "27. 'רַחֶף_עַל'\n",
       "28. 'עַל_פְּן'\n",
       "29. 'פְּן_הַ'\n",
       "30. 'הַ_מָּי'\n",
       "\n",
       "\n"
      ],
      "text/plain": [
       " [1] \"בְּ_רֵאשִׁית\"   \"רֵאשִׁית_בָּרָא\" \"בָּרָא_אֱלֹה\"   \"אֱלֹה_אֵת\"    \"אֵת_הַ\"      \"הַ_שָּׁמַי\"    \n",
       " [7] \"שָּׁמַי_וְ\"     \"וְ_אֵת\"      \"אֵת_הָ\"      \"הָ_אָרֶץ\"     \"אָרֶץ_\"      \"וְ_הָ\"      \n",
       "[13] \"הָ_אָרֶץ\"     \"אָרֶץ_הָי\"    \"הָי_תֹהוּ\"    \"תֹהוּ_וָ\"     \"וָ_בֹהוּ\"     \"בֹהוּ_וְ\"    \n",
       "[19] \"וְ_חֹשֶׁךְ\"     \"חֹשֶׁךְ_עַל\"    \"עַל_פְּן\"     \"פְּן_תְהֹום\"   \"תְהֹום_וְ\"    \"וְ_רוּחַ\"    \n",
       "[25] \"רוּחַ_אֱלֹה\"   \"אֱלֹה_רַחֶף\"   \"רַחֶף_עַל\"    \"עַל_פְּן\"     \"פְּן_הַ\"      \"הַ_מָּי\"     "
      ]
     },
     "metadata": {},
     "output_type": "display_data"
    }
   ],
   "source": [
    "head(bigram, n=30)"
   ]
  },
  {
   "cell_type": "code",
   "execution_count": 16,
   "metadata": {},
   "outputs": [
    {
     "data": {
      "text/html": [
       "<style>\n",
       ".list-inline {list-style: none; margin:0; padding: 0}\n",
       ".list-inline>li {display: inline-block}\n",
       ".list-inline>li:not(:last-child)::after {content: \"\\00b7\"; padding: 0 .5ex}\n",
       "</style>\n",
       "<ol class=list-inline><li>1414190</li><li>1414190</li></ol>\n"
      ],
      "text/latex": [
       "\\begin{enumerate*}\n",
       "\\item 1414190\n",
       "\\item 1414190\n",
       "\\end{enumerate*}\n"
      ],
      "text/markdown": [
       "1. 1414190\n",
       "2. 1414190\n",
       "\n",
       "\n"
      ],
      "text/plain": [
       "[1] 1414190 1414190"
      ]
     },
     "metadata": {},
     "output_type": "display_data"
    }
   ],
   "source": [
    "vsNext[0:2]"
   ]
  },
  {
   "cell_type": "code",
   "execution_count": 17,
   "metadata": {},
   "outputs": [
    {
     "data": {
      "text/html": [
       "<style>\n",
       ".list-inline {list-style: none; margin:0; padding: 0}\n",
       ".list-inline>li {display: inline-block}\n",
       ".list-inline>li:not(:last-child)::after {content: \"\\00b7\"; padding: 0 .5ex}\n",
       "</style>\n",
       "<ol class=list-inline><li>1414190</li><li>1414190</li></ol>\n"
      ],
      "text/latex": [
       "\\begin{enumerate*}\n",
       "\\item 1414190\n",
       "\\item 1414190\n",
       "\\end{enumerate*}\n"
      ],
      "text/markdown": [
       "1. 1414190\n",
       "2. 1414190\n",
       "\n",
       "\n"
      ],
      "text/plain": [
       "[1] 1414190 1414190"
      ]
     },
     "metadata": {},
     "output_type": "display_data"
    }
   ],
   "source": [
    "vsPrev[0:2]"
   ]
  },
  {
   "cell_type": "code",
   "execution_count": null,
   "metadata": {
    "collapsed": true,
    "jupyter": {
     "outputs_hidden": true
    }
   },
   "outputs": [],
   "source": []
  }
 ],
 "metadata": {
  "jupytext": {
   "encoding": "# -*- coding: utf-8 -*-"
  },
  "kernelspec": {
   "display_name": "R",
   "language": "R",
   "name": "ir"
  },
  "language_info": {
   "codemirror_mode": "r",
   "file_extension": ".r",
   "mimetype": "text/x-r-source",
   "name": "R",
   "pygments_lexer": "r",
   "version": "4.0.5"
  },
  "widgets": {
   "application/vnd.jupyter.widget-state+json": {
    "state": {},
    "version_major": 2,
    "version_minor": 0
   }
  }
 },
 "nbformat": 4,
 "nbformat_minor": 4
}
